{
 "cells": [
  {
   "cell_type": "markdown",
   "metadata": {
    "slideshow": {
     "slide_type": "slide"
    }
   },
   "source": [
    "<p style=\"font-size: 3rem; font-weight: bold;\">NTUEE Computer Programming</p>\n",
    "\n",
    "# Week14 - Lec1. Network Introduction"
   ]
  },
  {
   "cell_type": "markdown",
   "metadata": {
    "slideshow": {
     "slide_type": "subslide"
    }
   },
   "source": [
    "## Tools\n",
    "\n",
    "Install the tools first.\n",
    "\n",
    "### netcat\n",
    "**windows**\n",
    "- donwload the [netcat executable](https://nmap.org/dist/nmap-7.91-win32.zip) from [nmap website](https://nmap.org/download.html), found `ncat.exe`, or\n",
    "\n",
    "**mac**: `brew install netcat`\n",
    "\n",
    "**linux**: `sudo apt-get install netcat`"
   ]
  },
  {
   "cell_type": "markdown",
   "metadata": {
    "slideshow": {
     "slide_type": "slide"
    }
   },
   "source": [
    "## URL\n",
    "Uniform Resource Locator (URL)\n",
    "```\n",
    "                          path\n",
    "                       ┌───┴────┐\n",
    "  http://example.com:80/path/data?key=value&key2=value2#fragid1\n",
    "  └┬─┘   └────┬────┘ ├┘           └─────────┬─────────┘ └──┬──┘\n",
    "scheme     host     port                  query         fragment\n",
    "\n",
    "\n",
    "\n",
    "  https://docs.python.org/3/library/collections.html?highlight=counter#collections.Counter\n",
    "  └─┬─┘   └────┬────────┘└─────────────┬───────────┘└───────┬────────┘ └───────┬─────────┘\n",
    " scheme       host                    path                query             fragment\n",
    "```"
   ]
  },
  {
   "cell_type": "markdown",
   "metadata": {
    "slideshow": {
     "slide_type": "subslide"
    }
   },
   "source": [
    "### Host, Port\n",
    "Host is like an island, each island has its own longitude and latitude. We go to island by ships or airplanes through specific entrances, and the entrances are ports.\n",
    "\n",
    "A network **host** is a **computer** or other device connected to a computer network. A host may work as a server offering information resources, services, and applications to users or other hosts on the network. And a **port** is a **communication endpoint**.\n",
    "\n",
    "When entering a host, we can give **hostname** or **ip address**.\n",
    "\n",
    "A **hostname** is a **label** that is assigned to a device connected to a computer network and that is used to identify the device in various forms of electronic communication, such as the World Wide Web. Hostnames may be simple names consisting of a single word or phrase, or they may be structured.\n",
    "\n",
    "A hostname can be resolved to ip address by DNS.\n",
    "\n",
    "- hostname example: http://nol.ntu.edu.tw\n",
    "- ip address example: http://140.112.161.28\n",
    "\n",
    "**special host**\n",
    "- `localhost` = `127.0.0.1`: my home"
   ]
  },
  {
   "cell_type": "markdown",
   "metadata": {
    "slideshow": {
     "slide_type": "subslide"
    }
   },
   "source": [
    "### Ping <span style=\"color:red\">Exercise</span>\n",
    "\n",
    "ping is a tool to check whether the host exists, it also shows the ip of the hostname.\n",
    "\n",
    "```sh\n",
    "ping localhost\n",
    "ping -4 localhost\n",
    "ping www.ntu.edu.tw\n",
    "ping not_exist.com\n",
    "```\n",
    "\n",
    "### ip command <span style=\"color:red\">Exercise</span>\n",
    "\n",
    "This command shows your internal ip and network config\n",
    "\n",
    "- windows: `ipconfig`\n",
    "- macOS: `ifconfig`\n",
    "- linux: try `ip -c addr`, if it fails, use `ifconfig`"
   ]
  },
  {
   "cell_type": "markdown",
   "metadata": {
    "slideshow": {
     "slide_type": "subslide"
    }
   },
   "source": [
    "#### Example output for `ipconfig`\n",
    "```\n",
    "C:\\Users\\user>ipconfig\n",
    "\n",
    "Windows IP 設定\n",
    "\n",
    "\n",
    "乙太網路卡 Ethernet0:\n",
    "\n",
    "   連線特定 DNS 尾碼 . . . . . . . . : localdomain\n",
    "   連結-本機 IPv6 位址 . . . . . . . : fe80::751f:d42b:a3bb:fefa%4\n",
    "   IPv4 位址 . . . . . . . . . . . . : 192.168.0.87\n",
    "   子網路遮罩 . . . . . . . . . . . .: 255.255.255.0\n",
    "   預設閘道 . . . . . . . . . . . . .: 192.168.0.2\n",
    "\n",
    "乙太網路卡 藍牙網路連線:\n",
    "\n",
    "   媒體狀態 . . . . . . . . . . . . .: 媒體已中斷連線\n",
    "   連線特定 DNS 尾碼 . . . . . . . . :\n",
    "```"
   ]
  },
  {
   "cell_type": "markdown",
   "metadata": {
    "slideshow": {
     "slide_type": "subslide"
    }
   },
   "source": [
    "#### Example output for `ifconfig`\n",
    "```\n",
    "wlp2s0: flags=4163<UP,BROADCAST,RUNNING,MULTICAST>  mtu 1500\n",
    "        inet 192.168.0.87  netmask 255.255.0.0  broadcast 192.168.0.255\n",
    "        inet6 fe80::9cc2:4d52:1fdf:fd5f  prefixlen 64  scopeid 0x20<link>\n",
    "        ether 9c:b6:d0:ba:4b:bb  txqueuelen 1000  (Ethernet)\n",
    "        RX packets 466682  bytes 617358736 (617.3 MB)\n",
    "        RX errors 0  dropped 0  overruns 0  frame 0\n",
    "        TX packets 80249  bytes 13484362 (13.4 MB)\n",
    "        TX errors 0  dropped 0 overruns 0  carrier 0  collisions 0\n",
    "```"
   ]
  },
  {
   "cell_type": "markdown",
   "metadata": {
    "slideshow": {
     "slide_type": "subslide"
    }
   },
   "source": [
    "#### Example output for `ip -c addr`\n",
    "<div style=\"white-space: pre-wrap; font-family: monospace;\">\n",
    "2: <span style=\"color: #02979a\">wlp2s0</span>: &lt;BROADCAST,MULTICAST,UP,LOWER_UP&gt; mtu 1500 qdisc mq state <span style=\"color: #4c9a05;\">UP</span> group default qlen 1000\n",
    "    link/ether <span style=\"color: #c3a002;\">9c:b6:d0:ba:4b:bb</span> brd <span style=\"color: #c3a002;\">ff:ff:ff:ff:ff:ff</span>\n",
    "    inet <span style=\"color: #744b68;\">10.118.123.80</span>/16 brd <span style=\"color: #744b68;\">10.118.255.255</span> scope global dynamic noprefixroute wlp2s0\n",
    "       valid_lft 255030sec preferred_lft 255030sec\n",
    "    inet6 <span style=\"color: #325d9d;\">fe80::9cc2:4d52:1fdf:fd5f</span>/64 scope link noprefixroute\n",
    "       valid_lft forever preferred_lft forever\n",
    "<div>"
   ]
  },
  {
   "cell_type": "markdown",
   "metadata": {
    "slideshow": {
     "slide_type": "subslide"
    }
   },
   "source": [
    "### scheme\n",
    "Examples of popular schemes include `http`, `https`, `ftp`, `mailto`, `file`, `data`, and `irc`.\n",
    "\n",
    "`http` is default to 80 port, `https` is default to 443 port, so the port can be omitted\n",
    "\n",
    "scheme specifies the **protocol**, different protocols have different format. We will introduce http later.\n",
    "\n",
    "### Path, Query\n",
    "paths usually map to files relative to a specific directory, but it doesn't have to be. Query will be sent to backend, if the server supports query function, you can see different results.\n",
    "\n",
    "### Fragment\n",
    "Browser doesn't send fragment part to server, it is offen used for locating page position."
   ]
  },
  {
   "cell_type": "markdown",
   "metadata": {
    "slideshow": {
     "slide_type": "subslide"
    }
   },
   "source": [
    "### <span style=\"color:red\">Exercise</span>\n",
    "```sh\n",
    "python3 -m http.server\n",
    "```\n",
    "\n",
    "connect to the python server and try different path."
   ]
  },
  {
   "cell_type": "markdown",
   "metadata": {},
   "source": [
    "## HTML\n",
    "HyperText Markup Language\n",
    "\n",
    "Web browsers receive HTML documents from a web server or from local storage and render the documents into multimedia web pages.\n",
    "\n",
    "HTML elements are delineated by **tags**, written using angle brackets.\n",
    "\n",
    "Tags such as `<img />` and `<input />` directly introduce content into the page. Other tags such as `<p>`, `</p>` surround and provide information about document text and may include other tags as sub-elements."
   ]
  },
  {
   "cell_type": "markdown",
   "metadata": {
    "slideshow": {
     "slide_type": "subslide"
    }
   },
   "source": [
    "![](https://www.computerhope.com/jargon/h/html-tag.gif)"
   ]
  },
  {
   "cell_type": "markdown",
   "metadata": {
    "slideshow": {
     "slide_type": "subslide"
    }
   },
   "source": [
    "The following is an example of basic html\n",
    "\n",
    "```html\n",
    "<!DOCTYPE html>\n",
    "<html>\n",
    "  <head>\n",
    "    <title>This is a title</title>\n",
    "  </head>\n",
    "  <body>\n",
    "    <div>\n",
    "        <p>Hello world!</p>\n",
    "    </div>\n",
    "  </body>\n",
    "</html>\n",
    "```\n",
    "\n",
    "The HTML document type declaration `<!DOCTYPE html>` triggers standards mode rendering.\n",
    "\n",
    "The text between `<html>` and `</html>` describes the web page, and the text between `<body>` and `</body>` is the visible page content. The markup text `<title>This is a title</title>` defines the browser page title, and the tag `<div>` defines a division of the page used for easy styling."
   ]
  },
  {
   "cell_type": "markdown",
   "metadata": {
    "slideshow": {
     "slide_type": "subslide"
    }
   },
   "source": [
    "### <span style=\"color:red\">Exercise</span>\n",
    "Save this as `index.html` and run `python3 -m http.server` in the same directory, open your browser to check what happened.\n",
    "\n",
    "Press `<F12>` in your browser to open developer tools, go to the Network tab, how many rows are there?"
   ]
  },
  {
   "cell_type": "markdown",
   "metadata": {
    "slideshow": {
     "slide_type": "subslide"
    }
   },
   "source": [
    "### Add more tags\n",
    "```html\n",
    "<!DOCTYPE html>\n",
    "<html>\n",
    "  <head>\n",
    "    <title>This is a title</title>\n",
    "  </head>\n",
    "  <body>\n",
    "    <div>\n",
    "      <p>Hello world!</p>\n",
    "      <button>Button</button>\n",
    "    </div>\n",
    "    <div>\n",
    "      <img src=\"https://www.python.org/static/img/python-logo@2x.png\">\n",
    "    </div>\n",
    "  </body>\n",
    "</html>\n",
    "\n",
    "```\n",
    "\n",
    "The `<img>` tag doesn't have an closing tag, we specify the image url in `src` attribute.\n",
    "\n",
    "The `<button>` tag is a button.\n",
    "\n",
    "Save and refresh, how many rows are there in network tab?"
   ]
  },
  {
   "cell_type": "markdown",
   "metadata": {
    "slideshow": {
     "slide_type": "subslide"
    }
   },
   "source": [
    "### Add external resource\n",
    "\n",
    "We add a line to our `<head>` tag:\n",
    "\n",
    "`<link href=\"https://cdn.jsdelivr.net/npm/bootstrap@5.0.0-beta1/dist/css/bootstrap.min.css\" rel=\"stylesheet\" integrity=\"sha384-giJF6kkoqNQ00vy+HMDP7azOuL0xtbfIcaT9wjKHr8RbDVddVHyTfAAsrekwKmP1\" crossorigin=\"anonymous\">`\n",
    "\n",
    "Our `index.html` becomes:\n",
    "```html\n",
    "<!DOCTYPE html>\n",
    "<html>\n",
    "  <head>\n",
    "    <title>This is a title</title>\n",
    "    <link href=\"https://cdn.jsdelivr.net/npm/bootstrap@5.0.0-beta1/dist/css/bootstrap.min.css\" rel=\"stylesheet\" integrity=\"sha384-giJF6kkoqNQ00vy+HMDP7azOuL0xtbfIcaT9wjKHr8RbDVddVHyTfAAsrekwKmP1\" crossorigin=\"anonymous\">\n",
    "  </head>\n",
    "  <body>\n",
    "    <div>\n",
    "      <p>Hello world!</p>\n",
    "      <button>Button</button>\n",
    "    </div>\n",
    "    <div>\n",
    "      <img src=\"https://www.python.org/static/img/python-logo@2x.png\">\n",
    "    </div>\n",
    "  </body>\n",
    "</html>\n",
    "```\n",
    "\n",
    "The `<link>` tag can load external files to change how your html looks like, even you didn't change your body.\n",
    "\n",
    "There are other tags like `<script>` can load external files and change the behaviour when you click a button.\n",
    "\n",
    "Save and refresh, how many rows are there in network tab?"
   ]
  },
  {
   "cell_type": "markdown",
   "metadata": {
    "slideshow": {
     "slide_type": "subslide"
    }
   },
   "source": [
    "### HTML conclusion\n",
    "**Tags** are the basic elements in html, and they compose the html file.\n",
    "\n",
    "html can load **external resources**, so you may see something that are not in the original html."
   ]
  },
  {
   "cell_type": "markdown",
   "metadata": {
    "slideshow": {
     "slide_type": "subslide"
    }
   },
   "source": [
    "## JSON\n",
    "JSON(JavaScript Object Notation)\n",
    "\n",
    "json is data interchange format, that uses human-readable text to store and transmit data. JSON is a language-independent data format\n",
    "\n",
    "The format is very common on internet.\n",
    "\n",
    "### Data type\n",
    "- Number\n",
    "- String\n",
    "- Boolean: either of the values `true` or `false`\n",
    "- Array\n",
    "- Object: a collection of name-value pairs where the names (also called keys) are strings. Each key is unique within an object. Objects are delimited with curly brackets and use commas to separate each pair, while within each pair the colon ':' character separates the key or name from its value.\n",
    "- null: an empty value, using the word null\n"
   ]
  },
  {
   "cell_type": "markdown",
   "metadata": {
    "slideshow": {
     "slide_type": "subslide"
    }
   },
   "source": [
    "The following example shows a possible JSON representation describing a person.\n",
    "```json\n",
    "{\n",
    "  \"firstName\": \"John\",\n",
    "  \"lastName\": \"Smith\",\n",
    "  \"isAlive\": true,\n",
    "  \"age\": 27,\n",
    "  \"address\": {\n",
    "    \"streetAddress\": \"21 2nd Street\",\n",
    "    \"city\": \"New York\",\n",
    "    \"state\": \"NY\",\n",
    "    \"postalCode\": \"10021-3100\"\n",
    "  },\n",
    "  \"phoneNumbers\": [\n",
    "    {\n",
    "      \"type\": \"home\",\n",
    "      \"number\": \"212 555-1234\"\n",
    "    },\n",
    "    {\n",
    "      \"type\": \"office\",\n",
    "      \"number\": \"646 555-4567\"\n",
    "    }\n",
    "  ],\n",
    "  \"children\": [],\n",
    "  \"spouse\": null\n",
    "}\n",
    "```"
   ]
  },
  {
   "cell_type": "markdown",
   "metadata": {
    "slideshow": {
     "slide_type": "slide"
    }
   },
   "source": [
    "## Hypertext Transfer Protocol\n",
    "The Hypertext Transfer Protocol (HTTP) is an application layer protocol for distributed, collaborative, hypermedia information systems."
   ]
  },
  {
   "cell_type": "markdown",
   "metadata": {
    "slideshow": {
     "slide_type": "subslide"
    }
   },
   "source": [
    "### HTTP session state\n",
    "HTTP is a **stateless** protocol. A stateless protocol does not require the HTTP server to retain information or status about each user for the duration of multiple requests. However, some web applications implement states or server side sessions using for instance HTTP cookies or hidden variables within web forms."
   ]
  },
  {
   "cell_type": "markdown",
   "metadata": {
    "slideshow": {
     "slide_type": "subslide"
    }
   },
   "source": [
    "### Message format\n",
    "HTTP requests, and responses, share similar structure and are composed of:\n",
    "\n",
    "1. A start-line describing the requests to be implemented, or its status of whether successful or a failure. This start-line is always a single line.\n",
    "2. An optional set of HTTP headers specifying the request, or describing the body included in the message.\n",
    "3. A blank line indicating all meta-information for the request has been sent.\n",
    "4. An optional body containing data associated with the request (like content of an HTML form), or the document associated with a response. The presence of the body and its size is specified by the start-line and HTTP headers.\n",
    "\n",
    "![](https://mdn.mozillademos.org/files/13827/HTTPMsgStructure2.png)"
   ]
  },
  {
   "cell_type": "markdown",
   "metadata": {
    "slideshow": {
     "slide_type": "subslide"
    }
   },
   "source": [
    "### HTTP start-line\n",
    "**Request**\n",
    "\n",
    "```\n",
    "GET / HTTP/1.1\n",
    "└┬┘ │ └──┬───┘\n",
    " │  │  HTTP version\n",
    " │ request target (URL)\n",
    "HTTP method\n",
    "```\n",
    "\n",
    "**Response**\n",
    "\n",
    "```\n",
    "HTTP/1.1 200 OK\n",
    "└──┬───┘ └┬┘ ├┘\n",
    "   │      │  status text\n",
    "   │   status code\n",
    "HTTP version\n",
    "```"
   ]
  },
  {
   "cell_type": "markdown",
   "metadata": {
    "slideshow": {
     "slide_type": "subslide"
    }
   },
   "source": [
    "### HTTP request methods\n",
    "HTTP defines a set of request methods to indicate the desired action to be performed for a given resource. Although they can also be nouns, these request methods are sometimes referred to as HTTP verbs. Each of them implements a different semantic, but some common features are shared by a group of them: e.g. a request method can be safe, idempotent, or cacheable.\n",
    "\n",
    "**GET**\n",
    "\n",
    "The GET method requests a representation of the specified resource. Requests using GET should only retrieve data.\n",
    "\n",
    "**HEAD**\n",
    "\n",
    "The HEAD method asks for a response identical to that of a GET request, but without the response body.\n",
    "\n",
    "**POST**\n",
    "\n",
    "The POST method is used to submit an entity to the specified resource, often causing a change in state or side effects on the server.\n",
    "\n",
    "**PUT**\n",
    "\n",
    "The PUT method replaces all current representations of the target resource with the request payload.\n",
    "\n",
    "**DELETE**\n",
    "\n",
    "The DELETE method deletes the specified resource."
   ]
  },
  {
   "cell_type": "markdown",
   "metadata": {
    "slideshow": {
     "slide_type": "subslide"
    }
   },
   "source": [
    "### HTTP status codes\n",
    "HTTP response status codes indicate whether a specific HTTP request has been successfully completed. Responses are grouped in five classes:\n",
    "\n",
    "1. Informational responses (100–199),\n",
    "2. Successful responses (200–299),\n",
    "3. Redirects (300–399),\n",
    "4. Client errors (400–499),\n",
    "5. and Server errors (500–599)."
   ]
  },
  {
   "cell_type": "markdown",
   "metadata": {
    "slideshow": {
     "slide_type": "subslide"
    }
   },
   "source": [
    "**Common Responses**\n",
    "\n",
    "- 200 OK, The request has succeeded\n",
    "- 301 Moved Permanently, The URL of the requested resource has been changed permanently. The new URL is given in the response.\n",
    "- 302 Found, This response code means that the URI of requested resource has been changed temporarily\n",
    "- 403 Forbidden, The client does not have access rights to the content; that is, it is unauthorized\n",
    "- 404 Not Found, The server can not find the requested resource.\n",
    "- 500 Internal Server Error, The server has encountered a situation it doesn't know how to handle.\n",
    "\n",
    "https://http.cat/"
   ]
  },
  {
   "cell_type": "markdown",
   "metadata": {
    "slideshow": {
     "slide_type": "subslide"
    }
   },
   "source": [
    "[![](https://http.cat/200)](https://http.cat/)"
   ]
  },
  {
   "cell_type": "markdown",
   "metadata": {
    "slideshow": {
     "slide_type": "subslide"
    }
   },
   "source": [
    "#### Request\n",
    "\n",
    "```sh\n",
    "nc www.ntu.edu.tw 80\n",
    "# > GET / HTTP/1.1<Enter>\n",
    "# > <Enter>\n",
    "# Ctrl + C to quit\n",
    "\n",
    "nc example.com 80\n",
    "# > GET / HTTP/1.1<Enter>\n",
    "# > Host: example.com<Enter>\n",
    "# > <Enter>\n",
    "# Ctrl + C to quit\n",
    "\n",
    "```"
   ]
  },
  {
   "cell_type": "markdown",
   "metadata": {
    "slideshow": {
     "slide_type": "subslide"
    }
   },
   "source": [
    "#### Response\n",
    "- windows method 1: `the/path/nmap-7.91/ncat.exe -lvp 8080`\n",
    "- windows method 2, linux: `nc -lvp 8080`\n",
    "- macOS: `nc -l 8080`\n",
    "\n",
    "```sh\n",
    "nc -lvp 8080\n",
    "# open localhost:8080 in browser\n",
    "# > HTTP/1.1 200 OK<Enter>\n",
    "# > Content-Length: 80<Enter>\n",
    "# > Connection: close<Enter>\n",
    "# > <Enter>\n",
    "# > <html><head><title>The Title</title></head><body><h1>Hello!!</h1></body></html>\n",
    "# Ctrl + C to quit\n",
    "```"
   ]
  },
  {
   "cell_type": "markdown",
   "metadata": {
    "slideshow": {
     "slide_type": "slide"
    }
   },
   "source": [
    "## Internet protocol suite"
   ]
  },
  {
   "cell_type": "markdown",
   "metadata": {
    "slideshow": {
     "slide_type": "subslide"
    }
   },
   "source": [
    "### OSI Model\n",
    "![](https://www.cloudflare.com/img/learning/ddos/what-is-a-ddos-attack/osi-model-7-layers.svg)"
   ]
  },
  {
   "cell_type": "markdown",
   "metadata": {
    "slideshow": {
     "slide_type": "subslide"
    }
   },
   "source": [
    "#### Layer 1: Physical Layer\n",
    "\n",
    "Transmission and reception of raw bit streams over a physical medium\n",
    "\n",
    "Bluetooth, Ethernet, and USB\n",
    "\n",
    "#### Layer 2: Data Link Layer\n",
    "\n",
    "Reliable transmission of data frames between two nodes connected by a physical layer\n",
    "\n",
    "Medium access control (MAC) layer, Logical link control (LLC)\n",
    "\n",
    "#### Layer 3: Network Layer\n",
    "\n",
    "Structuring and managing a multi-node network, including addressing, routing and traffic control\n",
    "\n",
    "IP, IPv4, IPv6, ICMP\n",
    "\n",
    "\n",
    "#### Layer 4: Transport Layer\n",
    "\n",
    "Reliable transmission of data segments between points on a network, including segmentation, acknowledgement and multiplexing\n",
    "\n",
    "TCP, UDP\n",
    "\n",
    "#### Application layer\n",
    "\n",
    "High-level APIs, including resource sharing, remote file access\n",
    "\n",
    "HTTP, HTTPS, FTP, SSH, SMTP"
   ]
  },
  {
   "cell_type": "markdown",
   "metadata": {
    "slideshow": {
     "slide_type": "slide"
    }
   },
   "source": [
    "## Three-way Handshake\n",
    "To establish a connection, the three-way (or 3-step) handshake occurs:\n",
    "\n",
    "- SYN: The active open is performed by the client sending a SYN to the server. The client sets the segment's sequence number to a random value A.\n",
    "- SYN-ACK: In response, the server replies with a SYN-ACK. The acknowledgment number is set to one more than the received sequence number i.e. A+1, and the sequence number that the server chooses for the packet is another random number, B.\n",
    "- ACK: Finally, the client sends an ACK back to the server. The sequence number is set to the received acknowledgement value i.e. A+1, and the acknowledgement number is set to one more than the received sequence number i.e. B+1.\n",
    "\n",
    "three-way handshake belongs to TCP, it's on transport layer."
   ]
  },
  {
   "cell_type": "markdown",
   "metadata": {
    "slideshow": {
     "slide_type": "subslide"
    }
   },
   "source": [
    "Client\n",
    "> SYN: Hello, how are you?\n",
    "  \n",
    "Server\n",
    "> ACK: I'm fine\n",
    "\n",
    "> SYN: and how are you?\n",
    "\n",
    "Client\n",
    "> ACK: I'm fine"
   ]
  },
  {
   "cell_type": "markdown",
   "metadata": {
    "slideshow": {
     "slide_type": "subslide"
    }
   },
   "source": [
    "![](https://s3.notfalse.net/wp-content/uploads/2016/12/24160012/Three-way-Handshake1.png)"
   ]
  },
  {
   "cell_type": "markdown",
   "metadata": {
    "slideshow": {
     "slide_type": "subslide"
    }
   },
   "source": [
    "![](https://s3.notfalse.net/wp-content/uploads/2016/12/24160105/Three-way-Handshake-ex2.png)"
   ]
  },
  {
   "cell_type": "markdown",
   "metadata": {
    "slideshow": {
     "slide_type": "subslide"
    }
   },
   "source": [
    "### Connection termination\n",
    "When an endpoint wishes to stop its half of the connection, it transmits a FIN packet, which the other end acknowledges with an ACK.\n",
    "\n",
    "![](https://upload.wikimedia.org/wikipedia/commons/thumb/5/55/TCP_CLOSE.svg/2560px-TCP_CLOSE.svg.png)"
   ]
  },
  {
   "cell_type": "markdown",
   "metadata": {
    "slideshow": {
     "slide_type": "subslide"
    }
   },
   "source": [
    "### HTTP GET and Response\n",
    "\n",
    "HTTP GET is on application layer. After three-way handshake, it starts to transfer application data.\n",
    "\n",
    "![](https://www.researchgate.net/profile/Israel_Cidon/publication/2851190/figure/fig4/AS:668708510908419@1536443941338/HTTP-GET-request-and-reply-over-TCP.png)"
   ]
  },
  {
   "cell_type": "markdown",
   "metadata": {
    "slideshow": {
     "slide_type": "subslide"
    }
   },
   "source": [
    "![](https://i.redd.it/duv11av99nm11.png)"
   ]
  },
  {
   "cell_type": "markdown",
   "metadata": {
    "slideshow": {
     "slide_type": "subslide"
    }
   },
   "source": [
    "![](https://img-9gag-fun.9cache.com/photo/an5d7xV_700bwp.webp)"
   ]
  },
  {
   "cell_type": "code",
   "execution_count": null,
   "metadata": {},
   "outputs": [],
   "source": []
  }
 ],
 "metadata": {
  "celltoolbar": "Slideshow",
  "kernelspec": {
   "display_name": "Python 3 (ipykernel)",
   "language": "python",
   "name": "python3"
  },
  "language_info": {
   "codemirror_mode": {
    "name": "ipython",
    "version": 3
   },
   "file_extension": ".py",
   "mimetype": "text/x-python",
   "name": "python",
   "nbconvert_exporter": "python",
   "pygments_lexer": "ipython3",
   "version": "3.10.6"
  },
  "toc": {
   "base_numbering": 1,
   "nav_menu": {},
   "number_sections": true,
   "sideBar": true,
   "skip_h1_title": false,
   "title_cell": "Table of Contents",
   "title_sidebar": "Contents",
   "toc_cell": false,
   "toc_position": {},
   "toc_section_display": true,
   "toc_window_display": false
  },
  "varInspector": {
   "cols": {
    "lenName": 16,
    "lenType": 16,
    "lenVar": 40
   },
   "kernels_config": {
    "python": {
     "delete_cmd_postfix": "",
     "delete_cmd_prefix": "del ",
     "library": "var_list.py",
     "varRefreshCmd": "print(var_dic_list())"
    },
    "r": {
     "delete_cmd_postfix": ") ",
     "delete_cmd_prefix": "rm(",
     "library": "var_list.r",
     "varRefreshCmd": "cat(var_dic_list()) "
    }
   },
   "types_to_exclude": [
    "module",
    "function",
    "builtin_function_or_method",
    "instance",
    "_Feature"
   ],
   "window_display": false
  }
 },
 "nbformat": 4,
 "nbformat_minor": 4
}
