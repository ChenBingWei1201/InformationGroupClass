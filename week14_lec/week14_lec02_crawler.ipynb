{
 "cells": [
  {
   "cell_type": "markdown",
   "metadata": {
    "slideshow": {
     "slide_type": "slide"
    }
   },
   "source": [
    "<p style=\"font-size: 3rem; font-weight: bold;\">NTUEE Computer Programming</p>\n",
    "\n",
    "# Week14 - Lec2. Crawler"
   ]
  },
  {
   "cell_type": "markdown",
   "metadata": {
    "slideshow": {
     "slide_type": "slide"
    }
   },
   "source": [
    "## Tools\n",
    "- windows: `scoop install curl jq`\n",
    "- macOS: `brew install jq`\n",
    "- ubuntu: `sudo apt install curl jq`"
   ]
  },
  {
   "cell_type": "markdown",
   "metadata": {
    "slideshow": {
     "slide_type": "slide"
    }
   },
   "source": [
    "## Implement web crawler with python\n",
    "\n",
    "library needed: **requests**, **beautiful soup**\n",
    "- https://requests.readthedocs.io/en/master/user/install/#install\n",
    "- https://www.crummy.com/software/BeautifulSoup/bs4/doc/#installing-beautiful-soup"
   ]
  },
  {
   "cell_type": "markdown",
   "metadata": {
    "slideshow": {
     "slide_type": "subslide"
    }
   },
   "source": [
    "When using a library..."
   ]
  },
  {
   "cell_type": "markdown",
   "metadata": {
    "ExecuteTime": {
     "end_time": "2020-09-12T13:08:55.882346Z",
     "start_time": "2020-09-12T13:08:55.873791Z"
    },
    "slideshow": {
     "slide_type": "fragment"
    }
   },
   "source": [
    "![](https://i.imgur.com/kOmTFt8.jpg)"
   ]
  },
  {
   "cell_type": "markdown",
   "metadata": {
    "slideshow": {
     "slide_type": "slide"
    }
   },
   "source": [
    "## Requests\n",
    "Requests is an elegant and simple HTTP library for Python, built for human beings.\n",
    "\n",
    "Requests allows you to send HTTP/1.1 requests extremely easily. There’s no need to manually add query strings to your URLs, or to form-encode your POST data. Keep-alive and HTTP connection pooling are 100% automatic, thanks to urllib3."
   ]
  },
  {
   "cell_type": "markdown",
   "metadata": {
    "slideshow": {
     "slide_type": "subslide"
    }
   },
   "source": [
    "### Make a GET Request"
   ]
  },
  {
   "cell_type": "code",
   "execution_count": 30,
   "metadata": {
    "ExecuteTime": {
     "end_time": "2021-12-22T08:45:41.389558Z",
     "start_time": "2021-12-22T08:45:41.384685Z"
    },
    "slideshow": {
     "slide_type": "fragment"
    }
   },
   "outputs": [],
   "source": [
    "import requests"
   ]
  },
  {
   "cell_type": "code",
   "execution_count": 31,
   "metadata": {
    "ExecuteTime": {
     "end_time": "2021-12-22T08:45:41.789648Z",
     "start_time": "2021-12-22T08:45:41.783316Z"
    },
    "slideshow": {
     "slide_type": "fragment"
    }
   },
   "outputs": [
    {
     "name": "stdout",
     "output_type": "stream",
     "text": [
      "Help on function get in module requests.api:\n",
      "\n",
      "get(url, params=None, **kwargs)\n",
      "    Sends a GET request.\n",
      "    \n",
      "    :param url: URL for the new :class:`Request` object.\n",
      "    :param params: (optional) Dictionary, list of tuples or bytes to send\n",
      "        in the query string for the :class:`Request`.\n",
      "    :param \\*\\*kwargs: Optional arguments that ``request`` takes.\n",
      "    :return: :class:`Response <Response>` object\n",
      "    :rtype: requests.Response\n",
      "\n"
     ]
    }
   ],
   "source": [
    "help(requests.get)"
   ]
  },
  {
   "cell_type": "markdown",
   "metadata": {
    "slideshow": {
     "slide_type": "subslide"
    }
   },
   "source": [
    "Begin by importing the Requests module\n",
    "\n",
    "Now, let’s try to get a webpage. For this example, let’s get this website:"
   ]
  },
  {
   "cell_type": "code",
   "execution_count": 32,
   "metadata": {
    "ExecuteTime": {
     "end_time": "2021-12-22T08:45:43.083647Z",
     "start_time": "2021-12-22T08:45:42.935018Z"
    },
    "scrolled": true
   },
   "outputs": [],
   "source": [
    "resp = requests.get(url='https://g0v.tw/')"
   ]
  },
  {
   "cell_type": "markdown",
   "metadata": {
    "slideshow": {
     "slide_type": "-"
    }
   },
   "source": [
    "Now, we have a Response object called `resp`. We can get all the information we need from this object."
   ]
  },
  {
   "cell_type": "code",
   "execution_count": 33,
   "metadata": {
    "ExecuteTime": {
     "end_time": "2021-12-22T08:47:00.998711Z",
     "start_time": "2021-12-22T08:47:00.991874Z"
    },
    "slideshow": {
     "slide_type": "-"
    }
   },
   "outputs": [
    {
     "data": {
      "text/plain": [
       "<Response [200]>"
      ]
     },
     "execution_count": 33,
     "metadata": {},
     "output_type": "execute_result"
    }
   ],
   "source": [
    "resp"
   ]
  },
  {
   "cell_type": "markdown",
   "metadata": {
    "slideshow": {
     "slide_type": "subslide"
    }
   },
   "source": [
    "### Response Content\n",
    "We can see the response body by `resp.text`"
   ]
  },
  {
   "cell_type": "code",
   "execution_count": 43,
   "metadata": {
    "ExecuteTime": {
     "end_time": "2021-12-22T04:08:16.478338Z",
     "start_time": "2021-12-22T04:08:16.469535Z"
    },
    "slideshow": {
     "slide_type": "subslide"
    }
   },
   "outputs": [
    {
     "data": {
      "text/plain": [
       "'<!DOCTYPE html><html lang=\"en\"><head prefix=\"og: http://ogp.me/ns#\"><meta charset=\"utf-8\"><meta name=\"viewport\" content=\"width=device-width, initial-scale=1.0\"><link rel=\"shortcut icon\" type=\"image/x-icon\" href=\"/assets/g0v.ico\"><link rel=\"preconnect\" href=\"https://fonts.gstatic.com\"><link href=\"https://fonts.googleapis.com/css2?family=Noto+Sans+TC:wght@300;400;700&amp;family=Roboto:wght@300;400;700&amp;display=swap\" rel=\"stylesheet\"><title>g0v 台灣零時政府</title><base href=\"/\"><link rel=\"stylesheet\" type=\"text/css\" href=\"/assets/lib/bootstrap/4.3.1/bootstrap.min.css\"><link rel=\"stylesheet\" type=\"text/css\" href=\"/assets/lib/ldui/ldui.min.css\"><link rel=\"stylesheet\" type=\"text/css\" href=\"/css/index.css\"></head><body><div id=\"fb-root\"></div><script async defer crossorigin=\"anonymous\" src=\"https://connect.facebook.net/zh_TW/sdk.js#xfbml=1&amp;version=v8.0&amp;appId=790774158155903&amp;autoLogAppEvents=1\" nonce=\"GYDp0yoU\"></script><div id=\"landing\"><div class=\"dark-shape\"></div><div class=\"lang\"><a class=\"btn btn-light ml-1 btn-sm\" href=\"/intl/en/\">EN</a><a class=\"btn btn-light ml-1 btn-sm\" href=\"/intl/ja/\">JA</a><a class=\"btn btn-light ml-1 btn-sm\" href=\"/intl/zh-TW/\">中文</a></div><div class=\"row content\"><div class=\"thumb col\"><img src=\"/assets/img/g0v-hero.jpg\"><div class=\"text-sm text-muted text-center\" style=\"text-shadow:-1px 0 0px #fff\">image credit - 林忠衡 / mooon / tuiry </div></div><div class=\"desc col\"><img class=\"d-block mr-auto ml-auto\" src=\"assets/img/g0v-only.svg\"><p>自台灣發起、多中心化的公民科技社群「零時政府」，以資訊透明、開放成果、開放協作為核心，透過群眾草根的力量來關心公共事務。 <a href=\"#\" data-scrollto=\"#more\">了解更多</a></p><hr><div class=\"text-center\"><div class=\"btn btn-outline-danger mr-1 mb-2\" data-scrollto=\"#projects\">成果列表</div><div class=\"btn btn-outline-danger mr-1 mb-2\" data-scrollto=\"#participate\">如何參與</div><a class=\"btn btn-outline-danger mb-2\" href=\"/intl/zh-TW/manifesto/zh-TW\" rol=\"button\">g0v 宣言</a></div></div></div></div><div class=\"w-1024 px-2 px-lg-4 mx-auto rwd d-flex\"><div><div class=\"typeset heading-contrast pt-4\"><h2 class=\"m-0\" id=\"news\">最新消息</h2><hr><p>g0v 為開放社群，在媒體平台上的貼文，提供「所有」參與者都有可以發表的機會，因此建立一套治理機制，通過發文審核後，文章將會透過擁有平台權限的參與者協助排程貼出。詳情可參考 <a href=\"https://g0v.hackmd.io/@chihao/Hkm9tPaxr\" target=\"_blank\">g0v SNS 社群治理機制共筆</a>。</p><p>#自己的小編自己當</p><h3>Facebook 粉絲專頁</h3><div class=\"fb-page\" data-href=\"https://www.facebook.com/g0v.tw\" data-tabs=\"timeline\" data-width=\"500\" data-height=\"500\" data-small-header=\"true\" data-adapt-container-width=\"true\" data-hide-cover=\"true\" data-show-facepile=\"false\"><blockquote class=\"fb-xfbml-parse-ignore\" cite=\"https://www.facebook.com/g0v.tw\"><a href=\"https://www.facebook.com/g0v.tw\">g0v.tw 台灣零時政府</a></blockquote></div><h3>g0v.news</h3><div id=\"g0vnews\"></div><p class=\"text-right my-4\"><a href=\"https://g0v.news/\" target=\"_blank\">more...</a></p></div><div class=\"typeset heading-contrast pt-2\"><h2 class=\"m-0\" id=\"more\">零時政府是什麼？</h2><hr><p>g0v 是一個草根式的公民社群，致力於加深公民對社會的貢獻以及彼此間的連結。透過 g0v 社群，你可以在這裡尋找志同道合的夥伴，以草根的方式實踐你的理念，並將成果以開放授權模式釋出，讓更多的人可以站在你的成果上接力賽跑。</p><p>將 gov 以「零」替代成為 g0v，從零重新思考政府的角色，也代表數位原生世代從 0 與 1 世界的視野。</p><h3>運作模式</h3><p>g0v.tw 的推動結合線上與實體，以各種網路工具加上兩個月一次的黑客松工作坊<span class=\\'text-danger text-sm\\'> (註)</span>，參與者自主提出專案邀集不同專業者加入，透過 g0v.tw 的實體、線上平台媒合各方資源，協作並開源專案成果，不定期會舉辦小型黑客松工作坊。分散式的組織強調自主參與的能量，鼓勵大家找出問題、提出解決方案、參與討論分享資源，以實作代替按讚。</p><p class=\"text-muted text-sm\">註：「黑客松」hackathon 即 hacker\\'s marathon，是自主參加的密集合作活動，通常在一到兩天的限定時間內由提案、分組、工作、成果報告都自發加入，許多提案在活動前展開線上討論，當天實體活動迅速整合，能在短時間衝刺出初步成果。</p><h3>社群組成</h3><p>g0v 參與者包含線上線下，來自各個領域，只要遵循「開源協作」理念，並不限於軟體專案。社群參與者組成從早期大多為工程師背景，到現在已有六成以上的參與者為非技術背景，其中包括設計、法律、社運、文字工作者等多種不同領域來的參與者。</p><p>不會寫程式可以參加嗎？<b>可以喔！</b></p><h3>零時政府宣言</h3><p>最初由瞿筱葳起草，經社群多次討論與修改，零時政府宣言明確定義 g0v 的精神、協作與開源的中心思想，可以類比為零時政府的「憲法」。想更了解零時政府，請直接參考<a href=\"/intl/zh-TW/manifesto/zh-TW\">零時政府宣言</a>。</p><h3>更多面向</h3><p>幾句簡單的話，實在無法說明完整的 g0v 樣貌。不過，你可以透過其他的面向來了解 g0v ，或者參考 Kirby 於 OSDC 2013 Keynote 所分享的「g0v 黑客松 - 寫程式改造社會」演講影片：</p><div class=\"text-center my-4 py-4\"><a class=\"btn btn-outline-danger mr-2 mb-2\" href=\"/intl/zh-TW/event/\">活動資訊</a><a class=\"btn btn-outline-danger mr-2 mb-2\" href=\"/intl/zh-TW/novice/\">新手指南</a><a class=\"btn btn-outline-danger mb-2\" href=\"/intl/zh-TW/faq/\">常見問題</a></div><div class=\"text-center text-sm text-muted\">OSDC 2013 Keynote 「g0v 黑客松 - 寫程式改造社會」 by Kirby</div><div class=\"w-100 mb-4 mt-1\"><div class=\"aspect-ratio\" style=\"padding-top:75%\"><div class=\"w-100 h-100\"><iframe class=\"w-100 h-100\" src=\"https://www.youtube.com/embed/0HURMy0l4Ck\"></iframe></div></div></div></div><div class=\"typeset heading-contrast pt-4\"><h2 class=\"m-0\" id=\"projects\">社群成果</h2><hr><p>自 2012 年底開始，零時政府以 g0v 黑客松作為起點，已舉辦了 4 次國際年會、4 屆公民科技獎助金、42+ 場黑客松、40+ 場受邀演講、150+ 次媒體報導，8000+ 遍布三大洲的貢獻者，成果皆以開放授權模式釋出。 更多數據可參考 <a href=\"/intl/zh-TW/dashboard/\">g0v 儀錶板</a> 以及 John Huang 製作的<a href=\"https://chunyenhuang.github.io/awesome-g0v-projects/#/\" target=\"_blank\">令人驚奇的零時政府 Awesome g0v projects</a>。</p><p>數十次的黑客松亦產出了相當多的專案，所有專案成果及源碼均以開放授權分享於全體大眾，以下簡單介紹幾個知名 g0v 專案。</p><div class=\"row mb-4 pb-4 project\"><div class=\"col-md-4 h-100\"><div class=\"thumb\" style=\"background-image:url(assets/img/projects/hackfoldr.jpg)\"></div></div><div class=\"col-md-8 h-100\"><div class=\"vertical-center\"><div><h3>Hackfoldr 黑客公事包</h3><hr><p>Hackfoldr 為一協作式文件整理介面，讓整理線上文件更容易。</p>\\n<p>目前已有相當多運用 Hackfoldr 的案例，包括<a href=\"https://beta.hackfoldr.org/627pray/\">八仙塵爆</a>、<a href=\"https://beta.hackfoldr.org/Kaohsiung-explode-20140801\">高雄氣爆</a>、香港雨傘運動、太陽花學運等社會事件與運動，同時亦為 g0v 大小黑客松最常運用的線上工具之一。</p>\\n</div></div></div></div><div class=\"row mb-4 pb-4 project\"><div class=\"col-md-4 h-100\"><div class=\"thumb\" style=\"background-image:url(assets/img/projects/cofacts.jpg)\"></div></div><div class=\"col-md-8 h-100\"><div class=\"vertical-center\"><div><h3>「真的假的」LINE Bot</h3><hr><p>用聊天機器人和群眾協作查核澄清 LINE 封閉群組中的不實資訊。</p>\\n<p>「真的假的 LINE Bot」讓不擅於使用 Google，資訊搜尋能力較低的使用者，可以在加入「真的假的 LINE Bot」之後，遇上任何 LINE 上不知真假的訊息時，直接轉發給機器人，接著就會收到回覆，判斷訊息的真假。</p>\\n</div></div></div></div><div class=\"row mb-4 pb-4 project\"><div class=\"col-md-4 h-100\"><div class=\"thumb\" style=\"background-image:url(assets/img/projects/national-treasure.jpg)\"></div></div><div class=\"col-md-8 h-100\"><div class=\"vertical-center\"><div><h3>遺落在世界角落的台灣國家寶藏</h3><hr><p>包括英美等國家這一百多年以來對台灣社會、地理、人物所做下的情蒐紀錄，提供了台灣人在回顧自己的過去時，更豐富的材料與角度，以及不同的思維，去重新描繪台灣人曾經的生活面貌。 在這裡，我們希望將這些資料重新進入公眾視野內，結合每個人獨特的視角，去重新書寫出台灣人生活的故事。</p>\\n</div></div></div></div><div class=\"row mb-4 pb-4 project\"><div class=\"col-md-4 h-100\"><div class=\"thumb\" style=\"background-image:url(assets/img/projects/budget.jpg)\"></div></div><div class=\"col-md-8 h-100\"><div class=\"vertical-center\"><div><h3>中央政府總預算視覺化</h3><hr><p>中央政府總預算視覺化專案利用資料視覺化與社群網路的力量提升公民對政府預算規畫的監督能力。</p>\\n<p>此專案利用各種互動式的視覺化技巧，包含樹狀圖（Treemap）、泡泡圖（Bubble Chart）搭配民眾反饋機制來展示預算數字的各種面向，例如歷史趨勢、跨部門比較、公眾意見與稅金的拆解。</p>\\n</div></div></div></div><div class=\"row mb-4 pb-4 project\"><div class=\"col-md-4 h-100\"><div class=\"thumb\" style=\"background-image:url(assets/img/projects/moedict.jpg)\"></div></div><div class=\"col-md-8 h-100\"><div class=\"vertical-center\"><div><h3>萌典 - 教育部國臺客語辭典民間版</h3><hr><p>教育部國語辭典進化版，後亦整合英、法、德、閔南語對照以及筆畫、發音等功能，並基於開放協作精神而衍生出 iOS 、Android 、桌面應用程式、阿美語盟典等子專案，並持續舉辦小型黑客松「萌典松」至 2018 左右。</p>\\n</div></div></div></div><p>每次 g0v 大松提案皆透過線上直播，因此你可以從 <a href=\"https://www.youtube.com/user/g0vTW/playlists\">g0v YouTube 頻道</a>找到專案簡報與成果分享的影片紀錄。若你對黑客松的活動現場感到興趣，黑客松亦在 <a href=\"https://flickr.com/g0v/\">g0v Flickr</a> 有平面影像紀錄。</p><h3>獎助金成果</h3><p>由「<a href=\"https://jothon.g0v.tw\" target=\"_blank\">g0v 揪松團</a>」規畫執行的「<a href=\"https://grants.g0v.tw/\">g0v 公民科技創新獎助金</a>」亦協助了包含「金流百科」、「農業災損幾多錢」、「開源神手」、「美國國會觀測站」、「投票指南」等許多專案。關於更多獎助金專案的成果，你可以到「<a href=\"https://grants.g0v.tw/power/\">公民科技創新獎助金成果報告</a>」中取得更多資訊。</p></div><div class=\"typeset heading-contrast pt-4\"><h2 class=\"m-0\" id=\"participate\">如何參與？</h2><hr><p>了解 g0v 最快的方式就是實際來參與一次。無論線上或線下，你都可以找得到各種管道與社群參與者互動。想要更了解開源協作的模式，可以參考 <a href=\"https://g0v.hackmd.io/@jothon/g0v-cowork-guideline\" target=\"_blank\">g0v 開源協作手冊</a>。</p><h3>線下：大小黑客松雙月黑客松與社群小松</h3><h4>雙月黑客松／大松</h4><p>自 g0v 發起以來每兩個月舉辦一次的雙月黑客松（大松）已是 g0v 的常駐活動了，在這裡你可以找到形形色色的參與者，無論是老手、新手、各種不同領域的人，都在這個一整天的活動中熱烈地討論、實作、並在活動結束時將成果向大家發表。</p><p>最重要的是，不會寫程式也可以參加大松！關於活動的更多細節可以在<a href=\"https://jothon.g0v.tw/\" target=\"_blank\">黑客松入口網「揪松網」</a><t>找到，你亦可關注<a href=\"http://g0v-jothon.kktix.cc\" target=\"_blank\">揪松團</a><t>的公開活動頁面來隨時獲得最新活動的訊息。</t></t></p><h4>專案黑客松／小松</h4><p>除了大松以外，揪松團亦定期舉辦以社群基礎建設專案為主的「基礎松」，其他亦有各個 g0v 專案大大小小不定期的活動（小松），可依自己關注的領域來選擇。</p><p>社群小松各有不同的性質，通常會在活動資訊中說明適合參與的對象，可定期關注臉書後勤中心與 g0v Slack 討論群組以取得活動的最新資訊。</p><h3>線上：Facebook g0v 後勤中心與 Slack 聊天室</h3><p>除了線下活動外，社群參與者們也頻繁積極地在線上討論群組中交換專案的意見，是一個即時獲得社群回饋的方便管道。目前主要的討論群組包括：</p><ul><li><a href=\"https://www.facebook.com/groups/g0v.general/\" target=\"_blank\">g0v 後勤中心（Facebook）</a></li><li><a href=\"https://join.g0v.tw\" target=\"_blank\">g0v 線上聊天室（Slack）</a></li></ul><p>使用線上討論群組請注意群組規範，並保持良好的態度與禮貌。</p><h3>其它管道</h3><p>只要發揮 g0v 的草根精神，開工就等於參與！不過若你想要更具體的參與感，以下提供幾個其它的管道</p><div class=\"row\"><div class=\"col-md-4\"><div class=\"card shadow-sm mb-4 h-100\"><div class=\"card-body\"><h4 class=\"text-center\">捐款認養大松</h4><p>g0v 雙月大黑客松主要由志工維持，場地、食物及所需經費皆由參與者協助籌措。透過線上捐款，你也可以成為支持活動的一份子！</p><a class=\"btn-block\" href=\"https://ocf.neticrm.tw/civicrm/contribute/transact?reset=1&amp;id=30&amp;_ga=2.218722001.93807760.1535621686-361420765.1511415990\" target=\"_blank\">現在就捐款</a></div></div></div><div class=\"col-md-4\"><div class=\"card shadow-sm mb-4 h-100\"><div class=\"card-body\"><h4 class=\"text-center\">參與獎助金提案</h4><p>g0v 揪松團為提升公民科技專案的續航力籌辦公民科技創新獎助金，只要符合公民科技專案的條件，皆可提案參與。</p><a class=\"btn-block\" href=\"https://grants.g0v.tw\" target=\"_blank\">現在就提案</a></div></div></div><div class=\"col-md-4\"><div class=\"card shadow-sm mb-4 h-100\"><div class=\"card-body\"><h4 class=\"text-center\">發起相關活動</h4><p>目前 g0v 黑客松主要仍在台灣舉行，但海外已有若干國家響應。在你的國家沒有嗎？何不考慮在你的國家發起 g0v 黑客松呢？</p><a class=\"btn-block\" href=\"http://g0v.network\" target=\"_blank\">現在就發起</a></div></div></div></div><h3>更多資訊</h3><p>若你想參與 g0v 卻仍不得其門而入，就來看看 <a href=\"/intl/zh-TW/novice/\">新手指南</a>！</p></div></div><div class=\"d-none d-md-block\" style=\"min-width:10em\"><div class=\"sticky ml-4 pl-4 pt-4 border-left border-danger\"><br><div class=\"mb-4\"><div class=\"text-danger clickable\" data-scrollto=\"#news\">最新消息</div></div><div class=\"mb-4\"><a class=\"clickable d-block\" href=\"#\" data-scrollto=\"#more\">了解更多</a><a class=\"clickable d-block\" href=\"#\" data-scrollto=\"#projects\">成果列表</a><a class=\"clickable d-block\" href=\"#\" data-scrollto=\"#participate\">如何參與</a></div><div class=\"mb-4\"><a class=\"clickable d-block\" href=\"/intl/zh-TW/manifesto/zh-TW\">g0v 宣言</a><a class=\"clickable d-block\" href=\"/intl/zh-TW/dashboard/\">儀錶板</a><a class=\"clickable d-block\" href=\"/intl/zh-TW/novice/\">新手指南</a><a class=\"clickable d-block\" href=\"/intl/zh-TW/event/\">活動資訊</a><a class=\"clickable d-block\" href=\"/intl/zh-TW/faq/\">常見問題</a><a class=\"clickable d-block\" href=\"/intl/zh-TW/contact/\">聯絡我們</a><a class=\"clickable d-block\" href=\"https://ocf.neticrm.tw/civicrm/contribute/transact?reset=1&amp;id=30\" target=\"_blank\">小額捐款</a></div></div></div></div><div class=\"foot\"><div class=\"inner\"><div class=\"d-flex mb-4 align-items-center\"><div class=\"flex-grow-1\"><div style=\"width:90%;max-width:140px\"><img class=\"w-100\" src=\"/assets/img/g0v-only-white.svg\"></div></div><!--div.input-group.input-group-sm\\n  input.form-control\\n  .input-group-append\\n    .btn.btn-outline-light 搜尋--></div><div class=\"sep sep-light\"></div><div class=\"pb-4\"></div><div class=\"row\"><div class=\"col-md-5 mb-4\"><h5>關於 g0v</h5><div class=\"row\"><div class=\"col\"><div class=\"mt-0 list\"><div class=\"item\"><a href=\"/intl/zh-TW/manifesto/\">g0v 宣言</a></div><div class=\"item\"><a href=\"/intl/zh-TW/dashboard/\">儀錶板</a></div><div class=\"item\"><a href=\"/intl/zh-TW/faq/\">常見問題</a></div><div class=\"item\"><a href=\"/intl/zh-TW/contact/\">聯繫社群</a></div><div class=\"item\"><a href=\"/intl/zh-TW/event/\">活動資訊</a></div><div class=\"item\"><a href=\"/intl/zh-TW/coc/\">社群守則</a></div></div></div><div class=\"col\"><div class=\"mt-0 list\"><div class=\"item\"><a href=\"https://jothon.g0v.tw/transaction/\" target=\"_blank\">收支明細</a></div><div class=\"item\"><a href=\"https://www.facebook.com/g0v.tw/\" target=\"_blank\">臉書專頁</a></div><div class=\"item\"><a href=\"https://twitter.com/g0vtw\" target=\"_blank\">推特專頁</a></div><div class=\"item\"><a href=\"https://flickr.com/g0v/\" target=\"_blank\">活動影像</a></div><div class=\"item\"><a href=\"https://flickr.com/g0v/\" target=\"_blank\">活動影片</a></div></div></div></div></div><div class=\"col-md-3 mb-4 offset-md-1\"><h5>線上協作</h5><div class=\"mt-2 list\"><div class=\"item\"><a href=\"http://www.facebook.com/groups/387816094628136/\" target=\"_blank\">臉書後勤中心</a></div><div class=\"item\"><a href=\"http://join.g0v.tw/\" target=\"_blank\">Slack 聊天室</a></div><div class=\"item\"><a href=\"https://github.com/g0v\" target=\"_blank\">Github 源碼庫</a></div><div class=\"item\"><a href=\"https://g0v.hackmd.io/\" target=\"_blank\">HackMD 共筆</a></div><div class=\"item\"><a href=\"https://g0v.hackpad.tw/\" target=\"_blank\">Hackpad 共筆</a></div><div class=\"item\"><a href=\"/tool/\">協作工具</a></div></div></div><div class=\"col-md-3 mb-4\"><h5>參與貢獻</h5><div class=\"mt-2 list\"><div class=\"item\"><a href=\"/intl/zh-TW/novice/\">新手指南</a></div><div class=\"item\"><a href=\"https://jothon.g0v.tw/\" target=\"_blank\">黑客松入口網</a></div><div class=\"item\"><a href=\"https://github.com/g0v/landing-page\">官網原始碼    </a></div></div><h5 class=\"mt-4\">相關專案</h5><div class=\"mt-2 list\"><div class=\"item\"><a href=\"https://jothon.g0v.tw/about\" target=\"_blank\">jothon 揪松團</a></div><div class=\"item\"><a href=\"https://g0v.hackmd.io/@chihao/rJmYFi0YS\" target=\"_blank\">intl 國際交流專案</a></div></div></div></div><div class=\"sep sep-light my-4\"></div><div class=\"text-sm\"><div class=\"d-inline-block align-middle mr-1\" style=\"width:24px;height:24px;background:url(/assets/img/justfont.png) center center no-repeat;background-size:36px\"></div><a href=\"https://justfont.com\" style=\"display:inline\">web font provided by justfont</a></div><div class=\"text-sm\"><div class=\"d-inline-block align-middle mr-1\" style=\"width:24px;height:24px;background:url(/assets/img/loader-jothon.svg) center center no-repeat;background-size:36px\"></div><a href=\"https://loading.io\" style=\"display:inline\">animations are made possible by loading.io</a></div><div class=\"text-sm\"><div class=\"d-inline-block align-middle mr-1\" style=\"width:24px;height:24px;background:url(/assets/img/loader-jothon.svg) center center no-repeat;background-size:36px\"></div><a href=\"https://jothon.g0v.tw/about\" target=\"_blank\">this website is maintained by jothon.g0v.tw</a></div></div></div><script type=\"text/javascript\" src=\"/assets/lib/bootstrap.native/2.0.15/bootstrap.native.v4.min.js\"></script><script type=\"text/javascript\" src=\"/assets/lib/ldui/ldui.min.js\"></script><script type=\"text/javascript\" src=\"/assets/lib/xfl/xfl.js\"></script><script type=\"text/javascript\" src=\"//s3-ap-northeast-1.amazonaws.com/justfont-user-script/jf-59395.js\"></script><script type=\"text/javascript\" src=\"/js/index.min.js\"></script><script type=\"text/javascript\" src=\"/js/news.js\"></script><script type=\"text/javascript\" src=\"/assets/lib/threejs/r98/three.min.js\"></script><script type=\"text/javascript\" src=\"/assets/lib/svg-mesh/svg-mesh.js\"></script><script type=\"text/javascript\" src=\"/js/landing.js\"></script></body></html>'"
      ]
     },
     "execution_count": 43,
     "metadata": {},
     "output_type": "execute_result"
    }
   ],
   "source": [
    "resp.text"
   ]
  },
  {
   "cell_type": "markdown",
   "metadata": {
    "slideshow": {
     "slide_type": "subslide"
    }
   },
   "source": [
    "We get the correct response.\n",
    "\n",
    "If you see garbled message, this could be caused by encoding.\n",
    "\n",
    "Modern web server use utf-8 encoding, and it is considered as standard. If the text are garbled, you can try to change the encoding.\n",
    "\n",
    "Requests will automatically decode content from the server. Most unicode charsets are seamlessly decoded.\n",
    "\n",
    "When you make a request, Requests makes educated guesses about the encoding of the response based on the HTTP headers. The text encoding guessed by Requests is used when you access r.text. You can find out what encoding Requests is using, and change it, using the r.encoding property:"
   ]
  },
  {
   "cell_type": "code",
   "execution_count": 42,
   "metadata": {
    "ExecuteTime": {
     "end_time": "2021-12-20T07:49:51.632195Z",
     "start_time": "2021-12-20T07:49:51.624680Z"
    }
   },
   "outputs": [],
   "source": [
    "resp.encoding = 'utf-8'"
   ]
  },
  {
   "cell_type": "markdown",
   "metadata": {
    "slideshow": {
     "slide_type": "subslide"
    }
   },
   "source": [
    "#### Another request content\n",
    "Consider the space x data:"
   ]
  },
  {
   "cell_type": "code",
   "execution_count": 8,
   "metadata": {
    "ExecuteTime": {
     "end_time": "2021-12-20T07:49:53.209324Z",
     "start_time": "2021-12-20T07:49:52.554570Z"
    }
   },
   "outputs": [
    {
     "name": "stdout",
     "output_type": "stream",
     "text": [
      "{\"ship_id\":\"AMERICANCHAMPION\",\"ship_name\":\"American Champion\",\"ship_model\":null,\"ship_type\":\"Tug\",\"roles\":[\"Support Ship\",\"Barge Tug\"],\"active\":false,\"imo\":7434016,\"mmsi\":367020820,\"abs\":571252,\"class\":7604342,\"weight_lbs\":588000,\"weight_kg\":266712,\"year_built\":1976,\"home_port\":\"Port of Los Angeles\",\"status\":\"\",\"speed_kn\":null,\"course_deg\":null,\"position\":{\"latitude\":null,\"longitude\":null},\"successful_landings\":null,\"attempted_landings\":null,\"missions\":[{\"name\":\"COTS 1\",\"flight\":7},{\"name\":\"COTS 2\",\"flight\":8}],\"url\":\"https://www.marinetraffic.com/en/ais/details/ships/shipid:434663/vessel:AMERICAN%20CHAMPION\",\"image\":\"https://i.imgur.com/woCxpkj.jpg\"}\n"
     ]
    }
   ],
   "source": [
    "r = requests.get('https://api.spacexdata.com/v3/ships/AMERICANCHAMPION')\n",
    "print(r.text)"
   ]
  },
  {
   "cell_type": "markdown",
   "metadata": {
    "slideshow": {
     "slide_type": "subslide"
    }
   },
   "source": [
    "The response is json format rather than html, we can parse the content with json module"
   ]
  },
  {
   "cell_type": "code",
   "execution_count": 9,
   "metadata": {
    "ExecuteTime": {
     "end_time": "2021-12-20T07:49:55.059408Z",
     "start_time": "2021-12-20T07:49:55.048474Z"
    },
    "slideshow": {
     "slide_type": "-"
    }
   },
   "outputs": [
    {
     "data": {
      "text/plain": [
       "{'ship_id': 'AMERICANCHAMPION',\n",
       " 'ship_name': 'American Champion',\n",
       " 'ship_model': None,\n",
       " 'ship_type': 'Tug',\n",
       " 'roles': ['Support Ship', 'Barge Tug'],\n",
       " 'active': False,\n",
       " 'imo': 7434016,\n",
       " 'mmsi': 367020820,\n",
       " 'abs': 571252,\n",
       " 'class': 7604342,\n",
       " 'weight_lbs': 588000,\n",
       " 'weight_kg': 266712,\n",
       " 'year_built': 1976,\n",
       " 'home_port': 'Port of Los Angeles',\n",
       " 'status': '',\n",
       " 'speed_kn': None,\n",
       " 'course_deg': None,\n",
       " 'position': {'latitude': None, 'longitude': None},\n",
       " 'successful_landings': None,\n",
       " 'attempted_landings': None,\n",
       " 'missions': [{'name': 'COTS 1', 'flight': 7},\n",
       "  {'name': 'COTS 2', 'flight': 8}],\n",
       " 'url': 'https://www.marinetraffic.com/en/ais/details/ships/shipid:434663/vessel:AMERICAN%20CHAMPION',\n",
       " 'image': 'https://i.imgur.com/woCxpkj.jpg'}"
      ]
     },
     "execution_count": 9,
     "metadata": {},
     "output_type": "execute_result"
    }
   ],
   "source": [
    "import json\n",
    "json.loads(r.text)"
   ]
  },
  {
   "cell_type": "markdown",
   "metadata": {
    "slideshow": {
     "slide_type": "subslide"
    }
   },
   "source": [
    "### Passing Parameters In URLs\n",
    "You often want to send some sort of data in the URL’s query string. If you were constructing the URL by hand, this data would be given as key/value pairs in the URL after a question mark, e.g. httpbin.org/get?key=val. Requests allows you to provide these arguments as a dictionary of strings, using the params keyword argument. As an example, if you wanted to pass key1=value1 and key2=value2 to httpbin.org/get, you would use the following code:"
   ]
  },
  {
   "cell_type": "code",
   "execution_count": 10,
   "metadata": {
    "ExecuteTime": {
     "end_time": "2020-12-20T17:15:25.921727Z",
     "start_time": "2020-12-20T17:15:24.942219Z"
    }
   },
   "outputs": [],
   "source": [
    "payload = {'key1': 'value1', 'key2': 'value2'}\n",
    "r = requests.get('https://httpbin.org/get', params=payload)"
   ]
  },
  {
   "cell_type": "markdown",
   "metadata": {},
   "source": [
    "You can see that the URL has been correctly encoded by printing the URL:"
   ]
  },
  {
   "cell_type": "code",
   "execution_count": 11,
   "metadata": {
    "ExecuteTime": {
     "end_time": "2020-12-20T17:15:25.925290Z",
     "start_time": "2020-12-20T17:15:25.923154Z"
    }
   },
   "outputs": [
    {
     "name": "stdout",
     "output_type": "stream",
     "text": [
      "https://httpbin.org/get?key1=value1&key2=value2\n"
     ]
    }
   ],
   "source": [
    "print(r.url)"
   ]
  },
  {
   "cell_type": "markdown",
   "metadata": {
    "slideshow": {
     "slide_type": "subslide"
    }
   },
   "source": [
    "### Custom Headers\n",
    "If you’d like to add HTTP headers to a request, simply pass in a dict to the headers parameter.\n",
    "\n",
    "example keyword: virtual host"
   ]
  },
  {
   "cell_type": "code",
   "execution_count": 12,
   "metadata": {
    "ExecuteTime": {
     "end_time": "2021-12-22T04:08:29.790969Z",
     "start_time": "2021-12-22T04:08:29.501774Z"
    },
    "slideshow": {
     "slide_type": "subslide"
    }
   },
   "outputs": [
    {
     "name": "stdout",
     "output_type": "stream",
     "text": [
      "<!DOCTYPE html>\n",
      "<html>\n",
      "  <head>\n",
      "    <meta http-equiv=\"refresh\" content=\"0;url=https://github.com/google\">\n",
      "    <title>Redirecting to https://github.com/google</title>\n",
      "  </head>\n",
      "</html>\n",
      "\n"
     ]
    }
   ],
   "source": [
    "url = 'https://google.github.io'\n",
    "headers = {'Host': 'google.github.io'}\n",
    "print(requests.get(url, headers=headers).text)"
   ]
  },
  {
   "cell_type": "code",
   "execution_count": 13,
   "metadata": {
    "ExecuteTime": {
     "end_time": "2021-12-22T04:08:32.085847Z",
     "start_time": "2021-12-22T04:08:31.797597Z"
    },
    "slideshow": {
     "slide_type": "subslide"
    }
   },
   "outputs": [
    {
     "name": "stdout",
     "output_type": "stream",
     "text": [
      "<!doctype html>\n",
      "<html lang=\"en\" ng-app=\"rhGitHub\">\n",
      "<head>\n",
      "    <meta charset=\"UTF-8\">\n",
      "    <meta name=\"viewport\"\n",
      "          content=\"width=device-width, user-scalable=no, initial-scale=1.0, maximum-scale=1.0, minimum-scale=1.0\">\n",
      "    <meta http-equiv=\"X-UA-Compatible\" content=\"ie=edge\">\n",
      "    <meta name=\"copyright\" content=\"&copy; 2018 Red Hat, Inc.\" />\n",
      "    <title>Red Hat Official GitHub</title>\n",
      "    <link rel=\"icon\" type=\"image/png\" href=\"https://static.redhat.com/libs/redhat/brand-assets/2/corp/favicon.png\" />\n",
      "    <link rel=\"stylesheet\" type=\"text/css\" href=\"https://cdnjs.cloudflare.com/ajax/libs/normalize/8.0.0/normalize.min.css\"/>\n",
      "    <link rel=\"stylesheet\" type=\"text/css\" href=\"https://use.fontawesome.com/releases/v5.0.8/css/all.css\" integrity=\"sha384-3AB7yXWz4OeoZcPbieVW64vVXEwADiYyAEhwilzWsLw+9FgqpyjjStpPnpBO8o8S\" crossorigin=\"anonymous\"/>\n",
      "<link href=\"main.css\" rel=\"stylesheet\"></head>\n",
      "<body ng-controller=\"rhGitHubCtrl\">\n",
      "    <navigation></navigation>\n",
      "    <section ng-view></section>\n",
      "    <universalFooter></universalFooter>\n",
      "<script type=\"text/javascript\" src=\"bundle.js\"></script></body>\n",
      "</html>\n",
      "\n"
     ]
    }
   ],
   "source": [
    "url = 'https://google.github.io'\n",
    "headers = {'Host': 'redhatofficial.github.io'}\n",
    "print(requests.get(url, headers=headers).text)"
   ]
  },
  {
   "cell_type": "markdown",
   "metadata": {
    "slideshow": {
     "slide_type": "subslide"
    }
   },
   "source": [
    "### Make a POST Request\n",
    "Typically, you want to send some form-encoded data — much like an HTML form. To do this, simply pass a dictionary to the data argument. Your dictionary of data will automatically be form-encoded when the request is made:"
   ]
  },
  {
   "cell_type": "code",
   "execution_count": 14,
   "metadata": {
    "ExecuteTime": {
     "end_time": "2020-12-20T17:15:27.647896Z",
     "start_time": "2020-12-20T17:15:26.733898Z"
    },
    "slideshow": {
     "slide_type": "subslide"
    }
   },
   "outputs": [
    {
     "name": "stdout",
     "output_type": "stream",
     "text": [
      "{\n",
      "  \"args\": {}, \n",
      "  \"data\": \"\", \n",
      "  \"files\": {}, \n",
      "  \"form\": {\n",
      "    \"key1\": \"value1\", \n",
      "    \"key2\": \"value2\"\n",
      "  }, \n",
      "  \"headers\": {\n",
      "    \"Accept\": \"*/*\", \n",
      "    \"Accept-Encoding\": \"gzip, deflate\", \n",
      "    \"Content-Length\": \"23\", \n",
      "    \"Content-Type\": \"application/x-www-form-urlencoded\", \n",
      "    \"Host\": \"httpbin.org\", \n",
      "    \"User-Agent\": \"python-requests/2.27.1\", \n",
      "    \"X-Amzn-Trace-Id\": \"Root=1-638eaba6-26a654c60e2caa21316022e9\"\n",
      "  }, \n",
      "  \"json\": null, \n",
      "  \"origin\": \"140.112.18.209\", \n",
      "  \"url\": \"https://httpbin.org/post\"\n",
      "}\n",
      "\n"
     ]
    }
   ],
   "source": [
    "payload = {'key1': 'value1', 'key2': 'value2'}\n",
    "\n",
    "r = requests.post(\"https://httpbin.org/post\", data=payload)\n",
    "print(r.text)"
   ]
  },
  {
   "cell_type": "markdown",
   "metadata": {
    "slideshow": {
     "slide_type": "subslide"
    }
   },
   "source": [
    "### Response Status Codes\n",
    "We can check the response status code"
   ]
  },
  {
   "cell_type": "code",
   "execution_count": 15,
   "metadata": {
    "ExecuteTime": {
     "end_time": "2020-12-20T17:15:27.651571Z",
     "start_time": "2020-12-20T17:15:27.648984Z"
    }
   },
   "outputs": [
    {
     "data": {
      "text/plain": [
       "200"
      ]
     },
     "execution_count": 15,
     "metadata": {},
     "output_type": "execute_result"
    }
   ],
   "source": [
    "r.status_code"
   ]
  },
  {
   "cell_type": "markdown",
   "metadata": {
    "slideshow": {
     "slide_type": "subslide"
    }
   },
   "source": [
    "### Response Headers"
   ]
  },
  {
   "cell_type": "code",
   "execution_count": 16,
   "metadata": {
    "ExecuteTime": {
     "end_time": "2020-12-20T17:15:27.745774Z",
     "start_time": "2020-12-20T17:15:27.652809Z"
    }
   },
   "outputs": [
    {
     "data": {
      "text/plain": [
       "{'Date': 'Tue, 06 Dec 2022 02:40:38 GMT', 'Content-Type': 'application/json', 'Content-Length': '506', 'Connection': 'keep-alive', 'Server': 'gunicorn/19.9.0', 'Access-Control-Allow-Origin': '*', 'Access-Control-Allow-Credentials': 'true'}"
      ]
     },
     "execution_count": 16,
     "metadata": {},
     "output_type": "execute_result"
    }
   ],
   "source": [
    "r.headers"
   ]
  },
  {
   "cell_type": "code",
   "execution_count": 17,
   "metadata": {
    "ExecuteTime": {
     "end_time": "2020-12-20T17:15:27.845556Z",
     "start_time": "2020-12-20T17:15:27.746889Z"
    }
   },
   "outputs": [
    {
     "data": {
      "text/plain": [
       "'application/json'"
      ]
     },
     "execution_count": 17,
     "metadata": {},
     "output_type": "execute_result"
    }
   ],
   "source": [
    "r.headers.get('content-type')"
   ]
  },
  {
   "cell_type": "markdown",
   "metadata": {
    "slideshow": {
     "slide_type": "subslide"
    }
   },
   "source": [
    "### Session Objects\n",
    "The Session object allows you to persist certain parameters across requests. It also persists cookies across all requests made from the Session instance, and will use urllib3’s connection pooling. So if you’re making several requests to the same host, the underlying TCP connection will be reused, which can result in a significant performance increase (see HTTP persistent connection).\n",
    "\n",
    "A Session object has all the methods of the main Requests API.\n",
    "\n",
    "Let’s persist some cookies across requests:"
   ]
  },
  {
   "cell_type": "code",
   "execution_count": 18,
   "metadata": {
    "ExecuteTime": {
     "end_time": "2020-12-20T17:15:29.287990Z",
     "start_time": "2020-12-20T17:15:27.846732Z"
    }
   },
   "outputs": [
    {
     "name": "stdout",
     "output_type": "stream",
     "text": [
      "{\n",
      "  \"cookies\": {\n",
      "    \"sessioncookie\": \"123456789\"\n",
      "  }\n",
      "}\n",
      "\n"
     ]
    }
   ],
   "source": [
    "s = requests.Session()\n",
    "\n",
    "s.get('https://httpbin.org/cookies/set/sessioncookie/123456789')\n",
    "r = s.get('https://httpbin.org/cookies')\n",
    "\n",
    "print(r.text)"
   ]
  },
  {
   "cell_type": "markdown",
   "metadata": {
    "slideshow": {
     "slide_type": "subslide"
    }
   },
   "source": [
    "Sessions can also be used to provide default data to the request methods. This is done by providing data to the properties on a Session object:"
   ]
  },
  {
   "cell_type": "code",
   "execution_count": 19,
   "metadata": {
    "ExecuteTime": {
     "end_time": "2020-12-20T17:15:30.185643Z",
     "start_time": "2020-12-20T17:15:29.289310Z"
    }
   },
   "outputs": [
    {
     "name": "stdout",
     "output_type": "stream",
     "text": [
      "{\n",
      "  \"headers\": {\n",
      "    \"Accept\": \"*/*\", \n",
      "    \"Accept-Encoding\": \"gzip, deflate\", \n",
      "    \"Authorization\": \"Basic dXNlcjpwYXNz\", \n",
      "    \"Host\": \"httpbin.org\", \n",
      "    \"User-Agent\": \"python-requests/2.27.1\", \n",
      "    \"X-Amzn-Trace-Id\": \"Root=1-638eabb0-3e22759f511affa65144ef92\", \n",
      "    \"X-Test\": \"true\", \n",
      "    \"X-Test2\": \"true\"\n",
      "  }\n",
      "}\n",
      "\n"
     ]
    }
   ],
   "source": [
    "s = requests.Session()\n",
    "s.auth = ('user', 'pass')\n",
    "s.headers.update({'x-test': 'true'})\n",
    "\n",
    "# both 'x-test' and 'x-test2' are sent\n",
    "print(s.get('https://httpbin.org/headers', headers={'x-test2': 'true'}).text)"
   ]
  },
  {
   "cell_type": "markdown",
   "metadata": {
    "slideshow": {
     "slide_type": "slide"
    }
   },
   "source": [
    "## Parse HTML response - Beautiful Soup\n",
    "Beautiful Soup is a Python library for pulling data out of HTML and XML files."
   ]
  },
  {
   "cell_type": "markdown",
   "metadata": {},
   "source": [
    "Here’s an HTML document I’ll be using as an example throughout this document. It’s part of a story from Alice in Wonderland:"
   ]
  },
  {
   "cell_type": "code",
   "execution_count": 20,
   "metadata": {
    "ExecuteTime": {
     "end_time": "2020-12-23T08:14:53.385199Z",
     "start_time": "2020-12-23T08:14:53.383227Z"
    }
   },
   "outputs": [],
   "source": [
    "html_doc = \"\"\"<html><head><title>The Dormouse's story</title></head>\n",
    "<body>\n",
    "<p class=\"title\"><b>The Dormouse's story</b></p>\n",
    "\n",
    "<p class=\"story\">Once upon a time there were three little sisters; and their names were\n",
    "<a href=\"http://example.com/elsie\" class=\"sister\" id=\"link1\">Elsie</a>,\n",
    "<a href=\"http://example.com/lacie\" class=\"sister\" id=\"link2\">Lacie</a> and\n",
    "<a href=\"http://example.com/tillie\" class=\"sister\" id=\"link3\">Tillie</a>;\n",
    "and they lived at the bottom of a well.</p>\n",
    "\n",
    "<p class=\"story\">...</p>\n",
    "\"\"\""
   ]
  },
  {
   "cell_type": "markdown",
   "metadata": {
    "slideshow": {
     "slide_type": "subslide"
    }
   },
   "source": [
    "Running the “three sisters” document through Beautiful Soup gives us a BeautifulSoup object, which represents the document as a nested data structure:"
   ]
  },
  {
   "cell_type": "code",
   "execution_count": 44,
   "metadata": {
    "ExecuteTime": {
     "end_time": "2020-12-23T08:15:32.553465Z",
     "start_time": "2020-12-23T08:15:32.494913Z"
    }
   },
   "outputs": [
    {
     "name": "stdout",
     "output_type": "stream",
     "text": [
      "<html>\n",
      " <head>\n",
      "  <title>\n",
      "   The Dormouse's story\n",
      "  </title>\n",
      " </head>\n",
      " <body>\n",
      "  <p class=\"title\">\n",
      "   <b>\n",
      "    The Dormouse's story\n",
      "   </b>\n",
      "  </p>\n",
      "  <p class=\"story\">\n",
      "   Once upon a time there were three little sisters; and their names were\n",
      "   <a class=\"sister\" href=\"http://example.com/elsie\" id=\"link1\">\n",
      "    Elsie\n",
      "   </a>\n",
      "   ,\n",
      "   <a class=\"sister\" href=\"http://example.com/lacie\" id=\"link2\">\n",
      "    Lacie\n",
      "   </a>\n",
      "   and\n",
      "   <a class=\"sister\" href=\"http://example.com/tillie\" id=\"link3\">\n",
      "    Tillie\n",
      "   </a>\n",
      "   ;\n",
      "and they lived at the bottom of a well.\n",
      "  </p>\n",
      "  <p class=\"story\">\n",
      "   ...\n",
      "  </p>\n",
      " </body>\n",
      "</html>\n"
     ]
    }
   ],
   "source": [
    "from bs4 import BeautifulSoup\n",
    "soup = BeautifulSoup(html_doc, 'html.parser')\n",
    "\n",
    "print(soup.prettify())"
   ]
  },
  {
   "cell_type": "code",
   "execution_count": 22,
   "metadata": {
    "ExecuteTime": {
     "end_time": "2020-12-20T17:15:30.390052Z",
     "start_time": "2020-12-20T17:15:30.343685Z"
    },
    "slideshow": {
     "slide_type": "subslide"
    }
   },
   "outputs": [
    {
     "name": "stdout",
     "output_type": "stream",
     "text": [
      "Help on function __init__ in module bs4:\n",
      "\n",
      "__init__(self, markup='', features=None, builder=None, parse_only=None, from_encoding=None, exclude_encodings=None, element_classes=None, **kwargs)\n",
      "    Constructor.\n",
      "    \n",
      "    :param markup: A string or a file-like object representing\n",
      "     markup to be parsed.\n",
      "    \n",
      "    :param features: Desirable features of the parser to be\n",
      "     used. This may be the name of a specific parser (\"lxml\",\n",
      "     \"lxml-xml\", \"html.parser\", or \"html5lib\") or it may be the\n",
      "     type of markup to be used (\"html\", \"html5\", \"xml\"). It's\n",
      "     recommended that you name a specific parser, so that\n",
      "     Beautiful Soup gives you the same results across platforms\n",
      "     and virtual environments.\n",
      "    \n",
      "    :param builder: A TreeBuilder subclass to instantiate (or\n",
      "     instance to use) instead of looking one up based on\n",
      "     `features`. You only need to use this if you've implemented a\n",
      "     custom TreeBuilder.\n",
      "    \n",
      "    :param parse_only: A SoupStrainer. Only parts of the document\n",
      "     matching the SoupStrainer will be considered. This is useful\n",
      "     when parsing part of a document that would otherwise be too\n",
      "     large to fit into memory.\n",
      "    \n",
      "    :param from_encoding: A string indicating the encoding of the\n",
      "     document to be parsed. Pass this in if Beautiful Soup is\n",
      "     guessing wrongly about the document's encoding.\n",
      "    \n",
      "    :param exclude_encodings: A list of strings indicating\n",
      "     encodings known to be wrong. Pass this in if you don't know\n",
      "     the document's encoding but you know Beautiful Soup's guess is\n",
      "     wrong.\n",
      "    \n",
      "    :param element_classes: A dictionary mapping BeautifulSoup\n",
      "     classes like Tag and NavigableString, to other classes you'd\n",
      "     like to be instantiated instead as the parse tree is\n",
      "     built. This is useful for subclassing Tag or NavigableString\n",
      "     to modify default behavior.\n",
      "    \n",
      "    :param kwargs: For backwards compatibility purposes, the\n",
      "     constructor accepts certain keyword arguments used in\n",
      "     Beautiful Soup 3. None of these arguments do anything in\n",
      "     Beautiful Soup 4; they will result in a warning and then be\n",
      "     ignored.\n",
      "     \n",
      "     Apart from this, any keyword arguments passed into the\n",
      "     BeautifulSoup constructor are propagated to the TreeBuilder\n",
      "     constructor. This makes it possible to configure a\n",
      "     TreeBuilder by passing in arguments, not just by saying which\n",
      "     one to use.\n",
      "\n"
     ]
    }
   ],
   "source": [
    "help(BeautifulSoup.__init__)"
   ]
  },
  {
   "cell_type": "markdown",
   "metadata": {
    "slideshow": {
     "slide_type": "subslide"
    }
   },
   "source": [
    "### Beautiful Soup Cheatsheet\n",
    "Here are some simple ways to navigate that data structure:"
   ]
  },
  {
   "cell_type": "code",
   "execution_count": 23,
   "metadata": {
    "ExecuteTime": {
     "end_time": "2020-12-20T17:15:30.491906Z",
     "start_time": "2020-12-20T17:15:30.391089Z"
    }
   },
   "outputs": [
    {
     "name": "stdout",
     "output_type": "stream",
     "text": [
      "1 <title>The Dormouse's story</title>\n",
      "2 title\n",
      "3 The Dormouse's story\n",
      "4 head\n",
      "5 <p class=\"title\"><b>The Dormouse's story</b></p>\n",
      "6 ['title']\n",
      "7 <a class=\"sister\" href=\"http://example.com/elsie\" id=\"link1\">Elsie</a>\n",
      "8 [<a class=\"sister\" href=\"http://example.com/elsie\" id=\"link1\">Elsie</a>, <a class=\"sister\" href=\"http://example.com/lacie\" id=\"link2\">Lacie</a>, <a class=\"sister\" href=\"http://example.com/tillie\" id=\"link3\">Tillie</a>]\n",
      "9 <a class=\"sister\" href=\"http://example.com/tillie\" id=\"link3\">Tillie</a>\n"
     ]
    }
   ],
   "source": [
    "print(1, soup.title)\n",
    "print(2, soup.title.name)\n",
    "print(3, soup.title.string)\n",
    "print(4, soup.title.parent.name)\n",
    "print(5, soup.p)\n",
    "print(6, soup.p['class'])\n",
    "print(7, soup.a)\n",
    "print(8, soup.find_all('a'))\n",
    "print(9, soup.find(id=\"link3\"))"
   ]
  },
  {
   "cell_type": "markdown",
   "metadata": {
    "slideshow": {
     "slide_type": "subslide"
    }
   },
   "source": [
    "extracting all the text from a page"
   ]
  },
  {
   "cell_type": "code",
   "execution_count": 24,
   "metadata": {
    "ExecuteTime": {
     "end_time": "2020-12-20T17:15:30.590085Z",
     "start_time": "2020-12-20T17:15:30.492813Z"
    }
   },
   "outputs": [
    {
     "name": "stdout",
     "output_type": "stream",
     "text": [
      "The Dormouse's story\n",
      "\n",
      "The Dormouse's story\n",
      "Once upon a time there were three little sisters; and their names were\n",
      "Elsie,\n",
      "Lacie and\n",
      "Tillie;\n",
      "and they lived at the bottom of a well.\n",
      "...\n",
      "\n"
     ]
    }
   ],
   "source": [
    "print(soup.get_text())"
   ]
  },
  {
   "cell_type": "markdown",
   "metadata": {
    "slideshow": {
     "slide_type": "subslide"
    }
   },
   "source": [
    "### Details\n",
    "**Tag**\n",
    "\n",
    "A Tag object corresponds to an XML or HTML tag in the original document:"
   ]
  },
  {
   "cell_type": "code",
   "execution_count": 25,
   "metadata": {
    "ExecuteTime": {
     "end_time": "2020-12-20T17:15:30.691018Z",
     "start_time": "2020-12-20T17:15:30.591786Z"
    }
   },
   "outputs": [
    {
     "data": {
      "text/plain": [
       "bs4.element.Tag"
      ]
     },
     "execution_count": 25,
     "metadata": {},
     "output_type": "execute_result"
    }
   ],
   "source": [
    "type(soup.title)"
   ]
  },
  {
   "cell_type": "markdown",
   "metadata": {
    "ExecuteTime": {
     "end_time": "2020-10-06T06:05:07.579721Z",
     "start_time": "2020-10-06T06:05:07.571117Z"
    },
    "slideshow": {
     "slide_type": "-"
    }
   },
   "source": [
    "**Name**\n",
    "\n",
    "Every tag has a name, accessible as .name:"
   ]
  },
  {
   "cell_type": "code",
   "execution_count": 26,
   "metadata": {
    "ExecuteTime": {
     "end_time": "2020-12-20T17:15:30.790797Z",
     "start_time": "2020-12-20T17:15:30.692519Z"
    }
   },
   "outputs": [
    {
     "data": {
      "text/plain": [
       "'p'"
      ]
     },
     "execution_count": 26,
     "metadata": {},
     "output_type": "execute_result"
    }
   ],
   "source": [
    "soup.p.name"
   ]
  },
  {
   "cell_type": "markdown",
   "metadata": {
    "slideshow": {
     "slide_type": "subslide"
    }
   },
   "source": [
    "**Attributes**\n",
    "\n",
    "A tag may have any number of attributes. The tag `<b id=\"boldest\">` has an attribute “id” whose value is “boldest”. You can access a tag’s attributes by treating the tag like a dictionary:"
   ]
  },
  {
   "cell_type": "code",
   "execution_count": 27,
   "metadata": {
    "ExecuteTime": {
     "end_time": "2020-12-20T17:15:30.891140Z",
     "start_time": "2020-12-20T17:15:30.792228Z"
    }
   },
   "outputs": [
    {
     "data": {
      "text/plain": [
       "'boldest'"
      ]
     },
     "execution_count": 27,
     "metadata": {},
     "output_type": "execute_result"
    }
   ],
   "source": [
    "tag = BeautifulSoup('<b id=\"boldest\">bold</b>', 'html.parser').b\n",
    "tag['id']"
   ]
  },
  {
   "cell_type": "markdown",
   "metadata": {},
   "source": [
    "You can access that dictionary directly as .attrs:"
   ]
  },
  {
   "cell_type": "code",
   "execution_count": 28,
   "metadata": {
    "ExecuteTime": {
     "end_time": "2020-12-20T17:15:30.999063Z",
     "start_time": "2020-12-20T17:15:30.897413Z"
    }
   },
   "outputs": [
    {
     "data": {
      "text/plain": [
       "{'id': 'boldest'}"
      ]
     },
     "execution_count": 28,
     "metadata": {},
     "output_type": "execute_result"
    }
   ],
   "source": [
    "tag.attrs"
   ]
  },
  {
   "cell_type": "markdown",
   "metadata": {
    "slideshow": {
     "slide_type": "subslide"
    }
   },
   "source": [
    "You can add, remove, and modify a tag’s attributes. This is done by treating the tag as a dictionary:"
   ]
  },
  {
   "cell_type": "code",
   "execution_count": 29,
   "metadata": {
    "ExecuteTime": {
     "end_time": "2020-12-20T17:15:31.100403Z",
     "start_time": "2020-12-20T17:15:31.001670Z"
    }
   },
   "outputs": [
    {
     "name": "stdout",
     "output_type": "stream",
     "text": [
      "<b another-attribute=\"1\" id=\"verybold\">bold</b>\n",
      "<b>bold</b>\n",
      "None\n"
     ]
    },
    {
     "name": "stderr",
     "output_type": "stream",
     "text": [
      "Traceback (most recent call last):\n",
      "  File \"/tmp/ipykernel_36226/3769213878.py\", line 11, in <module>\n",
      "    tag['id']\n",
      "  File \"/usr/local/lib/python3.8/dist-packages/bs4/element.py\", line 1519, in __getitem__\n",
      "    return self.attrs[key]\n",
      "KeyError: 'id'\n"
     ]
    }
   ],
   "source": [
    "tag = BeautifulSoup('<b id=\"boldest\">bold</b>', 'html.parser').b\n",
    "tag['id'] = 'verybold'\n",
    "tag['another-attribute'] = 1\n",
    "print(tag)\n",
    "\n",
    "del tag['id']\n",
    "del tag['another-attribute']\n",
    "print(tag)\n",
    "\n",
    "try:\n",
    "    tag['id']\n",
    "except:\n",
    "    import traceback\n",
    "    traceback.print_exc()\n",
    "    # KeyError: 'id'\n",
    "\n",
    "print(tag.get('id'))"
   ]
  },
  {
   "cell_type": "markdown",
   "metadata": {
    "slideshow": {
     "slide_type": "subslide"
    }
   },
   "source": [
    "### Going down\n",
    "Tags may contain strings and other tags. These elements are the tag’s children. Beautiful Soup provides a lot of different attributes for navigating and iterating over a tag’s children."
   ]
  },
  {
   "cell_type": "markdown",
   "metadata": {},
   "source": [
    "**Navigating using tag names**\n",
    "\n",
    "The simplest way to navigate the parse tree is to say the name of the tag you want. If you want the `<head>` tag, just say `soup.head`:"
   ]
  },
  {
   "cell_type": "code",
   "execution_count": 29,
   "metadata": {
    "ExecuteTime": {
     "end_time": "2020-12-20T17:15:31.216817Z",
     "start_time": "2020-12-20T17:15:31.101916Z"
    },
    "slideshow": {
     "slide_type": "subslide"
    }
   },
   "outputs": [
    {
     "name": "stdout",
     "output_type": "stream",
     "text": [
      "<html>\n",
      " <head>\n",
      "  <title>\n",
      "   The Dormouse's story\n",
      "  </title>\n",
      " </head>\n",
      " <body>\n",
      "  <p class=\"title\">\n",
      "   <b>\n",
      "    The Dormouse's story\n",
      "   </b>\n",
      "  </p>\n",
      "  <p class=\"story\">\n",
      "   Once upon a time there were three little sisters; and their names were\n",
      "   <a class=\"sister\" href=\"http://example.com/elsie\" id=\"link1\">\n",
      "    Elsie\n",
      "   </a>\n",
      "   ,\n",
      "   <a class=\"sister\" href=\"http://example.com/lacie\" id=\"link2\">\n",
      "    Lacie\n",
      "   </a>\n",
      "   and\n",
      "   <a class=\"sister\" href=\"http://example.com/tillie\" id=\"link3\">\n",
      "    Tillie\n",
      "   </a>\n",
      "   ;\n",
      "and they lived at the bottom of a well.\n",
      "  </p>\n",
      "  <p class=\"story\">\n",
      "   ...\n",
      "  </p>\n",
      " </body>\n",
      "</html>\n"
     ]
    }
   ],
   "source": [
    "print(soup.prettify())"
   ]
  },
  {
   "cell_type": "code",
   "execution_count": 30,
   "metadata": {
    "ExecuteTime": {
     "end_time": "2020-12-20T17:15:31.303764Z",
     "start_time": "2020-12-20T17:15:31.218351Z"
    },
    "slideshow": {
     "slide_type": "subslide"
    }
   },
   "outputs": [
    {
     "name": "stdout",
     "output_type": "stream",
     "text": [
      "<head><title>The Dormouse's story</title></head>\n",
      "<title>The Dormouse's story</title>\n"
     ]
    }
   ],
   "source": [
    "print(soup.head)\n",
    "print(soup.title)"
   ]
  },
  {
   "cell_type": "markdown",
   "metadata": {},
   "source": [
    "You can do use this trick again and again to zoom in on a certain part of the parse tree. This code gets the first <b> tag beneath the <body> tag:"
   ]
  },
  {
   "cell_type": "code",
   "execution_count": 31,
   "metadata": {
    "ExecuteTime": {
     "end_time": "2020-12-20T17:15:31.412958Z",
     "start_time": "2020-12-20T17:15:31.305421Z"
    }
   },
   "outputs": [
    {
     "data": {
      "text/plain": [
       "<b>The Dormouse's story</b>"
      ]
     },
     "execution_count": 31,
     "metadata": {},
     "output_type": "execute_result"
    }
   ],
   "source": [
    "soup.body.b"
   ]
  },
  {
   "cell_type": "markdown",
   "metadata": {},
   "source": [
    "Using a tag name as an attribute will give you only the first tag by that name:"
   ]
  },
  {
   "cell_type": "code",
   "execution_count": 32,
   "metadata": {
    "ExecuteTime": {
     "end_time": "2020-12-20T17:15:31.521287Z",
     "start_time": "2020-12-20T17:15:31.414372Z"
    }
   },
   "outputs": [
    {
     "data": {
      "text/plain": [
       "<a class=\"sister\" href=\"http://example.com/elsie\" id=\"link1\">Elsie</a>"
      ]
     },
     "execution_count": 32,
     "metadata": {},
     "output_type": "execute_result"
    }
   ],
   "source": [
    "soup.a"
   ]
  },
  {
   "cell_type": "markdown",
   "metadata": {
    "slideshow": {
     "slide_type": "subslide"
    }
   },
   "source": [
    "If you need to get all the `<a>` tags, or anything more complicated than the first tag with a certain name, you’ll need to use one of the methods described in Searching the tree, such as `find_all()`:"
   ]
  },
  {
   "cell_type": "code",
   "execution_count": 33,
   "metadata": {
    "ExecuteTime": {
     "end_time": "2020-12-20T17:15:31.629490Z",
     "start_time": "2020-12-20T17:15:31.522773Z"
    }
   },
   "outputs": [
    {
     "data": {
      "text/plain": [
       "[<a class=\"sister\" href=\"http://example.com/elsie\" id=\"link1\">Elsie</a>,\n",
       " <a class=\"sister\" href=\"http://example.com/lacie\" id=\"link2\">Lacie</a>,\n",
       " <a class=\"sister\" href=\"http://example.com/tillie\" id=\"link3\">Tillie</a>]"
      ]
     },
     "execution_count": 33,
     "metadata": {},
     "output_type": "execute_result"
    }
   ],
   "source": [
    "soup.find_all('a')"
   ]
  },
  {
   "cell_type": "markdown",
   "metadata": {
    "slideshow": {
     "slide_type": "subslide"
    }
   },
   "source": [
    "**`.contents` and `.children`**\n",
    "\n",
    "A tag’s children are available in a list called .contents:"
   ]
  },
  {
   "cell_type": "code",
   "execution_count": 34,
   "metadata": {
    "ExecuteTime": {
     "end_time": "2020-12-20T17:15:31.737681Z",
     "start_time": "2020-12-20T17:15:31.631085Z"
    }
   },
   "outputs": [
    {
     "name": "stdout",
     "output_type": "stream",
     "text": [
      "<head><title>The Dormouse's story</title></head>\n",
      "[<title>The Dormouse's story</title>]\n",
      "<title>The Dormouse's story</title>\n",
      "[\"The Dormouse's story\"]\n"
     ]
    }
   ],
   "source": [
    "head_tag = soup.head\n",
    "print(head_tag)\n",
    "print(head_tag.contents)\n",
    "title_tag = head_tag.contents[0]\n",
    "print(title_tag)\n",
    "print(title_tag.contents)"
   ]
  },
  {
   "cell_type": "markdown",
   "metadata": {
    "slideshow": {
     "slide_type": "subslide"
    }
   },
   "source": [
    "The BeautifulSoup object itself has children. In this case, the <html> tag is the child of the BeautifulSoup object.:"
   ]
  },
  {
   "cell_type": "code",
   "execution_count": 35,
   "metadata": {
    "ExecuteTime": {
     "end_time": "2020-12-20T17:15:31.845178Z",
     "start_time": "2020-12-20T17:15:31.739245Z"
    }
   },
   "outputs": [
    {
     "name": "stdout",
     "output_type": "stream",
     "text": [
      "1\n",
      "html\n"
     ]
    }
   ],
   "source": [
    "print(len(soup.contents))\n",
    "print(soup.contents[0].name)"
   ]
  },
  {
   "cell_type": "markdown",
   "metadata": {
    "slideshow": {
     "slide_type": "subslide"
    }
   },
   "source": [
    "Instead of getting them as a list, you can iterate over a tag’s children using the .children generator:"
   ]
  },
  {
   "cell_type": "code",
   "execution_count": 36,
   "metadata": {
    "ExecuteTime": {
     "end_time": "2020-12-20T17:15:31.953772Z",
     "start_time": "2020-12-20T17:15:31.846646Z"
    }
   },
   "outputs": [
    {
     "name": "stdout",
     "output_type": "stream",
     "text": [
      "<class 'list'>\n",
      "<class 'list_iterator'>\n",
      "The Dormouse's story\n"
     ]
    }
   ],
   "source": [
    "print(type(title_tag.contents))\n",
    "print(type(title_tag.children))\n",
    "for child in title_tag.children:\n",
    "    print(child)"
   ]
  },
  {
   "cell_type": "markdown",
   "metadata": {
    "slideshow": {
     "slide_type": "subslide"
    }
   },
   "source": [
    "**`.string`**\n",
    "\n",
    "If a tag has only one child, the child is made available as .string:\n",
    "\n",
    "If a tag’s only child is another tag, and that tag has a .string, then the parent tag is considered to have the same .string as its child:"
   ]
  },
  {
   "cell_type": "code",
   "execution_count": 37,
   "metadata": {
    "ExecuteTime": {
     "end_time": "2020-12-20T17:15:32.061974Z",
     "start_time": "2020-12-20T17:15:31.955319Z"
    }
   },
   "outputs": [
    {
     "name": "stdout",
     "output_type": "stream",
     "text": [
      "The Dormouse's story\n",
      "[<title>The Dormouse's story</title>]\n",
      "The Dormouse's story\n"
     ]
    }
   ],
   "source": [
    "print(title_tag.string)\n",
    "print(head_tag.contents)\n",
    "print(head_tag.string)"
   ]
  },
  {
   "cell_type": "markdown",
   "metadata": {},
   "source": [
    "If a tag contains more than one thing, then it’s not clear what .string should refer to, so .string is defined to be None:"
   ]
  },
  {
   "cell_type": "code",
   "execution_count": 38,
   "metadata": {
    "ExecuteTime": {
     "end_time": "2020-12-20T17:15:32.161673Z",
     "start_time": "2020-12-20T17:15:32.063511Z"
    }
   },
   "outputs": [
    {
     "name": "stdout",
     "output_type": "stream",
     "text": [
      "None\n"
     ]
    }
   ],
   "source": [
    "print(soup.html.string)"
   ]
  },
  {
   "cell_type": "markdown",
   "metadata": {
    "slideshow": {
     "slide_type": "subslide"
    }
   },
   "source": [
    "### Going up\n",
    "You can access an element’s parent with the .parent attribute. In the example “three sisters” document, the `<head>` tag is the parent of the `<title>` tag:"
   ]
  },
  {
   "cell_type": "code",
   "execution_count": 39,
   "metadata": {
    "ExecuteTime": {
     "end_time": "2020-12-20T17:15:32.262339Z",
     "start_time": "2020-12-20T17:15:32.163199Z"
    }
   },
   "outputs": [
    {
     "name": "stdout",
     "output_type": "stream",
     "text": [
      "<title>The Dormouse's story</title>\n",
      "<head><title>The Dormouse's story</title></head>\n"
     ]
    }
   ],
   "source": [
    "title_tag = soup.title\n",
    "print(title_tag)\n",
    "print(title_tag.parent)"
   ]
  },
  {
   "cell_type": "markdown",
   "metadata": {},
   "source": [
    "**`.parents`**\n",
    "You can iterate over all of an element’s parents with .parents. This example uses .parents to travel from an `<a>` tag buried deep within the document, to the very top of the document:"
   ]
  },
  {
   "cell_type": "code",
   "execution_count": 40,
   "metadata": {
    "ExecuteTime": {
     "end_time": "2020-12-20T17:15:32.362633Z",
     "start_time": "2020-12-20T17:15:32.263833Z"
    },
    "slideshow": {
     "slide_type": "subslide"
    }
   },
   "outputs": [
    {
     "name": "stdout",
     "output_type": "stream",
     "text": [
      "<a class=\"sister\" href=\"http://example.com/elsie\" id=\"link1\">Elsie</a>\n",
      "p\n",
      "body\n",
      "html\n",
      "[document]\n"
     ]
    }
   ],
   "source": [
    "link = soup.a\n",
    "print(link)\n",
    "for parent in link.parents:\n",
    "    print(parent.name)"
   ]
  },
  {
   "cell_type": "markdown",
   "metadata": {
    "slideshow": {
     "slide_type": "subslide"
    }
   },
   "source": [
    "### Going sideways\n",
    "Consider a simple document like this\n",
    "\n",
    "The `<b>` tag and the `<c>` tag are at the same level: they’re both direct children of the same tag. We call them siblings. When a document is pretty-printed, siblings show up at the same indentation level. You can also use this relationship in the code you write."
   ]
  },
  {
   "cell_type": "code",
   "execution_count": 41,
   "metadata": {
    "ExecuteTime": {
     "end_time": "2020-12-20T17:15:32.462282Z",
     "start_time": "2020-12-20T17:15:32.364145Z"
    }
   },
   "outputs": [
    {
     "name": "stdout",
     "output_type": "stream",
     "text": [
      "<a>\n",
      " <b>\n",
      "  text1\n",
      " </b>\n",
      " <c>\n",
      "  text2\n",
      " </c>\n",
      "</a>\n"
     ]
    }
   ],
   "source": [
    "sibling_soup = BeautifulSoup(\"<a><b>text1</b><c>text2</c></b></a>\", 'html.parser')\n",
    "print(sibling_soup.prettify())"
   ]
  },
  {
   "cell_type": "markdown",
   "metadata": {
    "slideshow": {
     "slide_type": "subslide"
    }
   },
   "source": [
    "**`.next_sibling`** and **`.previous_sibling`**\n",
    "\n",
    "You can use `.next_sibling` and `.previous_sibling` to navigate between page elements that are on the same level of the parse tree:"
   ]
  },
  {
   "cell_type": "code",
   "execution_count": 42,
   "metadata": {
    "ExecuteTime": {
     "end_time": "2020-12-20T17:15:32.570314Z",
     "start_time": "2020-12-20T17:15:32.463749Z"
    }
   },
   "outputs": [
    {
     "name": "stdout",
     "output_type": "stream",
     "text": [
      "<c>text2</c>\n",
      "<b>text1</b>\n"
     ]
    }
   ],
   "source": [
    "print(sibling_soup.b.next_sibling)\n",
    "print(sibling_soup.c.previous_sibling)"
   ]
  },
  {
   "cell_type": "markdown",
   "metadata": {
    "slideshow": {
     "slide_type": "slide"
    }
   },
   "source": [
    "## Crawl the weather website"
   ]
  },
  {
   "cell_type": "code",
   "execution_count": 46,
   "metadata": {
    "ExecuteTime": {
     "end_time": "2021-12-22T09:08:41.888973Z",
     "start_time": "2021-12-22T09:08:41.738621Z"
    }
   },
   "outputs": [
    {
     "data": {
      "text/plain": [
       "<html><head>\n",
       "<title>Access Denied</title>\n",
       "</head><body>\n",
       "<h1>Access Denied</h1>\n",
       " \n",
       "You don't have permission to access \"http://www.accuweather.com/en/tw/taipei-city/315078/daily-weather-forecast/315078\" on this server.<p>\n",
       "Reference #18.6142017.1640164121.40ecc93f\n",
       "</p></body>\n",
       "</html>"
      ]
     },
     "execution_count": 46,
     "metadata": {},
     "output_type": "execute_result"
    }
   ],
   "source": [
    "from bs4 import BeautifulSoup as BS\n",
    "\n",
    "now = 'https://www.accuweather.com/en/tw/taipei-city/315078/weather-forecast/315078'\n",
    "daily = 'https://www.accuweather.com/en/tw/taipei-city/315078/daily-weather-forecast/315078'\n",
    "\n",
    "BS(requests.get(daily).text)"
   ]
  },
  {
   "cell_type": "markdown",
   "metadata": {
    "ExecuteTime": {
     "end_time": "2020-09-12T13:15:49.891990Z",
     "start_time": "2020-09-12T13:15:49.883877Z"
    }
   },
   "source": [
    "Ugh..."
   ]
  },
  {
   "cell_type": "code",
   "execution_count": 47,
   "metadata": {
    "ExecuteTime": {
     "end_time": "2021-12-22T09:10:04.458879Z",
     "start_time": "2021-12-22T09:10:03.738891Z"
    },
    "slideshow": {
     "slide_type": "subslide"
    }
   },
   "outputs": [
    {
     "data": {
      "text/plain": [
       "\n",
       "<!DOCTYPE html>\n",
       "\n",
       "<html class=\"accuweather\" lang=\"en-us\">\n",
       "<head>\n",
       "<meta content=\"IE=edge,chrome=1\" http-equiv=\"X-UA-Compatible\"/>\n",
       "<meta charset=\"utf-8\">\n",
       "<link href=\"https://www.accuweather.com/en/tw/taipei-city/315078/daily-weather-forecast/315078\" rel=\"canonical\"/>\n",
       "<title>Taipei City, Taipei City, Taiwan Daily Weather | AccuWeather</title>\n",
       "<meta content=\"Know what's coming with AccuWeather's extended daily forecasts for Taipei City, Taipei City, Taiwan. Up to 90 days of daily highs, lows, and precipitation chances.\" name=\"Description\"/>\n",
       "<meta content=\"width=device-width, initial-scale=1.0\" name=\"viewport\">\n",
       "<meta content=\"origin\" name=\"referrer\"/>\n",
       "<meta content=\"AccuWeather\" property=\"fb:profile_id\"/>\n",
       "<meta content=\"132437483467956\" property=\"fb:app_id\"/>\n",
       "<meta content=\"71781612888\" property=\"fb:pages\"/>\n",
       "<meta content=\"website\" property=\"og:type\"/>\n",
       "<meta content=\"Taipei City, Taipei City, Taiwan Daily Weather | AccuWeather\" property=\"og:title\"/>\n",
       "<meta content=\"Know what's coming with AccuWeather's extended daily forecasts for Taipei City, Taipei City, Taiwan. Up to 90 days of daily highs, lows, and precipitation chances.\" property=\"og:description\"/>\n",
       "<meta content=\"AccuWeather\" property=\"site_name\"/>\n",
       "<meta content=\"https://www.accuweather.com/en/tw/taipei-city/315078/daily-weather-forecast/315078\" property=\"og:url\"/>\n",
       "<meta content=\"https://www.accuweather.com/images/logos/aw-logo-og-meta.png\" property=\"og:image\"/>\n",
       "<meta content=\"https://www.accuweather.com/images/logos/aw-logo-og-meta.png\" property=\"og:image:url\"/>\n",
       "<meta content=\"https://www.accuweather.com/images/logos/aw-logo-og-meta.png\" property=\"og:image:secure_url\"/>\n",
       "<meta content=\"https://twitter.com/accuweather\" name=\"twitter:site\"/>\n",
       "<meta content=\"summary\" name=\"twitter:card\"/>\n",
       "<meta content=\"Taipei City, Taipei City, Taiwan Daily Weather | AccuWeather\" name=\"twitter:text:title\"/>\n",
       "<meta content=\"Taipei City, Taipei City, Taiwan Daily Weather | AccuWeather\" name=\"twitter:title\"/>\n",
       "<meta content=\"Know what's coming with AccuWeather's extended daily forecasts for Taipei City, Taipei City, Taiwan. Up to 90 days of daily highs, lows, and precipitation chances.\" name=\"twitter:description\"/>\n",
       "<meta content=\"https://twitter.com/accuweather\" name=\"twitter:site:id\"/>\n",
       "<meta content=\"https://twitter.com/accuweather\" name=\"twitter:creator\"/>\n",
       "<meta content=\"https://twitter.com/accuweather\" name=\"twitter:creator:id\"/>\n",
       "<meta content=\"https://www.accuweather.com/images/logos/aw-logo-og-meta.png\" name=\"twitter:image\"/>\n",
       "<meta content=\"AccuWeather: Weather Tracker\" name=\"twitter:app:name:iphone\"/>\n",
       "<meta content=\"U7D6TVQ9TT.com.yourcompany.TestWithCustomTabs\" name=\"twitter:app:id:iphone\"/>\n",
       "<meta content=\"https://apps.apple.com/US/app/id300048137?mt=8\" name=\"twitter:app:url:iphone\"/>\n",
       "<meta content=\"AccuWeather: Weather Tracker\" name=\"twitter:app:name:ipad\"/>\n",
       "<meta content=\"U7D6TVQ9TT.com.yourcompany.TestWithCustomTabs\" name=\"twitter:app:id:ipad\"/>\n",
       "<meta content=\"https://apps.apple.com/US/app/id300048137?mt=8\" name=\"twitter:app:url:ipad\"/>\n",
       "<meta content=\"AccuWeather Winter weather alerts &amp; forecast radar\" name=\"twitter:app:name:googleplay\"/>\n",
       "<meta content=\"com.accuweather.android\" name=\"twitter:app:id:googleplay\"/>\n",
       "<meta content=\"https://play.google.com/store/apps/details?id=com.accuweather.android\" name=\"twitter:app:url:googleplay\"/>\n",
       "<script type=\"application/ld+json\">\n",
       "{\n",
       "\t\"@context\": \"https://schema.org\",\n",
       "\t\"@type\": \"Organization\",\n",
       "\t\"name\": \"AccuWeather\",\n",
       "\t\"url\": \"https://www.accuweather.com\",\n",
       "\t\"sameAs\": [\n",
       "\t\t\"https://www.facebook.com/AccuWeather\",\n",
       "\t\t\"https://twitter.com/BreakingWeather\",\n",
       "\t\t\"https://www.instagram.com/accuweather\",\n",
       "\t\t\"https://www.youtube.com/user/accuweather\"\n",
       "  ]\n",
       "}\n",
       "</script>\n",
       "<script type=\"application/ld+json\">\n",
       "\t{\n",
       "\t\t\"@context\": \"https://schema.org\",\n",
       "\t\t\"@type\": \"Place\",\n",
       "\t\t\"address\": {\n",
       "\t\t\t\"@type\": \"PostalAddress\",\n",
       "\t\t\t\"addressLocality\": \"Taipei City, Taiwan\",\n",
       "\t\t\t\"addressRegion\": \"Taipei City\",\n",
       "\t\t\t\"postalCode\": \"\"\n",
       "\t\t},\n",
       "\t\t\"geo\": {\n",
       "\t\t\t\"@type\": \"GeoCoordinates\",\n",
       "\t\t\t\"latitude\": \"25.048\",\n",
       "\t\t\t\"longitude\": \"121.514\",\n",
       "\t\t\t\"addressCountry\": \"TW\",\n",
       "\t\t\t\"postalCode\": \"\"\n",
       "\t\t},\n",
       "\t\t\"name\": \"Taipei City, Taipei City, Taiwan\"\n",
       "\t}\n",
       "\t</script>\n",
       "<script type=\"application/ld+json\">\n",
       "{\n",
       "\t\"@context\": \"https://schema.org\",\n",
       "\t\"@type\": \"WebSite\",\n",
       "\t\"mainEntityOfPage\": {\n",
       "\t\t\"@type\": \"WebPage\",\n",
       "\t\t\"@id\": \"https://www.accuweather.com/en/tw/taipei-city/315078/daily-weather-forecast/315078\",\n",
       "\t\t\"relatedLink\": \"https://www.accuweather.com/en/tw/taipei-city/315078/daily-weather-forecast/315078\"\n",
       "\t},\n",
       "\t\"image\": {\n",
       "\t\t\"@type\": \"ImageObject\",\n",
       "\t\t\"url\": \"https://www.accuweather.com/images/logos/accuweather-dark.png\",\n",
       "\t\t\"height\": 172,\n",
       "\t\t\"width\": 1200\n",
       "\t},\n",
       "\t\"author\": {\n",
       "\t\t\"@type\": \"Person\",\n",
       "\t\t\"name\": \"AccuWeather\"\n",
       "\t},\n",
       "\t\"publisher\": {\n",
       "\t\t\"@context\": \"https://schema.org\",\n",
       "\t\t\"@type\": \"Organization\",\n",
       "\t\t\"name\": \"AccuWeather\",\n",
       "\t\t\"url\": \"https://www.accuweather.com/\",\n",
       "\t\t\"logo\": {\n",
       "\t\t\t\"@type\": \"ImageObject\",\n",
       "\t\t\t\"url\": \"https://www.accuweather.com/images/logos/accuweather-dark-small.png\",\n",
       "\t\t\t\"width\": 163,\n",
       "\t\t\t\"height\": 23\n",
       "\t\t}\n",
       "\t},\n",
       "\t\"url\": \"https://www.accuweather.com/en/tw/taipei-city/315078/daily-weather-forecast/315078\",\n",
       "\t\"headline\": \"Taipei City, Taipei City, Taiwan Daily Weather\",\n",
       "\t\"description\": \"Know what&#x27;s coming with AccuWeather&#x27;s extended daily forecasts for Taipei City, Taipei City, Taiwan. Up to 90 days of daily highs, lows, and precipitation chances.\"\n",
       "}\n",
       "</script>\n",
       "<link crossorigin=\"\" href=\"//securepubads.g.doubleclick.net\" rel=\"preconnect\"/>\n",
       "<link crossorigin=\"\" href=\"//sb.scorecardresearch.com\" rel=\"preconnect\"/>\n",
       "<link crossorigin=\"\" href=\"//www.google-analytics.com\" rel=\"preconnect\"/>\n",
       "<link crossorigin=\"\" href=\"//ff.doubleclick.net\" rel=\"preconnect\"/>\n",
       "<link crossorigin=\"\" href=\"//adservice.google.com\" rel=\"preconnect\"/>\n",
       "<link as=\"font\" crossorigin=\"anonymous\" href=\"/fonts/solis-regular.woff\" rel=\"preload\" type=\"font/woff\"/>\n",
       "<script>\n",
       "\t var globalAdConfig = {\"prebidTimeout\":-1,\"awxTimeout\":5};\n",
       "var isPrebidDisabled = true;\n",
       "var adExclusion = null;\n",
       "var botDetected = 0;\n",
       "var adInfo = {\"fdate\":\"20211222\",\"lang\":\"en-us\",\"ut\":\"1\",\"advelvet\":\"3\",\"inview\":null,\"bot\":\"0\",\"pgview\":\"1\",\"partner\":\"accuweather\",\"ufdb\":\"TAIX\",\"city\":\"Taipei City\",\"country\":\"TW\",\"state\":\"TPE\",\"dma\":null,\"key\":\"315078\",\"browser\":\"firefox\",\"connection\":\"_vhigh_5000\",\"cuhd\":\"93\",\"cuhi\":\"67\",\"cuuv\":\"0\",\"cuwd\":\"17\",\"cuwx\":\"7\",\"realfeel\":\"55,a65,b75,c75,d65\",\"fc1hi\":\"69\",\"fc1lo\":\"66\",\"fc1wx\":\"18\",\"lfscategory\":\"rain\",\"lfsday\":\"1\",\"lfsseverity\":\"5\",\"lfs\":\"5_rain_1\"};\n",
       "var adPageInfo = {category:'weather',template:'extended'};\n",
       "var partnerCode = 'accuweather';\n",
       "var countryCode = 'tw';\n",
       "var networkType = 'Unknown';\n",
       "var throughput = 'vhigh';\n",
       "if (window.Raine) {\n",
       "\twindow.Raine.pageLoading({\n",
       "\t\tserverRenderTime: window.raineConfig.serverRenderTime,\n",
       "\t\tpageName: window.adPageInfo.template,\n",
       "\t\tpageGroup: window.adPageInfo.category,\n",
       "\t\tmock: false,\n",
       "\t\ttestGroup: '',\n",
       "\t\tnetworkType: networkType,\n",
       "\t\tthroughput: throughput,\n",
       "\t\tcountryCode: countryCode,\n",
       "\t\tpartnerCode: partnerCode,\n",
       "\t\tbotDetected: botDetected,\n",
       "\t});\n",
       "}\n",
       "</script>\n",
       "<script>\n",
       "\tvar userCookie = {\"cDate\":\"2021-12-22\",\"isDarkMapStyle\":false,\"lang\":\"en-us\",\"rl\":[\"315078\"],\"tp\":\"C\",\"userContentAffinity\":{}};\n",
       "\tvar recentLocations = [{\"adminArea\":{\"englishName\":\"Taipei City\",\"id\":\"TPE\",\"localizedName\":\"Taipei City\"},\"alertCount\":0,\"country\":{\"englishName\":\"Taiwan\",\"id\":\"TW\",\"localizedName\":\"Taiwan\"},\"icon\":7,\"key\":\"315078\",\"localizedName\":\"Taipei City\",\"postalCode\":\"\",\"temp\":\"17°\"}];\n",
       "\tvar currentLocation = {\"plumeLabsLink\":\"https://air.plumelabs.com/air-quality-in-taipei-700J\",\"englishName\":\"Taipei City\",\"gmtOffset\":8.0,\"hasAlerts\":true,\"hasForecastConfidence\":false,\"hasPollen\":false,\"hasMinuteCast\":true,\"hasFutureRadar\":true,\"lat\":25.048,\"lon\":121.514,\"region\":{\"englishName\":\"Asia\",\"id\":\"ASI\",\"localizedName\":\"Asia\"},\"timeZone\":\"CST\",\"timeZoneCode\":\"CST\",\"administrativeArea\":{\"englishName\":\"Taipei City\",\"id\":\"TPE\",\"localizedName\":\"Taipei City\"},\"country\":{\"englishName\":\"Taiwan\",\"id\":\"TW\",\"localizedName\":\"Taiwan\"},\"key\":\"315078\",\"localizedName\":\"Taipei City\",\"primaryPostalCode\":\"\"};\n",
       "\tvar serverAdsOnPage = [{\"config\":{\"responsiveSizes\":[{\"window\":[1024,0],\"sizes\":[\"fluid\",[980,120],[980,90],[970,250],[970,90],[950,90],[930,180],[750,100],[750,300],[750,200],[728,90]]},{\"window\":[768,0],\"sizes\":[\"fluid\",[728,90],[468,60],[320,50],[300,50]]},{\"window\":[0,0],\"sizes\":[[320,100],[320,50],[300,250],[300,100],[300,50],[250,360],[240,400]]}],\"bids\":[{\"bidder\":\"appnexus\",\"params\":{\"placementId\":12729470,\"supplyType\":\"web\",\"position\":\"above\",\"keywords\":{\"fdate\":[\"20211222\"],\"advelvet\":[\"3\"],\"pgview\":[\"1\"],\"partner\":[\"accuweather\"],\"ufdb\":[\"TAIX\"],\"country\":[\"TW\"],\"state\":[\"TPE\"],\"cuhd\":[\"93\"],\"cuhi\":[\"67\"],\"cuuv\":[\"0\"],\"cuwd\":[\"17\"],\"cuwx\":[\"7\"],\"realfeel\":[\"55\",\"a65\",\"b75\",\"c75\",\"d65\"],\"fc1hi\":[\"69\"],\"fc1lo\":[\"66\"],\"fc1wx\":[\"18\"],\"lfscategory\":[\"rain\"],\"lfsday\":[\"1\"],\"lfsseverity\":[\"5\"],\"lfs\":[\"5_rain_1\"],\"adunit\":[\"/6581/web/asi/top/weather/extended\"]},\"reserve\":0.05},\"isBuyItNow\":false},{\"bidder\":\"appnexus\",\"params\":{\"placementId\":18044795,\"supplyType\":\"web\",\"position\":\"above\",\"keywords\":{\"fdate\":[\"20211222\"],\"advelvet\":[\"3\"],\"pgview\":[\"1\"],\"partner\":[\"accuweather\"],\"ufdb\":[\"TAIX\"],\"country\":[\"TW\"],\"state\":[\"TPE\"],\"cuhd\":[\"93\"],\"cuhi\":[\"67\"],\"cuuv\":[\"0\"],\"cuwd\":[\"17\"],\"cuwx\":[\"7\"],\"realfeel\":[\"55\",\"a65\",\"b75\",\"c75\",\"d65\"],\"fc1hi\":[\"69\"],\"fc1lo\":[\"66\"],\"fc1wx\":[\"18\"],\"lfscategory\":[\"rain\"],\"lfsday\":[\"1\"],\"lfsseverity\":[\"5\"],\"lfs\":[\"5_rain_1\"],\"adunit\":[\"/6581/web/asi/top/weather/extended\"]},\"reserve\":3.0},\"isBuyItNow\":true},{\"bidder\":\"ix\",\"params\":{\"siteId\":197757,\"size\":[728,90]},\"isBuyItNow\":false},{\"bidder\":\"ix\",\"params\":{\"siteId\":197759,\"size\":[970,250]},\"isBuyItNow\":false},{\"bidder\":\"ix\",\"params\":{\"siteId\":495861,\"size\":[970,250],\"bidFloor\":3.0,\"bidFloorCur\":\"USD\"},\"isBuyItNow\":true},{\"bidder\":\"rubicon\",\"params\":{\"siteId\":135890,\"zoneId\":640474,\"sizes\":[2,55,57],\"position\":\"atf\",\"accountId\":\"12562\",\"floor\":0.25},\"isBuyItNow\":false},{\"bidder\":\"rubicon\",\"params\":{\"siteId\":135890,\"zoneId\":1518598,\"sizes\":[2,55,57],\"position\":\"atf\",\"accountId\":\"12562\",\"floor\":3.0},\"isBuyItNow\":true},{\"bidder\":\"triplelift\",\"params\":{\"inventoryCode\":\"accuweather_d_top_leaderboard_pbjs\",\"floor\":0.05},\"isBuyItNow\":false},{\"bidder\":\"criteo\",\"params\":{\"publisherSubId\":\"Web Top\",\"networkId\":3852},\"isBuyItNow\":false},{\"bidder\":\"pubmatic\",\"params\":{\"adSlot\":\"/706795/Web_HB_Top\",\"publisherId\":\"34576\",\"kadfloor\":0.05},\"isBuyItNow\":false},{\"bidder\":\"yahoossp\",\"params\":{\"pos\":\"web_hb_top_1\",\"dcn\":\"8a9691d3017474551cc955a9acbd0027\"},\"isBuyItNow\":false},{\"bidder\":\"grid\",\"params\":{\"uid\":\"6028\"},\"isBuyItNow\":false}]},\"adType\":\"top\",\"viewport\":\"tablet desktop\",\"adDivId\":\"top\",\"adUnitCode\":\"/6581/web/asi/top/weather/extended\",\"upr\":1.25,\"includeInSRA\":true},{\"config\":{\"sizes\":[\"fluid\",[2,2]],\"bids\":[{\"bidder\":\"appnexus\",\"params\":{\"placementId\":16139770,\"supplyType\":\"web\",\"keywords\":{\"fdate\":[\"20211222\"],\"advelvet\":[\"3\"],\"pgview\":[\"1\"],\"partner\":[\"accuweather\"],\"ufdb\":[\"TAIX\"],\"country\":[\"TW\"],\"state\":[\"TPE\"],\"cuhd\":[\"93\"],\"cuhi\":[\"67\"],\"cuuv\":[\"0\"],\"cuwd\":[\"17\"],\"cuwx\":[\"7\"],\"realfeel\":[\"55\",\"a65\",\"b75\",\"c75\",\"d65\"],\"fc1hi\":[\"69\"],\"fc1lo\":[\"66\"],\"fc1wx\":[\"18\"],\"lfscategory\":[\"rain\"],\"lfsday\":[\"1\"],\"lfsseverity\":[\"5\"],\"lfs\":[\"5_rain_1\"],\"adunit\":[\"/6581/web/asi/native/weather/extended\"]},\"reserve\":0.05},\"isBuyItNow\":false},{\"bidder\":\"triplelift\",\"params\":{\"inventoryCode\":\"accuweather_d_weather_native_pbjs\",\"floor\":0.05},\"isBuyItNow\":false}]},\"adType\":\"native\",\"viewport\":\"\",\"adDivId\":\"native\",\"adUnitCode\":\"/6581/web/asi/native/weather/extended\",\"upr\":0.2,\"includeInSRA\":true},{\"config\":{\"responsiveSizes\":[{\"window\":[1024,0],\"sizes\":[\"fluid\",[300,250],[300,600],[250,360],[240,400],[160,600]]},{\"window\":[768,0],\"sizes\":[\"fluid\",[300,250],[300,600],[300,100],[250,360],[240,400],[160,600]]},{\"window\":[0,0],\"sizes\":[]}],\"bids\":[{\"bidder\":\"appnexus\",\"params\":{\"placementId\":12729473,\"supplyType\":\"web\",\"position\":\"above\",\"keywords\":{\"fdate\":[\"20211222\"],\"advelvet\":[\"3\"],\"pgview\":[\"1\"],\"partner\":[\"accuweather\"],\"ufdb\":[\"TAIX\"],\"country\":[\"TW\"],\"state\":[\"TPE\"],\"cuhd\":[\"93\"],\"cuhi\":[\"67\"],\"cuuv\":[\"0\"],\"cuwd\":[\"17\"],\"cuwx\":[\"7\"],\"realfeel\":[\"55\",\"a65\",\"b75\",\"c75\",\"d65\"],\"fc1hi\":[\"69\"],\"fc1lo\":[\"66\"],\"fc1wx\":[\"18\"],\"lfscategory\":[\"rain\"],\"lfsday\":[\"1\"],\"lfsseverity\":[\"5\"],\"lfs\":[\"5_rain_1\"],\"adunit\":[\"/6581/web/asi/top_right/weather/extended\"]},\"reserve\":0.05},\"isBuyItNow\":false},{\"bidder\":\"appnexus\",\"params\":{\"placementId\":18044796,\"supplyType\":\"web\",\"position\":\"above\",\"keywords\":{\"fdate\":[\"20211222\"],\"advelvet\":[\"3\"],\"pgview\":[\"1\"],\"partner\":[\"accuweather\"],\"ufdb\":[\"TAIX\"],\"country\":[\"TW\"],\"state\":[\"TPE\"],\"cuhd\":[\"93\"],\"cuhi\":[\"67\"],\"cuuv\":[\"0\"],\"cuwd\":[\"17\"],\"cuwx\":[\"7\"],\"realfeel\":[\"55\",\"a65\",\"b75\",\"c75\",\"d65\"],\"fc1hi\":[\"69\"],\"fc1lo\":[\"66\"],\"fc1wx\":[\"18\"],\"lfscategory\":[\"rain\"],\"lfsday\":[\"1\"],\"lfsseverity\":[\"5\"],\"lfs\":[\"5_rain_1\"],\"adunit\":[\"/6581/web/asi/top_right/weather/extended\"]},\"reserve\":3.0},\"isBuyItNow\":true},{\"bidder\":\"ix\",\"params\":{\"siteId\":197760,\"size\":[300,250]},\"isBuyItNow\":false},{\"bidder\":\"ix\",\"params\":{\"siteId\":197761,\"size\":[300,600]},\"isBuyItNow\":false},{\"bidder\":\"ix\",\"params\":{\"siteId\":197763,\"size\":[160,600]},\"isBuyItNow\":false},{\"bidder\":\"ix\",\"params\":{\"siteId\":495859,\"size\":[300,250],\"bidFloor\":3.0,\"bidFloorCur\":\"USD\"},\"isBuyItNow\":true},{\"bidder\":\"rubicon\",\"params\":{\"siteId\":135890,\"zoneId\":640474,\"sizes\":[9,15,10],\"position\":\"atf\",\"accountId\":\"12562\",\"floor\":0.25},\"isBuyItNow\":false},{\"bidder\":\"rubicon\",\"params\":{\"siteId\":135890,\"zoneId\":1518598,\"sizes\":[9,10,15],\"position\":\"atf\",\"accountId\":\"12562\",\"floor\":3.0},\"isBuyItNow\":true},{\"bidder\":\"triplelift\",\"params\":{\"inventoryCode\":\"accuweather_d_topright_rectangle_pbjs\",\"floor\":0.05},\"isBuyItNow\":false},{\"bidder\":\"criteo\",\"params\":{\"publisherSubId\":\"Web Top Right\",\"networkId\":3852},\"isBuyItNow\":false},{\"bidder\":\"pubmatic\",\"params\":{\"adSlot\":\"/706803/Web_HB_Top\",\"publisherId\":\"34576\",\"kadfloor\":0.05},\"isBuyItNow\":false},{\"bidder\":\"yahoossp\",\"params\":{\"pos\":\"web_hb_top_2\",\"dcn\":\"8a9691d3017474551cc955a9acbd0027\"},\"isBuyItNow\":false},{\"bidder\":\"grid\",\"params\":{\"uid\":\"6029\"},\"isBuyItNow\":false}]},\"adType\":\"top_right\",\"viewport\":\"tablet desktop\",\"adDivId\":\"top_right\",\"adUnitCode\":\"/6581/web/asi/top_right/weather/extended\",\"upr\":1.25,\"includeInSRA\":true},{\"config\":{\"sizes\":[\"fluid\",[336,280],[320,100],[320,52],[320,50],[300,600],[300,252],[300,250],[300,100],[300,50],[300,52],[250,360],[240,400]],\"bids\":[]},\"adType\":\"middle\",\"viewport\":\"mobile\",\"adDivId\":\"middle\",\"adUnitCode\":\"/6581/web/asi/middle/weather/extended\",\"includeInSRA\":true},{\"config\":{\"responsiveSizes\":[{\"window\":[1024,0],\"sizes\":[\"fluid\",[300,250],[300,600],[250,360],[240,400],[300,251],[300,601],[160,600]]},{\"window\":[768,0],\"sizes\":[\"fluid\",[300,250],[300,600],[300,100],[250,360],[240,400],[300,251],[300,601],[160,600]]},{\"window\":[0,0],\"sizes\":[]}],\"bids\":[{\"bidder\":\"appnexus\",\"params\":{\"placementId\":12729478,\"supplyType\":\"web\",\"keywords\":{\"fdate\":[\"20211222\"],\"advelvet\":[\"3\"],\"pgview\":[\"1\"],\"partner\":[\"accuweather\"],\"ufdb\":[\"TAIX\"],\"country\":[\"TW\"],\"state\":[\"TPE\"],\"cuhd\":[\"93\"],\"cuhi\":[\"67\"],\"cuuv\":[\"0\"],\"cuwd\":[\"17\"],\"cuwx\":[\"7\"],\"realfeel\":[\"55\",\"a65\",\"b75\",\"c75\",\"d65\"],\"fc1hi\":[\"69\"],\"fc1lo\":[\"66\"],\"fc1wx\":[\"18\"],\"lfscategory\":[\"rain\"],\"lfsday\":[\"1\"],\"lfsseverity\":[\"5\"],\"lfs\":[\"5_rain_1\"],\"adunit\":[\"/6581/web/asi/bottom_right/weather/extended\"]},\"reserve\":0.05},\"isBuyItNow\":false},{\"bidder\":\"ix\",\"params\":{\"siteId\":197765,\"size\":[300,250]},\"isBuyItNow\":false},{\"bidder\":\"ix\",\"params\":{\"siteId\":197766,\"size\":[300,600]},\"isBuyItNow\":false},{\"bidder\":\"ix\",\"params\":{\"siteId\":197768,\"size\":[160,600]},\"isBuyItNow\":false},{\"bidder\":\"rubicon\",\"params\":{\"siteId\":135890,\"zoneId\":640476,\"sizes\":[15],\"accountId\":\"12562\",\"floor\":0.25},\"isBuyItNow\":false},{\"bidder\":\"triplelift\",\"params\":{\"inventoryCode\":\"accuweather_d_bottomright_rectangle_pbjs\",\"floor\":0.05},\"isBuyItNow\":false},{\"bidder\":\"criteo\",\"params\":{\"publisherSubId\":\"Web Bottom Right\",\"networkId\":3852},\"isBuyItNow\":false},{\"bidder\":\"pubmatic\",\"params\":{\"adSlot\":\"/706856/Web_HB_Bottom\",\"publisherId\":\"34576\",\"kadfloor\":0.05},\"isBuyItNow\":false},{\"bidder\":\"yahoossp\",\"params\":{\"pos\":\"web_hb_bottom_2\",\"dcn\":\"8a9691d3017474551cc955a9acbd0027\"},\"isBuyItNow\":false},{\"bidder\":\"grid\",\"params\":{\"uid\":\"6031\"},\"isBuyItNow\":false}]},\"adType\":\"bottom_right\",\"viewport\":\"tablet desktop\",\"adDivId\":\"bottom_right\",\"adUnitCode\":\"/6581/web/asi/bottom_right/weather/extended\",\"upr\":0.5,\"includeInSRA\":true},{\"config\":{\"responsiveSizes\":[{\"window\":[1024,0],\"sizes\":[\"fluid\",[980,120],[980,90],[970,251],[970,250],[970,90],[950,90],[930,180],[750,100],[750,200],[750,300],[728,91],[728,90]]},{\"window\":[768,0],\"sizes\":[\"fluid\",[728,91],[728,90],[468,60],[320,51],[320,50],[300,51],[300,50]]},{\"window\":[0,0],\"sizes\":[\"fluid\",[320,100],[320,51],[300,250],[300,600],[336,280],[320,50],[300,50],[300,100],[300,51],[300,251],[300,100],[250,360],[240,400]]}],\"bids\":[{\"bidder\":\"appnexus\",\"params\":{\"placementId\":12729477,\"supplyType\":\"web\",\"keywords\":{\"fdate\":[\"20211222\"],\"advelvet\":[\"3\"],\"pgview\":[\"1\"],\"partner\":[\"accuweather\"],\"ufdb\":[\"TAIX\"],\"country\":[\"TW\"],\"state\":[\"TPE\"],\"cuhd\":[\"93\"],\"cuhi\":[\"67\"],\"cuuv\":[\"0\"],\"cuwd\":[\"17\"],\"cuwx\":[\"7\"],\"realfeel\":[\"55\",\"a65\",\"b75\",\"c75\",\"d65\"],\"fc1hi\":[\"69\"],\"fc1lo\":[\"66\"],\"fc1wx\":[\"18\"],\"lfscategory\":[\"rain\"],\"lfsday\":[\"1\"],\"lfsseverity\":[\"5\"],\"lfs\":[\"5_rain_1\"],\"adunit\":[\"/6581/web/asi/bottom/weather/extended\"]},\"reserve\":0.05},\"isBuyItNow\":false},{\"bidder\":\"ix\",\"params\":{\"siteId\":197764,\"size\":[728,90]},\"isBuyItNow\":false},{\"bidder\":\"ix\",\"params\":{\"siteId\":197764,\"size\":[970,250]},\"isBuyItNow\":false},{\"bidder\":\"rubicon\",\"params\":{\"siteId\":135890,\"zoneId\":640476,\"sizes\":[2,57],\"accountId\":\"12562\",\"floor\":0.25},\"isBuyItNow\":false},{\"bidder\":\"triplelift\",\"params\":{\"inventoryCode\":\"accuweather_d_bottom_leaderboard_pbjs\",\"floor\":0.05},\"isBuyItNow\":false},{\"bidder\":\"criteo\",\"params\":{\"publisherSubId\":\"Web Bottom\",\"networkId\":3852},\"isBuyItNow\":false},{\"bidder\":\"pubmatic\",\"params\":{\"adSlot\":\"/706850/Web_HB_Bottom\",\"publisherId\":\"34576\",\"kadfloor\":0.05},\"isBuyItNow\":false},{\"bidder\":\"yahoossp\",\"params\":{\"pos\":\"web_hb_bottom_1\",\"dcn\":\"8a9691d3017474551cc955a9acbd0027\"},\"isBuyItNow\":false},{\"bidder\":\"grid\",\"params\":{\"uid\":\"6030\"},\"isBuyItNow\":false}]},\"adType\":\"bottom\",\"viewport\":\"\",\"adDivId\":\"bottom\",\"adUnitCode\":\"/6581/web/asi/bottom/weather/extended\",\"upr\":0.4,\"includeInSRA\":true},{\"adType\":\"oop\",\"viewport\":\"\",\"adDivId\":\"oop\",\"adUnitCode\":\"/6581/web/asi/oop/weather/extended\",\"includeInSRA\":true},{\"adType\":\"interstitial\",\"viewport\":\"\",\"adDivId\":\"interstitial\",\"adUnitCode\":\"/6581/web/asi/interstitial/weather/extended\",\"upr\":4.0,\"includeInSRA\":false}];\n",
       "\tvar weatherEvents = [];\n",
       "\tvar userData = {\"city\":\"TAIPEI\",\"continent\":1,\"countryCode\":\"TW\",\"county\":\"\",\"lat\":25.02,\"lon\":121.45,\"regionCode\":\"\",\"throughput\":\"vhigh\",\"bw\":\"5000\",\"networkType\":\"\",\"device\":{}};\n",
       "\tvar showPrivacyPolicyBanner = true;\n",
       "\tvar consentCookie = '.AspNet.Consent=yes; expires=Thu, 22 Dec 2022 09:10:04 GMT; path=/; samesite=lax';\n",
       "\tvar mapbox={token:'pk.eyJ1IjoiYWNjdXdlYXRoZXItaW5jIiwiYSI6ImNqeGtxeDc4ZDAyY2czcnA0Ym9ubzh0MTAifQ.HjSuXwG2bI05yFYmc0c9lw',style:'mapbox://styles/accuweather-inc/cjknc24na2o5u2sqoy0t8ku8a'};\n",
       "\tvar dts={token:'de13920f574d420984d3080b1fa6132b'};\n",
       "\tsetTimeout(function() {\n",
       "\t\tvar reg = new RegExp('(\\\\s|^)' + 'ads-not-loaded' + '(\\\\s|$)');\n",
       "\t\tif (document.body.hasAttribute('class')) {\n",
       "\t\t\tdocument.body.setAttribute('class', document.body.getAttribute('class').replace(reg, ' '));\n",
       "\t\t}\n",
       "\t}, 3000);\n",
       "</script>\n",
       "<script>\n",
       "\tvar hostEnvironment = 'Production-NEURO-FC-K8S';\n",
       "\tvar pageId = 'daily';\n",
       "\tvar siteVersion = \"2.1.93.2\";\n",
       "</script>\n",
       "<script>const startMetric=Date.now();function measureTiming(t){var e=Date.now()-startMetric;console.log(t+\": \"+e);window[t]=e}</script>\n",
       "<script type=\"text/javascript\">!function(t,e){\"object\"==typeof exports&&\"undefined\"!=typeof module?module.exports=e():\"function\"==typeof define&&define.amd?define(e):t.ES6Promise=e()}(this,function(){\"use strict\";function t(t){var e=typeof t;return null!==t&&(\"object\"===e||\"function\"===e)}function e(t){return\"function\"==typeof t}function n(t){B=t}function r(t){G=t}function o(){return function(){return process.nextTick(a)}}function i(){return\"undefined\"!=typeof z?function(){z(a)}:c()}function s(){var t=0,e=new J(a),n=document.createTextNode(\"\");return e.observe(n,{characterData:!0}),function(){n.data=t=++t%2}}function u(){var t=new MessageChannel;return t.port1.onmessage=a,function(){return t.port2.postMessage(0)}}function c(){var t=setTimeout;return function(){return t(a,1)}}function a(){for(var t=0;t<W;t+=2){var e=V[t],n=V[t+1];e(n),V[t]=void 0,V[t+1]=void 0}W=0}function f(){try{var t=Function(\"return this\")().require(\"vertx\");return z=t.runOnLoop||t.runOnContext,i()}catch(e){return c()}}function l(t,e){var n=this,r=new this.constructor(p);void 0===r[Z]&&O(r);var o=n._state;if(o){var i=arguments[o-1];G(function(){return P(o,r,i,n._result)})}else E(n,r,t,e);return r}function h(t){var e=this;if(t&&\"object\"==typeof t&&t.constructor===e)return t;var n=new e(p);return g(n,t),n}function p(){}function v(){return new TypeError(\"You cannot resolve a promise with itself\")}function d(){return new TypeError(\"A promises callback cannot return that same promise.\")}function _(t){try{return t.then}catch(e){return nt.error=e,nt}}function y(t,e,n,r){try{t.call(e,n,r)}catch(o){return o}}function m(t,e,n){G(function(t){var r=!1,o=y(n,e,function(n){r||(r=!0,e!==n?g(t,n):S(t,n))},function(e){r||(r=!0,j(t,e))},\"Settle: \"+(t._label||\" unknown promise\"));!r&&o&&(r=!0,j(t,o))},t)}function b(t,e){e._state===tt?S(t,e._result):e._state===et?j(t,e._result):E(e,void 0,function(e){return g(t,e)},function(e){return j(t,e)})}function w(t,n,r){n.constructor===t.constructor&&r===l&&n.constructor.resolve===h?b(t,n):r===nt?(j(t,nt.error),nt.error=null):void 0===r?S(t,n):e(r)?m(t,n,r):S(t,n)}function g(e,n){e===n?j(e,v()):t(n)?w(e,n,_(n)):S(e,n)}function A(t){t._onerror&&t._onerror(t._result),T(t)}function S(t,e){t._state===$&&(t._result=e,t._state=tt,0!==t._subscribers.length&&G(T,t))}function j(t,e){t._state===$&&(t._state=et,t._result=e,G(A,t))}function E(t,e,n,r){var o=t._subscribers,i=o.length;t._onerror=null,o[i]=e,o[i+tt]=n,o[i+et]=r,0===i&&t._state&&G(T,t)}function T(t){var e=t._subscribers,n=t._state;if(0!==e.length){for(var r=void 0,o=void 0,i=t._result,s=0;s<e.length;s+=3)r=e[s],o=e[s+n],r?P(n,r,o,i):o(i);t._subscribers.length=0}}function M(t,e){try{return t(e)}catch(n){return nt.error=n,nt}}function P(t,n,r,o){var i=e(r),s=void 0,u=void 0,c=void 0,a=void 0;if(i){if(s=M(r,o),s===nt?(a=!0,u=s.error,s.error=null):c=!0,n===s)return void j(n,d())}else s=o,c=!0;n._state!==$||(i&&c?g(n,s):a?j(n,u):t===tt?S(n,s):t===et&&j(n,s))}function x(t,e){try{e(function(e){g(t,e)},function(e){j(t,e)})}catch(n){j(t,n)}}function C(){return rt++}function O(t){t[Z]=rt++,t._state=void 0,t._result=void 0,t._subscribers=[]}function k(){return new Error(\"Array Methods must be provided an Array\")}function F(t){return new ot(this,t).promise}function Y(t){var e=this;return new e(U(t)?function(n,r){for(var o=t.length,i=0;i<o;i++)e.resolve(t[i]).then(n,r)}:function(t,e){return e(new TypeError(\"You must pass an array to race.\"))})}function q(t){var e=this,n=new e(p);return j(n,t),n}function D(){throw new TypeError(\"You must pass a resolver function as the first argument to the promise constructor\")}function K(){throw new TypeError(\"Failed to construct 'Promise': Please use the 'new' operator, this object constructor cannot be called as a function.\")}function L(){var t=void 0;if(\"undefined\"!=typeof global)t=global;else if(\"undefined\"!=typeof self)t=self;else try{t=Function(\"return this\")()}catch(e){throw new Error(\"polyfill failed because global object is unavailable in this environment\")}var n=t.Promise;if(n){var r=null;try{r=Object.prototype.toString.call(n.resolve())}catch(e){}if(\"[object Promise]\"===r&&!n.cast)return}t.Promise=it}var N=void 0;N=Array.isArray?Array.isArray:function(t){return\"[object Array]\"===Object.prototype.toString.call(t)};var U=N,W=0,z=void 0,B=void 0,G=function(t,e){V[W]=t,V[W+1]=e,W+=2,2===W&&(B?B(a):X())},H=\"undefined\"!=typeof window?window:void 0,I=H||{},J=I.MutationObserver||I.WebKitMutationObserver,Q=\"undefined\"==typeof self&&\"undefined\"!=typeof process&&\"[object process]\"==={}.toString.call(process),R=\"undefined\"!=typeof Uint8ClampedArray&&\"undefined\"!=typeof importScripts&&\"undefined\"!=typeof MessageChannel,V=new Array(1e3),X=void 0;X=Q?o():J?s():R?u():void 0===H&&\"function\"==typeof require?f():c();var Z=Math.random().toString(36).substring(2),$=void 0,tt=1,et=2,nt={error:null},rt=0,ot=function(){function t(t,e){this._instanceConstructor=t,this.promise=new t(p),this.promise[Z]||O(this.promise),U(e)?(this.length=e.length,this._remaining=e.length,this._result=new Array(this.length),0===this.length?S(this.promise,this._result):(this.length=this.length||0,this._enumerate(e),0===this._remaining&&S(this.promise,this._result))):j(this.promise,k())}return t.prototype._enumerate=function(t){for(var e=0;this._state===$&&e<t.length;e++)this._eachEntry(t[e],e)},t.prototype._eachEntry=function(t,e){var n=this._instanceConstructor,r=n.resolve;if(r===h){var o=_(t);if(o===l&&t._state!==$)this._settledAt(t._state,e,t._result);else if(\"function\"!=typeof o)this._remaining--,this._result[e]=t;else if(n===it){var i=new n(p);w(i,t,o),this._willSettleAt(i,e)}else this._willSettleAt(new n(function(e){return e(t)}),e)}else this._willSettleAt(r(t),e)},t.prototype._settledAt=function(t,e,n){var r=this.promise;r._state===$&&(this._remaining--,t===et?j(r,n):this._result[e]=n),0===this._remaining&&S(r,this._result)},t.prototype._willSettleAt=function(t,e){var n=this;E(t,void 0,function(t){return n._settledAt(tt,e,t)},function(t){return n._settledAt(et,e,t)})},t}(),it=function(){function t(e){this[Z]=C(),this._result=this._state=void 0,this._subscribers=[],p!==e&&(\"function\"!=typeof e&&D(),this instanceof t?x(this,e):K())}return t.prototype[\"catch\"]=function(t){return this.then(null,t)},t.prototype[\"finally\"]=function(t){var n=this,r=n.constructor;return e(t)?n.then(function(e){return r.resolve(t()).then(function(){return e})},function(e){return r.resolve(t()).then(function(){throw e})}):n.then(t,t)},t}();return it.prototype.then=l,it.all=F,it.race=Y,it.resolve=h,it.reject=q,it._setScheduler=n,it._setAsap=r,it._asap=G,it.polyfill=L,it.Promise=it,it.polyfill(),it});</script>\n",
       "<script>window.isUserCountryEEA = false;</script>\n",
       "<script async=\"\" src=\"https://securepubads.g.doubleclick.net/tag/js/gpt.js\"></script>\n",
       "<script async=\"\" charset=\"utf-8\" src=\"/bundles/ad-manager.6c7386103b476c464d44.js\"></script>\n",
       "<script>\n",
       "function getAwxSession(categories, pageId) {\n",
       "\tconst AWX_SESSION_NAME = 'awx_session';\n",
       "\tconst defaultVal = {\n",
       "\t\tcategoryFlow: [],\n",
       "\t\tvisitFlow: [],\n",
       "\t\tttl: Date.now() + 600000\n",
       "\t};\n",
       "\n",
       "\tlet awxSession = JSON.parse(window.localStorage.getItem(AWX_SESSION_NAME) || '{}');\n",
       "\tif (!awxSession.ttl || Date.now() > awxSession.ttl) {\n",
       "\t\tawxSession = defaultVal;\n",
       "\t}\n",
       "\n",
       "\tif (categories) {\n",
       "\t\tcategories = categories.toLowerCase().replace(/\\s/g, '-');\n",
       "\t\tawxSession.categoryFlow = awxSession.categoryFlow.concat(categories.split('|')).slice(-30);\n",
       "\t}\n",
       "\n",
       "\tif (pageId) {\n",
       "\t\tawxSession.visitFlow.push(pageId);\n",
       "\t}\n",
       "\n",
       "\ttry {\n",
       "\t\twindow.localStorage.setItem(AWX_SESSION_NAME, JSON.stringify(awxSession));\n",
       "\t} catch {};\n",
       "\n",
       "\treturn {\n",
       "\t\tcategoryFlow: awxSession.categoryFlow.join('/'),\n",
       "\t\tvisitFlow: awxSession.visitFlow.join('/')\n",
       "\t};\n",
       "}\n",
       "\n",
       "function getUserContentAffinity(categories) {\n",
       "\tconst storageKey = 'awxContentAffinity';\n",
       "\tconst storageValue = window.localStorage.getItem(storageKey);\n",
       "\tconst contentAffinity = (storageValue && storageValue !== '{}') ? JSON.parse(storageValue) : window.userCookie.userContentAffinity;\n",
       "\n",
       "\tif (categories) {\n",
       "\t\tcategories = categories.toLowerCase().replace(/\\s/g, '-');\n",
       "\t\tcategories.split('|').forEach(function(category) {\n",
       "\t\t\tcontentAffinity[category] = (contentAffinity[category] || 0) + 1;\n",
       "\t\t});\n",
       "\t}\n",
       "\n",
       "\ttry {\n",
       "\t\twindow.localStorage.setItem(storageKey, JSON.stringify(contentAffinity));\n",
       "\t} catch {};\n",
       "\n",
       "\treturn Object.keys(contentAffinity).map(function(category) {\n",
       "\t\treturn category + ':' + contentAffinity[category];\n",
       "\t}).join('/');\n",
       "}\n",
       "</script>\n",
       "<script>\n",
       "\tfunction getCampaignLongevity() {\n",
       "\t\tvar inBrowser = typeof window !== 'undefined';\n",
       "\t\tvar hasLocalStorage =\n",
       "\t\t\tinBrowser &&\n",
       "\t\t\t'localStorage' in window &&\n",
       "\t\t\twindow.localStorage !== null &&\n",
       "\t\t\ttypeof window.localStorage.setItem === 'function' &&\n",
       "\t\t\ttypeof window.localStorage.getItem === 'function';\n",
       "\n",
       "\t\tfunction getParamByName(name, url) {\n",
       "\t\t\tif (!url) url = window.location.href;\n",
       "\t\t\tname = name.replace(/[\\[\\]]/g, '\\\\$&');\n",
       "\t\t\tvar regex = new RegExp('[?&]' + name + '(=([^&#]*)|&|#|$)');\n",
       "\t\t\tvar results = regex.exec(url);\n",
       "\t\t\tif (!results) return null;\n",
       "\t\t\tif (!results[2]) return '';\n",
       "\t\t\treturn decodeURIComponent(results[2].replace(/\\+/g, ' '));\n",
       "\t\t}\n",
       "\n",
       "\t\tfunction getItem(name) {\n",
       "\t\t\tvar value;\n",
       "\n",
       "\t\t\tif (hasLocalStorage) {\n",
       "\t\t\t\ttry {\n",
       "\t\t\t\t\tvalue = window.localStorage.getItem(name);\n",
       "\t\t\t\t} catch (err) {\n",
       "\t\t\t\t\tconsole.error('Failed to read from local storage.', err);\n",
       "\t\t\t\t}\n",
       "\t\t\t} else {\n",
       "\t\t\t\tvalue = getCookie(name);\n",
       "\t\t\t}\n",
       "\n",
       "\t\t\treturn value;\n",
       "\t\t};\n",
       "\n",
       "\t\tfunction setItem(name, value) {\n",
       "\t\t\tvar valueAsString =\n",
       "\t\t\t\ttypeof value === 'string' ? value : JSON.stringify(value);\n",
       "\t\t\tif (hasLocalStorage) {\n",
       "\t\t\t\ttry {\n",
       "\t\t\t\t\twindow.localStorage.setItem(name, valueAsString);\n",
       "\t\t\t\t\treturn true;\n",
       "\t\t\t\t} catch (err) {\n",
       "\t\t\t\t\tconsole.error('Failed to write to local storage.', err);\n",
       "\t\t\t\t}\n",
       "\t\t\t} else {\n",
       "\t\t\t\t// Cookie fallback\n",
       "\t\t\t\tsetCookie(name, valueAsString, 365);\n",
       "\t\t\t}\n",
       "\t\t};\n",
       "\n",
       "\t\tfunction setCookie(name, value, days) {\n",
       "\t\t\tvar expires = \"\";\n",
       "\t\t\tif (days) {\n",
       "\t\t\t\tvar date = new Date();\n",
       "\t\t\t\tdate.setTime(date.getTime() + (days * 24 * 60 * 60 * 1000));\n",
       "\t\t\t\texpires = \"; expires=\" + date.toUTCString();\n",
       "\t\t\t}\n",
       "\t\t\tdocument.cookie = name + \"=\" + (value || \"\") + expires + \"; path=/\";\n",
       "\t\t}\n",
       "\n",
       "\t\tfunction getCookie(name) {\n",
       "\t\t\tvar nameEQ = name + \"=\";\n",
       "\t\t\tvar ca = document.cookie.split(';');\n",
       "\t\t\tfor (var i = 0; i < ca.length; i++) {\n",
       "\t\t\t\tvar c = ca[i];\n",
       "\t\t\t\twhile (c.charAt(0) == ' ') c = c.substring(1, c.length);\n",
       "\t\t\t\tif (c.indexOf(nameEQ) == 0) return c.substring(nameEQ.length, c.length);\n",
       "\t\t\t}\n",
       "\t\t\treturn null;\n",
       "\t\t}\n",
       "\n",
       "\t\tvar longevityCheckKey = 'utmCampaignCookie';\n",
       "\t\tvar localUtmCampaign = getParamByName('utm_campaign');\n",
       "\t\tvar longevityCheck = null;\n",
       "\t\tif (!localUtmCampaign) {\n",
       "\t\t\treturn null;\n",
       "\t\t} else {\n",
       "\t\t\tvar today = new Date();\n",
       "\t\t\tvar todayEpoch = today.getTime();\n",
       "\n",
       "\t\t\tvar campaignArray =\n",
       "\t\t\t\tJSON.parse(getItem(longevityCheckKey)) || [];\n",
       "\t\t\tvar localCampaign = campaignArray.filter(function (x) {\n",
       "\t\t\t\treturn x.campaign === localUtmCampaign\n",
       "\t\t\t})[0];\n",
       "\t\t\tif (localCampaign) {\n",
       "\t\t\t\tvar diff = todayEpoch - parseInt(localCampaign.dateAdded || 0);\n",
       "\t\t\t\tvar diffDays = diff / (1000 * 3600 * 24);\n",
       "\t\t\t\tif (diffDays < 1) {\n",
       "\t\t\t\t\tdiffDays = 0;\n",
       "\t\t\t\t}\n",
       "\t\t\t\tlongevityCheck = diffDays;\n",
       "\t\t\t} else {\n",
       "\t\t\t\tcampaignArray.push({\n",
       "\t\t\t\t\tcampaign: localUtmCampaign,\n",
       "\t\t\t\t\tdateAdded: todayEpoch,\n",
       "\t\t\t\t});\n",
       "\t\t\t\tsetItem(longevityCheckKey, campaignArray.slice(0, 20));\n",
       "\t\t\t\tlongevityCheck = 0;\n",
       "\t\t\t}\n",
       "\t\t\treturn Math.round(longevityCheck);\n",
       "\t\t}\n",
       "\t}\n",
       "</script>\n",
       "<script>\n",
       "function getHitTimeStamp () {\n",
       "    // Get local time as ISO string with offset at the end\n",
       "    var now = new Date();\n",
       "    var tzo = -now.getTimezoneOffset();\n",
       "    var dif = tzo >= 0 ? '+' : '-';\n",
       "    var pad = function(num) {\n",
       "        var norm = Math.abs(Math.floor(num));\n",
       "        return (norm < 10 ? '0' : '') + norm;\n",
       "    }\n",
       "    return now.getFullYear()\n",
       "        + '-' + pad(now.getMonth()+1)\n",
       "        + '-' + pad(now.getDate())\n",
       "        + 'T' + pad(now.getHours())\n",
       "        + ':' + pad(now.getMinutes())\n",
       "        + ':' + pad(now.getSeconds())\n",
       "        + '.' + pad(now.getMilliseconds())\n",
       "        + dif + pad(tzo / 60)\n",
       "        + ':' + pad(tzo % 60);\n",
       "}\n",
       "function getRandomSessionId () {\n",
       "    return new Date().getTime() + '.' + Math.random().toString(36).substring(5);\n",
       "}\n",
       "function getLocalTimeHour () {\n",
       "\tvar now = new Date();\n",
       "\tvar str = now.toString();\n",
       "\tvar fullTime = now.toString().split(' ')[4];\n",
       "\treturn fullTime.split(\":\")[0];\n",
       "}\n",
       "function getGmtOffset () {\n",
       "\tvar now = new Date();\n",
       "\tvar str = now.toString();\n",
       "\tvar tz = now.toString().split('GMT')[1]\n",
       "\n",
       "\treturn \"GMT \" + tz;\n",
       "}\n",
       "\n",
       "(function(i,s,o,g,r,a,m){i['GoogleAnalyticsObject']=r;i[r]=i[r]||function(){\n",
       "(i[r].q=i[r].q||[]).push(arguments)},i[r].l=1*new Date();a=s.createElement(o),\n",
       "m=s.getElementsByTagName(o)[0];a.async=1;a.src=g;m.parentNode.insertBefore(a,m)\n",
       "})(window,document,'script','https://www.google-analytics.com/analytics.js','ga');\n",
       "ga('create', 'UA-20804842-17', 'auto', 'awxTracker');\n",
       "ga(function(tracker) {\n",
       "\tvar awxSession = getAwxSession('', 'daily');\n",
       "\ttracker = ga.getByName('awxTracker');\n",
       "\tconst gaClientId = tracker.get('clientId');\n",
       "\tga('awxTracker.set', 'dimension1', '/6581/web/asi/top/weather/extended');\n",
       "\tga('awxTracker.set', 'dimension2', 'accuweather');\n",
       "\tga('awxTracker.set', 'dimension3', 'en-us');\n",
       "\tga('awxTracker.set', 'dimension4', '');\n",
       "\tga('awxTracker.set', 'dimension5', 'TAIX');\n",
       "\tga('awxTracker.set', 'dimension6', getLocalTimeHour());\n",
       "\tga('awxTracker.set', 'dimension7', awxSession.visitFlow);\n",
       "\tga('awxTracker.set', 'dimension8', 'Cloudy');\n",
       "\tga('awxTracker.set', 'dimension9', '');\n",
       "\tga('awxTracker.set', 'dimension10', '63');\n",
       "\tga('awxTracker.set', 'dimension11', 'responsive');\n",
       "\tga('awxTracker.set', 'dimension12', 'tw');\n",
       "\tga('awxTracker.set', 'dimension13', 'daily');\n",
       "\tga('awxTracker.set', 'dimension14', 'taipei city');\n",
       "\tga('awxTracker.set', 'dimension15', '');\n",
       "\tga('awxTracker.set', 'dimension16', '');\n",
       "\tga('awxTracker.set', 'dimension17', 'not article');\n",
       "\tga('awxTracker.set', 'dimension18', '1');\n",
       "\tga('awxTracker.set', 'dimension19', '2021-12-22');\n",
       "\tga('awxTracker.set', 'dimension20', gaClientId);\n",
       "\tga('awxTracker.set', 'dimension21', getHitTimeStamp());\n",
       "\tga('awxTracker.set', 'dimension22', getRandomSessionId());\n",
       "\tga('awxTracker.set', 'dimension23', 'Mozilla/5.0 (X11; Ubuntu; Linux x86_64; rv:80.0) Gecko/20100101 Firefox/80.0');\n",
       "\tga('awxTracker.set', 'dimension25', 'No_gtm');\n",
       "\tga('awxTracker.set', 'dimension26', '');\n",
       "\tga('awxTracker.set', 'dimension27', '');\n",
       "\tga('awxTracker.set', 'dimension28', '');\n",
       "\tga('awxTracker.set', 'dimension29', '');\n",
       "\tga('awxTracker.set', 'dimension30', '');\n",
       "\tga('awxTracker.set', 'dimension31', '');\n",
       "\tga('awxTracker.set', 'dimension32', '');\n",
       "\tga('awxTracker.set', 'dimension33', '');\n",
       "\tga('awxTracker.set', 'dimension35', '');\n",
       "\tga('awxTracker.set', 'dimension37', '');\n",
       "\tga('awxTracker.set', 'dimension39', document.referrer);\n",
       "\tga('awxTracker.set', 'dimension44', '');\n",
       "\tga('awxTracker.set', 'dimension45', '');\n",
       "\tga('awxTracker.set', 'dimension46', '');\n",
       "\tga('awxTracker.set', 'dimension47', '');\n",
       "\tga('awxTracker.set', 'dimension48', '0');\n",
       "\tga('awxTracker.set', 'dimension56', window.location.href);\n",
       "\tga('awxTracker.set', 'dimension63', getGmtOffset());\n",
       "\tga('awxTracker.set', 'dimension66', '');\n",
       "\tga('awxTracker.set', 'dimension67', awxSession.categoryFlow);\n",
       "\tga('awxTracker.set', 'dimension68', getUserContentAffinity(''));\n",
       "\tga('awxTracker.set', 'dimension69', 'rr: men&#x27;s flannel shirts to keep you warm and stylish');\n",
       "\tga('awxTracker.set', 'dimension70', 'rr: 5');\n",
       "\tga('awxTracker.set', 'dimension71', 'Taiwan, Province of China|desktop');\n",
       "\tga('awxTracker.set', 'dimension73', getCampaignLongevity());\n",
       "\tga('awxTracker.send', 'pageview', {\n",
       "\t\t'dimension24': 'GA Pageview - All'\n",
       "\t});\n",
       "});\n",
       "</script>\n",
       "<style>\n",
       "\t\t\t@font-face {\n",
       "\t\t\t\tfont-family: 'Solis';\n",
       "\t\t\t\tsrc: url('/fonts/solis-regular.woff') format('woff');\n",
       "\t\t\t\tfont-weight: 400;\n",
       "\t\t\t\tfont-style: normal;\n",
       "\t\t\t\tfont-display: swap;\n",
       "\t\t\t}\n",
       "\n",
       "\t\t\t@font-face {\n",
       "\t\t\t\tfont-family: 'Solis';\n",
       "\t\t\t\tsrc: url('/fonts/solis-light.woff') format('woff');\n",
       "\t\t\t\tfont-weight: 300;\n",
       "\t\t\t\tfont-style: normal;\n",
       "\t\t\t\tfont-display: swap;\n",
       "\t\t\t}\n",
       "\n",
       "\t\t\t@font-face {\n",
       "\t\t\t\tfont-family: 'Solis';\n",
       "\t\t\t\tsrc: url('/fonts/solis-medium.woff') format('woff');\n",
       "\t\t\t\tfont-weight: 500;\n",
       "\t\t\t\tfont-style: normal;\n",
       "\t\t\t\tfont-display: swap;\n",
       "\t\t\t}\n",
       "\n",
       "\t\t\t@font-face {\n",
       "\t\t\t\tfont-family: 'Solis';\n",
       "\t\t\t\tsrc: url('/fonts/solis-bold.woff') format('woff');\n",
       "\t\t\t\tfont-weight: 700;\n",
       "\t\t\t\tfont-style: normal;\n",
       "\t\t\t\tfont-display: swap;\n",
       "\t\t\t}\n",
       "\t\t</style>\n",
       "<link href=\"/bundles/city.daily-desktop.9db13f89dcee33540c1b.css\" rel=\"stylesheet\">\n",
       "<link href=\"/bundles/6436.f3dc36abeb869ef8c518.css\" rel=\"stylesheet\">\n",
       "<script>(window.BOOMR_mq=window.BOOMR_mq||[]).push([\"addVar\",{\"rua.upush\":\"false\",\"rua.cpush\":\"false\",\"rua.upre\":\"false\",\"rua.cpre\":\"false\",\"rua.uprl\":\"false\",\"rua.cprl\":\"false\",\"rua.cprf\":\"false\",\"rua.trans\":\"\",\"rua.cook\":\"false\",\"rua.ims\":\"false\",\"rua.ufprl\":\"false\",\"rua.cfprl\":\"false\",\"rua.isuxp\":\"false\",\"rua.texp\":\"norulematch\"}]);</script>\n",
       "<script>!function(){function o(n,i){if(n&&i)for(var r in i)i.hasOwnProperty(r)&&(void 0===n[r]?n[r]=i[r]:n[r].constructor===Object&&i[r].constructor===Object?o(n[r],i[r]):n[r]=i[r])}try{var n=decodeURIComponent(\"%7B%22LOGN%22%3A%7B%22storeConfig%22%3Atrue%7D%2C%22Early%22%3A%7B%22enabled%22%3Atrue%7D%7D\");if(n.length>0&&window.JSON&&\"function\"==typeof window.JSON.parse){var i=JSON.parse(n);void 0!==window.BOOMR_config?o(window.BOOMR_config,i):window.BOOMR_config=i}}catch(r){window.console&&\"function\"==typeof window.console.error&&console.error(\"mPulse: Could not parse configuration\",r)}}();</script>\n",
       "<script>!function(a){var e=\"https://s.go-mpulse.net/boomerang/\",t=\"addEventListener\";if(\"False\"==\"True\")a.BOOMR_config=a.BOOMR_config||{},a.BOOMR_config.PageParams=a.BOOMR_config.PageParams||{},a.BOOMR_config.PageParams.pci=!0,e=\"https://s2.go-mpulse.net/boomerang/\";if(window.BOOMR_API_key=\"WVCM2-8MB3H-J4PHA-TKSJD-9YGAB\",function(){function n(e){a.BOOMR_onload=e&&e.timeStamp||(new Date).getTime()}if(!a.BOOMR||!a.BOOMR.version&&!a.BOOMR.snippetExecuted){a.BOOMR=a.BOOMR||{},a.BOOMR.snippetExecuted=!0;var i,_,o,r=document.createElement(\"iframe\");if(a[t])a[t](\"load\",n,!1);else if(a.attachEvent)a.attachEvent(\"onload\",n);r.src=\"javascript:void(0)\",r.title=\"\",r.role=\"presentation\",(r.frameElement||r).style.cssText=\"width:0;height:0;border:0;display:none;\",o=document.getElementsByTagName(\"script\")[0],o.parentNode.insertBefore(r,o);try{_=r.contentWindow.document}catch(O){i=document.domain,r.src=\"javascript:var d=document.open();d.domain='\"+i+\"';void(0);\",_=r.contentWindow.document}_.open()._l=function(){var a=this.createElement(\"script\");if(i)this.domain=i;a.id=\"boomr-if-as\",a.src=e+\"WVCM2-8MB3H-J4PHA-TKSJD-9YGAB\",BOOMR_lstart=(new Date).getTime(),this.body.appendChild(a)},_.write(\"<bo\"+'dy onload=\"document._l();\">'),_.close()}}(),\"\".length>0)if(a&&\"performance\"in a&&a.performance&&\"function\"==typeof a.performance.setResourceTimingBufferSize)a.performance.setResourceTimingBufferSize();!function(){if(BOOMR=a.BOOMR||{},BOOMR.plugins=BOOMR.plugins||{},!BOOMR.plugins.AK){var e=\"\"==\"true\"?1:0,t=\"\",n=\"rrybfuixyzzjiyoc5nvq-f-1f712030b-clientnsv4-s.akamaihd.net\",i=\"false\"==\"true\"?2:1,_={\"ak.v\":\"32\",\"ak.cp\":\"804314\",\"ak.ai\":parseInt(\"295874\",10),\"ak.ol\":\"0\",\"ak.cr\":30,\"ak.ipv\":4,\"ak.proto\":\"http/1.1\",\"ak.rid\":\"40ef0492\",\"ak.r\":20734,\"ak.a2\":e,\"ak.m\":\"e12\",\"ak.n\":\"essl\",\"ak.bpcip\":\"140.112.18.0\",\"ak.cport\":42864,\"ak.gh\":\"23.32.20.6\",\"ak.quicv\":\"\",\"ak.tlsv\":\"tls1.3\",\"ak.0rtt\":\"\",\"ak.csrc\":\"-\",\"ak.acc\":\"reno\",\"ak.t\":\"1640164203\",\"ak.ak\":\"hOBiQwZUYzCg5VSAfCLimQ==oocvMERdpKORA1TMCKdGriZEVMQ8rAh7BaKpnqcEjtJl+9slc2ap053Akb6d4s6DKDM5oPqGAeRl9txgunjH1FMbPYEw66m6PW3qADPvVgvWEcRe1v1FpKwbWHk39g09FOqL2O2s76cuIKxk2Ud1uZY3INCqum7N1GKX0wPUxAvV3QfCCT4Y03xdjb+54Py10G/FKB1jBG9Wt7WXP8OTfKFtJ89VqclKzllN7QypWfZYNpcJvUBoZ2OgcZI0AcTWqfUGyPOq9uoSJJIhzR1k/Aa4LM4zi2UZaSPPSzEvSHf5KFp1fbmWW7XB9SEetvhHPQTKcdDRk9q/vt3Dm9o816qLcmHQN+YeCeR8nc9uiHkITr97Zjml0OYf1QlbMH82aHeeF2whfdsIIS+Nm1+BHhMsT3wx7rTIUKNwHNulpoE=\",\"ak.pv\":\"238\",\"ak.dpoabenc\":\"\",\"ak.tf\":i};if(\"\"!==t)_[\"ak.ruds\"]=t;var o={i:!1,av:function(e){var t=\"http.initiator\";if(e&&(!e[t]||\"spa_hard\"===e[t]))_[\"ak.feo\"]=void 0!==a.aFeoApplied?1:0,BOOMR.addVar(_)},rv:function(){var a=[\"ak.bpcip\",\"ak.cport\",\"ak.cr\",\"ak.csrc\",\"ak.gh\",\"ak.ipv\",\"ak.m\",\"ak.n\",\"ak.ol\",\"ak.proto\",\"ak.quicv\",\"ak.tlsv\",\"ak.0rtt\",\"ak.r\",\"ak.acc\",\"ak.t\",\"ak.tf\"];BOOMR.removeVar(a)}};BOOMR.plugins.AK={akVars:_,akDNSPreFetchDomain:n,init:function(){if(!o.i){var a=BOOMR.subscribe;a(\"before_beacon\",o.av,null,null),a(\"onbeacon\",o.rv,null,null),o.i=!0}return this},is_complete:function(){return!0}}}}()}(window);</script><script>bazadebezolkohpepadr=\"1794187122\"</script><script defer=\"\" src=\"https://www.accuweather.com/akam/11/6af11c1c\" type=\"text/javascript\"></script></link></link></meta></meta></head>\n",
       "<body class=\"daily ads-not-loaded\">\n",
       "<div class=\"template-root\" style=\"display:none;\">\n",
       "<div class=\"nfl-header\">\n",
       "<div class=\"header-outer\">\n",
       "<div class=\"header-inner\">\n",
       "<a class=\"header-logo\" href=\"/\">\n",
       "<img alt=\"AccuWeather\" class=\"accuweather-logo\" data-eager=\"\" data-src=\"/images/logos/accuweather.svg\"/>\n",
       "</a>\n",
       "<a class=\"header-city-link\" href=\"/en/tw/taipei-city/315078/weather-forecast/315078\">\n",
       "<h1 class=\"header-loc\">Taipei City, Taipei City</h1>\n",
       "<span class=\"header-temp\">\n",
       "\t\t\t\t\t\t17°\n",
       "\t\t\t\t\t\t<span class=\"unit\">C</span>\n",
       "</span>\n",
       "<img class=\"header-weather-icon\" height=\"27\" src=\"/images/weathericons/07.svg\" width=\"27\"/>\n",
       "</a>\n",
       "<div class=\"pull-right\">\n",
       "<div class=\"header-search-bar search-bar\">\n",
       "<div class=\"searchbar-inner\">\n",
       "<img alt=\"\" class=\"icon-search\" src=\"/images/icons/icon-search.svg\"/>\n",
       "<form action=\"/en/search-locations\" class=\"search-form\" method=\"GET\">\n",
       "<input autocomplete=\"off\" class=\"search-input\" name=\"query\" placeholder=\"Search\" type=\"text\"/>\n",
       "</form>\n",
       "<svg class=\"clear-icon close-icon\" height=\"18\" viewbox=\"0 0 18 18\" width=\"18\" xmlns=\"http://www.w3.org/2000/svg\"><g fill-rule=\"evenodd\" transform=\"translate(-1 -1)\"><rect height=\"24\" rx=\"1\" transform=\"rotate(45 10 10)\" width=\"2\" x=\"9\" y=\"-2\"></rect><rect height=\"24\" rx=\"1\" transform=\"rotate(-45 10 10)\" width=\"2\" x=\"9\" y=\"-2\"></rect></g></svg>\n",
       "<div class=\"search-options\">\n",
       "<div class=\"dropdown left-bar\">\n",
       "<div class=\"displayed-item\">\n",
       "<span>\n",
       "\t\t\tLocation\n",
       "\t\t</span>\n",
       "<svg aria-labelledby=\"chevronSVG\" class=\"icon-chevron arrow\" height=\"6\" role=\"img\" viewbox=\"0 0 10 6\" width=\"10\" xmlns=\"http://www.w3.org/2000/svg\">\n",
       "<title id=\"chevronSVG\">Chevron down</title>\n",
       "<path d=\"M10 .969L9.037 0 5 4.063.963 0 0 .969 5 6z\"></path>\n",
       "</svg>\n",
       "</div>\n",
       "<div class=\"items\">\n",
       "<a class=\"item active\" value=\"/en/search-locations\">\n",
       "<span>Location</span>\n",
       "<svg class=\"checkmark item-icon\" height=\"24\" viewbox=\"0 0 24 24\" width=\"24\" xmlns=\"http://www.w3.org/2000/svg\" xmlns:xlink=\"http://www.w3.org/1999/xlink\">\n",
       "<g fill=\"#000\" fill-rule=\"evenodd\">\n",
       "<path class=\"checkmark\" d=\"M7.832 17.496L2.142 11.9.205 13.792l7.627 7.503L24.205 5.188l-1.924-1.893z\"></path>\n",
       "</g>\n",
       "</svg>\n",
       "</a>\n",
       "<a class=\"item\" value=\"/en/search-news\">\n",
       "<span>News</span>\n",
       "<svg class=\"checkmark item-icon\" height=\"24\" viewbox=\"0 0 24 24\" width=\"24\" xmlns=\"http://www.w3.org/2000/svg\" xmlns:xlink=\"http://www.w3.org/1999/xlink\">\n",
       "<g fill=\"#000\" fill-rule=\"evenodd\">\n",
       "<path class=\"checkmark\" d=\"M7.832 17.496L2.142 11.9.205 13.792l7.627 7.503L24.205 5.188l-1.924-1.893z\"></path>\n",
       "</g>\n",
       "</svg>\n",
       "</a>\n",
       "<a class=\"item\" value=\"/en/search-video\">\n",
       "<span>Videos</span>\n",
       "<svg class=\"checkmark item-icon\" height=\"24\" viewbox=\"0 0 24 24\" width=\"24\" xmlns=\"http://www.w3.org/2000/svg\" xmlns:xlink=\"http://www.w3.org/1999/xlink\">\n",
       "<g fill=\"#000\" fill-rule=\"evenodd\">\n",
       "<path class=\"checkmark\" d=\"M7.832 17.496L2.142 11.9.205 13.792l7.627 7.503L24.205 5.188l-1.924-1.893z\"></path>\n",
       "</g>\n",
       "</svg>\n",
       "</a>\n",
       "</div>\n",
       "</div>\n",
       "</div>\n",
       "</div>\n",
       "<div class=\"search-bar-dropdown\">\n",
       "<div class=\"use-current-location\">\n",
       "<img alt=\"\" class=\"icon-gps\" data-src=\"/images/icons/icon-gps-dark.svg\"/>\n",
       "<span>Use your current location</span>\n",
       "</div>\n",
       "<div class=\"recent-locations-dropdown\">\n",
       "<div class=\"recent-title\">Recent</div>\n",
       "<a class=\"recent-location\" data-fetch=\"false\" data-location-key=\"315078\" href=\"/web-api/three-day-redirect?key=315078&amp;target=\">\n",
       "<div class=\"recent-location__title-wrapper\">\n",
       "<p class=\"recent-location__name\">Taipei City</p>\n",
       "<p class=\"recent-location__admin\">Taipei City</p>\n",
       "</div>\n",
       "<img class=\"recent-location__icon\" height=\"32\" src=\"/images/weathericons/07.svg\" width=\"32\"/>\n",
       "<span class=\"recent-location__temp\">17°</span>\n",
       "</a>\n",
       "</div>\n",
       "<div class=\"search-results\">\n",
       "<div class=\"results-container\"></div>\n",
       "</div>\n",
       "<div class=\"search-results no-search-result hidden\">\n",
       "<div class=\"results-container\">\n",
       "<div class=\"search-bar-result search-result no-result\">\n",
       "<div class=\"no-result-headline\">No results found.</div>\n",
       "<div class=\"no-result-text\">Try searching for a city, zip code or point of interest.</div>\n",
       "</div>\n",
       "</div>\n",
       "</div>\n",
       "</div>\n",
       "</div>\n",
       "<svg class=\"hamburger-button icon-hamburger\" data-qa=\"navigationMenu\" height=\"18\" viewbox=\"0 0 24 24\" width=\"18\" xmlns=\"http://www.w3.org/2000/svg\">\n",
       "<defs>\n",
       "<path d=\"M10 12v1H0v-1h10zm6-6v1H0V6h16zm0-6v1H0V0h16z\" id=\"svghamburger\"></path>\n",
       "</defs>\n",
       "<use fill=\"#FFF\" fill-rule=\"evenodd\" transform=\"matrix(-1 0 0 1 20 6)\" xlink:href=\"#svghamburger\"></use></svg>\n",
       "<svg class=\"close-button close-icon\" height=\"18\" viewbox=\"0 0 18 18\" width=\"18\" xmlns=\"http://www.w3.org/2000/svg\"><g fill-rule=\"evenodd\" transform=\"translate(-1 -1)\"><rect height=\"24\" rx=\"1\" transform=\"rotate(45 10 10)\" width=\"2\" x=\"9\" y=\"-2\"></rect><rect height=\"24\" rx=\"1\" transform=\"rotate(-45 10 10)\" width=\"2\" x=\"9\" y=\"-2\"></rect></g></svg>\n",
       "</div>\n",
       "</div>\n",
       "</div>\n",
       "<div class=\"header-menu\">\n",
       "<div class=\"settings-link\">\n",
       "<a href=\"/en/settings\">\n",
       "<svg class=\"icon-settings\" fill=\"#FFF\" height=\"25\" viewbox=\"0 0 24 25\" width=\"24\" xmlns=\"http://www.w3.org/2000/svg\"><path d=\"M13.677.107l.871 2.674c.775.225 1.549.483 2.162.902l2.58-1.32 2.452 2.447-1.29 2.578c.354.612.645 1.353.87 2.094l2.678.902v3.414l-2.645.838c-.258.773-.549 1.578-.903 2.255l1.29 2.48-2.452 2.449-2.58-1.224c-.645.386-1.387.676-2.162.902l-.87 2.609h-3.42l-.903-2.61c-.742-.225-1.484-.482-2.161-.934L4.742 21.82 2.29 19.372l1.29-2.449c-.386-.676-.677-1.45-.903-2.255L0 13.798v-3.447l2.71-.902c.193-.74.451-1.481.87-2.094L2.29 4.843l2.452-2.449 2.452 1.289c.677-.387 1.419-.677 2.16-.902l.904-2.674h3.42zm-.838 1.128h-1.807l-.806 2.448-.549.193c-.677.194-1.354.419-1.935.773l-.548.29-2.29-1.16L3.58 5.1l1.225 2.384-.354.548c-.323.483-.581 1.127-.71 1.74l-.13.612-2.515.805v1.804l2.451.805.194.58c.193.677.42 1.385.774 1.965l.29.548-1.16 2.287L4.967 20.5l2.322-1.16.549.355c.58.354 1.226.612 1.903.773l.548.193.775 2.32h1.838l.774-2.417.581-.128c.677-.194 1.323-.42 1.903-.741l.484-.322 2.42 1.127 1.322-1.32-1.161-2.288.29-.483c.323-.645.58-1.353.774-2.062l.194-.58 2.42-.74V11.19l-2.452-.805-.194-.548c-.193-.677-.42-1.32-.742-1.836l-.29-.548 1.161-2.384-1.322-1.353-2.388 1.256-.548-.354a7.5 7.5 0 00-1.903-.74l-.58-.194-.807-2.448zm-.871 5.38c3.032 0 5.548 2.448 5.548 5.508 0 3.028-2.516 5.541-5.548 5.541-3.065 0-5.516-2.545-5.516-5.54a5.49 5.49 0 015.516-5.51zm0 1.063c-2.323 0-4.355 2.093-4.355 4.445 0 2.352 2.032 4.446 4.355 4.446 2.322 0 4.387-2.126 4.387-4.446 0-2.352-2.065-4.445-4.387-4.445z\"></path></svg>\n",
       "\t\t\t\tsettings\n",
       "\t\t\t</a>\n",
       "<svg class=\"close-button close-icon\" height=\"18\" viewbox=\"0 0 18 18\" width=\"18\" xmlns=\"http://www.w3.org/2000/svg\"><g fill-rule=\"evenodd\" transform=\"translate(-1 -1)\"><rect height=\"24\" rx=\"1\" transform=\"rotate(45 10 10)\" width=\"2\" x=\"9\" y=\"-2\"></rect><rect height=\"24\" rx=\"1\" transform=\"rotate(-45 10 10)\" width=\"2\" x=\"9\" y=\"-2\"></rect></g></svg>\n",
       "</div>\n",
       "<div class=\"header-loc-weather\">Taipei City, Taipei City Weather</div>\n",
       "<a class=\"header-link\" data-page-id=\"today\" href=\"/en/tw/taipei-city/315078/weather-forecast/315078\">Today</a>\n",
       "<a class=\"header-link nav-red-dot hidden tropical-link\" data-page-id=\"local_{stormName}_tracker\" href=\"/en/tw/taipei-city/315078/tropical-weather-forecast/315078?eventkey={eventkey}\">Local {stormName} Tracker</a>\n",
       "<a class=\"header-link\" data-page-id=\"hourly\" href=\"/en/tw/taipei-city/315078/hourly-weather-forecast/315078\">Hourly</a>\n",
       "<a class=\"header-link active\" data-page-id=\"daily\" href=\"/en/tw/taipei-city/315078/daily-weather-forecast/315078\">Daily</a>\n",
       "<a class=\"header-link\" data-page-id=\"radar\" href=\"/en/tw/taipei-city/315078/weather-radar/315078\">Radar</a>\n",
       "<a class=\"header-link\" data-page-id=\"minutecast\" href=\"/en/tw/taipei-city/315078/minute-weather-forecast/315078\">MinuteCast</a>\n",
       "<a class=\"header-link nav-red-dot hidden winter-link\" data-page-id=\"wintercast\" href=\"/en/tw/taipei-city/315078/winter-weather-forecast/315078\">WinterCast</a>\n",
       "<a class=\"header-link\" data-page-id=\"monthly\" href=\"/en/tw/taipei-city/315078/december-weather/315078\">Monthly</a>\n",
       "<a class=\"header-link\" data-page-id=\"air_quality\" href=\"/en/tw/taipei-city/315078/air-quality-index/315078\">Air Quality</a>\n",
       "<div class=\"more-cta-links\">\n",
       "<h2 class=\"more-cta-title\">\n",
       "\t\tAround the Globe\n",
       "\t</h2>\n",
       "<a class=\"cta-link\" data-page-id=\"hurricane_tracker\" href=\"/en/hurricane\">\n",
       "<h3 class=\"cta-text\">Hurricane Tracker</h3>\n",
       "<img alt=\"right arrow\" src=\"/images/icons/arrow-right-black.svg\"/>\n",
       "</a>\n",
       "<a class=\"cta-link\" data-page-id=\"severe_weather\" href=\"/en/tw/severe-weather\">\n",
       "<h3 class=\"cta-text\">Severe Weather</h3>\n",
       "<img alt=\"right arrow\" src=\"/images/icons/arrow-right-black.svg\"/>\n",
       "</a>\n",
       "<a class=\"cta-link\" data-page-id=\"radar_and_maps\" href=\"/en/tw/taipei-city/weather-radar\">\n",
       "<h3 class=\"cta-text\">Radar &amp; Maps</h3>\n",
       "<img alt=\"right arrow\" src=\"/images/icons/arrow-right-black.svg\"/>\n",
       "</a>\n",
       "<span class=\"cta-link sublink-container\">\n",
       "<div class=\"cta-sublink-title\">\n",
       "\t\t\t\t\tNews\n",
       "\t\t\t\t</div>\n",
       "<svg class=\"icon-chevron chevron-icon down\" height=\"6\" viewbox=\"0 0 10 6\" width=\"10\" xmlns=\"http://www.w3.org/2000/svg\"><path d=\"M10 .969L9.037 0 5 4.063.963 0 0 .969 5 6z\"></path></svg>\n",
       "</span>\n",
       "<a class=\"cta-link cta-sublink\" data-page-id=\"news_and_features\" href=\"/en/weather-news\">\n",
       "<h3 class=\"cta-text\">News &amp; Features</h3>\n",
       "<img alt=\"right arrow\" src=\"/images/icons/arrow-right-black.svg\"/>\n",
       "</a>\n",
       "<a class=\"cta-link cta-sublink\" data-page-id=\"astronomy\" href=\"/en/space-news\">\n",
       "<h3 class=\"cta-text\">Astronomy</h3>\n",
       "<img alt=\"right arrow\" src=\"/images/icons/arrow-right-black.svg\"/>\n",
       "</a>\n",
       "<a class=\"cta-link cta-sublink\" data-page-id=\"business\" href=\"/en/business\">\n",
       "<h3 class=\"cta-text\">Business</h3>\n",
       "<img alt=\"right arrow\" src=\"/images/icons/arrow-right-black.svg\"/>\n",
       "</a>\n",
       "<a class=\"cta-link cta-sublink\" data-page-id=\"climate\" href=\"/en/climate\">\n",
       "<h3 class=\"cta-text\">Climate</h3>\n",
       "<img alt=\"right arrow\" src=\"/images/icons/arrow-right-black.svg\"/>\n",
       "</a>\n",
       "<a class=\"cta-link cta-sublink\" data-page-id=\"health\" href=\"/en/health-wellness\">\n",
       "<h3 class=\"cta-text\">Health</h3>\n",
       "<img alt=\"right arrow\" src=\"/images/icons/arrow-right-black.svg\"/>\n",
       "</a>\n",
       "<a class=\"cta-link cta-sublink\" data-page-id=\"recreation\" href=\"/en/leisure-recreation\">\n",
       "<h3 class=\"cta-text\">Recreation</h3>\n",
       "<img alt=\"right arrow\" src=\"/images/icons/arrow-right-black.svg\"/>\n",
       "</a>\n",
       "<a class=\"cta-link cta-sublink\" data-page-id=\"sports\" href=\"/en/sports\">\n",
       "<h3 class=\"cta-text\">Sports</h3>\n",
       "<img alt=\"right arrow\" src=\"/images/icons/arrow-right-black.svg\"/>\n",
       "</a>\n",
       "<a class=\"cta-link cta-sublink\" data-page-id=\"travel\" href=\"/en/travel\">\n",
       "<h3 class=\"cta-text\">Travel</h3>\n",
       "<img alt=\"right arrow\" src=\"/images/icons/arrow-right-black.svg\"/>\n",
       "</a>\n",
       "<a class=\"cta-link\" data-page-id=\"video\" href=\"/en/videos\">\n",
       "<h3 class=\"cta-text\">Video</h3>\n",
       "<img alt=\"right arrow\" src=\"/images/icons/arrow-right-black.svg\"/>\n",
       "</a>\n",
       "<a class=\"cta-link\" data-page-id=\"podcasts\" href=\"/podcast\">\n",
       "<h3 class=\"cta-text\">Podcasts</h3>\n",
       "<img alt=\"right arrow\" src=\"/images/icons/arrow-right-black.svg\"/>\n",
       "</a>\n",
       "<a class=\"cta-link\" data-page-id=\"winter_center\" href=\"/en/tw/winter-weather\">\n",
       "<h3 class=\"cta-text\">Winter Center</h3>\n",
       "<img alt=\"right arrow\" src=\"/images/icons/arrow-right-black.svg\"/>\n",
       "</a>\n",
       "</div>\n",
       "</div>\n",
       "</div>\n",
       "<div class=\"header-placeholder\"></div>\n",
       "<div class=\"page-subnav\">\n",
       "<div class=\"subnav secondary-nav\" data-gatype=\"city\">\n",
       "<div class=\"overflow overflow-left\" data-qa=\"leftArrow\">\n",
       "<svg aria-labelledby=\"chevronSVG\" class=\"icon-chevron left arrow\" height=\"6\" role=\"img\" viewbox=\"0 0 10 6\" width=\"10\" xmlns=\"http://www.w3.org/2000/svg\">\n",
       "<title id=\"chevronSVG\">Chevron left</title>\n",
       "<path d=\"M10 .969L9.037 0 5 4.063.963 0 0 .969 5 6z\"></path>\n",
       "</svg>\n",
       "</div>\n",
       "<div class=\"overflow overflow-right\" data-qa=\"rightArrow\">\n",
       "<svg aria-labelledby=\"chevronSVG\" class=\"icon-chevron right arrow\" height=\"6\" role=\"img\" viewbox=\"0 0 10 6\" width=\"10\" xmlns=\"http://www.w3.org/2000/svg\">\n",
       "<title id=\"chevronSVG\">Chevron right</title>\n",
       "<path d=\"M10 .969L9.037 0 5 4.063.963 0 0 .969 5 6z\"></path>\n",
       "</svg>\n",
       "</div>\n",
       "<div class=\"subnav-items\">\n",
       "<a class=\"subnav-item\" data-gaid=\"now\" data-qa=\"now\" href=\"/en/tw/taipei-city/315078/weather-forecast/315078\">\n",
       "<span>Today</span>\n",
       "</a>\n",
       "<a class=\"subnav-item\" data-gaid=\"hourly\" data-qa=\"hourly\" href=\"/en/tw/taipei-city/315078/hourly-weather-forecast/315078\">\n",
       "<span>Hourly</span>\n",
       "</a>\n",
       "<a class=\"subnav-item active\" data-gaid=\"daily\" data-qa=\"daily\" href=\"/en/tw/taipei-city/315078/daily-weather-forecast/315078\">\n",
       "<h2>Daily</h2>\n",
       "</a>\n",
       "<a class=\"subnav-item\" data-gaid=\"radar\" data-qa=\"radar\" href=\"/en/tw/taipei-city/315078/weather-radar/315078\">\n",
       "<span>Radar</span>\n",
       "</a>\n",
       "<a class=\"subnav-item\" data-gaid=\"minutecast\" data-qa=\"minutecast\" href=\"/en/tw/taipei-city/315078/minute-weather-forecast/315078\">\n",
       "<span>MinuteCast</span>\n",
       "</a>\n",
       "<a class=\"subnav-item\" data-gaid=\"monthly\" data-qa=\"monthly\" href=\"/en/tw/taipei-city/315078/december-weather/315078\">\n",
       "<span>Monthly</span>\n",
       "</a>\n",
       "<a class=\"subnav-item\" data-gaid=\"airQuality\" data-qa=\"airQuality\" href=\"/en/tw/taipei-city/315078/air-quality-index/315078\">\n",
       "<span>Air Quality</span>\n",
       "</a>\n",
       "<div class=\"subnav-item filler\"></div>\n",
       "</div>\n",
       "</div>\n",
       "</div>\n",
       "<div class=\"glacier-ad top content-module\" data-ad-type=\"top\" data-viewport=\"tablet desktop\" id=\"top\"></div>\n",
       "<div class=\"two-column-page-content\">\n",
       "<div class=\"page-column-1\">\n",
       "<div class=\"content-module\">\n",
       "<p class=\"module-title\">December 22 - January 2</p>\n",
       "<div class=\"daily-wrapper\" data-qa=\"dailyCard0\">\n",
       "<a class=\"daily-forecast-card\" href=\"/en/tw/taipei-city/315078/daily-weather-forecast/315078?day=1\">\n",
       "<div class=\"info\">\n",
       "<h2 class=\"date\">\n",
       "<span class=\"module-header dow date\">Wed</span>\n",
       "<span class=\"module-header sub date\">12/22</span>\n",
       "</h2>\n",
       "<img alt=\"\" class=\"weather-icon icon\" data-eager=\"\" data-src=\"/images/weathericons/18.svg\" height=\"128px\" width=\"128px\"/>\n",
       "<div class=\"temp\">\n",
       "<span class=\"high\">21°</span>\n",
       "<span class=\"low\">/19°</span>\n",
       "</div>\n",
       "</div>\n",
       "<div class=\"phrase\">\n",
       "\t\t\t\tCloudy; breezy this afternoon\n",
       "\t\t\t</div>\n",
       "<div class=\"precip\">\n",
       "<img alt=\"rain drop\" class=\"precip-icon\" src=\"/images/components/weather/daily-forecast-card-nfl/drop-icon.svg\"/>\n",
       "\t\t91%\n",
       "\t</div>\n",
       "<svg aria-labelledby=\"arrowSVG\" class=\"cta-arrow\" height=\"16\" role=\"img\" viewbox=\"0 0 16 16\" width=\"16\" xmlns=\"http://www.w3.org/2000/svg\" xmlns:xlink=\"http://www.w3.org/1999/xlink\">\n",
       "<title id=\"arrowSVG\">Arrow</title>\n",
       "<g fill=\"none\" fill-rule=\"evenodd\" transform=\"translate(1 2)\">\n",
       "<g fill=\"#000\">\n",
       "<path d=\"M8.495.505l5 5v.99l-5 5-.99-.99 3.805-3.806L0 6.7V5.3l11.31-.001-3.805-3.804.99-.99z\" transform=\"translate(-1 -2)\"></path>\n",
       "</g>\n",
       "</g>\n",
       "</svg>\n",
       "</a>\n",
       "</div>\n",
       "<div class=\"daily-wrapper\" data-qa=\"dailyCard1\">\n",
       "<a class=\"daily-forecast-card\" href=\"/en/tw/taipei-city/315078/daily-weather-forecast/315078?day=2\">\n",
       "<div class=\"info\">\n",
       "<h2 class=\"date\">\n",
       "<span class=\"module-header dow date\">Thu</span>\n",
       "<span class=\"module-header sub date\">12/23</span>\n",
       "</h2>\n",
       "<img alt=\"\" class=\"weather-icon icon\" data-eager=\"\" data-src=\"/images/weathericons/12.svg\" height=\"128px\" width=\"128px\"/>\n",
       "<div class=\"temp\">\n",
       "<span class=\"high\">23°</span>\n",
       "<span class=\"low\">/19°</span>\n",
       "</div>\n",
       "</div>\n",
       "<div class=\"phrase\">\n",
       "\t\t\t\tHumid; a little morning rain\n",
       "\t\t\t</div>\n",
       "<div class=\"precip\">\n",
       "<img alt=\"rain drop\" class=\"precip-icon\" src=\"/images/components/weather/daily-forecast-card-nfl/drop-icon.svg\"/>\n",
       "\t\t55%\n",
       "\t</div>\n",
       "<svg aria-labelledby=\"arrowSVG\" class=\"cta-arrow\" height=\"16\" role=\"img\" viewbox=\"0 0 16 16\" width=\"16\" xmlns=\"http://www.w3.org/2000/svg\" xmlns:xlink=\"http://www.w3.org/1999/xlink\">\n",
       "<title id=\"arrowSVG\">Arrow</title>\n",
       "<g fill=\"none\" fill-rule=\"evenodd\" transform=\"translate(1 2)\">\n",
       "<g fill=\"#000\">\n",
       "<path d=\"M8.495.505l5 5v.99l-5 5-.99-.99 3.805-3.806L0 6.7V5.3l11.31-.001-3.805-3.804.99-.99z\" transform=\"translate(-1 -2)\"></path>\n",
       "</g>\n",
       "</g>\n",
       "</svg>\n",
       "</a>\n",
       "</div>\n",
       "<div class=\"daily-wrapper\" data-qa=\"dailyCard2\">\n",
       "<a class=\"daily-forecast-card\" href=\"/en/tw/taipei-city/315078/daily-weather-forecast/315078?day=3\">\n",
       "<div class=\"info\">\n",
       "<h2 class=\"date\">\n",
       "<span class=\"module-header dow date\">Fri</span>\n",
       "<span class=\"module-header sub date\">12/24</span>\n",
       "</h2>\n",
       "<img alt=\"\" class=\"weather-icon icon\" data-eager=\"\" data-src=\"/images/weathericons/7.svg\" height=\"128px\" width=\"128px\"/>\n",
       "<div class=\"temp\">\n",
       "<span class=\"high\">22°</span>\n",
       "<span class=\"low\">/17°</span>\n",
       "</div>\n",
       "</div>\n",
       "<div class=\"phrase\">\n",
       "\t\t\t\tAn a.m. shower; cloudy, humid\n",
       "\t\t\t</div>\n",
       "<div class=\"precip\">\n",
       "<img alt=\"rain drop\" class=\"precip-icon\" src=\"/images/components/weather/daily-forecast-card-nfl/drop-icon.svg\"/>\n",
       "\t\t58%\n",
       "\t</div>\n",
       "<svg aria-labelledby=\"arrowSVG\" class=\"cta-arrow\" height=\"16\" role=\"img\" viewbox=\"0 0 16 16\" width=\"16\" xmlns=\"http://www.w3.org/2000/svg\" xmlns:xlink=\"http://www.w3.org/1999/xlink\">\n",
       "<title id=\"arrowSVG\">Arrow</title>\n",
       "<g fill=\"none\" fill-rule=\"evenodd\" transform=\"translate(1 2)\">\n",
       "<g fill=\"#000\">\n",
       "<path d=\"M8.495.505l5 5v.99l-5 5-.99-.99 3.805-3.806L0 6.7V5.3l11.31-.001-3.805-3.804.99-.99z\" transform=\"translate(-1 -2)\"></path>\n",
       "</g>\n",
       "</g>\n",
       "</svg>\n",
       "</a>\n",
       "</div>\n",
       "<div class=\"daily-wrapper\" data-qa=\"dailyCard3\">\n",
       "<a class=\"daily-forecast-card\" href=\"/en/tw/taipei-city/315078/daily-weather-forecast/315078?day=4\">\n",
       "<div class=\"info\">\n",
       "<h2 class=\"date\">\n",
       "<span class=\"module-header dow date\">Sat</span>\n",
       "<span class=\"module-header sub date\">12/25</span>\n",
       "</h2>\n",
       "<img alt=\"\" class=\"weather-icon icon\" data-eager=\"\" data-src=\"/images/weathericons/12.svg\" height=\"128px\" width=\"128px\"/>\n",
       "<div class=\"temp\">\n",
       "<span class=\"high\">19°</span>\n",
       "<span class=\"low\">/15°</span>\n",
       "</div>\n",
       "</div>\n",
       "<div class=\"phrase\">\n",
       "\t\t\t\tCloudy with a touch of rain\n",
       "\t\t\t</div>\n",
       "<div class=\"precip\">\n",
       "<img alt=\"rain drop\" class=\"precip-icon\" src=\"/images/components/weather/daily-forecast-card-nfl/drop-icon.svg\"/>\n",
       "\t\t80%\n",
       "\t</div>\n",
       "<svg aria-labelledby=\"arrowSVG\" class=\"cta-arrow\" height=\"16\" role=\"img\" viewbox=\"0 0 16 16\" width=\"16\" xmlns=\"http://www.w3.org/2000/svg\" xmlns:xlink=\"http://www.w3.org/1999/xlink\">\n",
       "<title id=\"arrowSVG\">Arrow</title>\n",
       "<g fill=\"none\" fill-rule=\"evenodd\" transform=\"translate(1 2)\">\n",
       "<g fill=\"#000\">\n",
       "<path d=\"M8.495.505l5 5v.99l-5 5-.99-.99 3.805-3.806L0 6.7V5.3l11.31-.001-3.805-3.804.99-.99z\" transform=\"translate(-1 -2)\"></path>\n",
       "</g>\n",
       "</g>\n",
       "</svg>\n",
       "</a>\n",
       "</div>\n",
       "<div class=\"content-module\" id=\"connatix\"></div>\n",
       "<div class=\"daily-wrapper\" data-qa=\"dailyCard4\">\n",
       "<a class=\"daily-forecast-card\" href=\"/en/tw/taipei-city/315078/daily-weather-forecast/315078?day=5\">\n",
       "<div class=\"info\">\n",
       "<h2 class=\"date\">\n",
       "<span class=\"module-header dow date\">Sun</span>\n",
       "<span class=\"module-header sub date\">12/26</span>\n",
       "</h2>\n",
       "<img alt=\"\" class=\"weather-icon icon\" data-eager=\"\" data-src=\"/images/weathericons/12.svg\" height=\"128px\" width=\"128px\"/>\n",
       "<div class=\"temp\">\n",
       "<span class=\"high\">17°</span>\n",
       "<span class=\"low\">/13°</span>\n",
       "</div>\n",
       "</div>\n",
       "<div class=\"phrase\">\n",
       "\t\t\t\tA little morning rain; cloudy\n",
       "\t\t\t</div>\n",
       "<div class=\"precip\">\n",
       "<img alt=\"rain drop\" class=\"precip-icon\" src=\"/images/components/weather/daily-forecast-card-nfl/drop-icon.svg\"/>\n",
       "\t\t56%\n",
       "\t</div>\n",
       "<svg aria-labelledby=\"arrowSVG\" class=\"cta-arrow\" height=\"16\" role=\"img\" viewbox=\"0 0 16 16\" width=\"16\" xmlns=\"http://www.w3.org/2000/svg\" xmlns:xlink=\"http://www.w3.org/1999/xlink\">\n",
       "<title id=\"arrowSVG\">Arrow</title>\n",
       "<g fill=\"none\" fill-rule=\"evenodd\" transform=\"translate(1 2)\">\n",
       "<g fill=\"#000\">\n",
       "<path d=\"M8.495.505l5 5v.99l-5 5-.99-.99 3.805-3.806L0 6.7V5.3l11.31-.001-3.805-3.804.99-.99z\" transform=\"translate(-1 -2)\"></path>\n",
       "</g>\n",
       "</g>\n",
       "</svg>\n",
       "</a>\n",
       "</div>\n",
       "<div class=\"daily-wrapper\" data-qa=\"dailyCard5\">\n",
       "<a class=\"daily-forecast-card\" href=\"/en/tw/taipei-city/315078/daily-weather-forecast/315078?day=6\">\n",
       "<div class=\"info\">\n",
       "<h2 class=\"date\">\n",
       "<span class=\"module-header dow date\">Mon</span>\n",
       "<span class=\"module-header sub date\">12/27</span>\n",
       "</h2>\n",
       "<img alt=\"\" class=\"weather-icon icon\" data-eager=\"\" data-src=\"/images/weathericons/12.svg\" height=\"128px\" width=\"128px\"/>\n",
       "<div class=\"temp\">\n",
       "<span class=\"high\">16°</span>\n",
       "<span class=\"low\">/14°</span>\n",
       "</div>\n",
       "</div>\n",
       "<div class=\"phrase\">\n",
       "\t\t\t\tA little morning rain; cloudy\n",
       "\t\t\t</div>\n",
       "<div class=\"precip\">\n",
       "<img alt=\"rain drop\" class=\"precip-icon\" src=\"/images/components/weather/daily-forecast-card-nfl/drop-icon.svg\"/>\n",
       "\t\t56%\n",
       "\t</div>\n",
       "<svg aria-labelledby=\"arrowSVG\" class=\"cta-arrow\" height=\"16\" role=\"img\" viewbox=\"0 0 16 16\" width=\"16\" xmlns=\"http://www.w3.org/2000/svg\" xmlns:xlink=\"http://www.w3.org/1999/xlink\">\n",
       "<title id=\"arrowSVG\">Arrow</title>\n",
       "<g fill=\"none\" fill-rule=\"evenodd\" transform=\"translate(1 2)\">\n",
       "<g fill=\"#000\">\n",
       "<path d=\"M8.495.505l5 5v.99l-5 5-.99-.99 3.805-3.806L0 6.7V5.3l11.31-.001-3.805-3.804.99-.99z\" transform=\"translate(-1 -2)\"></path>\n",
       "</g>\n",
       "</g>\n",
       "</svg>\n",
       "</a>\n",
       "</div>\n",
       "<div class=\"daily-wrapper\" data-qa=\"dailyCard6\">\n",
       "<a class=\"daily-forecast-card\" href=\"/en/tw/taipei-city/315078/daily-weather-forecast/315078?day=7\">\n",
       "<div class=\"info\">\n",
       "<h2 class=\"date\">\n",
       "<span class=\"module-header dow date\">Tue</span>\n",
       "<span class=\"module-header sub date\">12/28</span>\n",
       "</h2>\n",
       "<img alt=\"\" class=\"weather-icon icon\" data-eager=\"\" data-src=\"/images/weathericons/8.svg\" height=\"128px\" width=\"128px\"/>\n",
       "<div class=\"temp\">\n",
       "<span class=\"high\">21°</span>\n",
       "<span class=\"low\">/16°</span>\n",
       "</div>\n",
       "</div>\n",
       "<div class=\"phrase\">\n",
       "\t\t\t\tLow clouds and milder\n",
       "\t\t\t</div>\n",
       "<div class=\"precip\">\n",
       "<img alt=\"rain drop\" class=\"precip-icon\" src=\"/images/components/weather/daily-forecast-card-nfl/drop-icon.svg\"/>\n",
       "\t\t13%\n",
       "\t</div>\n",
       "<svg aria-labelledby=\"arrowSVG\" class=\"cta-arrow\" height=\"16\" role=\"img\" viewbox=\"0 0 16 16\" width=\"16\" xmlns=\"http://www.w3.org/2000/svg\" xmlns:xlink=\"http://www.w3.org/1999/xlink\">\n",
       "<title id=\"arrowSVG\">Arrow</title>\n",
       "<g fill=\"none\" fill-rule=\"evenodd\" transform=\"translate(1 2)\">\n",
       "<g fill=\"#000\">\n",
       "<path d=\"M8.495.505l5 5v.99l-5 5-.99-.99 3.805-3.806L0 6.7V5.3l11.31-.001-3.805-3.804.99-.99z\" transform=\"translate(-1 -2)\"></path>\n",
       "</g>\n",
       "</g>\n",
       "</svg>\n",
       "</a>\n",
       "</div>\n",
       "<div class=\"daily-wrapper\" data-qa=\"dailyCard7\">\n",
       "<a class=\"daily-forecast-card\" href=\"/en/tw/taipei-city/315078/daily-weather-forecast/315078?day=8\">\n",
       "<div class=\"info\">\n",
       "<h2 class=\"date\">\n",
       "<span class=\"module-header dow date\">Wed</span>\n",
       "<span class=\"module-header sub date\">12/29</span>\n",
       "</h2>\n",
       "<img alt=\"\" class=\"weather-icon icon\" data-eager=\"\" data-src=\"/images/weathericons/3.svg\" height=\"128px\" width=\"128px\"/>\n",
       "<div class=\"temp\">\n",
       "<span class=\"high\">21°</span>\n",
       "<span class=\"low\">/17°</span>\n",
       "</div>\n",
       "</div>\n",
       "<div class=\"phrase\">\n",
       "\t\t\t\tPartly sunny\n",
       "\t\t\t</div>\n",
       "<div class=\"precip\">\n",
       "<img alt=\"rain drop\" class=\"precip-icon\" src=\"/images/components/weather/daily-forecast-card-nfl/drop-icon.svg\"/>\n",
       "\t\t25%\n",
       "\t</div>\n",
       "<svg aria-labelledby=\"arrowSVG\" class=\"cta-arrow\" height=\"16\" role=\"img\" viewbox=\"0 0 16 16\" width=\"16\" xmlns=\"http://www.w3.org/2000/svg\" xmlns:xlink=\"http://www.w3.org/1999/xlink\">\n",
       "<title id=\"arrowSVG\">Arrow</title>\n",
       "<g fill=\"none\" fill-rule=\"evenodd\" transform=\"translate(1 2)\">\n",
       "<g fill=\"#000\">\n",
       "<path d=\"M8.495.505l5 5v.99l-5 5-.99-.99 3.805-3.806L0 6.7V5.3l11.31-.001-3.805-3.804.99-.99z\" transform=\"translate(-1 -2)\"></path>\n",
       "</g>\n",
       "</g>\n",
       "</svg>\n",
       "</a>\n",
       "</div>\n",
       "<div class=\"glacier-ad native content-module\" data-ad-type=\"native\" data-viewport=\"\" id=\"native\"></div>\n",
       "<div class=\"daily-wrapper\" data-qa=\"dailyCard8\">\n",
       "<a class=\"daily-forecast-card\" href=\"/en/tw/taipei-city/315078/daily-weather-forecast/315078?day=9\">\n",
       "<div class=\"info\">\n",
       "<h2 class=\"date\">\n",
       "<span class=\"module-header dow date\">Thu</span>\n",
       "<span class=\"module-header sub date\">12/30</span>\n",
       "</h2>\n",
       "<img alt=\"\" class=\"weather-icon icon\" data-eager=\"\" data-src=\"/images/weathericons/12.svg\" height=\"128px\" width=\"128px\"/>\n",
       "<div class=\"temp\">\n",
       "<span class=\"high\">21°</span>\n",
       "<span class=\"low\">/16°</span>\n",
       "</div>\n",
       "</div>\n",
       "<div class=\"phrase\">\n",
       "\t\t\t\tA little morning rain; cloudy\n",
       "\t\t\t</div>\n",
       "<div class=\"precip\">\n",
       "<img alt=\"rain drop\" class=\"precip-icon\" src=\"/images/components/weather/daily-forecast-card-nfl/drop-icon.svg\"/>\n",
       "\t\t57%\n",
       "\t</div>\n",
       "<svg aria-labelledby=\"arrowSVG\" class=\"cta-arrow\" height=\"16\" role=\"img\" viewbox=\"0 0 16 16\" width=\"16\" xmlns=\"http://www.w3.org/2000/svg\" xmlns:xlink=\"http://www.w3.org/1999/xlink\">\n",
       "<title id=\"arrowSVG\">Arrow</title>\n",
       "<g fill=\"none\" fill-rule=\"evenodd\" transform=\"translate(1 2)\">\n",
       "<g fill=\"#000\">\n",
       "<path d=\"M8.495.505l5 5v.99l-5 5-.99-.99 3.805-3.806L0 6.7V5.3l11.31-.001-3.805-3.804.99-.99z\" transform=\"translate(-1 -2)\"></path>\n",
       "</g>\n",
       "</g>\n",
       "</svg>\n",
       "</a>\n",
       "</div>\n",
       "<div class=\"daily-wrapper\" data-qa=\"dailyCard9\">\n",
       "<a class=\"daily-forecast-card\" href=\"/en/tw/taipei-city/315078/daily-weather-forecast/315078?day=10\">\n",
       "<div class=\"info\">\n",
       "<h2 class=\"date\">\n",
       "<span class=\"module-header dow date\">Fri</span>\n",
       "<span class=\"module-header sub date\">12/31</span>\n",
       "</h2>\n",
       "<img alt=\"\" class=\"weather-icon icon\" data-eager=\"\" data-src=\"/images/weathericons/6.svg\" height=\"128px\" width=\"128px\"/>\n",
       "<div class=\"temp\">\n",
       "<span class=\"high\">21°</span>\n",
       "<span class=\"low\">/16°</span>\n",
       "</div>\n",
       "</div>\n",
       "<div class=\"phrase\">\n",
       "\t\t\t\tA stray afternoon shower\n",
       "\t\t\t</div>\n",
       "<div class=\"precip\">\n",
       "<img alt=\"rain drop\" class=\"precip-icon\" src=\"/images/components/weather/daily-forecast-card-nfl/drop-icon.svg\"/>\n",
       "\t\t40%\n",
       "\t</div>\n",
       "<svg aria-labelledby=\"arrowSVG\" class=\"cta-arrow\" height=\"16\" role=\"img\" viewbox=\"0 0 16 16\" width=\"16\" xmlns=\"http://www.w3.org/2000/svg\" xmlns:xlink=\"http://www.w3.org/1999/xlink\">\n",
       "<title id=\"arrowSVG\">Arrow</title>\n",
       "<g fill=\"none\" fill-rule=\"evenodd\" transform=\"translate(1 2)\">\n",
       "<g fill=\"#000\">\n",
       "<path d=\"M8.495.505l5 5v.99l-5 5-.99-.99 3.805-3.806L0 6.7V5.3l11.31-.001-3.805-3.804.99-.99z\" transform=\"translate(-1 -2)\"></path>\n",
       "</g>\n",
       "</g>\n",
       "</svg>\n",
       "</a>\n",
       "</div>\n",
       "<div class=\"daily-wrapper\" data-qa=\"dailyCard10\">\n",
       "<a class=\"daily-forecast-card\" href=\"/en/tw/taipei-city/315078/daily-weather-forecast/315078?day=11\">\n",
       "<div class=\"info\">\n",
       "<h2 class=\"date\">\n",
       "<span class=\"module-header dow date\">Sat</span>\n",
       "<span class=\"module-header sub date\">1/1</span>\n",
       "</h2>\n",
       "<img alt=\"\" class=\"weather-icon icon\" data-eager=\"\" data-src=\"/images/weathericons/6.svg\" height=\"128px\" width=\"128px\"/>\n",
       "<div class=\"temp\">\n",
       "<span class=\"high\">21°</span>\n",
       "<span class=\"low\">/16°</span>\n",
       "</div>\n",
       "</div>\n",
       "<div class=\"phrase\">\n",
       "\t\t\t\tMainly cloudy\n",
       "\t\t\t</div>\n",
       "<div class=\"precip\">\n",
       "<img alt=\"rain drop\" class=\"precip-icon\" src=\"/images/components/weather/daily-forecast-card-nfl/drop-icon.svg\"/>\n",
       "\t\t5%\n",
       "\t</div>\n",
       "<svg aria-labelledby=\"arrowSVG\" class=\"cta-arrow\" height=\"16\" role=\"img\" viewbox=\"0 0 16 16\" width=\"16\" xmlns=\"http://www.w3.org/2000/svg\" xmlns:xlink=\"http://www.w3.org/1999/xlink\">\n",
       "<title id=\"arrowSVG\">Arrow</title>\n",
       "<g fill=\"none\" fill-rule=\"evenodd\" transform=\"translate(1 2)\">\n",
       "<g fill=\"#000\">\n",
       "<path d=\"M8.495.505l5 5v.99l-5 5-.99-.99 3.805-3.806L0 6.7V5.3l11.31-.001-3.805-3.804.99-.99z\" transform=\"translate(-1 -2)\"></path>\n",
       "</g>\n",
       "</g>\n",
       "</svg>\n",
       "</a>\n",
       "</div>\n",
       "<div class=\"daily-wrapper\" data-qa=\"dailyCard11\">\n",
       "<a class=\"daily-forecast-card\" href=\"/en/tw/taipei-city/315078/daily-weather-forecast/315078?day=12\">\n",
       "<div class=\"info\">\n",
       "<h2 class=\"date\">\n",
       "<span class=\"module-header dow date\">Sun</span>\n",
       "<span class=\"module-header sub date\">1/2</span>\n",
       "</h2>\n",
       "<img alt=\"\" class=\"weather-icon icon\" data-eager=\"\" data-src=\"/images/weathericons/3.svg\" height=\"128px\" width=\"128px\"/>\n",
       "<div class=\"temp\">\n",
       "<span class=\"high\">20°</span>\n",
       "<span class=\"low\">/15°</span>\n",
       "</div>\n",
       "</div>\n",
       "<div class=\"phrase\">\n",
       "\t\t\t\tSunshine and some clouds\n",
       "\t\t\t</div>\n",
       "<div class=\"precip\">\n",
       "<img alt=\"rain drop\" class=\"precip-icon\" src=\"/images/components/weather/daily-forecast-card-nfl/drop-icon.svg\"/>\n",
       "\t\t5%\n",
       "\t</div>\n",
       "<svg aria-labelledby=\"arrowSVG\" class=\"cta-arrow\" height=\"16\" role=\"img\" viewbox=\"0 0 16 16\" width=\"16\" xmlns=\"http://www.w3.org/2000/svg\" xmlns:xlink=\"http://www.w3.org/1999/xlink\">\n",
       "<title id=\"arrowSVG\">Arrow</title>\n",
       "<g fill=\"none\" fill-rule=\"evenodd\" transform=\"translate(1 2)\">\n",
       "<g fill=\"#000\">\n",
       "<path d=\"M8.495.505l5 5v.99l-5 5-.99-.99 3.805-3.806L0 6.7V5.3l11.31-.001-3.805-3.804.99-.99z\" transform=\"translate(-1 -2)\"></path>\n",
       "</g>\n",
       "</g>\n",
       "</svg>\n",
       "</a>\n",
       "</div>\n",
       "<div class=\"more-cta-links\">\n",
       "<h2 class=\"more-cta-title\">\n",
       "\t\tFurther Ahead\n",
       "\t</h2>\n",
       "<a class=\"cta-link\" data-page-id=\"\" href=\"/en/tw/taipei-city/315078/daily-weather-forecast/315078?page=1\">\n",
       "<h3 class=\"cta-text\">January 3 - January 14</h3>\n",
       "<img alt=\"right arrow\" src=\"/images/icons/arrow-right-black.svg\"/>\n",
       "</a>\n",
       "<a class=\"cta-link\" data-page-id=\"\" href=\"/en/tw/taipei-city/315078/daily-weather-forecast/315078?page=2\">\n",
       "<h3 class=\"cta-text\">January 15 - January 26</h3>\n",
       "<img alt=\"right arrow\" src=\"/images/icons/arrow-right-black.svg\"/>\n",
       "</a>\n",
       "<a class=\"cta-link\" data-page-id=\"\" href=\"/en/tw/taipei-city/315078/daily-weather-forecast/315078?page=3\">\n",
       "<h3 class=\"cta-text\">January 27 - February 7</h3>\n",
       "<img alt=\"right arrow\" src=\"/images/icons/arrow-right-black.svg\"/>\n",
       "</a>\n",
       "<a class=\"cta-link\" data-page-id=\"\" href=\"/en/tw/taipei-city/315078/daily-weather-forecast/315078?page=4\">\n",
       "<h3 class=\"cta-text\">February 8 - February 19</h3>\n",
       "<img alt=\"right arrow\" src=\"/images/icons/arrow-right-black.svg\"/>\n",
       "</a>\n",
       "<a class=\"cta-link\" data-page-id=\"\" href=\"/en/tw/taipei-city/315078/december-weather/315078\">\n",
       "<h3 class=\"cta-text\">Monthly</h3>\n",
       "<img alt=\"right arrow\" src=\"/images/icons/arrow-right-black.svg\"/>\n",
       "</a>\n",
       "</div>\n",
       "</div>\n",
       "<div class=\"more-cta-links\">\n",
       "<h2 class=\"more-cta-title\">\n",
       "\t\tAround the Globe\n",
       "\t</h2>\n",
       "<a class=\"cta-link\" data-page-id=\"hurricane_tracker\" href=\"/en/hurricane\">\n",
       "<h3 class=\"cta-text\">Hurricane Tracker</h3>\n",
       "<img alt=\"right arrow\" src=\"/images/icons/arrow-right-black.svg\"/>\n",
       "</a>\n",
       "<a class=\"cta-link\" data-page-id=\"severe_weather\" href=\"/en/tw/severe-weather\">\n",
       "<h3 class=\"cta-text\">Severe Weather</h3>\n",
       "<img alt=\"right arrow\" src=\"/images/icons/arrow-right-black.svg\"/>\n",
       "</a>\n",
       "<a class=\"cta-link\" data-page-id=\"radar_and_maps\" href=\"/en/tw/taipei-city/weather-radar\">\n",
       "<h3 class=\"cta-text\">Radar &amp; Maps</h3>\n",
       "<img alt=\"right arrow\" src=\"/images/icons/arrow-right-black.svg\"/>\n",
       "</a>\n",
       "<a class=\"cta-link\" data-page-id=\"\" href=\"/en/weather-news\">\n",
       "<h3 class=\"cta-text\">News</h3>\n",
       "<img alt=\"right arrow\" src=\"/images/icons/arrow-right-black.svg\"/>\n",
       "</a>\n",
       "<a class=\"cta-link\" data-page-id=\"video\" href=\"/en/videos\">\n",
       "<h3 class=\"cta-text\">Video</h3>\n",
       "<img alt=\"right arrow\" src=\"/images/icons/arrow-right-black.svg\"/>\n",
       "</a>\n",
       "<a class=\"cta-link\" data-page-id=\"podcasts\" href=\"/podcast\">\n",
       "<h3 class=\"cta-text\">Podcasts</h3>\n",
       "<img alt=\"right arrow\" src=\"/images/icons/arrow-right-black.svg\"/>\n",
       "</a>\n",
       "<a class=\"cta-link\" data-page-id=\"winter_center\" href=\"/en/tw/winter-weather\">\n",
       "<h3 class=\"cta-text\">Winter Center</h3>\n",
       "<img alt=\"right arrow\" src=\"/images/icons/arrow-right-black.svg\"/>\n",
       "</a>\n",
       "</div>\n",
       "</div>\n",
       "<div class=\"page-column-2\">\n",
       "<div class=\"right-rail left-align-children\">\n",
       "<div class=\"glacier-ad top_right content-module\" data-ad-type=\"top_right\" data-viewport=\"tablet desktop\" id=\"top_right\"></div>\n",
       "<div class=\"glacier-ad middle content-module\" data-ad-type=\"middle\" data-viewport=\"mobile\" id=\"middle\"></div>\n",
       "<div class=\"zone-rightRail1 content-module\">\n",
       "<div class=\"thumbnail-right-rail\">\n",
       "<p class=\"title\">Top Stories</p>\n",
       "<a class=\"right-rail-article right-rail-ga\" data-ga-action=\"Right Rail Click Editorial\" data-ga-label=\"No snow! Chicago breaks record for latest-ever 1st snowfall\" href=\"https://www.accuweather.com/en/winter-weather/no-snow-chicago-breaks-record-for-latest-ever-1st-snowfall/1112178\">\n",
       "<div class=\"right-rail-article__meta\">\n",
       "<p class=\"right-rail-article__category\">Winter Weather</p>\n",
       "<p class=\"right-rail-article__title\">No snow! Chicago breaks record for latest-ever 1st snowfall</p>\n",
       "<p class=\"right-rail-article__time\">3 hours ago</p>\n",
       "</div>\n",
       "<img alt=\"\" class=\"js-content-image right-rail-article__thumb\" data-src=\"https://cms.accuweather.com/wp-content/uploads/2021/12/Screen-Shot-2021-12-20-at-11.30.22-AM.png?w=64&amp;h=64&amp;crop=1\"/>\n",
       "</a>\n",
       "<a class=\"right-rail-article right-rail-ga\" data-ga-action=\"Right Rail Click Editorial\" data-ga-label=\"Dallas could break record for warmest Christmas Day ever\" href=\"https://www.accuweather.com/en/weather-forecasts/dallas-could-break-record-for-warmest-christmas-day-ever/1112129\">\n",
       "<div class=\"right-rail-article__meta\">\n",
       "<p class=\"right-rail-article__category\">Weather Forecasts</p>\n",
       "<p class=\"right-rail-article__title\">Dallas could break record for warmest Christmas Day ever</p>\n",
       "<p class=\"right-rail-article__time\">4 hours ago</p>\n",
       "</div>\n",
       "<img alt=\"\" class=\"js-content-image right-rail-article__thumb\" data-src=\"https://cms.accuweather.com/wp-content/uploads/2021/12/2L.jpg?w=64&amp;h=64&amp;crop=1\"/>\n",
       "</a>\n",
       "<a class=\"right-rail-article right-rail-ga\" data-ga-action=\"Right Rail Click Editorial\" data-ga-label=\"Tiny new safety feature on snowplows could save lives\" href=\"https://www.accuweather.com/en/winter-weather/tiny-new-safety-feature-on-snowplows-could-save-lives/1112334\">\n",
       "<div class=\"right-rail-article__meta\">\n",
       "<p class=\"right-rail-article__category\">Winter Weather</p>\n",
       "<p class=\"right-rail-article__title\">Tiny new safety feature on snowplows could save lives</p>\n",
       "<p class=\"right-rail-article__time\">1 day ago</p>\n",
       "</div>\n",
       "<img alt=\"\" class=\"js-content-image right-rail-article__thumb\" data-src=\"https://cms.accuweather.com/wp-content/uploads/2021/12/AP101211136086.jpg?w=64&amp;h=64&amp;crop=1\"/>\n",
       "</a>\n",
       "<a class=\"right-rail-article right-rail-ga video\" data-ga-action=\"Right Rail Click Video\" data-ga-label=\"Top safety concerns during the holidays\" href=\"https://www.accuweather.com/en/videos/essential-ways-to-keep-your-holiday-season-safe/8nbOXmc4\">\n",
       "<div class=\"right-rail-article__video-thumb\">\n",
       "<img alt=\"\" class=\"js-content-image right-rail-article__thumb\" data-src=\"https://cdn.jwplayer.com/v2/media/8nbOXmc4/poster.jpg?w=104&amp;h=58&amp;crop=1\"/>\n",
       "<div class=\"play-icon\"><div class=\"play-icon__inner\"></div></div>\n",
       "</div>\n",
       "<div class=\"right-rail-article__meta\">\n",
       "<p class=\"right-rail-article__title\">Top safety concerns during the holidays</p>\n",
       "<div class=\"spaced-content\">\n",
       "<span class=\"right-rail-article__time\">1 day ago</span>\n",
       "<span class=\"right-rail-article__video-time\">2:32</span>\n",
       "</div>\n",
       "</div>\n",
       "</a>\n",
       "<a class=\"right-rail-article right-rail-ga\" data-ga-action=\"Right Rail Click Editorial\" data-ga-label=\"Podcast: Winter forecast update and the latest chances for a white Chr...\" href=\"https://www.accuweather.com/podcast/everythingunderthesun?id=2f18ddfc-5e96-11ec-9884-77c17188ce00&amp;autoplay=true\">\n",
       "<div class=\"right-rail-article__meta\">\n",
       "<p class=\"right-rail-article__category\"></p>\n",
       "<p class=\"right-rail-article__title\">Podcast: Winter forecast update and the latest chances for a white Chr...</p>\n",
       "<p class=\"right-rail-article__time\"></p>\n",
       "</div>\n",
       "<img alt=\"\" class=\"js-content-image right-rail-article__thumb\" data-src=\"https://cms.accuweather.com/wp-content/uploads/2020/11/everythingunderthesun-podcastcover.jpg?w=64&amp;h=64&amp;crop=1\"/>\n",
       "</a>\n",
       "<a class=\"cta\" href=\"https://www.accuweather.com/en/weather-news\">More Stories</a>\n",
       "</div>\n",
       "</div>\n",
       "<div class=\"glacier-ad bottom_right content-module\" data-ad-type=\"bottom_right\" data-viewport=\"tablet desktop\" id=\"bottom_right\"></div>\n",
       "<div class=\"zone-rightRail2\">\n",
       "<div class=\"headline-right-rail\">\n",
       "<p class=\"title\">Featured Stories</p>\n",
       "<a class=\"right-rail-article right-rail-ga\" data-ga-action=\"Right Rail Click Editorial\" data-ga-label=\"Comfortable menswear pullovers to get you through sweater weather\" href=\"https://www.accuweather.com/en/leisure-recreation/comfortable-menswear-pullovers-to-get-you-through-sweater-weather/1061559\">\n",
       "\t\t\tComfortable menswear pullovers to get you through sweater weather\n",
       "\t\t</a>\n",
       "<a class=\"right-rail-article right-rail-ga\" data-ga-action=\"Right Rail Click Audience Development\" data-ga-label=\"Men's flannel shirts to keep you warm and stylish through winter\" href=\"https://www.accuweather.com/en/winter-weather/best-mens-flannel-shirts-for-fall-and-winter/837742\">\n",
       "\t\t\tMen's flannel shirts to keep you warm and stylish through winter\n",
       "\t\t</a>\n",
       "<a class=\"right-rail-article right-rail-ga\" data-ga-action=\"Right Rail Click Editorial\" data-ga-label=\"The hidden story behind the invention of basketball\" href=\"https://www.accuweather.com/en/sports/the-hidden-story-behind-the-invention-of-basketball/920102\">\n",
       "\t\t\tThe hidden story behind the invention of basketball\n",
       "\t\t</a>\n",
       "</div>\n",
       "</div>\n",
       "</div>\n",
       "</div>\n",
       "</div>\n",
       "<div class=\"glacier-ad bottom content-module\" data-ad-type=\"bottom\" data-viewport=\"\" id=\"bottom\"></div>\n",
       "<div class=\"breadcrumbs-wrapper\">\n",
       "<div class=\"breadcrumbs\" id=\"breadcrumbs\">\n",
       "<div class=\"crumb\">\n",
       "<a class=\"crumb-link\" href=\"/en/world-weather\">World</a>\n",
       "<svg aria-labelledby=\"chevronSVG\" class=\"icon-chevron right crumb-chevron\" height=\"6\" role=\"img\" viewbox=\"0 0 10 6\" width=\"10\" xmlns=\"http://www.w3.org/2000/svg\">\n",
       "<title id=\"chevronSVG\">Chevron right</title>\n",
       "<path d=\"M10 .969L9.037 0 5 4.063.963 0 0 .969 5 6z\"></path>\n",
       "</svg>\n",
       "</div>\n",
       "<div class=\"crumb\">\n",
       "<a class=\"crumb-link\" href=\"/en/asia-weather\">Asia</a>\n",
       "<svg aria-labelledby=\"chevronSVG\" class=\"icon-chevron right crumb-chevron\" height=\"6\" role=\"img\" viewbox=\"0 0 10 6\" width=\"10\" xmlns=\"http://www.w3.org/2000/svg\">\n",
       "<title id=\"chevronSVG\">Chevron right</title>\n",
       "<path d=\"M10 .969L9.037 0 5 4.063.963 0 0 .969 5 6z\"></path>\n",
       "</svg>\n",
       "</div>\n",
       "<div class=\"crumb\">\n",
       "<a class=\"crumb-link\" href=\"/en/tw/taiwan-weather\">Taiwan</a>\n",
       "<svg aria-labelledby=\"chevronSVG\" class=\"icon-chevron right crumb-chevron\" height=\"6\" role=\"img\" viewbox=\"0 0 10 6\" width=\"10\" xmlns=\"http://www.w3.org/2000/svg\">\n",
       "<title id=\"chevronSVG\">Chevron right</title>\n",
       "<path d=\"M10 .969L9.037 0 5 4.063.963 0 0 .969 5 6z\"></path>\n",
       "</svg>\n",
       "</div>\n",
       "<div class=\"crumb\">\n",
       "<a class=\"crumb-link\" href=\"/en/tw/tpe/taipei-city-weather\">Taipei City</a>\n",
       "<svg aria-labelledby=\"chevronSVG\" class=\"icon-chevron right crumb-chevron\" height=\"6\" role=\"img\" viewbox=\"0 0 10 6\" width=\"10\" xmlns=\"http://www.w3.org/2000/svg\">\n",
       "<title id=\"chevronSVG\">Chevron right</title>\n",
       "<path d=\"M10 .969L9.037 0 5 4.063.963 0 0 .969 5 6z\"></path>\n",
       "</svg>\n",
       "</div>\n",
       "<div class=\"crumb\">\n",
       "<a class=\"crumb-link\" href=\"/en/tw/taipei-city/315078/weather-forecast/315078\">Taipei City</a>\n",
       "</div>\n",
       "</div>\n",
       "</div>\n",
       "<script type=\"application/ld+json\">{\"@context\":\"https://schema.org\",\"@type\":\"BreadcrumbList\",\"itemListElement\":[{\"@type\":\"ListItem\",\"item\":{\"@id\":\"/en/world-weather\",\"name\":\"World\"},\"position\":1},{\"@type\":\"ListItem\",\"item\":{\"@id\":\"/en/asia-weather\",\"name\":\"Asia\"},\"position\":2},{\"@type\":\"ListItem\",\"item\":{\"@id\":\"/en/tw/taiwan-weather\",\"name\":\"Taiwan\"},\"position\":3},{\"@type\":\"ListItem\",\"item\":{\"@id\":\"/en/tw/tpe/taipei-city-weather\",\"name\":\"Taipei City\"},\"position\":4},{\"@type\":\"ListItem\",\"item\":{\"@id\":\"/en/tw/taipei-city/315078/weather-forecast/315078\",\"name\":\"Taipei City\"},\"position\":5}]}</script>\n",
       "<div class=\"neighbors-wrapper\">\n",
       "<div class=\"neighbors\">\n",
       "<h2>Weather Near Taipei City:</h2>\n",
       "<div class=\"neighbors-scroll subnav\">\n",
       "<div class=\"overflow overflow-left\">\n",
       "<svg aria-labelledby=\"chevronSVG\" class=\"icon-chevron left arrow\" height=\"6\" role=\"img\" viewbox=\"0 0 10 6\" width=\"10\" xmlns=\"http://www.w3.org/2000/svg\">\n",
       "<title id=\"chevronSVG\">Chevron left</title>\n",
       "<path d=\"M10 .969L9.037 0 5 4.063.963 0 0 .969 5 6z\"></path>\n",
       "</svg>\n",
       "</div>\n",
       "<div class=\"overflow overflow-right\">\n",
       "<svg aria-labelledby=\"chevronSVG\" class=\"icon-chevron right arrow\" height=\"6\" role=\"img\" viewbox=\"0 0 10 6\" width=\"10\" xmlns=\"http://www.w3.org/2000/svg\">\n",
       "<title id=\"chevronSVG\">Chevron right</title>\n",
       "<path d=\"M10 .969L9.037 0 5 4.063.963 0 0 .969 5 6z\"></path>\n",
       "</svg>\n",
       "</div>\n",
       "<ul class=\"subnav-items\" id=\"neighbors\">\n",
       "<li class=\"neighbor\" itemprop=\"address\" itemscope=\"true\" itemtype=\"https://schema.org/PostalAddress\">\n",
       "<a class=\"neighbor-link\" data-from-string=\"nearby_locations\" href=\"/en/tw/keelung-city/312605/weather-forecast/312605\">\n",
       "<span itemprop=\"addressLocality\">Keelung City</span>,\n",
       "\t\t\t\t\t\t\t<span itemprop=\"addressRegion\">Keelung City</span>\n",
       "<span>;</span>\n",
       "</a>\n",
       "</li>\n",
       "<li class=\"neighbor\" itemprop=\"address\" itemscope=\"true\" itemtype=\"https://schema.org/PostalAddress\">\n",
       "<a class=\"neighbor-link\" data-from-string=\"nearby_locations\" href=\"/en/tw/new-taipei-city/2515397/weather-forecast/2515397\">\n",
       "<span itemprop=\"addressLocality\">New Taipei City</span>,\n",
       "\t\t\t\t\t\t\t<span itemprop=\"addressRegion\">New Taipei City</span>\n",
       "<span>;</span>\n",
       "</a>\n",
       "</li>\n",
       "<li class=\"neighbor\" itemprop=\"address\" itemscope=\"true\" itemtype=\"https://schema.org/PostalAddress\">\n",
       "<a class=\"neighbor-link\" data-from-string=\"nearby_locations\" href=\"/en/tw/taoyuan-city/3369297/weather-forecast/3369297\">\n",
       "<span itemprop=\"addressLocality\">Taoyuan City</span>,\n",
       "\t\t\t\t\t\t\t<span itemprop=\"addressRegion\">Taoyuan City</span>\n",
       "</a>\n",
       "</li>\n",
       "</ul>\n",
       "</div>\n",
       "</div>\n",
       "</div>\n",
       "<div class=\"base-footer is-en\">\n",
       "<div class=\"footer-content\">\n",
       "<div class=\"footer-content-mobile\">\n",
       "<div class=\"footer-content-accordion\">\n",
       "<div class=\"accordion-item accordion-item-simple footer-content-accordion-item\" data-collapsed=\"true\" data-qa=\"\" data-shared=\"true\">\n",
       "<div class=\"accordion-item-header-container\">\n",
       "<div class=\"accordion-item-header accordion-item-simple-header\">\n",
       "<span class=\"accordion-item-header-content\">Company</span>\n",
       "<svg class=\"accordion-item-header-icon chevron-icon down\" height=\"6\" viewbox=\"0 0 10 6\" width=\"10\" xmlns=\"http://www.w3.org/2000/svg\"><path d=\"M10 .969L9.037 0 5 4.063.963 0 0 .969 5 6z\"></path></svg>\n",
       "</div>\n",
       "</div>\n",
       "<div class=\"accordion-item-content\">\n",
       "<div class=\"footer-category-section footer-category-accordion\">\n",
       "<a class=\"footer-category-section-link\" data-gacategory=\"Company\" data-gatext=\"Proven Superior Accuracy\" href=\"https://corporate.accuweather.com/\" target=\"_blank\">\n",
       "\t\t\tProven Superior Accuracy\n",
       "\t\t</a>\n",
       "<a class=\"footer-category-section-link\" data-gacategory=\"Company\" data-gatext=\"About AccuWeather\" href=\"https://corporate.accuweather.com/company/about-us/\" target=\"_blank\">\n",
       "\t\t\tAbout AccuWeather\n",
       "\t\t</a>\n",
       "<a class=\"footer-category-section-link\" data-gacategory=\"Company\" data-gatext=\"Digital Advertising\" href=\"https://advertising.accuweather.com/for-advertising/digital-advertising/\" target=\"_blank\">\n",
       "\t\t\tDigital Advertising\n",
       "\t\t</a>\n",
       "<a class=\"footer-category-section-link\" data-gacategory=\"Company\" data-gatext=\"Careers\" href=\"https://corporate.accuweather.com/company/careers/\" target=\"_blank\">\n",
       "\t\t\tCareers\n",
       "\t\t</a>\n",
       "<a class=\"footer-category-section-link\" data-gacategory=\"Company\" data-gatext=\"Press\" href=\"https://corporate.accuweather.com/newsroom/press-releases/\" target=\"_blank\">\n",
       "\t\t\tPress\n",
       "\t\t</a>\n",
       "<a class=\"footer-category-section-link\" data-gacategory=\"Company\" data-gatext=\"Contact Us\" href=\"https://corporate.accuweather.com/company/contact/\" target=\"_blank\">\n",
       "\t\t\tContact Us\n",
       "\t\t</a>\n",
       "</div>\n",
       "</div>\n",
       "</div>\n",
       "<div class=\"accordion-item accordion-item-simple footer-content-accordion-item\" data-collapsed=\"true\" data-qa=\"\" data-shared=\"true\">\n",
       "<div class=\"accordion-item-header-container\">\n",
       "<div class=\"accordion-item-header accordion-item-simple-header\">\n",
       "<span class=\"accordion-item-header-content\">Products &amp; Services</span>\n",
       "<svg class=\"accordion-item-header-icon chevron-icon down\" height=\"6\" viewbox=\"0 0 10 6\" width=\"10\" xmlns=\"http://www.w3.org/2000/svg\"><path d=\"M10 .969L9.037 0 5 4.063.963 0 0 .969 5 6z\"></path></svg>\n",
       "</div>\n",
       "</div>\n",
       "<div class=\"accordion-item-content\">\n",
       "<div class=\"footer-category-section footer-category-accordion\">\n",
       "<a class=\"footer-category-section-link\" data-gacategory=\"Products &amp; Services\" data-gatext=\"For Business\" href=\"https://business.accuweather.com/\" target=\"_blank\">\n",
       "\t\t\tFor Business\n",
       "\t\t</a>\n",
       "<a class=\"footer-category-section-link\" data-gacategory=\"Products &amp; Services\" data-gatext=\"For Partners\" href=\"https://partners.accuweather.com/\" target=\"_blank\">\n",
       "\t\t\tFor Partners\n",
       "\t\t</a>\n",
       "<a class=\"footer-category-section-link\" data-gacategory=\"Products &amp; Services\" data-gatext=\"For Advertising\" href=\"https://advertising.accuweather.com/\" target=\"_blank\">\n",
       "\t\t\tFor Advertising\n",
       "\t\t</a>\n",
       "<a class=\"footer-category-section-link\" data-gacategory=\"Products &amp; Services\" data-gatext=\"AccuWeather APIs\" href=\"https://developer.accuweather.com/\" target=\"_blank\">\n",
       "\t\t\tAccuWeather APIs\n",
       "\t\t</a>\n",
       "<a class=\"footer-category-section-link\" data-gacategory=\"Products &amp; Services\" data-gatext=\"Podcast\" href=\"/podcast\" target=\"_blank\">\n",
       "\t\t\tPodcast\n",
       "\t\t</a>\n",
       "</div>\n",
       "</div>\n",
       "</div>\n",
       "<div class=\"accordion-item accordion-item-simple footer-content-accordion-item\" data-collapsed=\"true\" data-qa=\"\" data-shared=\"true\">\n",
       "<div class=\"accordion-item-header-container\">\n",
       "<div class=\"accordion-item-header accordion-item-simple-header\">\n",
       "<span class=\"accordion-item-header-content\">Apps &amp; Downloads</span>\n",
       "<svg class=\"accordion-item-header-icon chevron-icon down\" height=\"6\" viewbox=\"0 0 10 6\" width=\"10\" xmlns=\"http://www.w3.org/2000/svg\"><path d=\"M10 .969L9.037 0 5 4.063.963 0 0 .969 5 6z\"></path></svg>\n",
       "</div>\n",
       "</div>\n",
       "<div class=\"accordion-item-content\">\n",
       "<div class=\"footer-category-section footer-category-accordion\">\n",
       "<a class=\"footer-category-section-link\" data-gacategory=\"Apps &amp; Downloads\" data-gatext=\"iPhone App\" href=\"https://go.onelink.me/app/ef253ee1\" target=\"_blank\">\n",
       "\t\t\tiPhone App\n",
       "\t\t</a>\n",
       "<a class=\"footer-category-section-link\" data-gacategory=\"Apps &amp; Downloads\" data-gatext=\"Android App\" href=\"https://go.onelink.me/app/85d14e58\" target=\"_blank\">\n",
       "\t\t\tAndroid App\n",
       "\t\t</a>\n",
       "<a class=\"footer-category-section-link\" data-gacategory=\"Apps &amp; Downloads\" data-gatext=\"See all Apps &amp; Downloads\" href=\"https://accuweather.onelink.me/dZpv/aba0397\" target=\"_blank\">\n",
       "\t\t\tSee all Apps &amp; Downloads\n",
       "\t\t</a>\n",
       "</div>\n",
       "</div>\n",
       "</div>\n",
       "<div class=\"accordion-item accordion-item-simple footer-content-accordion-item\" data-collapsed=\"true\" data-qa=\"\" data-shared=\"true\">\n",
       "<div class=\"accordion-item-header-container\">\n",
       "<div class=\"accordion-item-header accordion-item-simple-header\">\n",
       "<span class=\"accordion-item-header-content\">Subscription Services</span>\n",
       "<svg class=\"accordion-item-header-icon chevron-icon down\" height=\"6\" viewbox=\"0 0 10 6\" width=\"10\" xmlns=\"http://www.w3.org/2000/svg\"><path d=\"M10 .969L9.037 0 5 4.063.963 0 0 .969 5 6z\"></path></svg>\n",
       "</div>\n",
       "</div>\n",
       "<div class=\"accordion-item-content\">\n",
       "<div class=\"footer-category-section footer-category-accordion\">\n",
       "<a class=\"footer-category-section-link\" data-gacategory=\"Subscription Services\" data-gatext=\"AccuWeather Premium\" href=\"https://wwwl.accuweather.com/premium_login.php\" target=\"_blank\">\n",
       "\t\t\tAccuWeather Premium\n",
       "\t\t</a>\n",
       "<a class=\"footer-category-section-link\" data-gacategory=\"Subscription Services\" data-gatext=\"AccuWeather Professional\" href=\"https://wwwl.accuweather.com/pro_login.php\" target=\"_blank\">\n",
       "\t\t\tAccuWeather Professional\n",
       "\t\t</a>\n",
       "</div>\n",
       "</div>\n",
       "</div>\n",
       "<div class=\"accordion-item accordion-item-simple footer-content-accordion-item\" data-collapsed=\"true\" data-qa=\"\" data-shared=\"true\">\n",
       "<div class=\"accordion-item-header-container\">\n",
       "<div class=\"accordion-item-header accordion-item-simple-header\">\n",
       "<span class=\"accordion-item-header-content\">More</span>\n",
       "<svg class=\"accordion-item-header-icon chevron-icon down\" height=\"6\" viewbox=\"0 0 10 6\" width=\"10\" xmlns=\"http://www.w3.org/2000/svg\"><path d=\"M10 .969L9.037 0 5 4.063.963 0 0 .969 5 6z\"></path></svg>\n",
       "</div>\n",
       "</div>\n",
       "<div class=\"accordion-item-content\">\n",
       "<div class=\"footer-category-section footer-category-accordion\">\n",
       "<a class=\"footer-category-section-link\" data-gacategory=\"More\" data-gatext=\"AccuWeather Shop\" href=\"https://www.accuweather.com/shop\" target=\"_blank\">\n",
       "\t\t\tAccuWeather Shop\n",
       "\t\t</a>\n",
       "<a class=\"footer-category-section-link\" data-gacategory=\"More\" data-gatext=\"AccuWeather Ready\" href=\"/en/accuweather-ready\">\n",
       "\t\t\tAccuWeather Ready\n",
       "\t\t</a>\n",
       "<a class=\"footer-category-section-link\" data-gacategory=\"More\" data-gatext=\"Business\" href=\"/en/business\">\n",
       "\t\t\tBusiness\n",
       "\t\t</a>\n",
       "<a class=\"footer-category-section-link\" data-gacategory=\"More\" data-gatext=\"Health\" href=\"/en/health-wellness\">\n",
       "\t\t\tHealth\n",
       "\t\t</a>\n",
       "<a class=\"footer-category-section-link\" data-gacategory=\"More\" data-gatext=\"Hurricane\" href=\"/en/hurricane\">\n",
       "\t\t\tHurricane\n",
       "\t\t</a>\n",
       "<a class=\"footer-category-section-link\" data-gacategory=\"More\" data-gatext=\"Leisure and Recreation\" href=\"/en/leisure-recreation\">\n",
       "\t\t\tLeisure and Recreation\n",
       "\t\t</a>\n",
       "<a class=\"footer-category-section-link\" data-gacategory=\"More\" data-gatext=\"Severe Weather\" href=\"/en/tw/severe-weather\">\n",
       "\t\t\tSevere Weather\n",
       "\t\t</a>\n",
       "<a class=\"footer-category-section-link\" data-gacategory=\"More\" data-gatext=\"Space and Astronomy\" href=\"/en/space-news\">\n",
       "\t\t\tSpace and Astronomy\n",
       "\t\t</a>\n",
       "<a class=\"footer-category-section-link\" data-gacategory=\"More\" data-gatext=\"Sports\" href=\"/en/sports\">\n",
       "\t\t\tSports\n",
       "\t\t</a>\n",
       "<a class=\"footer-category-section-link\" data-gacategory=\"More\" data-gatext=\"Travel\" href=\"/en/travel\">\n",
       "\t\t\tTravel\n",
       "\t\t</a>\n",
       "<a class=\"footer-category-section-link\" data-gacategory=\"More\" data-gatext=\"Weather News\" href=\"/en/weather-news\">\n",
       "\t\t\tWeather News\n",
       "\t\t</a>\n",
       "<a class=\"footer-category-section-link\" data-gacategory=\"More\" data-gatext=\"Weather Blogs\" href=\"/en/weather-blogs\">\n",
       "\t\t\tWeather Blogs\n",
       "\t\t</a>\n",
       "<a class=\"footer-category-section-link\" data-gacategory=\"More\" data-gatext=\"Winter Weather\" href=\"/en/tw/winter-weather\">\n",
       "\t\t\tWinter Weather\n",
       "\t\t</a>\n",
       "</div>\n",
       "</div>\n",
       "</div>\n",
       "</div>\n",
       "<div class=\"footer-social\">\n",
       "<a class=\"social-link\" data-gacategory=\"Downloads\" data-galink=\"https://downloads.accuweather.com/\" data-gatype=\"outbound\" href=\"https://downloads.accuweather.com/\" rel=\"noopener noreferrer\" target=\"_blank\">\n",
       "<img alt=\"AccuWeather Downloads\" class=\"social-icon\" data-eager=\"\" data-src=\"/images/socialicons/downloads.svg\" height=\"36px\" width=\"36px\"/>\n",
       "</a>\n",
       "<a class=\"social-link\" data-gacategory=\"Facebook\" data-galink=\"https://www.facebook.com/AccuWeather\" data-gatype=\"social\" href=\"https://www.facebook.com/AccuWeather\" rel=\"noopener noreferrer\" target=\"_blank\">\n",
       "<img alt=\"Facebook\" class=\"social-icon\" data-eager=\"\" data-src=\"/images/socialicons/facebook.svg\" height=\"36px\" width=\"36px\"/>\n",
       "</a>\n",
       "<a class=\"social-link\" data-gacategory=\"Twitter\" data-galink=\"https://twitter.com/BreakingWeather\" data-gatype=\"social\" href=\"https://twitter.com/BreakingWeather\" rel=\"noopener noreferrer\" target=\"_blank\">\n",
       "<img alt=\"Twitter\" class=\"social-icon\" data-eager=\"\" data-src=\"/images/socialicons/twitter.svg\" height=\"36px\" width=\"36px\"/>\n",
       "</a>\n",
       "<a class=\"social-link\" data-gacategory=\"TV\" data-galink=\"https://getaccuweather.tv\" data-gatype=\"outbound\" href=\"https://getaccuweather.tv/?utm_source=adc&amp;utm_medium=icon&amp;utm_campaign=footer\" rel=\"noopener noreferrer\" target=\"_blank\">\n",
       "<img alt=\"AccuWeather TV\" class=\"social-icon\" data-eager=\"\" data-src=\"/images/socialicons/tv.svg\" height=\"36px\" width=\"36px\"/>\n",
       "</a>\n",
       "</div>\n",
       "</div>\n",
       "<div class=\"footer-content-tablet\">\n",
       "<div class=\"footer-content-category\">\n",
       "<div class=\"footer-content-category-wrapper\">\n",
       "<div class=\"footer-content-category-header\">Company</div>\n",
       "<div class=\"footer-category-section\">\n",
       "<a class=\"footer-category-section-link\" data-gacategory=\"Company\" data-gatext=\"Proven Superior Accuracy\" href=\"https://corporate.accuweather.com/\" target=\"_blank\">\n",
       "\t\t\tProven Superior Accuracy\n",
       "\t\t</a>\n",
       "<a class=\"footer-category-section-link\" data-gacategory=\"Company\" data-gatext=\"About AccuWeather\" href=\"https://corporate.accuweather.com/company/about-us/\" target=\"_blank\">\n",
       "\t\t\tAbout AccuWeather\n",
       "\t\t</a>\n",
       "<a class=\"footer-category-section-link\" data-gacategory=\"Company\" data-gatext=\"Digital Advertising\" href=\"https://advertising.accuweather.com/for-advertising/digital-advertising/\" target=\"_blank\">\n",
       "\t\t\tDigital Advertising\n",
       "\t\t</a>\n",
       "<a class=\"footer-category-section-link\" data-gacategory=\"Company\" data-gatext=\"Careers\" href=\"https://corporate.accuweather.com/company/careers/\" target=\"_blank\">\n",
       "\t\t\tCareers\n",
       "\t\t</a>\n",
       "<a class=\"footer-category-section-link\" data-gacategory=\"Company\" data-gatext=\"Press\" href=\"https://corporate.accuweather.com/newsroom/press-releases/\" target=\"_blank\">\n",
       "\t\t\tPress\n",
       "\t\t</a>\n",
       "<a class=\"footer-category-section-link\" data-gacategory=\"Company\" data-gatext=\"Contact Us\" href=\"https://corporate.accuweather.com/company/contact/\" target=\"_blank\">\n",
       "\t\t\tContact Us\n",
       "\t\t</a>\n",
       "</div>\n",
       "</div>\n",
       "</div>\n",
       "<div class=\"footer-content-category\">\n",
       "<div class=\"footer-content-category-wrapper\">\n",
       "<div class=\"footer-content-category-header\">Products &amp; Services</div>\n",
       "<div class=\"footer-category-section\">\n",
       "<a class=\"footer-category-section-link\" data-gacategory=\"Products &amp; Services\" data-gatext=\"For Business\" href=\"https://business.accuweather.com/\" target=\"_blank\">\n",
       "\t\t\tFor Business\n",
       "\t\t</a>\n",
       "<a class=\"footer-category-section-link\" data-gacategory=\"Products &amp; Services\" data-gatext=\"For Partners\" href=\"https://partners.accuweather.com/\" target=\"_blank\">\n",
       "\t\t\tFor Partners\n",
       "\t\t</a>\n",
       "<a class=\"footer-category-section-link\" data-gacategory=\"Products &amp; Services\" data-gatext=\"For Advertising\" href=\"https://advertising.accuweather.com/\" target=\"_blank\">\n",
       "\t\t\tFor Advertising\n",
       "\t\t</a>\n",
       "<a class=\"footer-category-section-link\" data-gacategory=\"Products &amp; Services\" data-gatext=\"AccuWeather APIs\" href=\"https://developer.accuweather.com/\" target=\"_blank\">\n",
       "\t\t\tAccuWeather APIs\n",
       "\t\t</a>\n",
       "<a class=\"footer-category-section-link\" data-gacategory=\"Products &amp; Services\" data-gatext=\"Podcast\" href=\"/podcast\" target=\"_blank\">\n",
       "\t\t\tPodcast\n",
       "\t\t</a>\n",
       "</div>\n",
       "</div>\n",
       "</div>\n",
       "<div class=\"footer-content-category\">\n",
       "<div class=\"footer-content-category-wrapper\">\n",
       "<div class=\"footer-content-category-header\">Apps &amp; Downloads</div>\n",
       "<div class=\"footer-category-section\">\n",
       "<a class=\"footer-category-section-link\" data-gacategory=\"Apps &amp; Downloads\" data-gatext=\"iPhone App\" href=\"https://go.onelink.me/app/ef253ee1\" target=\"_blank\">\n",
       "\t\t\tiPhone App\n",
       "\t\t</a>\n",
       "<a class=\"footer-category-section-link\" data-gacategory=\"Apps &amp; Downloads\" data-gatext=\"Android App\" href=\"https://go.onelink.me/app/85d14e58\" target=\"_blank\">\n",
       "\t\t\tAndroid App\n",
       "\t\t</a>\n",
       "<a class=\"footer-category-section-link\" data-gacategory=\"Apps &amp; Downloads\" data-gatext=\"See all Apps &amp; Downloads\" href=\"https://accuweather.onelink.me/dZpv/aba0397\" target=\"_blank\">\n",
       "\t\t\tSee all Apps &amp; Downloads\n",
       "\t\t</a>\n",
       "</div>\n",
       "</div>\n",
       "</div>\n",
       "<div class=\"footer-content-category\">\n",
       "<div class=\"footer-content-category-wrapper\">\n",
       "<div class=\"footer-content-category-header\">Subscription Services</div>\n",
       "<div class=\"footer-category-section\">\n",
       "<a class=\"footer-category-section-link\" data-gacategory=\"Subscription Services\" data-gatext=\"AccuWeather Premium\" href=\"https://wwwl.accuweather.com/premium_login.php\" target=\"_blank\">\n",
       "\t\t\tAccuWeather Premium\n",
       "\t\t</a>\n",
       "<a class=\"footer-category-section-link\" data-gacategory=\"Subscription Services\" data-gatext=\"AccuWeather Professional\" href=\"https://wwwl.accuweather.com/pro_login.php\" target=\"_blank\">\n",
       "\t\t\tAccuWeather Professional\n",
       "\t\t</a>\n",
       "</div>\n",
       "</div>\n",
       "</div>\n",
       "<div class=\"footer-content-category\">\n",
       "<div class=\"footer-content-category-wrapper\">\n",
       "<div class=\"footer-content-category-header\">More</div>\n",
       "<div class=\"footer-category-section\">\n",
       "<a class=\"footer-category-section-link\" data-gacategory=\"More\" data-gatext=\"AccuWeather Shop\" href=\"https://www.accuweather.com/shop\" target=\"_blank\">\n",
       "\t\t\tAccuWeather Shop\n",
       "\t\t</a>\n",
       "<a class=\"footer-category-section-link\" data-gacategory=\"More\" data-gatext=\"AccuWeather Ready\" href=\"/en/accuweather-ready\">\n",
       "\t\t\tAccuWeather Ready\n",
       "\t\t</a>\n",
       "<a class=\"footer-category-section-link\" data-gacategory=\"More\" data-gatext=\"Business\" href=\"/en/business\">\n",
       "\t\t\tBusiness\n",
       "\t\t</a>\n",
       "<a class=\"footer-category-section-link\" data-gacategory=\"More\" data-gatext=\"Health\" href=\"/en/health-wellness\">\n",
       "\t\t\tHealth\n",
       "\t\t</a>\n",
       "<a class=\"footer-category-section-link\" data-gacategory=\"More\" data-gatext=\"Hurricane\" href=\"/en/hurricane\">\n",
       "\t\t\tHurricane\n",
       "\t\t</a>\n",
       "<a class=\"footer-category-section-link\" data-gacategory=\"More\" data-gatext=\"Leisure and Recreation\" href=\"/en/leisure-recreation\">\n",
       "\t\t\tLeisure and Recreation\n",
       "\t\t</a>\n",
       "<a class=\"footer-category-section-link\" data-gacategory=\"More\" data-gatext=\"Severe Weather\" href=\"/en/tw/severe-weather\">\n",
       "\t\t\tSevere Weather\n",
       "\t\t</a>\n",
       "<a class=\"footer-category-section-link\" data-gacategory=\"More\" data-gatext=\"Space and Astronomy\" href=\"/en/space-news\">\n",
       "\t\t\tSpace and Astronomy\n",
       "\t\t</a>\n",
       "<a class=\"footer-category-section-link\" data-gacategory=\"More\" data-gatext=\"Sports\" href=\"/en/sports\">\n",
       "\t\t\tSports\n",
       "\t\t</a>\n",
       "<a class=\"footer-category-section-link\" data-gacategory=\"More\" data-gatext=\"Travel\" href=\"/en/travel\">\n",
       "\t\t\tTravel\n",
       "\t\t</a>\n",
       "<a class=\"footer-category-section-link\" data-gacategory=\"More\" data-gatext=\"Weather News\" href=\"/en/weather-news\">\n",
       "\t\t\tWeather News\n",
       "\t\t</a>\n",
       "<a class=\"footer-category-section-link\" data-gacategory=\"More\" data-gatext=\"Weather Blogs\" href=\"/en/weather-blogs\">\n",
       "\t\t\tWeather Blogs\n",
       "\t\t</a>\n",
       "<a class=\"footer-category-section-link\" data-gacategory=\"More\" data-gatext=\"Winter Weather\" href=\"/en/tw/winter-weather\">\n",
       "\t\t\tWinter Weather\n",
       "\t\t</a>\n",
       "</div>\n",
       "<div class=\"footer-social footer-social-tablet\">\n",
       "<a class=\"social-link\" data-gacategory=\"Downloads\" data-galink=\"https://downloads.accuweather.com/\" data-gatype=\"outbound\" href=\"https://downloads.accuweather.com/\" rel=\"noopener noreferrer\" target=\"_blank\">\n",
       "<img alt=\"AccuWeather Downloads\" class=\"social-icon\" data-eager=\"\" data-src=\"/images/socialicons/downloads.svg\" height=\"36px\" width=\"36px\"/>\n",
       "</a>\n",
       "<a class=\"social-link\" data-gacategory=\"Facebook\" data-galink=\"https://www.facebook.com/AccuWeather\" data-gatype=\"social\" href=\"https://www.facebook.com/AccuWeather\" rel=\"noopener noreferrer\" target=\"_blank\">\n",
       "<img alt=\"Facebook\" class=\"social-icon\" data-eager=\"\" data-src=\"/images/socialicons/facebook.svg\" height=\"36px\" width=\"36px\"/>\n",
       "</a>\n",
       "<a class=\"social-link\" data-gacategory=\"Twitter\" data-galink=\"https://twitter.com/BreakingWeather\" data-gatype=\"social\" href=\"https://twitter.com/BreakingWeather\" rel=\"noopener noreferrer\" target=\"_blank\">\n",
       "<img alt=\"Twitter\" class=\"social-icon\" data-eager=\"\" data-src=\"/images/socialicons/twitter.svg\" height=\"36px\" width=\"36px\"/>\n",
       "</a>\n",
       "<a class=\"social-link\" data-gacategory=\"TV\" data-galink=\"https://getaccuweather.tv\" data-gatype=\"outbound\" href=\"https://getaccuweather.tv/?utm_source=adc&amp;utm_medium=icon&amp;utm_campaign=footer\" rel=\"noopener noreferrer\" target=\"_blank\">\n",
       "<img alt=\"AccuWeather TV\" class=\"social-icon\" data-eager=\"\" data-src=\"/images/socialicons/tv.svg\" height=\"36px\" width=\"36px\"/>\n",
       "</a>\n",
       "</div>\n",
       "</div>\n",
       "</div>\n",
       "</div>\n",
       "</div>\n",
       "<div class=\"footer-legalese\">\n",
       "<div class=\"footer-copyright\">\n",
       "<span>\n",
       "\t\t\t© 2021 AccuWeather, Inc. \"AccuWeather\" and sun design are registered trademarks of AccuWeather, Inc. All Rights Reserved.\n",
       "\t\t</span>\n",
       "</div>\n",
       "<div class=\"footer-terms\" id=\"footer-terms\">\n",
       "<a data-ga=\"Terms of usage\" href=\"/en/legal\" target=\"_blank\">\n",
       "\t\t\tTerms of Use\n",
       "\t\t</a>\n",
       "\t\t|\n",
       "\t\t<a data-ga=\"Privacy Policy\" href=\"/en/privacy\" target=\"_blank\">\n",
       "\t\t\tPrivacy Policy\n",
       "\t\t</a>\n",
       "\t\t|\n",
       "\t\t<a data-ga=\"Cookie Policy\" href=\"/en/cookiepolicy\" target=\"_blank\">\n",
       "\t\t\tCookie Policy\n",
       "\t\t</a>\n",
       "\t\t|\n",
       "\t\t<a data-ga=\"TAG Disclosure\" href=\"/en/tag-publisher-sourcing-disclosure\" target=\"_blank\">\n",
       "\t\t\tTAG Disclosure\n",
       "\t\t</a>\n",
       "</div>\n",
       "</div>\n",
       "</div>\n",
       "<div class=\"glacier-ad oop\" data-ad-type=\"oop\" data-viewport=\"\" id=\"oop\"></div>\n",
       "<div class=\"glacier-ad interstitial\" data-ad-type=\"interstitial\" data-viewport=\"\" id=\"interstitial\"></div>\n",
       "<div class=\"privacy-policy-banner\" data-banner-delay=\"0\" data-banner-order=\"0\" id=\"privacy-policy-banner\" style=\"display: none;\">\n",
       "<div class=\"banner-body\">\n",
       "<p>\n",
       "\t\t\t\tWe have updated our <a href=\"/en/privacy\" id=\"privacy-policy-banner-privacy-link\" target=\"_blank\">Privacy Policy</a> and <a href=\"/en/cookiepolicy\" id=\"privacy-policy-banner-cookie-policy-link\" target=\"_blank\">Cookie Policy</a>.\n",
       "\t\t\t</p>\n",
       "<div class=\"banner-button policy-accept\">I Understand</div>\n",
       "</div>\n",
       "</div>\n",
       "<div class=\"feedback-banner hide-mobile\" id=\"feedback-banner\">\n",
       "<a class=\"feedback-banner-link\" href=\"https://corporate.accuweather.com/company/contact/\">\n",
       "<span>FEEDBACK</span>\n",
       "<svg class=\"icon-plus icon-plus\" height=\"18\" viewbox=\"0 0 18 18\" width=\"18\" xmlns=\"http://www.w3.org/2000/svg\">\n",
       "<g fill=\"none\" fill-rule=\"evenodd\" stroke=\"#F05514\" stroke-linecap=\"square\" stroke-width=\"2\">\n",
       "<path d=\"M9 0v18M0 9h18\"></path>\n",
       "</g>\n",
       "</svg>\n",
       "</a>\n",
       "</div>\n",
       "</div>\n",
       "<script async=\"\" charset=\"utf-8\" src=\"/bundles/city.daily-desktop.354f9525ca93f8da6317.js\"></script>\n",
       "<script async=\"\" charset=\"utf-8\" src=\"/bundles/4540.7e008c8ef0972d410f00.js\"></script>\n",
       "<script async=\"\" charset=\"utf-8\" src=\"/bundles/464.bbb7192b4315e01a6e60.js\"></script>\n",
       "<script async=\"\" charset=\"utf-8\" src=\"/bundles/6580.06bf90b98bb9b53e28b4.js\"></script>\n",
       "<script>\n",
       "\t\tvar _comscore = _comscore || [];\n",
       "\t\t_comscore.push({\"c1\":\"2\",\"c2\":\"6005068\"});\n",
       "\n",
       "\t\tconst isCountryEEA = false;\n",
       "\n",
       "\t\tif(isCountryEEA){\n",
       "\t\t\tconst consentCookieName = 'awxconsent';\n",
       "\t\t\t\n",
       "\t\t\tconst timer = setInterval(() => {\n",
       "\t\t\t\tconst consent = document.cookie.match('(^|;)\\\\s*' + consentCookieName + '\\\\s*=\\\\s*([^;]+)')?.pop() || '';\n",
       "\t\t\t\t\n",
       "\t\t\t\tif(consent == 1){\n",
       "\t\t\t\t\tcallComScore();\n",
       "\t\t\t\t\tclearInterval(timer);\n",
       "\t\t\t\t}\n",
       "\t\t\t}, 5000);\n",
       "\t\t}\n",
       "\t\telse{\n",
       "\t\t\tcallComScore();\n",
       "\t\t}\n",
       "\n",
       "\t\tfunction callComScore(){\n",
       "\t\t\tvar s = document.createElement(\"script\"), el = document.getElementsByTagName(\"script\")[0]; s.async = true;\n",
       "\t\t\ts.src = \"https://sb.scorecardresearch.com/internal-cs/default/beacon.js\";\n",
       "\t\t\tel.parentNode.insertBefore(s, el);\n",
       "\t\t}\n",
       "\n",
       "\t</script>\n",
       "<noscript><img alt=\"ComScore\" src=\"https://sb.scorecardresearch.com/p?c1=2&amp;c2=6005068&amp;cv=3.6&amp;cj=1\"/></noscript>\n",
       "<script async=\"\" id=\"bt_bootstrap_2.0\" src=\"//accuweather-com.videoplayerhub.com/btTag.js?w=5760049299324928\"></script>\n",
       "<noscript><img src=\"https://www.accuweather.com/akam/11/pixel_6af11c1c?a=dD01OGNjNWViYmMxZWZmNjgwNzVkY2NkYjkyOTM4Nzc3NzRhZGY2YTdiJmpzPW9mZg==\" style=\"visibility: hidden; position: absolute; left: -999px; top: -999px;\"/></noscript></body>\n",
       "</html>"
      ]
     },
     "execution_count": 47,
     "metadata": {},
     "output_type": "execute_result"
    }
   ],
   "source": [
    "sess = requests.Session()\n",
    "sess.headers.update({\n",
    "    'User-Agent': 'Mozilla/5.0 (X11; Ubuntu; Linux x86_64; rv:80.0) Gecko/20100101 Firefox/80.0'})\n",
    "resp = sess.get(daily)\n",
    "soup = BS(resp.text, 'html.parser')\n",
    "\n",
    "soup"
   ]
  },
  {
   "cell_type": "code",
   "execution_count": 13,
   "metadata": {
    "ExecuteTime": {
     "end_time": "2020-12-23T08:48:09.945257Z",
     "start_time": "2020-12-23T08:48:09.935211Z"
    },
    "slideshow": {
     "slide_type": "subslide"
    }
   },
   "outputs": [
    {
     "data": {
      "text/plain": [
       "<div class=\"daily-wrapper\">\n",
       "<a class=\"daily-forecast-card\" href=\"/en/tw/taipei-city/315078/daily-weather-forecast/315078?day=1\">\n",
       "<div class=\"info\">\n",
       "<h2 class=\"date\">\n",
       "<span class=\"module-header dow date\">Wed</span>\n",
       "<span class=\"module-header sub date\">12/23</span>\n",
       "</h2>\n",
       "<img alt=\"\" class=\"weather-icon icon\" data-eager=\"\" data-src=\"/images/weathericons/18.svg\" height=\"128px\" width=\"128px\"/>\n",
       "<div class=\"temp\">\n",
       "<span class=\"high\">20°</span>\n",
       "<span class=\"low\">/18°</span>\n",
       "</div>\n",
       "</div>\n",
       "<div class=\"phrase\">\n",
       "\t\t\t\tBrief a.m. showers, then rain\n",
       "\t\t\t</div>\n",
       "<div class=\"precip\">\n",
       "<img alt=\"rain drop\" class=\"precip-icon\" src=\"/images/components/weather/daily-forecast-card-nfl/drop-icon.svg\"/>\n",
       "\t\t100%\n",
       "\t</div>\n",
       "<svg aria-labelledby=\"arrowSVG\" class=\"cta-arrow\" height=\"16\" role=\"img\" viewbox=\"0 0 16 16\" width=\"16\" xmlns=\"http://www.w3.org/2000/svg\" xmlns:xlink=\"http://www.w3.org/1999/xlink\">\n",
       "<title id=\"arrowSVG\">Arrow</title>\n",
       "<g fill=\"none\" fill-rule=\"evenodd\" transform=\"translate(1 2)\">\n",
       "<g fill=\"#000\">\n",
       "<path d=\"M8.495.505l5 5v.99l-5 5-.99-.99 3.805-3.806L0 6.7V5.3l11.31-.001-3.805-3.804.99-.99z\" transform=\"translate(-1 -2)\"></path>\n",
       "</g>\n",
       "</g>\n",
       "</svg>\n",
       "</a>\n",
       "</div>"
      ]
     },
     "execution_count": 13,
     "metadata": {},
     "output_type": "execute_result"
    }
   ],
   "source": [
    "# soup.find_all('div', attrs={'class': 'daily-wrapper'})\n",
    "daily_item = soup.find_all('div', class_='daily-wrapper')\n",
    "daily_item[0]"
   ]
  },
  {
   "cell_type": "code",
   "execution_count": 14,
   "metadata": {
    "ExecuteTime": {
     "end_time": "2020-12-23T08:48:11.731210Z",
     "start_time": "2020-12-23T08:48:11.727111Z"
    },
    "slideshow": {
     "slide_type": "subslide"
    }
   },
   "outputs": [
    {
     "data": {
      "text/plain": [
       "<div class=\"info\">\n",
       "<h2 class=\"date\">\n",
       "<span class=\"module-header dow date\">Wed</span>\n",
       "<span class=\"module-header sub date\">12/23</span>\n",
       "</h2>\n",
       "<img alt=\"\" class=\"weather-icon icon\" data-eager=\"\" data-src=\"/images/weathericons/18.svg\" height=\"128px\" width=\"128px\"/>\n",
       "<div class=\"temp\">\n",
       "<span class=\"high\">20°</span>\n",
       "<span class=\"low\">/18°</span>\n",
       "</div>\n",
       "</div>"
      ]
     },
     "execution_count": 14,
     "metadata": {},
     "output_type": "execute_result"
    }
   ],
   "source": [
    "daily_item[0].find(class_='info')"
   ]
  },
  {
   "cell_type": "code",
   "execution_count": 15,
   "metadata": {
    "ExecuteTime": {
     "end_time": "2020-12-23T08:48:13.019619Z",
     "start_time": "2020-12-23T08:48:13.016666Z"
    },
    "slideshow": {
     "slide_type": "subslide"
    }
   },
   "outputs": [
    {
     "data": {
      "text/plain": [
       "'12/23'"
      ]
     },
     "execution_count": 15,
     "metadata": {},
     "output_type": "execute_result"
    }
   ],
   "source": [
    "daily_item[0].find(class_='info').h2.find_all('span')[1].text"
   ]
  },
  {
   "cell_type": "code",
   "execution_count": 16,
   "metadata": {
    "ExecuteTime": {
     "end_time": "2020-12-23T08:49:06.337515Z",
     "start_time": "2020-12-23T08:49:06.334478Z"
    }
   },
   "outputs": [
    {
     "data": {
      "text/plain": [
       "'20'"
      ]
     },
     "execution_count": 16,
     "metadata": {},
     "output_type": "execute_result"
    }
   ],
   "source": [
    "daily_item[0].find(class_='high').text[:-1]"
   ]
  },
  {
   "cell_type": "code",
   "execution_count": 17,
   "metadata": {
    "ExecuteTime": {
     "end_time": "2020-12-23T08:49:34.215457Z",
     "start_time": "2020-12-23T08:49:34.212488Z"
    }
   },
   "outputs": [
    {
     "data": {
      "text/plain": [
       "'18'"
      ]
     },
     "execution_count": 17,
     "metadata": {},
     "output_type": "execute_result"
    }
   ],
   "source": [
    "daily_item[0].find(class_='low').text[1:-1]"
   ]
  },
  {
   "cell_type": "code",
   "execution_count": 18,
   "metadata": {
    "ExecuteTime": {
     "end_time": "2020-12-23T08:50:21.182054Z",
     "start_time": "2020-12-23T08:50:21.178954Z"
    }
   },
   "outputs": [
    {
     "data": {
      "text/plain": [
       "<div class=\"precip\">\n",
       "<img alt=\"rain drop\" class=\"precip-icon\" src=\"/images/components/weather/daily-forecast-card-nfl/drop-icon.svg\"/>\n",
       "\t\t100%\n",
       "\t</div>"
      ]
     },
     "execution_count": 18,
     "metadata": {},
     "output_type": "execute_result"
    }
   ],
   "source": [
    "daily_item[0].find(class_='precip')"
   ]
  },
  {
   "cell_type": "code",
   "execution_count": 19,
   "metadata": {
    "ExecuteTime": {
     "end_time": "2020-12-23T08:50:34.078506Z",
     "start_time": "2020-12-23T08:50:34.075457Z"
    }
   },
   "outputs": [
    {
     "data": {
      "text/plain": [
       "'100'"
      ]
     },
     "execution_count": 19,
     "metadata": {},
     "output_type": "execute_result"
    }
   ],
   "source": [
    "daily_item[0].find(class_='precip').text.strip().rstrip()[:-1]"
   ]
  },
  {
   "cell_type": "code",
   "execution_count": 20,
   "metadata": {
    "ExecuteTime": {
     "end_time": "2020-12-23T08:51:34.571169Z",
     "start_time": "2020-12-23T08:51:34.561789Z"
    },
    "slideshow": {
     "slide_type": "subslide"
    }
   },
   "outputs": [
    {
     "data": {
      "text/plain": [
       "[{'date': '12/23', 'high': 20, 'low': 18, 'rain': 100},\n",
       " {'date': '12/24', 'high': 20, 'low': 16, 'rain': 62},\n",
       " {'date': '12/25', 'high': 21, 'low': 18, 'rain': 16},\n",
       " {'date': '12/26', 'high': 24, 'low': 18, 'rain': 5},\n",
       " {'date': '12/27', 'high': 22, 'low': 17, 'rain': 4},\n",
       " {'date': '12/28', 'high': 19, 'low': 17, 'rain': 9},\n",
       " {'date': '12/29', 'high': 20, 'low': 14, 'rain': 11},\n",
       " {'date': '12/30', 'high': 14, 'low': 9, 'rain': 61},\n",
       " {'date': '12/31', 'high': 12, 'low': 9, 'rain': 25},\n",
       " {'date': '1/1', 'high': 15, 'low': 13, 'rain': 55},\n",
       " {'date': '1/2', 'high': 17, 'low': 15, 'rain': 65},\n",
       " {'date': '1/3', 'high': 18, 'low': 15, 'rain': 66}]"
      ]
     },
     "execution_count": 20,
     "metadata": {},
     "output_type": "execute_result"
    }
   ],
   "source": [
    "for i, item in enumerate(daily_item):\n",
    "    daily_item[i] = {\n",
    "        'date': item.find(class_='info').h2.find_all('span')[1].text,\n",
    "        'high': int(item.find(class_='high').text[:-1]),\n",
    "        'low': int(item.find(class_='low').text[1:-1]),\n",
    "        'rain': int(item.find(class_='precip').text.strip().rstrip()[:-1]),\n",
    "    }\n",
    "daily_item"
   ]
  },
  {
   "cell_type": "markdown",
   "metadata": {
    "slideshow": {
     "slide_type": "subslide"
    }
   },
   "source": [
    "### <span style=\"color:red\">Exercise1:</span> save to csv with pandas\n",
    "### <span style=\"color:red\">Exercise2:</span> plot line graph (折線圖) for low and high temperature with matplotlib\n",
    "### <span style=\"color:red\">Exercise3:</span> calculate standard deviation with numpy"
   ]
  },
  {
   "cell_type": "code",
   "execution_count": 53,
   "metadata": {
    "ExecuteTime": {
     "end_time": "2020-12-20T17:15:34.546847Z",
     "start_time": "2020-12-20T17:15:34.044109Z"
    },
    "solution2": "shown",
    "solution2_first": true
   },
   "outputs": [],
   "source": [
    "import pandas as pd\n",
    "import matplotlib.pyplot as plt\n",
    "import numpy as np\n",
    "# TODO"
   ]
  },
  {
   "cell_type": "code",
   "execution_count": 21,
   "metadata": {
    "ExecuteTime": {
     "end_time": "2020-12-23T08:52:38.257563Z",
     "start_time": "2020-12-23T08:52:37.831809Z"
    },
    "solution2": "shown"
   },
   "outputs": [
    {
     "data": {
      "image/png": "[encoded data removed]",
      "text/plain": [
       "<Figure size 432x288 with 1 Axes>"
      ]
     },
     "metadata": {
      "needs_background": "light"
     },
     "output_type": "display_data"
    },
    {
     "name": "stdout",
     "output_type": "stream",
     "text": [
      "high standard deviation: 3.3291640592396967\n",
      "low  standard deviation: 3.06752705321766\n",
      "rain standard deviation: 30.51627525691095\n"
     ]
    }
   ],
   "source": [
    "# exercise 1\n",
    "import pandas as pd\n",
    "df = pd.DataFrame(daily_item)\n",
    "df.to_csv('exercise_out.csv', index=False)\n",
    "\n",
    "# exercise 2\n",
    "import matplotlib.pyplot as plt\n",
    "plt.plot(df['date'], df['low'])\n",
    "plt.plot(df['date'], df['high'])\n",
    "plt.xticks(rotation='vertical')\n",
    "plt.ylabel('temperature (°C)')\n",
    "plt.xlabel('date')\n",
    "plt.show()\n",
    "\n",
    "# exercise 3\n",
    "import numpy as np\n",
    "print('high standard deviation:', np.std(df['high']))\n",
    "print('low  standard deviation:', np.std(df['low']))\n",
    "print('rain standard deviation:', np.std(df['rain']))"
   ]
  },
  {
   "cell_type": "markdown",
   "metadata": {
    "slideshow": {
     "slide_type": "slide"
    }
   },
   "source": [
    "## Some examples\n",
    "Let's try to parse some online website"
   ]
  },
  {
   "cell_type": "markdown",
   "metadata": {},
   "source": [
    "### Alice's Adventures in Wonderland"
   ]
  },
  {
   "cell_type": "code",
   "execution_count": 8,
   "metadata": {
    "ExecuteTime": {
     "end_time": "2021-12-21T07:34:00.694341Z",
     "start_time": "2021-12-21T07:33:59.375063Z"
    }
   },
   "outputs": [],
   "source": [
    "# url = 'https://nol.ntu.edu.tw/nol/guest/index.php' # 課程內容\n",
    "# url = 'http://140.112.161.154/regquery/Chinese.aspx' # 選課人數\n",
    "# Alice's Adventures in Wonderland\n",
    "url = 'https://www.gutenberg.org/files/11/11-h/11-h.htm'\n",
    "resp = requests.get(url)\n",
    "# TODO, finish exercise 4, 5"
   ]
  },
  {
   "cell_type": "markdown",
   "metadata": {
    "slideshow": {
     "slide_type": "subslide"
    }
   },
   "source": [
    "### <span style=\"color:red\">Exercise4:</span> how many unique words are there?\n",
    "### <span style=\"color:red\">Exercise5:</span> what's the top 5 most common words in the article?"
   ]
  },
  {
   "cell_type": "code",
   "execution_count": 56,
   "metadata": {
    "ExecuteTime": {
     "end_time": "2020-12-20T17:15:37.447561Z",
     "start_time": "2020-12-20T17:15:37.445832Z"
    },
    "solution2": "shown",
    "solution2_first": true
   },
   "outputs": [],
   "source": [
    "from collections import Counter\n",
    "# TODO"
   ]
  },
  {
   "cell_type": "code",
   "execution_count": 32,
   "metadata": {
    "ExecuteTime": {
     "end_time": "2020-12-23T08:55:28.143718Z",
     "start_time": "2020-12-23T08:55:28.097447Z"
    },
    "solution2": "shown"
   },
   "outputs": [
    {
     "name": "stdout",
     "output_type": "stream",
     "text": [
      "number of unique words: 2382\n",
      "[('the', 1792), ('and', 839), ('to', 784), ('a', 673), ('of', 617)]\n"
     ]
    }
   ],
   "source": [
    "# exercise 4\n",
    "from collections import Counter\n",
    "soup = BS(resp.text)\n",
    "word_list = soup.text.lower().split()\n",
    "word_list = filter(lambda s: s.isalpha(), word_list)\n",
    "counter = Counter(word_list)\n",
    "print('number of unique words:', len(counter))\n",
    "\n",
    "# exercise 5\n",
    "print(counter.most_common(5))"
   ]
  },
  {
   "cell_type": "markdown",
   "metadata": {
    "slideshow": {
     "slide_type": "subslide"
    }
   },
   "source": [
    "### Number of Jobs"
   ]
  },
  {
   "cell_type": "markdown",
   "metadata": {},
   "source": [
    "### <span style=\"color:red\">Exercise6:</span> 104, number of jobs\n",
    "\n",
    "find jobs from [104 website](https://www.104.com.tw/jobs/main/student), download the data with requests package and count how many jobs are there."
   ]
  },
  {
   "cell_type": "code",
   "execution_count": 58,
   "metadata": {
    "ExecuteTime": {
     "end_time": "2020-12-20T17:15:37.635946Z",
     "start_time": "2020-12-20T17:15:37.601389Z"
    },
    "scrolled": true
   },
   "outputs": [],
   "source": [
    "# TODO\n",
    "# resp = requests.get('', headers={'': ''})"
   ]
  },
  {
   "cell_type": "code",
   "execution_count": 30,
   "metadata": {
    "ExecuteTime": {
     "end_time": "2021-12-21T08:22:44.115840Z",
     "start_time": "2021-12-21T08:22:42.444930Z"
    }
   },
   "outputs": [],
   "source": [
    "resp = requests.get('https://www.104.com.tw/jobs/search/ajax/list/pool?lat=25.0173405&lon=121.5397518&ro=2&order=12&asc=0&jobsource=parttimesector&dist=3.6275&showLatLon=1',\n",
    "                   headers={'Referer': 'https://time4jobs.104.com.tw/'})"
   ]
  },
  {
   "cell_type": "code",
   "execution_count": 31,
   "metadata": {
    "ExecuteTime": {
     "end_time": "2021-12-21T08:22:44.137946Z",
     "start_time": "2021-12-21T08:22:44.120587Z"
    }
   },
   "outputs": [
    {
     "data": {
      "text/plain": [
       "'{\"status\":200,\"action\":[],\"data\":{\"cacheId\":1926451136,\"list\":[{\"jobNo\":\"10944858\",\"jobName\":\"\\\\u2605\\\\u7d71\\\\u4e00\\\\u6642\\\\u4ee3\\\\u767e\\\\u8ca8\\\\u3010\\\\u65e9\\\\u73ed\\\\uff0f\\\\u665a\\\\u73ed\\\\u3011\\\\u5167\\\\u5834\\\\uff0f\\\\u5916\\\\u5834\\\\uff0f\\\\u517c\\\\u8077\\\\u4eba\\\\u54e1\",\"description\":\"\\\\u2605\\\\u6b61\\\\u8fce\\\\u7121\\\\u7d93\\\\u9a57\\\\u6216\\\\u4e8c\\\\u5ea6\\\\u5c31\\\\u696d\\\\u8005\\\\uff01\\\\u5b78\\\\u7fd2\\\\u7b2c\\\\u4e8c\\\\u5c08\\\\u9577\\\\uff01\\\\u4e00\\\\u540c\\\\u6210\\\\u9577\\\\u2605  \\\\u2605\\\\u5f48\\\\u6027\\\\u5de5\\\\u6642\\\\uff0c\\\\u65e9\\\\u665a\\\\u5169\\\\u6bb5\\\\u6392\\\\u73ed...\",\"optionEdu\":\"\\\\u9ad8\\\\u4e2d\",\"periodDesc\":\"\\\\u7d93\\\\u6b77\\\\u4e0d\\\\u62d8\",\"custNo\":\"130000000091431\",\"custName\":\"\\\\u65e5\\\\u5546\\\\u4eac\\\\u90fd\\\\u9903\\\\u5b50\\\\u7684\\\\u738b\\\\u5c07_\\\\u738b\\\\u5c07\\\\u9910\\\\u98f2\\\\u670d\\\\u52d9\\\\u80a1\\\\u4efd\\\\u6709\\\\u9650\\\\u516c\\\\u53f8\",\"salaryDesc\":\"\\\\u6642\\\\u85aa170~200\\\\u5143\",\"appearDateDesc\":\"12\\\\/14\",\"isSave\":\"0\",\"link\":{\"job\":\"\\\\/\\\\/www.104.com.tw\\\\/job\\\\/6il3u?jobsource=parttimesector\",\"cust\":\"\\\\/\\\\/www.104.com.tw\\\\/company\\\\/1a2x6bjxuv?jobsource=parttimesector\"},\"jobNameRaw\":\"\\\\u2605\\\\u7d71\\\\u4e00\\\\u6642\\\\u4ee3\\\\u767e\\\\u8ca8\\\\u3010\\\\u65e9\\\\u73ed\\\\uff0f\\\\u665a\\\\u73ed\\\\u3011\\\\u5167\\\\u5834\\\\uff0f\\\\u5916\\\\u5834\\\\uff0f\\\\u517c\\\\u8077\\\\u4eba\\\\u54e1\",\"custNameRaw\":\"\\\\u65e5\\\\u5546\\\\u4eac\\\\u90fd\\\\u9903\\\\u5b50\\\\u7684\\\\u738b\\\\u5c07_\\\\u738b\\\\u5c07\\\\u9910\\\\u98f2\\\\u670d\\\\u52d9\\\\u80a1\\\\u4efd\\\\u6709\\\\u9650\\\\u516c\\\\u53f8\",\"lon\":\"121.5663248\",\"lat\":\"25.0411163\"},{\"jobNo\":\"12557584\",\"jobName\":\"\\\\u9ad8\\\\u6bb5\\\\u4f4d\\\\u6d77\\\\u540e\\\\u3001\\\\u6d77\\\\u738b\\\\u57f9\\\\u8a13\",\"description\":\"\\\\uff11\\\\uff0e\\\\u9ad8\\\\u6bb5\\\\u4f4d\\\\u6d77\\\\u540e\\\\u3001\\\\u6d77\\\\u738b\\\\u57f9\\\\u8a13\\\\u8b93\\\\u4f60\\\\u7121\\\\u8ad6\\\\u793e\\\\u4ea4\\\\u3001\\\\u8077\\\\u5834\\\\u3001\\\\u53cb\\\\u60c5\\\\u3001\\\\u611b\\\\u60c5\\\\u90fd\\\\u80fd\\\\u5920\\\\u9ad8\\\\u60c5\\\\u5546\\\\u61c9\\\\u5c0d\\\\uff01 \\\\uff12\\\\uff0e...\",\"optionEdu\":\"\\\\u5b78\\\\u6b77\\\\u4e0d\\\\u62d8\",\"periodDesc\":\"\\\\u7d93\\\\u6b77\\\\u4e0d\\\\u62d8\",\"custNo\":\"130000000018389\",\"custName\":\"\\\\u81e3\\\\u946b\\\\u5be6\\\\u696d\\\\u793e\",\"salaryDesc\":\"\\\\u6642\\\\u85aa500~1,200\\\\u5143\",\"appearDateDesc\":\"12\\\\/16\",\"isSave\":\"0\",\"link\":{\"job\":\"\\\\/\\\\/www.104.com.tw\\\\/job\\\\/7h5hs?jobsource=parttimesector\",\"cust\":\"\\\\/\\\\/www.104.com.tw\\\\/company\\\\/1a2x6bidhx?jobsource=parttimesector\"},\"jobNameRaw\":\"\\\\u9ad8\\\\u6bb5\\\\u4f4d\\\\u6d77\\\\u540e\\\\u3001\\\\u6d77\\\\u738b\\\\u57f9\\\\u8a13\",\"custNameRaw\":\"\\\\u81e3\\\\u946b\\\\u5be6\\\\u696d\\\\u793e\",\"lon\":\"121.5500353\",\"lat\":\"25.0413298\"},{\"jobNo\":\"12490528\",\"jobName\":\"\\\\u2605\\\\u7d71\\\\u4e00\\\\u6642\\\\u4ee3\\\\u767e\\\\u8ca8\\\\u3010\\\\u5167\\\\u5834\\\\u3011\\\\u6d17\\\\u6ecc\\\\uff0f\\\\u6d17\\\\u7897 \\\\/\\\\u517c\\\\u8077\\\\u4eba\\\\u54e1\",\"description\":\"\\\\u2605\\\\u6b61\\\\u8fce\\\\u7121\\\\u7d93\\\\u9a57\\\\u6216\\\\u4e8c\\\\u5ea6\\\\u5c31\\\\u696d\\\\u8005\\\\uff01\\\\u5b78\\\\u7fd2\\\\u7b2c\\\\u4e8c\\\\u5c08\\\\u9577\\\\uff01\\\\u4e00\\\\u540c\\\\u6210\\\\u9577\\\\u2605  \\\\u2605\\\\u5f48\\\\u6027\\\\u5de5\\\\u6642\\\\uff0c\\\\u65e9\\\\u665a\\\\u5169\\\\u6bb5\\\\u6392\\\\u73ed...\",\"optionEdu\":\"\\\\u9ad8\\\\u4e2d\",\"periodDesc\":\"\\\\u7d93\\\\u6b77\\\\u4e0d\\\\u62d8\",\"custNo\":\"130000000091431\",\"custName\":\"\\\\u65e5\\\\u5546\\\\u4eac\\\\u90fd\\\\u9903\\\\u5b50\\\\u7684\\\\u738b\\\\u5c07_\\\\u738b\\\\u5c07\\\\u9910\\\\u98f2\\\\u670d\\\\u52d9\\\\u80a1\\\\u4efd\\\\u6709\\\\u9650\\\\u516c\\\\u53f8\",\"salaryDesc\":\"\\\\u6642\\\\u85aa170~200\\\\u5143\",\"appearDateDesc\":\"12\\\\/14\",\"isSave\":\"0\",\"link\":{\"job\":\"\\\\/\\\\/www.104.com.tw\\\\/job\\\\/7fpr4?jobsource=parttimesector\",\"cust\":\"\\\\/\\\\/www.104.com.tw\\\\/company\\\\/1a2x6bjxuv?jobsource=parttimesector\"},\"jobNameRaw\":\"\\\\u2605\\\\u7d71\\\\u4e00\\\\u6642\\\\u4ee3\\\\u767e\\\\u8ca8\\\\u3010\\\\u5167\\\\u5834\\\\u3011\\\\u6d17\\\\u6ecc\\\\uff0f\\\\u6d17\\\\u7897 \\\\/\\\\u517c\\\\u8077\\\\u4eba\\\\u54e1\",\"custNameRaw\":\"\\\\u65e5\\\\u5546\\\\u4eac\\\\u90fd\\\\u9903\\\\u5b50\\\\u7684\\\\u738b\\\\u5c07_\\\\u738b\\\\u5c07\\\\u9910\\\\u98f2\\\\u670d\\\\u52d9\\\\u80a1\\\\u4efd\\\\u6709\\\\u9650\\\\u516c\\\\u53f8\",\"lon\":\"121.5663284\",\"lat\":\"25.0411442\"},{\"jobNo\":\"12516391\",\"jobName\":\"\\\\u5916\\\\u5546 - SAT\\\\/ACT\\\\/CBSE \\\\u82f1\\\\u6587\\\\u51fa\\\\u984c\\\\u8001\\\\u5e2b\\\\uff08\\\\u5168\\\\u9060\\\\u7aef\\\\uff09\",\"description\":\"\\\\u662f\\\\u5426\\\\u975e\\\\u5e38\\\\u56ae\\\\u5f80\\\\u4e0d\\\\u53d7\\\\u6642\\\\u9593\\\\u8207\\\\u7a7a\\\\u9593\\\\u62d8\\\\u675f\\\\u7684\\\\u4f01\\\\u696d\\\\u5236\\\\u5ea6\\\\uff1f\\\\u6c92\\\\u932f\\\\uff01 \\\\u4f86\\\\u81ea\\\\u77fd\\\\u8c37\\\\u8207\\\\u7d10\\\\u7d04\\\\u7684\\\\u65b0\\\\u5275\\\\u516c\\\\u53f8\\\\uff0c\\\\u8df3...\",\"optionEdu\":\"\\\\u5c08\\\\u79d1\",\"periodDesc\":\"1\\\\u5e74\\\\u4ee5\\\\u4e0a\",\"custNo\":\"130000000102404\",\"custName\":\"\\\\u5403\\\\u9999\\\\u559d\\\\u8fa3\\\\u79d1\\\\u6280\\\\u80a1\\\\u4efd\\\\u6709\\\\u9650\\\\u516c\\\\u53f8\",\"salaryDesc\":\"\\\\u6642\\\\u85aa160~500\\\\u5143\",\"appearDateDesc\":\"12\\\\/15\",\"isSave\":\"0\",\"link\":{\"job\":\"\\\\/\\\\/www.104.com.tw\\\\/job\\\\/7g9pj?jobsource=parttimesector\",\"cust\":\"\\\\/\\\\/www.104.com.tw\\\\/company\\\\/1a2x6bk6bo?jobsource=parttimesector\"},\"jobNameRaw\":\"\\\\u5916\\\\u5546 - SAT\\\\/ACT\\\\/CBSE \\\\u82f1\\\\u6587\\\\u51fa\\\\u984c\\\\u8001\\\\u5e2b\\\\uff08\\\\u5168\\\\u9060\\\\u7aef\\\\uff09\",\"custNameRaw\":\"\\\\u5403\\\\u9999\\\\u559d\\\\u8fa3\\\\u79d1\\\\u6280\\\\u80a1\\\\u4efd\\\\u6709\\\\u9650\\\\u516c\\\\u53f8\",\"lon\":\"121.5433783\",\"lat\":\"25.0249441\"},{\"jobNo\":\"12521053\",\"jobName\":\"\\\\u884c\\\\u653f\\\\u6ac3\\\\u53f0\",\"description\":\"\",\"optionEdu\":\"\\\\u5c08\\\\u79d1\",\"periodDesc\":\"\\\\u7d93\\\\u6b77\\\\u4e0d\\\\u62d8\",\"custNo\":\"130000000177979\",\"custName\":\"\\\\u529b\\\\u884c\\\\u570b\\\\u969b\\\\u7269\\\\u6d41\\\\u6709\\\\u9650\\\\u516c\\\\u53f8\",\"salaryDesc\":\"\\\\u6642\\\\u85aa160\\\\u5143\",\"appearDateDesc\":\"12\\\\/15\",\"isSave\":\"0\",\"link\":{\"job\":\"\\\\/\\\\/www.104.com.tw\\\\/job\\\\/7gdb1?jobsource=parttimesector\",\"cust\":\"\\\\/\\\\/www.104.com.tw\\\\/company\\\\/1a2x6blsmz?jobsource=parttimesector\"},\"jobNameRaw\":\"\\\\u884c\\\\u653f\\\\u6ac3\\\\u53f0\",\"custNameRaw\":\"\\\\u529b\\\\u884c\\\\u570b\\\\u969b\\\\u7269\\\\u6d41\\\\u6709\\\\u9650\\\\u516c\\\\u53f8\",\"lon\":\"121.5345872\",\"lat\":\"25.0386625\"},{\"jobNo\":\"12552255\",\"jobName\":\"\\\\u5927\\\\u5b89\\\\u5340\\\\u5ef6\\\\u5409\\\\u8857\\\\/\\\\u904e\\\\u5e74\\\\u5de5\\\\u8b80\\\\/\\\\u6642\\\\u85aa190\\\\/\\\\u8fd1\\\\u6377\\\\u904b\\\\u6566\\\\u5316\\\\u7ad9\",\"description\":\"\\\\u3010\\\\u5de5\\\\u4f5c\\\\u5167\\\\u5bb9\\\\u3011 \\\\u25cf\\\\u89aa\\\\u5207\\\\u670d\\\\u52d9\\\\u92b7\\\\uff0c\\\\u522e\\\\u522e\\\\u6a02\\\\u5546\\\\u54c1\\\\u3002 \\\\u25cf\\\\u8ca0\\\\u8cac\\\\u5546\\\\u54c1\\\\u9673\\\\u5217\\\\u3001\\\\u74b0\\\\u5883\\\\u7dad\\\\u8b77\\\\u3002 \\\\u2501\\\\u2501\\\\u2501\\\\u2501...\",\"optionEdu\":\"\\\\u5b78\\\\u6b77\\\\u4e0d\\\\u62d8\",\"periodDesc\":\"\\\\u7d93\\\\u6b77\\\\u4e0d\\\\u62d8\",\"custNo\":\"130000000176225\",\"custName\":\"\\\\u7fd4\\\\u535a\\\\u98df\\\\u54c1\\\\u884c\",\"salaryDesc\":\"\\\\u6642\\\\u85aa170~190\\\\u5143\",\"appearDateDesc\":\"12\\\\/20\",\"isSave\":\"0\",\"link\":{\"job\":\"\\\\/\\\\/www.104.com.tw\\\\/job\\\\/7h1dr?jobsource=parttimesector\",\"cust\":\"\\\\/\\\\/www.104.com.tw\\\\/company\\\\/1a2x6blra9?jobsource=parttimesector\"},\"jobNameRaw\":\"\\\\u5927\\\\u5b89\\\\u5340\\\\u5ef6\\\\u5409\\\\u8857\\\\/\\\\u904e\\\\u5e74\\\\u5de5\\\\u8b80\\\\/\\\\u6642\\\\u85aa190\\\\/\\\\u8fd1\\\\u6377\\\\u904b\\\\u6566\\\\u5316\\\\u7ad9\",\"custNameRaw\":\"\\\\u7fd4\\\\u535a\\\\u98df\\\\u54c1\\\\u884c\",\"lon\":\"121.5538016\",\"lat\":\"25.0425485\"},{\"jobNo\":\"9041452\",\"jobName\":\"\\\\u793e\\\\u7fa4\\\\u5c0f\\\\u7de8\\\\/\\\\u5beb\\\\u4f5c\\\\/\\\\u7f8e\\\\u7de8\\\\/\\\\u5f71\\\\u97f3\\\\u5275\\\\u4f5c\\\\u8005(\\\\u517c\\\\u8077&amp;\\\\u6309\\\\u4ef6\\\\u8a08\\\\u916c)\",\"description\":\"\\\\u7db2\\\\u8def\\\\u4f5c\\\\u696d\\\\u8d85\\\\u65b9\\\\u4fbf\\\\uff0c\\\\u96a8\\\\u6642\\\\u96a8\\\\u5730\\\\u90fd\\\\u53ef\\\\u4ee5\\\\u5b89\\\\u6392\\\\u6642\\\\u9593\\\\u63a5\\\\u5de5\\\\u4f5c\\\\uff01 \\\\u53ea\\\\u8981\\\\u4f60\\\\u6703\\\\u4e0b\\\\u65b9\\\\u4efb\\\\u4f55\\\\u4e00\\\\u7a2e\\\\uff0c\\\\u6b61\\\\u8fce\\\\u52a0\\\\u5165...\",\"optionEdu\":\"\\\\u5b78\\\\u6b77\\\\u4e0d\\\\u62d8\",\"periodDesc\":\"\\\\u7d93\\\\u6b77\\\\u4e0d\\\\u62d8\",\"custNo\":\"130000000093529\",\"custName\":\"\\\\u5929\\\\u9078\\\\u5275\\\\u610f\\\\u884c\\\\u92b7\\\\u96c6\\\\u5718_\\\\u611b\\\\u7d61\\\\u601d\\\\u6709\\\\u9650\\\\u516c\\\\u53f8\",\"salaryDesc\":\"\\\\u5f85\\\\u9047\\\\u9762\\\\u8b70\",\"appearDateDesc\":\"12\\\\/21\",\"isSave\":\"0\",\"link\":{\"job\":\"\\\\/\\\\/www.104.com.tw\\\\/job\\\\/5dsfg?jobsource=parttimesector\",\"cust\":\"\\\\/\\\\/www.104.com.tw\\\\/company\\\\/1a2x6bjzh5?jobsource=parttimesector\"},\"jobNameRaw\":\"\\\\u793e\\\\u7fa4\\\\u5c0f\\\\u7de8\\\\/\\\\u5beb\\\\u4f5c\\\\/\\\\u7f8e\\\\u7de8\\\\/\\\\u5f71\\\\u97f3\\\\u5275\\\\u4f5c\\\\u8005(\\\\u517c\\\\u8077&\\\\u6309\\\\u4ef6\\\\u8a08\\\\u916c)\",\"custNameRaw\":\"\\\\u5929\\\\u9078\\\\u5275\\\\u610f\\\\u884c\\\\u92b7\\\\u96c6\\\\u5718_\\\\u611b\\\\u7d61\\\\u601d\\\\u6709\\\\u9650\\\\u516c\\\\u53f8\",\"lon\":\"121.5145353\",\"lat\":\"25.0103251\"},{\"jobNo\":\"12547361\",\"jobName\":\"\\\\u7121\\\\u7d93\\\\u9a57\\\\u53ef-\\\\u8fd1\\\\u5fe0\\\\u5b5d\\\\u6566\\\\u5316\\\\u7ad9-\\\\u77ed\\\\u671f\\\\u5de5\\\\u8b80-\\\\u6642\\\\u85aa170~190\",\"description\":\"\\\\u3010\\\\u5de5\\\\u4f5c\\\\u5167\\\\u5bb9\\\\u3011 \\\\u25cf\\\\u89aa\\\\u5207\\\\u670d\\\\u52d9\\\\u92b7\\\\uff0c\\\\u522e\\\\u522e\\\\u6a02\\\\u5546\\\\u54c1\\\\u3002 \\\\u25cf\\\\u8ca0\\\\u8cac\\\\u5546\\\\u54c1\\\\u9673\\\\u5217\\\\u3001\\\\u74b0\\\\u5883\\\\u7dad\\\\u8b77\\\\u3002 \\\\u2501\\\\u2501\\\\u2501\\\\u2501...\",\"optionEdu\":\"\\\\u5b78\\\\u6b77\\\\u4e0d\\\\u62d8\",\"periodDesc\":\"\\\\u7d93\\\\u6b77\\\\u4e0d\\\\u62d8\",\"custNo\":\"130000000176225\",\"custName\":\"\\\\u7fd4\\\\u535a\\\\u98df\\\\u54c1\\\\u884c\",\"salaryDesc\":\"\\\\u6642\\\\u85aa170~190\\\\u5143\",\"appearDateDesc\":\"12\\\\/16\",\"isSave\":\"0\",\"link\":{\"job\":\"\\\\/\\\\/www.104.com.tw\\\\/job\\\\/7gxlt?jobsource=parttimesector\",\"cust\":\"\\\\/\\\\/www.104.com.tw\\\\/company\\\\/1a2x6blra9?jobsource=parttimesector\"},\"jobNameRaw\":\"\\\\u7121\\\\u7d93\\\\u9a57\\\\u53ef-\\\\u8fd1\\\\u5fe0\\\\u5b5d\\\\u6566\\\\u5316\\\\u7ad9-\\\\u77ed\\\\u671f\\\\u5de5\\\\u8b80-\\\\u6642\\\\u85aa170~190\",\"custNameRaw\":\"\\\\u7fd4\\\\u535a\\\\u98df\\\\u54c1\\\\u884c\",\"lon\":\"121.5538016\",\"lat\":\"25.0425485\"},{\"jobNo\":\"12505749\",\"jobName\":\"\\\\u5c55\\\\u89bd\\\\u5de5\\\\u8b80\\\\u751f(\\\\u77ed\\\\u671f\\\\u7d04\\\\u8058)\",\"description\":\"\\\\u4f60\\\\u8a18\\\\u5f97\\\\u300a\\\\u5c0f\\\\u738b\\\\u5b50\\\\u300b\\\\u7684\\\\u6545\\\\u4e8b\\\\u55ce\\\\uff1f \\\\u9019\\\\u500b\\\\u5de5\\\\u4f5c\\\\u9700\\\\u8981\\\\u559c\\\\u6b61\\\\u8fa6\\\\u6d3b\\\\u52d5\\\\u3001\\\\u4e5f\\\\u559c\\\\u6b61\\\\u53c3\\\\u52a0\\\\u6d3b\\\\u52d5\\\\u7684\\\\u4f60\\\\uff08\\\\u59b3\\\\uff09\\\\uff01...\",\"optionEdu\":\"\\\\u5c08\\\\u79d1\",\"periodDesc\":\"\\\\u7d93\\\\u6b77\\\\u4e0d\\\\u62d8\",\"custNo\":\"130000000179222\",\"custName\":\"\\\\u70ba\\\\u7f8e\\\\u5b78\\\\u6709\\\\u9650\\\\u516c\\\\u53f8\",\"salaryDesc\":\"\\\\u6642\\\\u85aa168\\\\u5143\",\"appearDateDesc\":\"11\\\\/28\",\"isSave\":\"0\",\"link\":{\"job\":\"\\\\/\\\\/www.104.com.tw\\\\/job\\\\/7g1hx?jobsource=parttimesector\",\"cust\":\"\\\\/\\\\/www.104.com.tw\\\\/company\\\\/1a2x6bltli?jobsource=parttimesector\"},\"jobNameRaw\":\"\\\\u5c55\\\\u89bd\\\\u5de5\\\\u8b80\\\\u751f(\\\\u77ed\\\\u671f\\\\u7d04\\\\u8058)\",\"custNameRaw\":\"\\\\u70ba\\\\u7f8e\\\\u5b78\\\\u6709\\\\u9650\\\\u516c\\\\u53f8\",\"lon\":\"121.512207\",\"lat\":\"25.04508\"},{\"jobNo\":\"7994662\",\"jobName\":\"\\\\u517c\\\\u8077\\\\u7f8e\\\\u9ad4\\\\u7f8e\\\\u7642\\\\u5e2b(\\\\u7121\\\\u7d93\\\\u9a57\\\\u53ef)\",\"description\":\"1.\\\\u63d0\\\\u4f9b\\\\u5ba2\\\\u6236\\\\u7f8e\\\\u5bb9\\\\u4fdd\\\\u990a\\\\u3001\\\\u7cbe\\\\u6cb9\\\\u82b3\\\\u7642\\\\u3001\\\\u58d3\\\\u529b\\\\u6292\\\\u89e3\\\\u53ca\\\\u990a\\\\u751f\\\\u4fdd\\\\u5065\\\\u7b49\\\\u77e5\\\\u8b58\\\\u50b3\\\\u9054\\\\u3002 2.\\\\u6709\\\\u7121\\\\u7d93\\\\u9a57\\\\u7686...\",\"optionEdu\":\"\\\\u5b78\\\\u6b77\\\\u4e0d\\\\u62d8\",\"periodDesc\":\"\\\\u7d93\\\\u6b77\\\\u4e0d\\\\u62d8\",\"custNo\":\"130000000071124\",\"custName\":\"\\\\u6676\\\\u83ef\\\\u9996\\\\u5e2d\\\\u4e0a\\\\u4e58\\\\u7d13\\\\u58d3\\\\u7d93\\\\u5178_\\\\u6676\\\\u83ef\\\\u9996\\\\u5e2d\\\\u7f8e\\\\u5bb9\\\\u540d\\\\u5e97\",\"salaryDesc\":\"\\\\u6708\\\\u85aa30,000~70,000\\\\u5143\",\"appearDateDesc\":\"12\\\\/21\",\"isSave\":\"0\",\"link\":{\"job\":\"\\\\/\\\\/www.104.com.tw\\\\/job\\\\/4rcpy?jobsource=parttimesector\",\"cust\":\"\\\\/\\\\/www.104.com.tw\\\\/company\\\\/1a2x6bji6s?jobsource=parttimesector\"},\"jobNameRaw\":\"\\\\u517c\\\\u8077\\\\u7f8e\\\\u9ad4\\\\u7f8e\\\\u7642\\\\u5e2b(\\\\u7121\\\\u7d93\\\\u9a57\\\\u53ef)\",\"custNameRaw\":\"\\\\u6676\\\\u83ef\\\\u9996\\\\u5e2d\\\\u4e0a\\\\u4e58\\\\u7d13\\\\u58d3\\\\u7d93\\\\u5178_\\\\u6676\\\\u83ef\\\\u9996\\\\u5e2d\\\\u7f8e\\\\u5bb9\\\\u540d\\\\u5e97\",\"lon\":\"121.5233162\",\"lat\":\"25.0497068\"},{\"jobNo\":\"11994299\",\"jobName\":\"\\\\u3010VV Double\\\\u53f0\\\\u5317\\\\u9580\\\\u5e02\\\\u92b7\\\\u552e\\\\u4eba\\\\u54e1\\\\u3011\\\\u8a08\\\\u6642\\\\u4e2d\\\\u5927\\\\u5c3a\\\\u78bc\\\\u92b7\\\\u552e\\\\u4eba\\\\u54e1\",\"description\":\"\\\\u27a4 \\\\u6295\\\\u905e\\\\u5c65\\\\u6b77\\\\u6642\\\\u8acb\\\\u63d0\\\\u4f9b\\\\u500b\\\\u4ebaIG\\\\u5e33\\\\u865f \\\\u27a4 \\\\u5c0d\\\\u65bc\\\\u7a7f\\\\u642d\\\\u53ca\\\\u5927\\\\u5c3a\\\\u78bc\\\\u6642\\\\u5c1a\\\\u6709\\\\u7368\\\\u5230\\\\u7684\\\\u898b\\\\u89e3 \\\\u27a4 \\\\u71b1...\",\"optionEdu\":\"\\\\u9ad8\\\\u4e2d\",\"periodDesc\":\"1\\\\u5e74\\\\u4ee5\\\\u4e0a\",\"custNo\":\"130000000146331\",\"custName\":\"\\\\u661f\\\\u9023\\\\u6709\\\\u9650\\\\u516c\\\\u53f8\",\"salaryDesc\":\"\\\\u6642\\\\u85aa160~170\\\\u5143\",\"appearDateDesc\":\"12\\\\/21\",\"isSave\":\"0\",\"link\":{\"job\":\"\\\\/\\\\/www.104.com.tw\\\\/job\\\\/752uz?jobsource=parttimesector\",\"cust\":\"\\\\/\\\\/www.104.com.tw\\\\/company\\\\/1a2x6bl47v?jobsource=parttimesector\"},\"jobNameRaw\":\"\\\\u3010VV Double\\\\u53f0\\\\u5317\\\\u9580\\\\u5e02\\\\u92b7\\\\u552e\\\\u4eba\\\\u54e1\\\\u3011\\\\u8a08\\\\u6642\\\\u4e2d\\\\u5927\\\\u5c3a\\\\u78bc\\\\u92b7\\\\u552e\\\\u4eba\\\\u54e1\",\"custNameRaw\":\"\\\\u661f\\\\u9023\\\\u6709\\\\u9650\\\\u516c\\\\u53f8\",\"lon\":\"121.5540687\",\"lat\":\"25.0413538\"},{\"jobNo\":\"12519807\",\"jobName\":\"FinTech \\\\u8cc7\\\\u6599\\\\u5de5\\\\u7a0b\\\\u5be6\\\\u7fd2\\\\u751f Data Engineer Intern\",\"description\":\"\\\\u258e\\\\u516c\\\\u53f8\\\\u7c21\\\\u4ecb \\\\u25c6 \\\\u8cc7\\\\u8a0a\\\\u79d1\\\\u6280 \\\\u00d7 \\\\u91d1\\\\u878d\\\\u4ea4\\\\u6613 \\\\u61c9\\\\u7528\\\\u8cc7\\\\u7522\\\\u5b9a\\\\u50f9\\\\u7406\\\\u8ad6 (Asset Pri...\",\"optionEdu\":\"\\\\u5927\\\\u5b78\",\"periodDesc\":\"\\\\u7d93\\\\u6b77\\\\u4e0d\\\\u62d8\",\"custNo\":\"130000000163061\",\"custName\":\"\\\\u6a4b\\\\u65b0\\\\u79d1\\\\u6280\\\\u80a1\\\\u4efd\\\\u6709\\\\u9650\\\\u516c\\\\u53f8\",\"salaryDesc\":\"\\\\u6642\\\\u85aa180~200\\\\u5143\",\"appearDateDesc\":\"12\\\\/21\",\"isSave\":\"0\",\"link\":{\"job\":\"\\\\/\\\\/www.104.com.tw\\\\/job\\\\/7gccf?jobsource=parttimesector\",\"cust\":\"\\\\/\\\\/www.104.com.tw\\\\/company\\\\/1a2x6blh4l?jobsource=parttimesector\"},\"jobNameRaw\":\"FinTech \\\\u8cc7\\\\u6599\\\\u5de5\\\\u7a0b\\\\u5be6\\\\u7fd2\\\\u751f Data Engineer Intern\",\"custNameRaw\":\"\\\\u6a4b\\\\u65b0\\\\u79d1\\\\u6280\\\\u80a1\\\\u4efd\\\\u6709\\\\u9650\\\\u516c\\\\u53f8\",\"lon\":\"121.5671656\",\"lat\":\"25.0344055\"},{\"jobNo\":\"12514911\",\"jobName\":\"\\\\u6eff\\\\u98df\\\\u8336\\\\u9593-\\\\u65e9\\\\u73ed\\\\u9577\\\\u671f\\\\u517c\\\\u8077\\\\u4eba\\\\u54e1(\\\\u5168\\\\u52e4170\\\\u8d77)(\\\\u9644\\\\u4e2d\\\\u5e97)\",\"description\":\"1.\\\\u8ca0\\\\u8cac\\\\u4ecb\\\\u7d39\\\\u53ca\\\\u92b7\\\\u552e\\\\u9580\\\\u5e02\\\\u5546\\\\u54c1 2.\\\\u63d0\\\\u4f9b\\\\u9867\\\\u5ba2\\\\u4e4b\\\\u63a5\\\\u5f85\\\\u8207\\\\u9700\\\\u6c42\\\\u670d\\\\u52d9 3.\\\\u8abf\\\\u88fd\\\\u98f2\\\\u54c1\\\\u53ca\\\\u7c21\\\\u6613\\\\u751c...\",\"optionEdu\":\"\\\\u5b78\\\\u6b77\\\\u4e0d\\\\u62d8\",\"periodDesc\":\"\\\\u7d93\\\\u6b77\\\\u4e0d\\\\u62d8\",\"custNo\":\"130000000179547\",\"custName\":\"\\\\u6eff\\\\u98df\\\\u8336\\\\u9593_\\\\u6eff\\\\u597d\\\\u751f\\\\u6d3b\\\\u6709\\\\u9650\\\\u516c\\\\u53f8\",\"salaryDesc\":\"\\\\u6642\\\\u85aa160~170\\\\u5143\",\"appearDateDesc\":\"12\\\\/17\",\"isSave\":\"0\",\"link\":{\"job\":\"\\\\/\\\\/www.104.com.tw\\\\/job\\\\/7g8kf?jobsource=parttimesector\",\"cust\":\"\\\\/\\\\/www.104.com.tw\\\\/company\\\\/1a2x6bltuj?jobsource=parttimesector\"},\"jobNameRaw\":\"\\\\u6eff\\\\u98df\\\\u8336\\\\u9593-\\\\u65e9\\\\u73ed\\\\u9577\\\\u671f\\\\u517c\\\\u8077\\\\u4eba\\\\u54e1(\\\\u5168\\\\u52e4170\\\\u8d77)(\\\\u9644\\\\u4e2d\\\\u5e97)\",\"custNameRaw\":\"\\\\u6eff\\\\u98df\\\\u8336\\\\u9593_\\\\u6eff\\\\u597d\\\\u751f\\\\u6d3b\\\\u6709\\\\u9650\\\\u516c\\\\u53f8\",\"lon\":\"121.5393174\",\"lat\":\"25.0337472\"},{\"jobNo\":\"12518261\",\"jobName\":\"Junior Business Analyst\\\\/Intern\",\"description\":\"\\\\u662f\\\\u5426\\\\u975e\\\\u5e38\\\\u56ae\\\\u5f80\\\\u4e0d\\\\u53d7\\\\u6642\\\\u9593\\\\u8207\\\\u7a7a\\\\u9593\\\\u62d8\\\\u675f\\\\u7684\\\\u4f01\\\\u696d\\\\u5236\\\\u5ea6\\\\uff1f\\\\u6c92\\\\u932f\\\\uff01 \\\\u4f86\\\\u81ea\\\\u77fd\\\\u8c37\\\\u8207\\\\u7d10\\\\u7d04\\\\u7684\\\\u65b0\\\\u5275\\\\u516c\\\\u53f8\\\\uff0c\\\\u8df3...\",\"optionEdu\":\"\\\\u5c08\\\\u79d1\",\"periodDesc\":\"1\\\\u5e74\\\\u4ee5\\\\u4e0a\",\"custNo\":\"130000000102404\",\"custName\":\"\\\\u5403\\\\u9999\\\\u559d\\\\u8fa3\\\\u79d1\\\\u6280\\\\u80a1\\\\u4efd\\\\u6709\\\\u9650\\\\u516c\\\\u53f8\",\"salaryDesc\":\"\\\\u8ad6\\\\u4ef6\\\\u8a08\\\\u916c9,000~30,000\\\\u5143\",\"appearDateDesc\":\"12\\\\/15\",\"isSave\":\"0\",\"link\":{\"job\":\"\\\\/\\\\/www.104.com.tw\\\\/job\\\\/7gb5h?jobsource=parttimesector\",\"cust\":\"\\\\/\\\\/www.104.com.tw\\\\/company\\\\/1a2x6bk6bo?jobsource=parttimesector\"},\"jobNameRaw\":\"Junior Business Analyst\\\\/Intern\",\"custNameRaw\":\"\\\\u5403\\\\u9999\\\\u559d\\\\u8fa3\\\\u79d1\\\\u6280\\\\u80a1\\\\u4efd\\\\u6709\\\\u9650\\\\u516c\\\\u53f8\",\"lon\":\"121.5433783\",\"lat\":\"25.0249441\"},{\"jobNo\":\"11985215\",\"jobName\":\"2ndSTREET\\\\u5fae\\\\u98a8\\\\u5357\\\\u5c71ATRE-\\\\u9580\\\\u5e02\\\\u92b7\\\\u552e\\\\u4eba\\\\u54e1(\\\\u9577\\\\u671f\\\\u5de5\\\\u8b80\\\\u751f\\\\u6216\\\\u5132\\\\u5099\\\\u6b63\\\\u8077\\\\u5e79\\\\u90e8)\",\"description\":\"\\\\u3010\\\\u61c9\\\\u5fb5\\\\u689d\\\\u4ef6\\\\u3011 \\\\u2605\\\\u6d3b\\\\u6f51\\\\u958b\\\\u6717\\\\u6a02\\\\u89c0\\\\u3001\\\\u5f37\\\\u70c8\\\\u8cac\\\\u4efb\\\\u611f\\\\u3001\\\\u7a4d\\\\u6975\\\\u9032\\\\u53d6\\\\u3002 \\\\u2605\\\\u9762\\\\u5c0d\\\\u5ba2\\\\u4eba\\\\u4e0d\\\\u6613\\\\u7dca\\\\u5f35\\\\u53ca\\\\u602f\\\\u5834...\",\"optionEdu\":\"\\\\u5c08\\\\u79d1\",\"periodDesc\":\"\\\\u7d93\\\\u6b77\\\\u4e0d\\\\u62d8\",\"custNo\":\"130000000146139\",\"custName\":\"2ndSTREET_\\\\u53f0\\\\u7063\\\\u6975\\\\u6c83\\\\u80a1\\\\u4efd\\\\u6709\\\\u9650\\\\u516c\\\\u53f8\",\"salaryDesc\":\"\\\\u6642\\\\u85aa160\\\\u5143\\\\u4ee5\\\\u4e0a\",\"appearDateDesc\":\"12\\\\/21\",\"isSave\":\"0\",\"link\":{\"job\":\"\\\\/\\\\/www.104.com.tw\\\\/job\\\\/74vun?jobsource=parttimesector\",\"cust\":\"\\\\/\\\\/www.104.com.tw\\\\/company\\\\/1a2x6bl42j?jobsource=parttimesector\"},\"jobNameRaw\":\"2ndSTREET\\\\u5fae\\\\u98a8\\\\u5357\\\\u5c71ATRE-\\\\u9580\\\\u5e02\\\\u92b7\\\\u552e\\\\u4eba\\\\u54e1(\\\\u9577\\\\u671f\\\\u5de5\\\\u8b80\\\\u751f\\\\u6216\\\\u5132\\\\u5099\\\\u6b63\\\\u8077\\\\u5e79\\\\u90e8)\",\"custNameRaw\":\"2ndSTREET_\\\\u53f0\\\\u7063\\\\u6975\\\\u6c83\\\\u80a1\\\\u4efd\\\\u6709\\\\u9650\\\\u516c\\\\u53f8\",\"lon\":\"121.5659555\",\"lat\":\"25.0343073\"},{\"jobNo\":\"11672424\",\"jobName\":\"\\\\u6a02\\\\u9ad8\\\\u9580\\\\u5e02\\\\u517c\\\\u8077\\\\u9580\\\\u5e02\\\\u4eba\\\\u54e1(\\\\u6771\\\\u5340\\\\u5e97)\",\"description\":\"1.\\\\u7d50\\\\u5e33\\\\u6536\\\\u9280\\\\u8655\\\\u7406\\\\uff0c\\\\u652f\\\\u63f4\\\\u92b7\\\\u552e\\\\u4eba\\\\u54e1\\\\u92b7\\\\u552e\\\\u3001\\\\u9818\\\\u53d6\\\\u5eab\\\\u5b58\\\\u5546\\\\u54c1\\\\u3002 2.\\\\u5354\\\\u52a9\\\\u5ba2\\\\u4eba\\\\u8655\\\\u7406\\\\u554f\\\\u984c\\\\u3002 3...\",\"optionEdu\":\"\\\\u9ad8\\\\u4e2d\",\"periodDesc\":\"\\\\u7d93\\\\u6b77\\\\u4e0d\\\\u62d8\",\"custNo\":\"130000000098821\",\"custName\":\"\\\\u5fc5\\\\u8cb7\\\\u7ad9\\\\u570b\\\\u969b\\\\u8cbf\\\\u6613\\\\u6709\\\\u9650\\\\u516c\\\\u53f8\",\"salaryDesc\":\"\\\\u6642\\\\u85aa160~168\\\\u5143\",\"appearDateDesc\":\"12\\\\/21\",\"isSave\":\"0\",\"link\":{\"job\":\"\\\\/\\\\/www.104.com.tw\\\\/job\\\\/6y6i0?jobsource=parttimesector\",\"cust\":\"\\\\/\\\\/www.104.com.tw\\\\/company\\\\/1a2x6bk3k5?jobsource=parttimesector\"},\"jobNameRaw\":\"\\\\u6a02\\\\u9ad8\\\\u9580\\\\u5e02\\\\u517c\\\\u8077\\\\u9580\\\\u5e02\\\\u4eba\\\\u54e1(\\\\u6771\\\\u5340\\\\u5e97)\",\"custNameRaw\":\"\\\\u5fc5\\\\u8cb7\\\\u7ad9\\\\u570b\\\\u969b\\\\u8cbf\\\\u6613\\\\u6709\\\\u9650\\\\u516c\\\\u53f8\",\"lon\":\"121.5522609\",\"lat\":\"25.0388044\"},{\"jobNo\":\"12462338\",\"jobName\":\"\\\\u5de5\\\\u8b80\\\\u751f(\\\\u6709\\\\u56fa\\\\u5b9a\\\\u5e95\\\\u85aa\\\\u52a0\\\\u734e\\\\u91d1)\",\"description\":\"1.\\\\u5065\\\\u5eb7\\\\u8f15\\\\u98df,\\\\u98f2\\\\u6599\\\\u8abf\\\\u88fd 2.\\\\u5ba2\\\\u6236\\\\u670d\\\\u52d9\\\\u8207\\\\u7522\\\\u54c1\\\\u8aee\\\\u8a62 3.\\\\u5177\\\\u89aa\\\\u548c\\\\u529b\\\\u53ca\\\\u826f\\\\u597d\\\\u6e9d\\\\u901a\\\\u6280\\\\u5de7 4...\",\"optionEdu\":\"\\\\u5b78\\\\u6b77\\\\u4e0d\\\\u62d8\",\"periodDesc\":\"\\\\u7d93\\\\u6b77\\\\u4e0d\\\\u62d8\",\"custNo\":\"130000000163565\",\"custName\":\"\\\\u5b8c\\\\u7f8e\\\\u7dda\\\\u689d\\\\u5de5\\\\u574a\",\"salaryDesc\":\"\\\\u6642\\\\u85aa180~250\\\\u5143\",\"appearDateDesc\":\"12\\\\/20\",\"isSave\":\"0\",\"link\":{\"job\":\"\\\\/\\\\/www.104.com.tw\\\\/job\\\\/7f402?jobsource=parttimesector\",\"cust\":\"\\\\/\\\\/www.104.com.tw\\\\/company\\\\/1a2x6blhil?jobsource=parttimesector\"},\"jobNameRaw\":\"\\\\u5de5\\\\u8b80\\\\u751f(\\\\u6709\\\\u56fa\\\\u5b9a\\\\u5e95\\\\u85aa\\\\u52a0\\\\u734e\\\\u91d1)\",\"custNameRaw\":\"\\\\u5b8c\\\\u7f8e\\\\u7dda\\\\u689d\\\\u5de5\\\\u574a\",\"lon\":\"121.5445634\",\"lat\":\"25.0493397\"},{\"jobNo\":\"11972873\",\"jobName\":\"\\\\u88fd\\\\u8863\\\\u5de5\\\\u8b80\\\\u751f\",\"description\":\"1.\\\\u5177\\\\u57fa\\\\u790e\\\\u7e2b\\\\u7d09\\\\u3001\\\\u624b\\\\u7e2b\\\\u6280\\\\u5de7\\\\u4f73\\\\u3002 2.\\\\u6587\\\\u4ef6\\\\u5efa\\\\u6a94\\\\u7ba1\\\\u7406\\\\u3002 3.\\\\u5099\\\\u54c1\\\\u5eab\\\\u5b58\\\\u7ba1\\\\u7406\\\\u3001\\\\u88fd\\\\u8868\\\\u3002 4...\",\"optionEdu\":\"\\\\u5b78\\\\u6b77\\\\u4e0d\\\\u62d8\",\"periodDesc\":\"\\\\u7d93\\\\u6b77\\\\u4e0d\\\\u62d8\",\"custNo\":\"130000000143779\",\"custName\":\"\\\\u62c9\\\\u83f2\\\\u723e\\\\u80a1\\\\u4efd\\\\u6709\\\\u9650\\\\u516c\\\\u53f8\",\"salaryDesc\":\"\\\\u6642\\\\u85aa160~170\\\\u5143\",\"appearDateDesc\":\"12\\\\/14\",\"isSave\":\"0\",\"link\":{\"job\":\"\\\\/\\\\/www.104.com.tw\\\\/job\\\\/74mbt?jobsource=parttimesector\",\"cust\":\"\\\\/\\\\/www.104.com.tw\\\\/company\\\\/1a2x6bl28z?jobsource=parttimesector\"},\"jobNameRaw\":\"\\\\u88fd\\\\u8863\\\\u5de5\\\\u8b80\\\\u751f\",\"custNameRaw\":\"\\\\u62c9\\\\u83f2\\\\u723e\\\\u80a1\\\\u4efd\\\\u6709\\\\u9650\\\\u516c\\\\u53f8\",\"lon\":\"121.5151541\",\"lat\":\"25.0448979\"},{\"jobNo\":\"12557174\",\"jobName\":\"\\\\u767e\\\\u8ca8\\\\u9577\\\\u671fPT-\\\\u7ae5\\\\u978b\\\\u5c08\\\\u6ac3\\\\u9580\\\\u5e02\\\\u4eba\\\\u54e1(\\\\u4fe1\\\\u7fa9\\\\u8aa0\\\\u54c1)\",\"description\":\"1.\\\\u8ca0\\\\u8cac\\\\u92b7\\\\u552e\\\\u516c\\\\u53f8\\\\u4ee3\\\\u7406\\\\u4e4b\\\\u570b\\\\u5916\\\\u5b30\\\\u5e7c\\\\u7ae5\\\\u670d\\\\u98fe\\\\u978b\\\\u5b50\\\\u914d\\\\u4ef6 2.\\\\u5305\\\\u88dd\\\\u5546\\\\u54c1\\\\u3001\\\\u6ac3\\\\u53f0\\\\u3001\\\\u5e97\\\\u5167\\\\u7269\\\\u54c1\\\\u9673\\\\u5217...\",\"optionEdu\":\"\\\\u5b78\\\\u6b77\\\\u4e0d\\\\u62d8\",\"periodDesc\":\"1\\\\u5e74\\\\u4ee5\\\\u4e0a\",\"custNo\":\"130000000025951\",\"custName\":\"\\\\u9f0e\\\\u8cbf\\\\u570b\\\\u969b\\\\u4f01\\\\u696d\\\\u6709\\\\u9650\\\\u516c\\\\u53f8\",\"salaryDesc\":\"\\\\u6642\\\\u85aa180\\\\u5143\\\\u4ee5\\\\u4e0a\",\"appearDateDesc\":\"12\\\\/19\",\"isSave\":\"0\",\"link\":{\"job\":\"\\\\/\\\\/www.104.com.tw\\\\/job\\\\/7h56e?jobsource=parttimesector\",\"cust\":\"\\\\/\\\\/www.104.com.tw\\\\/company\\\\/1a2x6bijbz?jobsource=parttimesector\"},\"jobNameRaw\":\"\\\\u767e\\\\u8ca8\\\\u9577\\\\u671fPT-\\\\u7ae5\\\\u978b\\\\u5c08\\\\u6ac3\\\\u9580\\\\u5e02\\\\u4eba\\\\u54e1(\\\\u4fe1\\\\u7fa9\\\\u8aa0\\\\u54c1)\",\"custNameRaw\":\"\\\\u9f0e\\\\u8cbf\\\\u570b\\\\u969b\\\\u4f01\\\\u696d\\\\u6709\\\\u9650\\\\u516c\\\\u53f8\",\"lon\":\"121.5658739\",\"lat\":\"25.0397197\"},{\"jobNo\":\"8203750\",\"jobName\":\"\\\\u5317\\\\u6b50\\\\u5bf5\\\\u7269\\\\u65c5\\\\u9928\\\\u8913\\\\u6bcd (\\\\u591c\\\\u73ed\\\\u517c\\\\u8077)\",\"description\":\"\\\\u25cf \\\\u5317\\\\u6b50\\\\u5bf5\\\\u7269\\\\u65c5\\\\u9928\\\\u8913\\\\u6bcd(\\\\u591c\\\\u73ed\\\\u517c\\\\u8077)\\\\u5de5\\\\u4f5c\\\\u5167\\\\u5bb9\\\\uff1a \\\\u5584\\\\u7528\\\\u52d5\\\\u7269\\\\u884c\\\\u70ba\\\\u5b78\\\\u548c\\\\u7378\\\\u91ab\\\\u5b78\\\\u77e5\\\\u8b58\\\\uff0c\\\\u591c\\\\u9593\\\\u6642...\",\"optionEdu\":\"\\\\u9ad8\\\\u4e2d\",\"periodDesc\":\"\\\\u7d93\\\\u6b77\\\\u4e0d\\\\u62d8\",\"custNo\":\"130000000020136\",\"custName\":\"\\\\u5317\\\\u6b50\\\\u5bf5\\\\u7269\\\\u65c5\\\\u9928_\\\\u5317\\\\u6b50\\\\u72ac\\\\u820d\\\\u6709\\\\u9650\\\\u516c\\\\u53f8\",\"salaryDesc\":\"\\\\u6642\\\\u85aa168\\\\u5143\\\\u4ee5\\\\u4e0a\",\"appearDateDesc\":\"12\\\\/20\",\"isSave\":\"0\",\"link\":{\"job\":\"\\\\/\\\\/www.104.com.tw\\\\/job\\\\/4vu1y?jobsource=parttimesector\",\"cust\":\"\\\\/\\\\/www.104.com.tw\\\\/company\\\\/1a2x6bieug?jobsource=parttimesector\"},\"jobNameRaw\":\"\\\\u5317\\\\u6b50\\\\u5bf5\\\\u7269\\\\u65c5\\\\u9928\\\\u8913\\\\u6bcd (\\\\u591c\\\\u73ed\\\\u517c\\\\u8077)\",\"custNameRaw\":\"\\\\u5317\\\\u6b50\\\\u5bf5\\\\u7269\\\\u65c5\\\\u9928_\\\\u5317\\\\u6b50\\\\u72ac\\\\u820d\\\\u6709\\\\u9650\\\\u516c\\\\u53f8\",\"lon\":\"121.534155\",\"lat\":\"25.02841\"},{\"jobNo\":\"11955321\",\"jobName\":\"2022\\\\u53f0\\\\u5317\\\\u570b\\\\u969b\\\\u52d5\\\\u6f2b\\\\u7bc0 \\\\u5c55\\\\u5834\\\\u5de5\\\\u8b80\\\\u751f(\\\\u5168\\\\u5c55\\\\u671f)\",\"description\":\"\\\\u53ea\\\\u8981\\\\u71b1\\\\u60c5\\\\u6d3b\\\\u6f51\\\\u3001\\\\u5145\\\\u6eff\\\\u71b1\\\\u8aa0\\\\u3001\\\\u4e3b\\\\u52d5\\\\u7a4d\\\\u6975\\\\u3001\\\\u5fc3\\\\u7d30\\\\u8ca0\\\\u8cac\\\\uff0c\\\\u6b61\\\\u8fce\\\\u4f60\\\\/\\\\u59b3\\\\u4e00\\\\u8d77\\\\u4f86\\\\u6210\\\\u70ba\\\\u5c55\\\\u5834\\\\u5925\\\\u4f34!  ...\",\"optionEdu\":\"\\\\u9ad8\\\\u4e2d\",\"periodDesc\":\"\\\\u7d93\\\\u6b77\\\\u4e0d\\\\u62d8\",\"custNo\":\"86930004000\",\"custName\":\"\\\\u6728\\\\u68c9\\\\u82b1\\\\u570b\\\\u969b\\\\u80a1\\\\u4efd\\\\u6709\\\\u9650\\\\u516c\\\\u53f8\",\"salaryDesc\":\"\\\\u6642\\\\u85aa168\\\\u5143\",\"appearDateDesc\":\"12\\\\/16\",\"isSave\":\"0\",\"link\":{\"job\":\"\\\\/\\\\/www.104.com.tw\\\\/job\\\\/748s9?jobsource=parttimesector\",\"cust\":\"\\\\/\\\\/www.104.com.tw\\\\/company\\\\/13xnvodc?jobsource=parttimesector\"},\"jobNameRaw\":\"2022\\\\u53f0\\\\u5317\\\\u570b\\\\u969b\\\\u52d5\\\\u6f2b\\\\u7bc0 \\\\u5c55\\\\u5834\\\\u5de5\\\\u8b80\\\\u751f(\\\\u5168\\\\u5c55\\\\u671f)\",\"custNameRaw\":\"\\\\u6728\\\\u68c9\\\\u82b1\\\\u570b\\\\u969b\\\\u80a1\\\\u4efd\\\\u6709\\\\u9650\\\\u516c\\\\u53f8\",\"lon\":\"121.5624663\",\"lat\":\"25.0339837\"},{\"jobNo\":\"8966377\",\"jobName\":\"\\\\u7ae5\\\\u66f8\\\\u8b6f\\\\u8005\",\"description\":\"1.\\\\u61c9\\\\u5fb5\\\\u8005\\\\u5fc5\\\\u9808\\\\u81f3\\\\u5c11\\\\u7cbe\\\\u901a\\\\u82f1\\\\u6587(\\\\u591a\\\\u76ca850\\\\u5206\\\\u4ee5\\\\u4e0a\\\\u6216\\\\u76f8\\\\u95dc\\\\u82f1\\\\u6587\\\\u6aa2\\\\u5b9a\\\\u4e2d\\\\u9ad8\\\\u7d1a\\\\u4ee5\\\\u4e0a)\\\\u3001\\\\u5fb7\\\\u6587(...\",\"optionEdu\":\"\\\\u5927\\\\u5b78\",\"periodDesc\":\"\\\\u7d93\\\\u6b77\\\\u4e0d\\\\u62d8\",\"custNo\":\"13118544000\",\"custName\":\"\\\\u97cb\\\\u4f2f\\\\u6587\\\\u5316\\\\u570b\\\\u969b\\\\u51fa\\\\u7248\\\\u6709\\\\u9650\\\\u516c\\\\u53f8\",\"salaryDesc\":\"\\\\u8ad6\\\\u4ef6\\\\u8a08\\\\u916c10,000~100,000\\\\u5143\",\"appearDateDesc\":\"12\\\\/19\",\"isSave\":\"0\",\"link\":{\"job\":\"\\\\/\\\\/www.104.com.tw\\\\/job\\\\/5c6i1?jobsource=parttimesector\",\"cust\":\"\\\\/\\\\/www.104.com.tw\\\\/company\\\\/60yfxc0?jobsource=parttimesector\"},\"jobNameRaw\":\"\\\\u7ae5\\\\u66f8\\\\u8b6f\\\\u8005\",\"custNameRaw\":\"\\\\u97cb\\\\u4f2f\\\\u6587\\\\u5316\\\\u570b\\\\u969b\\\\u51fa\\\\u7248\\\\u6709\\\\u9650\\\\u516c\\\\u53f8\",\"lon\":\"121.515934\",\"lat\":\"25.0158705\"},{\"jobNo\":\"12422022\",\"jobName\":\"Felicitas P\\\\u00e2tiss\\\\u00e9rie \\\\u6cd5\\\\u5f0f\\\\u751c\\\\u9ede\\\\u5e97-\\\\u751c\\\\u9ede\\\\u52a9\\\\u624b\",\"description\":\"1.\\\\u5305\\\\u88dd\\\\u51fa\\\\u8ca8\\\\u3001\\\\u70d8\\\\u7119\\\\u5668\\\\u6750\\\\u64cd\\\\u4f5c\\\\uff0c\\\\u7dad\\\\u6301\\\\u6a5f\\\\u53f0\\\\u6b63\\\\u5e38\\\\u904b\\\\u8f49\\\\u3002 2.\\\\u5404\\\\u5f0f\\\\u7528\\\\u5177\\\\u3001\\\\u8a2d\\\\u5099\\\\u6e05\\\\u6f54\\\\u4e26\\\\u7dad\\\\u8b77\\\\u5de5...\",\"optionEdu\":\"\\\\u9ad8\\\\u4e2d\",\"periodDesc\":\"1\\\\u5e74\\\\u4ee5\\\\u4e0a\",\"custNo\":\"130000000176366\",\"custName\":\"Felicitas P\\\\u00e2tiss\\\\u00e9rie_\\\\u5a1c\\\\u7c73\\\\u86cb\\\\u7cd5\\\\u574a\",\"salaryDesc\":\"\\\\u6642\\\\u85aa160~200\\\\u5143\",\"appearDateDesc\":\"12\\\\/19\",\"isSave\":\"0\",\"link\":{\"job\":\"\\\\/\\\\/www.104.com.tw\\\\/job\\\\/7e8w6?jobsource=parttimesector\",\"cust\":\"\\\\/\\\\/www.104.com.tw\\\\/company\\\\/1a2x6blre6?jobsource=parttimesector\"},\"jobNameRaw\":\"Felicitas P\\\\u00e2tiss\\\\u00e9rie \\\\u6cd5\\\\u5f0f\\\\u751c\\\\u9ede\\\\u5e97-\\\\u751c\\\\u9ede\\\\u52a9\\\\u624b\",\"custNameRaw\":\"Felicitas P\\\\u00e2tiss\\\\u00e9rie_\\\\u5a1c\\\\u7c73\\\\u86cb\\\\u7cd5\\\\u574a\",\"lon\":\"121.5321942\",\"lat\":\"25.0198253\"},{\"jobNo\":\"11936700\",\"jobName\":\"\\\\u8868\\\\u6f14\\\\u85dd\\\\u8853\\\\u5de5\\\\u4f5c\\\\u8005(\\\\u76f4\\\\u64ad\\\\u4e3b\\\\/\\\\u6b4c\\\\u624b\\\\/\\\\u6a02\\\\u624b\\\\/\\\\u821e\\\\u8005\\\\/\\\\u6f14\\\\u54e1\\\\/\\\\u6a21\\\\u7279\\\\/\\\\u8072\\\\u64ad\\\\u4e3b\\\\u6301\\\\u4eba\\\\/\\\\u85dd\\\\u4eba\\\\u7df4\\\\u7fd2\\\\u751f)\",\"description\":\"\\\\u5c0d\\\\u65bc\\\\u8868\\\\u6f14\\\\u5145\\\\u6eff\\\\u6975\\\\u5ea6\\\\u6709\\\\u8208\\\\u8da3  \\\\u6216\\\\u6709\\\\u5c08\\\\u9577\\\\u624d\\\\u85dd\\\\u7684\\\\u5404\\\\u985e\\\\u4eba\\\\u624d\\\\u52a0\\\\u5165  \\\\u4eab\\\\u6709\\\\u591a\\\\u7a2e\\\\u985e\\\\u57f9\\\\u8a13\\\\u8ab2\\\\u7a0b\\\\u4f86\\\\u958b...\",\"optionEdu\":\"\\\\u5b78\\\\u6b77\\\\u4e0d\\\\u62d8\",\"periodDesc\":\"\\\\u7d93\\\\u6b77\\\\u4e0d\\\\u62d8\",\"custNo\":\"130000000122394\",\"custName\":\"\\\\u73ab\\\\u7470\\\\u8207\\\\u9a0e\\\\u58eb\\\\u6709\\\\u9650\\\\u516c\\\\u53f8\",\"salaryDesc\":\"\\\\u6708\\\\u85aa30,000\\\\u5143\\\\u4ee5\\\\u4e0a\",\"appearDateDesc\":\"11\\\\/15\",\"isSave\":\"0\",\"link\":{\"job\":\"\\\\/\\\\/www.104.com.tw\\\\/job\\\\/73uf0?jobsource=parttimesector\",\"cust\":\"\\\\/\\\\/www.104.com.tw\\\\/company\\\\/1a2x6bklqy?jobsource=parttimesector\"},\"jobNameRaw\":\"\\\\u8868\\\\u6f14\\\\u85dd\\\\u8853\\\\u5de5\\\\u4f5c\\\\u8005(\\\\u76f4\\\\u64ad\\\\u4e3b\\\\/\\\\u6b4c\\\\u624b\\\\/\\\\u6a02\\\\u624b\\\\/\\\\u821e\\\\u8005\\\\/\\\\u6f14\\\\u54e1\\\\/\\\\u6a21\\\\u7279\\\\/\\\\u8072\\\\u64ad\\\\u4e3b\\\\u6301\\\\u4eba\\\\/\\\\u85dd\\\\u4eba\\\\u7df4\\\\u7fd2\\\\u751f)\",\"custNameRaw\":\"\\\\u73ab\\\\u7470\\\\u8207\\\\u9a0e\\\\u58eb\\\\u6709\\\\u9650\\\\u516c\\\\u53f8\",\"lon\":\"121.5608602\",\"lat\":\"25.0327014\"},{\"jobNo\":\"12485706\",\"jobName\":\"\\\\u8b93\\\\u4f60\\\\u9760\\\\u8072\\\\u97f3\\\\u8cfa\\\\u9322\\\\uff01\",\"description\":\"\\\\u4e0d\\\\u60f3\\\\u9732\\\\u81c9\\\\u53c8\\\\u60f3\\\\u9760\\\\u624b\\\\u6a5f\\\\u8cfa\\\\u9322\\\\uff1f \\\\u4f60\\\\u6700\\\\u4f73\\\\u7684\\\\u9078\\\\u64c7\\\\uff1a\\\\u8072\\\\u97f3\\\\u76f4\\\\u64ad\\\\u4e3b\\\\uff01  \\\\u3010\\\\u76f4\\\\u64ad\\\\u5167\\\\u5bb9\\\\u3011 \\\\u30101\\\\u3011\\\\u55d3...\",\"optionEdu\":\"\\\\u5b78\\\\u6b77\\\\u4e0d\\\\u62d8\",\"periodDesc\":\"\\\\u7d93\\\\u6b77\\\\u4e0d\\\\u62d8\",\"custNo\":\"130000000018389\",\"custName\":\"\\\\u81e3\\\\u946b\\\\u5be6\\\\u696d\\\\u793e\",\"salaryDesc\":\"\\\\u6642\\\\u85aa200~3,000\\\\u5143\",\"appearDateDesc\":\"12\\\\/17\",\"isSave\":\"0\",\"link\":{\"job\":\"\\\\/\\\\/www.104.com.tw\\\\/job\\\\/7fm16?jobsource=parttimesector\",\"cust\":\"\\\\/\\\\/www.104.com.tw\\\\/company\\\\/1a2x6bidhx?jobsource=parttimesector\"},\"jobNameRaw\":\"\\\\u8b93\\\\u4f60\\\\u9760\\\\u8072\\\\u97f3\\\\u8cfa\\\\u9322\\\\uff01\",\"custNameRaw\":\"\\\\u81e3\\\\u946b\\\\u5be6\\\\u696d\\\\u793e\",\"lon\":\"121.5500355\",\"lat\":\"25.0413379\"},{\"jobNo\":\"9968036\",\"jobName\":\"\\\\u9577\\\\u671f\\\\u5de5\\\\u8b80\\\\u751f(\\\\u53f0\\\\u5317)\",\"description\":\"1.\\\\u5831\\\\u8868\\\\u3001\\\\u8cc7\\\\u6599\\\\u6574\\\\u7406\\\\u3001\\\\u6587\\\\u66f8\\\\u4f5c\\\\u696d\\\\u7b49 2.\\\\u5354\\\\u52a9\\\\u81e8\\\\u6642\\\\u4ea4\\\\u8fa6\\\\u4e8b\\\\u9805\",\"optionEdu\":\"\\\\u5927\\\\u5b78\",\"periodDesc\":\"\\\\u7d93\\\\u6b77\\\\u4e0d\\\\u62d8\",\"custNo\":\"1801726000\",\"custName\":\"\\\\u8ca1\\\\u5718\\\\u6cd5\\\\u4eba\\\\u53f0\\\\u7063\\\\u7522\\\\u696d\\\\u670d\\\\u52d9\\\\u57fa\\\\u91d1\\\\u6703\",\"salaryDesc\":\"\\\\u6642\\\\u85aa160\\\\u5143\",\"appearDateDesc\":\"12\\\\/21\",\"isSave\":\"0\",\"link\":{\"job\":\"\\\\/\\\\/www.104.com.tw\\\\/job\\\\/5xndw?jobsource=parttimesector\",\"cust\":\"\\\\/\\\\/www.104.com.tw\\\\/company\\\\/tsp8og?jobsource=parttimesector\"},\"jobNameRaw\":\"\\\\u9577\\\\u671f\\\\u5de5\\\\u8b80\\\\u751f(\\\\u53f0\\\\u5317)\",\"custNameRaw\":\"\\\\u8ca1\\\\u5718\\\\u6cd5\\\\u4eba\\\\u53f0\\\\u7063\\\\u7522\\\\u696d\\\\u670d\\\\u52d9\\\\u57fa\\\\u91d1\\\\u6703\",\"lon\":\"121.5471194\",\"lat\":\"25.0267989\"},{\"jobNo\":\"8928665\",\"jobName\":\"\\\\u3010\\\\u5967\\\\u68ee\\\\u5152\\\\u7ae5\\\\u535a\\\\u7269\\\\u9928\\\\u3011\\\\u8a08\\\\u6642\\\\u4eba\\\\u54e1\\\\uff08\\\\u517c\\\\u8077PT)\",\"description\":\"1.\\\\u5152\\\\u7ae5\\\\u904a\\\\u6232\\\\u5b89\\\\u5168\\\\u7dad\\\\u8b77\\\\u53ca\\\\u885b\\\\u751f\\\\u89c0\\\\u5ff5\\\\u5f15\\\\u5c0e\\\\u3002 2.\\\\u5152\\\\u7ae5\\\\u9032\\\\u51fa\\\\u9580\\\\u7981\\\\u5b89\\\\u5168\\\\u7ba1\\\\u5236\\\\u3002 3.\\\\u8207\\\\u5c0f\\\\u670b\\\\u53cb...\",\"optionEdu\":\"\\\\u9ad8\\\\u4e2d\",\"periodDesc\":\"\\\\u7d93\\\\u6b77\\\\u4e0d\\\\u62d8\",\"custNo\":\"130000000081964\",\"custName\":\"\\\\u5967\\\\u68ee\\\\u5152\\\\u7ae5\\\\u535a\\\\u7269\\\\u9928_\\\\u8309\\\\u8389\\\\u6f22\\\\u514b\\\\u6709\\\\u9650\\\\u516c\\\\u53f8\",\"salaryDesc\":\"\\\\u6642\\\\u85aa160~170\\\\u5143\",\"appearDateDesc\":\"12\\\\/16\",\"isSave\":\"0\",\"link\":{\"job\":\"\\\\/\\\\/www.104.com.tw\\\\/job\\\\/5bdeh?jobsource=parttimesector\",\"cust\":\"\\\\/\\\\/www.104.com.tw\\\\/company\\\\/1a2x6bjqjw?jobsource=parttimesector\"},\"jobNameRaw\":\"\\\\u3010\\\\u5967\\\\u68ee\\\\u5152\\\\u7ae5\\\\u535a\\\\u7269\\\\u9928\\\\u3011\\\\u8a08\\\\u6642\\\\u4eba\\\\u54e1\\\\uff08\\\\u517c\\\\u8077PT)\",\"custNameRaw\":\"\\\\u5967\\\\u68ee\\\\u5152\\\\u7ae5\\\\u535a\\\\u7269\\\\u9928_\\\\u8309\\\\u8389\\\\u6f22\\\\u514b\\\\u6709\\\\u9650\\\\u516c\\\\u53f8\",\"lon\":\"121.5425979\",\"lat\":\"25.0336762\"},{\"jobNo\":\"12064596\",\"jobName\":\"\\\\u3010OiKID\\\\u7dda\\\\u4e0a\\\\u5152\\\\u7ae5\\\\u82f1\\\\u8a9e\\\\u3011\\\\u7dda\\\\u4e0a\\\\u7f8e\\\\u8a9e Online English Teacher (\\\\u5728\\\\u5bb6\\\\u5de5\\\\u4f5c\\\\u514d\\\\u79fb\\\\u52d5)\",\"description\":\"Hello, \\\\u6211\\\\u5011\\\\u662fOi \\\\u7dda\\\\u4e0a\\\\u82f1\\\\u8a9e\\\\u5b78\\\\u7fd2\\\\u5e73\\\\u53f0\\\\uff0c\\\\u5e0c\\\\u671b\\\\u900f\\\\u904e\\\\u79d1\\\\u6280\\\\uff0c\\\\u8b93\\\\u5b78\\\\u751f\\\\u4eab\\\\u53d7\\\\u7dda\\\\u4e0a\\\\u5373\\\\u6642\\\\u4e00...\",\"optionEdu\":\"\\\\u5c08\\\\u79d1\",\"periodDesc\":\"\\\\u7d93\\\\u6b77\\\\u4e0d\\\\u62d8\",\"custNo\":\"130000000155283\",\"custName\":\"\\\\u6b50\\\\u611b\\\\u5152\\\\u80a1\\\\u4efd\\\\u6709\\\\u9650\\\\u516c\\\\u53f8\",\"salaryDesc\":\"\\\\u6642\\\\u85aa200~300\\\\u5143\",\"appearDateDesc\":\"12\\\\/16\",\"isSave\":\"0\",\"link\":{\"job\":\"\\\\/\\\\/www.104.com.tw\\\\/job\\\\/76l3o?jobsource=parttimesector\",\"cust\":\"\\\\/\\\\/www.104.com.tw\\\\/company\\\\/1a2x6blb4j?jobsource=parttimesector\"},\"jobNameRaw\":\"\\\\u3010OiKID\\\\u7dda\\\\u4e0a\\\\u5152\\\\u7ae5\\\\u82f1\\\\u8a9e\\\\u3011\\\\u7dda\\\\u4e0a\\\\u7f8e\\\\u8a9e Online English Teacher (\\\\u5728\\\\u5bb6\\\\u5de5\\\\u4f5c\\\\u514d\\\\u79fb\\\\u52d5)\",\"custNameRaw\":\"\\\\u6b50\\\\u611b\\\\u5152\\\\u80a1\\\\u4efd\\\\u6709\\\\u9650\\\\u516c\\\\u53f8\",\"lon\":\"121.531324\",\"lat\":\"25.03025\"},{\"jobNo\":\"11071836\",\"jobName\":\"Marketing Intern \\\\u884c\\\\u92b7\\\\u4f01\\\\u5283\\\\u5be6\\\\u7fd2\\\\u751f\",\"description\":\"\\\\u6211\\\\u5011\\\\u975e\\\\u5e38\\\\u5e0c\\\\u671b\\\\u80fd\\\\u5e6b\\\\u52a9\\\\u60a8\\\\u5728\\\\u5be6\\\\u7fd2\\\\u904e\\\\u7a0b\\\\u4e2d\\\\uff0c\\\\u7d2f\\\\u7a4d\\\\u5b78\\\\u6821\\\\u5b78\\\\u4e0d\\\\u5230\\\\u7684\\\\u5be6\\\\u52d9\\\\u64cd\\\\u4f5c\\\\u7d93\\\\u9a57\\\\uff0c\\\\u4e5f\\\\u5f88\\\\u6a02\\\\u610f\\\\u8207\\\\u60a8\\\\u4e00...\",\"optionEdu\":\"\\\\u5927\\\\u5b78\",\"periodDesc\":\"\\\\u7d93\\\\u6b77\\\\u4e0d\\\\u62d8\",\"custNo\":\"130000000133427\",\"custName\":\"\\\\u528d\\\\u6a4b\\\\u6559\\\\u80b2\\\\u6709\\\\u9650\\\\u516c\\\\u53f8\",\"salaryDesc\":\"\\\\u6642\\\\u85aa160~200\\\\u5143\",\"appearDateDesc\":\"12\\\\/15\",\"isSave\":\"0\",\"link\":{\"job\":\"\\\\/\\\\/www.104.com.tw\\\\/job\\\\/6lb30?jobsource=parttimesector\",\"cust\":\"\\\\/\\\\/www.104.com.tw\\\\/company\\\\/1a2x6bku9f?jobsource=parttimesector\"},\"jobNameRaw\":\"Marketing Intern \\\\u884c\\\\u92b7\\\\u4f01\\\\u5283\\\\u5be6\\\\u7fd2\\\\u751f\",\"custNameRaw\":\"\\\\u528d\\\\u6a4b\\\\u6559\\\\u80b2\\\\u6709\\\\u9650\\\\u516c\\\\u53f8\",\"lon\":\"121.5432074\",\"lat\":\"25.024696\"},{\"jobNo\":\"11985219\",\"jobName\":\"2ndSTREET\\\\u897f\\\\u9580\\\\u5e97-\\\\u9580\\\\u5e02\\\\u92b7\\\\u552e\\\\u4eba\\\\u54e1(\\\\u9577\\\\u671f\\\\u5de5\\\\u8b80\\\\u751f\\\\u6216\\\\u5132\\\\u5099\\\\u6b63\\\\u8077\\\\u5e79\\\\u90e8\\\\uff09\",\"description\":\"\\\\u3010\\\\u61c9\\\\u5fb5\\\\u689d\\\\u4ef6\\\\u3011 \\\\u2605\\\\u6d3b\\\\u6f51\\\\u958b\\\\u6717\\\\u6a02\\\\u89c0\\\\u3001\\\\u5f37\\\\u70c8\\\\u8cac\\\\u4efb\\\\u611f\\\\u3001\\\\u7a4d\\\\u6975\\\\u9032\\\\u53d6\\\\u3002 \\\\u2605\\\\u9762\\\\u5c0d\\\\u5ba2\\\\u4eba\\\\u4e0d\\\\u6613\\\\u7dca\\\\u5f35\\\\u53ca\\\\u602f\\\\u5834...\",\"optionEdu\":\"\\\\u5c08\\\\u79d1\",\"periodDesc\":\"\\\\u7d93\\\\u6b77\\\\u4e0d\\\\u62d8\",\"custNo\":\"130000000146139\",\"custName\":\"2ndSTREET_\\\\u53f0\\\\u7063\\\\u6975\\\\u6c83\\\\u80a1\\\\u4efd\\\\u6709\\\\u9650\\\\u516c\\\\u53f8\",\"salaryDesc\":\"\\\\u6642\\\\u85aa160\\\\u5143\\\\u4ee5\\\\u4e0a\",\"appearDateDesc\":\"12\\\\/20\",\"isSave\":\"0\",\"link\":{\"job\":\"\\\\/\\\\/www.104.com.tw\\\\/job\\\\/74vur?jobsource=parttimesector\",\"cust\":\"\\\\/\\\\/www.104.com.tw\\\\/company\\\\/1a2x6bl42j?jobsource=parttimesector\"},\"jobNameRaw\":\"2ndSTREET\\\\u897f\\\\u9580\\\\u5e97-\\\\u9580\\\\u5e02\\\\u92b7\\\\u552e\\\\u4eba\\\\u54e1(\\\\u9577\\\\u671f\\\\u5de5\\\\u8b80\\\\u751f\\\\u6216\\\\u5132\\\\u5099\\\\u6b63\\\\u8077\\\\u5e79\\\\u90e8\\\\uff09\",\"custNameRaw\":\"2ndSTREET_\\\\u53f0\\\\u7063\\\\u6975\\\\u6c83\\\\u80a1\\\\u4efd\\\\u6709\\\\u9650\\\\u516c\\\\u53f8\",\"lon\":\"121.5048555\",\"lat\":\"25.0435087\"},{\"jobNo\":\"12400621\",\"jobName\":\"\\\\u63a1\\\\u8cfc\\\\u5de5\\\\u8b80\\\\u751f(\\\\u9577\\\\u671f)\",\"description\":\"1.\\\\u7cfb\\\\u7d71\\\\u8a02\\\\u55ae\\\\u5efa\\\\u7acb 2.\\\\u4e00\\\\u822c\\\\u6587\\\\u66f8\\\\u8cc7\\\\u6599\\\\u8655\\\\u7406\\\\u53ca\\\\u6b78\\\\u6a94\\\\u5de5\\\\u4f5c 3.\\\\u6a23\\\\u54c1\\\\u6574\\\\u7406\\\\u53ca\\\\u5305\\\\u88f9\\\\u7c3d\\\\u6536\\\\/\\\\u5bc4\\\\u9001...\",\"optionEdu\":\"\\\\u9ad8\\\\u4e2d\",\"periodDesc\":\"\\\\u7d93\\\\u6b77\\\\u4e0d\\\\u62d8\",\"custNo\":\"53095130000\",\"custName\":\"\\\\u51f1\\\\u6085\\\\u570b\\\\u969b\\\\u8cbf\\\\u6613\\\\u6709\\\\u9650\\\\u516c\\\\u53f8\",\"salaryDesc\":\"\\\\u6642\\\\u85aa160\\\\u5143\",\"appearDateDesc\":\"12\\\\/21\",\"isSave\":\"0\",\"link\":{\"job\":\"\\\\/\\\\/www.104.com.tw\\\\/job\\\\/7dsdp?jobsource=parttimesector\",\"cust\":\"\\\\/\\\\/www.104.com.tw\\\\/company\\\\/oe3gwi8?jobsource=parttimesector\"},\"jobNameRaw\":\"\\\\u63a1\\\\u8cfc\\\\u5de5\\\\u8b80\\\\u751f(\\\\u9577\\\\u671f)\",\"custNameRaw\":\"\\\\u51f1\\\\u6085\\\\u570b\\\\u969b\\\\u8cbf\\\\u6613\\\\u6709\\\\u9650\\\\u516c\\\\u53f8\",\"lon\":\"121.562324\",\"lat\":\"25.0332591\"},{\"jobNo\":\"11760869\",\"jobName\":\"\\\\u7db2\\\\u7d05(\\\\u5317\\\\u90e8)(\\\\u542b\\\\u624d\\\\u85dd\\\\u76f4\\\\u64ad\\\\u4e3b,\\\\u8072\\\\u64ad\\\\u4e3b\\\\u6301\\\\u4eba,\\\\u904a\\\\u6232\\\\u5be6\\\\u6cc1\\\\u4e3b)\",\"description\":\"\\\\u75ab\\\\u60c5\\\\u671f\\\\u9593 \\\\u5b85\\\\u7d93\\\\u6fdf\\\\u8208\\\\u8d77 \\\\u900f\\\\u904e\\\\u81ea\\\\u5a92\\\\u9ad4 \\\\u5be6\\\\u73fe\\\\u81ea\\\\u6211\\\\u7684\\\\u5e73\\\\u53f0\\\\u5c31\\\\u8d81\\\\u73fe\\\\u5728 \\\\u8fce\\\\u63a5\\\\u65b0\\\\u4e16\\\\u4ee3\\\\u7684\\\\u4f86\\\\u81e8  ...\",\"optionEdu\":\"\\\\u5b78\\\\u6b77\\\\u4e0d\\\\u62d8\",\"periodDesc\":\"\\\\u7d93\\\\u6b77\\\\u4e0d\\\\u62d8\",\"custNo\":\"130000000122394\",\"custName\":\"\\\\u73ab\\\\u7470\\\\u8207\\\\u9a0e\\\\u58eb\\\\u6709\\\\u9650\\\\u516c\\\\u53f8\",\"salaryDesc\":\"\\\\u5f85\\\\u9047\\\\u9762\\\\u8b70\",\"appearDateDesc\":\"11\\\\/15\",\"isSave\":\"0\",\"link\":{\"job\":\"\\\\/\\\\/www.104.com.tw\\\\/job\\\\/702qt?jobsource=parttimesector\",\"cust\":\"\\\\/\\\\/www.104.com.tw\\\\/company\\\\/1a2x6bklqy?jobsource=parttimesector\"},\"jobNameRaw\":\"\\\\u7db2\\\\u7d05(\\\\u5317\\\\u90e8)(\\\\u542b\\\\u624d\\\\u85dd\\\\u76f4\\\\u64ad\\\\u4e3b,\\\\u8072\\\\u64ad\\\\u4e3b\\\\u6301\\\\u4eba,\\\\u904a\\\\u6232\\\\u5be6\\\\u6cc1\\\\u4e3b)\",\"custNameRaw\":\"\\\\u73ab\\\\u7470\\\\u8207\\\\u9a0e\\\\u58eb\\\\u6709\\\\u9650\\\\u516c\\\\u53f8\",\"lon\":\"121.5608602\",\"lat\":\"25.0327014\"},{\"jobNo\":\"10428092\",\"jobName\":\"(\\\\u517c\\\\u8077)\\\\u670d\\\\u52d9\\\\u92b7\\\\u552e\\\\u4eba\\\\u54e1\",\"description\":\"\\\\u5de5\\\\u4f5c\\\\u5167\\\\u5bb9: \\\\u57fa\\\\u672c\\\\u9910\\\\u684c\\\\u670d\\\\u52d9\\\\uff0c\\\\u9910\\\\u9ede\\\\u8207\\\\u8461\\\\u8404\\\\u9152\\\\u4ecb\\\\u7d39 \\\\u672c\\\\u5e97\\\\u6703\\\\u5b89\\\\u6392\\\\u7d05\\\\u767d\\\\u9152\\\\u8ab2\\\\u7a0b \\\\u559c\\\\u6b61\\\\u7d05\\\\u767d\\\\u9152\\\\u60f3...\",\"optionEdu\":\"\\\\u5b78\\\\u6b77\\\\u4e0d\\\\u62d8\",\"periodDesc\":\"\\\\u7d93\\\\u6b77\\\\u4e0d\\\\u62d8\",\"custNo\":\"130000000117094\",\"custName\":\"\\\\u6566\\\\u5357\\\\u9152\\\\u7a96\\\\u80a1\\\\u4efd\\\\u6709\\\\u9650\\\\u516c\\\\u53f8\",\"salaryDesc\":\"\\\\u6642\\\\u85aa170~180\\\\u5143\",\"appearDateDesc\":\"12\\\\/20\",\"isSave\":\"0\",\"link\":{\"job\":\"\\\\/\\\\/www.104.com.tw\\\\/job\\\\/67id8?jobsource=parttimesector\",\"cust\":\"\\\\/\\\\/www.104.com.tw\\\\/company\\\\/1a2x6bkhnq?jobsource=parttimesector\"},\"jobNameRaw\":\"(\\\\u517c\\\\u8077)\\\\u670d\\\\u52d9\\\\u92b7\\\\u552e\\\\u4eba\\\\u54e1\",\"custNameRaw\":\"\\\\u6566\\\\u5357\\\\u9152\\\\u7a96\\\\u80a1\\\\u4efd\\\\u6709\\\\u9650\\\\u516c\\\\u53f8\",\"lon\":\"121.548291\",\"lat\":\"25.025703\"},{\"jobNo\":\"12506555\",\"jobName\":\"\\\\u3010\\\\u65e5\\\\u5546 \\\\u517c\\\\u8077\\\\u3011\\\\u65e5\\\\u6587\\\\u884c\\\\u653f\\\\u52a9\\\\u7406   \\\\u3000\\\\u8a08\\\\u6642 \\\\u517c\\\\u8077 \\\\u4eba\\\\u54e1\\\\u3000\\\\u65e5\\\\u8a9e PT\",\"description\":\"\\\\u300a\\\\u5de5\\\\u4f5c\\\\u5167\\\\u5bb9\\\\u300b \\\\ufe65\\\\u4e3b\\\\u8981\\\\u5de5\\\\u4f5c\\\\uff1a\\\\u65e5\\\\u6587\\\\u5eab\\\\u5b58\\\\u7cfb\\\\u7d71\\\\u5546\\\\u54c1\\\\u767b\\\\u5165\\\\u5efa\\\\u6a94\\\\u4f5c\\\\u696d(\\\\u9700\\\\u8981\\\\u65e5\\\\u6587\\\\u6253\\\\u5b57\\\\u8f38\\\\u5165\\\\u4ee5\\\\u53ca\\\\u57fa...\",\"optionEdu\":\"\\\\u9ad8\\\\u4e2d\",\"periodDesc\":\"\\\\u7d93\\\\u6b77\\\\u4e0d\\\\u62d8\",\"custNo\":\"130000000053907\",\"custName\":\"\\\\u5929\\\\u5854\\\\u570b\\\\u969b\\\\u6709\\\\u9650\\\\u516c\\\\u53f8\",\"salaryDesc\":\"\\\\u6642\\\\u85aa160\\\\u5143\",\"appearDateDesc\":\"11\\\\/24\",\"isSave\":\"0\",\"link\":{\"job\":\"\\\\/\\\\/www.104.com.tw\\\\/job\\\\/7g24b?jobsource=parttimesector\",\"cust\":\"\\\\/\\\\/www.104.com.tw\\\\/company\\\\/1a2x6bj4wj?jobsource=parttimesector\"},\"jobNameRaw\":\"\\\\u3010\\\\u65e5\\\\u5546 \\\\u517c\\\\u8077\\\\u3011\\\\u65e5\\\\u6587\\\\u884c\\\\u653f\\\\u52a9\\\\u7406   \\\\u3000\\\\u8a08\\\\u6642 \\\\u517c\\\\u8077 \\\\u4eba\\\\u54e1\\\\u3000\\\\u65e5\\\\u8a9e PT\",\"custNameRaw\":\"\\\\u5929\\\\u5854\\\\u570b\\\\u969b\\\\u6709\\\\u9650\\\\u516c\\\\u53f8\",\"lon\":\"121.5433783\",\"lat\":\"25.0249441\"},{\"jobNo\":\"12459603\",\"jobName\":\"FashionGuide \\\\u5916\\\\u7a3f\\\\u7279\\\\u7d04\\\\u7de8\\\\u8f2f\",\"description\":\"\\\\u8077\\\\u52d9\\\\u7c21\\\\u8ff0 FashionGuide \\\\u6b63\\\\u5728\\\\u5c0b\\\\u627e\\\\u4e00\\\\u8d77\\\\u5408\\\\u4f5c\\\\u7684\\\\u5925\\\\u4f34\\\\uff01 \\\\u8acb\\\\u5148\\\\u53c3\\\\u95b1 Fas...\",\"optionEdu\":\"\\\\u5c08\\\\u79d1\",\"periodDesc\":\"1\\\\u5e74\\\\u4ee5\\\\u4e0a\",\"custNo\":\"29052786000\",\"custName\":\"FG_\\\\u98a8\\\\u5c1a\\\\u6578\\\\u4f4d\\\\u79d1\\\\u6280\\\\u80a1\\\\u4efd\\\\u6709\\\\u9650\\\\u516c\\\\u53f8\",\"salaryDesc\":\"\\\\u5f85\\\\u9047\\\\u9762\\\\u8b70\",\"appearDateDesc\":\"12\\\\/16\",\"isSave\":\"0\",\"link\":{\"job\":\"\\\\/\\\\/www.104.com.tw\\\\/job\\\\/7f1w3?jobsource=parttimesector\",\"cust\":\"\\\\/\\\\/www.104.com.tw\\\\/company\\\\/dcha15c?jobsource=parttimesector\"},\"jobNameRaw\":\"FashionGuide \\\\u5916\\\\u7a3f\\\\u7279\\\\u7d04\\\\u7de8\\\\u8f2f\",\"custNameRaw\":\"FG_\\\\u98a8\\\\u5c1a\\\\u6578\\\\u4f4d\\\\u79d1\\\\u6280\\\\u80a1\\\\u4efd\\\\u6709\\\\u9650\\\\u516c\\\\u53f8\",\"lon\":\"121.5574173\",\"lat\":\"25.0435203\"},{\"jobNo\":\"11933446\",\"jobName\":\"\\\\u53ef\\\\u592b\\\\u840a\\\\u767e\\\\u8ca8\\\\u5c08\\\\u6ac3\\\\u4eba\\\\u54e1\\\\u3010Bellavita\\\\u3011\",\"description\":\"1\\\\u3001\\\\u63d0\\\\u4f9b\\\\u89e3\\\\u8aaa\\\\u6216\\\\u54a8\\\\u8a62\\\\u670d\\\\u52d9 2\\\\u3001\\\\u9867\\\\u5ba2\\\\u63a5\\\\u5f85\\\\u8207\\\\u9700\\\\u6c42\\\\u670d\\\\u52d9 3\\\\u3001\\\\u7522\\\\u54c1\\\\u4ecb\\\\u7d39\\\\u53ca\\\\u89e3\\\\u8aaa\\\\u92b7\\\\u552e 4\\\\u3001\\\\u6ac3...\",\"optionEdu\":\"\\\\u9ad8\\\\u4e2d\",\"periodDesc\":\"1\\\\u5e74\\\\u4ee5\\\\u4e0a\",\"custNo\":\"53108917000\",\"custName\":\"\\\\u53ef\\\\u592b\\\\u840a\\\\u98df\\\\u54c1\\\\u80a1\\\\u4efd\\\\u6709\\\\u9650\\\\u516c\\\\u53f8\",\"salaryDesc\":\"\\\\u6642\\\\u85aa170\\\\u5143\",\"appearDateDesc\":\"12\\\\/16\",\"isSave\":\"0\",\"link\":{\"job\":\"\\\\/\\\\/www.104.com.tw\\\\/job\\\\/73rwm?jobsource=parttimesector\",\"cust\":\"\\\\/\\\\/www.104.com.tw\\\\/company\\\\/oeboemg?jobsource=parttimesector\"},\"jobNameRaw\":\"\\\\u53ef\\\\u592b\\\\u840a\\\\u767e\\\\u8ca8\\\\u5c08\\\\u6ac3\\\\u4eba\\\\u54e1\\\\u3010Bellavita\\\\u3011\",\"custNameRaw\":\"\\\\u53ef\\\\u592b\\\\u840a\\\\u98df\\\\u54c1\\\\u80a1\\\\u4efd\\\\u6709\\\\u9650\\\\u516c\\\\u53f8\",\"lon\":\"121.567641\",\"lat\":\"25.0396219\"},{\"jobNo\":\"12501578\",\"jobName\":\"(\\\\u7121\\\\u7d93\\\\u9a57\\\\u53ef) \\\\u8fa6\\\\u516c\\\\u5ba4\\\\u884c\\\\u653f\\\\u52a9\\\\u7406\\\\/\\\\u884c\\\\u653f\\\\u4eba\\\\u54e1\",\"description\":\"\\\\u5de5\\\\u4f5c\\\\u5167\\\\u5bb9 \\\\u25a0\\\\u8fa6\\\\u516c\\\\u5ba4\\\\u884c\\\\u653f\\\\u5eb6\\\\u52d9\\\\u3002 \\\\u25a0\\\\u5354\\\\u52a9\\\\u8655\\\\u7406\\\\u4e3b\\\\u7ba1\\\\u4ea4\\\\u8fa6\\\\u4e8b\\\\u9805\\\\u3002  \\\\u6b61\\\\u8fce\\\\u8aa0\\\\u5be6\\\\u3001\\\\u7d30\\\\u5fc3\\\\u3001\\\\u8a8d\\\\u771f...\",\"optionEdu\":\"\\\\u9ad8\\\\u4e2d\",\"periodDesc\":\"\\\\u7d93\\\\u6b77\\\\u4e0d\\\\u62d8\",\"custNo\":\"130000000159668\",\"custName\":\"\\\\u51f1\\\\u6587\\\\u901a\\\\u8a0a\\\\u4f01\\\\u696d\\\\u793e\",\"salaryDesc\":\"\\\\u6642\\\\u85aa168\\\\u5143\",\"appearDateDesc\":\"12\\\\/15\",\"isSave\":\"0\",\"link\":{\"job\":\"\\\\/\\\\/www.104.com.tw\\\\/job\\\\/7fya2?jobsource=parttimesector\",\"cust\":\"\\\\/\\\\/www.104.com.tw\\\\/company\\\\/1a2x6bleic?jobsource=parttimesector\"},\"jobNameRaw\":\"(\\\\u7121\\\\u7d93\\\\u9a57\\\\u53ef) \\\\u8fa6\\\\u516c\\\\u5ba4\\\\u884c\\\\u653f\\\\u52a9\\\\u7406\\\\/\\\\u884c\\\\u653f\\\\u4eba\\\\u54e1\",\"custNameRaw\":\"\\\\u51f1\\\\u6587\\\\u901a\\\\u8a0a\\\\u4f01\\\\u696d\\\\u793e\",\"lon\":\"121.532621\",\"lat\":\"25.044024\"},{\"jobNo\":\"12417087\",\"jobName\":\"\\\\u7e3d\\\\u52d9\\\\u5de5\\\\u8b80\\\\u751f\",\"description\":\"1. \\\\u90f5\\\\u4ef6\\\\u6536\\\\u767c\\\\uff0c\\\\u5bc4\\\\u4ef6\\\\u53ca\\\\u90f5\\\\u52d9\\\\u8655\\\\u7406. 2. \\\\u5354\\\\u52a9\\\\u8655\\\\u7406\\\\u5eb6\\\\u52d9\\\\u6027\\\\u884c\\\\u653f\\\\u5de5\\\\u4f5c 3. \\\\u5b9a\\\\u671f\\\\u63a1\\\\u8cfc...\",\"optionEdu\":\"\\\\u5b78\\\\u6b77\\\\u4e0d\\\\u62d8\",\"periodDesc\":\"\\\\u7d93\\\\u6b77\\\\u4e0d\\\\u62d8\",\"custNo\":\"130000000143779\",\"custName\":\"\\\\u62c9\\\\u83f2\\\\u723e\\\\u80a1\\\\u4efd\\\\u6709\\\\u9650\\\\u516c\\\\u53f8\",\"salaryDesc\":\"\\\\u6642\\\\u85aa160\\\\u5143\",\"appearDateDesc\":\"12\\\\/14\",\"isSave\":\"0\",\"link\":{\"job\":\"\\\\/\\\\/www.104.com.tw\\\\/job\\\\/7e533?jobsource=parttimesector\",\"cust\":\"\\\\/\\\\/www.104.com.tw\\\\/company\\\\/1a2x6bl28z?jobsource=parttimesector\"},\"jobNameRaw\":\"\\\\u7e3d\\\\u52d9\\\\u5de5\\\\u8b80\\\\u751f\",\"custNameRaw\":\"\\\\u62c9\\\\u83f2\\\\u723e\\\\u80a1\\\\u4efd\\\\u6709\\\\u9650\\\\u516c\\\\u53f8\",\"lon\":\"121.515163\",\"lat\":\"25.04496\"},{\"jobNo\":\"12477160\",\"jobName\":\"Wenzday\\\\u5929\\\\u7136\\\\u4fdd\\\\u990a\\\\u9999\\\\u6c1b\\\\u8a08\\\\u6642\\\\u92b7\\\\u552e\\\\u4eba\\\\u54e1\\\\/\\\\u5de5\\\\u8b80\\\\u300a\\\\u4fe1\\\\u7fa9\\\\u65b0\\\\u5149\\\\u4e09\\\\u8d8aA11\\\\u300b\",\"description\":\"Wenzday\\\\u6210\\\\u7acb\\\\u65bc2020\\\\u5e74\\\\u6210\\\\u7acb\\\\uff0c\\\\u5728\\\\u4e16\\\\u754c\\\\u5404\\\\u5730\\\\u5c0b\\\\u627e\\\\u6ecb\\\\u990a\\\\u8eab\\\\u5fc3\\\\u7684\\\\u5929\\\\u7136\\\\u4fdd\\\\u990a\\\\u3001\\\\u5f69\\\\u599d\\\\u3001\\\\u9999...\",\"optionEdu\":\"\\\\u5c08\\\\u79d1\",\"periodDesc\":\"1\\\\u5e74\\\\u4ee5\\\\u4e0a\",\"custNo\":\"130000000063334\",\"custName\":\"\\\\u5b87\\\\u57d5\\\\u570b\\\\u969b\\\\u6709\\\\u9650\\\\u516c\\\\u53f8\",\"salaryDesc\":\"\\\\u6642\\\\u85aa160\\\\u5143\",\"appearDateDesc\":\"12\\\\/21\",\"isSave\":\"0\",\"link\":{\"job\":\"\\\\/\\\\/www.104.com.tw\\\\/job\\\\/7fffs?jobsource=parttimesector\",\"cust\":\"\\\\/\\\\/www.104.com.tw\\\\/company\\\\/1a2x6bjc6e?jobsource=parttimesector\"},\"jobNameRaw\":\"Wenzday\\\\u5929\\\\u7136\\\\u4fdd\\\\u990a\\\\u9999\\\\u6c1b\\\\u8a08\\\\u6642\\\\u92b7\\\\u552e\\\\u4eba\\\\u54e1\\\\/\\\\u5de5\\\\u8b80\\\\u300a\\\\u4fe1\\\\u7fa9\\\\u65b0\\\\u5149\\\\u4e09\\\\u8d8aA11\\\\u300b\",\"custNameRaw\":\"\\\\u5b87\\\\u57d5\\\\u570b\\\\u969b\\\\u6709\\\\u9650\\\\u516c\\\\u53f8\",\"lon\":\"121.5720055\",\"lat\":\"25.0409201\"},{\"jobNo\":\"12521859\",\"jobName\":\"\\\\u517c\\\\u8077\\\\u73e0\\\\u5bf6\\\\u5c08\\\\u6ac3\\\\u92b7\\\\u552e\\\\u4eba\\\\u54e1\\\\u3010\\\\u6642\\\\u85aa175\\\\u5143\\\\u8d77+\\\\u9ad8\\\\u734e\\\\u91d1\\\\u3011\",\"description\":\"~ \\\\u6b64\\\\u8077\\\\u4f4d\\\\u50c5\\\\u958b\\\\u653e\\\\u61c9\\\\u5fb5\\\\u81f312\\\\/13(\\\\u4e00)18:00\\\\u622a\\\\u6b62\\\\uff0c\\\\u622a\\\\u6b62\\\\u5f8c\\\\u8acb\\\\u975c\\\\u5019\\\\u9762\\\\u8a66\\\\u901a\\\\u77e5\\\\uff0c\\\\u8b1d...\",\"optionEdu\":\"\\\\u5c08\\\\u79d1\",\"periodDesc\":\"\\\\u7d93\\\\u6b77\\\\u4e0d\\\\u62d8\",\"custNo\":\"27539475000\",\"custName\":\"MIRROR _ \\\\u7687\\\\u5ba3\\\\u7de3\\\\u570b\\\\u969b\\\\u8cbf\\\\u6613\\\\u80a1\\\\u4efd\\\\u6709\\\\u9650\\\\u516c\\\\u53f8\",\"salaryDesc\":\"\\\\u6642\\\\u85aa170~235\\\\u5143\",\"appearDateDesc\":\"12\\\\/17\",\"isSave\":\"0\",\"link\":{\"job\":\"\\\\/\\\\/www.104.com.tw\\\\/job\\\\/7gdxf?jobsource=parttimesector\",\"cust\":\"\\\\/\\\\/www.104.com.tw\\\\/company\\\\/cngaiwo?jobsource=parttimesector\"},\"jobNameRaw\":\"\\\\u517c\\\\u8077\\\\u73e0\\\\u5bf6\\\\u5c08\\\\u6ac3\\\\u92b7\\\\u552e\\\\u4eba\\\\u54e1\\\\u3010\\\\u6642\\\\u85aa175\\\\u5143\\\\u8d77+\\\\u9ad8\\\\u734e\\\\u91d1\\\\u3011\",\"custNameRaw\":\"MIRROR _ \\\\u7687\\\\u5ba3\\\\u7de3\\\\u570b\\\\u969b\\\\u8cbf\\\\u6613\\\\u80a1\\\\u4efd\\\\u6709\\\\u9650\\\\u516c\\\\u53f8\",\"lon\":\"121.5645561\",\"lat\":\"25.0338041\"},{\"jobNo\":\"12357742\",\"jobName\":\"\\\\u517c\\\\u8077\\\\u4fdd\\\\u5e95\\\\u624d\\\\u85dd\\\\u76f4\\\\u64ad\\\\u4e3b(\\\\u5317\\\\u90e8)\",\"description\":\"\\\\u5de5\\\\u4f5c\\\\u5167\\\\u5bb9\\\\uff1a \\\\u7121\\\\u9700\\\\u7d93\\\\u9a57 \\\\u6709\\\\u624b\\\\u6a5f\\\\u5373\\\\u53ef \\\\u516c\\\\u53f8\\\\u63d0\\\\u4f9b\\\\u514d\\\\u8cbb\\\\u6559\\\\u80b2\\\\u8ab2\\\\u7a0b  \\\\u5de5\\\\u4f5c\\\\u689d\\\\u4ef6\\\\uff1a 1.\\\\u500b\\\\u4eba...\",\"optionEdu\":\"\\\\u5b78\\\\u6b77\\\\u4e0d\\\\u62d8\",\"periodDesc\":\"\\\\u7d93\\\\u6b77\\\\u4e0d\\\\u62d8\",\"custNo\":\"130000000122394\",\"custName\":\"\\\\u73ab\\\\u7470\\\\u8207\\\\u9a0e\\\\u58eb\\\\u6709\\\\u9650\\\\u516c\\\\u53f8\",\"salaryDesc\":\"\\\\u6642\\\\u85aa800~1,500\\\\u5143\",\"appearDateDesc\":\"12\\\\/15\",\"isSave\":\"0\",\"link\":{\"job\":\"\\\\/\\\\/www.104.com.tw\\\\/job\\\\/7cvam?jobsource=parttimesector\",\"cust\":\"\\\\/\\\\/www.104.com.tw\\\\/company\\\\/1a2x6bklqy?jobsource=parttimesector\"},\"jobNameRaw\":\"\\\\u517c\\\\u8077\\\\u4fdd\\\\u5e95\\\\u624d\\\\u85dd\\\\u76f4\\\\u64ad\\\\u4e3b(\\\\u5317\\\\u90e8)\",\"custNameRaw\":\"\\\\u73ab\\\\u7470\\\\u8207\\\\u9a0e\\\\u58eb\\\\u6709\\\\u9650\\\\u516c\\\\u53f8\",\"lon\":\"121.5608602\",\"lat\":\"25.0327014\"},{\"jobNo\":\"7270307\",\"jobName\":\"\\\\u5916\\\\u5834\\\\u5de5\\\\u8b80(\\\\u5317\\\\u8eca\\\\u958b\\\\u5c01\\\\u5e97)\",\"description\":\"\\\\u5916\\\\u5834: 1.\\\\u8ca0\\\\u8cac\\\\u5ba2\\\\u4eba\\\\u5e36\\\\u4f4d\\\\u3001\\\\u9ede\\\\u9910\\\\u3001\\\\u9867\\\\u5ba2\\\\u4eba\\\\u7b49\\\\u5de5\\\\u4f5c\\\\u3002 2.\\\\u65bc\\\\u5ba2\\\\u4eba\\\\u7528\\\\u9910\\\\u5b8c\\\\u7562\\\\u5f8c\\\\uff0c\\\\u8ca0\\\\u8cac\\\\u6536\\\\u62fe...\",\"optionEdu\":\"\\\\u5b78\\\\u6b77\\\\u4e0d\\\\u62d8\",\"periodDesc\":\"\\\\u7d93\\\\u6b77\\\\u4e0d\\\\u62d8\",\"custNo\":\"25050110000\",\"custName\":\"\\\\u4e00\\\\u756a\\\\u5730\\\\u58fd\\\\u559c\\\\u71d2_\\\\u592a\\\\u795e\\\\u9910\\\\u98f2\\\\u80a1\\\\u4efd\\\\u6709\\\\u9650\\\\u516c\\\\u53f8\",\"salaryDesc\":\"\\\\u6642\\\\u85aa160\\\\u5143\\\\u4ee5\\\\u4e0a\",\"appearDateDesc\":\"12\\\\/20\",\"isSave\":\"0\",\"link\":{\"job\":\"\\\\/\\\\/www.104.com.tw\\\\/job\\\\/4btsz?jobsource=parttimesector\",\"cust\":\"\\\\/\\\\/www.104.com.tw\\\\/company\\\\/bia6skw?jobsource=parttimesector\"},\"jobNameRaw\":\"\\\\u5916\\\\u5834\\\\u5de5\\\\u8b80(\\\\u5317\\\\u8eca\\\\u958b\\\\u5c01\\\\u5e97)\",\"custNameRaw\":\"\\\\u4e00\\\\u756a\\\\u5730\\\\u58fd\\\\u559c\\\\u71d2_\\\\u592a\\\\u795e\\\\u9910\\\\u98f2\\\\u80a1\\\\u4efd\\\\u6709\\\\u9650\\\\u516c\\\\u53f8\",\"lon\":\"121.512107\",\"lat\":\"25.045968\"},{\"jobNo\":\"8979692\",\"jobName\":\"kila kila [\\\\u53f0\\\\u5317\\\\u4fe1\\\\u7fa9\\\\u5fae\\\\u98a8]\\\\u8a08\\\\u6642\\\\u4eba\\\\u54e1(\\\\u6642\\\\u85aa$170\\\\u8d77)\",\"description\":\"1.\\\\u8ca0\\\\u8cac\\\\u4ecb\\\\u7d39\\\\u53ca\\\\u92b7\\\\u552e\\\\u9580\\\\u5e02\\\\u5546\\\\u54c1\\\\u3002 2.\\\\u63d0\\\\u4f9b\\\\u9867\\\\u5ba2\\\\u4e4b\\\\u63a5\\\\u5f85\\\\u8207\\\\u9700\\\\u6c42\\\\u670d\\\\u52d9\\\\uff08\\\\u5982\\\\uff1a\\\\u96fb\\\\u8a71\\\\u8aee\\\\u8a62\\\\u3001\\\\u8abf\\\\u8ca8...\",\"optionEdu\":\"\\\\u5b78\\\\u6b77\\\\u4e0d\\\\u62d8\",\"periodDesc\":\"\\\\u7d93\\\\u6b77\\\\u4e0d\\\\u62d8\",\"custNo\":\"130000000070232\",\"custName\":\"\\\\u6cd5\\\\u6d1b\\\\u5947\\\\u62c9\\\\u6709\\\\u9650\\\\u516c\\\\u53f8\",\"salaryDesc\":\"\\\\u6642\\\\u85aa170~180\\\\u5143\",\"appearDateDesc\":\"12\\\\/21\",\"isSave\":\"0\",\"link\":{\"job\":\"\\\\/\\\\/www.104.com.tw\\\\/job\\\\/5cgrw?jobsource=parttimesector\",\"cust\":\"\\\\/\\\\/www.104.com.tw\\\\/company\\\\/1a2x6bjhi0?jobsource=parttimesector\"},\"jobNameRaw\":\"kila kila [\\\\u53f0\\\\u5317\\\\u4fe1\\\\u7fa9\\\\u5fae\\\\u98a8]\\\\u8a08\\\\u6642\\\\u4eba\\\\u54e1(\\\\u6642\\\\u85aa$170\\\\u8d77)\",\"custNameRaw\":\"\\\\u6cd5\\\\u6d1b\\\\u5947\\\\u62c9\\\\u6709\\\\u9650\\\\u516c\\\\u53f8\",\"lon\":\"121.5667909\",\"lat\":\"25.0405444\"},{\"jobNo\":\"10829590\",\"jobName\":\"\\\\u3010\\\\u53f0\\\\u5317\\\\u838a\\\\u656c\\\\u5e97\\\\u3011pt\\\\u9580\\\\u5e02\\\\u92b7\\\\u552e\",\"description\":\"\\\\u6211\\\\u5011\\\\u662f\\\\u53f0\\\\u5317\\\\u5e02\\\\u5730\\\\u5340\\\\u6df1\\\\u801521\\\\u9031\\\\u5e74\\\\u7684\\\\u70d8\\\\u7119\\\\u54c1\\\\u724cBonjour\\\\u670b\\\\u5eda\\\\uff0c \\\\u5f37\\\\u529b\\\\u5fb5\\\\u6c42\\\\u5132\\\\u5099\\\\u5e79\\\\u90e8\\\\u3001...\",\"optionEdu\":\"\\\\u9ad8\\\\u4e2d\",\"periodDesc\":\"\\\\u7d93\\\\u6b77\\\\u4e0d\\\\u62d8\",\"custNo\":\"24458061000\",\"custName\":\"Bonjour_\\\\u670b\\\\u5eda\\\\u6709\\\\u9650\\\\u516c\\\\u53f8\",\"salaryDesc\":\"\\\\u6642\\\\u85aa160~170\\\\u5143\",\"appearDateDesc\":\"12\\\\/16\",\"isSave\":\"0\",\"link\":{\"job\":\"\\\\/\\\\/www.104.com.tw\\\\/job\\\\/6g45y?jobsource=parttimesector\",\"cust\":\"\\\\/\\\\/www.104.com.tw\\\\/company\\\\/b8hp4nc?jobsource=parttimesector\"},\"jobNameRaw\":\"\\\\u3010\\\\u53f0\\\\u5317\\\\u838a\\\\u656c\\\\u5e97\\\\u3011pt\\\\u9580\\\\u5e02\\\\u92b7\\\\u552e\",\"custNameRaw\":\"Bonjour_\\\\u670b\\\\u5eda\\\\u6709\\\\u9650\\\\u516c\\\\u53f8\",\"lon\":\"121.565372\",\"lat\":\"25.027682\"},{\"jobNo\":\"12352925\",\"jobName\":\"\\\\u3010\\\\u65e5\\\\u5546 \\\\u517c\\\\u8077\\\\u3011 IG\\\\u7de8\\\\u8f2f \\\\u793e\\\\u7fa4\\\\u5c0f\\\\u7de8\\\\u52a9\\\\u7406 \\\\u96fb\\\\u5b50\\\\u5546\\\\u52d9\\\\u52a9\\\\u7406 instagram\",\"description\":\"\\\\u25cf\\\\u5de5\\\\u4f5c\\\\u5167\\\\u5bb9 1.\\\\u4e3b\\\\u8981\\\\u5354\\\\u52a9instagram\\\\u793e\\\\u7fa4\\\\u7d93\\\\u71df\\\\uff1a\\\\u62cd\\\\u651d\\\\u7167\\\\u7247\\\\u3001\\\\u56de\\\\u5fa9\\\\u8a0a\\\\u606f\\\\u3001\\\\u5546\\\\u54c1\\\\u7c21...\",\"optionEdu\":\"\\\\u9ad8\\\\u4e2d\",\"periodDesc\":\"\\\\u7d93\\\\u6b77\\\\u4e0d\\\\u62d8\",\"custNo\":\"130000000053907\",\"custName\":\"\\\\u5929\\\\u5854\\\\u570b\\\\u969b\\\\u6709\\\\u9650\\\\u516c\\\\u53f8\",\"salaryDesc\":\"\\\\u6642\\\\u85aa160\\\\u5143\",\"appearDateDesc\":\"12\\\\/01\",\"isSave\":\"0\",\"link\":{\"job\":\"\\\\/\\\\/www.104.com.tw\\\\/job\\\\/7crkt?jobsource=parttimesector\",\"cust\":\"\\\\/\\\\/www.104.com.tw\\\\/company\\\\/1a2x6bj4wj?jobsource=parttimesector\"},\"jobNameRaw\":\"\\\\u3010\\\\u65e5\\\\u5546 \\\\u517c\\\\u8077\\\\u3011 IG\\\\u7de8\\\\u8f2f \\\\u793e\\\\u7fa4\\\\u5c0f\\\\u7de8\\\\u52a9\\\\u7406 \\\\u96fb\\\\u5b50\\\\u5546\\\\u52d9\\\\u52a9\\\\u7406 instagram\",\"custNameRaw\":\"\\\\u5929\\\\u5854\\\\u570b\\\\u969b\\\\u6709\\\\u9650\\\\u516c\\\\u53f8\",\"lon\":\"121.5561262\",\"lat\":\"25.0403714\"},{\"jobNo\":\"11014226\",\"jobName\":\"\\\\u3010\\\\u53f0\\\\u7063\\\\u677e\\\\u5c4b MATSUYA - \\\\u53f0\\\\u5317\\\\u897f\\\\u9580\\\\u753a\\\\u5e97\\\\u3011\\\\u300a\\\\u5927\\\\u591c\\\\u300b\\\\u5de5\\\\u8b80\\\\/\\\\u517c\\\\u8077\\\\u4eba\\\\u54e1 \\\\u2606\\\\u6642\\\\u85aa\\\\u9054230\\\\u5143\\\\u2606\",\"description\":\"\\\\u203b\\\\u65bc\\\\u897f\\\\u9580\\\\u6377\\\\u904b\\\\u7ad91\\\\u865f\\\\u51fa\\\\u53e3\\\\uff0c\\\\u901a\\\\u52e4\\\\u65b9\\\\u4fbf\\\\uff0c\\\\u4e0b\\\\u73ed\\\\u5f8c\\\\u8cfc\\\\u7269\\\\u65b9\\\\u4fbf\\\\u3002  \\\\u3010\\\\u6b61\\\\u8fce\\\\u60a8\\\\u7684\\\\u52a0\\\\u5165\\\\u3011 \\\\u975e\\\\u5e38\\\\u6b61...\",\"optionEdu\":\"\\\\u5b78\\\\u6b77\\\\u4e0d\\\\u62d8\",\"periodDesc\":\"\\\\u7d93\\\\u6b77\\\\u4e0d\\\\u62d8\",\"custNo\":\"130000000120487\",\"custName\":\"\\\\u65e5\\\\u5546_\\\\u53f0\\\\u7063\\\\u677e\\\\u5c4b\\\\u9910\\\\u98f2\\\\u80a1\\\\u4efd\\\\u6709\\\\u9650\\\\u516c\\\\u53f8\",\"salaryDesc\":\"\\\\u6642\\\\u85aa180~230\\\\u5143\",\"appearDateDesc\":\"12\\\\/16\",\"isSave\":\"0\",\"link\":{\"job\":\"\\\\/\\\\/www.104.com.tw\\\\/job\\\\/6k2mq?jobsource=parttimesector\",\"cust\":\"\\\\/\\\\/www.104.com.tw\\\\/company\\\\/1a2x6bkk9z?jobsource=parttimesector\"},\"jobNameRaw\":\"\\\\u3010\\\\u53f0\\\\u7063\\\\u677e\\\\u5c4b MATSUYA - \\\\u53f0\\\\u5317\\\\u897f\\\\u9580\\\\u753a\\\\u5e97\\\\u3011\\\\u300a\\\\u5927\\\\u591c\\\\u300b\\\\u5de5\\\\u8b80\\\\/\\\\u517c\\\\u8077\\\\u4eba\\\\u54e1 \\\\u2606\\\\u6642\\\\u85aa\\\\u9054230\\\\u5143\\\\u2606\",\"custNameRaw\":\"\\\\u65e5\\\\u5546_\\\\u53f0\\\\u7063\\\\u677e\\\\u5c4b\\\\u9910\\\\u98f2\\\\u80a1\\\\u4efd\\\\u6709\\\\u9650\\\\u516c\\\\u53f8\",\"lon\":\"121.507035\",\"lat\":\"25.041771\"},{\"jobNo\":\"12185106\",\"jobName\":\"\\\\u670d\\\\u88dd\\\\u5e73\\\\u9762\\\\u6a21\\\\u7279\\\\u5152\",\"description\":\"\\\\u670d\\\\u88dd\\\\u54c1\\\\u724c\\\\u7d04\\\\u8058\\\\u670d\\\\u88dd\\\\u6a21\\\\u7279\\\\u5152.\\\\u7d20\\\\u4eba\\\\u7121\\\\u7d93\\\\u9a57\\\\u53ef.\\\\u9577\\\\u76f8\\\\u751c\\\\u7f8e\\\\u597d\\\\u770b.\\\\u8eab\\\\u6750\\\\u52fb\\\\u7a31.\",\"optionEdu\":\"\\\\u9ad8\\\\u4e2d\",\"periodDesc\":\"\\\\u7d93\\\\u6b77\\\\u4e0d\\\\u62d8\",\"custNo\":\"130000000167714\",\"custName\":\"\\\\u5f69\\\\u7ffc\\\\u4e4b\\\\u661f\\\\u4f01\\\\u696d\\\\u793e\",\"salaryDesc\":\"\\\\u6642\\\\u85aa250~400\\\\u5143\",\"appearDateDesc\":\"12\\\\/15\",\"isSave\":\"0\",\"link\":{\"job\":\"\\\\/\\\\/www.104.com.tw\\\\/job\\\\/79636?jobsource=parttimesector\",\"cust\":\"\\\\/\\\\/www.104.com.tw\\\\/company\\\\/1a2x6blkpu?jobsource=parttimesector\"},\"jobNameRaw\":\"\\\\u670d\\\\u88dd\\\\u5e73\\\\u9762\\\\u6a21\\\\u7279\\\\u5152\",\"custNameRaw\":\"\\\\u5f69\\\\u7ffc\\\\u4e4b\\\\u661f\\\\u4f01\\\\u696d\\\\u793e\",\"lon\":\"121.54397\",\"lat\":\"25.041358\"},{\"jobNo\":\"12297920\",\"jobName\":\"Barista \\\\u5496\\\\u5561\\\\u5e2b_\\\\u6642\\\\u85aa\\\\u4eba\\\\u54e1(\\\\u65e9\\\\u73ed&amp;\\\\u5168\\\\u65b0\\\\u57f9\\\\u8a13)\",\"description\":\"Flash Coffee \\\\u5f9e\\\\u65b0\\\\u52a0\\\\u5761\\\\u958b\\\\u59cb\\\\u62d3\\\\u5c55\\\\uff0c\\\\u5728\\\\u6cf0\\\\u570b\\\\u3001\\\\u5370\\\\u5c3c\\\\u548c\\\\u65b0\\\\u52a0\\\\u5761\\\\uff0c\\\\u6211\\\\u5011\\\\u8fc5\\\\u901f\\\\u64f4\\\\u5f35...\",\"optionEdu\":\"\\\\u5c08\\\\u79d1\",\"periodDesc\":\"\\\\u7d93\\\\u6b77\\\\u4e0d\\\\u62d8\",\"custNo\":\"130000000168107\",\"custName\":\"Flash Coffee_\\\\u9583\\\\u96fb\\\\u5496\\\\u5561\\\\u80a1\\\\u4efd\\\\u6709\\\\u9650\\\\u516c\\\\u53f8\",\"salaryDesc\":\"\\\\u6642\\\\u85aa170~200\\\\u5143\",\"appearDateDesc\":\"12\\\\/16\",\"isSave\":\"0\",\"link\":{\"job\":\"\\\\/\\\\/www.104.com.tw\\\\/job\\\\/7bl4w?jobsource=parttimesector\",\"cust\":\"\\\\/\\\\/www.104.com.tw\\\\/company\\\\/1a2x6bll0r?jobsource=parttimesector\"},\"jobNameRaw\":\"Barista \\\\u5496\\\\u5561\\\\u5e2b_\\\\u6642\\\\u85aa\\\\u4eba\\\\u54e1(\\\\u65e9\\\\u73ed&\\\\u5168\\\\u65b0\\\\u57f9\\\\u8a13)\",\"custNameRaw\":\"Flash Coffee_\\\\u9583\\\\u96fb\\\\u5496\\\\u5561\\\\u80a1\\\\u4efd\\\\u6709\\\\u9650\\\\u516c\\\\u53f8\",\"lon\":\"121.5299739\",\"lat\":\"25.0168377\"},{\"jobNo\":\"12430055\",\"jobName\":\"\\\\u517c\\\\u8077\\\\u4eba\\\\u54e1\",\"description\":\"1.\\\\u719f\\\\u6089\\\\u964c\\\\u751f\\\\u958b\\\\u767c\\\\u6280\\\\u5de7\\\\u6216\\\\u52c7\\\\u65bc\\\\u62dc\\\\u8a2a\\\\u6f5b\\\\u5728\\\\u5ba2\\\\u6236(\\\\u542b\\\\u7dda\\\\u4e0a\\\\u53ca\\\\u7dda\\\\u4e0b\\\\u64cd\\\\u4f5c) 2.\\\\u5177\\\\u92b7\\\\u552e\\\\u7d93\\\\u9a57\\\\uff0c\\\\u53ef...\",\"optionEdu\":\"\\\\u5b78\\\\u6b77\\\\u4e0d\\\\u62d8\",\"periodDesc\":\"\\\\u7d93\\\\u6b77\\\\u4e0d\\\\u62d8\",\"custNo\":\"130000000163565\",\"custName\":\"\\\\u5b8c\\\\u7f8e\\\\u7dda\\\\u689d\\\\u5de5\\\\u574a\",\"salaryDesc\":\"\\\\u6642\\\\u85aa180~300\\\\u5143\",\"appearDateDesc\":\"12\\\\/20\",\"isSave\":\"0\",\"link\":{\"job\":\"\\\\/\\\\/www.104.com.tw\\\\/job\\\\/7ef3b?jobsource=parttimesector\",\"cust\":\"\\\\/\\\\/www.104.com.tw\\\\/company\\\\/1a2x6blhil?jobsource=parttimesector\"},\"jobNameRaw\":\"\\\\u517c\\\\u8077\\\\u4eba\\\\u54e1\",\"custNameRaw\":\"\\\\u5b8c\\\\u7f8e\\\\u7dda\\\\u689d\\\\u5de5\\\\u574a\",\"lon\":\"121.5445634\",\"lat\":\"25.0493397\"},{\"jobNo\":\"12358655\",\"jobName\":\"2ndSTREET\\\\u4fe1\\\\u7fa9\\\\u5e02\\\\u5e9c\\\\u5e97-\\\\u9580\\\\u5e02\\\\u92b7\\\\u552e\\\\u4eba\\\\u54e1(\\\\u9577\\\\u671f\\\\u5de5\\\\u8b80\\\\u751f\\\\u6216\\\\u5132\\\\u5099\\\\u6b63\\\\u8077\\\\u5e79\\\\u90e8)\",\"description\":\"\\\\u3010\\\\u61c9\\\\u5fb5\\\\u689d\\\\u4ef6\\\\u3011 \\\\u2605\\\\u6d3b\\\\u6f51\\\\u958b\\\\u6717\\\\u6a02\\\\u89c0\\\\u3001\\\\u5f37\\\\u70c8\\\\u8cac\\\\u4efb\\\\u611f\\\\u3001\\\\u7a4d\\\\u6975\\\\u9032\\\\u53d6\\\\u3002 \\\\u2605\\\\u9762\\\\u5c0d\\\\u5ba2\\\\u4eba\\\\u4e0d\\\\u6613\\\\u7dca\\\\u5f35\\\\u53ca\\\\u602f\\\\u5834...\",\"optionEdu\":\"\\\\u5c08\\\\u79d1\",\"periodDesc\":\"\\\\u7d93\\\\u6b77\\\\u4e0d\\\\u62d8\",\"custNo\":\"130000000146139\",\"custName\":\"2ndSTREET_\\\\u53f0\\\\u7063\\\\u6975\\\\u6c83\\\\u80a1\\\\u4efd\\\\u6709\\\\u9650\\\\u516c\\\\u53f8\",\"salaryDesc\":\"\\\\u6642\\\\u85aa160\\\\u5143\\\\u4ee5\\\\u4e0a\",\"appearDateDesc\":\"12\\\\/16\",\"isSave\":\"0\",\"link\":{\"job\":\"\\\\/\\\\/www.104.com.tw\\\\/job\\\\/7cvzz?jobsource=parttimesector\",\"cust\":\"\\\\/\\\\/www.104.com.tw\\\\/company\\\\/1a2x6bl42j?jobsource=parttimesector\"},\"jobNameRaw\":\"2ndSTREET\\\\u4fe1\\\\u7fa9\\\\u5e02\\\\u5e9c\\\\u5e97-\\\\u9580\\\\u5e02\\\\u92b7\\\\u552e\\\\u4eba\\\\u54e1(\\\\u9577\\\\u671f\\\\u5de5\\\\u8b80\\\\u751f\\\\u6216\\\\u5132\\\\u5099\\\\u6b63\\\\u8077\\\\u5e79\\\\u90e8)\",\"custNameRaw\":\"2ndSTREET_\\\\u53f0\\\\u7063\\\\u6975\\\\u6c83\\\\u80a1\\\\u4efd\\\\u6709\\\\u9650\\\\u516c\\\\u53f8\",\"lon\":\"121.5650669\",\"lat\":\"25.0415863\"},{\"jobNo\":\"12521506\",\"jobName\":\"\\\\u517c\\\\u8077\\\\u83ef\\\\u8a9e \\\\/ \\\\u82f1\\\\u8a9e\\\\u6559\\\\u5e2b\",\"description\":\"\\\\u3010\\\\u5de5\\\\u4f5c\\\\u5167\\\\u5bb9\\\\u3011  \\\\u5229\\\\u7528\\\\u7dda\\\\u4e0a\\\\u6559\\\\u5b78\\\\u8edf\\\\u9ad4\\\\u6559\\\\u6388\\\\u65e5\\\\u672c\\\\u9ad8\\\\u4e2d\\\\u751f\\\\u83ef\\\\u8a9e\\\\/\\\\u82f1\\\\u8a9e \\\\u53ca \\\\u8ca0\\\\u8cac\\\\u8207\\\\u83ef\\\\u8a9e\\\\/\\\\u82f1\\\\u8a9e...\",\"optionEdu\":\"\\\\u5927\\\\u5b78\",\"periodDesc\":\"\\\\u7d93\\\\u6b77\\\\u4e0d\\\\u62d8\",\"custNo\":\"130000000147580\",\"custName\":\"\\\\u53f0\\\\u7063\\\\u6b21\\\\u4e16\\\\u4ee3\\\\u6559\\\\u80b2\\\\u6709\\\\u9650\\\\u516c\\\\u53f8\",\"salaryDesc\":\"\\\\u6642\\\\u85aa250~400\\\\u5143\",\"appearDateDesc\":\"11\\\\/24\",\"isSave\":\"0\",\"link\":{\"job\":\"\\\\/\\\\/www.104.com.tw\\\\/job\\\\/7gdnm?jobsource=parttimesector\",\"cust\":\"\\\\/\\\\/www.104.com.tw\\\\/company\\\\/1a2x6bl56k?jobsource=parttimesector\"},\"jobNameRaw\":\"\\\\u517c\\\\u8077\\\\u83ef\\\\u8a9e \\\\/ \\\\u82f1\\\\u8a9e\\\\u6559\\\\u5e2b\",\"custNameRaw\":\"\\\\u53f0\\\\u7063\\\\u6b21\\\\u4e16\\\\u4ee3\\\\u6559\\\\u80b2\\\\u6709\\\\u9650\\\\u516c\\\\u53f8\",\"lon\":\"121.5198716\",\"lat\":\"25.0421407\"},{\"jobNo\":\"11125140\",\"jobName\":\"\\\\u6b61\\\\u8fce\\\\u65e9\\\\u73ed\\\\/\\\\u5047\\\\u65e5\\\\u73ed!!\\\\u3010\\\\u65e5\\\\u5546\\\\u85cf\\\\u58fd\\\\u53f8\\\\u3011\\\\u6c38\\\\u548c\\\\u6bd4\\\\u6f3e\\\\u5e97-(\\\\u6b61\\\\u8fce\\\\u4e2d\\\\u9ad8\\\\u9f61\\\\u3001\\\\u5916\\\\u7c4d\\\\u5b78\\\\u751f\\\\u3001\\\\u65b0\\\\u4f4f\\\\u6c11)\\\\u5167\\\\u5916\\\\u5834\\\\u8a08\\\\u6642\\\\u4eba\\\\u54e1(\\\\u6642\\\\u85aa180~210\\\\u5143\\\\u5594!!)\",\"description\":\"\\\\u25c6\\\\u6b61\\\\u8fce\\\\u4e2d\\\\u9ad8\\\\u9f61\\\\u3001\\\\u5916\\\\u7c4d\\\\u5b78\\\\u751f\\\\u3001\\\\u65b0\\\\u4f4f\\\\u6c11\\\\u3001\\\\u659c\\\\u69d3\\\\u4eba\\\\u624d\\\\uff01\\\\uff01 \\\\u25c6\\\\u7121\\\\u7d93\\\\u9a57\\\\u53ef\\\\uff01\\\\u900f\\\\u904e\\\\u670d\\\\u52d9\\\\u50b3\\\\u905e\\\\u5feb\\\\u6a02\\\\u7684\\\\u5de5...\",\"optionEdu\":\"\\\\u5b78\\\\u6b77\\\\u4e0d\\\\u62d8\",\"periodDesc\":\"\\\\u7d93\\\\u6b77\\\\u4e0d\\\\u62d8\",\"custNo\":\"130000000045843\",\"custName\":\"\\\\u65e5\\\\u5546_\\\\u4e9e\\\\u6d32\\\\u85cf\\\\u58fd\\\\u53f8\\\\u80a1\\\\u4efd\\\\u6709\\\\u9650\\\\u516c\\\\u53f8\",\"salaryDesc\":\"\\\\u6642\\\\u85aa180~210\\\\u5143\",\"appearDateDesc\":\"12\\\\/15\",\"isSave\":\"0\",\"link\":{\"job\":\"\\\\/\\\\/www.104.com.tw\\\\/job\\\\/6mg7o?jobsource=parttimesector\",\"cust\":\"\\\\/\\\\/www.104.com.tw\\\\/company\\\\/1a2x6biyoj?jobsource=parttimesector\"},\"jobNameRaw\":\"\\\\u6b61\\\\u8fce\\\\u65e9\\\\u73ed\\\\/\\\\u5047\\\\u65e5\\\\u73ed!!\\\\u3010\\\\u65e5\\\\u5546\\\\u85cf\\\\u58fd\\\\u53f8\\\\u3011\\\\u6c38\\\\u548c\\\\u6bd4\\\\u6f3e\\\\u5e97-(\\\\u6b61\\\\u8fce\\\\u4e2d\\\\u9ad8\\\\u9f61\\\\u3001\\\\u5916\\\\u7c4d\\\\u5b78\\\\u751f\\\\u3001\\\\u65b0\\\\u4f4f\\\\u6c11)\\\\u5167\\\\u5916\\\\u5834\\\\u8a08\\\\u6642\\\\u4eba\\\\u54e1(\\\\u6642\\\\u85aa180~210\\\\u5143\\\\u5594!!)\",\"custNameRaw\":\"\\\\u65e5\\\\u5546_\\\\u4e9e\\\\u6d32\\\\u85cf\\\\u58fd\\\\u53f8\\\\u80a1\\\\u4efd\\\\u6709\\\\u9650\\\\u516c\\\\u53f8\",\"lon\":\"121.5074128\",\"lat\":\"25.007907\"},{\"jobNo\":\"12528078\",\"jobName\":\"\\\\u5be6\\\\u7fd2\\\\u751f\",\"description\":\"\\\\u5de5\\\\u4f5c\\\\u5167\\\\u5bb9\\\\uff1a 1.\\\\u5354\\\\u52a9\\\\u516c\\\\u53f8\\\\u7db2\\\\u7d05\\\\u806f\\\\u7e6b\\\\u8207\\\\u7dad\\\\u904b 2.\\\\u5354\\\\u52a9\\\\u516c\\\\u53f8\\\\u6d3b\\\\u52d5\\\\u53ca\\\\u4f01\\\\u5283\\\\u767c\\\\u60f3 3.\\\\u5354\\\\u52a9\\\\u516c...\",\"optionEdu\":\"\\\\u9ad8\\\\u4e2d\",\"periodDesc\":\"\\\\u7d93\\\\u6b77\\\\u4e0d\\\\u62d8\",\"custNo\":\"130000000163656\",\"custName\":\"\\\\u611b\\\\u64ad\\\\u8cc7\\\\u8a0a\\\\u80a1\\\\u4efd\\\\u6709\\\\u9650\\\\u516c\\\\u53f8\",\"salaryDesc\":\"\\\\u6642\\\\u85aa160~180\\\\u5143\",\"appearDateDesc\":\"12\\\\/20\",\"isSave\":\"0\",\"link\":{\"job\":\"\\\\/\\\\/www.104.com.tw\\\\/job\\\\/7giq6?jobsource=parttimesector\",\"cust\":\"\\\\/\\\\/www.104.com.tw\\\\/company\\\\/1a2x6blhl4?jobsource=parttimesector\"},\"jobNameRaw\":\"\\\\u5be6\\\\u7fd2\\\\u751f\",\"custNameRaw\":\"\\\\u611b\\\\u64ad\\\\u8cc7\\\\u8a0a\\\\u80a1\\\\u4efd\\\\u6709\\\\u9650\\\\u516c\\\\u53f8\",\"lon\":\"121.5461303\",\"lat\":\"25.0419293\"},{\"jobNo\":\"12067146\",\"jobName\":\"Marketing Intern \\\\u884c\\\\u92b7\\\\u5be6\\\\u7fd2\\\\u751f\",\"description\":\"Responsibilities:  \\\\u2022 Assist activation ...\",\"optionEdu\":\"\\\\u5c08\\\\u79d1\",\"periodDesc\":\"\\\\u7d93\\\\u6b77\\\\u4e0d\\\\u62d8\",\"custNo\":\"130000000098870\",\"custName\":\"Lalamove\\\\u5566\\\\u5566\\\\u5feb\\\\u9001_\\\\u5c0f\\\\u8702\\\\u9ce5\\\\u570b\\\\u969b\\\\u7269\\\\u6d41\\\\u6709\\\\u9650\\\\u516c\\\\u53f8\",\"salaryDesc\":\"\\\\u6642\\\\u85aa170\\\\u5143\",\"appearDateDesc\":\"12\\\\/18\",\"isSave\":\"0\",\"link\":{\"job\":\"\\\\/\\\\/www.104.com.tw\\\\/job\\\\/76n2i?jobsource=parttimesector\",\"cust\":\"\\\\/\\\\/www.104.com.tw\\\\/company\\\\/1a2x6bk3li?jobsource=parttimesector\"},\"jobNameRaw\":\"Marketing Intern \\\\u884c\\\\u92b7\\\\u5be6\\\\u7fd2\\\\u751f\",\"custNameRaw\":\"Lalamove\\\\u5566\\\\u5566\\\\u5feb\\\\u9001_\\\\u5c0f\\\\u8702\\\\u9ce5\\\\u570b\\\\u969b\\\\u7269\\\\u6d41\\\\u6709\\\\u9650\\\\u516c\\\\u53f8\",\"lon\":\"121.5580501\",\"lat\":\"25.0498643\"},{\"jobNo\":\"12192634\",\"jobName\":\"\\\\u3010\\\\u53f0\\\\u5317\\\\u8aa0\\\\u54c1\\\\u4fe1\\\\u7fa9\\\\u3011pt\\\\u9580\\\\u5e02\\\\u92b7\\\\u552e\",\"description\":\"\\\\u6211\\\\u5011\\\\u662f\\\\u53f0\\\\u5317\\\\u5e02\\\\u5730\\\\u5340\\\\u6df1\\\\u801521\\\\u9031\\\\u5e74\\\\u7684\\\\u70d8\\\\u7119\\\\u54c1\\\\u724cBonjour\\\\u670b\\\\u5eda\\\\uff0c \\\\u5f37\\\\u529b\\\\u5fb5\\\\u6c42\\\\u5132\\\\u5099\\\\u5e79\\\\u90e8\\\\u3001...\",\"optionEdu\":\"\\\\u5b78\\\\u6b77\\\\u4e0d\\\\u62d8\",\"periodDesc\":\"1\\\\u5e74\\\\u4ee5\\\\u4e0a\",\"custNo\":\"24458061000\",\"custName\":\"Bonjour_\\\\u670b\\\\u5eda\\\\u6709\\\\u9650\\\\u516c\\\\u53f8\",\"salaryDesc\":\"\\\\u6642\\\\u85aa160~169\\\\u5143\",\"appearDateDesc\":\"12\\\\/16\",\"isSave\":\"0\",\"link\":{\"job\":\"\\\\/\\\\/www.104.com.tw\\\\/job\\\\/79bwa?jobsource=parttimesector\",\"cust\":\"\\\\/\\\\/www.104.com.tw\\\\/company\\\\/b8hp4nc?jobsource=parttimesector\"},\"jobNameRaw\":\"\\\\u3010\\\\u53f0\\\\u5317\\\\u8aa0\\\\u54c1\\\\u4fe1\\\\u7fa9\\\\u3011pt\\\\u9580\\\\u5e02\\\\u92b7\\\\u552e\",\"custNameRaw\":\"Bonjour_\\\\u670b\\\\u5eda\\\\u6709\\\\u9650\\\\u516c\\\\u53f8\",\"lon\":\"121.5658739\",\"lat\":\"25.0397197\"},{\"jobNo\":\"8966393\",\"jobName\":\"\\\\u9577\\\\u671f\\\\u5de5\\\\u8b80\\\\u751f\",\"description\":\"1.\\\\u672c\\\\u793e\\\\u539f\\\\u70ba\\\\u5b78\\\\u8853\\\\u6027\\\\u51fa\\\\u7248\\\\u793e\\\\uff0c\\\\u6210\\\\u7acb\\\\u65bc1998\\\\u5e74\\\\uff0c\\\\u81ea\\\\u53bb\\\\u5e742015\\\\u4eca\\\\u5e742\\\\u6708\\\\u958b\\\\u59cb\\\\u51fa\\\\u7248\\\\u5152\\\\u7ae5...\",\"optionEdu\":\"\\\\u5927\\\\u5b78\",\"periodDesc\":\"\\\\u7d93\\\\u6b77\\\\u4e0d\\\\u62d8\",\"custNo\":\"13118544000\",\"custName\":\"\\\\u97cb\\\\u4f2f\\\\u6587\\\\u5316\\\\u570b\\\\u969b\\\\u51fa\\\\u7248\\\\u6709\\\\u9650\\\\u516c\\\\u53f8\",\"salaryDesc\":\"\\\\u6642\\\\u85aa165~170\\\\u5143\",\"appearDateDesc\":\"12\\\\/20\",\"isSave\":\"0\",\"link\":{\"job\":\"\\\\/\\\\/www.104.com.tw\\\\/job\\\\/5c6ih?jobsource=parttimesector\",\"cust\":\"\\\\/\\\\/www.104.com.tw\\\\/company\\\\/60yfxc0?jobsource=parttimesector\"},\"jobNameRaw\":\"\\\\u9577\\\\u671f\\\\u5de5\\\\u8b80\\\\u751f\",\"custNameRaw\":\"\\\\u97cb\\\\u4f2f\\\\u6587\\\\u5316\\\\u570b\\\\u969b\\\\u51fa\\\\u7248\\\\u6709\\\\u9650\\\\u516c\\\\u53f8\",\"lon\":\"121.5158301\",\"lat\":\"25.0159443\"},{\"jobNo\":\"8304605\",\"jobName\":\"\\\\u8a08\\\\u6642\\\\u4eba\\\\u54e1(\\\\u897f\\\\u9580\\\\u9580\\\\u5e02)\",\"description\":\" 1.\\\\u8ca0\\\\u8cac\\\\u4ecb\\\\u7d39\\\\u53ca\\\\u92b7\\\\u552e\\\\u9580\\\\u5e02\\\\u5546\\\\u54c1\\\\u3002 2.\\\\u63d0\\\\u4f9b\\\\u9867\\\\u5ba2\\\\u4e4b\\\\u63a5\\\\u5f85\\\\u8207\\\\u9700\\\\u6c42\\\\u670d\\\\u52d9\\\\uff08\\\\u5982\\\\uff1a\\\\u96fb\\\\u8a71\\\\u8aee\\\\u8a62\\\\u3001\\\\u8abf...\",\"optionEdu\":\"\\\\u9ad8\\\\u4e2d\",\"periodDesc\":\"1\\\\u5e74\\\\u4ee5\\\\u4e0a\",\"custNo\":\"130000000069306\",\"custName\":\"Sweet_\\\\u91c7\\\\u4f9d\\\\u570b\\\\u969b\\\\u670d\\\\u98fe\\\\u6709\\\\u9650\\\\u516c\\\\u53f8\",\"salaryDesc\":\"\\\\u6642\\\\u85aa160\\\\u5143\",\"appearDateDesc\":\"12\\\\/20\",\"isSave\":\"0\",\"link\":{\"job\":\"\\\\/\\\\/www.104.com.tw\\\\/job\\\\/4xzvh?jobsource=parttimesector\",\"cust\":\"\\\\/\\\\/www.104.com.tw\\\\/company\\\\/1a2x6bjgsa?jobsource=parttimesector\"},\"jobNameRaw\":\"\\\\u8a08\\\\u6642\\\\u4eba\\\\u54e1(\\\\u897f\\\\u9580\\\\u9580\\\\u5e02)\",\"custNameRaw\":\"Sweet_\\\\u91c7\\\\u4f9d\\\\u570b\\\\u969b\\\\u670d\\\\u98fe\\\\u6709\\\\u9650\\\\u516c\\\\u53f8\",\"lon\":\"121.5064035\",\"lat\":\"25.0448351\"},{\"jobNo\":\"11361213\",\"jobName\":\"\\\\u9577\\\\u671f\\\\u914d\\\\u5408\\\\u5f71\\\\u50cf\\\\u5f8c\\\\u88fd\\\\u4eba\\\\u54e1\\\\uff08\\\\u526a\\\\u63a5\\\\u5e2b\\\\uff09\",\"description\":\"\\\\u9700\\\\u64c5\\\\u9577\\\\u696d\\\\u754c\\\\u901a\\\\u7528\\\\u526a\\\\u8f2f\\\\u8edf\\\\u9ad4\\\\uff0c\\\\u4ee5\\\\u53ca\\\\u7d93\\\\u9a57\\\\u8c50\\\\u5bcc\\\\u4e14\\\\u6709\\\\u4f5c\\\\u54c1\\\\u96c6\",\"optionEdu\":\"\\\\u5b78\\\\u6b77\\\\u4e0d\\\\u62d8\",\"periodDesc\":\"\\\\u7d93\\\\u6b77\\\\u4e0d\\\\u62d8\",\"custNo\":\"130000000141088\",\"custName\":\"\\\\u5f71\\\\u9b54\\\\u6cd5\\\\u50b3\\\\u64ad\\\\u6709\\\\u9650\\\\u516c\\\\u53f8\",\"salaryDesc\":\"\\\\u6642\\\\u85aa1,000~50,000\\\\u5143\",\"appearDateDesc\":\"12\\\\/20\",\"isSave\":\"0\",\"link\":{\"job\":\"\\\\/\\\\/www.104.com.tw\\\\/job\\\\/6rid9?jobsource=parttimesector\",\"cust\":\"\\\\/\\\\/www.104.com.tw\\\\/company\\\\/1a2x6bl068?jobsource=parttimesector\"},\"jobNameRaw\":\"\\\\u9577\\\\u671f\\\\u914d\\\\u5408\\\\u5f71\\\\u50cf\\\\u5f8c\\\\u88fd\\\\u4eba\\\\u54e1\\\\uff08\\\\u526a\\\\u63a5\\\\u5e2b\\\\uff09\",\"custNameRaw\":\"\\\\u5f71\\\\u9b54\\\\u6cd5\\\\u50b3\\\\u64ad\\\\u6709\\\\u9650\\\\u516c\\\\u53f8\",\"lon\":\"121.5053835\",\"lat\":\"24.9930029\"},{\"jobNo\":\"12516380\",\"jobName\":\"\\\\u5916\\\\u5546 - SAT\\\\/ACT\\\\/CBSE \\\\u6578\\\\u5b78\\\\u51fa\\\\u984c\\\\u8001\\\\u5e2b\\\\uff08\\\\u5168\\\\u9060\\\\u7aef\\\\uff09\",\"description\":\"\\\\u662f\\\\u5426\\\\u975e\\\\u5e38\\\\u56ae\\\\u5f80\\\\u4e0d\\\\u53d7\\\\u6642\\\\u9593\\\\u8207\\\\u7a7a\\\\u9593\\\\u62d8\\\\u675f\\\\u7684\\\\u4f01\\\\u696d\\\\u5236\\\\u5ea6\\\\uff1f\\\\u6c92\\\\u932f\\\\uff01 \\\\u4f86\\\\u81ea\\\\u77fd\\\\u8c37\\\\u8207\\\\u7d10\\\\u7d04\\\\u7684\\\\u65b0\\\\u5275\\\\u516c\\\\u53f8\\\\uff0c\\\\u8df3...\",\"optionEdu\":\"\\\\u5c08\\\\u79d1\",\"periodDesc\":\"1\\\\u5e74\\\\u4ee5\\\\u4e0a\",\"custNo\":\"130000000102404\",\"custName\":\"\\\\u5403\\\\u9999\\\\u559d\\\\u8fa3\\\\u79d1\\\\u6280\\\\u80a1\\\\u4efd\\\\u6709\\\\u9650\\\\u516c\\\\u53f8\",\"salaryDesc\":\"\\\\u6642\\\\u85aa160~300\\\\u5143\",\"appearDateDesc\":\"12\\\\/15\",\"isSave\":\"0\",\"link\":{\"job\":\"\\\\/\\\\/www.104.com.tw\\\\/job\\\\/7g9p8?jobsource=parttimesector\",\"cust\":\"\\\\/\\\\/www.104.com.tw\\\\/company\\\\/1a2x6bk6bo?jobsource=parttimesector\"},\"jobNameRaw\":\"\\\\u5916\\\\u5546 - SAT\\\\/ACT\\\\/CBSE \\\\u6578\\\\u5b78\\\\u51fa\\\\u984c\\\\u8001\\\\u5e2b\\\\uff08\\\\u5168\\\\u9060\\\\u7aef\\\\uff09\",\"custNameRaw\":\"\\\\u5403\\\\u9999\\\\u559d\\\\u8fa3\\\\u79d1\\\\u6280\\\\u80a1\\\\u4efd\\\\u6709\\\\u9650\\\\u516c\\\\u53f8\",\"lon\":\"121.5433783\",\"lat\":\"25.0249441\"},{\"jobNo\":\"12461334\",\"jobName\":\"\\\\u3010\\\\u5b78\\\\u751f\\\\u5be6\\\\u7fd2\\\\u3011\\\\u5b98\\\\u7db2\\\\u8207\\\\u793e\\\\u7fa4\\\\u7d93\\\\u71df\\\\u5be6\\\\u7fd2\\\\u751f\",\"description\":\"\\\\u55e8~~ \\\\u6211\\\\u5011\\\\u958b\\\\u59cb\\\\u62db\\\\u5be6\\\\u7fd2\\\\u751f\\\\u5566\\\\uff0c\\\\u4ee5\\\\u4e0b\\\\u662f\\\\u76f8\\\\u95dc\\\\u689d\\\\u4ef6\\\\uff0c\\\\u5343\\\\u842c\\\\u4e0d\\\\u8981\\\\u932f\\\\u904e\\\\uff01 1.\\\\u667a\\\\u80fd\\\\u5546\\\\u52d9\\\\u89e3\\\\u6c7a\\\\u65b9...\",\"optionEdu\":\"\\\\u78a9\\\\u58eb\",\"periodDesc\":\"\\\\u7d93\\\\u6b77\\\\u4e0d\\\\u62d8\",\"custNo\":\"12681641000\",\"custName\":\"\\\\u7db2\\\\u8a0a\\\\u96fb\\\\u901a\\\\u80a1\\\\u4efd\\\\u6709\\\\u9650\\\\u516c\\\\u53f8\",\"salaryDesc\":\"\\\\u6642\\\\u85aa168~200\\\\u5143\",\"appearDateDesc\":\"12\\\\/15\",\"isSave\":\"0\",\"link\":{\"job\":\"\\\\/\\\\/www.104.com.tw\\\\/job\\\\/7f386?jobsource=parttimesector\",\"cust\":\"\\\\/\\\\/www.104.com.tw\\\\/company\\\\/5tqbktk?jobsource=parttimesector\"},\"jobNameRaw\":\"\\\\u3010\\\\u5b78\\\\u751f\\\\u5be6\\\\u7fd2\\\\u3011\\\\u5b98\\\\u7db2\\\\u8207\\\\u793e\\\\u7fa4\\\\u7d93\\\\u71df\\\\u5be6\\\\u7fd2\\\\u751f\",\"custNameRaw\":\"\\\\u7db2\\\\u8a0a\\\\u96fb\\\\u901a\\\\u80a1\\\\u4efd\\\\u6709\\\\u9650\\\\u516c\\\\u53f8\",\"lon\":\"121.5663769\",\"lat\":\"25.0477494\"},{\"jobNo\":\"12529899\",\"jobName\":\"\\\\u3010\\\\u793e\\\\u7fa4\\\\u884c\\\\u92b7\\\\u5de5\\\\u8b80\\\\u751f\\\\u3011#\\\\u96fb\\\\u5546\\\\u5de5\\\\u8b80 #\\\\u884c\\\\u92b7\\\\u5de5\\\\u8b80 #\\\\u793e\\\\u7fa4\\\\u884c\\\\u92b7\",\"description\":\"\\\\u3010\\\\u8077\\\\u4f4d\\\\u4ecb\\\\u7d39\\\\u3011 \\\\u4e00\\\\u7fa4\\\\u5145\\\\u6eff\\\\u71b1\\\\u60c5\\\\u3001\\\\u6d3b\\\\u529b\\\\u3001\\\\u6709\\\\u5275\\\\u610f\\\\u7684\\\\u8166\\\\u888b\\\\uff0c\\\\u900f\\\\u904e\\\\u8cbc\\\\u6587\\\\u3001\\\\u76f4\\\\u64ad\\\\u3001\\\\u7dda\\\\u4e0a\\\\u7dda\\\\u4e0b\\\\u7684\\\\u6d3b\\\\u52d5...\",\"optionEdu\":\"\\\\u9ad8\\\\u4e2d\",\"periodDesc\":\"\\\\u7d93\\\\u6b77\\\\u4e0d\\\\u62d8\",\"custNo\":\"130000000014086\",\"custName\":\"\\\\u9017\\\\u5bf6\\\\u570b\\\\u969b\\\\u6709\\\\u9650\\\\u516c\\\\u53f8\",\"salaryDesc\":\"\\\\u6642\\\\u85aa160\\\\u5143\",\"appearDateDesc\":\"12\\\\/20\",\"isSave\":\"0\",\"link\":{\"job\":\"\\\\/\\\\/www.104.com.tw\\\\/job\\\\/7gk4r?jobsource=parttimesector\",\"cust\":\"\\\\/\\\\/www.104.com.tw\\\\/company\\\\/1a2x6bia6e?jobsource=parttimesector\"},\"jobNameRaw\":\"\\\\u3010\\\\u793e\\\\u7fa4\\\\u884c\\\\u92b7\\\\u5de5\\\\u8b80\\\\u751f\\\\u3011#\\\\u96fb\\\\u5546\\\\u5de5\\\\u8b80 #\\\\u884c\\\\u92b7\\\\u5de5\\\\u8b80 #\\\\u793e\\\\u7fa4\\\\u884c\\\\u92b7\",\"custNameRaw\":\"\\\\u9017\\\\u5bf6\\\\u570b\\\\u969b\\\\u6709\\\\u9650\\\\u516c\\\\u53f8\",\"lon\":\"121.558333\",\"lat\":\"25.03287\"},{\"jobNo\":\"10788385\",\"jobName\":\"\\\\u3010\\\\u8aa0\\\\u5fb5\\\\u3011\\\\u6587\\\\u5c71\\\\u5340\\\\u570b\\\\u5c0f\\\\u4f4e\\\\u5e74\\\\u7d1a\\\\u8ab2\\\\u5f8c\\\\u7167\\\\u9867\\\\u8001\\\\u5e2b(\\\\u517c\\\\u8077)\",\"description\":\"\\\\u6307\\\\u5c0e\\\\u5b69\\\\u7ae5\\\\u5b8c\\\\u6210\\\\u5b78\\\\u6821\\\\u4f5c\\\\u696d\\\\u517c\\\\u5177\\\\u8eab\\\\u5fc3\\\\u7167\\\\u9867 \",\"optionEdu\":\"\\\\u5c08\\\\u79d1\",\"periodDesc\":\"2\\\\u5e74\\\\u4ee5\\\\u4e0a\",\"custNo\":\"130000000041252\",\"custName\":\"\\\\u81fa\\\\u5317\\\\u5e02\\\\u611b\\\\u9130\\\\u80b2\\\\u5e7c\\\\u5354\\\\u6703\",\"salaryDesc\":\"\\\\u6642\\\\u85aa200~350\\\\u5143\",\"appearDateDesc\":\"12\\\\/18\",\"isSave\":\"0\",\"link\":{\"job\":\"\\\\/\\\\/www.104.com.tw\\\\/job\\\\/6f8dd?jobsource=parttimesector\",\"cust\":\"\\\\/\\\\/www.104.com.tw\\\\/company\\\\/1a2x6biv50?jobsource=parttimesector\"},\"jobNameRaw\":\"\\\\u3010\\\\u8aa0\\\\u5fb5\\\\u3011\\\\u6587\\\\u5c71\\\\u5340\\\\u570b\\\\u5c0f\\\\u4f4e\\\\u5e74\\\\u7d1a\\\\u8ab2\\\\u5f8c\\\\u7167\\\\u9867\\\\u8001\\\\u5e2b(\\\\u517c\\\\u8077)\",\"custNameRaw\":\"\\\\u81fa\\\\u5317\\\\u5e02\\\\u611b\\\\u9130\\\\u80b2\\\\u5e7c\\\\u5354\\\\u6703\",\"lon\":\"121.57125\",\"lat\":\"24.9929212\"},{\"jobNo\":\"12429625\",\"jobName\":\"\\\\u300cSanka \\\\u53c2\\\\u52a0\\\\u300d\\\\u540c\\\\u6a02\\\\u9054\\\\u4eba\\\\uff08\\\\u6708\\\\u6536\\\\u6709\\\\u6a5f\\\\u6703\\\\u90546\\\\u4f4d\\\\u6578\\\\uff09\",\"description\":\"Sanka \\\\u2014 \\\\u53f0\\\\u7063\\\\u9996\\\\u5275\\\\u300c\\\\u805a\\\\u6703\\\\u540c\\\\u6a02\\\\u5a92\\\\u5408\\\\u300d\\\\u5e73\\\\u53f0 \\\\u5f37\\\\u529b\\\\u52df\\\\u96c6\\\\u540c\\\\u6a02\\\\u9054\\\\u4eba\\\\uff01  \\\\u611b\\\\u804a\\\\u5929- ...\",\"optionEdu\":\"\\\\u5b78\\\\u6b77\\\\u4e0d\\\\u62d8\",\"periodDesc\":\"\\\\u7d93\\\\u6b77\\\\u4e0d\\\\u62d8\",\"custNo\":\"130000000119929\",\"custName\":\"\\\\u70cf\\\\u6258\\\\u90a6\\\\u570b\\\\u969b\\\\u6709\\\\u9650\\\\u516c\\\\u53f8\",\"salaryDesc\":\"\\\\u6642\\\\u85aa1,200~9,000\\\\u5143\",\"appearDateDesc\":\"12\\\\/20\",\"isSave\":\"0\",\"link\":{\"job\":\"\\\\/\\\\/www.104.com.tw\\\\/job\\\\/7eerd?jobsource=parttimesector\",\"cust\":\"\\\\/\\\\/www.104.com.tw\\\\/company\\\\/1a2x6bkjuh?jobsource=parttimesector\"},\"jobNameRaw\":\"\\\\u300cSanka \\\\u53c2\\\\u52a0\\\\u300d\\\\u540c\\\\u6a02\\\\u9054\\\\u4eba\\\\uff08\\\\u6708\\\\u6536\\\\u6709\\\\u6a5f\\\\u6703\\\\u90546\\\\u4f4d\\\\u6578\\\\uff09\",\"custNameRaw\":\"\\\\u70cf\\\\u6258\\\\u90a6\\\\u570b\\\\u969b\\\\u6709\\\\u9650\\\\u516c\\\\u53f8\",\"lon\":\"121.5720055\",\"lat\":\"25.0409201\"},{\"jobNo\":\"12108108\",\"jobName\":\"\\\\u624b\\\\u4f5cDIY\\\\u6307\\\\u5c0e\\\\u8001\\\\u5e2b(\\\\u5de5\\\\u8b80)(SOGO\\\\u5fe0\\\\u5b5d\\\\u5e97) \",\"description\":\"1.\\\\u6559\\\\u5c0e\\\\u5152\\\\u7ae5\\\\u591a\\\\u5a92\\\\u6750\\\\u624b\\\\u4f5c\\\\u6559\\\\u5b78\\\\u3002 2.\\\\u89aa\\\\u548c\\\\u529b\\\\u5f37\\\\uff0c\\\\u6709\\\\u8010\\\\u5fc3\\\\uff0c\\\\u5177\\\\u670d\\\\u52d9\\\\u71b1\\\\u5ff1\\\\u3002  3.\\\\u6e9d\\\\u901a\\\\u53ca...\",\"optionEdu\":\"\\\\u5c08\\\\u79d1\",\"periodDesc\":\"1\\\\u5e74\\\\u4ee5\\\\u4e0a\",\"custNo\":\"130000000165026\",\"custName\":\"\\\\u54c8\\\\u76ae\\\\u6a02\\\\u5712\\\\u6709\\\\u9650\\\\u516c\\\\u53f8\",\"salaryDesc\":\"\\\\u6642\\\\u85aa160~200\\\\u5143\",\"appearDateDesc\":\"12\\\\/21\",\"isSave\":\"0\",\"link\":{\"job\":\"\\\\/\\\\/www.104.com.tw\\\\/job\\\\/77ioc?jobsource=parttimesector\",\"cust\":\"\\\\/\\\\/www.104.com.tw\\\\/company\\\\/1a2x6blin6?jobsource=parttimesector\"},\"jobNameRaw\":\"\\\\u624b\\\\u4f5cDIY\\\\u6307\\\\u5c0e\\\\u8001\\\\u5e2b(\\\\u5de5\\\\u8b80)(SOGO\\\\u5fe0\\\\u5b5d\\\\u5e97) \",\"custNameRaw\":\"\\\\u54c8\\\\u76ae\\\\u6a02\\\\u5712\\\\u6709\\\\u9650\\\\u516c\\\\u53f8\",\"lon\":\"121.5448835\",\"lat\":\"25.0419205\"},{\"jobNo\":\"12461751\",\"jobName\":\"Lady M \\\\u9577\\\\u671f\\\\u6642\\\\u85aa\\\\u5236\\\\u5de5\\\\u8b80\\\\u751f\\\\u3010\\\\u53f0\\\\u5317\\\\u5730\\\\u5340\\\\u3011(\\\\u6642\\\\u85aa170\\\\u5143~180\\\\u5143)\",\"description\":\"1. \\\\u63a5\\\\u5f85\\\\u53ca\\\\u670d\\\\u52d9\\\\u9867\\\\u5ba2\\\\u3002  2. \\\\u5546\\\\u54c1\\\\u9673\\\\u5217\\\\u3001\\\\u7dad\\\\u6301\\\\u5e97\\\\u6ac3\\\\u5167\\\\u8212\\\\u9069\\\\u6574\\\\u6f54\\\\u7684\\\\u8cfc\\\\u7269\\\\u74b0\\\\u5883\\\\u3002 3....\",\"optionEdu\":\"\\\\u9ad8\\\\u4e2d\",\"periodDesc\":\"\\\\u7d93\\\\u6b77\\\\u4e0d\\\\u62d8\",\"custNo\":\"130000000094770\",\"custName\":\"Lady M_\\\\u4e9e\\\\u831c\\\\u80a1\\\\u4efd\\\\u6709\\\\u9650\\\\u516c\\\\u53f8\",\"salaryDesc\":\"\\\\u6642\\\\u85aa170~180\\\\u5143\",\"appearDateDesc\":\"12\\\\/19\",\"isSave\":\"0\",\"link\":{\"job\":\"\\\\/\\\\/www.104.com.tw\\\\/job\\\\/7f3jr?jobsource=parttimesector\",\"cust\":\"\\\\/\\\\/www.104.com.tw\\\\/company\\\\/1a2x6bk0fm?jobsource=parttimesector\"},\"jobNameRaw\":\"Lady M \\\\u9577\\\\u671f\\\\u6642\\\\u85aa\\\\u5236\\\\u5de5\\\\u8b80\\\\u751f\\\\u3010\\\\u53f0\\\\u5317\\\\u5730\\\\u5340\\\\u3011(\\\\u6642\\\\u85aa170\\\\u5143~180\\\\u5143)\",\"custNameRaw\":\"Lady M_\\\\u4e9e\\\\u831c\\\\u80a1\\\\u4efd\\\\u6709\\\\u9650\\\\u516c\\\\u53f8\",\"lon\":\"121.5560216\",\"lat\":\"25.0388319\"},{\"jobNo\":\"11725480\",\"jobName\":\"\\\\u3010KOL Radar\\\\u3011\\\\u696d\\\\u52d9\\\\u4f01\\\\u5283 \\\\u5be6\\\\u7fd2\\\\u751f Account Executive Intern\",\"description\":\"\\\\u203b \\\\u8acb\\\\u65bc\\\\u53ef\\\\u5831\\\\u5230\\\\u65e5\\\\u7684\\\\u524d\\\\u4e00\\\\u500b\\\\u6708 \\\\u518d\\\\u958b\\\\u59cb\\\\u6295\\\\u905e\\\\u3000  \\\\u3010\\\\u5de5\\\\u4f5c\\\\u5167\\\\u5bb9\\\\u3011\\\\u3000 1. \\\\u8868\\\\u55ae\\\\u6574\\\\u7406\\\\uff1a\\\\u5305...\",\"optionEdu\":\"\\\\u5927\\\\u5b78\",\"periodDesc\":\"\\\\u7d93\\\\u6b77\\\\u4e0d\\\\u62d8\",\"custNo\":\"53342456000\",\"custName\":\"\\\\u611b\\\\u5361\\\\u62c9\\\\u4e92\\\\u52d5\\\\u5a92\\\\u9ad4\\\\u80a1\\\\u4efd\\\\u6709\\\\u9650\\\\u516c\\\\u53f8\",\"salaryDesc\":\"\\\\u6642\\\\u85aa160\\\\u5143\\\\u4ee5\\\\u4e0a\",\"appearDateDesc\":\"12\\\\/16\",\"isSave\":\"0\",\"link\":{\"job\":\"\\\\/\\\\/www.104.com.tw\\\\/job\\\\/6zbfs?jobsource=parttimesector\",\"cust\":\"\\\\/\\\\/www.104.com.tw\\\\/company\\\\/oi6pygw?jobsource=parttimesector\"},\"jobNameRaw\":\"\\\\u3010KOL Radar\\\\u3011\\\\u696d\\\\u52d9\\\\u4f01\\\\u5283 \\\\u5be6\\\\u7fd2\\\\u751f Account Executive Intern\",\"custNameRaw\":\"\\\\u611b\\\\u5361\\\\u62c9\\\\u4e92\\\\u52d5\\\\u5a92\\\\u9ad4\\\\u80a1\\\\u4efd\\\\u6709\\\\u9650\\\\u516c\\\\u53f8\",\"lon\":\"121.5666564\",\"lat\":\"25.0480733\"},{\"jobNo\":\"11955139\",\"jobName\":\"(\\\\u517c\\\\u8077)\\\\u7f8e\\\\u9ad4\\\\u7f8e\\\\u7642\\\\u5e2b \\\\/ Massage Therapist\",\"description\":\"1.\\\\u63d0\\\\u4f9b\\\\u5ba2\\\\u6236\\\\u5404\\\\u90e8\\\\u4f4d\\\\u53ca\\\\u5168\\\\u8eab\\\\u7f8e\\\\u5bb9\\\\u3001\\\\u7f8e\\\\u9ad4\\\\u3001\\\\u7cbe\\\\u6cb9\\\\u82b3\\\\u7642\\\\u6280\\\\u8853\\\\u670d\\\\u52d9\\\\u3002 2.\\\\u63d0\\\\u4f9b\\\\u7f8e\\\\u5bb9\\\\u4fdd\\\\u990a\\\\u3001\\\\u7cbe\\\\u6cb9...\",\"optionEdu\":\"\\\\u9ad8\\\\u4e2d\\\\u4ee5\\\\u4e0b\",\"periodDesc\":\"2\\\\u5e74\\\\u4ee5\\\\u4e0a\",\"custNo\":\"130000000159539\",\"custName\":\"\\\\u7f8e\\\\u57df\\\\u751f\\\\u6d3b\\\\u4f01\\\\u696d\\\\u793e\",\"salaryDesc\":\"\\\\u6708\\\\u85aa30,000~65,000\\\\u5143\",\"appearDateDesc\":\"12\\\\/20\",\"isSave\":\"0\",\"link\":{\"job\":\"\\\\/\\\\/www.104.com.tw\\\\/job\\\\/748n7?jobsource=parttimesector\",\"cust\":\"\\\\/\\\\/www.104.com.tw\\\\/company\\\\/1a2x6bleer?jobsource=parttimesector\"},\"jobNameRaw\":\"(\\\\u517c\\\\u8077)\\\\u7f8e\\\\u9ad4\\\\u7f8e\\\\u7642\\\\u5e2b \\\\/ Massage Therapist\",\"custNameRaw\":\"\\\\u7f8e\\\\u57df\\\\u751f\\\\u6d3b\\\\u4f01\\\\u696d\\\\u793e\",\"lon\":\"121.5255248\",\"lat\":\"25.0489386\"},{\"jobNo\":\"12465897\",\"jobName\":\"\\\\u665a\\\\u73ed\\\\u8a08\\\\u6642\\\\u670d\\\\u52d9\\\\u4eba\\\\u54e1(\\\\u517c\\\\u8077\\\\/\\\\u5de5\\\\u8b80)\",\"description\":\"\\\\u53ef\\\\u5f48\\\\u6027\\\\u6392\\\\u73ed \\\\u4eab\\\\u52de\\\\u3001\\\\u5065\\\\u4fdd\\\\u3001\\\\u52de\\\\u90006%\\\\u8207\\\\u5718\\\\u4fdd \\\\u4f9b\\\\u9910\",\"optionEdu\":\"\\\\u5b78\\\\u6b77\\\\u4e0d\\\\u62d8\",\"periodDesc\":\"\\\\u7d93\\\\u6b77\\\\u4e0d\\\\u62d8\",\"custNo\":\"16318003001\",\"custName\":\"\\\\u65b0\\\\u6ff1\\\\u9ad8\\\\u7d1a\\\\u9435\\\\u677f\\\\u71d2_\\\\u65b0\\\\u6ff1\\\\u9910\\\\u5ef3\\\\u6709\\\\u9650\\\\u516c\\\\u53f8\\\\u5149\\\\u5fa9\\\\u5206\\\\u516c\\\\u53f8\",\"salaryDesc\":\"\\\\u6642\\\\u85aa168~175\\\\u5143\",\"appearDateDesc\":\"12\\\\/20\",\"isSave\":\"0\",\"link\":{\"job\":\"\\\\/\\\\/www.104.com.tw\\\\/job\\\\/7f6qx?jobsource=parttimesector\",\"cust\":\"\\\\/\\\\/www.104.com.tw\\\\/company\\\\/7hvbfp5?jobsource=parttimesector\"},\"jobNameRaw\":\"\\\\u665a\\\\u73ed\\\\u8a08\\\\u6642\\\\u670d\\\\u52d9\\\\u4eba\\\\u54e1(\\\\u517c\\\\u8077\\\\/\\\\u5de5\\\\u8b80)\",\"custNameRaw\":\"\\\\u65b0\\\\u6ff1\\\\u9ad8\\\\u7d1a\\\\u9435\\\\u677f\\\\u71d2_\\\\u65b0\\\\u6ff1\\\\u9910\\\\u5ef3\\\\u6709\\\\u9650\\\\u516c\\\\u53f8\\\\u5149\\\\u5fa9\\\\u5206\\\\u516c\\\\u53f8\",\"lon\":\"121.5595451\",\"lat\":\"25.0498891\"},{\"jobNo\":\"12471391\",\"jobName\":\"\\\\u5496\\\\u5561\\\\u5e2b Barista pt \",\"description\":\"\\\\u517c\\\\u8077\\\\u70ba\\\\u4e3b\\\\u3002\\\\u6642\\\\u9593\\\\u53ef\\\\u8ac7    \\\\u8077\\\\u52d9\\\\u5167\\\\u5bb9\\\\uff1a \\\\u5427\\\\u53f0\\\\u5340\\\\u57df\\\\u8a72\\\\u8ca0\\\\u8cac\\\\u7684\\\\uff01 \\\\u5496\\\\u5561\\\\u5e2b\\\\u8077\\\\u52d9\\\\u3002 \\\\u7fa9\\\\u5f0f\\\\u5496...\",\"optionEdu\":\"\\\\u5b78\\\\u6b77\\\\u4e0d\\\\u62d8\",\"periodDesc\":\"1\\\\u5e74\\\\u4ee5\\\\u4e0a\",\"custNo\":\"130000000178122\",\"custName\":\"L&#039;s\\\\u00f8d_\\\\u751c\\\\u539f\\\\u9b54\\\\u8216\\\\u6709\\\\u9650\\\\u516c\\\\u53f8\",\"salaryDesc\":\"\\\\u6642\\\\u85aa160~170\\\\u5143\",\"appearDateDesc\":\"12\\\\/17\",\"isSave\":\"0\",\"link\":{\"job\":\"\\\\/\\\\/www.104.com.tw\\\\/job\\\\/7fazj?jobsource=parttimesector\",\"cust\":\"\\\\/\\\\/www.104.com.tw\\\\/company\\\\/1a2x6blsqy?jobsource=parttimesector\"},\"jobNameRaw\":\"\\\\u5496\\\\u5561\\\\u5e2b Barista pt \",\"custNameRaw\":\"L\\'s\\\\u00f8d_\\\\u751c\\\\u539f\\\\u9b54\\\\u8216\\\\u6709\\\\u9650\\\\u516c\\\\u53f8\",\"lon\":\"121.5419731\",\"lat\":\"25.0276288\"},{\"jobNo\":\"12524559\",\"jobName\":\"\\\\u9580\\\\u5e02\\\\u4eba\\\\u54e1\",\"description\":\"\\\\u4e00\\\\u3001\\\\u8996\\\\u969c\\\\u6309\\\\u6469\\\\u5c0f\\\\u68e7\\\\u884c\\\\u653f\\\\u7ba1\\\\u7406 1. \\\\u670d\\\\u52d9\\\\u5ba2\\\\u6236\\\\u3001\\\\u6309\\\\u6469\\\\u5e2b\\\\uff0c\\\\u8207\\\\u5ba2\\\\u6236\\\\u95dc\\\\u4fc2\\\\u5efa\\\\u7acb\\\\u8207\\\\u7dad\\\\u7e6b\\\\u3002  2...\",\"optionEdu\":\"\\\\u9ad8\\\\u4e2d\",\"periodDesc\":\"\\\\u7d93\\\\u6b77\\\\u4e0d\\\\u62d8\",\"custNo\":\"130000000123595\",\"custName\":\"\\\\u793e\\\\u5718\\\\u6cd5\\\\u4eba\\\\u53f0\\\\u7063\\\\u963f\\\\u7518\\\\u7cbe\\\\u795e\\\\u767c\\\\u5c55\\\\u5354\\\\u6703\",\"salaryDesc\":\"\\\\u65e5\\\\u85aa1,400~1,680\\\\u5143\",\"appearDateDesc\":\"12\\\\/16\",\"isSave\":\"0\",\"link\":{\"job\":\"\\\\/\\\\/www.104.com.tw\\\\/job\\\\/7gg0f?jobsource=parttimesector\",\"cust\":\"\\\\/\\\\/www.104.com.tw\\\\/company\\\\/1a2x6bkmob?jobsource=parttimesector\"},\"jobNameRaw\":\"\\\\u9580\\\\u5e02\\\\u4eba\\\\u54e1\",\"custNameRaw\":\"\\\\u793e\\\\u5718\\\\u6cd5\\\\u4eba\\\\u53f0\\\\u7063\\\\u963f\\\\u7518\\\\u7cbe\\\\u795e\\\\u767c\\\\u5c55\\\\u5354\\\\u6703\",\"lon\":\"121.5248536\",\"lat\":\"25.0271509\"},{\"jobNo\":\"6974286\",\"jobName\":\"\\\\u8ab2\\\\u5f8c\\\\u7167\\\\u9867\\\\u4e2d\\\\u5e74\\\\u7d1a\\\\u5e36\\\\u73ed\\\\u8001\\\\u5e2b(\\\\u517c\\\\u8077)\",\"description\":\"\\\\u6307\\\\u5c0e\\\\u5b69\\\\u7ae5\\\\u5b8c\\\\u6210\\\\u5b78\\\\u6821\\\\u4f5c\\\\u696d\\\\u517c\\\\u5177\\\\u8eab\\\\u5fc3\\\\u7167\\\\u9867\",\"optionEdu\":\"\\\\u5c08\\\\u79d1\",\"periodDesc\":\"2\\\\u5e74\\\\u4ee5\\\\u4e0a\",\"custNo\":\"130000000041252\",\"custName\":\"\\\\u81fa\\\\u5317\\\\u5e02\\\\u611b\\\\u9130\\\\u80b2\\\\u5e7c\\\\u5354\\\\u6703\",\"salaryDesc\":\"\\\\u6642\\\\u85aa210~360\\\\u5143\",\"appearDateDesc\":\"12\\\\/18\",\"isSave\":\"0\",\"link\":{\"job\":\"\\\\/\\\\/www.104.com.tw\\\\/job\\\\/45he6?jobsource=parttimesector\",\"cust\":\"\\\\/\\\\/www.104.com.tw\\\\/company\\\\/1a2x6biv50?jobsource=parttimesector\"},\"jobNameRaw\":\"\\\\u8ab2\\\\u5f8c\\\\u7167\\\\u9867\\\\u4e2d\\\\u5e74\\\\u7d1a\\\\u5e36\\\\u73ed\\\\u8001\\\\u5e2b(\\\\u517c\\\\u8077)\",\"custNameRaw\":\"\\\\u81fa\\\\u5317\\\\u5e02\\\\u611b\\\\u9130\\\\u80b2\\\\u5e7c\\\\u5354\\\\u6703\",\"lon\":\"121.5753959\",\"lat\":\"24.9895459\"},{\"jobNo\":\"12523893\",\"jobName\":\"99 BOUTIQUE \\\\u9580\\\\u5e02\\\\u4eba\\\\u54e1\",\"description\":\"1.\\\\u4ecb\\\\u7d39\\\\u53ca\\\\u92b7\\\\u552e\\\\u9580\\\\u5e02\\\\u5546\\\\u54c1\\\\u3002 2.\\\\u63d0\\\\u4f9b\\\\u9867\\\\u5ba2\\\\u4e4b\\\\u63a5\\\\u5f85\\\\u8207\\\\u9700\\\\u6c42\\\\u670d\\\\u52d9\\\\uff08\\\\u5982\\\\uff1a\\\\u96fb\\\\u8a71\\\\u8aee\\\\u8a62\\\\u3001\\\\u8abf\\\\u8ca8\\\\u3001\\\\u4fee...\",\"optionEdu\":\"\\\\u5b78\\\\u6b77\\\\u4e0d\\\\u62d8\",\"periodDesc\":\"\\\\u7d93\\\\u6b77\\\\u4e0d\\\\u62d8\",\"custNo\":\"28703641000\",\"custName\":\"HAMA Boutique_\\\\u4e9e\\\\u746a\\\\u570b\\\\u969b\\\\u4f01\\\\u696d\\\\u6709\\\\u9650\\\\u516c\\\\u53f8\",\"salaryDesc\":\"\\\\u6708\\\\u85aa28,000~35,000\\\\u5143\",\"appearDateDesc\":\"12\\\\/16\",\"isSave\":\"0\",\"link\":{\"job\":\"\\\\/\\\\/www.104.com.tw\\\\/job\\\\/7gfhx?jobsource=parttimesector\",\"cust\":\"\\\\/\\\\/www.104.com.tw\\\\/company\\\\/d6pen54?jobsource=parttimesector\"},\"jobNameRaw\":\"99 BOUTIQUE \\\\u9580\\\\u5e02\\\\u4eba\\\\u54e1\",\"custNameRaw\":\"HAMA Boutique_\\\\u4e9e\\\\u746a\\\\u570b\\\\u969b\\\\u4f01\\\\u696d\\\\u6709\\\\u9650\\\\u516c\\\\u53f8\",\"lon\":\"121.5462661\",\"lat\":\"25.0405023\"},{\"jobNo\":\"12081214\",\"jobName\":\"\\\\u8ca1\\\\u52d9\\\\u5de5\\\\u8b80\\\\u751f\",\"description\":\"1. \\\\u6536\\\\u767c\\\\u3001\\\\u8a18\\\\u9304\\\\u53ca\\\\u5f59\\\\u6574\\\\u4ea4\\\\u6613\\\\u7522\\\\u751f\\\\u4e4b\\\\u539f\\\\u59cb\\\\u6191\\\\u8b49\\\\uff0c\\\\u4e26\\\\u767b\\\\u9304\\\\u81f3\\\\u6703\\\\u8a08\\\\u7cfb\\\\u7d71\\\\u88fd\\\\u4f5c\\\\u50b3\\\\u7968\\\\u3002 2. \\\\u8655...\",\"optionEdu\":\"\\\\u5b78\\\\u6b77\\\\u4e0d\\\\u62d8\",\"periodDesc\":\"\\\\u7d93\\\\u6b77\\\\u4e0d\\\\u62d8\",\"custNo\":\"13035663000\",\"custName\":\"\\\\u767e\\\\u5546\\\\u6578\\\\u4f4d\\\\u79d1\\\\u6280\\\\u80a1\\\\u4efd\\\\u6709\\\\u9650\\\\u516c\\\\u53f8\",\"salaryDesc\":\"\\\\u6642\\\\u85aa160~170\\\\u5143\",\"appearDateDesc\":\"12\\\\/21\",\"isSave\":\"0\",\"link\":{\"job\":\"\\\\/\\\\/www.104.com.tw\\\\/job\\\\/76xxa?jobsource=parttimesector\",\"cust\":\"\\\\/\\\\/www.104.com.tw\\\\/company\\\\/5zl3hy0?jobsource=parttimesector\"},\"jobNameRaw\":\"\\\\u8ca1\\\\u52d9\\\\u5de5\\\\u8b80\\\\u751f\",\"custNameRaw\":\"\\\\u767e\\\\u5546\\\\u6578\\\\u4f4d\\\\u79d1\\\\u6280\\\\u80a1\\\\u4efd\\\\u6709\\\\u9650\\\\u516c\\\\u53f8\",\"lon\":\"121.5491655\",\"lat\":\"25.0284385\"},{\"jobNo\":\"12465330\",\"jobName\":\"Intern \\\\u2013 Global Delivery Center \\\\u2013 Consulting\",\"description\":\"\\\\u3010Join Deloitte Consulting \\\\u3011   Year afte...\",\"optionEdu\":\"\\\\u5927\\\\u5b78\",\"periodDesc\":\"\\\\u7d93\\\\u6b77\\\\u4e0d\\\\u62d8\",\"custNo\":\"130000000123792\",\"custName\":\"Deloitte_\\\\u9999\\\\u6e2f\\\\u5546\\\\u5fb7\\\\u52e4\\\\u592a\\\\u5e73\\\\u6d0b\\\\u4f01\\\\u696d\\\\u7ba1\\\\u7406\\\\u54a8\\\\u8a62\\\\u6709\\\\u9650\\\\u516c\\\\u53f8\\\\u53f0\\\\u7063\\\\u5206\\\\u516c\\\\u53f8\",\"salaryDesc\":\"\\\\u6642\\\\u85aa160\\\\u5143\",\"appearDateDesc\":\"12\\\\/15\",\"isSave\":\"0\",\"link\":{\"job\":\"\\\\/\\\\/www.104.com.tw\\\\/job\\\\/7f6b6?jobsource=parttimesector\",\"cust\":\"\\\\/\\\\/www.104.com.tw\\\\/company\\\\/1a2x6bkmts?jobsource=parttimesector\"},\"jobNameRaw\":\"Intern \\\\u2013 Global Delivery Center \\\\u2013 Consulting\",\"custNameRaw\":\"Deloitte_\\\\u9999\\\\u6e2f\\\\u5546\\\\u5fb7\\\\u52e4\\\\u592a\\\\u5e73\\\\u6d0b\\\\u4f01\\\\u696d\\\\u7ba1\\\\u7406\\\\u54a8\\\\u8a62\\\\u6709\\\\u9650\\\\u516c\\\\u53f8\\\\u53f0\\\\u7063\\\\u5206\\\\u516c\\\\u53f8\",\"lon\":\"121.5671656\",\"lat\":\"25.0344055\"},{\"jobNo\":\"11317992\",\"jobName\":\"\\\\u6a5f\\\\u8eca\\\\u5916\\\\u52d9-\\\\u517c\\\\u8077\",\"description\":\"1- \\\\u9700\\\\u81ea\\\\u5099\\\\u6a5f\\\\u8eca\\\\u3002\\\\uff08\\\\u6a94\\\\u8eca\\\\u8f03\\\\u4e0d\\\\u9069\\\\u5408\\\\uff0cgogoro\\\\u82e5\\\\u6709\\\\u88dd\\\\u9435\\\\u67b6\\\\u8005\\\\u4ea6\\\\u53ef\\\\uff09 2- \\\\u8ad6\\\\u4ef6\\\\u8a08...\",\"optionEdu\":\"\\\\u5b78\\\\u6b77\\\\u4e0d\\\\u62d8\",\"periodDesc\":\"\\\\u7d93\\\\u6b77\\\\u4e0d\\\\u62d8\",\"custNo\":\"130000000062554\",\"custName\":\"\\\\u5e6b\\\\u4f60\\\\u9001\\\\u80a1\\\\u4efd\\\\u6709\\\\u9650\\\\u516c\\\\u53f8\",\"salaryDesc\":\"\\\\u8ad6\\\\u4ef6\\\\u8a08\\\\u916c17~232\\\\u5143\",\"appearDateDesc\":\"12\\\\/15\",\"isSave\":\"0\",\"link\":{\"job\":\"\\\\/\\\\/www.104.com.tw\\\\/job\\\\/6ql0o?jobsource=parttimesector\",\"cust\":\"\\\\/\\\\/www.104.com.tw\\\\/company\\\\/1a2x6bjbkq?jobsource=parttimesector\"},\"jobNameRaw\":\"\\\\u6a5f\\\\u8eca\\\\u5916\\\\u52d9-\\\\u517c\\\\u8077\",\"custNameRaw\":\"\\\\u5e6b\\\\u4f60\\\\u9001\\\\u80a1\\\\u4efd\\\\u6709\\\\u9650\\\\u516c\\\\u53f8\",\"lon\":\"121.5405908\",\"lat\":\"25.0493049\"},{\"jobNo\":\"12544570\",\"jobName\":\"Sipship-\\\\u8a08\\\\u6642\\\\u4eba\\\\u54e1\",\"description\":\"\\\\u4e3b\\\\u8981\\\\u5de5\\\\u4f5c\\\\u5167\\\\u5bb9 : 1.\\\\u5404\\\\u5f0f\\\\u51b7\\\\u71b1\\\\u98f2\\\\u54c1\\\\u8abf\\\\u88fd\\\\u3002 2.\\\\u63a5\\\\u5f85\\\\u6ac3\\\\u6aaf\\\\u6536\\\\u9280\\\\u9ede\\\\u9910\\\\u3002 3.\\\\u63d0\\\\u4f9b\\\\u98f2\\\\u54c1...\",\"optionEdu\":\"\\\\u9ad8\\\\u4e2d\",\"periodDesc\":\"1\\\\u5e74\\\\u4ee5\\\\u4e0a\",\"custNo\":\"130000000169494\",\"custName\":\"Sipship_&amp;Tea_\\\\u611b\\\\u8c37\\\\u570b\\\\u969b\\\\u6709\\\\u9650\\\\u516c\\\\u53f8\",\"salaryDesc\":\"\\\\u6642\\\\u85aa165~175\\\\u5143\",\"appearDateDesc\":\"12\\\\/15\",\"isSave\":\"0\",\"link\":{\"job\":\"\\\\/\\\\/www.104.com.tw\\\\/job\\\\/7gvga?jobsource=parttimesector\",\"cust\":\"\\\\/\\\\/www.104.com.tw\\\\/company\\\\/1a2x6blm3a?jobsource=parttimesector\"},\"jobNameRaw\":\"Sipship-\\\\u8a08\\\\u6642\\\\u4eba\\\\u54e1\",\"custNameRaw\":\"Sipship_&Tea_\\\\u611b\\\\u8c37\\\\u570b\\\\u969b\\\\u6709\\\\u9650\\\\u516c\\\\u53f8\",\"lon\":\"121.543064\",\"lat\":\"25.033156\"},{\"jobNo\":\"12062769\",\"jobName\":\"Chocoholic\\\\u5de7\\\\u514b\\\\u54c8\\\\u5ba2\\\\u3010\\\\u9577\\\\u671f\\\\u517c\\\\u8077\\\\u5925\\\\u4f34\\\\u3011\",\"description\":\"\\\\u25ce\\\\u5de5\\\\u4f5c\\\\u5167\\\\u5bb9: \\\\u2192\\\\u5916\\\\u5834\\\\u670d\\\\u52d9\\\\uff0c\\\\u5546\\\\u54c1\\\\u92b7\\\\u552e\\\\uff0c\\\\u74b0\\\\u5883\\\\u6e05\\\\u6f54\\\\u3002\\\\u5167\\\\u5834\\\\u5354\\\\u52a9\\\\u88fd\\\\u4f5c\\\\u7c21\\\\u9910\\\\uff0c\\\\u98df\\\\u6750\\\\u5099\\\\u6599\\\\uff0c\\\\u9910\\\\u5177...\",\"optionEdu\":\"\\\\u5b78\\\\u6b77\\\\u4e0d\\\\u62d8\",\"periodDesc\":\"\\\\u7d93\\\\u6b77\\\\u4e0d\\\\u62d8\",\"custNo\":\"98904641000\",\"custName\":\"\\\\u5de7\\\\u514b\\\\u54c8\\\\u5ba2\\\\u5de7\\\\u514b\\\\u529b\\\\u5c08\\\\u98f2\\\\u5e97\",\"salaryDesc\":\"\\\\u6642\\\\u85aa160~164\\\\u5143\",\"appearDateDesc\":\"12\\\\/17\",\"isSave\":\"0\",\"link\":{\"job\":\"\\\\/\\\\/www.104.com.tw\\\\/job\\\\/76jox?jobsource=parttimesector\",\"cust\":\"\\\\/\\\\/www.104.com.tw\\\\/company\\\\/19fp9pew?jobsource=parttimesector\"},\"jobNameRaw\":\"Chocoholic\\\\u5de7\\\\u514b\\\\u54c8\\\\u5ba2\\\\u3010\\\\u9577\\\\u671f\\\\u517c\\\\u8077\\\\u5925\\\\u4f34\\\\u3011\",\"custNameRaw\":\"\\\\u5de7\\\\u514b\\\\u54c8\\\\u5ba2\\\\u5de7\\\\u514b\\\\u529b\\\\u5c08\\\\u98f2\\\\u5e97\",\"lon\":\"121.5301536\",\"lat\":\"25.0329872\"},{\"jobNo\":\"12526993\",\"jobName\":\"\\\\u53f0\\\\u7063\\\\u9752\\\\u65c5_\\\\u5047\\\\u65e5\\\\u517c\\\\u8077\\\\u6ac3\\\\u6aaf\\\\u63a5\\\\u5f85\\\\u4eba\\\\u54e1\",\"description\":\"\\\\u6ac3\\\\u6aaf\\\\u63a5\\\\u5f85\\\\u4eba\\\\u54e1\\\\u662f\\\\u65c5\\\\u5ba2\\\\u5c0d\\\\u6211\\\\u5011\\\\u7684\\\\u7b2c\\\\u4e00\\\\u5370\\\\u8c61\\\\uff0c\\\\u6dfa\\\\u6dfa\\\\u7684\\\\u7b11\\\\u5bb9\\\\u3001\\\\u89aa\\\\u5207\\\\u7684\\\\u8a9e\\\\u6c23\\\\u8207\\\\u5c08\\\\u696d\\\\u7684\\\\u670d\\\\u52d9\\\\uff0c\\\\u7e3d\\\\u8b93\\\\u4eba...\",\"optionEdu\":\"\\\\u9ad8\\\\u4e2d\",\"periodDesc\":\"\\\\u7d93\\\\u6b77\\\\u4e0d\\\\u62d8\",\"custNo\":\"130000000138107\",\"custName\":\"\\\\u4e16\\\\u65b9\\\\u6587\\\\u65c5\\\\u80a1\\\\u4efd\\\\u6709\\\\u9650\\\\u516c\\\\u53f8\",\"salaryDesc\":\"\\\\u6642\\\\u85aa170\\\\u5143\",\"appearDateDesc\":\"12\\\\/17\",\"isSave\":\"0\",\"link\":{\"job\":\"\\\\/\\\\/www.104.com.tw\\\\/job\\\\/7ghw1?jobsource=parttimesector\",\"cust\":\"\\\\/\\\\/www.104.com.tw\\\\/company\\\\/1a2x6bkxvf?jobsource=parttimesector\"},\"jobNameRaw\":\"\\\\u53f0\\\\u7063\\\\u9752\\\\u65c5_\\\\u5047\\\\u65e5\\\\u517c\\\\u8077\\\\u6ac3\\\\u6aaf\\\\u63a5\\\\u5f85\\\\u4eba\\\\u54e1\",\"custNameRaw\":\"\\\\u4e16\\\\u65b9\\\\u6587\\\\u65c5\\\\u80a1\\\\u4efd\\\\u6709\\\\u9650\\\\u516c\\\\u53f8\",\"lon\":\"121.5177535\",\"lat\":\"25.0450428\"},{\"jobNo\":\"12548954\",\"jobName\":\"2022\\\\u5e74\\\\u5ea6\\\\u5be6\\\\u7fd2\\\\u751f\",\"description\":\"\\\\u53f0\\\\u7063\\\\u90a3\\\\u9ebc\\\\u591a\\\\u85dd\\\\u8853\\\\u5b63\\\\uff0c\\\\u4f60\\\\u60f3\\\\u53c3\\\\u8207\\\\u770b\\\\u770b\\\\u55ce\\\\uff1f  \\\\u4e3b\\\\u8981\\\\u5de5\\\\u4f5c\\\\uff1a\\\\u5354\\\\u52a9\\\\u85dd\\\\u8853\\\\u5b63\\\\u8207\\\\u8a2d\\\\u8a08\\\\u5c55\\\\u7684\\\\u76f8\\\\u95dc\\\\u57f7\\\\u884c\\\\uff0c...\",\"optionEdu\":\"\\\\u5b78\\\\u6b77\\\\u4e0d\\\\u62d8\",\"periodDesc\":\"\\\\u7d93\\\\u6b77\\\\u4e0d\\\\u62d8\",\"custNo\":\"28681317000\",\"custName\":\"\\\\u5de6\\\\u8166\\\\u5275\\\\u610f\\\\u884c\\\\u92b7\\\\u6709\\\\u9650\\\\u516c\\\\u53f8\",\"salaryDesc\":\"\\\\u5f85\\\\u9047\\\\u9762\\\\u8b70\",\"appearDateDesc\":\"12\\\\/21\",\"isSave\":\"0\",\"link\":{\"job\":\"\\\\/\\\\/www.104.com.tw\\\\/job\\\\/7gyu2?jobsource=parttimesector\",\"cust\":\"\\\\/\\\\/www.104.com.tw\\\\/company\\\\/d6c45u0?jobsource=parttimesector\"},\"jobNameRaw\":\"2022\\\\u5e74\\\\u5ea6\\\\u5be6\\\\u7fd2\\\\u751f\",\"custNameRaw\":\"\\\\u5de6\\\\u8166\\\\u5275\\\\u610f\\\\u884c\\\\u92b7\\\\u6709\\\\u9650\\\\u516c\\\\u53f8\",\"lon\":\"121.529433\",\"lat\":\"25.040683\"},{\"jobNo\":\"12512528\",\"jobName\":\"\\\\u3010OiKID\\\\u3011\\\\u7dda\\\\u4e0a\\\\u97d3\\\\u8a9e\\\\u8001\\\\u5e2b(\\\\u517c\\\\u8077)\",\"description\":\"\\\\u5de5\\\\u4f5c\\\\u5167\\\\u5bb9: 1.\\\\u9032\\\\u884c\\\\u7dda\\\\u4e0a\\\\u4e00\\\\u5c0d\\\\u591a\\\\u97d3\\\\u8a9e\\\\u6559\\\\u5b78\\\\uff0c\\\\u4e00\\\\u5802\\\\u8ab250\\\\u5206\\\\u9418 2.\\\\u8ab2\\\\u524d\\\\u7684\\\\u8ab2\\\\u7a0b\\\\u6e96\\\\u5099\\\\uff0c\\\\u904b...\",\"optionEdu\":\"\\\\u5c08\\\\u79d1\",\"periodDesc\":\"1\\\\u5e74\\\\u4ee5\\\\u4e0a\",\"custNo\":\"130000000155283\",\"custName\":\"\\\\u6b50\\\\u611b\\\\u5152\\\\u80a1\\\\u4efd\\\\u6709\\\\u9650\\\\u516c\\\\u53f8\",\"salaryDesc\":\"\\\\u6642\\\\u85aa200~300\\\\u5143\",\"appearDateDesc\":\"12\\\\/13\",\"isSave\":\"0\",\"link\":{\"job\":\"\\\\/\\\\/www.104.com.tw\\\\/job\\\\/7g6q8?jobsource=parttimesector\",\"cust\":\"\\\\/\\\\/www.104.com.tw\\\\/company\\\\/1a2x6blb4j?jobsource=parttimesector\"},\"jobNameRaw\":\"\\\\u3010OiKID\\\\u3011\\\\u7dda\\\\u4e0a\\\\u97d3\\\\u8a9e\\\\u8001\\\\u5e2b(\\\\u517c\\\\u8077)\",\"custNameRaw\":\"\\\\u6b50\\\\u611b\\\\u5152\\\\u80a1\\\\u4efd\\\\u6709\\\\u9650\\\\u516c\\\\u53f8\",\"lon\":\"121.5529026\",\"lat\":\"25.0317293\"},{\"jobNo\":\"12039629\",\"jobName\":\"Thirdfloor \\\\u9580\\\\u5e02\\\\u517c\\\\u8077\\\\u92b7\\\\u552e\\\\u4eba\\\\u54e1 - \\\\u83ef\\\\u5c71\\\\u6587\\\\u5275\\\\u5712\\\\u5340\",\"description\":\"\\\\u2014\\\\u2014\\\\u2014\\\\u2014\\\\u2014\\\\u2014\\\\u2014\\\\u2014\\\\u2014\\\\u2014\\\\u2014\\\\u2014\\\\u2014\\\\u2014\\\\u2014\\\\u2014\\\\u2014\\\\u2014\\\\u2014\\\\u2014\\\\u2014\\\\u2014\\\\u2014\\\\u2014 \\\\u2028\\\\u2028\\\\u8a73\\\\u95b1\\\\u4e0b\\\\u65b9\\\\u5167\\\\u5bb9\\\\uff0c\\\\u6709\\\\u8208\\\\u8da3\\\\u52a0\\\\u5165...\",\"optionEdu\":\"\\\\u5b78\\\\u6b77\\\\u4e0d\\\\u62d8\",\"periodDesc\":\"\\\\u7d93\\\\u6b77\\\\u4e0d\\\\u62d8\",\"custNo\":\"130000000144659\",\"custName\":\"\\\\u53c3\\\\u6a13\\\\u7814\\\\u88fd\\\\u6240_\\\\u9685\\\\u679c\\\\u6709\\\\u9650\\\\u516c\\\\u53f8\",\"salaryDesc\":\"\\\\u6642\\\\u85aa160\\\\u5143\",\"appearDateDesc\":\"12\\\\/15\",\"isSave\":\"0\",\"link\":{\"job\":\"\\\\/\\\\/www.104.com.tw\\\\/job\\\\/761u5?jobsource=parttimesector\",\"cust\":\"\\\\/\\\\/www.104.com.tw\\\\/company\\\\/1a2x6bl2xf?jobsource=parttimesector\"},\"jobNameRaw\":\"Thirdfloor \\\\u9580\\\\u5e02\\\\u517c\\\\u8077\\\\u92b7\\\\u552e\\\\u4eba\\\\u54e1 - \\\\u83ef\\\\u5c71\\\\u6587\\\\u5275\\\\u5712\\\\u5340\",\"custNameRaw\":\"\\\\u53c3\\\\u6a13\\\\u7814\\\\u88fd\\\\u6240_\\\\u9685\\\\u679c\\\\u6709\\\\u9650\\\\u516c\\\\u53f8\",\"lon\":\"121.5292957\",\"lat\":\"25.0433045\"},{\"jobNo\":\"12429947\",\"jobName\":\"Bluebell Studio - \\\\u9577\\\\u671f\\\\u5de5\\\\u8b80\\\\u751f\",\"description\":\"\\\\u5de5\\\\u4f5c\\\\u5167\\\\u5bb9: 1. \\\\u6587\\\\u66f8\\\\u8cc7\\\\u6599\\\\u6e96\\\\u5099\\\\uff0c\\\\u5e33\\\\u52d9\\\\u8cc7\\\\u6599\\\\u6838\\\\u5c0d 2. \\\\u4e8b\\\\u52d9\\\\u652f\\\\u63f4 3. \\\\u5546\\\\u54c1\\\\u501f\\\\u8abf\\\\uff0c...\",\"optionEdu\":\"\\\\u5c08\\\\u79d1\",\"periodDesc\":\"1\\\\u5e74\\\\u4ee5\\\\u4e0a\",\"custNo\":\"28415493000\",\"custName\":\"\\\\u9999\\\\u6e2f\\\\u5546\\\\u85cd\\\\u9418\\\\u5546\\\\u696d\\\\u6709\\\\u9650\\\\u516c\\\\u53f8\",\"salaryDesc\":\"\\\\u6642\\\\u85aa160\\\\u5143\",\"appearDateDesc\":\"12\\\\/14\",\"isSave\":\"0\",\"link\":{\"job\":\"\\\\/\\\\/www.104.com.tw\\\\/job\\\\/7ef0b?jobsource=parttimesector\",\"cust\":\"\\\\/\\\\/www.104.com.tw\\\\/company\\\\/d1xumq0?jobsource=parttimesector\"},\"jobNameRaw\":\"Bluebell Studio - \\\\u9577\\\\u671f\\\\u5de5\\\\u8b80\\\\u751f\",\"custNameRaw\":\"\\\\u9999\\\\u6e2f\\\\u5546\\\\u85cd\\\\u9418\\\\u5546\\\\u696d\\\\u6709\\\\u9650\\\\u516c\\\\u53f8\",\"lon\":\"121.5491655\",\"lat\":\"25.0284385\"},{\"jobNo\":\"12522870\",\"jobName\":\"\\\\u5916\\\\u5834\\\\u670d\\\\u52d9\\\\u4eba\\\\u54e1(\\\\u517c\\\\u8077)\",\"description\":\"1.\\\\u8ca0\\\\u8cac\\\\u8dd1\\\\u55ae\\\\u3001\\\\u64fa\\\\u76e4\\\\u3001\\\\u9001\\\\u9910\\\\u53ca\\\\u806f\\\\u7e6b\\\\u5167\\\\u5916\\\\u5834\\\\u4e4b\\\\u5de5\\\\u4f5c\\\\u3002 2.\\\\u8ca0\\\\u8cac\\\\u5ba2\\\\u4eba\\\\u5e36\\\\u4f4d\\\\u3001\\\\u5012\\\\u6c34\\\\u3001\\\\u9ede\\\\u9910\\\\u7b49\\\\u5de5...\",\"optionEdu\":\"\\\\u9ad8\\\\u4e2d\\\\u4ee5\\\\u4e0b\",\"periodDesc\":\"\\\\u7d93\\\\u6b77\\\\u4e0d\\\\u62d8\",\"custNo\":\"130000000179904\",\"custName\":\"\\\\u6046\\\\u4e4b\\\\u8336\\\\u5c45_\\\\u6046\\\\u9999\\\\u9910\\\\u98f2\\\\u6709\\\\u9650\\\\u516c\\\\u53f8\",\"salaryDesc\":\"\\\\u6642\\\\u85aa170~180\\\\u5143\",\"appearDateDesc\":\"12\\\\/16\",\"isSave\":\"0\",\"link\":{\"job\":\"\\\\/\\\\/www.104.com.tw\\\\/job\\\\/7gepi?jobsource=parttimesector\",\"cust\":\"\\\\/\\\\/www.104.com.tw\\\\/company\\\\/1a2x6blu4g?jobsource=parttimesector\"},\"jobNameRaw\":\"\\\\u5916\\\\u5834\\\\u670d\\\\u52d9\\\\u4eba\\\\u54e1(\\\\u517c\\\\u8077)\",\"custNameRaw\":\"\\\\u6046\\\\u4e4b\\\\u8336\\\\u5c45_\\\\u6046\\\\u9999\\\\u9910\\\\u98f2\\\\u6709\\\\u9650\\\\u516c\\\\u53f8\",\"lon\":\"121.5602452\",\"lat\":\"25.0400306\"},{\"jobNo\":\"12464825\",\"jobName\":\"Intern - Analytics &amp; Cognitive - Strategy, Analytics and M&amp;A - Consulting\",\"description\":\"\\\\u3010Join Deloitte Consulting \\\\u3011   Year afte...\",\"optionEdu\":\"\\\\u5927\\\\u5b78\",\"periodDesc\":\"\\\\u7d93\\\\u6b77\\\\u4e0d\\\\u62d8\",\"custNo\":\"130000000123792\",\"custName\":\"Deloitte_\\\\u9999\\\\u6e2f\\\\u5546\\\\u5fb7\\\\u52e4\\\\u592a\\\\u5e73\\\\u6d0b\\\\u4f01\\\\u696d\\\\u7ba1\\\\u7406\\\\u54a8\\\\u8a62\\\\u6709\\\\u9650\\\\u516c\\\\u53f8\\\\u53f0\\\\u7063\\\\u5206\\\\u516c\\\\u53f8\",\"salaryDesc\":\"\\\\u6642\\\\u85aa160\\\\u5143\",\"appearDateDesc\":\"12\\\\/15\",\"isSave\":\"0\",\"link\":{\"job\":\"\\\\/\\\\/www.104.com.tw\\\\/job\\\\/7f5x5?jobsource=parttimesector\",\"cust\":\"\\\\/\\\\/www.104.com.tw\\\\/company\\\\/1a2x6bkmts?jobsource=parttimesector\"},\"jobNameRaw\":\"Intern - Analytics & Cognitive - Strategy, Analytics and M&A - Consulting\",\"custNameRaw\":\"Deloitte_\\\\u9999\\\\u6e2f\\\\u5546\\\\u5fb7\\\\u52e4\\\\u592a\\\\u5e73\\\\u6d0b\\\\u4f01\\\\u696d\\\\u7ba1\\\\u7406\\\\u54a8\\\\u8a62\\\\u6709\\\\u9650\\\\u516c\\\\u53f8\\\\u53f0\\\\u7063\\\\u5206\\\\u516c\\\\u53f8\",\"lon\":\"121.5671656\",\"lat\":\"25.0344055\"},{\"jobNo\":\"12159811\",\"jobName\":\"\\\\u884c\\\\u92b7\\\\u90e8\\\\u9580\\\\u5be6\\\\u7fd2\\\\u751f \\\\/ Marketing Intern (Community)\",\"description\":\"\\\\u3010\\\\u5de5\\\\u4f5c\\\\u5167\\\\u5bb9\\\\u3011 1. \\\\u8766\\\\u76ae\\\\u5b98\\\\u65b9 FB \\\\/ IG \\\\/ Blog \\\\u7d93\\\\u71df\\\\u53ca\\\\u7dda\\\\u4e0a\\\\u6d3b\\\\u52d5\\\\u57f7\\\\u884c...\",\"optionEdu\":\"\\\\u5927\\\\u5b78\",\"periodDesc\":\"\\\\u7d93\\\\u6b77\\\\u4e0d\\\\u62d8\",\"custNo\":\"130000000157678\",\"custName\":\"\\\\u65b0\\\\u52a0\\\\u5761\\\\u5546\\\\u8766\\\\u76ae\\\\u5a1b\\\\u6a02\\\\u96fb\\\\u5546\\\\u6709\\\\u9650\\\\u516c\\\\u53f8\\\\u53f0\\\\u7063\\\\u5206\\\\u516c\\\\u53f8\",\"salaryDesc\":\"\\\\u6642\\\\u85aa170\\\\u5143\",\"appearDateDesc\":\"12\\\\/15\",\"isSave\":\"0\",\"link\":{\"job\":\"\\\\/\\\\/www.104.com.tw\\\\/job\\\\/78mkj?jobsource=parttimesector\",\"cust\":\"\\\\/\\\\/www.104.com.tw\\\\/company\\\\/1a2x6blcz2?jobsource=parttimesector\"},\"jobNameRaw\":\"\\\\u884c\\\\u92b7\\\\u90e8\\\\u9580\\\\u5be6\\\\u7fd2\\\\u751f \\\\/ Marketing Intern (Community)\",\"custNameRaw\":\"\\\\u65b0\\\\u52a0\\\\u5761\\\\u5546\\\\u8766\\\\u76ae\\\\u5a1b\\\\u6a02\\\\u96fb\\\\u5546\\\\u6709\\\\u9650\\\\u516c\\\\u53f8\\\\u53f0\\\\u7063\\\\u5206\\\\u516c\\\\u53f8\",\"lon\":\"121.5614467\",\"lat\":\"25.0445662\"},{\"jobNo\":\"12553874\",\"jobName\":\"&lt;\\\\u5927\\\\u962a\\\\u7b2c\\\\u4e00\\\\u751f\\\\u5410\\\\u53f8 \\\\u5d5c\\\\u672c SAKImoto&gt;  \\\\u5167\\\\u5834\\\\u5305\\\\u88dd\\\\u8a08\\\\u6642\\\\u4eba\\\\u54e1\",\"description\":\"1. \\\\u5354\\\\u52a9\\\\u5167\\\\u5834\\\\u4f5c\\\\u696d\\\\uff0c\\\\u751f\\\\u5410\\\\u53f8\\\\u5206\\\\u88dd\\\\u4f5c\\\\u696d\\\\u6d41\\\\u7a0b\\\\u3002 2. \\\\u5b8c\\\\u6210\\\\u5167\\\\u5834\\\\u4e3b\\\\u7ba1\\\\u4ea4\\\\u8fa6\\\\u4e8b\\\\u9805\\\\u3002  \\\\u5de5\\\\u4f5c...\",\"optionEdu\":\"\\\\u9ad8\\\\u4e2d\",\"periodDesc\":\"\\\\u7d93\\\\u6b77\\\\u4e0d\\\\u62d8\",\"custNo\":\"130000000143826\",\"custName\":\"\\\\u5d5c\\\\u672c\\\\u751f\\\\u5410\\\\u53f8 SAKImoto_\\\\u62fe\\\\u6940\\\\u9910\\\\u98f2\\\\u80a1\\\\u4efd\\\\u6709\\\\u9650\\\\u516c\\\\u53f8\",\"salaryDesc\":\"\\\\u6642\\\\u85aa165~168\\\\u5143\",\"appearDateDesc\":\"12\\\\/21\",\"isSave\":\"0\",\"link\":{\"job\":\"\\\\/\\\\/www.104.com.tw\\\\/job\\\\/7h2mq?jobsource=parttimesector\",\"cust\":\"\\\\/\\\\/www.104.com.tw\\\\/company\\\\/1a2x6bl2aa?jobsource=parttimesector\"},\"jobNameRaw\":\"<\\\\u5927\\\\u962a\\\\u7b2c\\\\u4e00\\\\u751f\\\\u5410\\\\u53f8 \\\\u5d5c\\\\u672c SAKImoto>  \\\\u5167\\\\u5834\\\\u5305\\\\u88dd\\\\u8a08\\\\u6642\\\\u4eba\\\\u54e1\",\"custNameRaw\":\"\\\\u5d5c\\\\u672c\\\\u751f\\\\u5410\\\\u53f8 SAKImoto_\\\\u62fe\\\\u6940\\\\u9910\\\\u98f2\\\\u80a1\\\\u4efd\\\\u6709\\\\u9650\\\\u516c\\\\u53f8\",\"lon\":\"121.5654997\",\"lat\":\"25.0418239\"},{\"jobNo\":\"8590135\",\"jobName\":\"\\\\u30102022\\\\u5e74\\\\u6642\\\\u85aa178\\\\u5143\\\\u8d77\\\\u3011\\\\u85a9\\\\u8389\\\\u4e9e \\\\u5e2b\\\\u7bc4\\\\u5927\\\\u5b78\\\\u5e97 \\\\u65e9\\\\u73ed\\\\u5167\\\\u5916\\\\u5834\\\\u670d\\\\u52d9\\\\u54e1\",\"description\":\"\\\\u9910\\\\u5ef3\\\\u71df\\\\u696d\\\\u6642\\\\u9593\\\\u70ba11:00~23:00  \\\\u65e9\\\\u73ed\\\\u6642\\\\u9593:10:00~18:00   ...\",\"optionEdu\":\"\\\\u9ad8\\\\u4e2d\",\"periodDesc\":\"\\\\u7d93\\\\u6b77\\\\u4e0d\\\\u62d8\",\"custNo\":\"28854801000\",\"custName\":\"\\\\u53f0\\\\u7063\\\\u85a9\\\\u8389\\\\u4e9e\\\\u9910\\\\u98f2\\\\u80a1\\\\u4efd\\\\u6709\\\\u9650\\\\u516c\\\\u53f8\",\"salaryDesc\":\"\\\\u6642\\\\u85aa170~197\\\\u5143\",\"appearDateDesc\":\"12\\\\/15\",\"isSave\":\"0\",\"link\":{\"job\":\"\\\\/\\\\/www.104.com.tw\\\\/job\\\\/5446v?jobsource=parttimesector\",\"cust\":\"\\\\/\\\\/www.104.com.tw\\\\/company\\\\/d97eiy0?jobsource=parttimesector\"},\"jobNameRaw\":\"\\\\u30102022\\\\u5e74\\\\u6642\\\\u85aa178\\\\u5143\\\\u8d77\\\\u3011\\\\u85a9\\\\u8389\\\\u4e9e \\\\u5e2b\\\\u7bc4\\\\u5927\\\\u5b78\\\\u5e97 \\\\u65e9\\\\u73ed\\\\u5167\\\\u5916\\\\u5834\\\\u670d\\\\u52d9\\\\u54e1\",\"custNameRaw\":\"\\\\u53f0\\\\u7063\\\\u85a9\\\\u8389\\\\u4e9e\\\\u9910\\\\u98f2\\\\u80a1\\\\u4efd\\\\u6709\\\\u9650\\\\u516c\\\\u53f8\",\"lon\":\"121.529414\",\"lat\":\"25.0267169\"},{\"jobNo\":\"11262683\",\"jobName\":\"&quot;\\\\u6025\\\\u5fb5!!!\\\\u7121\\\\u7d93\\\\u9a57\\\\u53ef&quot;~\\\\u6642\\\\u85aa175\\\\u5143\\\\u2191\\\\u6bcf\\\\u6708\\\\u734e\\\\u91d1\\\\u52a0\\\\u7d66\\\\u6700\\\\u9ad81000\\\\u5143!!-\\\\u3010YAYOI\\\\u5f4c\\\\u751f\\\\u8ed2\\\\u65e5\\\\u672c\\\\u5b9a\\\\u98df\\\\u3011\\\\u8a08\\\\u6642\\\\u4eba\\\\u54e1-\\\\u4fe1\\\\u7fa9ATT\\\\u5e97_\\\\u5167\\\\/\\\\u5916\\\\u5834\",\"description\":\"\\\\u6b61\\\\u8fce\\\\u6d3b\\\\u6f51\\\\u958b\\\\u6717\\\\u3001\\\\u5c0d\\\\u9910\\\\u98f2\\\\u6709\\\\u71b1\\\\u60c5\\\\u7684\\\\u60a8\\\\u4e00\\\\u540c\\\\u52a0\\\\u5165\\\\u6211\\\\u5011\\\\u7684\\\\u884c\\\\u5217\\\\uff01\\\\u6211\\\\u5011\\\\u63d0\\\\u4f9b\\\\u5c08\\\\u696d\\\\u57f9\\\\u8a13\\\\u3001\\\\u660e\\\\u4eae\\\\u53ca\\\\u8212\\\\u9069...\",\"optionEdu\":\"\\\\u9ad8\\\\u4e2d\",\"periodDesc\":\"\\\\u7d93\\\\u6b77\\\\u4e0d\\\\u62d8\",\"custNo\":\"130000000039090\",\"custName\":\"YAYOI_\\\\u81fa\\\\u7063\\\\u5bcc\\\\u79ae\\\\u7d0d\\\\u601d\\\\u80a1\\\\u4efd\\\\u6709\\\\u9650\\\\u516c\\\\u53f8\",\"salaryDesc\":\"\\\\u6642\\\\u85aa175~200\\\\u5143\",\"appearDateDesc\":\"12\\\\/20\",\"isSave\":\"0\",\"link\":{\"job\":\"\\\\/\\\\/www.104.com.tw\\\\/job\\\\/6pecb?jobsource=parttimesector\",\"cust\":\"\\\\/\\\\/www.104.com.tw\\\\/company\\\\/1a2x6bitgy?jobsource=parttimesector\"},\"jobNameRaw\":\"\\\\\"\\\\u6025\\\\u5fb5!!!\\\\u7121\\\\u7d93\\\\u9a57\\\\u53ef\\\\\"~\\\\u6642\\\\u85aa175\\\\u5143\\\\u2191\\\\u6bcf\\\\u6708\\\\u734e\\\\u91d1\\\\u52a0\\\\u7d66\\\\u6700\\\\u9ad81000\\\\u5143!!-\\\\u3010YAYOI\\\\u5f4c\\\\u751f\\\\u8ed2\\\\u65e5\\\\u672c\\\\u5b9a\\\\u98df\\\\u3011\\\\u8a08\\\\u6642\\\\u4eba\\\\u54e1-\\\\u4fe1\\\\u7fa9ATT\\\\u5e97_\\\\u5167\\\\/\\\\u5916\\\\u5834\",\"custNameRaw\":\"YAYOI_\\\\u81fa\\\\u7063\\\\u5bcc\\\\u79ae\\\\u7d0d\\\\u601d\\\\u80a1\\\\u4efd\\\\u6709\\\\u9650\\\\u516c\\\\u53f8\",\"lon\":\"121.5660665\",\"lat\":\"25.03531\"},{\"jobNo\":\"12260384\",\"jobName\":\"(\\\\u5de5\\\\u8b80\\\\u751f\\\\u3001\\\\u8a08\\\\u6642\\\\u4eba\\\\u54e1)\\\\u7db2\\\\u62cd\\\\u7f8e\\\\u7de8\\\\u52a9\\\\u7406\\\\/\\\\u96fb\\\\u5546\\\\u7f8e\\\\u7de8\\\\u52a9\\\\u7406\\\\/\\\\u7f8e\\\\u7de8\\\\u8a2d\\\\u8a08\\\\u4eba\\\\u54e1\",\"description\":\"\\\\u6211\\\\u5011\\\\u5f9e\\\\u9580\\\\u5e02\\\\u8d77\\\\u5bb6\\\\uff0c\\\\u79c9\\\\u6301\\\\u8457\\\\u8aa0\\\\u5be6\\\\u5f85\\\\u5ba2\\\\u3001\\\\u670d\\\\u52d9\\\\u81f3\\\\u4e0a\\\\u7684\\\\u7406\\\\u5ff5\\\\uff0c\\\\u7522\\\\u54c1\\\\u884c\\\\u92b7\\\\u5404\\\\u884c\\\\u5404\\\\u696d\\\\u5df2\\\\u7d9320\\\\u9918\\\\u5e74\\\\u3002...\",\"optionEdu\":\"\\\\u9ad8\\\\u4e2d\",\"periodDesc\":\"\\\\u7d93\\\\u6b77\\\\u4e0d\\\\u62d8\",\"custNo\":\"130000000159668\",\"custName\":\"\\\\u51f1\\\\u6587\\\\u901a\\\\u8a0a\\\\u4f01\\\\u696d\\\\u793e\",\"salaryDesc\":\"\\\\u6642\\\\u85aa165\\\\u5143\\\\u4ee5\\\\u4e0a\",\"appearDateDesc\":\"12\\\\/15\",\"isSave\":\"0\",\"link\":{\"job\":\"\\\\/\\\\/www.104.com.tw\\\\/job\\\\/7as68?jobsource=parttimesector\",\"cust\":\"\\\\/\\\\/www.104.com.tw\\\\/company\\\\/1a2x6bleic?jobsource=parttimesector\"},\"jobNameRaw\":\"(\\\\u5de5\\\\u8b80\\\\u751f\\\\u3001\\\\u8a08\\\\u6642\\\\u4eba\\\\u54e1)\\\\u7db2\\\\u62cd\\\\u7f8e\\\\u7de8\\\\u52a9\\\\u7406\\\\/\\\\u96fb\\\\u5546\\\\u7f8e\\\\u7de8\\\\u52a9\\\\u7406\\\\/\\\\u7f8e\\\\u7de8\\\\u8a2d\\\\u8a08\\\\u4eba\\\\u54e1\",\"custNameRaw\":\"\\\\u51f1\\\\u6587\\\\u901a\\\\u8a0a\\\\u4f01\\\\u696d\\\\u793e\",\"lon\":\"121.532621\",\"lat\":\"25.044024\"},{\"jobNo\":\"8616917\",\"jobName\":\"\\\\u30102022\\\\u5e74\\\\u6642\\\\u85aa173\\\\u5143\\\\u8d77\\\\u3011\\\\u85a9\\\\u8389\\\\u4e9e \\\\u9802\\\\u6eaa\\\\u5e97 \\\\u65e9\\\\u665a\\\\u73ed\\\\u5167\\\\u5916\\\\u5834\\\\u670d\\\\u52d9\\\\u54e1\",\"description\":\"\\\\u9910\\\\u5ef3\\\\u71df\\\\u696d\\\\u6642\\\\u959311:00~23:00  \\\\u5de5\\\\u8b80\\\\u6642\\\\u9593\\\\uff1a10:00\\\\uff5e23:00 \\\\u65e9\\\\u73ed\\\\uff1a...\",\"optionEdu\":\"\\\\u9ad8\\\\u4e2d\",\"periodDesc\":\"\\\\u7d93\\\\u6b77\\\\u4e0d\\\\u62d8\",\"custNo\":\"28854801000\",\"custName\":\"\\\\u53f0\\\\u7063\\\\u85a9\\\\u8389\\\\u4e9e\\\\u9910\\\\u98f2\\\\u80a1\\\\u4efd\\\\u6709\\\\u9650\\\\u516c\\\\u53f8\",\"salaryDesc\":\"\\\\u6642\\\\u85aa165~192\\\\u5143\",\"appearDateDesc\":\"12\\\\/15\",\"isSave\":\"0\",\"link\":{\"job\":\"\\\\/\\\\/www.104.com.tw\\\\/job\\\\/54out?jobsource=parttimesector\",\"cust\":\"\\\\/\\\\/www.104.com.tw\\\\/company\\\\/d97eiy0?jobsource=parttimesector\"},\"jobNameRaw\":\"\\\\u30102022\\\\u5e74\\\\u6642\\\\u85aa173\\\\u5143\\\\u8d77\\\\u3011\\\\u85a9\\\\u8389\\\\u4e9e \\\\u9802\\\\u6eaa\\\\u5e97 \\\\u65e9\\\\u665a\\\\u73ed\\\\u5167\\\\u5916\\\\u5834\\\\u670d\\\\u52d9\\\\u54e1\",\"custNameRaw\":\"\\\\u53f0\\\\u7063\\\\u85a9\\\\u8389\\\\u4e9e\\\\u9910\\\\u98f2\\\\u80a1\\\\u4efd\\\\u6709\\\\u9650\\\\u516c\\\\u53f8\",\"lon\":\"121.5148984\",\"lat\":\"25.0121255\"},{\"jobNo\":\"5797475\",\"jobName\":\"\\\\u9910\\\\u98f2\\\\u670d\\\\u52d9\\\\u4eba\\\\u54e1(\\\\u517c\\\\u8077)\",\"description\":\"\\\\u5404\\\\u4f4d\\\\u53ef\\\\u611b\\\\u7684\\\\u6c42\\\\u8077\\\\u8005\\\\u5011\\\\u5927\\\\u5bb6\\\\u597d:\\\\u6211\\\\u5011\\\\u7684\\\\u5e97\\\\u540d\\\\u53eb-\\\\u9ce5\\\\u5bb6(\\\\u578b\\\\u614b\\\\u70ba\\\\u65e5\\\\u672c\\\\u4e32\\\\u71d2\\\\u5c45\\\\u9152\\\\u5c4b),\\\\u662f\\\\u4e00\\\\u5bb6\\\\u71b1...\",\"optionEdu\":\"\\\\u9ad8\\\\u4e2d\",\"periodDesc\":\"\\\\u7d93\\\\u6b77\\\\u4e0d\\\\u62d8\",\"custNo\":\"28702798000\",\"custName\":\"\\\\u9ce5\\\\u5bb6_\\\\u958b\\\\u62d3\\\\u8005\\\\u4f01\\\\u5283\\\\u6709\\\\u9650\\\\u516c\\\\u53f8\",\"salaryDesc\":\"\\\\u6642\\\\u85aa170~200\\\\u5143\",\"appearDateDesc\":\"12\\\\/15\",\"isSave\":\"0\",\"link\":{\"job\":\"\\\\/\\\\/www.104.com.tw\\\\/job\\\\/3g9cz?jobsource=parttimesector\",\"cust\":\"\\\\/\\\\/www.104.com.tw\\\\/company\\\\/d6owkog?jobsource=parttimesector\"},\"jobNameRaw\":\"\\\\u9910\\\\u98f2\\\\u670d\\\\u52d9\\\\u4eba\\\\u54e1(\\\\u517c\\\\u8077)\",\"custNameRaw\":\"\\\\u9ce5\\\\u5bb6_\\\\u958b\\\\u62d3\\\\u8005\\\\u4f01\\\\u5283\\\\u6709\\\\u9650\\\\u516c\\\\u53f8\",\"lon\":\"121.553118\",\"lat\":\"25.0436559\"},{\"jobNo\":\"11715286\",\"jobName\":\"\\\\u884c\\\\u92b7\\\\u4f01\\\\u5283\\\\u5be6\\\\u7fd2\\\\u4eba\\\\u54e1\",\"description\":\"\\\\uff1c\\\\u5de5\\\\u4f5c\\\\u5167\\\\u5bb9\\\\uff1e \\\\u5354\\\\u52a9\\\\u884c\\\\u92b7\\\\u4f01\\\\u5283\\\\u5e2b\\\\u9032\\\\u884c\\\\u4e0b\\\\u5217\\\\u5de5\\\\u4f5c\\\\uff1a (1)\\\\u793e\\\\u7fa4\\\\u7d93\\\\u71df\\\\uff1aFB\\\\u7c89\\\\u7d72\\\\u5718\\\\u3001IG\\\\u3001...\",\"optionEdu\":\"\\\\u5c08\\\\u79d1\",\"periodDesc\":\"\\\\u7d93\\\\u6b77\\\\u4e0d\\\\u62d8\",\"custNo\":\"24470446000\",\"custName\":\"\\\\u5fb7\\\\u548c\\\\u6708\\\\u570b\\\\u969b\\\\u79d1\\\\u6280\\\\u80a1\\\\u4efd\\\\u6709\\\\u9650\\\\u516c\\\\u53f8\",\"salaryDesc\":\"\\\\u8ad6\\\\u4ef6\\\\u8a08\\\\u916c50~500\\\\u5143\",\"appearDateDesc\":\"11\\\\/26\",\"isSave\":\"0\",\"link\":{\"job\":\"\\\\/\\\\/www.104.com.tw\\\\/job\\\\/6z3km?jobsource=parttimesector\",\"cust\":\"\\\\/\\\\/www.104.com.tw\\\\/company\\\\/b8p2kz4?jobsource=parttimesector\"},\"jobNameRaw\":\"\\\\u884c\\\\u92b7\\\\u4f01\\\\u5283\\\\u5be6\\\\u7fd2\\\\u4eba\\\\u54e1\",\"custNameRaw\":\"\\\\u5fb7\\\\u548c\\\\u6708\\\\u570b\\\\u969b\\\\u79d1\\\\u6280\\\\u80a1\\\\u4efd\\\\u6709\\\\u9650\\\\u516c\\\\u53f8\",\"lon\":\"121.5579077\",\"lat\":\"25.0333242\"},{\"jobNo\":\"11651059\",\"jobName\":\"\\\\u3010\\\\u4fe1\\\\u7fa9\\\\u9580\\\\u5e02\\\\u3011\\\\u6709\\\\u6a5f\\\\u9580\\\\u5e02\\\\u517c\\\\u8077\\\\u670d\\\\u52d9\\\\u4eba\\\\u54e1(\\\\u6bcf\\\\u9031\\\\u63925\\\\u5929\\\\uff0c\\\\u6bcf\\\\u5929\\\\u7d047\\\\u5c0f\\\\u6642)\",\"description\":\"1.\\\\u751f\\\\u6a5f\\\\u3001\\\\u6709\\\\u6a5f\\\\u98f2\\\\u98df\\\\u5546\\\\u54c1\\\\u63a8\\\\u5ee3\\\\u8207\\\\u670d\\\\u52d9\\\\u3002 2.\\\\u9580\\\\u5e02\\\\u74b0\\\\u5883\\\\u6574\\\\u7406\\\\u3002 3.\\\\u5546\\\\u54c1\\\\u9673\\\\u5217\\\\u3001\\\\u9580\\\\u5e02\\\\u9032\\\\u88dc...\",\"optionEdu\":\"\\\\u9ad8\\\\u4e2d\\\\u4ee5\\\\u4e0b\",\"periodDesc\":\"1\\\\u5e74\\\\u4ee5\\\\u4e0a\",\"custNo\":\"28929492000\",\"custName\":\"\\\\u68c9\\\\u82b1\\\\u7530\\\\u751f\\\\u6a5f\\\\u5712\\\\u5730\\\\u80a1\\\\u4efd\\\\u6709\\\\u9650\\\\u516c\\\\u53f8\",\"salaryDesc\":\"\\\\u6642\\\\u85aa160\\\\u5143\",\"appearDateDesc\":\"12\\\\/21\",\"isSave\":\"0\",\"link\":{\"job\":\"\\\\/\\\\/www.104.com.tw\\\\/job\\\\/6xq0j?jobsource=parttimesector\",\"cust\":\"\\\\/\\\\/www.104.com.tw\\\\/company\\\\/dafvew0?jobsource=parttimesector\"},\"jobNameRaw\":\"\\\\u3010\\\\u4fe1\\\\u7fa9\\\\u9580\\\\u5e02\\\\u3011\\\\u6709\\\\u6a5f\\\\u9580\\\\u5e02\\\\u517c\\\\u8077\\\\u670d\\\\u52d9\\\\u4eba\\\\u54e1(\\\\u6bcf\\\\u9031\\\\u63925\\\\u5929\\\\uff0c\\\\u6bcf\\\\u5929\\\\u7d047\\\\u5c0f\\\\u6642)\",\"custNameRaw\":\"\\\\u68c9\\\\u82b1\\\\u7530\\\\u751f\\\\u6a5f\\\\u5712\\\\u5730\\\\u80a1\\\\u4efd\\\\u6709\\\\u9650\\\\u516c\\\\u53f8\",\"lon\":\"121.5276334\",\"lat\":\"25.0351814\"},{\"jobNo\":\"6166298\",\"jobName\":\"\\\\u65e9\\\\u73ed\\\\u8a08\\\\u6642\\\\u670d\\\\u52d9\\\\u4eba\\\\u54e1(\\\\u517c\\\\u8077\\\\/\\\\u5de5\\\\u8b80)\",\"description\":\"\\\\u53ef\\\\u5f48\\\\u6027\\\\u6392\\\\u73ed \\\\u4eab\\\\u52de\\\\u3001\\\\u5065\\\\u4fdd\\\\u3001\\\\u52de\\\\u90006%\\\\u8207\\\\u5718\\\\u4fdd \\\\u4f9b\\\\u9910\",\"optionEdu\":\"\\\\u5b78\\\\u6b77\\\\u4e0d\\\\u62d8\",\"periodDesc\":\"\\\\u7d93\\\\u6b77\\\\u4e0d\\\\u62d8\",\"custNo\":\"16318003001\",\"custName\":\"\\\\u65b0\\\\u6ff1\\\\u9ad8\\\\u7d1a\\\\u9435\\\\u677f\\\\u71d2_\\\\u65b0\\\\u6ff1\\\\u9910\\\\u5ef3\\\\u6709\\\\u9650\\\\u516c\\\\u53f8\\\\u5149\\\\u5fa9\\\\u5206\\\\u516c\\\\u53f8\",\"salaryDesc\":\"\\\\u6642\\\\u85aa168~175\\\\u5143\",\"appearDateDesc\":\"12\\\\/20\",\"isSave\":\"0\",\"link\":{\"job\":\"\\\\/\\\\/www.104.com.tw\\\\/job\\\\/3o5y2?jobsource=parttimesector\",\"cust\":\"\\\\/\\\\/www.104.com.tw\\\\/company\\\\/7hvbfp5?jobsource=parttimesector\"},\"jobNameRaw\":\"\\\\u65e9\\\\u73ed\\\\u8a08\\\\u6642\\\\u670d\\\\u52d9\\\\u4eba\\\\u54e1(\\\\u517c\\\\u8077\\\\/\\\\u5de5\\\\u8b80)\",\"custNameRaw\":\"\\\\u65b0\\\\u6ff1\\\\u9ad8\\\\u7d1a\\\\u9435\\\\u677f\\\\u71d2_\\\\u65b0\\\\u6ff1\\\\u9910\\\\u5ef3\\\\u6709\\\\u9650\\\\u516c\\\\u53f8\\\\u5149\\\\u5fa9\\\\u5206\\\\u516c\\\\u53f8\",\"lon\":\"121.559471\",\"lat\":\"25.049925\"},{\"jobNo\":\"12545392\",\"jobName\":\"\\\\u96fb\\\\u5546\\\\u71df\\\\u904b\\\\u52a9\\\\u7406 E-Commerce Operation Assistant (\\\\u7d04\\\\u8058\\\\u4e00\\\\u5e74)\",\"description\":\"1.\\\\t\\\\u8655\\\\u7406\\\\u7522\\\\u54c1\\\\u7167\\\\u7247&\\\\u4e0a\\\\u67b6\\\\u81f3\\\\u5404\\\\u7db2\\\\u8def\\\\u5e73\\\\u53f0\\\\u92b7\\\\u552e 2.\\\\t\\\\u96fb\\\\u5546\\\\u5c0f\\\\u5e6b\\\\u624b: \\\\u56de\\\\u8986FB\\\\u3001 IG...\",\"optionEdu\":\"\\\\u9ad8\\\\u4e2d\",\"periodDesc\":\"\\\\u7d93\\\\u6b77\\\\u4e0d\\\\u62d8\",\"custNo\":\"130000000061553\",\"custName\":\"\\\\u6c9b\\\\u7005\\\\u6709\\\\u9650\\\\u516c\\\\u53f8\",\"salaryDesc\":\"\\\\u6708\\\\u85aa27,000~30,000\\\\u5143\",\"appearDateDesc\":\"12\\\\/16\",\"isSave\":\"0\",\"link\":{\"job\":\"\\\\/\\\\/www.104.com.tw\\\\/job\\\\/7gw34?jobsource=parttimesector\",\"cust\":\"\\\\/\\\\/www.104.com.tw\\\\/company\\\\/1a2x6bjasx?jobsource=parttimesector\"},\"jobNameRaw\":\"\\\\u96fb\\\\u5546\\\\u71df\\\\u904b\\\\u52a9\\\\u7406 E-Commerce Operation Assistant (\\\\u7d04\\\\u8058\\\\u4e00\\\\u5e74)\",\"custNameRaw\":\"\\\\u6c9b\\\\u7005\\\\u6709\\\\u9650\\\\u516c\\\\u53f8\",\"lon\":\"121.5658351\",\"lat\":\"25.0253603\"},{\"jobNo\":\"11925681\",\"jobName\":\"\\\\u9910\\\\u98f2\\\\u5de5\\\\u8b80\\\\u751f\",\"description\":\"1. \\\\u9910\\\\u5ef3\\\\u5916\\\\u5834\\\\u670d\\\\u52d9\\\\u4eba\\\\u54e1 2. \\\\u5047\\\\u65e5\\\\u5de5\\\\u8b80\\\\u751f 3. \\\\u665a\\\\u73ed\\\\u5de5\\\\u8b80\\\\u751f\",\"optionEdu\":\"\\\\u5b78\\\\u6b77\\\\u4e0d\\\\u62d8\",\"periodDesc\":\"\\\\u7d93\\\\u6b77\\\\u4e0d\\\\u62d8\",\"custNo\":\"29048600000\",\"custName\":\"\\\\u7f8e\\\\u89c0\\\\u5712_\\\\u89c0\\\\u7f8e\\\\u5712\\\\u9910\\\\u5ef3\\\\u6709\\\\u9650\\\\u516c\\\\u53f8\",\"salaryDesc\":\"\\\\u6642\\\\u85aa160\\\\u5143\",\"appearDateDesc\":\"12\\\\/20\",\"isSave\":\"0\",\"link\":{\"job\":\"\\\\/\\\\/www.104.com.tw\\\\/job\\\\/73lwx?jobsource=parttimesector\",\"cust\":\"\\\\/\\\\/www.104.com.tw\\\\/company\\\\/dcesb7k?jobsource=parttimesector\"},\"jobNameRaw\":\"\\\\u9910\\\\u98f2\\\\u5de5\\\\u8b80\\\\u751f\",\"custNameRaw\":\"\\\\u7f8e\\\\u89c0\\\\u5712_\\\\u89c0\\\\u7f8e\\\\u5712\\\\u9910\\\\u5ef3\\\\u6709\\\\u9650\\\\u516c\\\\u53f8\",\"lon\":\"121.5068766\",\"lat\":\"25.0436113\"},{\"jobNo\":\"12535273\",\"jobName\":\"99 BOUTIQUE \\\\u670d\\\\u98fe\\\\u92b7\\\\u552e\\\\u4eba\\\\u54e1\",\"description\":\"1.\\\\u4ecb\\\\u7d39\\\\u53ca\\\\u92b7\\\\u552e\\\\u9580\\\\u5e02\\\\u5546\\\\u54c1\\\\u3002 2.\\\\u63d0\\\\u4f9b\\\\u9867\\\\u5ba2\\\\u4e4b\\\\u63a5\\\\u5f85\\\\u8207\\\\u9700\\\\u6c42\\\\u670d\\\\u52d9\\\\uff08\\\\u5982\\\\uff1a\\\\u96fb\\\\u8a71\\\\u8aee\\\\u8a62\\\\u3001\\\\u8abf\\\\u8ca8\\\\u3001\\\\u4fee...\",\"optionEdu\":\"\\\\u5b78\\\\u6b77\\\\u4e0d\\\\u62d8\",\"periodDesc\":\"\\\\u7d93\\\\u6b77\\\\u4e0d\\\\u62d8\",\"custNo\":\"28703641000\",\"custName\":\"HAMA Boutique_\\\\u4e9e\\\\u746a\\\\u570b\\\\u969b\\\\u4f01\\\\u696d\\\\u6709\\\\u9650\\\\u516c\\\\u53f8\",\"salaryDesc\":\"\\\\u6708\\\\u85aa28,000~35,000\\\\u5143\",\"appearDateDesc\":\"12\\\\/16\",\"isSave\":\"0\",\"link\":{\"job\":\"\\\\/\\\\/www.104.com.tw\\\\/job\\\\/7goa1?jobsource=parttimesector\",\"cust\":\"\\\\/\\\\/www.104.com.tw\\\\/company\\\\/d6pen54?jobsource=parttimesector\"},\"jobNameRaw\":\"99 BOUTIQUE \\\\u670d\\\\u98fe\\\\u92b7\\\\u552e\\\\u4eba\\\\u54e1\",\"custNameRaw\":\"HAMA Boutique_\\\\u4e9e\\\\u746a\\\\u570b\\\\u969b\\\\u4f01\\\\u696d\\\\u6709\\\\u9650\\\\u516c\\\\u53f8\",\"lon\":\"121.5462661\",\"lat\":\"25.0405023\"},{\"jobNo\":\"12558249\",\"jobName\":\"\\\\u8a08\\\\u6642\\\\u5916\\\\u5834\\\\u5de5\\\\u4f5c\\\\u4eba\\\\u54e1\",\"description\":\"\",\"optionEdu\":\"\\\\u9ad8\\\\u4e2d\",\"periodDesc\":\"\\\\u7d93\\\\u6b77\\\\u4e0d\\\\u62d8\",\"custNo\":\"130000000181189\",\"custName\":\"element_\\\\u8c50\\\\u5408\\\\u9224\\\\u9e97\\\\u80a1\\\\u4efd\\\\u6709\\\\u9650\\\\u516c\\\\u53f8\",\"salaryDesc\":\"\\\\u6642\\\\u85aa168\\\\u5143\\\\u4ee5\\\\u4e0a\",\"appearDateDesc\":\"12\\\\/17\",\"isSave\":\"0\",\"link\":{\"job\":\"\\\\/\\\\/www.104.com.tw\\\\/job\\\\/7h609?jobsource=parttimesector\",\"cust\":\"\\\\/\\\\/www.104.com.tw\\\\/company\\\\/1a2x6blv45?jobsource=parttimesector\"},\"jobNameRaw\":\"\\\\u8a08\\\\u6642\\\\u5916\\\\u5834\\\\u5de5\\\\u4f5c\\\\u4eba\\\\u54e1\",\"custNameRaw\":\"element_\\\\u8c50\\\\u5408\\\\u9224\\\\u9e97\\\\u80a1\\\\u4efd\\\\u6709\\\\u9650\\\\u516c\\\\u53f8\",\"lon\":\"121.5570695\",\"lat\":\"25.0370331\"},{\"jobNo\":\"12444643\",\"jobName\":\"\\\\u8eca\\\\u7e2b\\\\u4fee\\\\u7dda\\\\u52a9\\\\u624b\\\\u4eba\\\\u54e1\",\"description\":\"\\\\u8077\\\\u7a31:\\\\u8eca\\\\u7e2b\\\\u4fee\\\\u7dda\\\\u52a9\\\\u624b\\\\u4eba\\\\u54e1  \\\\u8077\\\\u52d9\\\\u76ee\\\\u7684:\\\\u5354\\\\u52a9\\\\u516c\\\\u53f8\\\\u8eca\\\\u7e2b\\\\u90e8\\\\u9580\\\\u4fee\\\\u7dda\\\\u53ca\\\\u5099\\\\u6599\\\\uff0c\\\\u4f7f\\\\u7522\\\\u80fd\\\\u589e\\\\u52a0\\\\uff0c\\\\u54c1...\",\"optionEdu\":\"\\\\u5b78\\\\u6b77\\\\u4e0d\\\\u62d8\",\"periodDesc\":\"\\\\u7d93\\\\u6b77\\\\u4e0d\\\\u62d8\",\"custNo\":\"130000000048610\",\"custName\":\"\\\\u82ae\\\\u4e9e\\\\u570b\\\\u969b\\\\u6709\\\\u9650\\\\u516c\\\\u53f8\",\"salaryDesc\":\"\\\\u8ad6\\\\u4ef6\\\\u8a08\\\\u916c20,000~35,000\\\\u5143\",\"appearDateDesc\":\"12\\\\/20\",\"isSave\":\"0\",\"link\":{\"job\":\"\\\\/\\\\/www.104.com.tw\\\\/job\\\\/7eqcj?jobsource=parttimesector\",\"cust\":\"\\\\/\\\\/www.104.com.tw\\\\/company\\\\/1a2x6bj0te?jobsource=parttimesector\"},\"jobNameRaw\":\"\\\\u8eca\\\\u7e2b\\\\u4fee\\\\u7dda\\\\u52a9\\\\u624b\\\\u4eba\\\\u54e1\",\"custNameRaw\":\"\\\\u82ae\\\\u4e9e\\\\u570b\\\\u969b\\\\u6709\\\\u9650\\\\u516c\\\\u53f8\",\"lon\":\"121.5102044\",\"lat\":\"24.99534\"},{\"jobNo\":\"11716110\",\"jobName\":\"\\\\u3010\\\\u5e03\\\\u5a1c\\\\u98db\\\\u6bd4\\\\u5229\\\\u6642\\\\u5564\\\\u9152\\\\u9910\\\\u5ef3\\\\u3011\\\\u53f0\\\\u5317\\\\u4e2d\\\\u5c71\\\\u5e97-\\\\u8a08\\\\u6642\\\\u4eba\\\\u54e1\",\"description\":\"1.\\\\u63a5\\\\u5f85\\\\u3001\\\\u9ede\\\\u9910\\\\u3001\\\\u6536\\\\u9910\\\\u3001\\\\u684c\\\\u9762\\\\u6574\\\\u7406\\\\u3002  2.\\\\u9032\\\\u884c\\\\u5176\\\\u4ed6\\\\u98f2\\\\u6599\\\\u4e4b\\\\u8abf\\\\u88fd\\\\u3001\\\\u9910\\\\u9ede\\\\u88fd\\\\u4f5c\\\\u53ca\\\\u5099\\\\u6599\\\\u3002 ...\",\"optionEdu\":\"\\\\u5b78\\\\u6b77\\\\u4e0d\\\\u62d8\",\"periodDesc\":\"\\\\u7d93\\\\u6b77\\\\u4e0d\\\\u62d8\",\"custNo\":\"130000000132467\",\"custName\":\"\\\\u5e03\\\\u5a1c\\\\u98db\\\\u6709\\\\u9650\\\\u516c\\\\u53f8\",\"salaryDesc\":\"\\\\u6642\\\\u85aa160~175\\\\u5143\",\"appearDateDesc\":\"12\\\\/21\",\"isSave\":\"0\",\"link\":{\"job\":\"\\\\/\\\\/www.104.com.tw\\\\/job\\\\/6z47i?jobsource=parttimesector\",\"cust\":\"\\\\/\\\\/www.104.com.tw\\\\/company\\\\/1a2x6bktir?jobsource=parttimesector\"},\"jobNameRaw\":\"\\\\u3010\\\\u5e03\\\\u5a1c\\\\u98db\\\\u6bd4\\\\u5229\\\\u6642\\\\u5564\\\\u9152\\\\u9910\\\\u5ef3\\\\u3011\\\\u53f0\\\\u5317\\\\u4e2d\\\\u5c71\\\\u5e97-\\\\u8a08\\\\u6642\\\\u4eba\\\\u54e1\",\"custNameRaw\":\"\\\\u5e03\\\\u5a1c\\\\u98db\\\\u6709\\\\u9650\\\\u516c\\\\u53f8\",\"lon\":\"121.5204854\",\"lat\":\"25.0485882\"},{\"jobNo\":\"12448123\",\"jobName\":\"\\\\u8ca1\\\\u52d9\\\\/\\\\u884c\\\\u653f\\\\u90e8-\\\\u5de5\\\\u8b80\\\\u751f\",\"description\":\"1. \\\\u6536\\\\u767c\\\\u3001\\\\u8a18\\\\u9304\\\\u53ca\\\\u5f59\\\\u6574\\\\u4ea4\\\\u6613\\\\u7522\\\\u751f\\\\u4e4b\\\\u539f\\\\u59cb\\\\u6191\\\\u8b49 \\\\uff0c\\\\u4e26\\\\u767b\\\\u9304\\\\u81f3\\\\u6703\\\\u8a08\\\\u7cfb\\\\u7d71\\\\u88fd\\\\u4f5c\\\\u50b3\\\\u7968\\\\u3002  2....\",\"optionEdu\":\"\\\\u5c08\\\\u79d1\",\"periodDesc\":\"1\\\\u5e74\\\\u4ee5\\\\u4e0a\",\"custNo\":\"130000000092488\",\"custName\":\"ELEVEN SPORTS_\\\\u82f1\\\\u5546\\\\u58f9\\\\u62fe\\\\u58f9\\\\u9ad4\\\\u80b2\\\\u7db2\\\\u6709\\\\u9650\\\\u516c\\\\u53f8\\\\u53f0\\\\u7063\\\\u5206\\\\u516c\\\\u53f8\",\"salaryDesc\":\"\\\\u6642\\\\u85aa160\\\\u5143\\\\u4ee5\\\\u4e0a\",\"appearDateDesc\":\"12\\\\/16\",\"isSave\":\"0\",\"link\":{\"job\":\"\\\\/\\\\/www.104.com.tw\\\\/job\\\\/7et17?jobsource=parttimesector\",\"cust\":\"\\\\/\\\\/www.104.com.tw\\\\/company\\\\/1a2x6bjyo8?jobsource=parttimesector\"},\"jobNameRaw\":\"\\\\u8ca1\\\\u52d9\\\\/\\\\u884c\\\\u653f\\\\u90e8-\\\\u5de5\\\\u8b80\\\\u751f\",\"custNameRaw\":\"ELEVEN SPORTS_\\\\u82f1\\\\u5546\\\\u58f9\\\\u62fe\\\\u58f9\\\\u9ad4\\\\u80b2\\\\u7db2\\\\u6709\\\\u9650\\\\u516c\\\\u53f8\\\\u53f0\\\\u7063\\\\u5206\\\\u516c\\\\u53f8\",\"lon\":\"121.5574983\",\"lat\":\"25.0432822\"},{\"jobNo\":\"11924170\",\"jobName\":\"\\\\u8a3a\\\\u6240\\\\u52a9\\\\u7406\\\\uff08\\\\u665a\\\\u73ed\\\\uff09\",\"description\":\"\\\\u884c\\\\u653f\\\\u52a9\\\\u7406\\\\uff08\\\\u639b\\\\u865f\\\\uff0c\\\\u63a5\\\\u96fb\\\\u8a71\\\\uff0c\\\\u6279\\\\u50f9\\\\uff0c\\\\u6e96\\\\u5099\\\\u85e5\\\\u6750\\\\uff09 \\\\u74b0\\\\u5883\\\\u6253\\\\u6383\\\\uff0c\\\\u5668\\\\u68b0\\\\u6d88\\\\u6bd2\",\"optionEdu\":\"\\\\u5b78\\\\u6b77\\\\u4e0d\\\\u62d8\",\"periodDesc\":\"\\\\u7d93\\\\u6b77\\\\u4e0d\\\\u62d8\",\"custNo\":\"130000000125279\",\"custName\":\"\\\\u4f73\\\\u79be\\\\u7259\\\\u91ab\\\\u8a3a\\\\u6240\",\"salaryDesc\":\"\\\\u6642\\\\u85aa160~200\\\\u5143\",\"appearDateDesc\":\"12\\\\/19\",\"isSave\":\"0\",\"link\":{\"job\":\"\\\\/\\\\/www.104.com.tw\\\\/job\\\\/73kqy?jobsource=parttimesector\",\"cust\":\"\\\\/\\\\/www.104.com.tw\\\\/company\\\\/1a2x6bknz3?jobsource=parttimesector\"},\"jobNameRaw\":\"\\\\u8a3a\\\\u6240\\\\u52a9\\\\u7406\\\\uff08\\\\u665a\\\\u73ed\\\\uff09\",\"custNameRaw\":\"\\\\u4f73\\\\u79be\\\\u7259\\\\u91ab\\\\u8a3a\\\\u6240\",\"lon\":\"121.5581688\",\"lat\":\"25.0480292\"},{\"jobNo\":\"11858532\",\"jobName\":\"\\\\u3010\\\\u5be6\\\\u7fd2\\\\u751f\\\\u3011\\\\u524d\\\\u7aef\\\\u5de5\\\\u7a0b\\\\u5e2b\\\\u5be6\\\\u7fd2\\\\u751f Frontend Intern - GIRLSTYLE\",\"description\":\"\\\\u3010\\\\u95dc\\\\u65bc PressLogic\\\\u3011 \\\\u9999\\\\u6e2f\\\\u8457\\\\u540d\\\\u79d1\\\\u6280\\\\u521d\\\\u5275\\\\u516c\\\\u53f8 - \\\\u300cPressLogi...\",\"optionEdu\":\"\\\\u5927\\\\u5b78\",\"periodDesc\":\"\\\\u7d93\\\\u6b77\\\\u4e0d\\\\u62d8\",\"custNo\":\"130000000114379\",\"custName\":\"\\\\u9999\\\\u6e2f\\\\u5546\\\\u53f0\\\\u7063\\\\u908f\\\\u8f2f\\\\u5a92\\\\u9ad4\\\\u79d1\\\\u6280\\\\u6709\\\\u9650\\\\u516c\\\\u53f8\\\\u53f0\\\\u7063\\\\u5206\\\\u516c\\\\u53f8\",\"salaryDesc\":\"\\\\u6642\\\\u85aa200\\\\u5143\",\"appearDateDesc\":\"12\\\\/15\",\"isSave\":\"0\",\"link\":{\"job\":\"\\\\/\\\\/www.104.com.tw\\\\/job\\\\/7263o?jobsource=parttimesector\",\"cust\":\"\\\\/\\\\/www.104.com.tw\\\\/company\\\\/1a2x6bkfkb?jobsource=parttimesector\"},\"jobNameRaw\":\"\\\\u3010\\\\u5be6\\\\u7fd2\\\\u751f\\\\u3011\\\\u524d\\\\u7aef\\\\u5de5\\\\u7a0b\\\\u5e2b\\\\u5be6\\\\u7fd2\\\\u751f Frontend Intern - GIRLSTYLE\",\"custNameRaw\":\"\\\\u9999\\\\u6e2f\\\\u5546\\\\u53f0\\\\u7063\\\\u908f\\\\u8f2f\\\\u5a92\\\\u9ad4\\\\u79d1\\\\u6280\\\\u6709\\\\u9650\\\\u516c\\\\u53f8\\\\u53f0\\\\u7063\\\\u5206\\\\u516c\\\\u53f8\",\"lon\":\"121.5574173\",\"lat\":\"25.0435203\"},{\"jobNo\":\"11854314\",\"jobName\":\"\\\\u3010\\\\u6642\\\\u85aa170\\\\u8d77\\\\u3011 \\\\u9577\\\\u671f\\\\u5de5\\\\u8b80\\\\u751f  \\\\u5167\\\\/\\\\u5916\\\\u5834 \\\\u65e9\\\\/\\\\u665a\\\\u73ed  (\\\\u4e0a\\\\u6751\\\\u7267\\\\u5834 \\\\u5fae\\\\u98a8\\\\u5317\\\\u8eca\\\\u5e97) (\\\\u6b61\\\\u8fce\\\\u5b78\\\\u751f\\\\u5be6\\\\u7fd2)\",\"description\":\"\\\\u25c6\\\\u6eff\\\\u534a\\\\u5e74\\\\u4ee5\\\\u4e0a\\\\u53e6\\\\u6709\\\\u7279\\\\u4f11\\\\u91d1\\\\uff0c\\\\u505a\\\\u8d8a\\\\u4e45\\\\u9818\\\\u8d8a\\\\u591a \\\\u25c6\\\\u6bcf\\\\u9031\\\\u81f3\\\\u5c11\\\\u914d\\\\u5408\\\\u56db~\\\\u4e94\\\\u5929\\\\u73ed(\\\\u542b\\\\u5047\\\\u65e5) \\\\u25c6\\\\u6bcf...\",\"optionEdu\":\"\\\\u5b78\\\\u6b77\\\\u4e0d\\\\u62d8\",\"periodDesc\":\"\\\\u7d93\\\\u6b77\\\\u4e0d\\\\u62d8\",\"custNo\":\"27725371000\",\"custName\":\"\\\\u53f0\\\\u7063\\\\u548c\\\\u6c11\\\\u9910\\\\u98f2\\\\u80a1\\\\u4efd\\\\u6709\\\\u9650\\\\u516c\\\\u53f8\",\"salaryDesc\":\"\\\\u6642\\\\u85aa170~200\\\\u5143\",\"appearDateDesc\":\"12\\\\/20\",\"isSave\":\"0\",\"link\":{\"job\":\"\\\\/\\\\/www.104.com.tw\\\\/job\\\\/722ui?jobsource=parttimesector\",\"cust\":\"\\\\/\\\\/www.104.com.tw\\\\/company\\\\/cqiyx6g?jobsource=parttimesector\"},\"jobNameRaw\":\"\\\\u3010\\\\u6642\\\\u85aa170\\\\u8d77\\\\u3011 \\\\u9577\\\\u671f\\\\u5de5\\\\u8b80\\\\u751f  \\\\u5167\\\\/\\\\u5916\\\\u5834 \\\\u65e9\\\\/\\\\u665a\\\\u73ed  (\\\\u4e0a\\\\u6751\\\\u7267\\\\u5834 \\\\u5fae\\\\u98a8\\\\u5317\\\\u8eca\\\\u5e97) (\\\\u6b61\\\\u8fce\\\\u5b78\\\\u751f\\\\u5be6\\\\u7fd2)\",\"custNameRaw\":\"\\\\u53f0\\\\u7063\\\\u548c\\\\u6c11\\\\u9910\\\\u98f2\\\\u80a1\\\\u4efd\\\\u6709\\\\u9650\\\\u516c\\\\u53f8\",\"lon\":\"121.5167338\",\"lat\":\"25.0473866\"},{\"jobNo\":\"11014212\",\"jobName\":\"\\\\u3010\\\\u53f0\\\\u7063\\\\u677e\\\\u5c4b MATSUYA - \\\\u53f0\\\\u5317\\\\u897f\\\\u9580\\\\u753a\\\\u5e97\\\\u3011\\\\u300a\\\\u5167\\\\u5834\\\\u300b\\\\u5de5\\\\u8b80\\\\u751f\\\\/\\\\u517c\\\\u8077\\\\u4eba\\\\u54e1 \\\\u2606\\\\u6642\\\\u85aa180\\\\u5143\\\\u2606 \\\\u665a\\\\u73ed\",\"description\":\"\\\\u203b\\\\u65bc\\\\u897f\\\\u9580\\\\u6377\\\\u904b\\\\u7ad91\\\\u865f\\\\u51fa\\\\u53e3\\\\uff0c\\\\u901a\\\\u52e4\\\\u65b9\\\\u4fbf\\\\uff0c\\\\u4e0b\\\\u73ed\\\\u5f8c\\\\u8cfc\\\\u7269\\\\u65b9\\\\u4fbf\\\\u3002  \\\\u3010\\\\u6b61\\\\u8fce\\\\u60a8\\\\u7684\\\\u52a0\\\\u5165\\\\u3011 \\\\u975e\\\\u5e38\\\\u6b61...\",\"optionEdu\":\"\\\\u5b78\\\\u6b77\\\\u4e0d\\\\u62d8\",\"periodDesc\":\"\\\\u7d93\\\\u6b77\\\\u4e0d\\\\u62d8\",\"custNo\":\"130000000120487\",\"custName\":\"\\\\u65e5\\\\u5546_\\\\u53f0\\\\u7063\\\\u677e\\\\u5c4b\\\\u9910\\\\u98f2\\\\u80a1\\\\u4efd\\\\u6709\\\\u9650\\\\u516c\\\\u53f8\",\"salaryDesc\":\"\\\\u6642\\\\u85aa180~230\\\\u5143\",\"appearDateDesc\":\"12\\\\/16\",\"isSave\":\"0\",\"link\":{\"job\":\"\\\\/\\\\/www.104.com.tw\\\\/job\\\\/6k2mc?jobsource=parttimesector\",\"cust\":\"\\\\/\\\\/www.104.com.tw\\\\/company\\\\/1a2x6bkk9z?jobsource=parttimesector\"},\"jobNameRaw\":\"\\\\u3010\\\\u53f0\\\\u7063\\\\u677e\\\\u5c4b MATSUYA - \\\\u53f0\\\\u5317\\\\u897f\\\\u9580\\\\u753a\\\\u5e97\\\\u3011\\\\u300a\\\\u5167\\\\u5834\\\\u300b\\\\u5de5\\\\u8b80\\\\u751f\\\\/\\\\u517c\\\\u8077\\\\u4eba\\\\u54e1 \\\\u2606\\\\u6642\\\\u85aa180\\\\u5143\\\\u2606 \\\\u665a\\\\u73ed\",\"custNameRaw\":\"\\\\u65e5\\\\u5546_\\\\u53f0\\\\u7063\\\\u677e\\\\u5c4b\\\\u9910\\\\u98f2\\\\u80a1\\\\u4efd\\\\u6709\\\\u9650\\\\u516c\\\\u53f8\",\"lon\":\"121.507035\",\"lat\":\"25.041771\"},{\"jobNo\":\"11566640\",\"jobName\":\"\\\\u65b0\\\\u5149\\\\u4e09\\\\u8d8aA11(\\\\u53f0\\\\u5317)PRESS BUTTER SAND\\\\u517c\\\\u8077\\\\u4eba\\\\u54e1\",\"description\":\"\\\\uff0e\\\\u517c\\\\u8077\\\\u4eba\\\\u54e1\\\\uff1a\\\\u6bcf\\\\u5c0f\\\\u6642200\\\\u5143\\\\u8d77 \\\\uff0e\\\\u71df\\\\u696d\\\\u65e5\\\\u671f\\\\uff1a2022\\\\/01\\\\/13~2022\\\\/02...\",\"optionEdu\":\"\\\\u5b78\\\\u6b77\\\\u4e0d\\\\u62d8\",\"periodDesc\":\"\\\\u7d93\\\\u6b77\\\\u4e0d\\\\u62d8\",\"custNo\":\"130000000106781\",\"custName\":\"\\\\u53f0\\\\u7063\\\\u7119\\\\u51f1\\\\u80a1\\\\u4efd\\\\u6709\\\\u9650\\\\u516c\\\\u53f8\",\"salaryDesc\":\"\\\\u6642\\\\u85aa200\\\\u5143\\\\u4ee5\\\\u4e0a\",\"appearDateDesc\":\"12\\\\/15\",\"isSave\":\"0\",\"link\":{\"job\":\"\\\\/\\\\/www.104.com.tw\\\\/job\\\\/6vwvk?jobsource=parttimesector\",\"cust\":\"\\\\/\\\\/www.104.com.tw\\\\/company\\\\/1a2x6bk9p9?jobsource=parttimesector\"},\"jobNameRaw\":\"\\\\u65b0\\\\u5149\\\\u4e09\\\\u8d8aA11(\\\\u53f0\\\\u5317)PRESS BUTTER SAND\\\\u517c\\\\u8077\\\\u4eba\\\\u54e1\",\"custNameRaw\":\"\\\\u53f0\\\\u7063\\\\u7119\\\\u51f1\\\\u80a1\\\\u4efd\\\\u6709\\\\u9650\\\\u516c\\\\u53f8\",\"lon\":\"121.5672369\",\"lat\":\"25.0367103\"},{\"jobNo\":\"11961140\",\"jobName\":\"\\\\u884c\\\\u653f\\\\u52a9\\\\u7406\",\"description\":\"1.\\\\u500b\\\\u6027\\\\u4e3b\\\\u52d5\\\\u7a4d\\\\u6975\\\\uff0c\\\\u64c5\\\\u9577\\\\u8207\\\\u5ba2\\\\u6236\\\\u61c9\\\\u5c0d\\\\uff0c\\\\u6e9d\\\\u901a\\\\uff0c\\\\u7d30\\\\u5fc3\\\\u6709\\\\u8010\\\\u6027\\\\uff0c\\\\u64c5\\\\u9577\\\\u5404\\\\u7a2e\\\\u8aee\\\\u8a62\\\\uff0c\\\\u6297\\\\u58d3\\\\u6027\\\\u5f37\\\\u3002\\\\uff08...\",\"optionEdu\":\"\\\\u5927\\\\u5b78\",\"periodDesc\":\"\\\\u7d93\\\\u6b77\\\\u4e0d\\\\u62d8\",\"custNo\":\"130000000014174\",\"custName\":\"\\\\u6587\\\\u5316\\\\u5b78\\\\u5712\\\\u7559\\\\u5b78\\\\u9867\\\\u554f\\\\u6709\\\\u9650\\\\u516c\\\\u53f8\",\"salaryDesc\":\"\\\\u6642\\\\u85aa170~200\\\\u5143\",\"appearDateDesc\":\"12\\\\/16\",\"isSave\":\"0\",\"link\":{\"job\":\"\\\\/\\\\/www.104.com.tw\\\\/job\\\\/74d9w?jobsource=parttimesector\",\"cust\":\"\\\\/\\\\/www.104.com.tw\\\\/company\\\\/1a2x6bia8u?jobsource=parttimesector\"},\"jobNameRaw\":\"\\\\u884c\\\\u653f\\\\u52a9\\\\u7406\",\"custNameRaw\":\"\\\\u6587\\\\u5316\\\\u5b78\\\\u5712\\\\u7559\\\\u5b78\\\\u9867\\\\u554f\\\\u6709\\\\u9650\\\\u516c\\\\u53f8\",\"lon\":\"121.513388\",\"lat\":\"25.0446169\"},{\"jobNo\":\"12368631\",\"jobName\":\"\\\\u53f0\\\\u5317-\\\\u670d\\\\u98fe\\\\u92b7\\\\u552e\\\\u5be6\\\\u7fd2\\\\u9867\\\\u554f(\\\\u9577\\\\u671f\\\\u517c\\\\u8077\\\\u53ef\\\\u63a5\\\\u53d7\\\\u696d\\\\u7e3e\\\\u6311\\\\u6230\\\\u8005\\\\uff0c\\\\u54c1\\\\u724c\\\\uff1aizzue \\\\/ :chocoolate )\",\"description\":\"1.\\\\u8ca0\\\\u8cac\\\\u9867\\\\u5ba2\\\\u5546\\\\u54c1\\\\u670d\\\\u52d9\\\\u53ca\\\\u92b7\\\\u552e\\\\uff0c\\\\u642d\\\\u914d\\\\u670d\\\\u98fe\\\\u3001\\\\u5354\\\\u52a9\\\\u8ce3\\\\u5834\\\\u6574\\\\u6f54\\\\u3001\\\\u5eab\\\\u5b58\\\\u7ba1\\\\u7406\\\\u53ca\\\\u7d50\\\\u5e33\\\\u3002 2.\\\\u53ef\\\\u914d...\",\"optionEdu\":\"\\\\u9ad8\\\\u4e2d\",\"periodDesc\":\"\\\\u7d93\\\\u6b77\\\\u4e0d\\\\u62d8\",\"custNo\":\"27242760000\",\"custName\":\"\\\\u9999\\\\u6e2fI.T\\\\u96c6\\\\u5718_\\\\u9999\\\\u6e2f\\\\u5546\\\\u7fca\\\\u9f0e\\\\u570b\\\\u969b\\\\u958b\\\\u767c\\\\u80a1\\\\u4efd\\\\u6709\\\\u9650\\\\u516c\\\\u53f8\\\\u53f0\\\\u7063\\\\u5206\\\\u516c\\\\u53f8\",\"salaryDesc\":\"\\\\u6642\\\\u85aa160\\\\u5143\\\\u4ee5\\\\u4e0a\",\"appearDateDesc\":\"12\\\\/15\",\"isSave\":\"0\",\"link\":{\"job\":\"\\\\/\\\\/www.104.com.tw\\\\/job\\\\/7d3p3?jobsource=parttimesector\",\"cust\":\"\\\\/\\\\/www.104.com.tw\\\\/company\\\\/cijmw5c?jobsource=parttimesector\"},\"jobNameRaw\":\"\\\\u53f0\\\\u5317-\\\\u670d\\\\u98fe\\\\u92b7\\\\u552e\\\\u5be6\\\\u7fd2\\\\u9867\\\\u554f(\\\\u9577\\\\u671f\\\\u517c\\\\u8077\\\\u53ef\\\\u63a5\\\\u53d7\\\\u696d\\\\u7e3e\\\\u6311\\\\u6230\\\\u8005\\\\uff0c\\\\u54c1\\\\u724c\\\\uff1aizzue \\\\/ :chocoolate )\",\"custNameRaw\":\"\\\\u9999\\\\u6e2fI.T\\\\u96c6\\\\u5718_\\\\u9999\\\\u6e2f\\\\u5546\\\\u7fca\\\\u9f0e\\\\u570b\\\\u969b\\\\u958b\\\\u767c\\\\u80a1\\\\u4efd\\\\u6709\\\\u9650\\\\u516c\\\\u53f8\\\\u53f0\\\\u7063\\\\u5206\\\\u516c\\\\u53f8\",\"lon\":\"121.5672444\",\"lat\":\"25.0363061\"},{\"jobNo\":\"12141698\",\"jobName\":\"\\\\u884c\\\\u653f\\\\u52a9\\\\u7406\\\\u79d8\\\\u66f8\",\"description\":\"1.\\\\u5354\\\\u52a9\\\\u516c\\\\u53f8\\\\u6587\\\\u4ef6\\\\u4e4b\\\\u5efa\\\\u6a94\\\\u3001\\\\u7ba1\\\\u7406\\\\u3002 2.\\\\u8ca0\\\\u8cac\\\\u90f5\\\\u4ef6\\\\u53ca\\\\u5167\\\\u90e8\\\\u6587\\\\u4ef6\\\\u4e4b\\\\u6536\\\\u767c\\\\u3002 3.\\\\u5354\\\\u52a9\\\\u8655\\\\u7406\\\\u5eb6...\",\"optionEdu\":\"\\\\u5c08\\\\u79d1\",\"periodDesc\":\"\\\\u7d93\\\\u6b77\\\\u4e0d\\\\u62d8\",\"custNo\":\"130000000166223\",\"custName\":\"\\\\u7948\\\\u7652\\\\u6709\\\\u9650\\\\u516c\\\\u53f8\",\"salaryDesc\":\"\\\\u6642\\\\u85aa160\\\\u5143\",\"appearDateDesc\":\"12\\\\/15\",\"isSave\":\"0\",\"link\":{\"job\":\"\\\\/\\\\/www.104.com.tw\\\\/job\\\\/788le?jobsource=parttimesector\",\"cust\":\"\\\\/\\\\/www.104.com.tw\\\\/company\\\\/1a2x6bljkf?jobsource=parttimesector\"},\"jobNameRaw\":\"\\\\u884c\\\\u653f\\\\u52a9\\\\u7406\\\\u79d8\\\\u66f8\",\"custNameRaw\":\"\\\\u7948\\\\u7652\\\\u6709\\\\u9650\\\\u516c\\\\u53f8\",\"lon\":\"121.5651274\",\"lat\":\"25.0413231\"},{\"jobNo\":\"7821015\",\"jobName\":\"\\\\u6642\\\\u85aa185\\\\u5143\\\\u2191&quot;\\\\u7121\\\\u7d93\\\\u9a57\\\\u53ef&quot;~\\\\u6bcf\\\\u6708\\\\u734e\\\\u91d1\\\\u52a0\\\\u7d66\\\\u6700\\\\u9ad81000\\\\u5143!!\\\\u3010YAYOI\\\\u5f4c\\\\u751f\\\\u8ed2\\\\u65e5\\\\u672c\\\\u5b9a\\\\u98df\\\\u3011-\\\\u8a08\\\\u6642\\\\u4eba\\\\u54e1-\\\\u6566\\\\u5357\\\\u548c\\\\u5e73\\\\u5e97_\\\\u5167\\\\/\\\\u5916\\\\u5834\",\"description\":\"\\\\u6b61\\\\u8fce\\\\u6d3b\\\\u6f51\\\\u958b\\\\u6717\\\\u3001\\\\u5c0d\\\\u9910\\\\u98f2\\\\u6709\\\\u71b1\\\\u60c5\\\\u7684\\\\u60a8\\\\u4e00\\\\u540c\\\\u52a0\\\\u5165\\\\u6211\\\\u5011\\\\u7684\\\\u884c\\\\u5217\\\\uff01\\\\u6211\\\\u5011\\\\u63d0\\\\u4f9b\\\\u5c08\\\\u696d\\\\u57f9\\\\u8a13\\\\u3001\\\\u660e\\\\u4eae\\\\u53ca\\\\u8212\\\\u9069...\",\"optionEdu\":\"\\\\u5b78\\\\u6b77\\\\u4e0d\\\\u62d8\",\"periodDesc\":\"\\\\u7d93\\\\u6b77\\\\u4e0d\\\\u62d8\",\"custNo\":\"130000000039090\",\"custName\":\"YAYOI_\\\\u81fa\\\\u7063\\\\u5bcc\\\\u79ae\\\\u7d0d\\\\u601d\\\\u80a1\\\\u4efd\\\\u6709\\\\u9650\\\\u516c\\\\u53f8\",\"salaryDesc\":\"\\\\u6642\\\\u85aa185~200\\\\u5143\",\"appearDateDesc\":\"12\\\\/20\",\"isSave\":\"0\",\"link\":{\"job\":\"\\\\/\\\\/www.104.com.tw\\\\/job\\\\/4nmqf?jobsource=parttimesector\",\"cust\":\"\\\\/\\\\/www.104.com.tw\\\\/company\\\\/1a2x6bitgy?jobsource=parttimesector\"},\"jobNameRaw\":\"\\\\u6642\\\\u85aa185\\\\u5143\\\\u2191\\\\\"\\\\u7121\\\\u7d93\\\\u9a57\\\\u53ef\\\\\"~\\\\u6bcf\\\\u6708\\\\u734e\\\\u91d1\\\\u52a0\\\\u7d66\\\\u6700\\\\u9ad81000\\\\u5143!!\\\\u3010YAYOI\\\\u5f4c\\\\u751f\\\\u8ed2\\\\u65e5\\\\u672c\\\\u5b9a\\\\u98df\\\\u3011-\\\\u8a08\\\\u6642\\\\u4eba\\\\u54e1-\\\\u6566\\\\u5357\\\\u548c\\\\u5e73\\\\u5e97_\\\\u5167\\\\/\\\\u5916\\\\u5834\",\"custNameRaw\":\"YAYOI_\\\\u81fa\\\\u7063\\\\u5bcc\\\\u79ae\\\\u7d0d\\\\u601d\\\\u80a1\\\\u4efd\\\\u6709\\\\u9650\\\\u516c\\\\u53f8\",\"lon\":\"121.549145\",\"lat\":\"25.025102\"},{\"jobNo\":\"7339689\",\"jobName\":\"\\\\uff39\\\\uff2f\\\\uff2b\\\\uff35\\\\u3000\\\\uff2d\\\\uff2f\\\\uff2b\\\\uff35\\\\u517c\\\\u8077\\\\u4eba\\\\u54e1\\\\uff08\\\\u65b0\\\\u5149\\\\u4e09\\\\u8d8a\\\\u4fe1\\\\u7fa9A4\\\\u5e97\\\\uff09\",\"description\":\"1.\\\\u8ca0\\\\u8cac\\\\u63a5\\\\u5f85\\\\u3001\\\\u4ecb\\\\u7d39\\\\u3001\\\\u8ca9\\\\u552e\\\\u54c1\\\\u724c\\\\u5546\\\\u54c1\\\\u4e26\\\\u56de\\\\u61c9\\\\u5ba2\\\\u6236\\\\u8981\\\\u6c42 2.\\\\u8207\\\\u516c\\\\u53f8\\\\u5171\\\\u6210\\\\u9577,\\\\u9858\\\\u63a5\\\\u53d7\\\\u57f9\\\\u8a13\\\\u8f2a...\",\"optionEdu\":\"\\\\u9ad8\\\\u4e2d\",\"periodDesc\":\"\\\\u7d93\\\\u6b77\\\\u4e0d\\\\u62d8\",\"custNo\":\"53165901000\",\"custName\":\"YOKU MOKU_\\\\u5bcc\\\\u597d\\\\u80a1\\\\u4efd\\\\u6709\\\\u9650\\\\u516c\\\\u53f8\\\\u53f0\\\\u5317\\\\u5206\\\\u516c\\\\u53f8\",\"salaryDesc\":\"\\\\u6642\\\\u85aa160~168\\\\u5143\",\"appearDateDesc\":\"12\\\\/20\",\"isSave\":\"0\",\"link\":{\"job\":\"\\\\/\\\\/www.104.com.tw\\\\/job\\\\/4dbc9?jobsource=parttimesector\",\"cust\":\"\\\\/\\\\/www.104.com.tw\\\\/company\\\\/of9lrrc?jobsource=parttimesector\"},\"jobNameRaw\":\"\\\\uff39\\\\uff2f\\\\uff2b\\\\uff35\\\\u3000\\\\uff2d\\\\uff2f\\\\uff2b\\\\uff35\\\\u517c\\\\u8077\\\\u4eba\\\\u54e1\\\\uff08\\\\u65b0\\\\u5149\\\\u4e09\\\\u8d8a\\\\u4fe1\\\\u7fa9A4\\\\u5e97\\\\uff09\",\"custNameRaw\":\"YOKU MOKU_\\\\u5bcc\\\\u597d\\\\u80a1\\\\u4efd\\\\u6709\\\\u9650\\\\u516c\\\\u53f8\\\\u53f0\\\\u5317\\\\u5206\\\\u516c\\\\u53f8\",\"lon\":\"121.567026\",\"lat\":\"25.039329\"},{\"jobNo\":\"12098948\",\"jobName\":\"\\\\u5168\\\\u570b\\\\u696d\\\\u52d9\\\\u958b\\\\u767c (\\\\u5404\\\\u7e23\\\\u5e02\\\\u7686\\\\u53ef)\",\"description\":\"\\\\u672c\\\\u516c\\\\u53f8\\\\u662f\\\\u5f9e\\\\u4e8b\\\\u516c\\\\u53f8\\\\u8cb7\\\\u8ce3\\\\u7684\\\\u4ea4\\\\u6613\\\\u5e73\\\\u53f0\\\\uff0c\\\\u8aa0\\\\u5fb5\\\\u92b7\\\\u552e\\\\u9ad8\\\\u5c08\\\\u3002  \\\\u53ea\\\\u8981\\\\u5c07\\\\u6709\\\\u610f\\\\u9858\\\\u51fa\\\\u552e\\\\u7684\\\\u516c\\\\u53f8\\\\u5728\\\\u5e73\\\\u53f0...\",\"optionEdu\":\"\\\\u5b78\\\\u6b77\\\\u4e0d\\\\u62d8\",\"periodDesc\":\"\\\\u7d93\\\\u6b77\\\\u4e0d\\\\u62d8\",\"custNo\":\"130000000164715\",\"custName\":\"\\\\u5d07\\\\u683c\\\\u7ba1\\\\u7406\\\\u9867\\\\u554f\\\\u80a1\\\\u4efd\\\\u6709\\\\u9650\\\\u516c\\\\u53f8\",\"salaryDesc\":\"\\\\u8ad6\\\\u4ef6\\\\u8a08\\\\u916c13,333~999,999\\\\u5143\",\"appearDateDesc\":\"12\\\\/19\",\"isSave\":\"0\",\"link\":{\"job\":\"\\\\/\\\\/www.104.com.tw\\\\/job\\\\/77blw?jobsource=parttimesector\",\"cust\":\"\\\\/\\\\/www.104.com.tw\\\\/company\\\\/1a2x6bliej?jobsource=parttimesector\"},\"jobNameRaw\":\"\\\\u5168\\\\u570b\\\\u696d\\\\u52d9\\\\u958b\\\\u767c (\\\\u5404\\\\u7e23\\\\u5e02\\\\u7686\\\\u53ef)\",\"custNameRaw\":\"\\\\u5d07\\\\u683c\\\\u7ba1\\\\u7406\\\\u9867\\\\u554f\\\\u80a1\\\\u4efd\\\\u6709\\\\u9650\\\\u516c\\\\u53f8\",\"lon\":\"121.5433783\",\"lat\":\"25.0249441\"},{\"jobNo\":\"12378886\",\"jobName\":\"OB\\\\u56b4\\\\u9078_\\\\u517c\\\\u8077\\\\u9580\\\\u5e02\\\\u4eba\\\\u54e1-\\\\u5fe0\\\\u5b5d\\\\u5e97\",\"description\":\"1.\\\\u5c0d\\\\u670d\\\\u52d9\\\\u696d\\\\u5177\\\\u6709\\\\u7121\\\\u6bd4\\\\u7684\\\\u71b1\\\\u5ff1  2.\\\\u6d3b\\\\u6f51\\\\u958b\\\\u6717,\\\\u559c\\\\u6b61\\\\u8207\\\\u4eba\\\\u7fa4\\\\u63a5\\\\u89f8  3.\\\\u8ca0\\\\u8cac\\\\u92b7\\\\u552e\\\\u670d\\\\u52d9...\",\"optionEdu\":\"\\\\u9ad8\\\\u4e2d\",\"periodDesc\":\"\\\\u7d93\\\\u6b77\\\\u4e0d\\\\u62d8\",\"custNo\":\"27997582000\",\"custName\":\"OB\\\\u56b4\\\\u9078_\\\\u6a58\\\\u718a\\\\u79d1\\\\u6280\\\\u80a1\\\\u4efd\\\\u6709\\\\u9650\\\\u516c\\\\u53f8\",\"salaryDesc\":\"\\\\u6642\\\\u85aa160\\\\u5143\",\"appearDateDesc\":\"12\\\\/09\",\"isSave\":\"0\",\"link\":{\"job\":\"\\\\/\\\\/www.104.com.tw\\\\/job\\\\/7dbly?jobsource=parttimesector\",\"cust\":\"\\\\/\\\\/www.104.com.tw\\\\/company\\\\/cv11cj4?jobsource=parttimesector\"},\"jobNameRaw\":\"OB\\\\u56b4\\\\u9078_\\\\u517c\\\\u8077\\\\u9580\\\\u5e02\\\\u4eba\\\\u54e1-\\\\u5fe0\\\\u5b5d\\\\u5e97\",\"custNameRaw\":\"OB\\\\u56b4\\\\u9078_\\\\u6a58\\\\u718a\\\\u79d1\\\\u6280\\\\u80a1\\\\u4efd\\\\u6709\\\\u9650\\\\u516c\\\\u53f8\",\"lon\":\"121.55176\",\"lat\":\"25.0431183\"},{\"jobNo\":\"11625579\",\"jobName\":\"\\\\u7db2\\\\u9801\\\\u524d\\\\u5f8c\\\\u7aef\\\\u7a0b\\\\u5f0f\\\\u8a2d\\\\u8a08\\\\u5be6\\\\u7fd2\\\\u4eba\\\\u54e1\",\"description\":\"\\\\uff1c\\\\u5de5\\\\u4f5c\\\\u5167\\\\u5bb9\\\\uff1e \\\\u5354\\\\u52a9\\\\u7a0b\\\\u5f0f\\\\u8a2d\\\\u8a08\\\\u5e2b\\\\u9032\\\\u884c\\\\u4e0b\\\\u5217\\\\u5de5\\\\u4f5c\\\\uff1a 1. \\\\u7db2\\\\u7ad9\\\\u524d\\\\u7aef\\\\u7a0b\\\\u5f0f\\\\u8a2d\\\\u8a08\\\\u958b\\\\u767c,\\\\u5982CS...\",\"optionEdu\":\"\\\\u5c08\\\\u79d1\",\"periodDesc\":\"\\\\u7d93\\\\u6b77\\\\u4e0d\\\\u62d8\",\"custNo\":\"24470446000\",\"custName\":\"\\\\u5fb7\\\\u548c\\\\u6708\\\\u570b\\\\u969b\\\\u79d1\\\\u6280\\\\u80a1\\\\u4efd\\\\u6709\\\\u9650\\\\u516c\\\\u53f8\",\"salaryDesc\":\"\\\\u8ad6\\\\u4ef6\\\\u8a08\\\\u916c50~500\\\\u5143\",\"appearDateDesc\":\"11\\\\/26\",\"isSave\":\"0\",\"link\":{\"job\":\"\\\\/\\\\/www.104.com.tw\\\\/job\\\\/6x6cr?jobsource=parttimesector\",\"cust\":\"\\\\/\\\\/www.104.com.tw\\\\/company\\\\/b8p2kz4?jobsource=parttimesector\"},\"jobNameRaw\":\"\\\\u7db2\\\\u9801\\\\u524d\\\\u5f8c\\\\u7aef\\\\u7a0b\\\\u5f0f\\\\u8a2d\\\\u8a08\\\\u5be6\\\\u7fd2\\\\u4eba\\\\u54e1\",\"custNameRaw\":\"\\\\u5fb7\\\\u548c\\\\u6708\\\\u570b\\\\u969b\\\\u79d1\\\\u6280\\\\u80a1\\\\u4efd\\\\u6709\\\\u9650\\\\u516c\\\\u53f8\",\"lon\":\"121.5579077\",\"lat\":\"25.0333242\"},{\"jobNo\":\"11706007\",\"jobName\":\"AI \\\\u6578\\\\u64da\\\\u670d\\\\u52d9\\\\u4e8b\\\\u696d\\\\u90e8\\\\u4e28EAP\\\\u52a9\\\\u7406(\\\\u7d04\\\\u8058\\\\u53ef\\\\u8f49\\\\u6b63)\",\"description\":\"\\\\u4f60\\\\u662f\\\\u5426\\\\u4e0d\\\\u7518\\\\u50c5\\\\u5728\\\\u77e5\\\\u8b58\\\\u4e0a\\\\u6709\\\\u5b78\\\\u7fd2\\\\uff0c\\\\u66f4\\\\u60f3\\\\u6b77\\\\u7df4\\\\u5546\\\\u696d\\\\u904b\\\\u4f5c\\\\u7684\\\\u57f7\\\\u884c\\\\u529b?  \\\\u672c\\\\u5be6\\\\u7fd2\\\\u96b8\\\\u5c6c\\\\u65bcAI\\\\u4e8b\\\\u696d...\",\"optionEdu\":\"\\\\u5927\\\\u5b78\",\"periodDesc\":\"\\\\u7d93\\\\u6b77\\\\u4e0d\\\\u62d8\",\"custNo\":\"28684763000\",\"custName\":\"\\\\u82e5\\\\u6c34\\\\u570b\\\\u969b\\\\u80a1\\\\u4efd\\\\u6709\\\\u9650\\\\u516c\\\\u53f8\",\"salaryDesc\":\"\\\\u6708\\\\u85aa26,000~32,000\\\\u5143\",\"appearDateDesc\":\"12\\\\/15\",\"isSave\":\"0\",\"link\":{\"job\":\"\\\\/\\\\/www.104.com.tw\\\\/job\\\\/6ywev?jobsource=parttimesector\",\"cust\":\"\\\\/\\\\/www.104.com.tw\\\\/company\\\\/d6e60s8?jobsource=parttimesector\"},\"jobNameRaw\":\"AI \\\\u6578\\\\u64da\\\\u670d\\\\u52d9\\\\u4e8b\\\\u696d\\\\u90e8\\\\u4e28EAP\\\\u52a9\\\\u7406(\\\\u7d04\\\\u8058\\\\u53ef\\\\u8f49\\\\u6b63)\",\"custNameRaw\":\"\\\\u82e5\\\\u6c34\\\\u570b\\\\u969b\\\\u80a1\\\\u4efd\\\\u6709\\\\u9650\\\\u516c\\\\u53f8\",\"lon\":\"121.5204815\",\"lat\":\"25.0294506\"},{\"jobNo\":\"12535913\",\"jobName\":\"&lt;\\\\u5927\\\\u962a\\\\u7b2c\\\\u4e00\\\\u751f\\\\u5410\\\\u53f8 \\\\u5d5c\\\\u672c SAKImoto&gt;    \\\\u9eb5\\\\u5305\\\\u4e09\\\\u624b\\\\u3001\\\\u5b78\\\\u5f92\\\\u8a08\\\\u6642\\\\u4eba\\\\u54e1\",\"description\":\"1.\\\\u5354\\\\u52a9\\\\u5e2b\\\\u5085\\\\u88fd\\\\u4f5c 2.\\\\u7a31\\\\u91cf\\\\u539f\\\\u6599\\\\u4ee5\\\\u6a5f\\\\u68b0\\\\u6df7\\\\u5408\\\\u6216\\\\u652a\\\\u62cc\\\\u6210\\\\u7cf0(\\\\u7cca)\\\\u3002 3.\\\\u57f7\\\\u884c\\\\u767c\\\\u9175\\\\u3001\\\\u58d3\\\\u5ef6...\",\"optionEdu\":\"\\\\u9ad8\\\\u4e2d\",\"periodDesc\":\"\\\\u7d93\\\\u6b77\\\\u4e0d\\\\u62d8\",\"custNo\":\"130000000143826\",\"custName\":\"\\\\u5d5c\\\\u672c\\\\u751f\\\\u5410\\\\u53f8 SAKImoto_\\\\u62fe\\\\u6940\\\\u9910\\\\u98f2\\\\u80a1\\\\u4efd\\\\u6709\\\\u9650\\\\u516c\\\\u53f8\",\"salaryDesc\":\"\\\\u6642\\\\u85aa165\\\\u5143\",\"appearDateDesc\":\"12\\\\/17\",\"isSave\":\"0\",\"link\":{\"job\":\"\\\\/\\\\/www.104.com.tw\\\\/job\\\\/7gort?jobsource=parttimesector\",\"cust\":\"\\\\/\\\\/www.104.com.tw\\\\/company\\\\/1a2x6bl2aa?jobsource=parttimesector\"},\"jobNameRaw\":\"<\\\\u5927\\\\u962a\\\\u7b2c\\\\u4e00\\\\u751f\\\\u5410\\\\u53f8 \\\\u5d5c\\\\u672c SAKImoto>    \\\\u9eb5\\\\u5305\\\\u4e09\\\\u624b\\\\u3001\\\\u5b78\\\\u5f92\\\\u8a08\\\\u6642\\\\u4eba\\\\u54e1\",\"custNameRaw\":\"\\\\u5d5c\\\\u672c\\\\u751f\\\\u5410\\\\u53f8 SAKImoto_\\\\u62fe\\\\u6940\\\\u9910\\\\u98f2\\\\u80a1\\\\u4efd\\\\u6709\\\\u9650\\\\u516c\\\\u53f8\",\"lon\":\"121.5654997\",\"lat\":\"25.0418239\"},{\"jobNo\":\"11089903\",\"jobName\":\"Editor\\\\/Translator \\\\u7ffb\\\\u8b6f\\\\u4eba\\\\u54e1\",\"description\":\"\\\\u6211\\\\u5011\\\\u6b63\\\\u5728\\\\u5c0b\\\\u627e\\\\u5177\\\\u5099\\\\u300c\\\\u8b39\\\\u614e\\\\u3001\\\\u7d30\\\\u5fc3\\\\u6709\\\\u8010\\\\u5fc3\\\\uff0c\\\\u82f1\\\\u6587\\\\u5beb\\\\u4f5c\\\\u80fd\\\\u529b\\\\u4f73\\\\u300d\\\\u7684\\\\u5925\\\\u4f34\\\\u52a0\\\\u5165\\\\u6211\\\\u5011\\\\u7684\\\\u884c\\\\u5217\\\\uff0c\\\\u4e00\\\\u8d77...\",\"optionEdu\":\"\\\\u5927\\\\u5b78\",\"periodDesc\":\"\\\\u7d93\\\\u6b77\\\\u4e0d\\\\u62d8\",\"custNo\":\"130000000133427\",\"custName\":\"\\\\u528d\\\\u6a4b\\\\u6559\\\\u80b2\\\\u6709\\\\u9650\\\\u516c\\\\u53f8\",\"salaryDesc\":\"\\\\u6642\\\\u85aa200~300\\\\u5143\",\"appearDateDesc\":\"12\\\\/15\",\"isSave\":\"0\",\"link\":{\"job\":\"\\\\/\\\\/www.104.com.tw\\\\/job\\\\/6lp0v?jobsource=parttimesector\",\"cust\":\"\\\\/\\\\/www.104.com.tw\\\\/company\\\\/1a2x6bku9f?jobsource=parttimesector\"},\"jobNameRaw\":\"Editor\\\\/Translator \\\\u7ffb\\\\u8b6f\\\\u4eba\\\\u54e1\",\"custNameRaw\":\"\\\\u528d\\\\u6a4b\\\\u6559\\\\u80b2\\\\u6709\\\\u9650\\\\u516c\\\\u53f8\",\"lon\":\"121.5432074\",\"lat\":\"25.024696\"},{\"jobNo\":\"9821187\",\"jobName\":\"\\\\u5047\\\\u65e5\\\\u8a08\\\\u6642\\\\u4eba\\\\u54e1(\\\\u65b0\\\\u5149\\\\u4e09\\\\u8d8a\\\\u4fe1\\\\u7fa9\\\\u65b0\\\\u5929\\\\u5730A8\\\\u9928)\",\"description\":\"\\\\uff0a\\\\u8207\\\\u5c0f\\\\u670b\\\\u53cb\\\\u4e92\\\\u52d5\\\\u6559\\\\u5b78\\\\uff0c\\\\u6559\\\\u5b78\\\\u54c1\\\\u9805\\\\u70ba\\\\u9ecf\\\\u571f\\\\u634f\\\\u5851\\\\u3001\\\\u58d3\\\\u514b\\\\u529b\\\\u756b\\\\u3002 \\\\uff0a\\\\u500b\\\\u6027\\\\u6d3b\\\\u6f51\\\\u5927\\\\u65b9\\\\u3001\\\\u7a4d\\\\u6975\\\\u4e3b\\\\u52d5\\\\u3001...\",\"optionEdu\":\"\\\\u9ad8\\\\u4e2d\",\"periodDesc\":\"\\\\u7d93\\\\u6b77\\\\u4e0d\\\\u62d8\",\"custNo\":\"80582555000\",\"custName\":\"\\\\u5f69\\\\u8679\\\\u68ee\\\\u6797\\\\u6709\\\\u9650\\\\u516c\\\\u53f8\",\"salaryDesc\":\"\\\\u6642\\\\u85aa160~190\\\\u5143\",\"appearDateDesc\":\"12\\\\/20\",\"isSave\":\"0\",\"link\":{\"job\":\"\\\\/\\\\/www.104.com.tw\\\\/job\\\\/5ui2r?jobsource=parttimesector\",\"cust\":\"\\\\/\\\\/www.104.com.tw\\\\/company\\\\/110ortdk?jobsource=parttimesector\"},\"jobNameRaw\":\"\\\\u5047\\\\u65e5\\\\u8a08\\\\u6642\\\\u4eba\\\\u54e1(\\\\u65b0\\\\u5149\\\\u4e09\\\\u8d8a\\\\u4fe1\\\\u7fa9\\\\u65b0\\\\u5929\\\\u5730A8\\\\u9928)\",\"custNameRaw\":\"\\\\u5f69\\\\u8679\\\\u68ee\\\\u6797\\\\u6709\\\\u9650\\\\u516c\\\\u53f8\",\"lon\":\"121.5668708\",\"lat\":\"25.0382454\"},{\"jobNo\":\"12104333\",\"jobName\":\"AI \\\\u6578\\\\u64da\\\\u670d\\\\u52d9\\\\u4e8b\\\\u696d\\\\u90e8\\\\u4e28\\\\u5e02\\\\u5834\\\\u958b\\\\u767c\\\\u5be6\\\\u7fd2\\\\u751f (\\\\u9700\\\\u5be6\\\\u7fd2\\\\u81f3\\\\u5c113.5\\\\u5929\\\\uff0c\\\\u534a\\\\u5e74\\\\u671f)\",\"description\":\"\\\\u82e5\\\\u6c34\\\\u6b63\\\\u5728\\\\u5c0b\\\\u627e\\\\u6e34\\\\u671b\\\\u5f9e\\\\u505a\\\\u4e2d\\\\u5b78\\\\u7684\\\\u4f60! \\\\u4f60\\\\u662f\\\\u5426\\\\u4e0d\\\\u7518\\\\u50c5\\\\u5728\\\\u77e5\\\\u8b58\\\\u4e0a\\\\u6709\\\\u5b78\\\\u7fd2\\\\uff0c\\\\u66f4\\\\u60f3\\\\u6b77\\\\u7df4\\\\u5546\\\\u696d\\\\u904b\\\\u4f5c\\\\u7684...\",\"optionEdu\":\"\\\\u5927\\\\u5b78\",\"periodDesc\":\"\\\\u7d93\\\\u6b77\\\\u4e0d\\\\u62d8\",\"custNo\":\"28684763000\",\"custName\":\"\\\\u82e5\\\\u6c34\\\\u570b\\\\u969b\\\\u80a1\\\\u4efd\\\\u6709\\\\u9650\\\\u516c\\\\u53f8\",\"salaryDesc\":\"\\\\u6642\\\\u85aa160\\\\u5143\",\"appearDateDesc\":\"12\\\\/15\",\"isSave\":\"0\",\"link\":{\"job\":\"\\\\/\\\\/www.104.com.tw\\\\/job\\\\/77frh?jobsource=parttimesector\",\"cust\":\"\\\\/\\\\/www.104.com.tw\\\\/company\\\\/d6e60s8?jobsource=parttimesector\"},\"jobNameRaw\":\"AI \\\\u6578\\\\u64da\\\\u670d\\\\u52d9\\\\u4e8b\\\\u696d\\\\u90e8\\\\u4e28\\\\u5e02\\\\u5834\\\\u958b\\\\u767c\\\\u5be6\\\\u7fd2\\\\u751f (\\\\u9700\\\\u5be6\\\\u7fd2\\\\u81f3\\\\u5c113.5\\\\u5929\\\\uff0c\\\\u534a\\\\u5e74\\\\u671f)\",\"custNameRaw\":\"\\\\u82e5\\\\u6c34\\\\u570b\\\\u969b\\\\u80a1\\\\u4efd\\\\u6709\\\\u9650\\\\u516c\\\\u53f8\",\"lon\":\"121.5204966\",\"lat\":\"25.0294102\"},{\"jobNo\":\"11958712\",\"jobName\":\"\\\\u3010Venchi\\\\u3011\\\\u7fa9\\\\u5927\\\\u5229\\\\u7cbe\\\\u54c1\\\\u5de7\\\\u514b\\\\u529b-\\\\u5de5\\\\u8b80\\\\u751f(A11\\\\/\\\\u5357\\\\u897f)\",\"description\":\" \\\\u3010Venchi\\\\u54c1\\\\u724c\\\\u6545\\\\u4e8b\\\\u3011 Venchi\\\\u7684\\\\u6b77\\\\u53f2\\\\u53ef\\\\u8ffd\\\\u6eaf\\\\u523019\\\\u4e16\\\\u7d00\\\\u7684\\\\u76ae\\\\u57c3\\\\u8499\\\\u7279\\\\u3002\\\\u5275\\\\u59cb...\",\"optionEdu\":\"\\\\u5c08\\\\u79d1\",\"periodDesc\":\"1\\\\u5e74\\\\u4ee5\\\\u4e0a\",\"custNo\":\"28415493000\",\"custName\":\"\\\\u9999\\\\u6e2f\\\\u5546\\\\u85cd\\\\u9418\\\\u5546\\\\u696d\\\\u6709\\\\u9650\\\\u516c\\\\u53f8\",\"salaryDesc\":\"\\\\u6642\\\\u85aa160\\\\u5143\",\"appearDateDesc\":\"12\\\\/14\",\"isSave\":\"0\",\"link\":{\"job\":\"\\\\/\\\\/www.104.com.tw\\\\/job\\\\/74beg?jobsource=parttimesector\",\"cust\":\"\\\\/\\\\/www.104.com.tw\\\\/company\\\\/d1xumq0?jobsource=parttimesector\"},\"jobNameRaw\":\"\\\\u3010Venchi\\\\u3011\\\\u7fa9\\\\u5927\\\\u5229\\\\u7cbe\\\\u54c1\\\\u5de7\\\\u514b\\\\u529b-\\\\u5de5\\\\u8b80\\\\u751f(A11\\\\/\\\\u5357\\\\u897f)\",\"custNameRaw\":\"\\\\u9999\\\\u6e2f\\\\u5546\\\\u85cd\\\\u9418\\\\u5546\\\\u696d\\\\u6709\\\\u9650\\\\u516c\\\\u53f8\",\"lon\":\"121.5672966\",\"lat\":\"25.0365107\"},{\"jobNo\":\"12285649\",\"jobName\":\"\\\\u884c\\\\u92b7\\\\u90e8\\\\u4e28\\\\u54c1\\\\u724c\\\\u793e\\\\u7fa4\\\\u53ca\\\\u5a92\\\\u9ad4\\\\u71df\\\\u904b\\\\u5be6\\\\u7fd2\\\\u751f(\\\\u6587\\\\u6848+\\\\u6578\\\\u64da) (\\\\u9700\\\\u5be6\\\\u7fd2\\\\u81f3\\\\u5c113\\\\u5929\\\\uff0c\\\\u534a\\\\u5e74\\\\u671f\\\\uff09\",\"description\":\"\\\\u60f3\\\\u63a5\\\\u89f8\\\\u793e\\\\u4f01\\\\u5275\\\\u65b0\\\\u9818\\\\u57df\\\\uff0c\\\\u540c\\\\u6642\\\\u78e8\\\\u7df4\\\\u79d1\\\\u6280\\\\u7522\\\\u696d\\\\u7684\\\\u884c\\\\u92b7\\\\u6280\\\\u80fd\\\\u55ce?  \\\\u82e5\\\\u6c34\\\\u793e\\\\u7fa4\\\\u5c0f\\\\u7de8\\\\u7684\\\\u5de5\\\\u4f5c\\\\u578b\\\\u614b\\\\u4e0d...\",\"optionEdu\":\"\\\\u5c08\\\\u79d1\",\"periodDesc\":\"\\\\u7d93\\\\u6b77\\\\u4e0d\\\\u62d8\",\"custNo\":\"28684763000\",\"custName\":\"\\\\u82e5\\\\u6c34\\\\u570b\\\\u969b\\\\u80a1\\\\u4efd\\\\u6709\\\\u9650\\\\u516c\\\\u53f8\",\"salaryDesc\":\"\\\\u6642\\\\u85aa160\\\\u5143\",\"appearDateDesc\":\"12\\\\/15\",\"isSave\":\"0\",\"link\":{\"job\":\"\\\\/\\\\/www.104.com.tw\\\\/job\\\\/7bbo1?jobsource=parttimesector\",\"cust\":\"\\\\/\\\\/www.104.com.tw\\\\/company\\\\/d6e60s8?jobsource=parttimesector\"},\"jobNameRaw\":\"\\\\u884c\\\\u92b7\\\\u90e8\\\\u4e28\\\\u54c1\\\\u724c\\\\u793e\\\\u7fa4\\\\u53ca\\\\u5a92\\\\u9ad4\\\\u71df\\\\u904b\\\\u5be6\\\\u7fd2\\\\u751f(\\\\u6587\\\\u6848+\\\\u6578\\\\u64da) (\\\\u9700\\\\u5be6\\\\u7fd2\\\\u81f3\\\\u5c113\\\\u5929\\\\uff0c\\\\u534a\\\\u5e74\\\\u671f\\\\uff09\",\"custNameRaw\":\"\\\\u82e5\\\\u6c34\\\\u570b\\\\u969b\\\\u80a1\\\\u4efd\\\\u6709\\\\u9650\\\\u516c\\\\u53f8\",\"lon\":\"121.5204966\",\"lat\":\"25.0294102\"},{\"jobNo\":\"12451047\",\"jobName\":\"\\\\u3010\\\\u6709\\\\u8b77\\\\u7406\\\\u4eba\\\\u54e1\\\\u7576\\\\u7167\\\\u670d\\\\u54e1\\\\u7684\\\\u5c45\\\\u670d\\\\u6a5f\\\\u69cb\\\\u3011 220\\\\/\\\\u6642\\\\u85aa\\\\uff01\\\\u6a02\\\\u6d3b\\\\u5c45\\\\u5bb6\\\\u7167\\\\u9867\\\\u670d\\\\u52d9\\\\u54e1\\\\u62db\\\\u52df\\\\u4e2d#\\\\u6392\\\\u73ed\\\\u5f48\\\\u6027\",\"description\":\"\\\\u6a02\\\\u6d3b\\\\u5354\\\\u6703\\\\u65bc\\\\u5168\\\\u53f0\\\\u5275\\\\u8fa630\\\\u9918\\\\u9593\\\\u793e\\\\u5340\\\\u7167\\\\u9867\\\\u95dc\\\\u61f7\\\\u64da\\\\u9ede\\\\uff0c\\\\u64da\\\\u9ede\\\\u9577\\\\u8f29\\\\u591a\\\\u534a\\\\u70ba\\\\u5065\\\\u5eb7\\\\u53ca\\\\u4e9e\\\\u5065\\\\u5eb7\\\\u65cf\\\\u7fa4\\\\uff0c\\\\u6210...\",\"optionEdu\":\"\\\\u9ad8\\\\u4e2d\",\"periodDesc\":\"\\\\u7d93\\\\u6b77\\\\u4e0d\\\\u62d8\",\"custNo\":\"130000000155053\",\"custName\":\"\\\\u793e\\\\u5718\\\\u6cd5\\\\u4eba\\\\u53f0\\\\u7063\\\\u6a02\\\\u6d3b\\\\u670d\\\\u52d9\\\\u767c\\\\u5c55\\\\u5354\\\\u6703\",\"salaryDesc\":\"\\\\u6642\\\\u85aa220~305\\\\u5143\",\"appearDateDesc\":\"12\\\\/14\",\"isSave\":\"0\",\"link\":{\"job\":\"\\\\/\\\\/www.104.com.tw\\\\/job\\\\/7evaf?jobsource=parttimesector\",\"cust\":\"\\\\/\\\\/www.104.com.tw\\\\/company\\\\/1a2x6blay5?jobsource=parttimesector\"},\"jobNameRaw\":\"\\\\u3010\\\\u6709\\\\u8b77\\\\u7406\\\\u4eba\\\\u54e1\\\\u7576\\\\u7167\\\\u670d\\\\u54e1\\\\u7684\\\\u5c45\\\\u670d\\\\u6a5f\\\\u69cb\\\\u3011 220\\\\/\\\\u6642\\\\u85aa\\\\uff01\\\\u6a02\\\\u6d3b\\\\u5c45\\\\u5bb6\\\\u7167\\\\u9867\\\\u670d\\\\u52d9\\\\u54e1\\\\u62db\\\\u52df\\\\u4e2d#\\\\u6392\\\\u73ed\\\\u5f48\\\\u6027\",\"custNameRaw\":\"\\\\u793e\\\\u5718\\\\u6cd5\\\\u4eba\\\\u53f0\\\\u7063\\\\u6a02\\\\u6d3b\\\\u670d\\\\u52d9\\\\u767c\\\\u5c55\\\\u5354\\\\u6703\",\"lon\":\"121.5549091\",\"lat\":\"25.0329619\"},{\"jobNo\":\"9976301\",\"jobName\":\"\\\\u7e3d\\\\u52d9\\\\u52a9\\\\u7406\\\\u5de5\\\\u8b80\\\\u751f\",\"description\":\"1.\\\\u517c\\\\u8077\\\\u5de5\\\\u8b80\\\\u751f (\\\\u4f9d\\\\u7167\\\\u53ef\\\\u5de5\\\\u8b80\\\\u7684\\\\u6642\\\\u9593\\\\u5f48\\\\u6027\\\\u5b89\\\\u6392\\\\u5de5\\\\u4f5c) 2.\\\\u5de5\\\\u4f5c\\\\u5167\\\\u5bb9\\\\uff1a\\\\u4fe1\\\\u4ef6\\\\u6536\\\\u767c\\\\uff0c\\\\u73fe\\\\u5834...\",\"optionEdu\":\"\\\\u9ad8\\\\u4e2d\",\"periodDesc\":\"\\\\u7d93\\\\u6b77\\\\u4e0d\\\\u62d8\",\"custNo\":\"130000000109769\",\"custName\":\"\\\\u7fa4\\\\u8208\\\\u958b\\\\u767c\\\\u80a1\\\\u4efd\\\\u6709\\\\u9650\\\\u516c\\\\u53f8\",\"salaryDesc\":\"\\\\u6642\\\\u85aa160~200\\\\u5143\",\"appearDateDesc\":\"12\\\\/20\",\"isSave\":\"0\",\"link\":{\"job\":\"\\\\/\\\\/www.104.com.tw\\\\/job\\\\/5xtrh?jobsource=parttimesector\",\"cust\":\"\\\\/\\\\/www.104.com.tw\\\\/company\\\\/1a2x6bkc09?jobsource=parttimesector\"},\"jobNameRaw\":\"\\\\u7e3d\\\\u52d9\\\\u52a9\\\\u7406\\\\u5de5\\\\u8b80\\\\u751f\",\"custNameRaw\":\"\\\\u7fa4\\\\u8208\\\\u958b\\\\u767c\\\\u80a1\\\\u4efd\\\\u6709\\\\u9650\\\\u516c\\\\u53f8\",\"lon\":\"121.5572026\",\"lat\":\"25.0416306\"},{\"jobNo\":\"12554170\",\"jobName\":\"\\\\u517c\\\\u8077\\\\u884c\\\\u653f\\\\u4eba\\\\u54e1\",\"description\":\"1.\\\\u6a94\\\\u6848\\\\u8cc7\\\\u6599\\\\u6574\\\\u7406 2.\\\\u64c5\\\\u6587\\\\u5b57\\\\u64b0\\\\u5beb 3.\\\\u719fWord\\\\u3001Excel\\\\u6587\\\\u66f8\\\\u64cd\\\\u4f5c 4.\\\\u9700\\\\u7d30...\",\"optionEdu\":\"\\\\u5927\\\\u5b78\",\"periodDesc\":\"\\\\u7d93\\\\u6b77\\\\u4e0d\\\\u62d8\",\"custNo\":\"130000000010802\",\"custName\":\"\\\\u53f0\\\\u7063\\\\u5927\\\\u60b2\\\\u4f5b\\\\u5b78\\\\u6703\",\"salaryDesc\":\"\\\\u6642\\\\u85aa170\\\\u5143\",\"appearDateDesc\":\"12\\\\/14\",\"isSave\":\"0\",\"link\":{\"job\":\"\\\\/\\\\/www.104.com.tw\\\\/job\\\\/7h2uy?jobsource=parttimesector\",\"cust\":\"\\\\/\\\\/www.104.com.tw\\\\/company\\\\/1a2x6bi7n6?jobsource=parttimesector\"},\"jobNameRaw\":\"\\\\u517c\\\\u8077\\\\u884c\\\\u653f\\\\u4eba\\\\u54e1\",\"custNameRaw\":\"\\\\u53f0\\\\u7063\\\\u5927\\\\u60b2\\\\u4f5b\\\\u5b78\\\\u6703\",\"lon\":\"121.531035\",\"lat\":\"25.04257\"},{\"jobNo\":\"11667236\",\"jobName\":\"One Boy \\\\u5c08\\\\u6ac3\\\\u92b7\\\\u552e\\\\u4eba\\\\u54e1\\\\u3010\\\\u5317\\\\u5340\\\\u5c08\\\\u6ac3\\\\/\\\\u9580\\\\u5e02_\\\\u8a08\\\\u6642\\\\u5de5\\\\u8b80\\\\u3011\",\"description\":\"1. \\\\u4ee5\\\\u5354\\\\u52a9\\\\u6b63\\\\u8077\\\\u4eba\\\\u54e1\\\\u5de5\\\\u4f5c\\\\u70ba\\\\u4e3b\\\\u3002 2. \\\\u5f15\\\\u5c0e\\\\u4ecb\\\\u7d39\\\\u53ca\\\\u92b7\\\\u552e\\\\u670d\\\\u98fe\\\\u5546\\\\u54c1\\\\u3002 3. \\\\u5546\\\\u54c1\\\\u9032\\\\u8ca8...\",\"optionEdu\":\"\\\\u9ad8\\\\u4e2d\",\"periodDesc\":\"\\\\u7d93\\\\u6b77\\\\u4e0d\\\\u62d8\",\"custNo\":\"130000000081718\",\"custName\":\"One Boy_\\\\u5353\\\\u6631\\\\u6709\\\\u9650\\\\u516c\\\\u53f8\",\"salaryDesc\":\"\\\\u6642\\\\u85aa160~180\\\\u5143\",\"appearDateDesc\":\"12\\\\/21\",\"isSave\":\"0\",\"link\":{\"job\":\"\\\\/\\\\/www.104.com.tw\\\\/job\\\\/6y2hw?jobsource=parttimesector\",\"cust\":\"\\\\/\\\\/www.104.com.tw\\\\/company\\\\/1a2x6bjqd2?jobsource=parttimesector\"},\"jobNameRaw\":\"One Boy \\\\u5c08\\\\u6ac3\\\\u92b7\\\\u552e\\\\u4eba\\\\u54e1\\\\u3010\\\\u5317\\\\u5340\\\\u5c08\\\\u6ac3\\\\/\\\\u9580\\\\u5e02_\\\\u8a08\\\\u6642\\\\u5de5\\\\u8b80\\\\u3011\",\"custNameRaw\":\"One Boy_\\\\u5353\\\\u6631\\\\u6709\\\\u9650\\\\u516c\\\\u53f8\",\"lon\":\"121.5667018\",\"lat\":\"25.0366706\"},{\"jobNo\":\"12427569\",\"jobName\":\"\\\\u3010\\\\u8cc7\\\\u8a0a\\\\u90e8\\\\u3011\\\\u7cfb\\\\u7d71\\\\u5be6\\\\u7fd2\\\\u751f\\\\uff08\\\\u53ef\\\\u7c3d\\\\u5be6\\\\u7fd2\\\\u5408\\\\u7d04\\\\uff09\",\"description\":\"1. \\\\u8ca0\\\\u8cac\\\\u516c\\\\u53f8\\\\u96fb\\\\u5546\\\\u7db2\\\\u7ad9\\\\u7cfb\\\\u7d71\\\\u7684\\\\u6280\\\\u8853\\\\u7dad\\\\u904b\\\\u5de5\\\\u4f5c\\\\uff0c\\\\u78ba\\\\u4fdd\\\\u7cfb\\\\u7d71\\\\u670d\\\\u52d9\\\\u7684\\\\u6574\\\\u9ad4\\\\u6548\\\\u80fd\\\\u3001\\\\u53ef\\\\u7528\\\\u6027(Av...\",\"optionEdu\":\"\\\\u5b78\\\\u6b77\\\\u4e0d\\\\u62d8\",\"periodDesc\":\"\\\\u7d93\\\\u6b77\\\\u4e0d\\\\u62d8\",\"custNo\":\"70549500000\",\"custName\":\"Shopping99_\\\\u8010\\\\u5fb7\\\\u79d1\\\\u6280\\\\u80a1\\\\u4efd\\\\u6709\\\\u9650\\\\u516c\\\\u53f8\",\"salaryDesc\":\"\\\\u6708\\\\u85aa25,250\\\\u5143\",\"appearDateDesc\":\"12\\\\/17\",\"isSave\":\"0\",\"link\":{\"job\":\"\\\\/\\\\/www.104.com.tw\\\\/job\\\\/7ed69?jobsource=parttimesector\",\"cust\":\"\\\\/\\\\/www.104.com.tw\\\\/company\\\\/wercmlc?jobsource=parttimesector\"},\"jobNameRaw\":\"\\\\u3010\\\\u8cc7\\\\u8a0a\\\\u90e8\\\\u3011\\\\u7cfb\\\\u7d71\\\\u5be6\\\\u7fd2\\\\u751f\\\\uff08\\\\u53ef\\\\u7c3d\\\\u5be6\\\\u7fd2\\\\u5408\\\\u7d04\\\\uff09\",\"custNameRaw\":\"Shopping99_\\\\u8010\\\\u5fb7\\\\u79d1\\\\u6280\\\\u80a1\\\\u4efd\\\\u6709\\\\u9650\\\\u516c\\\\u53f8\",\"lon\":\"121.5110833\",\"lat\":\"25.0458239\"},{\"jobNo\":\"12228511\",\"jobName\":\"\\\\u96fb\\\\u8a2a\\\\u90e8\\\\uff0f\\\\u9577\\\\u671f\\\\u96fb\\\\u8a2a\\\\u4eba\\\\u54e1(\\\\u7121\\\\u7d93\\\\u9a57\\\\u53ef\\\\uff0c\\\\u6295\\\\u905e\\\\u5c65\\\\u6b77\\\\u5f8c\\\\u53ef\\\\u76f4\\\\u63a5\\\\u96fb\\\\u6d3d)(\\\\u8abf\\\\u7814\\\\u90e8)\",\"description\":\"\\\\u60a8\\\\u9700\\\\u8981\\\\u4e00\\\\u4efd\\\\u589e\\\\u52a0\\\\u6536\\\\u5165\\\\u7684\\\\u517c\\\\u8077\\\\u5de5\\\\u4f5c\\\\u55ce? \\\\u6211\\\\u5011\\\\u7684\\\\u6392\\\\u73ed\\\\u5f48\\\\u6027\\\\uff0c\\\\u5de5\\\\u4f5c\\\\u74b0\\\\u5883\\\\u512a\\\\u7f8e\\\\uff0c \\\\u5de5\\\\u4f5c\\\\u578b\\\\u614b\\\\u4e0d\\\\u50cf...\",\"optionEdu\":\"\\\\u9ad8\\\\u4e2d\",\"periodDesc\":\"\\\\u7d93\\\\u6b77\\\\u4e0d\\\\u62d8\",\"custNo\":\"130000000169387\",\"custName\":\"\\\\u82f1\\\\u83f2\\\\u65af\\\\u7279\\\\u6578\\\\u4f4d\\\\u79d1\\\\u6280\\\\u80a1\\\\u4efd\\\\u6709\\\\u9650\\\\u516c\\\\u53f8\",\"salaryDesc\":\"\\\\u6642\\\\u85aa160~200\\\\u5143\",\"appearDateDesc\":\"12\\\\/17\",\"isSave\":\"0\",\"link\":{\"job\":\"\\\\/\\\\/www.104.com.tw\\\\/job\\\\/7a3kv?jobsource=parttimesector\",\"cust\":\"\\\\/\\\\/www.104.com.tw\\\\/company\\\\/1a2x6blm0b?jobsource=parttimesector\"},\"jobNameRaw\":\"\\\\u96fb\\\\u8a2a\\\\u90e8\\\\uff0f\\\\u9577\\\\u671f\\\\u96fb\\\\u8a2a\\\\u4eba\\\\u54e1(\\\\u7121\\\\u7d93\\\\u9a57\\\\u53ef\\\\uff0c\\\\u6295\\\\u905e\\\\u5c65\\\\u6b77\\\\u5f8c\\\\u53ef\\\\u76f4\\\\u63a5\\\\u96fb\\\\u6d3d)(\\\\u8abf\\\\u7814\\\\u90e8)\",\"custNameRaw\":\"\\\\u82f1\\\\u83f2\\\\u65af\\\\u7279\\\\u6578\\\\u4f4d\\\\u79d1\\\\u6280\\\\u80a1\\\\u4efd\\\\u6709\\\\u9650\\\\u516c\\\\u53f8\",\"lon\":\"121.539971\",\"lat\":\"25.02752\"},{\"jobNo\":\"12394346\",\"jobName\":\"Data Engineer \\\\u8cc7\\\\u6599\\\\u5de5\\\\u7a0b\\\\u5be6\\\\u7fd2\\\\u751f \\\\/ \\\\u8766\\\\u76ae\\\\u5e97\\\\u5230\\\\u5e97\",\"description\":\"1. Mine and analyze data from company d...\",\"optionEdu\":\"\\\\u5927\\\\u5b78\",\"periodDesc\":\"1\\\\u5e74\\\\u4ee5\\\\u4e0a\",\"custNo\":\"130000000157678\",\"custName\":\"\\\\u65b0\\\\u52a0\\\\u5761\\\\u5546\\\\u8766\\\\u76ae\\\\u5a1b\\\\u6a02\\\\u96fb\\\\u5546\\\\u6709\\\\u9650\\\\u516c\\\\u53f8\\\\u53f0\\\\u7063\\\\u5206\\\\u516c\\\\u53f8\",\"salaryDesc\":\"\\\\u6642\\\\u85aa170\\\\u5143\",\"appearDateDesc\":\"12\\\\/15\",\"isSave\":\"0\",\"link\":{\"job\":\"\\\\/\\\\/www.104.com.tw\\\\/job\\\\/7dnje?jobsource=parttimesector\",\"cust\":\"\\\\/\\\\/www.104.com.tw\\\\/company\\\\/1a2x6blcz2?jobsource=parttimesector\"},\"jobNameRaw\":\"Data Engineer \\\\u8cc7\\\\u6599\\\\u5de5\\\\u7a0b\\\\u5be6\\\\u7fd2\\\\u751f \\\\/ \\\\u8766\\\\u76ae\\\\u5e97\\\\u5230\\\\u5e97\",\"custNameRaw\":\"\\\\u65b0\\\\u52a0\\\\u5761\\\\u5546\\\\u8766\\\\u76ae\\\\u5a1b\\\\u6a02\\\\u96fb\\\\u5546\\\\u6709\\\\u9650\\\\u516c\\\\u53f8\\\\u53f0\\\\u7063\\\\u5206\\\\u516c\\\\u53f8\",\"lon\":\"121.5613507\",\"lat\":\"25.0445608\"},{\"jobNo\":\"12379668\",\"jobName\":\"\\\\u3010iKala Cloud\\\\u3011\\\\u92b7\\\\u552e\\\\u6280\\\\u8853\\\\u9867\\\\u554f\\\\u5be6\\\\u7fd2\\\\u751f Presales Intern\",\"description\":\"\\\\u3010\\\\u5de5\\\\u4f5c\\\\u5167\\\\u5bb9\\\\u3011\\\\u3000 1. \\\\u53c3\\\\u8207\\\\u5167\\\\u90e8 GCP \\\\u6559\\\\u80b2\\\\u8a13\\\\u7df4\\\\u8ab2\\\\u7a0b\\\\u3002 2. \\\\u5354\\\\u52a9GCP \\\\u5ba2\\\\u6236...\",\"optionEdu\":\"\\\\u5927\\\\u5b78\",\"periodDesc\":\"\\\\u7d93\\\\u6b77\\\\u4e0d\\\\u62d8\",\"custNo\":\"53342456000\",\"custName\":\"\\\\u611b\\\\u5361\\\\u62c9\\\\u4e92\\\\u52d5\\\\u5a92\\\\u9ad4\\\\u80a1\\\\u4efd\\\\u6709\\\\u9650\\\\u516c\\\\u53f8\",\"salaryDesc\":\"\\\\u6642\\\\u85aa180\\\\u5143\\\\u4ee5\\\\u4e0a\",\"appearDateDesc\":\"12\\\\/15\",\"isSave\":\"0\",\"link\":{\"job\":\"\\\\/\\\\/www.104.com.tw\\\\/job\\\\/7dc7o?jobsource=parttimesector\",\"cust\":\"\\\\/\\\\/www.104.com.tw\\\\/company\\\\/oi6pygw?jobsource=parttimesector\"},\"jobNameRaw\":\"\\\\u3010iKala Cloud\\\\u3011\\\\u92b7\\\\u552e\\\\u6280\\\\u8853\\\\u9867\\\\u554f\\\\u5be6\\\\u7fd2\\\\u751f Presales Intern\",\"custNameRaw\":\"\\\\u611b\\\\u5361\\\\u62c9\\\\u4e92\\\\u52d5\\\\u5a92\\\\u9ad4\\\\u80a1\\\\u4efd\\\\u6709\\\\u9650\\\\u516c\\\\u53f8\",\"lon\":\"121.5666564\",\"lat\":\"25.0480733\"},{\"jobNo\":\"11960594\",\"jobName\":\"\\\\u6578\\\\u4f4d\\\\u884c\\\\u92b7\\\\u5de5\\\\u8b80\\\\u751f\\\\/ Part-Time\",\"description\":\"\\\\u3010\\\\u5de5\\\\u4f5c\\\\u5167\\\\u5bb9\\\\u3011 -\\\\u88fd\\\\u4f5c\\\\u5438\\\\u6674\\\\u884c\\\\u92b7\\\\u7d20\\\\u6750 (\\\\u7db2\\\\u9801 banner\\\\u3001\\\\u793e\\\\u7fa4\\\\u7db2\\\\u7ad9\\\\u7528\\\\u5716\\\\u3001EDM\\\\u3001...\",\"optionEdu\":\"\\\\u5c08\\\\u79d1\",\"periodDesc\":\"\\\\u7d93\\\\u6b77\\\\u4e0d\\\\u62d8\",\"custNo\":\"29084823000\",\"custName\":\"EZTABLE_\\\\u4e09\\\\u4e8c\\\\u4e09\\\\u7db2\\\\u8def\\\\u79d1\\\\u6280\\\\u80a1\\\\u4efd\\\\u6709\\\\u9650\\\\u516c\\\\u53f8\",\"salaryDesc\":\"\\\\u6642\\\\u85aa200\\\\u5143\",\"appearDateDesc\":\"12\\\\/15\",\"isSave\":\"0\",\"link\":{\"job\":\"\\\\/\\\\/www.104.com.tw\\\\/job\\\\/74cuq?jobsource=parttimesector\",\"cust\":\"\\\\/\\\\/www.104.com.tw\\\\/company\\\\/dd0cp20?jobsource=parttimesector\"},\"jobNameRaw\":\"\\\\u6578\\\\u4f4d\\\\u884c\\\\u92b7\\\\u5de5\\\\u8b80\\\\u751f\\\\/ Part-Time\",\"custNameRaw\":\"EZTABLE_\\\\u4e09\\\\u4e8c\\\\u4e09\\\\u7db2\\\\u8def\\\\u79d1\\\\u6280\\\\u80a1\\\\u4efd\\\\u6709\\\\u9650\\\\u516c\\\\u53f8\",\"lon\":\"121.5649454\",\"lat\":\"25.0424801\"},{\"jobNo\":\"12465292\",\"jobName\":\"Intern - SAP - Enterprise Technology &amp; Performance - Consulting\",\"description\":\"\\\\u3010Join Deloitte Consulting \\\\u3011   Year afte...\",\"optionEdu\":\"\\\\u5927\\\\u5b78\",\"periodDesc\":\"\\\\u7d93\\\\u6b77\\\\u4e0d\\\\u62d8\",\"custNo\":\"130000000123792\",\"custName\":\"Deloitte_\\\\u9999\\\\u6e2f\\\\u5546\\\\u5fb7\\\\u52e4\\\\u592a\\\\u5e73\\\\u6d0b\\\\u4f01\\\\u696d\\\\u7ba1\\\\u7406\\\\u54a8\\\\u8a62\\\\u6709\\\\u9650\\\\u516c\\\\u53f8\\\\u53f0\\\\u7063\\\\u5206\\\\u516c\\\\u53f8\",\"salaryDesc\":\"\\\\u6642\\\\u85aa160\\\\u5143\",\"appearDateDesc\":\"12\\\\/15\",\"isSave\":\"0\",\"link\":{\"job\":\"\\\\/\\\\/www.104.com.tw\\\\/job\\\\/7f6a4?jobsource=parttimesector\",\"cust\":\"\\\\/\\\\/www.104.com.tw\\\\/company\\\\/1a2x6bkmts?jobsource=parttimesector\"},\"jobNameRaw\":\"Intern - SAP - Enterprise Technology & Performance - Consulting\",\"custNameRaw\":\"Deloitte_\\\\u9999\\\\u6e2f\\\\u5546\\\\u5fb7\\\\u52e4\\\\u592a\\\\u5e73\\\\u6d0b\\\\u4f01\\\\u696d\\\\u7ba1\\\\u7406\\\\u54a8\\\\u8a62\\\\u6709\\\\u9650\\\\u516c\\\\u53f8\\\\u53f0\\\\u7063\\\\u5206\\\\u516c\\\\u53f8\",\"lon\":\"121.5671656\",\"lat\":\"25.0344055\"},{\"jobNo\":\"12429628\",\"jobName\":\"\\\\u300cSanka \\\\u53c2\\\\u52a0\\\\u300d\\\\u804a\\\\u5929\\\\u9054\\\\u4eba\\\\uff08\\\\u6708\\\\u6536\\\\u6709\\\\u6a5f\\\\u6703\\\\u90546\\\\u4f4d\\\\u6578\\\\uff09\",\"description\":\"Sanka \\\\u2014 \\\\u53f0\\\\u7063\\\\u9996\\\\u5275\\\\u300c\\\\u805a\\\\u6703\\\\u540c\\\\u6a02\\\\u5a92\\\\u5408\\\\u300d\\\\u5e73\\\\u53f0 \\\\u5f37\\\\u529b\\\\u52df\\\\u96c6\\\\u540c\\\\u6a02\\\\u9054\\\\u4eba\\\\uff01  \\\\u611b\\\\u804a\\\\u5929- ...\",\"optionEdu\":\"\\\\u5b78\\\\u6b77\\\\u4e0d\\\\u62d8\",\"periodDesc\":\"\\\\u7d93\\\\u6b77\\\\u4e0d\\\\u62d8\",\"custNo\":\"130000000119929\",\"custName\":\"\\\\u70cf\\\\u6258\\\\u90a6\\\\u570b\\\\u969b\\\\u6709\\\\u9650\\\\u516c\\\\u53f8\",\"salaryDesc\":\"\\\\u6642\\\\u85aa1,200~9,000\\\\u5143\",\"appearDateDesc\":\"12\\\\/20\",\"isSave\":\"0\",\"link\":{\"job\":\"\\\\/\\\\/www.104.com.tw\\\\/job\\\\/7eerg?jobsource=parttimesector\",\"cust\":\"\\\\/\\\\/www.104.com.tw\\\\/company\\\\/1a2x6bkjuh?jobsource=parttimesector\"},\"jobNameRaw\":\"\\\\u300cSanka \\\\u53c2\\\\u52a0\\\\u300d\\\\u804a\\\\u5929\\\\u9054\\\\u4eba\\\\uff08\\\\u6708\\\\u6536\\\\u6709\\\\u6a5f\\\\u6703\\\\u90546\\\\u4f4d\\\\u6578\\\\uff09\",\"custNameRaw\":\"\\\\u70cf\\\\u6258\\\\u90a6\\\\u570b\\\\u969b\\\\u6709\\\\u9650\\\\u516c\\\\u53f8\",\"lon\":\"121.5720055\",\"lat\":\"25.0409201\"},{\"jobNo\":\"11441643\",\"jobName\":\"Part time Administration Assistant\",\"description\":\"Job description: 1. To prepare client d...\",\"optionEdu\":\"\\\\u5927\\\\u5b78\",\"periodDesc\":\"\\\\u7d93\\\\u6b77\\\\u4e0d\\\\u62d8\",\"custNo\":\"130000000101855\",\"custName\":\"\\\\u57fa\\\\u5229\\\\u5fc3\\\\u74b0\\\\u7403\\\\u6295\\\\u8cc7\\\\u6709\\\\u9650\\\\u516c\\\\u53f8\",\"salaryDesc\":\"\\\\u6642\\\\u85aa200~220\\\\u5143\",\"appearDateDesc\":\"12\\\\/21\",\"isSave\":\"0\",\"link\":{\"job\":\"\\\\/\\\\/www.104.com.tw\\\\/job\\\\/6t8ff?jobsource=parttimesector\",\"cust\":\"\\\\/\\\\/www.104.com.tw\\\\/company\\\\/1a2x6bk5wf?jobsource=parttimesector\"},\"jobNameRaw\":\"Part time Administration Assistant\",\"custNameRaw\":\"\\\\u57fa\\\\u5229\\\\u5fc3\\\\u74b0\\\\u7403\\\\u6295\\\\u8cc7\\\\u6709\\\\u9650\\\\u516c\\\\u53f8\",\"lon\":\"121.548223\",\"lat\":\"25.029112\"},{\"jobNo\":\"7418649\",\"jobName\":\"\\\\u5916\\\\u5834\\\\u5de5\\\\u8b80\\\\u4eba\\\\u54e1(\\\\u53e4\\\\u4ead)\",\"description\":\"1.\\\\u8ca0\\\\u8cac\\\\u8dd1\\\\u55ae\\\\u3001\\\\u64fa\\\\u76e4\\\\u3001\\\\u9001\\\\u9910\\\\u53ca\\\\u806f\\\\u7e6b\\\\u5167\\\\u5916\\\\u5834\\\\u4e4b\\\\u5de5\\\\u4f5c\\\\u3002 2.\\\\u8ca0\\\\u8cac\\\\u5ba2\\\\u4eba\\\\u5e36\\\\u4f4d\\\\u3001\\\\u5012\\\\u6c34\\\\u3001\\\\u9ede\\\\u9910\\\\u7b49\\\\u5de5...\",\"optionEdu\":\"\\\\u5b78\\\\u6b77\\\\u4e0d\\\\u62d8\",\"periodDesc\":\"\\\\u7d93\\\\u6b77\\\\u4e0d\\\\u62d8\",\"custNo\":\"25050110000\",\"custName\":\"\\\\u4e00\\\\u756a\\\\u5730\\\\u58fd\\\\u559c\\\\u71d2_\\\\u592a\\\\u795e\\\\u9910\\\\u98f2\\\\u80a1\\\\u4efd\\\\u6709\\\\u9650\\\\u516c\\\\u53f8\",\"salaryDesc\":\"\\\\u6642\\\\u85aa160\\\\u5143\\\\u4ee5\\\\u4e0a\",\"appearDateDesc\":\"12\\\\/20\",\"isSave\":\"0\",\"link\":{\"job\":\"\\\\/\\\\/www.104.com.tw\\\\/job\\\\/4f09l?jobsource=parttimesector\",\"cust\":\"\\\\/\\\\/www.104.com.tw\\\\/company\\\\/bia6skw?jobsource=parttimesector\"},\"jobNameRaw\":\"\\\\u5916\\\\u5834\\\\u5de5\\\\u8b80\\\\u4eba\\\\u54e1(\\\\u53e4\\\\u4ead)\",\"custNameRaw\":\"\\\\u4e00\\\\u756a\\\\u5730\\\\u58fd\\\\u559c\\\\u71d2_\\\\u592a\\\\u795e\\\\u9910\\\\u98f2\\\\u80a1\\\\u4efd\\\\u6709\\\\u9650\\\\u516c\\\\u53f8\",\"lon\":\"121.5187462\",\"lat\":\"25.0263197\"},{\"jobNo\":\"11073416\",\"jobName\":\"\\\\u30102022\\\\u5e74\\\\u6642\\\\u85aa173\\\\u5143\\\\u8d77\\\\u3011\\\\u85a9\\\\u8389\\\\u4e9e \\\\u53f0\\\\u5317\\\\u9928\\\\u524d\\\\u5e97 \\\\u65e9\\\\u665a\\\\u73ed\\\\u5167\\\\u5916\\\\u5834\\\\u670d\\\\u52d9\\\\u54e1\",\"description\":\"\\\\u4e3b\\\\u8981\\\\u5de5\\\\u4f5c\\\\u5167\\\\u5bb9\\\\uff1a 1.\\\\u9910\\\\u5ef3\\\\u5916\\\\u5834\\\\u5ba2\\\\u4eba\\\\u63a5\\\\u5f85\\\\u3001\\\\u5f15\\\\u5c0e\\\\u3001\\\\u9910\\\\u5177\\\\u64fa\\\\u8a2d\\\\u3001\\\\u9910\\\\u9ede\\\\u4ecb\\\\u7d39\\\\u3001\\\\u9ede\\\\u9910\\\\u7b49\\\\u670d\\\\u52d9\\\\u3002 ...\",\"optionEdu\":\"\\\\u5b78\\\\u6b77\\\\u4e0d\\\\u62d8\",\"periodDesc\":\"\\\\u7d93\\\\u6b77\\\\u4e0d\\\\u62d8\",\"custNo\":\"28854801000\",\"custName\":\"\\\\u53f0\\\\u7063\\\\u85a9\\\\u8389\\\\u4e9e\\\\u9910\\\\u98f2\\\\u80a1\\\\u4efd\\\\u6709\\\\u9650\\\\u516c\\\\u53f8\",\"salaryDesc\":\"\\\\u6642\\\\u85aa165~192\\\\u5143\",\"appearDateDesc\":\"12\\\\/15\",\"isSave\":\"0\",\"link\":{\"job\":\"\\\\/\\\\/www.104.com.tw\\\\/job\\\\/6lcaw?jobsource=parttimesector\",\"cust\":\"\\\\/\\\\/www.104.com.tw\\\\/company\\\\/d97eiy0?jobsource=parttimesector\"},\"jobNameRaw\":\"\\\\u30102022\\\\u5e74\\\\u6642\\\\u85aa173\\\\u5143\\\\u8d77\\\\u3011\\\\u85a9\\\\u8389\\\\u4e9e \\\\u53f0\\\\u5317\\\\u9928\\\\u524d\\\\u5e97 \\\\u65e9\\\\u665a\\\\u73ed\\\\u5167\\\\u5916\\\\u5834\\\\u670d\\\\u52d9\\\\u54e1\",\"custNameRaw\":\"\\\\u53f0\\\\u7063\\\\u85a9\\\\u8389\\\\u4e9e\\\\u9910\\\\u98f2\\\\u80a1\\\\u4efd\\\\u6709\\\\u9650\\\\u516c\\\\u53f8\",\"lon\":\"121.514762\",\"lat\":\"25.046138\"},{\"jobNo\":\"10652111\",\"jobName\":\"AI \\\\u6578\\\\u64da\\\\u670d\\\\u52d9\\\\u4e8b\\\\u696d\\\\u90e8\\\\u4e28\\\\u5c08\\\\u6848\\\\u52a9\\\\u7406(\\\\u7d04\\\\u8058)\\\\/\\\\u5de5\\\\u8b80\\\\u751f(\\\\u9577\\\\u671f) \\\\u6709\\\\u8f49\\\\u6b63\\\\u6a5f\\\\u6703\",\"description\":\"\\\\u3010\\\\u95dc\\\\u65bc\\\\u82e5\\\\u6c34AI\\\\u5c08\\\\u6848\\\\u52a9\\\\u7406\\\\/\\\\u5de5\\\\u8b80\\\\u751f\\\\u3011 \\\\u5728\\\\u82e5\\\\u6c34AI\\\\u6578\\\\u64da\\\\u5718\\\\u968a\\\\uff0c\\\\u6578\\\\u64da\\\\u7684\\\\u751f\\\\u7522\\\\u662f\\\\u4e00\\\\u689d\\\\u5f9e\\\\u7dda\\\\u4e0a\\\\u5230...\",\"optionEdu\":\"\\\\u5c08\\\\u79d1\",\"periodDesc\":\"\\\\u7d93\\\\u6b77\\\\u4e0d\\\\u62d8\",\"custNo\":\"28684763000\",\"custName\":\"\\\\u82e5\\\\u6c34\\\\u570b\\\\u969b\\\\u80a1\\\\u4efd\\\\u6709\\\\u9650\\\\u516c\\\\u53f8\",\"salaryDesc\":\"\\\\u6642\\\\u85aa160\\\\u5143\",\"appearDateDesc\":\"12\\\\/15\",\"isSave\":\"0\",\"link\":{\"job\":\"\\\\/\\\\/www.104.com.tw\\\\/job\\\\/6cb7z?jobsource=parttimesector\",\"cust\":\"\\\\/\\\\/www.104.com.tw\\\\/company\\\\/d6e60s8?jobsource=parttimesector\"},\"jobNameRaw\":\"AI \\\\u6578\\\\u64da\\\\u670d\\\\u52d9\\\\u4e8b\\\\u696d\\\\u90e8\\\\u4e28\\\\u5c08\\\\u6848\\\\u52a9\\\\u7406(\\\\u7d04\\\\u8058)\\\\/\\\\u5de5\\\\u8b80\\\\u751f(\\\\u9577\\\\u671f) \\\\u6709\\\\u8f49\\\\u6b63\\\\u6a5f\\\\u6703\",\"custNameRaw\":\"\\\\u82e5\\\\u6c34\\\\u570b\\\\u969b\\\\u80a1\\\\u4efd\\\\u6709\\\\u9650\\\\u516c\\\\u53f8\",\"lon\":\"121.5204815\",\"lat\":\"25.0294506\"},{\"jobNo\":\"11830301\",\"jobName\":\"\\\\u74b0\\\\u5883\\\\u7dad\\\\u8b77\\\\u4eba\\\\u54e1\",\"description\":\"1. \\\\u9580\\\\u5e02\\\\u74b0\\\\u5883\\\\u7dad\\\\u8b77\\\\u3002 2. \\\\u5546\\\\u54c1\\\\u6574\\\\u7406\\\\u9673\\\\u5217\\\\u3002 3. \\\\u8017\\\\u6750\\\\u7528\\\\u54c1\\\\u7ba1\\\\u7406\\\\u6574\\\\u7406\\\\u53ca\\\\u7f8e\\\\u5bb9\\\\u8863\\\\u647a\\\\u758a...\",\"optionEdu\":\"\\\\u5b78\\\\u6b77\\\\u4e0d\\\\u62d8\",\"periodDesc\":\"\\\\u7d93\\\\u6b77\\\\u4e0d\\\\u62d8\",\"custNo\":\"130000000135616\",\"custName\":\"&amp; FellowsSPA  \\\\u95a8\\\\u871c\\\\u82b1\\\\u5712_\\\\u705c\\\\u5bf0\\\\u5275\\\\u50f9\\\\u570b\\\\u969b\\\\u6709\\\\u9650\\\\u516c\\\\u53f8\",\"salaryDesc\":\"\\\\u6642\\\\u85aa160~200\\\\u5143\",\"appearDateDesc\":\"12\\\\/20\",\"isSave\":\"0\",\"link\":{\"job\":\"\\\\/\\\\/www.104.com.tw\\\\/job\\\\/71kbh?jobsource=parttimesector\",\"cust\":\"\\\\/\\\\/www.104.com.tw\\\\/company\\\\/1a2x6bkvy8?jobsource=parttimesector\"},\"jobNameRaw\":\"\\\\u74b0\\\\u5883\\\\u7dad\\\\u8b77\\\\u4eba\\\\u54e1\",\"custNameRaw\":\"& FellowsSPA  \\\\u95a8\\\\u871c\\\\u82b1\\\\u5712_\\\\u705c\\\\u5bf0\\\\u5275\\\\u50f9\\\\u570b\\\\u969b\\\\u6709\\\\u9650\\\\u516c\\\\u53f8\",\"lon\":\"121.548497\",\"lat\":\"25.046777\"},{\"jobNo\":\"12449211\",\"jobName\":\"\\\\u3010\\\\u4e7e\\\\u676f\\\\u96c6\\\\u5718\\\\u3011\\\\u3010\\\\u65b0\\\\u958b\\\\u5e97\\\\u3011\\\\u934b\\\\u7269\\\\u54c1\\\\u724c-\\\\u9ed1\\\\u6bdb\\\\u5c4b \\\\u4fe1\\\\u7fa9ATT\\\\u5e97-\\\\u4e7e\\\\u676f\\\\u4e4b\\\\u661f\\\\u300e\\\\u6642\\\\u85aa200-230\\\\u5143(\\\\u542b10\\\\u5143\\\\u5168\\\\u52e4)\\\\u300f\",\"description\":\"#\\\\u4f60\\\\u6709\\\\u80fd\\\\u529b\\\\u6211\\\\u6709\\\\u5e73\\\\u53f0 #\\\\u4e7e\\\\u676f\\\\u96c6\\\\u5718\\\\u62db\\\\u52df\\\\u65b0\\\\u8840  \\\\u3010\\\\u7d93\\\\u71df\\\\u7406\\\\u5ff5\\\\u3011 \\\\u900f\\\\u904e\\\\u4ee4\\\\u4eba\\\\u611f\\\\u52d5\\\\u7121\\\\u6bd4\\\\u7684\\\\u7f8e\\\\u5473...\",\"optionEdu\":\"\\\\u5b78\\\\u6b77\\\\u4e0d\\\\u62d8\",\"periodDesc\":\"\\\\u7d93\\\\u6b77\\\\u4e0d\\\\u62d8\",\"custNo\":\"70443909000\",\"custName\":\"\\\\u4e7e\\\\u676f\\\\u80a1\\\\u4efd\\\\u6709\\\\u9650\\\\u516c\\\\u53f8\",\"salaryDesc\":\"\\\\u6642\\\\u85aa200~230\\\\u5143\",\"appearDateDesc\":\"12\\\\/15\",\"isSave\":\"0\",\"link\":{\"job\":\"\\\\/\\\\/www.104.com.tw\\\\/job\\\\/7etvf?jobsource=parttimesector\",\"cust\":\"\\\\/\\\\/www.104.com.tw\\\\/company\\\\/wd0hg20?jobsource=parttimesector\"},\"jobNameRaw\":\"\\\\u3010\\\\u4e7e\\\\u676f\\\\u96c6\\\\u5718\\\\u3011\\\\u3010\\\\u65b0\\\\u958b\\\\u5e97\\\\u3011\\\\u934b\\\\u7269\\\\u54c1\\\\u724c-\\\\u9ed1\\\\u6bdb\\\\u5c4b \\\\u4fe1\\\\u7fa9ATT\\\\u5e97-\\\\u4e7e\\\\u676f\\\\u4e4b\\\\u661f\\\\u300e\\\\u6642\\\\u85aa200-230\\\\u5143(\\\\u542b10\\\\u5143\\\\u5168\\\\u52e4)\\\\u300f\",\"custNameRaw\":\"\\\\u4e7e\\\\u676f\\\\u80a1\\\\u4efd\\\\u6709\\\\u9650\\\\u516c\\\\u53f8\",\"lon\":\"121.5660073\",\"lat\":\"25.0354168\"},{\"jobNo\":\"12518733\",\"jobName\":\"\\\\u5e73\\\\u9762\\\\u8a2d\\\\u8a08\\\\/\\\\u7f8e\\\\u7de8\\\\u4eba\\\\u54e1\\\\u52a9\\\\u7406\",\"description\":\"\\\\u5de5\\\\u4f5c\\\\u80fd\\\\u529b\\\\uff1a 1.\\\\t\\\\u6709\\\\u5275\\\\u610f\\\\u6709\\\\u60f3\\\\u6cd5\\\\uff0c\\\\u5bcc\\\\u597d\\\\u5947\\\\u5fc3\\\\u8207\\\\u71b1\\\\u60c5 2.\\\\t\\\\u719f\\\\u6089 Illustrat...\",\"optionEdu\":\"\\\\u5b78\\\\u6b77\\\\u4e0d\\\\u62d8\",\"periodDesc\":\"\\\\u7d93\\\\u6b77\\\\u4e0d\\\\u62d8\",\"custNo\":\"130000000179647\",\"custName\":\"\\\\u69ff\\\\u68e0\\\\u6578\\\\u4f4d\\\\u5ee3\\\\u544a\\\\u80a1\\\\u4efd\\\\u6709\\\\u9650\\\\u516c\\\\u53f8\",\"salaryDesc\":\"\\\\u6642\\\\u85aa170~200\\\\u5143\",\"appearDateDesc\":\"12\\\\/14\",\"isSave\":\"0\",\"link\":{\"job\":\"\\\\/\\\\/www.104.com.tw\\\\/job\\\\/7gbil?jobsource=parttimesector\",\"cust\":\"\\\\/\\\\/www.104.com.tw\\\\/company\\\\/1a2x6bltxb?jobsource=parttimesector\"},\"jobNameRaw\":\"\\\\u5e73\\\\u9762\\\\u8a2d\\\\u8a08\\\\/\\\\u7f8e\\\\u7de8\\\\u4eba\\\\u54e1\\\\u52a9\\\\u7406\",\"custNameRaw\":\"\\\\u69ff\\\\u68e0\\\\u6578\\\\u4f4d\\\\u5ee3\\\\u544a\\\\u80a1\\\\u4efd\\\\u6709\\\\u9650\\\\u516c\\\\u53f8\",\"lon\":\"121.5088287\",\"lat\":\"25.0457394\"},{\"jobNo\":\"12466555\",\"jobName\":\"\\\\u9ad8\\\\u52a0\\\\u7d22\\\\u9152\\\\u6ac3\\\\uff0e\\\\u9580\\\\u5e02\\\\u92b7\\\\u552e\\\\u4eba\\\\u54e1 (PT)\",\"description\":\"1. \\\\u9152\\\\u54c1\\\\u4ecb\\\\u7d39\\\\u53ca\\\\u92b7\\\\u552e(\\\\u6703\\\\u6709\\\\u8077\\\\u524d\\\\u6559\\\\u80b2\\\\u8a13\\\\u7df4)\\\\u3002 2. \\\\u9867\\\\u5ba2\\\\u4e4b\\\\u63a5\\\\u5f85\\\\u8207\\\\u9700\\\\u6c42\\\\u670d\\\\u52d9\\\\u3002 3....\",\"optionEdu\":\"\\\\u9ad8\\\\u4e2d\",\"periodDesc\":\"2\\\\u5e74\\\\u4ee5\\\\u4e0a\",\"custNo\":\"130000000151178\",\"custName\":\"\\\\u62c9\\\\u8c93\\\\u80a1\\\\u4efd\\\\u6709\\\\u9650\\\\u516c\\\\u53f8\",\"salaryDesc\":\"\\\\u6642\\\\u85aa170~180\\\\u5143\",\"appearDateDesc\":\"12\\\\/17\",\"isSave\":\"0\",\"link\":{\"job\":\"\\\\/\\\\/www.104.com.tw\\\\/job\\\\/7f797?jobsource=parttimesector\",\"cust\":\"\\\\/\\\\/www.104.com.tw\\\\/company\\\\/1a2x6bl7yi?jobsource=parttimesector\"},\"jobNameRaw\":\"\\\\u9ad8\\\\u52a0\\\\u7d22\\\\u9152\\\\u6ac3\\\\uff0e\\\\u9580\\\\u5e02\\\\u92b7\\\\u552e\\\\u4eba\\\\u54e1 (PT)\",\"custNameRaw\":\"\\\\u62c9\\\\u8c93\\\\u80a1\\\\u4efd\\\\u6709\\\\u9650\\\\u516c\\\\u53f8\",\"lon\":\"121.5538133\",\"lat\":\"25.0375753\"},{\"jobNo\":\"11599794\",\"jobName\":\"SimpleMiXi\\\\u9580\\\\u5e02\\\\u92b7\\\\u552e\\\\u4eba\\\\u54e1\",\"description\":\"Simple MiXi\\\\u975e\\\\u5e38\\\\u9700\\\\u8981\\\\u4f60~ \\\\u5fb5 \\\\u9580\\\\u5e02\\\\u8a08\\\\u6642\\\\/\\\\u5de5\\\\u8b80\\\\u4eba\\\\u54e1 \\\\u4e0a\\\\u73ed\\\\u5730\\\\u9ede\\\\uff1a\\\\u5fe0\\\\u5b5d\\\\u6566\\\\u5316...\",\"optionEdu\":\"\\\\u5b78\\\\u6b77\\\\u4e0d\\\\u62d8\",\"periodDesc\":\"\\\\u7d93\\\\u6b77\\\\u4e0d\\\\u62d8\",\"custNo\":\"130000000084037\",\"custName\":\"Simple MiXi_\\\\u540d\\\\u99df\\\\u6d41\\\\u884c\\\\u5de5\\\\u4f5c\\\\u5ba4\",\"salaryDesc\":\"\\\\u6642\\\\u85aa160\\\\u5143\",\"appearDateDesc\":\"12\\\\/15\",\"isSave\":\"0\",\"link\":{\"job\":\"\\\\/\\\\/www.104.com.tw\\\\/job\\\\/6wmgi?jobsource=parttimesector\",\"cust\":\"\\\\/\\\\/www.104.com.tw\\\\/company\\\\/1a2x6bjs5h?jobsource=parttimesector\"},\"jobNameRaw\":\"SimpleMiXi\\\\u9580\\\\u5e02\\\\u92b7\\\\u552e\\\\u4eba\\\\u54e1\",\"custNameRaw\":\"Simple MiXi_\\\\u540d\\\\u99df\\\\u6d41\\\\u884c\\\\u5de5\\\\u4f5c\\\\u5ba4\",\"lon\":\"121.5501473\",\"lat\":\"25.0436465\"},{\"jobNo\":\"12523506\",\"jobName\":\"\\\\u884c\\\\u92b7\\\\u52a9\\\\u7406(\\\\u5be6\\\\u7fd2\\\\u751f\\\\u53ef\\\\uff0c\\\\u53ef\\\\u90e8\\\\u4efd\\\\u9060\\\\u7aef\\\\u5de5\\\\u4f5c)\",\"description\":\"\\\\u3010\\\\u5de5\\\\u4f5c\\\\u5167\\\\u5bb9\\\\u3011 - \\\\u5c08\\\\u6848\\\\u6d3b\\\\u52d5\\\\u5354\\\\u52a9 (\\\\u8cc7\\\\u6599\\\\u641c\\\\u96c6\\\\u3001\\\\u6d3b\\\\u52d5\\\\u9801\\\\u88fd\\\\u4f5c\\\\u3001\\\\u76f8\\\\u95dc\\\\u7d20\\\\u6750\\\\u6e96\\\\u5099)\\\\u2028 - ...\",\"optionEdu\":\"\\\\u9ad8\\\\u4e2d\",\"periodDesc\":\"1\\\\u5e74\\\\u4ee5\\\\u4e0a\",\"custNo\":\"130000000076863\",\"custName\":\"AsiaYo_\\\\u4e9e\\\\u6d32\\\\u904a\\\\u79d1\\\\u6280\\\\u80a1\\\\u4efd\\\\u6709\\\\u9650\\\\u516c\\\\u53f8\",\"salaryDesc\":\"\\\\u6642\\\\u85aa160~170\\\\u5143\",\"appearDateDesc\":\"12\\\\/16\",\"isSave\":\"0\",\"link\":{\"job\":\"\\\\/\\\\/www.104.com.tw\\\\/job\\\\/7gf76?jobsource=parttimesector\",\"cust\":\"\\\\/\\\\/www.104.com.tw\\\\/company\\\\/1a2x6bjmm7?jobsource=parttimesector\"},\"jobNameRaw\":\"\\\\u884c\\\\u92b7\\\\u52a9\\\\u7406(\\\\u5be6\\\\u7fd2\\\\u751f\\\\u53ef\\\\uff0c\\\\u53ef\\\\u90e8\\\\u4efd\\\\u9060\\\\u7aef\\\\u5de5\\\\u4f5c)\",\"custNameRaw\":\"AsiaYo_\\\\u4e9e\\\\u6d32\\\\u904a\\\\u79d1\\\\u6280\\\\u80a1\\\\u4efd\\\\u6709\\\\u9650\\\\u516c\\\\u53f8\",\"lon\":\"121.5493425\",\"lat\":\"25.0302501\"},{\"jobNo\":\"10678024\",\"jobName\":\"\\\\u517c\\\\u8077 \\\\u670d\\\\u98fe\\\\u9078\\\\u8ca8\\\\u5e97\\\\u9580\\\\u5e02 \\\\u92b7\\\\u552e\\\\u4eba\\\\u54e1\",\"description\":\"\\\\u5546\\\\u54c1\\\\u76f8\\\\u95dc\\\\u98a8\\\\u683c\\\\u8acb\\\\u5148\\\\u53c3\\\\u8003: Instagram : hills_select 1....\",\"optionEdu\":\"\\\\u9ad8\\\\u4e2d\",\"periodDesc\":\"\\\\u7d93\\\\u6b77\\\\u4e0d\\\\u62d8\",\"custNo\":\"130000000115794\",\"custName\":\"Hills Select_\\\\u5c71\\\\u4e18\\\\u9078\\\\u7269\\\\u570b\\\\u969b\\\\u80a1\\\\u4efd\\\\u6709\\\\u9650\\\\u516c\\\\u53f8\",\"salaryDesc\":\"\\\\u6642\\\\u85aa160~170\\\\u5143\",\"appearDateDesc\":\"12\\\\/19\",\"isSave\":\"0\",\"link\":{\"job\":\"\\\\/\\\\/www.104.com.tw\\\\/job\\\\/6cv7s?jobsource=parttimesector\",\"cust\":\"\\\\/\\\\/www.104.com.tw\\\\/company\\\\/1a2x6bkgnm?jobsource=parttimesector\"},\"jobNameRaw\":\"\\\\u517c\\\\u8077 \\\\u670d\\\\u98fe\\\\u9078\\\\u8ca8\\\\u5e97\\\\u9580\\\\u5e02 \\\\u92b7\\\\u552e\\\\u4eba\\\\u54e1\",\"custNameRaw\":\"Hills Select_\\\\u5c71\\\\u4e18\\\\u9078\\\\u7269\\\\u570b\\\\u969b\\\\u80a1\\\\u4efd\\\\u6709\\\\u9650\\\\u516c\\\\u53f8\",\"lon\":\"121.5041313\",\"lat\":\"25.0448354\"},{\"jobNo\":\"12465065\",\"jobName\":\"Intern \\\\u2013 Digital Customer - Customer &amp; Marketing - Consulting\",\"description\":\"\\\\u3010Join Deloitte Consulting \\\\u3011   Year afte...\",\"optionEdu\":\"\\\\u5927\\\\u5b78\",\"periodDesc\":\"\\\\u7d93\\\\u6b77\\\\u4e0d\\\\u62d8\",\"custNo\":\"130000000123792\",\"custName\":\"Deloitte_\\\\u9999\\\\u6e2f\\\\u5546\\\\u5fb7\\\\u52e4\\\\u592a\\\\u5e73\\\\u6d0b\\\\u4f01\\\\u696d\\\\u7ba1\\\\u7406\\\\u54a8\\\\u8a62\\\\u6709\\\\u9650\\\\u516c\\\\u53f8\\\\u53f0\\\\u7063\\\\u5206\\\\u516c\\\\u53f8\",\"salaryDesc\":\"\\\\u6642\\\\u85aa160\\\\u5143\",\"appearDateDesc\":\"12\\\\/15\",\"isSave\":\"0\",\"link\":{\"job\":\"\\\\/\\\\/www.104.com.tw\\\\/job\\\\/7f63t?jobsource=parttimesector\",\"cust\":\"\\\\/\\\\/www.104.com.tw\\\\/company\\\\/1a2x6bkmts?jobsource=parttimesector\"},\"jobNameRaw\":\"Intern \\\\u2013 Digital Customer - Customer & Marketing - Consulting\",\"custNameRaw\":\"Deloitte_\\\\u9999\\\\u6e2f\\\\u5546\\\\u5fb7\\\\u52e4\\\\u592a\\\\u5e73\\\\u6d0b\\\\u4f01\\\\u696d\\\\u7ba1\\\\u7406\\\\u54a8\\\\u8a62\\\\u6709\\\\u9650\\\\u516c\\\\u53f8\\\\u53f0\\\\u7063\\\\u5206\\\\u516c\\\\u53f8\",\"lon\":\"121.5671656\",\"lat\":\"25.0344055\"},{\"jobNo\":\"11848358\",\"jobName\":\"\\\\u8edf\\\\u9ad4\\\\u958b\\\\u767c\\\\u5de5\\\\u7a0b\\\\u5e2b(\\\\u5be6\\\\u7fd2)\",\"description\":\"\\\\u4ee5\\\\u4e0b\\\\u8aaa\\\\u660e\\\\u70ba\\\\u6b64\\\\u8077\\\\u7f3a\\\\u7684\\\\u5de5\\\\u4f5c\\\\u5167\\\\u5bb9\\\\uff0c\\\\u4f46\\\\u5982\\\\u679c\\\\u60a8\\\\u5c0d\\\\u65b0\\\\u6280\\\\u8853\\\\u5145\\\\u6eff\\\\u71b1\\\\u5ff1\\\\uff0c\\\\u671f\\\\u5f85\\\\u5168\\\\u65b9\\\\u4f4d\\\\u7684\\\\u6210\\\\u9577\\\\uff1b\\\\u800c\\\\u4e0d\\\\u662f...\",\"optionEdu\":\"\\\\u5927\\\\u5b78\",\"periodDesc\":\"\\\\u7d93\\\\u6b77\\\\u4e0d\\\\u62d8\",\"custNo\":\"130000000012258\",\"custName\":\"\\\\u806f\\\\u77bb\\\\u8cc7\\\\u8a0a\\\\u80a1\\\\u4efd\\\\u6709\\\\u9650\\\\u516c\\\\u53f8\",\"salaryDesc\":\"\\\\u6642\\\\u85aa160\\\\u5143\\\\u4ee5\\\\u4e0a\",\"appearDateDesc\":\"12\\\\/21\",\"isSave\":\"0\",\"link\":{\"job\":\"\\\\/\\\\/www.104.com.tw\\\\/job\\\\/71y92?jobsource=parttimesector\",\"cust\":\"\\\\/\\\\/www.104.com.tw\\\\/company\\\\/1a2x6bi8rm?jobsource=parttimesector\"},\"jobNameRaw\":\"\\\\u8edf\\\\u9ad4\\\\u958b\\\\u767c\\\\u5de5\\\\u7a0b\\\\u5e2b(\\\\u5be6\\\\u7fd2)\",\"custNameRaw\":\"\\\\u806f\\\\u77bb\\\\u8cc7\\\\u8a0a\\\\u80a1\\\\u4efd\\\\u6709\\\\u9650\\\\u516c\\\\u53f8\",\"lon\":\"121.5473512\",\"lat\":\"25.0483984\"},{\"jobNo\":\"12001204\",\"jobName\":\"\\\\u884c\\\\u92b7\\\\u90e8\\\\u5be6\\\\u7fd2\\\\u751f\\\\uff08\\\\u793e\\\\u7fa4\\\\/\\\\u5f71\\\\u97f3\\\\/\\\\u76f4\\\\u64ad\\\\uff09\",\"description\":\"1.     \\\\u793e\\\\u7fa4\\\\u8cbc\\\\u6587\\\\u6587\\\\u6848\\\\u64b0\\\\u5beb\\\\u3001\\\\u5546\\\\u54c1\\\\u5716\\\\u7247\\\\u7f8e\\\\u5316\\\\u53ca\\\\u6392\\\\u7248\\\\u3001\\\\u5275\\\\u610f\\\\u8cbc\\\\u6587\\\\u6d3b\\\\u52d5\\\\u767c\\\\u60f3 2.  ...\",\"optionEdu\":\"\\\\u5c08\\\\u79d1\",\"periodDesc\":\"1\\\\u5e74\\\\u4ee5\\\\u4e0a\",\"custNo\":\"130000000145423\",\"custName\":\"\\\\u8993\\\\u53bb\\\\u80a1\\\\u4efd\\\\u6709\\\\u9650\\\\u516c\\\\u53f8\",\"salaryDesc\":\"\\\\u6642\\\\u85aa160~180\\\\u5143\",\"appearDateDesc\":\"12\\\\/15\",\"isSave\":\"0\",\"link\":{\"job\":\"\\\\/\\\\/www.104.com.tw\\\\/job\\\\/7586s?jobsource=parttimesector\",\"cust\":\"\\\\/\\\\/www.104.com.tw\\\\/company\\\\/1a2x6bl3in?jobsource=parttimesector\"},\"jobNameRaw\":\"\\\\u884c\\\\u92b7\\\\u90e8\\\\u5be6\\\\u7fd2\\\\u751f\\\\uff08\\\\u793e\\\\u7fa4\\\\/\\\\u5f71\\\\u97f3\\\\/\\\\u76f4\\\\u64ad\\\\uff09\",\"custNameRaw\":\"\\\\u8993\\\\u53bb\\\\u80a1\\\\u4efd\\\\u6709\\\\u9650\\\\u516c\\\\u53f8\",\"lon\":\"121.5491655\",\"lat\":\"25.0284385\"},{\"jobNo\":\"12055802\",\"jobName\":\"FP \\\\u963f\\\\u9ed8\\\\u86cb\\\\u7cd5 \\\\u9580\\\\u5e02\\\\u665a\\\\u73ed\\\\u9577\\\\u671f\\\\u5de5\\\\u8b80\\\\u4eba\\\\u54e1 (\\\\u53f0\\\\u5317\\\\u5fa9\\\\u8208\\\\u9580\\\\u5e02)\",\"description\":\"\\\\u3010\\\\u5de5\\\\u4f5c\\\\u5167\\\\u5bb9\\\\u3011 1.\\\\u8ca0\\\\u8cac\\\\u92b7\\\\u552e\\\\u9580\\\\u5e02\\\\u5546\\\\u54c1\\\\u53ca\\\\u6536\\\\u9280 2.\\\\u86cb\\\\u7cd5\\\\u3001\\\\u559c\\\\u9905\\\\u3001\\\\u5f4c\\\\u6708\\\\u8207\\\\u7bc0\\\\u6176\\\\u8a02\\\\u55ae\\\\u63a5\\\\u6d3d ...\",\"optionEdu\":\"\\\\u5c08\\\\u79d1\",\"periodDesc\":\"\\\\u7d93\\\\u6b77\\\\u4e0d\\\\u62d8\",\"custNo\":\"130000000035504\",\"custName\":\"Amo_\\\\u65fa\\\\u9ed8\\\\u98df\\\\u54c1\\\\u4f01\\\\u696d\\\\u6709\\\\u9650\\\\u516c\\\\u53f8\",\"salaryDesc\":\"\\\\u6642\\\\u85aa160\\\\u5143\",\"appearDateDesc\":\"12\\\\/20\",\"isSave\":\"0\",\"link\":{\"job\":\"\\\\/\\\\/www.104.com.tw\\\\/job\\\\/76ebe?jobsource=parttimesector\",\"cust\":\"\\\\/\\\\/www.104.com.tw\\\\/company\\\\/1a2x6biqpc?jobsource=parttimesector\"},\"jobNameRaw\":\"FP \\\\u963f\\\\u9ed8\\\\u86cb\\\\u7cd5 \\\\u9580\\\\u5e02\\\\u665a\\\\u73ed\\\\u9577\\\\u671f\\\\u5de5\\\\u8b80\\\\u4eba\\\\u54e1 (\\\\u53f0\\\\u5317\\\\u5fa9\\\\u8208\\\\u9580\\\\u5e02)\",\"custNameRaw\":\"Amo_\\\\u65fa\\\\u9ed8\\\\u98df\\\\u54c1\\\\u4f01\\\\u696d\\\\u6709\\\\u9650\\\\u516c\\\\u53f8\",\"lon\":\"121.5435621\",\"lat\":\"25.0426879\"},{\"jobNo\":\"12519622\",\"jobName\":\"\\\\u897f\\\\u9580\\\\u5e97\\\\u5de5\\\\u8b80\\\\u751f(\\\\u6709\\\\u56fa\\\\u5b9a\\\\u6642\\\\u85aa\\\\u4e26\\\\u53ef\\\\u7372\\\\u5f97\\\\u984d\\\\u5916\\\\u9ad8\\\\u734e\\\\u91d1)\",\"description\":\"1.\\\\u5065\\\\u5eb7\\\\u8f15\\\\u98df\\\\u98f2\\\\u6599\\\\u8abf\\\\u88fd\\\\u3002 2.\\\\u8def\\\\u908a\\\\u50b3\\\\u55ae\\\\u767c\\\\u653e\\\\u3001\\\\u5ba3\\\\u50b3\\\\u3002 3.\\\\u5177\\\\u89aa\\\\u548c\\\\u529b\\\\u53ca\\\\u826f\\\\u597d\\\\u6e9d\\\\u901a\\\\u6280\\\\u5de7\\\\u3002...\",\"optionEdu\":\"\\\\u5b78\\\\u6b77\\\\u4e0d\\\\u62d8\",\"periodDesc\":\"\\\\u7d93\\\\u6b77\\\\u4e0d\\\\u62d8\",\"custNo\":\"130000000163565\",\"custName\":\"\\\\u5b8c\\\\u7f8e\\\\u7dda\\\\u689d\\\\u5de5\\\\u574a\",\"salaryDesc\":\"\\\\u6642\\\\u85aa165~190\\\\u5143\",\"appearDateDesc\":\"12\\\\/21\",\"isSave\":\"0\",\"link\":{\"job\":\"\\\\/\\\\/www.104.com.tw\\\\/job\\\\/7gc7a?jobsource=parttimesector\",\"cust\":\"\\\\/\\\\/www.104.com.tw\\\\/company\\\\/1a2x6blhil?jobsource=parttimesector\"},\"jobNameRaw\":\"\\\\u897f\\\\u9580\\\\u5e97\\\\u5de5\\\\u8b80\\\\u751f(\\\\u6709\\\\u56fa\\\\u5b9a\\\\u6642\\\\u85aa\\\\u4e26\\\\u53ef\\\\u7372\\\\u5f97\\\\u984d\\\\u5916\\\\u9ad8\\\\u734e\\\\u91d1)\",\"custNameRaw\":\"\\\\u5b8c\\\\u7f8e\\\\u7dda\\\\u689d\\\\u5de5\\\\u574a\",\"lon\":\"121.51043\",\"lat\":\"25.042084\"},{\"jobNo\":\"11803344\",\"jobName\":\"AI \\\\u6578\\\\u64da\\\\u670d\\\\u52d9\\\\u4e8b\\\\u696d\\\\u90e8\\\\u4e28\\\\u5f8c\\\\u7aef\\\\u5be6\\\\u7fd2\\\\u751f(\\\\u9700\\\\u5be6\\\\u7fd2\\\\u81f3\\\\u5c113\\\\u5929\\\\uff0c\\\\u534a\\\\u5e74\\\\u671f)\",\"description\":\"\\\\u60f3\\\\u5728\\\\u4e00\\\\u4efd\\\\u5be6\\\\u7fd2\\\\u5de5\\\\u4f5c\\\\u7df4\\\\u5c31\\\\u4e00\\\\u8eab\\\\u5be6\\\\u6230\\\\u80fd\\\\u529b\\\\u7684\\\\u4f60\\\\uff0cAI\\\\u4e8b\\\\u696d\\\\u90e8\\\\u7684RD\\\\u5718\\\\u968a\\\\u63d0\\\\u4f9b\\\\u8457\\\\u9019\\\\u6a23\\\\u7684\\\\u821e\\\\u53f0\\\\uff01 ...\",\"optionEdu\":\"\\\\u5927\\\\u5b78\",\"periodDesc\":\"\\\\u7d93\\\\u6b77\\\\u4e0d\\\\u62d8\",\"custNo\":\"28684763000\",\"custName\":\"\\\\u82e5\\\\u6c34\\\\u570b\\\\u969b\\\\u80a1\\\\u4efd\\\\u6709\\\\u9650\\\\u516c\\\\u53f8\",\"salaryDesc\":\"\\\\u6642\\\\u85aa160~180\\\\u5143\",\"appearDateDesc\":\"12\\\\/15\",\"isSave\":\"0\",\"link\":{\"job\":\"\\\\/\\\\/www.104.com.tw\\\\/job\\\\/70zio?jobsource=parttimesector\",\"cust\":\"\\\\/\\\\/www.104.com.tw\\\\/company\\\\/d6e60s8?jobsource=parttimesector\"},\"jobNameRaw\":\"AI \\\\u6578\\\\u64da\\\\u670d\\\\u52d9\\\\u4e8b\\\\u696d\\\\u90e8\\\\u4e28\\\\u5f8c\\\\u7aef\\\\u5be6\\\\u7fd2\\\\u751f(\\\\u9700\\\\u5be6\\\\u7fd2\\\\u81f3\\\\u5c113\\\\u5929\\\\uff0c\\\\u534a\\\\u5e74\\\\u671f)\",\"custNameRaw\":\"\\\\u82e5\\\\u6c34\\\\u570b\\\\u969b\\\\u80a1\\\\u4efd\\\\u6709\\\\u9650\\\\u516c\\\\u53f8\",\"lon\":\"121.5211081\",\"lat\":\"25.029626\"},{\"jobNo\":\"12409850\",\"jobName\":\"\\\\u3010\\\\u4e7e\\\\u676f\\\\u96c6\\\\u5718\\\\u3011\\\\u3010\\\\u65b0\\\\u958b\\\\u5e97\\\\u3011\\\\u934b\\\\u7269\\\\u54c1\\\\u724c-\\\\u9ed1\\\\u6bdb\\\\u5c4b\\\\u672c\\\\u5bb6 SOGO\\\\u5fa9\\\\u8208\\\\u5e97-\\\\u4e7e\\\\u676f\\\\u4e4b\\\\u661f\\\\u300e\\\\u6642\\\\u85aa200-240\\\\u5143(\\\\u542b10\\\\u5143\\\\u5168\\\\u52e4)\\\\u300f\",\"description\":\"\\\\u3010\\\\u54c1\\\\u724c\\\\u7c21\\\\u4ecb\\\\u3011 \\\\u9ed1\\\\u6bdb\\\\u5c4b\\\\u672c\\\\u5bb6 \\\\u5275\\\\u7acb\\\\u65bc2013\\\\uff0c\\\\u4ee5\\\\u4f4e\\\\u8abf\\\\u83ef\\\\u9e97\\\\u7684\\\\u7528\\\\u9910\\\\u7a7a\\\\u9593\\\\u4e26\\\\u4ee5\\\\u65e5\\\\u7c4d\\\\u4e3b\\\\u5eda\\\\u53ca\\\\u5b63...\",\"optionEdu\":\"\\\\u5b78\\\\u6b77\\\\u4e0d\\\\u62d8\",\"periodDesc\":\"\\\\u7d93\\\\u6b77\\\\u4e0d\\\\u62d8\",\"custNo\":\"70443909000\",\"custName\":\"\\\\u4e7e\\\\u676f\\\\u80a1\\\\u4efd\\\\u6709\\\\u9650\\\\u516c\\\\u53f8\",\"salaryDesc\":\"\\\\u6642\\\\u85aa190~240\\\\u5143\",\"appearDateDesc\":\"12\\\\/20\",\"isSave\":\"0\",\"link\":{\"job\":\"\\\\/\\\\/www.104.com.tw\\\\/job\\\\/7dzi2?jobsource=parttimesector\",\"cust\":\"\\\\/\\\\/www.104.com.tw\\\\/company\\\\/wd0hg20?jobsource=parttimesector\"},\"jobNameRaw\":\"\\\\u3010\\\\u4e7e\\\\u676f\\\\u96c6\\\\u5718\\\\u3011\\\\u3010\\\\u65b0\\\\u958b\\\\u5e97\\\\u3011\\\\u934b\\\\u7269\\\\u54c1\\\\u724c-\\\\u9ed1\\\\u6bdb\\\\u5c4b\\\\u672c\\\\u5bb6 SOGO\\\\u5fa9\\\\u8208\\\\u5e97-\\\\u4e7e\\\\u676f\\\\u4e4b\\\\u661f\\\\u300e\\\\u6642\\\\u85aa200-240\\\\u5143(\\\\u542b10\\\\u5143\\\\u5168\\\\u52e4)\\\\u300f\",\"custNameRaw\":\"\\\\u4e7e\\\\u676f\\\\u80a1\\\\u4efd\\\\u6709\\\\u9650\\\\u516c\\\\u53f8\",\"lon\":\"121.5433337\",\"lat\":\"25.0410133\"},{\"jobNo\":\"9812472\",\"jobName\":\"\\\\u300a\\\\u5bd2\\\\u5047\\\\u77ed\\\\u671f\\\\u5de5\\\\u8b80\\\\u300b\\\\u767e\\\\u8ca8\\\\u8d85\\\\u5e02-\\\\u5e74\\\\u7bc0\\\\u6563\\\\u7cd6\\\\u92b7\\\\u552e-\\\\u5fa9\\\\u8208SOGO\\\\/city super\",\"description\":\"\\\\u4e0a\\\\u73ed\\\\u6642\\\\u9593:1\\\\/11-2\\\\/6  \\\\u6642\\\\u85aa:$168(\\\\u521d\\\\u5915-\\\\u521d\\\\u4e09\\\\uff0c\\\\u6642\\\\u85aa2\\\\u500d) \\\\u5de5\\\\u4f5c\\\\u5167\\\\u5bb9...\",\"optionEdu\":\"\\\\u5c08\\\\u79d1\",\"periodDesc\":\"\\\\u7d93\\\\u6b77\\\\u4e0d\\\\u62d8\",\"custNo\":\"23788698000\",\"custName\":\"\\\\u9678\\\\u8000\\\\u8cbf\\\\u6613\\\\u6709\\\\u9650\\\\u516c\\\\u53f8\",\"salaryDesc\":\"\\\\u6642\\\\u85aa168\\\\u5143\",\"appearDateDesc\":\"12\\\\/21\",\"isSave\":\"0\",\"link\":{\"job\":\"\\\\/\\\\/www.104.com.tw\\\\/job\\\\/5ubco?jobsource=parttimesector\",\"cust\":\"\\\\/\\\\/www.104.com.tw\\\\/company\\\\/axf6cuo?jobsource=parttimesector\"},\"jobNameRaw\":\"\\\\u300a\\\\u5bd2\\\\u5047\\\\u77ed\\\\u671f\\\\u5de5\\\\u8b80\\\\u300b\\\\u767e\\\\u8ca8\\\\u8d85\\\\u5e02-\\\\u5e74\\\\u7bc0\\\\u6563\\\\u7cd6\\\\u92b7\\\\u552e-\\\\u5fa9\\\\u8208SOGO\\\\/city super\",\"custNameRaw\":\"\\\\u9678\\\\u8000\\\\u8cbf\\\\u6613\\\\u6709\\\\u9650\\\\u516c\\\\u53f8\",\"lon\":\"121.5431497\",\"lat\":\"25.0414399\"},{\"jobNo\":\"12541029\",\"jobName\":\"\\\\u517c\\\\u8077\\\\u884c\\\\u653f\\\\u4eba\\\\u54e1\",\"description\":\"1.\\\\t\\\\u5354\\\\u52a9\\\\u6703\\\\u8b70\\\\u5b89\\\\u6392\\\\u8207\\\\u901a\\\\u77e5\\\\uff0c\\\\u88fd\\\\u4f5c\\\\u6703\\\\u8b70\\\\u8a18\\\\u9304\\\\u3002 2.\\\\t\\\\u5354\\\\u52a9\\\\u5f71\\\\u5370\\\\u3001\\\\u4fe1\\\\u4ef6\\\\u6536\\\\u767c\\\\u53ca\\\\u90f5\\\\u52d9\\\\u3001\\\\u4e00\\\\u822c...\",\"optionEdu\":\"\\\\u9ad8\\\\u4e2d\",\"periodDesc\":\"\\\\u7d93\\\\u6b77\\\\u4e0d\\\\u62d8\",\"custNo\":\"24302693000\",\"custName\":\"\\\\u65b0\\\\u81ea\\\\u7136\\\\u4e3b\\\\u7fa9\\\\u51fa\\\\u7248_\\\\u5e78\\\\u798f\\\\u7da0\\\\u5149\\\\u80a1\\\\u4efd\\\\u6709\\\\u9650\\\\u516c\\\\u53f8\",\"salaryDesc\":\"\\\\u6642\\\\u85aa170~250\\\\u5143\",\"appearDateDesc\":\"12\\\\/16\",\"isSave\":\"0\",\"link\":{\"job\":\"\\\\/\\\\/www.104.com.tw\\\\/job\\\\/7gspx?jobsource=parttimesector\",\"cust\":\"\\\\/\\\\/www.104.com.tw\\\\/company\\\\/b5x71xk?jobsource=parttimesector\"},\"jobNameRaw\":\"\\\\u517c\\\\u8077\\\\u884c\\\\u653f\\\\u4eba\\\\u54e1\",\"custNameRaw\":\"\\\\u65b0\\\\u81ea\\\\u7136\\\\u4e3b\\\\u7fa9\\\\u51fa\\\\u7248_\\\\u5e78\\\\u798f\\\\u7da0\\\\u5149\\\\u80a1\\\\u4efd\\\\u6709\\\\u9650\\\\u516c\\\\u53f8\",\"lon\":\"121.5259829\",\"lat\":\"25.0403302\"},{\"jobNo\":\"10432325\",\"jobName\":\"\\\\u65e5\\\\u5f0f\\\\u4e32\\\\u71d2 \\\\u5916\\\\u5834\\\\u670d\\\\u52d9\\\\u5de5\\\\u8b80\\\\u4eba\\\\u54e1\",\"description\":\"\\\\u9686\\\\u6b21\\\\u90ce\\\\u65e5\\\\u5f0f\\\\u4e32\\\\u71d2\\\\u5c0b\\\\u627e\\\\u559c\\\\u6b61\\\\u4e32\\\\u71d2\\\\u2027\\\\u6d3b\\\\u6f51\\\\u71b1\\\\u60c5\\\\u6709\\\\u7406\\\\u60f3\\\\u7684\\\\u4f60\\\\uff01    \\\\u6b61\\\\u8fce\\\\u5c0d\\\\u9910\\\\u98f2\\\\u696d\\\\u6709\\\\u8208\\\\u8da3\\\\u4e4b\\\\u4eba...\",\"optionEdu\":\"\\\\u9ad8\\\\u4e2d\",\"periodDesc\":\"\\\\u7d93\\\\u6b77\\\\u4e0d\\\\u62d8\",\"custNo\":\"130000000117190\",\"custName\":\"\\\\u9686\\\\u6b21\\\\u90ce\\\\u71d2\\\\u9ce5.\\\\u4e32\\\\u71d2_\\\\u7167\\\\u9686\\\\u5546\\\\u884c\",\"salaryDesc\":\"\\\\u6642\\\\u85aa175~200\\\\u5143\",\"appearDateDesc\":\"12\\\\/16\",\"isSave\":\"0\",\"link\":{\"job\":\"\\\\/\\\\/www.104.com.tw\\\\/job\\\\/67lmt?jobsource=parttimesector\",\"cust\":\"\\\\/\\\\/www.104.com.tw\\\\/company\\\\/1a2x6bkhqe?jobsource=parttimesector\"},\"jobNameRaw\":\"\\\\u65e5\\\\u5f0f\\\\u4e32\\\\u71d2 \\\\u5916\\\\u5834\\\\u670d\\\\u52d9\\\\u5de5\\\\u8b80\\\\u4eba\\\\u54e1\",\"custNameRaw\":\"\\\\u9686\\\\u6b21\\\\u90ce\\\\u71d2\\\\u9ce5.\\\\u4e32\\\\u71d2_\\\\u7167\\\\u9686\\\\u5546\\\\u884c\",\"lon\":\"121.503772\",\"lat\":\"25.043869\"},{\"jobNo\":\"10677465\",\"jobName\":\"\\\\u8a08\\\\u6642\\\\u5ba2\\\\u670d\\\\u4eba\\\\u54e1 (\\\\u81fa\\\\u5317\\\\u5e02\\\\u842c\\\\u83ef\\\\u904b\\\\u52d5\\\\u4e2d\\\\u5fc3\\\\uff09\",\"description\":\"\\\\u532f\\\\u967d\\\\u767e\\\\u8ca8\\\\u4e8b\\\\u696d\\\\u80a1\\\\u4efd\\\\u6709\\\\u9650\\\\u516c\\\\u53f8\\\\u96b8\\\\u5c6c\\\\u532f\\\\u967d\\\\u96c6\\\\u5718\\\\uff0c\\\\u6210\\\\u7acb\\\\u81f3\\\\u4eca35\\\\u5e74\\\\uff0c\\\\u4ee5\\\\u9032\\\\u53e3\\\\u4e26\\\\u6279\\\\u767c\\\\u65e5\\\\u672c\\\\u5bb6\\\\u5ead\\\\u7528\\\\u54c1...\",\"optionEdu\":\"\\\\u9ad8\\\\u4e2d\",\"periodDesc\":\"\\\\u7d93\\\\u6b77\\\\u4e0d\\\\u62d8\",\"custNo\":\"97118482000\",\"custName\":\"\\\\u532f\\\\u967d\\\\u767e\\\\u8ca8\\\\u4e8b\\\\u696d\\\\u80a1\\\\u4efd\\\\u6709\\\\u9650\\\\u516c\\\\u53f8\",\"salaryDesc\":\"\\\\u5f85\\\\u9047\\\\u9762\\\\u8b70\",\"appearDateDesc\":\"12\\\\/21\",\"isSave\":\"0\",\"link\":{\"job\":\"\\\\/\\\\/www.104.com.tw\\\\/job\\\\/6cus9?jobsource=parttimesector\",\"cust\":\"\\\\/\\\\/www.104.com.tw\\\\/company\\\\/18m5u4b4?jobsource=parttimesector\"},\"jobNameRaw\":\"\\\\u8a08\\\\u6642\\\\u5ba2\\\\u670d\\\\u4eba\\\\u54e1 (\\\\u81fa\\\\u5317\\\\u5e02\\\\u842c\\\\u83ef\\\\u904b\\\\u52d5\\\\u4e2d\\\\u5fc3\\\\uff09\",\"custNameRaw\":\"\\\\u532f\\\\u967d\\\\u767e\\\\u8ca8\\\\u4e8b\\\\u696d\\\\u80a1\\\\u4efd\\\\u6709\\\\u9650\\\\u516c\\\\u53f8\",\"lon\":\"121.5067531\",\"lat\":\"25.0474081\"},{\"jobNo\":\"7059858\",\"jobName\":\"\\\\u884c\\\\u92b7\\\\u90e8\\\\u5c08\\\\u6848\\\\u52a9\\\\u7406-\\\\u9577\\\\u671f\\\\u5de5\\\\u8b80\\\\u751f\",\"description\":\"\\\\u6b61\\\\u8fce\\\\u65b0\\\\u9bae\\\\u4eba\\\\u52a0\\\\u5165\\\\u9e97\\\\u6c34\\\\u5718\\\\u968a\\\\uff01  \\\\u9e97\\\\u6c34\\\\u96b1\\\\u8eab\\\\u5728\\\\u4f4f\\\\u5b85\\\\u5340\\\\u5167\\\\uff0c\\\\u5230\\\\u5927\\\\u5b89\\\\u68ee\\\\u6797\\\\u516c\\\\u5712\\\\u53ea\\\\u89812\\\\u5206\\\\u9418\\\\uff0c\\\\u64fa\\\\u812b...\",\"optionEdu\":\"\\\\u5c08\\\\u79d1\",\"periodDesc\":\"\\\\u7d93\\\\u6b77\\\\u4e0d\\\\u62d8\",\"custNo\":\"130000000030904\",\"custName\":\"\\\\u9e97\\\\u6c34\\\\u7b56\\\\u7565\\\\u6574\\\\u5408\\\\u884c\\\\u92b7\\\\u6709\\\\u9650\\\\u516c\\\\u53f8\",\"salaryDesc\":\"\\\\u6642\\\\u85aa180~200\\\\u5143\",\"appearDateDesc\":\"12\\\\/17\",\"isSave\":\"0\",\"link\":{\"job\":\"\\\\/\\\\/www.104.com.tw\\\\/job\\\\/47bf6?jobsource=parttimesector\",\"cust\":\"\\\\/\\\\/www.104.com.tw\\\\/company\\\\/1a2x6bin5k?jobsource=parttimesector\"},\"jobNameRaw\":\"\\\\u884c\\\\u92b7\\\\u90e8\\\\u5c08\\\\u6848\\\\u52a9\\\\u7406-\\\\u9577\\\\u671f\\\\u5de5\\\\u8b80\\\\u751f\",\"custNameRaw\":\"\\\\u9e97\\\\u6c34\\\\u7b56\\\\u7565\\\\u6574\\\\u5408\\\\u884c\\\\u92b7\\\\u6709\\\\u9650\\\\u516c\\\\u53f8\",\"lon\":\"121.536011\",\"lat\":\"25.034825\"},{\"jobNo\":\"12545139\",\"jobName\":\"\\\\u4eba\\\\u8cc7\\\\u90e8 \\\\u5be6\\\\u7fd2\\\\u751f\",\"description\":\"\\\\u6211\\\\u5011\\\\u662f\\\\u6f6e\\\\u7db2\\\\u79d1\\\\u6280\\\\uff0c\\\\u5c08\\\\u6ce8\\\\u65bc AI \\\\u4eba\\\\u5de5\\\\u667a\\\\u6167\\\\u53ca\\\\u5927\\\\u6578\\\\u64da\\\\u61c9\\\\u7528\\\\u7684\\\\u884c\\\\u92b7\\\\u6280\\\\u8853\\\\u5718\\\\u968a\\\\uff0c\\\\u6210\\\\u7acb\\\\u65bc201...\",\"optionEdu\":\"\\\\u5c08\\\\u79d1\",\"periodDesc\":\"\\\\u7d93\\\\u6b77\\\\u4e0d\\\\u62d8\",\"custNo\":\"25128095000\",\"custName\":\"\\\\u6f6e\\\\u7db2\\\\u79d1\\\\u6280\\\\u80a1\\\\u4efd\\\\u6709\\\\u9650\\\\u516c\\\\u53f8\",\"salaryDesc\":\"\\\\u6642\\\\u85aa160~168\\\\u5143\",\"appearDateDesc\":\"12\\\\/15\",\"isSave\":\"0\",\"link\":{\"job\":\"\\\\/\\\\/www.104.com.tw\\\\/job\\\\/7gvw3?jobsource=parttimesector\",\"cust\":\"\\\\/\\\\/www.104.com.tw\\\\/company\\\\/bjkma6w?jobsource=parttimesector\"},\"jobNameRaw\":\"\\\\u4eba\\\\u8cc7\\\\u90e8 \\\\u5be6\\\\u7fd2\\\\u751f\",\"custNameRaw\":\"\\\\u6f6e\\\\u7db2\\\\u79d1\\\\u6280\\\\u80a1\\\\u4efd\\\\u6709\\\\u9650\\\\u516c\\\\u53f8\",\"lon\":\"121.5075571\",\"lat\":\"25.0337995\"},{\"jobNo\":\"12485161\",\"jobName\":\"\\\\u300cSanka \\\\u53c2\\\\u52a0\\\\u300d\\\\u6b4c\\\\u5531\\\\u9054\\\\u4eba\\\\uff08\\\\u6708\\\\u6536\\\\u6709\\\\u6a5f\\\\u6703\\\\u90546\\\\u4f4d\\\\u6578\\\\uff09\",\"description\":\"Sanka \\\\u2014 \\\\u53f0\\\\u7063\\\\u9996\\\\u5275\\\\u300c\\\\u805a\\\\u6703\\\\u540c\\\\u6a02\\\\u5a92\\\\u5408\\\\u300d\\\\u5e73\\\\u53f0 \\\\u5f37\\\\u529b\\\\u52df\\\\u96c6\\\\u540c\\\\u6a02\\\\u9054\\\\u4eba\\\\uff01  \\\\u611b\\\\u8868\\\\u6f14- ...\",\"optionEdu\":\"\\\\u5b78\\\\u6b77\\\\u4e0d\\\\u62d8\",\"periodDesc\":\"\\\\u7d93\\\\u6b77\\\\u4e0d\\\\u62d8\",\"custNo\":\"130000000119929\",\"custName\":\"\\\\u70cf\\\\u6258\\\\u90a6\\\\u570b\\\\u969b\\\\u6709\\\\u9650\\\\u516c\\\\u53f8\",\"salaryDesc\":\"\\\\u6642\\\\u85aa1,200~9,000\\\\u5143\",\"appearDateDesc\":\"12\\\\/14\",\"isSave\":\"0\",\"link\":{\"job\":\"\\\\/\\\\/www.104.com.tw\\\\/job\\\\/7flm1?jobsource=parttimesector\",\"cust\":\"\\\\/\\\\/www.104.com.tw\\\\/company\\\\/1a2x6bkjuh?jobsource=parttimesector\"},\"jobNameRaw\":\"\\\\u300cSanka \\\\u53c2\\\\u52a0\\\\u300d\\\\u6b4c\\\\u5531\\\\u9054\\\\u4eba\\\\uff08\\\\u6708\\\\u6536\\\\u6709\\\\u6a5f\\\\u6703\\\\u90546\\\\u4f4d\\\\u6578\\\\uff09\",\"custNameRaw\":\"\\\\u70cf\\\\u6258\\\\u90a6\\\\u570b\\\\u969b\\\\u6709\\\\u9650\\\\u516c\\\\u53f8\",\"lon\":\"121.5720055\",\"lat\":\"25.0409201\"},{\"jobNo\":\"12557750\",\"jobName\":\"VOGUE Shop \\\\u52a9\\\\u7406 (\\\\u6642\\\\u85aa\\\\u5236\\\\u5de5\\\\u8b80\\\\u751f)\",\"description\":\"1. VOGUE Shop\\\\u5ee0\\\\u5546\\\\u5efa\\\\u6a94\\\\u3001\\\\u5546\\\\u54c1\\\\u5efa\\\\u6a94\\\\u4e0a\\\\u67b6\\\\u7b49EC\\\\u4f5c\\\\u696d\\\\u3002 2. VOGUE...\",\"optionEdu\":\"\\\\u5927\\\\u5b78\",\"periodDesc\":\"\\\\u7d93\\\\u6b77\\\\u4e0d\\\\u62d8\",\"custNo\":\"12959483000\",\"custName\":\"\\\\u5eb7\\\\u6cf0\\\\u7d0d\\\\u4ed5\\\\u7d9c\\\\u5408\\\\u5a92\\\\u9ad4\\\\u4e8b\\\\u696d\\\\u6709\\\\u9650\\\\u516c\\\\u53f8\",\"salaryDesc\":\"\\\\u6642\\\\u85aa160\\\\u5143\",\"appearDateDesc\":\"12\\\\/16\",\"isSave\":\"0\",\"link\":{\"job\":\"\\\\/\\\\/www.104.com.tw\\\\/job\\\\/7h5me?jobsource=parttimesector\",\"cust\":\"\\\\/\\\\/www.104.com.tw\\\\/company\\\\/5ybqp2w?jobsource=parttimesector\"},\"jobNameRaw\":\"VOGUE Shop \\\\u52a9\\\\u7406 (\\\\u6642\\\\u85aa\\\\u5236\\\\u5de5\\\\u8b80\\\\u751f)\",\"custNameRaw\":\"\\\\u5eb7\\\\u6cf0\\\\u7d0d\\\\u4ed5\\\\u7d9c\\\\u5408\\\\u5a92\\\\u9ad4\\\\u4e8b\\\\u696d\\\\u6709\\\\u9650\\\\u516c\\\\u53f8\",\"lon\":\"121.558469\",\"lat\":\"25.0309321\"},{\"jobNo\":\"8962293\",\"jobName\":\"BP \\\\u963f\\\\u9ed8\\\\u86cb\\\\u7cd5 \\\\u9580\\\\u5e02\\\\u665a\\\\u73ed\\\\u9577\\\\u671f\\\\u5de5\\\\u8b80\\\\u4eba\\\\u54e1 (\\\\u53f0\\\\u5317\\\\u5fae\\\\u98a8\\\\u9580\\\\u5e02)\",\"description\":\"\\\\u3010\\\\u5de5\\\\u4f5c\\\\u5167\\\\u5bb9\\\\u3011 1.\\\\u8ca0\\\\u8cac\\\\u92b7\\\\u552e\\\\u9580\\\\u5e02\\\\u5546\\\\u54c1\\\\u53ca\\\\u6536\\\\u9280 2.\\\\u86cb\\\\u7cd5\\\\u3001\\\\u559c\\\\u9905\\\\u3001\\\\u5f4c\\\\u6708\\\\u8207\\\\u7bc0\\\\u6176\\\\u8a02\\\\u55ae\\\\u63a5\\\\u6d3d ...\",\"optionEdu\":\"\\\\u5b78\\\\u6b77\\\\u4e0d\\\\u62d8\",\"periodDesc\":\"\\\\u7d93\\\\u6b77\\\\u4e0d\\\\u62d8\",\"custNo\":\"130000000035504\",\"custName\":\"Amo_\\\\u65fa\\\\u9ed8\\\\u98df\\\\u54c1\\\\u4f01\\\\u696d\\\\u6709\\\\u9650\\\\u516c\\\\u53f8\",\"salaryDesc\":\"\\\\u6642\\\\u85aa160\\\\u5143\\\\u4ee5\\\\u4e0a\",\"appearDateDesc\":\"12\\\\/17\",\"isSave\":\"0\",\"link\":{\"job\":\"\\\\/\\\\/www.104.com.tw\\\\/job\\\\/5c3cl?jobsource=parttimesector\",\"cust\":\"\\\\/\\\\/www.104.com.tw\\\\/company\\\\/1a2x6biqpc?jobsource=parttimesector\"},\"jobNameRaw\":\"BP \\\\u963f\\\\u9ed8\\\\u86cb\\\\u7cd5 \\\\u9580\\\\u5e02\\\\u665a\\\\u73ed\\\\u9577\\\\u671f\\\\u5de5\\\\u8b80\\\\u4eba\\\\u54e1 (\\\\u53f0\\\\u5317\\\\u5fae\\\\u98a8\\\\u9580\\\\u5e02)\",\"custNameRaw\":\"Amo_\\\\u65fa\\\\u9ed8\\\\u98df\\\\u54c1\\\\u4f01\\\\u696d\\\\u6709\\\\u9650\\\\u516c\\\\u53f8\",\"lon\":\"121.5172895\",\"lat\":\"25.0464924\"},{\"jobNo\":\"6299864\",\"jobName\":\"\\\\u767e\\\\u8ca8\\\\u5c08\\\\u6ac3\\\\u517c\\\\u8077\\\\u4eba\\\\u54e1(\\\\u4eac\\\\u7ad9)\",\"description\":\"1.\\\\u5fb5\\\\u624d\\\\u689d\\\\u4ef6\\\\uff1a\\\\u5fb5\\\\u53e3\\\\u624d\\\\u4f73\\\\uff0c\\\\u5916\\\\u5411\\\\u6d3b\\\\u6f51\\\\u4e4b\\\\u92b7\\\\u552e\\\\u4eba\\\\u54e1\\\\uff0c\\\\u7d93\\\\u9a57\\\\uff0c\\\\u5b78\\\\u6b77\\\\u4e0d\\\\u62d8 2.\\\\u92b7\\\\u552e\\\\u5546\\\\u54c1\\\\uff1a\\\\u65e5\\\\u672c...\",\"optionEdu\":\"\\\\u5b78\\\\u6b77\\\\u4e0d\\\\u62d8\",\"periodDesc\":\"\\\\u7d93\\\\u6b77\\\\u4e0d\\\\u62d8\",\"custNo\":\"130000000003992\",\"custName\":\"\\\\u65e5\\\\u5546\\\\u6c83\\\\u5fb7\\\\u5929\\\\u7136\\\\u6c34\\\\u80a1\\\\u4efd\\\\u6709\\\\u9650\\\\u516c\\\\u53f8\\\\u53f0\\\\u7063\\\\u5206\\\\u516c\\\\u53f8\",\"salaryDesc\":\"\\\\u6642\\\\u85aa160~190\\\\u5143\",\"appearDateDesc\":\"12\\\\/20\",\"isSave\":\"0\",\"link\":{\"job\":\"\\\\/\\\\/www.104.com.tw\\\\/job\\\\/3r108?jobsource=parttimesector\",\"cust\":\"\\\\/\\\\/www.104.com.tw\\\\/company\\\\/1a2x6bi2e0?jobsource=parttimesector\"},\"jobNameRaw\":\"\\\\u767e\\\\u8ca8\\\\u5c08\\\\u6ac3\\\\u517c\\\\u8077\\\\u4eba\\\\u54e1(\\\\u4eac\\\\u7ad9)\",\"custNameRaw\":\"\\\\u65e5\\\\u5546\\\\u6c83\\\\u5fb7\\\\u5929\\\\u7136\\\\u6c34\\\\u80a1\\\\u4efd\\\\u6709\\\\u9650\\\\u516c\\\\u53f8\\\\u53f0\\\\u7063\\\\u5206\\\\u516c\\\\u53f8\",\"lon\":\"121.5181099\",\"lat\":\"25.0490476\"},{\"jobNo\":\"9958263\",\"jobName\":\"\\\\u696d\\\\u52d9\\\\u52a9\\\\u7406 (\\\\u9577\\\\u671f\\\\u517c\\\\u8077\\\\uff0c\\\\u6b61\\\\u8fce\\\\u591c\\\\u6821\\\\u751f\\\\u6216\\\\u4e8c\\\\u5ea6\\\\u5c31\\\\u696d)\",\"description\":\"1. \\\\u5354\\\\u52a9\\\\u8a02\\\\u55ae\\\\u8cc7\\\\u6599\\\\u5efa\\\\u6a94(\\\\u96fb\\\\u5b50\\\\u7cfb\\\\u7d71)\\\\u3001\\\\u6587\\\\u66f8\\\\u884c\\\\u653f\\\\u4f5c\\\\u696d 2. \\\\u8cc7\\\\u6599\\\\u7d71\\\\u6574\\\\u3001\\\\u88fd\\\\u4f5c\\\\u5e03\\\\u5361 3...\",\"optionEdu\":\"\\\\u5c08\\\\u79d1\",\"periodDesc\":\"\\\\u7d93\\\\u6b77\\\\u4e0d\\\\u62d8\",\"custNo\":\"23609668000\",\"custName\":\"\\\\u805a\\\\u967d\\\\u5be6\\\\u696d\\\\u80a1\\\\u4efd\\\\u6709\\\\u9650\\\\u516c\\\\u53f8\",\"salaryDesc\":\"\\\\u6708\\\\u85aa24,000\\\\u5143\",\"appearDateDesc\":\"12\\\\/15\",\"isSave\":\"0\",\"link\":{\"job\":\"\\\\/\\\\/www.104.com.tw\\\\/job\\\\/5xfuf?jobsource=parttimesector\",\"cust\":\"\\\\/\\\\/www.104.com.tw\\\\/company\\\\/augl4f4?jobsource=parttimesector\"},\"jobNameRaw\":\"\\\\u696d\\\\u52d9\\\\u52a9\\\\u7406 (\\\\u9577\\\\u671f\\\\u517c\\\\u8077\\\\uff0c\\\\u6b61\\\\u8fce\\\\u591c\\\\u6821\\\\u751f\\\\u6216\\\\u4e8c\\\\u5ea6\\\\u5c31\\\\u696d)\",\"custNameRaw\":\"\\\\u805a\\\\u967d\\\\u5be6\\\\u696d\\\\u80a1\\\\u4efd\\\\u6709\\\\u9650\\\\u516c\\\\u53f8\",\"lon\":\"121.5631729\",\"lat\":\"25.0408022\"},{\"jobNo\":\"7904609\",\"jobName\":\"H&amp;M \\\\u53f0\\\\u5317\\\\u77ed\\\\u671f\\\\u5de5\\\\u8b80\\\\u751f(\\\\u5373\\\\u65e5\\\\u8d77\\\\u81f32022\\\\/2\\\\/28)\",\"description\":\"\\\\u5728\\\\u9019\\\\u88e1\\\\u6211\\\\u5011\\\\u6ce8\\\\u91cd\\\\u9867\\\\u5ba2\\\\u670d\\\\u52d9\\\\u3001\\\\u5145\\\\u6eff\\\\u71b1\\\\u60c5! \\\\u6e96\\\\u5099\\\\u597d\\\\u958b\\\\u59cb\\\\u9019\\\\u6a23\\\\u7684\\\\u8077\\\\u696d\\\\u751f\\\\u6daf\\\\u4e86\\\\u55ce!? \\\\u5728\\\\u9019\\\\u6a23\\\\u7684...\",\"optionEdu\":\"\\\\u9ad8\\\\u4e2d\",\"periodDesc\":\"\\\\u7d93\\\\u6b77\\\\u4e0d\\\\u62d8\",\"custNo\":\"130000000046219\",\"custName\":\"\\\\u8377\\\\u862d\\\\u5546\\\\u6d77\\\\u6069\\\\u65af\\\\u83ab\\\\u91cc\\\\u65af\\\\u6709\\\\u9650\\\\u516c\\\\u53f8\\\\u53f0\\\\u7063\\\\u5206\\\\u516c\\\\u53f8\",\"salaryDesc\":\"\\\\u6642\\\\u85aa160~170\\\\u5143\",\"appearDateDesc\":\"12\\\\/15\",\"isSave\":\"0\",\"link\":{\"job\":\"\\\\/\\\\/www.104.com.tw\\\\/job\\\\/4pf8h?jobsource=parttimesector\",\"cust\":\"\\\\/\\\\/www.104.com.tw\\\\/company\\\\/1a2x6biyyz?jobsource=parttimesector\"},\"jobNameRaw\":\"H&M \\\\u53f0\\\\u5317\\\\u77ed\\\\u671f\\\\u5de5\\\\u8b80\\\\u751f(\\\\u5373\\\\u65e5\\\\u8d77\\\\u81f32022\\\\/2\\\\/28)\",\"custNameRaw\":\"\\\\u8377\\\\u862d\\\\u5546\\\\u6d77\\\\u6069\\\\u65af\\\\u83ab\\\\u91cc\\\\u65af\\\\u6709\\\\u9650\\\\u516c\\\\u53f8\\\\u53f0\\\\u7063\\\\u5206\\\\u516c\\\\u53f8\",\"lon\":\"121.5433783\",\"lat\":\"25.0249441\"},{\"jobNo\":\"4628432\",\"jobName\":\"\\\\u3010\\\\u53f0\\\\u5317\\\\u8077\\\\u8a13\\\\u4e2d\\\\u5fc3\\\\u3011-\\\\u517c\\\\u8077\\\\u5b89\\\\u5168\\\\u885b\\\\u751f\\\\u8f14\\\\u5c0e\\\\u4eba\\\\u54e1(\\\\u5e73\\\\u65e5\\\\u65e5\\\\u9593\\\\u73ed0830-1830)\",\"description\":\"\\\\u5b89\\\\u5168\\\\u885b\\\\u751f\\\\u6559\\\\u80b2\\\\u8a13\\\\u7df4\\\\u8ab2\\\\u7a0b\\\\u8f14\\\\u5c0e\\\\u9805\\\\u76ee: 1.\\\\u63a5\\\\u5f85\\\\u8b1b\\\\u5e2b\\\\u53ca\\\\u63a5\\\\u6d3d\\\\u5b78\\\\u54e1\\\\u7c3d\\\\u5230\\\\u9000 2.\\\\u4e0a\\\\u8ab2\\\\u8a2d\\\\u5099\\\\u53ca\\\\u7269...\",\"optionEdu\":\"\\\\u5b78\\\\u6b77\\\\u4e0d\\\\u62d8\",\"periodDesc\":\"\\\\u7d93\\\\u6b77\\\\u4e0d\\\\u62d8\",\"custNo\":\"973377000\",\"custName\":\"\\\\u4e2d\\\\u570b\\\\u52de\\\\u5de5\\\\u5b89\\\\u5168\\\\u885b\\\\u751f\\\\u7ba1\\\\u7406\\\\u5b78\\\\u6703\",\"salaryDesc\":\"\\\\u6642\\\\u85aa200\\\\u5143\",\"appearDateDesc\":\"12\\\\/16\",\"isSave\":\"0\",\"link\":{\"job\":\"\\\\/\\\\/www.104.com.tw\\\\/job\\\\/2r7bk?jobsource=parttimesector\",\"cust\":\"\\\\/\\\\/www.104.com.tw\\\\/company\\\\/g3iui0?jobsource=parttimesector\"},\"jobNameRaw\":\"\\\\u3010\\\\u53f0\\\\u5317\\\\u8077\\\\u8a13\\\\u4e2d\\\\u5fc3\\\\u3011-\\\\u517c\\\\u8077\\\\u5b89\\\\u5168\\\\u885b\\\\u751f\\\\u8f14\\\\u5c0e\\\\u4eba\\\\u54e1(\\\\u5e73\\\\u65e5\\\\u65e5\\\\u9593\\\\u73ed0830-1830)\",\"custNameRaw\":\"\\\\u4e2d\\\\u570b\\\\u52de\\\\u5de5\\\\u5b89\\\\u5168\\\\u885b\\\\u751f\\\\u7ba1\\\\u7406\\\\u5b78\\\\u6703\",\"lon\":\"121.52551829999993\",\"lat\":\"25.0440642\"},{\"jobNo\":\"12365088\",\"jobName\":\"\\\\u96fb\\\\u8a71\\\\u62dc\\\\u8a2a\\\\u4eba\\\\u54e1\\\\u300a\\\\u6642\\\\u9593\\\\u5f48\\\\u6027\\\\uff0c\\\\u734e\\\\u91d1\\\\u53e6\\\\u8a08\\\\u300b\",\"description\":\"\\\\u3010\\\\u5de5\\\\u4f5c\\\\u6642\\\\u9593\\\\u3011 10:00~16:00\\\\u3002\\\\u4e2d\\\\u5348\\\\u4f11\\\\u606f1\\\\u5c0f\\\\u6642\\\\uff0c\\\\u53ef\\\\u540c\\\\u6642\\\\u9078A.B\\\\u73ed\\\\uff0c\\\\u4e00\\\\u9031\\\\u6392...\",\"optionEdu\":\"\\\\u9ad8\\\\u4e2d\",\"periodDesc\":\"\\\\u7d93\\\\u6b77\\\\u4e0d\\\\u62d8\",\"custNo\":\"130000000111457\",\"custName\":\"\\\\u683c\\\\u745e\\\\u8cc7\\\\u7522\\\\u7ba1\\\\u7406\\\\u9867\\\\u554f\\\\u6709\\\\u9650\\\\u516c\\\\u53f8\",\"salaryDesc\":\"\\\\u6642\\\\u85aa170~200\\\\u5143\",\"appearDateDesc\":\"12\\\\/16\",\"isSave\":\"0\",\"link\":{\"job\":\"\\\\/\\\\/www.104.com.tw\\\\/job\\\\/7d0yo?jobsource=parttimesector\",\"cust\":\"\\\\/\\\\/www.104.com.tw\\\\/company\\\\/1a2x6bkdb5?jobsource=parttimesector\"},\"jobNameRaw\":\"\\\\u96fb\\\\u8a71\\\\u62dc\\\\u8a2a\\\\u4eba\\\\u54e1\\\\u300a\\\\u6642\\\\u9593\\\\u5f48\\\\u6027\\\\uff0c\\\\u734e\\\\u91d1\\\\u53e6\\\\u8a08\\\\u300b\",\"custNameRaw\":\"\\\\u683c\\\\u745e\\\\u8cc7\\\\u7522\\\\u7ba1\\\\u7406\\\\u9867\\\\u554f\\\\u6709\\\\u9650\\\\u516c\\\\u53f8\",\"lon\":\"121.5307097\",\"lat\":\"25.0161185\"},{\"jobNo\":\"12274568\",\"jobName\":\"LINE TAXI Data Intern\",\"description\":\"\\\\u5275\\\\u9020\\\\u79d1\\\\u6280\\\\u65b0\\\\u50f9\\\\u503c\\\\u7684\\\\u5091\\\\u51fa\\\\u5718\\\\u968a  TaxiGo\\\\u5275\\\\u7acb\\\\u65bc2017\\\\u5e74\\\\uff0c\\\\u662f\\\\u4e00\\\\u500b\\\\u5168\\\\u65b0\\\\u7684\\\\u7db2\\\\u8def\\\\u53eb\\\\u8eca...\",\"optionEdu\":\"\\\\u5927\\\\u5b78\",\"periodDesc\":\"\\\\u7d93\\\\u6b77\\\\u4e0d\\\\u62d8\",\"custNo\":\"130000000107502\",\"custName\":\"\\\\u89d4\\\\u6597\\\\u96f2\\\\u806f\\\\u7db2\\\\u79d1\\\\u6280\\\\u80a1\\\\u4efd\\\\u6709\\\\u9650\\\\u516c\\\\u53f8\",\"salaryDesc\":\"\\\\u6642\\\\u85aa160\\\\u5143\",\"appearDateDesc\":\"12\\\\/13\",\"isSave\":\"0\",\"link\":{\"job\":\"\\\\/\\\\/www.104.com.tw\\\\/job\\\\/7b348?jobsource=parttimesector\",\"cust\":\"\\\\/\\\\/www.104.com.tw\\\\/company\\\\/1a2x6bka9a?jobsource=parttimesector\"},\"jobNameRaw\":\"LINE TAXI Data Intern\",\"custNameRaw\":\"\\\\u89d4\\\\u6597\\\\u96f2\\\\u806f\\\\u7db2\\\\u79d1\\\\u6280\\\\u80a1\\\\u4efd\\\\u6709\\\\u9650\\\\u516c\\\\u53f8\",\"lon\":\"121.5504278\",\"lat\":\"25.0392508\"},{\"jobNo\":\"12054859\",\"jobName\":\"\\\\u5de5\\\\u8b80\\\\u751f\",\"description\":\"\\\\u61c9\\\\u5fb5\\\\u8cc7\\\\u683c\\\\uff1a 1.\\\\t\\\\u8077\\\\u80fd\\\\u6cbb\\\\u7642\\\\u5e2b\\\\u3001\\\\u8077\\\\u80fd\\\\u6cbb\\\\u7642\\\\u7cfb\\\\u6216\\\\u76f8\\\\u95dc\\\\u79d1\\\\u7cfb\\\\u5927\\\\u5b78\\\\u751f(\\\\u5efa\\\\u8b70\\\\u5927\\\\u4e8c\\\\u4ee5\\\\u4e0a)\\\\u3002 2...\",\"optionEdu\":\"\\\\u5927\\\\u5b78\",\"periodDesc\":\"\\\\u7d93\\\\u6b77\\\\u4e0d\\\\u62d8\",\"custNo\":\"130000000163188\",\"custName\":\"\\\\u661f\\\\u661f\\\\u78bc\\\\u982d\\\\u8077\\\\u80fd\\\\u6cbb\\\\u7642\\\\u6240\",\"salaryDesc\":\"\\\\u6642\\\\u85aa160\\\\u5143\",\"appearDateDesc\":\"12\\\\/15\",\"isSave\":\"0\",\"link\":{\"job\":\"\\\\/\\\\/www.104.com.tw\\\\/job\\\\/76dl7?jobsource=parttimesector\",\"cust\":\"\\\\/\\\\/www.104.com.tw\\\\/company\\\\/1a2x6blh84?jobsource=parttimesector\"},\"jobNameRaw\":\"\\\\u5de5\\\\u8b80\\\\u751f\",\"custNameRaw\":\"\\\\u661f\\\\u661f\\\\u78bc\\\\u982d\\\\u8077\\\\u80fd\\\\u6cbb\\\\u7642\\\\u6240\",\"lon\":\"121.5659519\",\"lat\":\"25.0429861\"},{\"jobNo\":\"10848617\",\"jobName\":\"\\\\u71df\\\\u7ba1\\\\u90e8\\\\uff5c\\\\u884c\\\\u653f\\\\u52a9\\\\u7406(\\\\u9577\\\\u671f\\\\u517c\\\\u8077)\",\"description\":\"\\\\u6211\\\\u5011\\\\u9700\\\\u7d30\\\\u5fc3\\\\u3001\\\\u52d5\\\\u4f5c\\\\u5feb\\\\u3001\\\\u8cac\\\\u4efb\\\\u611f\\\\u7684\\\\u5c0f\\\\u5925\\\\u4f34  1.\\\\u5546\\\\u54c1\\\\u5305\\\\u88dd\\\\u3002  2.\\\\u63c0\\\\u8ca8\\\\u3001\\\\u7406\\\\u8ca8\\\\u5206\\\\u88dd 3...\",\"optionEdu\":\"\\\\u9ad8\\\\u4e2d\",\"periodDesc\":\"\\\\u7d93\\\\u6b77\\\\u4e0d\\\\u62d8\",\"custNo\":\"130000000104681\",\"custName\":\"\\\\u4e8c\\\\u5341\\\\u4e94\\\\u96fb\\\\u8a0a\\\\u80a1\\\\u4efd\\\\u6709\\\\u9650\\\\u516c\\\\u53f8\",\"salaryDesc\":\"\\\\u6642\\\\u85aa160\\\\u5143\\\\u4ee5\\\\u4e0a\",\"appearDateDesc\":\"12\\\\/21\",\"isSave\":\"0\",\"link\":{\"job\":\"\\\\/\\\\/www.104.com.tw\\\\/job\\\\/6giuh?jobsource=parttimesector\",\"cust\":\"\\\\/\\\\/www.104.com.tw\\\\/company\\\\/1a2x6bk82x?jobsource=parttimesector\"},\"jobNameRaw\":\"\\\\u71df\\\\u7ba1\\\\u90e8\\\\uff5c\\\\u884c\\\\u653f\\\\u52a9\\\\u7406(\\\\u9577\\\\u671f\\\\u517c\\\\u8077)\",\"custNameRaw\":\"\\\\u4e8c\\\\u5341\\\\u4e94\\\\u96fb\\\\u8a0a\\\\u80a1\\\\u4efd\\\\u6709\\\\u9650\\\\u516c\\\\u53f8\",\"lon\":\"121.5327305\",\"lat\":\"25.0496825\"},{\"jobNo\":\"12508668\",\"jobName\":\"(\\\\u517c\\\\u8077)\\\\u793e\\\\u7fa4\\\\u4f01\\\\u5283\\\\u90e8\\\\u52a9\\\\u7406\\\\/\\\\u5be6\\\\u7fd2\\\\u751f\",\"description\":\"#\\\\u6b64\\\\u8077\\\\u4f4d\\\\u61c9\\\\u5fb5\\\\u5b8c\\\\u6210\\\\u5f8c\\\\uff0c\\\\u5230\\\\u73ed\\\\u5730\\\\u9ede\\\\u70ba\\\\u4fe1\\\\u7fa9\\\\u5340  \\\\u5de5\\\\u4f5c\\\\u5167\\\\u5bb9\\\\uff1a 1. \\\\u793e\\\\u7fa4\\\\u5c0f\\\\u7de8\\\\u4e4b\\\\u8cbc\\\\u6587\\\\u4f01\\\\u5283\\\\u3001...\",\"optionEdu\":\"\\\\u5c08\\\\u79d1\",\"periodDesc\":\"\\\\u7d93\\\\u6b77\\\\u4e0d\\\\u62d8\",\"custNo\":\"130000000084038\",\"custName\":\"\\\\u5f35\\\\u98db\\\\u5275\\\\u610f\\\\u884c\\\\u92b7\\\\u6709\\\\u9650\\\\u516c\\\\u53f8\",\"salaryDesc\":\"\\\\u6642\\\\u85aa160\\\\u5143\",\"appearDateDesc\":\"12\\\\/16\",\"isSave\":\"0\",\"link\":{\"job\":\"\\\\/\\\\/www.104.com.tw\\\\/job\\\\/7g3r0?jobsource=parttimesector\",\"cust\":\"\\\\/\\\\/www.104.com.tw\\\\/company\\\\/1a2x6bjs5i?jobsource=parttimesector\"},\"jobNameRaw\":\"(\\\\u517c\\\\u8077)\\\\u793e\\\\u7fa4\\\\u4f01\\\\u5283\\\\u90e8\\\\u52a9\\\\u7406\\\\/\\\\u5be6\\\\u7fd2\\\\u751f\",\"custNameRaw\":\"\\\\u5f35\\\\u98db\\\\u5275\\\\u610f\\\\u884c\\\\u92b7\\\\u6709\\\\u9650\\\\u516c\\\\u53f8\",\"lon\":\"121.5610245\",\"lat\":\"25.034257\"},{\"jobNo\":\"12380988\",\"jobName\":\"\\\\u3010\\\\u7ba1\\\\u7406\\\\u90e8\\\\u3011\\\\u6703\\\\u8a08\\\\u5be6\\\\u7fd2\\\\u751f\\\\uff08\\\\u53ef\\\\u7c3d\\\\u5be6\\\\u7fd2\\\\u5408\\\\u7d04\\\\uff09\",\"description\":\"\\\\u3010\\\\u90e8\\\\u9580\\\\u4ecb\\\\u7d39\\\\u3011 \\\\u8ca1\\\\u6703\\\\u90e8\\\\u9580\\\\u662f\\\\u4f01\\\\u696d\\\\u7684\\\\u547d\\\\u8108\\\\u8207\\\\u6838\\\\u5fc3\\\\u3002 \\\\u900f\\\\u904e\\\\u7cbe\\\\u78ba\\\\u7684\\\\u6578\\\\u5b57\\\\u7ba1\\\\u7406\\\\u8207\\\\u5206\\\\u6790\\\\uff0c\\\\u5e6b\\\\u52a9\\\\u4e3b\\\\u7ba1...\",\"optionEdu\":\"\\\\u5c08\\\\u79d1\",\"periodDesc\":\"\\\\u7d93\\\\u6b77\\\\u4e0d\\\\u62d8\",\"custNo\":\"70549500000\",\"custName\":\"Shopping99_\\\\u8010\\\\u5fb7\\\\u79d1\\\\u6280\\\\u80a1\\\\u4efd\\\\u6709\\\\u9650\\\\u516c\\\\u53f8\",\"salaryDesc\":\"\\\\u6642\\\\u85aa168\\\\u5143\",\"appearDateDesc\":\"12\\\\/21\",\"isSave\":\"0\",\"link\":{\"job\":\"\\\\/\\\\/www.104.com.tw\\\\/job\\\\/7dd8c?jobsource=parttimesector\",\"cust\":\"\\\\/\\\\/www.104.com.tw\\\\/company\\\\/wercmlc?jobsource=parttimesector\"},\"jobNameRaw\":\"\\\\u3010\\\\u7ba1\\\\u7406\\\\u90e8\\\\u3011\\\\u6703\\\\u8a08\\\\u5be6\\\\u7fd2\\\\u751f\\\\uff08\\\\u53ef\\\\u7c3d\\\\u5be6\\\\u7fd2\\\\u5408\\\\u7d04\\\\uff09\",\"custNameRaw\":\"Shopping99_\\\\u8010\\\\u5fb7\\\\u79d1\\\\u6280\\\\u80a1\\\\u4efd\\\\u6709\\\\u9650\\\\u516c\\\\u53f8\",\"lon\":\"121.5110833\",\"lat\":\"25.0458239\"},{\"jobNo\":\"12041402\",\"jobName\":\"\\\\u6587\\\\u66f8\\\\u8cc7\\\\u6599\\\\u8655\\\\u7406\\\\u54e1 (2\\\\u9031,\\\\u4e00\\\\u59298\\\\u5c0f\\\\u6642)\",\"description\":\"1. \\\\u8cc7\\\\u6599KEY-IN\\\\u53ca\\\\u6574\\\\u7406 2. \\\\u4e0a\\\\u7db2\\\\u67e5\\\\u8a62\\\\u53ca\\\\u6838\\\\u5c0d\\\\u8cc7\\\\u6599 3. \\\\u5176\\\\u4ed6\\\\u4e3b\\\\u7ba1\\\\u4ea4\\\\u8fa6\\\\u4e8b\\\\u9805\",\"optionEdu\":\"\\\\u5c08\\\\u79d1\",\"periodDesc\":\"\\\\u7d93\\\\u6b77\\\\u4e0d\\\\u62d8\",\"custNo\":\"130000000023844\",\"custName\":\"\\\\u65b0\\\\u52a0\\\\u5761\\\\u5546\\\\u7f8e\\\\u7d0d\\\\u91cc\\\\u5c3c\\\\u91ab\\\\u85e5\\\\u6709\\\\u9650\\\\u516c\\\\u53f8\\\\u53f0\\\\u7063\\\\u5206\\\\u516c\\\\u53f8\",\"salaryDesc\":\"\\\\u6642\\\\u85aa170\\\\u5143\",\"appearDateDesc\":\"12\\\\/17\",\"isSave\":\"0\",\"link\":{\"job\":\"\\\\/\\\\/www.104.com.tw\\\\/job\\\\/7637e?jobsource=parttimesector\",\"cust\":\"\\\\/\\\\/www.104.com.tw\\\\/company\\\\/1a2x6bihpg?jobsource=parttimesector\"},\"jobNameRaw\":\"\\\\u6587\\\\u66f8\\\\u8cc7\\\\u6599\\\\u8655\\\\u7406\\\\u54e1 (2\\\\u9031,\\\\u4e00\\\\u59298\\\\u5c0f\\\\u6642)\",\"custNameRaw\":\"\\\\u65b0\\\\u52a0\\\\u5761\\\\u5546\\\\u7f8e\\\\u7d0d\\\\u91cc\\\\u5c3c\\\\u91ab\\\\u85e5\\\\u6709\\\\u9650\\\\u516c\\\\u53f8\\\\u53f0\\\\u7063\\\\u5206\\\\u516c\\\\u53f8\",\"lon\":\"121.5491828\",\"lat\":\"25.0308014\"},{\"jobNo\":\"12542856\",\"jobName\":\"\\\\u3010\\\\u7368\\\\u7acb\\\\u5a92\\\\u9ad4\\\\u3011\\\\u5c08\\\\u6848\\\\u57f7\\\\u884c\\\\uff08\\\\u6c38\\\\u7e8c\\\\u8b70\\\\u984c\\\\uff09\",\"description\":\"\\\\u6211\\\\u5011\\\\u5728 2000 \\\\u5e74\\\\u6642\\\\u6210\\\\u7acb\\\\u300c\\\\u74b0\\\\u5883\\\\u8cc7\\\\u8a0a\\\\u4e2d\\\\u5fc3\\\\u300d\\\\uff08https:\\\\/\\\\/e-info.or...\",\"optionEdu\":\"\\\\u5927\\\\u5b78\",\"periodDesc\":\"\\\\u7d93\\\\u6b77\\\\u4e0d\\\\u62d8\",\"custNo\":\"13527273000\",\"custName\":\"\\\\u793e\\\\u5718\\\\u6cd5\\\\u4eba\\\\u53f0\\\\u7063\\\\u74b0\\\\u5883\\\\u8cc7\\\\u8a0a\\\\u5354\\\\u6703\",\"salaryDesc\":\"\\\\u6642\\\\u85aa168\\\\u5143\\\\u4ee5\\\\u4e0a\",\"appearDateDesc\":\"12\\\\/14\",\"isSave\":\"0\",\"link\":{\"job\":\"\\\\/\\\\/www.104.com.tw\\\\/job\\\\/7gu4o?jobsource=parttimesector\",\"cust\":\"\\\\/\\\\/www.104.com.tw\\\\/company\\\\/67psenc?jobsource=parttimesector\"},\"jobNameRaw\":\"\\\\u3010\\\\u7368\\\\u7acb\\\\u5a92\\\\u9ad4\\\\u3011\\\\u5c08\\\\u6848\\\\u57f7\\\\u884c\\\\uff08\\\\u6c38\\\\u7e8c\\\\u8b70\\\\u984c\\\\uff09\",\"custNameRaw\":\"\\\\u793e\\\\u5718\\\\u6cd5\\\\u4eba\\\\u53f0\\\\u7063\\\\u74b0\\\\u5883\\\\u8cc7\\\\u8a0a\\\\u5354\\\\u6703\",\"lon\":\"121.5388114\",\"lat\":\"25.0003661\"},{\"jobNo\":\"12532805\",\"jobName\":\"\\\\u570b\\\\u969b\\\\u4ea4\\\\u6613\\\\u5e02\\\\u5834\\\\u7814\\\\u7a76\\\\u5be6\\\\u7fd2\\\\u751f\",\"description\":\"VICI Holdings\\\\u5a01\\\\u65ed\\\\u8cc7\\\\u8a0a\\\\u6b63\\\\u5728\\\\u5c0b\\\\u627e\\\\u5c0d\\\\u9ad8\\\\u983b\\\\u91cf\\\\u5316\\\\u4ea4\\\\u6613\\\\u6709\\\\u8208\\\\u8da3\\\\u7684\\\\u512a\\\\u79c0\\\\u4eba\\\\u624d\\\\uff0c\\\\u52a0\\\\u5165...\",\"optionEdu\":\"\\\\u5927\\\\u5b78\",\"periodDesc\":\"\\\\u7d93\\\\u6b77\\\\u4e0d\\\\u62d8\",\"custNo\":\"130000000098433\",\"custName\":\"\\\\u5a01\\\\u65ed\\\\u8cc7\\\\u8a0a\\\\u6709\\\\u9650\\\\u516c\\\\u53f8\",\"salaryDesc\":\"\\\\u6642\\\\u85aa200\\\\u5143\",\"appearDateDesc\":\"12\\\\/15\",\"isSave\":\"0\",\"link\":{\"job\":\"\\\\/\\\\/www.104.com.tw\\\\/job\\\\/7gmdh?jobsource=parttimesector\",\"cust\":\"\\\\/\\\\/www.104.com.tw\\\\/company\\\\/1a2x6bk39d?jobsource=parttimesector\"},\"jobNameRaw\":\"\\\\u570b\\\\u969b\\\\u4ea4\\\\u6613\\\\u5e02\\\\u5834\\\\u7814\\\\u7a76\\\\u5be6\\\\u7fd2\\\\u751f\",\"custNameRaw\":\"\\\\u5a01\\\\u65ed\\\\u8cc7\\\\u8a0a\\\\u6709\\\\u9650\\\\u516c\\\\u53f8\",\"lon\":\"121.5267675\",\"lat\":\"25.0427628\"},{\"jobNo\":\"12508735\",\"jobName\":\"\\\\u7db2\\\\u9801\\\\u524d\\\\u7aef\\\\u7a0b\\\\u5f0f\\\\u8a2d\\\\u8a08\\\\u5be6\\\\u7fd2\\\\u4eba\\\\u54e1\",\"description\":\"\\\\uff1c\\\\u5de5\\\\u4f5c\\\\u5167\\\\u5bb9\\\\uff1e \\\\u5354\\\\u52a9\\\\u7a0b\\\\u5f0f\\\\u8a2d\\\\u8a08\\\\u5e2b\\\\u9032\\\\u884c\\\\u4e0b\\\\u5217\\\\u5de5\\\\u4f5c\\\\uff1a 1. \\\\u524d\\\\u7aef\\\\u7a0b\\\\u5f0f\\\\u8a2d\\\\u8a08,\\\\u5305\\\\u542b: (1)...\",\"optionEdu\":\"\\\\u5c08\\\\u79d1\",\"periodDesc\":\"\\\\u7d93\\\\u6b77\\\\u4e0d\\\\u62d8\",\"custNo\":\"24470446000\",\"custName\":\"\\\\u5fb7\\\\u548c\\\\u6708\\\\u570b\\\\u969b\\\\u79d1\\\\u6280\\\\u80a1\\\\u4efd\\\\u6709\\\\u9650\\\\u516c\\\\u53f8\",\"salaryDesc\":\"\\\\u8ad6\\\\u4ef6\\\\u8a08\\\\u916c50~500\\\\u5143\",\"appearDateDesc\":\"11\\\\/26\",\"isSave\":\"0\",\"link\":{\"job\":\"\\\\/\\\\/www.104.com.tw\\\\/job\\\\/7g3sv?jobsource=parttimesector\",\"cust\":\"\\\\/\\\\/www.104.com.tw\\\\/company\\\\/b8p2kz4?jobsource=parttimesector\"},\"jobNameRaw\":\"\\\\u7db2\\\\u9801\\\\u524d\\\\u7aef\\\\u7a0b\\\\u5f0f\\\\u8a2d\\\\u8a08\\\\u5be6\\\\u7fd2\\\\u4eba\\\\u54e1\",\"custNameRaw\":\"\\\\u5fb7\\\\u548c\\\\u6708\\\\u570b\\\\u969b\\\\u79d1\\\\u6280\\\\u80a1\\\\u4efd\\\\u6709\\\\u9650\\\\u516c\\\\u53f8\",\"lon\":\"121.5579077\",\"lat\":\"25.0333242\"},{\"jobNo\":\"11962397\",\"jobName\":\"\\\\u3010\\\\u708e\\\\u795e\\\\u62c9\\\\u9eb5-\\\\u53f0\\\\u5317ATT4FUN\\\\u3011\\\\u517c\\\\u8077\\\\u4eba\\\\u54e1\",\"description\":\"\\\\u517c\\\\u5dee\\\\/PT(\\\\u5e73\\\\u65e5&\\\\u5047\\\\u65e5) \\\\u3010\\\\u5de5\\\\u4f5c\\\\u5167\\\\u5bb9\\\\u3011\\\\uff1a \\\\u98df\\\\u6750\\\\u6e96\\\\u5099\\\\u3001\\\\u5916\\\\u5834\\\\u670d\\\\u52d9\\\\u3001\\\\u9ede\\\\u9910\\\\u6536\\\\u9280\\\\u3001\\\\u5099\\\\u9910\\\\u51fa...\",\"optionEdu\":\"\\\\u9ad8\\\\u4e2d\",\"periodDesc\":\"\\\\u7d93\\\\u6b77\\\\u4e0d\\\\u62d8\",\"custNo\":\"130000000090097\",\"custName\":\"\\\\u96c6\\\\u9df9\\\\u570b\\\\u969b\\\\u80a1\\\\u4efd\\\\u6709\\\\u9650\\\\u516c\\\\u53f8\",\"salaryDesc\":\"\\\\u6642\\\\u85aa165~190\\\\u5143\",\"appearDateDesc\":\"12\\\\/16\",\"isSave\":\"0\",\"link\":{\"job\":\"\\\\/\\\\/www.104.com.tw\\\\/job\\\\/74e8t?jobsource=parttimesector\",\"cust\":\"\\\\/\\\\/www.104.com.tw\\\\/company\\\\/1a2x6bjwtt?jobsource=parttimesector\"},\"jobNameRaw\":\"\\\\u3010\\\\u708e\\\\u795e\\\\u62c9\\\\u9eb5-\\\\u53f0\\\\u5317ATT4FUN\\\\u3011\\\\u517c\\\\u8077\\\\u4eba\\\\u54e1\",\"custNameRaw\":\"\\\\u96c6\\\\u9df9\\\\u570b\\\\u969b\\\\u80a1\\\\u4efd\\\\u6709\\\\u9650\\\\u516c\\\\u53f8\",\"lon\":\"121.5660073\",\"lat\":\"25.0354168\"},{\"jobNo\":\"7684727\",\"jobName\":\"\\\\u53f0\\\\u5317\\\\u4fe1\\\\u7fa9\\\\u5340\\\\u7cbe\\\\u54c1\\\\u92b7\\\\u552e\\\\u9867\\\\u554f\\\\uff08\\\\u517c\\\\u8077\\\\uff0c\\\\u5f85\\\\u9047\\\\u512a\\\\uff09\",\"description\":\"\\\\uff0aTop Sales\\\\u7cbe\\\\u54c1\\\\u92b7\\\\u552e\\\\u7d93\\\\u9a57\\\\u8005\\\\u512a\\\\u5148\\\\u9304\\\\u53d6  1.\\\\u4ee5\\\\u6700\\\\u9ad8\\\\u898f\\\\u683c\\\\u8207\\\\u614b\\\\u5ea6\\\\u670d\\\\u52d9\\\\u5ba2\\\\u4eba\\\\uff0c\\\\u4ecb...\",\"optionEdu\":\"\\\\u5c08\\\\u79d1\",\"periodDesc\":\"1\\\\u5e74\\\\u4ee5\\\\u4e0a\",\"custNo\":\"130000000063165\",\"custName\":\"APM MONACO_\\\\u53f0\\\\u7063\\\\u9577\\\\u9032\\\\u5be6\\\\u696d\\\\u6709\\\\u9650\\\\u516c\\\\u53f8\",\"salaryDesc\":\"\\\\u6642\\\\u85aa200\\\\u5143\",\"appearDateDesc\":\"11\\\\/19\",\"isSave\":\"0\",\"link\":{\"job\":\"\\\\/\\\\/www.104.com.tw\\\\/job\\\\/4kpkn?jobsource=parttimesector\",\"cust\":\"\\\\/\\\\/www.104.com.tw\\\\/company\\\\/1a2x6bjc1p?jobsource=parttimesector\"},\"jobNameRaw\":\"\\\\u53f0\\\\u5317\\\\u4fe1\\\\u7fa9\\\\u5340\\\\u7cbe\\\\u54c1\\\\u92b7\\\\u552e\\\\u9867\\\\u554f\\\\uff08\\\\u517c\\\\u8077\\\\uff0c\\\\u5f85\\\\u9047\\\\u512a\\\\uff09\",\"custNameRaw\":\"APM MONACO_\\\\u53f0\\\\u7063\\\\u9577\\\\u9032\\\\u5be6\\\\u696d\\\\u6709\\\\u9650\\\\u516c\\\\u53f8\",\"lon\":\"121.5720055\",\"lat\":\"25.0409201\"},{\"jobNo\":\"12295123\",\"jobName\":\"\\\\u6703\\\\u8a08\\\\u52a9\\\\u7406(Part time)\",\"description\":\"- \\\\u5354\\\\u52a9\\\\u516c\\\\u53f8\\\\u5167\\\\u90e8\\\\u540c\\\\u4ec1\\\\u6574\\\\u7406\\\\u8cbb\\\\u7528\\\\u6191\\\\u8b49\\\\u53ca\\\\u9032\\\\u884c\\\\u8acb\\\\u6b3e\\\\u6d41\\\\u7a0b\\\\u3002 - \\\\u5354\\\\u52a9\\\\u7ba1\\\\u7406\\\\u53ca\\\\u6574\\\\u7406\\\\u5831\\\\u92b7\\\\u6191\\\\u8b49\\\\u53ca...\",\"optionEdu\":\"\\\\u5c08\\\\u79d1\",\"periodDesc\":\"\\\\u7d93\\\\u6b77\\\\u4e0d\\\\u62d8\",\"custNo\":\"130000000051255\",\"custName\":\"\\\\u4e0a\\\\u7def\\\\u65b0\\\\u80fd\\\\u6e90\\\\u80a1\\\\u4efd\\\\u6709\\\\u9650\\\\u516c\\\\u53f8\",\"salaryDesc\":\"\\\\u6642\\\\u85aa180\\\\u5143\",\"appearDateDesc\":\"12\\\\/20\",\"isSave\":\"0\",\"link\":{\"job\":\"\\\\/\\\\/www.104.com.tw\\\\/job\\\\/7biz7?jobsource=parttimesector\",\"cust\":\"\\\\/\\\\/www.104.com.tw\\\\/company\\\\/1a2x6bj2uv?jobsource=parttimesector\"},\"jobNameRaw\":\"\\\\u6703\\\\u8a08\\\\u52a9\\\\u7406(Part time)\",\"custNameRaw\":\"\\\\u4e0a\\\\u7def\\\\u65b0\\\\u80fd\\\\u6e90\\\\u80a1\\\\u4efd\\\\u6709\\\\u9650\\\\u516c\\\\u53f8\",\"lon\":\"121.5674258\",\"lat\":\"25.0325531\"},{\"jobNo\":\"10820725\",\"jobName\":\"English Teacher\",\"description\":\"TLI does not hire good teachers - we hi...\",\"optionEdu\":\"\\\\u5927\\\\u5b78\",\"periodDesc\":\"\\\\u7d93\\\\u6b77\\\\u4e0d\\\\u62d8\",\"custNo\":\"130000000122204\",\"custName\":\"\\\\u53f0\\\\u7063\\\\u5929\\\\u7d61\\\\u80a1\\\\u4efd\\\\u6709\\\\u9650\\\\u516c\\\\u53f8\",\"salaryDesc\":\"\\\\u6642\\\\u85aa500~600\\\\u5143\",\"appearDateDesc\":\"12\\\\/20\",\"isSave\":\"0\",\"link\":{\"job\":\"\\\\/\\\\/www.104.com.tw\\\\/job\\\\/6fxbp?jobsource=parttimesector\",\"cust\":\"\\\\/\\\\/www.104.com.tw\\\\/company\\\\/1a2x6bkllo?jobsource=parttimesector\"},\"jobNameRaw\":\"English Teacher\",\"custNameRaw\":\"\\\\u53f0\\\\u7063\\\\u5929\\\\u7d61\\\\u80a1\\\\u4efd\\\\u6709\\\\u9650\\\\u516c\\\\u53f8\",\"lon\":\"121.525624\",\"lat\":\"25.022681\"},{\"jobNo\":\"11168837\",\"jobName\":\"\\\\u7c73\\\\u7c73\\\\u5496\\\\u5561\\\\u517c\\\\u8077\\\\u5925\\\\u4f34\",\"description\":\"1.\\\\u6211\\\\u5011\\\\u6c92\\\\u6709\\\\u5206\\\\u5167\\\\u5916\\\\u5834\\\\uff0c\\\\u5de5\\\\u4f5c\\\\u5167\\\\u5bb9\\\\u5305\\\\u62ec\\\\u6c96\\\\u716e\\\\u5496\\\\u5561\\\\u3001\\\\u751c\\\\u9ede\\\\u88fd\\\\u4f5c\\\\u3001\\\\u63a5\\\\u5f85\\\\u5ba2\\\\u4eba 2.\\\\u6a02\\\\u65bc\\\\u8207\\\\u4eba\\\\u4ea4...\",\"optionEdu\":\"\\\\u5b78\\\\u6b77\\\\u4e0d\\\\u62d8\",\"periodDesc\":\"\\\\u7d93\\\\u6b77\\\\u4e0d\\\\u62d8\",\"custNo\":\"130000000136377\",\"custName\":\"Mimi&#039;s Cafe\\\\u7c73\\\\u7c73\\\\u5496\\\\u5561_\\\\u5e03\\\\u6717\\\\u5546\\\\u884c\",\"salaryDesc\":\"\\\\u6642\\\\u85aa170~180\\\\u5143\",\"appearDateDesc\":\"12\\\\/21\",\"isSave\":\"0\",\"link\":{\"job\":\"\\\\/\\\\/www.104.com.tw\\\\/job\\\\/6ndxh?jobsource=parttimesector\",\"cust\":\"\\\\/\\\\/www.104.com.tw\\\\/company\\\\/1a2x6bkwjd?jobsource=parttimesector\"},\"jobNameRaw\":\"\\\\u7c73\\\\u7c73\\\\u5496\\\\u5561\\\\u517c\\\\u8077\\\\u5925\\\\u4f34\",\"custNameRaw\":\"Mimi\\'s Cafe\\\\u7c73\\\\u7c73\\\\u5496\\\\u5561_\\\\u5e03\\\\u6717\\\\u5546\\\\u884c\",\"lon\":\"121.5315322\",\"lat\":\"25.0158963\"},{\"jobNo\":\"9812399\",\"jobName\":\"\\\\u300a\\\\u5bd2\\\\u5047\\\\u77ed\\\\u671f\\\\u5de5\\\\u8b80\\\\u300b\\\\u767e\\\\u8ca8\\\\u8d85\\\\u5e02-\\\\u5e74\\\\u7bc0\\\\u6563\\\\u7cd6\\\\u92b7\\\\u552e-\\\\u9060\\\\u4f01\\\\u767e\\\\u8ca8city super\",\"description\":\"\\\\u4e0a\\\\u73ed\\\\u6642\\\\u9593:1\\\\/14-1\\\\/31 \\\\u6642\\\\u85aa:$168(\\\\u521d\\\\u5915  \\\\u6642\\\\u85aa2\\\\u500d) \\\\u5de5\\\\u4f5c\\\\u5167\\\\u5bb9:\\\\u5e74...\",\"optionEdu\":\"\\\\u9ad8\\\\u4e2d\",\"periodDesc\":\"\\\\u7d93\\\\u6b77\\\\u4e0d\\\\u62d8\",\"custNo\":\"23788698000\",\"custName\":\"\\\\u9678\\\\u8000\\\\u8cbf\\\\u6613\\\\u6709\\\\u9650\\\\u516c\\\\u53f8\",\"salaryDesc\":\"\\\\u6642\\\\u85aa168\\\\u5143\",\"appearDateDesc\":\"12\\\\/21\",\"isSave\":\"0\",\"link\":{\"job\":\"\\\\/\\\\/www.104.com.tw\\\\/job\\\\/5uban?jobsource=parttimesector\",\"cust\":\"\\\\/\\\\/www.104.com.tw\\\\/company\\\\/axf6cuo?jobsource=parttimesector\"},\"jobNameRaw\":\"\\\\u300a\\\\u5bd2\\\\u5047\\\\u77ed\\\\u671f\\\\u5de5\\\\u8b80\\\\u300b\\\\u767e\\\\u8ca8\\\\u8d85\\\\u5e02-\\\\u5e74\\\\u7bc0\\\\u6563\\\\u7cd6\\\\u92b7\\\\u552e-\\\\u9060\\\\u4f01\\\\u767e\\\\u8ca8city super\",\"custNameRaw\":\"\\\\u9678\\\\u8000\\\\u8cbf\\\\u6613\\\\u6709\\\\u9650\\\\u516c\\\\u53f8\",\"lon\":\"121.549263\",\"lat\":\"25.0262079\"},{\"jobNo\":\"12301073\",\"jobName\":\"\\\\u884c\\\\u92b7\\\\u90e8\\\\u9580\\\\u5be6\\\\u7fd2\\\\u751f \\\\/ Marketing Intern (Social Team)\",\"description\":\"1. \\\\u7ba1\\\\u7406\\\\u4e26\\\\u7dad\\\\u8b77 KOL \\\\u8cc7\\\\u6599\\\\u5eab\\\\u3000 2. \\\\u5354\\\\u52a9\\\\u62db\\\\u52dfKOL\\\\u3001\\\\u9080\\\\u7d04\\\\u8207\\\\u6d3d\\\\u8ac7 3. \\\\u8207...\",\"optionEdu\":\"\\\\u5927\\\\u5b78\",\"periodDesc\":\"\\\\u7d93\\\\u6b77\\\\u4e0d\\\\u62d8\",\"custNo\":\"130000000157678\",\"custName\":\"\\\\u65b0\\\\u52a0\\\\u5761\\\\u5546\\\\u8766\\\\u76ae\\\\u5a1b\\\\u6a02\\\\u96fb\\\\u5546\\\\u6709\\\\u9650\\\\u516c\\\\u53f8\\\\u53f0\\\\u7063\\\\u5206\\\\u516c\\\\u53f8\",\"salaryDesc\":\"\\\\u6642\\\\u85aa170\\\\u5143\",\"appearDateDesc\":\"12\\\\/15\",\"isSave\":\"0\",\"link\":{\"job\":\"\\\\/\\\\/www.104.com.tw\\\\/job\\\\/7bnkh?jobsource=parttimesector\",\"cust\":\"\\\\/\\\\/www.104.com.tw\\\\/company\\\\/1a2x6blcz2?jobsource=parttimesector\"},\"jobNameRaw\":\"\\\\u884c\\\\u92b7\\\\u90e8\\\\u9580\\\\u5be6\\\\u7fd2\\\\u751f \\\\/ Marketing Intern (Social Team)\",\"custNameRaw\":\"\\\\u65b0\\\\u52a0\\\\u5761\\\\u5546\\\\u8766\\\\u76ae\\\\u5a1b\\\\u6a02\\\\u96fb\\\\u5546\\\\u6709\\\\u9650\\\\u516c\\\\u53f8\\\\u53f0\\\\u7063\\\\u5206\\\\u516c\\\\u53f8\",\"lon\":\"121.5613507\",\"lat\":\"25.0445608\"},{\"jobNo\":\"11157614\",\"jobName\":\"\\\\u4f01\\\\u696d\\\\u5ba2\\\\u6236\\\\u90e8\\\\uff5c\\\\u6587\\\\u5b57\\\\u5ba2\\\\u670d(\\\\u9577\\\\u671f\\\\u517c\\\\u8077)\",\"description\":\"\\\\u3010\\\\u8acb\\\\u52d9\\\\u5fc5\\\\u8a73\\\\u7d30\\\\u95b1\\\\u8b80\\\\u5de5\\\\u4f5c\\\\u5167\\\\u5bb9\\\\u53ca\\\\u6642\\\\u9593 \\\\u80fd\\\\u914d\\\\u5408\\\\u518d\\\\u6295\\\\u905e\\\\u3011  \\\\u516c\\\\u53f8\\\\u7522\\\\u54c1\\\\u662f\\\\u6578\\\\u4f4d\\\\u7db2\\\\u8def\\\\u670d\\\\u52d9\\\\uff0c\\\\u9019\\\\u662f...\",\"optionEdu\":\"\\\\u9ad8\\\\u4e2d\",\"periodDesc\":\"\\\\u7d93\\\\u6b77\\\\u4e0d\\\\u62d8\",\"custNo\":\"130000000104681\",\"custName\":\"\\\\u4e8c\\\\u5341\\\\u4e94\\\\u96fb\\\\u8a0a\\\\u80a1\\\\u4efd\\\\u6709\\\\u9650\\\\u516c\\\\u53f8\",\"salaryDesc\":\"\\\\u6642\\\\u85aa160~200\\\\u5143\",\"appearDateDesc\":\"12\\\\/16\",\"isSave\":\"0\",\"link\":{\"job\":\"\\\\/\\\\/www.104.com.tw\\\\/job\\\\/6n59q?jobsource=parttimesector\",\"cust\":\"\\\\/\\\\/www.104.com.tw\\\\/company\\\\/1a2x6bk82x?jobsource=parttimesector\"},\"jobNameRaw\":\"\\\\u4f01\\\\u696d\\\\u5ba2\\\\u6236\\\\u90e8\\\\uff5c\\\\u6587\\\\u5b57\\\\u5ba2\\\\u670d(\\\\u9577\\\\u671f\\\\u517c\\\\u8077)\",\"custNameRaw\":\"\\\\u4e8c\\\\u5341\\\\u4e94\\\\u96fb\\\\u8a0a\\\\u80a1\\\\u4efd\\\\u6709\\\\u9650\\\\u516c\\\\u53f8\",\"lon\":\"121.5327305\",\"lat\":\"25.0496825\"},{\"jobNo\":\"11005944\",\"jobName\":\"\\\\u6ac3\\\\u6aafPT\\\\u517c\\\\u8077(TMMA\\\\u53f0\\\\u5317\\\\u683c\\\\u9b25\\\\u904b\\\\u52d5\\\\u9928 \\\\u96d9\\\\u548c\\\\u9928)\",\"description\":\"\\\\u53ea\\\\u8981\\\\u4f60\\\\/\\\\u59b3\\\\u5c0d\\\\u81ea\\\\u5df1\\\\u5145\\\\u6eff\\\\u81ea\\\\u4fe1\\\\u3001\\\\u71b1\\\\u60c5\\\\u3001\\\\u7d30\\\\u5fc3\\\\u8ca0\\\\u8cac \\\\u6b61\\\\u8fce\\\\u60a8\\\\u52a0\\\\u5165TMMA \\\\u9019\\\\u500b\\\\u5927\\\\u5bb6\\\\u5ead\\\\u300a\\\\u5805\\\\u6301...\",\"optionEdu\":\"\\\\u5c08\\\\u79d1\",\"periodDesc\":\"\\\\u7d93\\\\u6b77\\\\u4e0d\\\\u62d8\",\"custNo\":\"130000000131519\",\"custName\":\"\\\\u6b66\\\\u771f\\\\u7ba1\\\\u7406\\\\u9867\\\\u554f\\\\u6709\\\\u9650\\\\u516c\\\\u53f8\",\"salaryDesc\":\"\\\\u6642\\\\u85aa160~220\\\\u5143\",\"appearDateDesc\":\"11\\\\/25\",\"isSave\":\"0\",\"link\":{\"job\":\"\\\\/\\\\/www.104.com.tw\\\\/job\\\\/6jw8o?jobsource=parttimesector\",\"cust\":\"\\\\/\\\\/www.104.com.tw\\\\/company\\\\/1a2x6bkssf?jobsource=parttimesector\"},\"jobNameRaw\":\"\\\\u6ac3\\\\u6aafPT\\\\u517c\\\\u8077(TMMA\\\\u53f0\\\\u5317\\\\u683c\\\\u9b25\\\\u904b\\\\u52d5\\\\u9928 \\\\u96d9\\\\u548c\\\\u9928)\",\"custNameRaw\":\"\\\\u6b66\\\\u771f\\\\u7ba1\\\\u7406\\\\u9867\\\\u554f\\\\u6709\\\\u9650\\\\u516c\\\\u53f8\",\"lon\":\"121.5102287\",\"lat\":\"25.0015541\"},{\"jobNo\":\"12442357\",\"jobName\":\"\\\\u300cSanka \\\\u53c2\\\\u52a0\\\\u300d\\\\u804a\\\\u5929\\\\u9054\\\\u4eba\",\"description\":\"Sanka \\\\u2014 \\\\u53f0\\\\u7063\\\\u9996\\\\u5275\\\\u300c\\\\u805a\\\\u6703\\\\u540c\\\\u6a02\\\\u5a92\\\\u5408\\\\u300d\\\\u5e73\\\\u53f0 \\\\u5f37\\\\u529b\\\\u52df\\\\u96c6\\\\u540c\\\\u6a02\\\\u9054\\\\u4eba\\\\uff01  \\\\u611b\\\\u804a\\\\u5929- ...\",\"optionEdu\":\"\\\\u5b78\\\\u6b77\\\\u4e0d\\\\u62d8\",\"periodDesc\":\"\\\\u7d93\\\\u6b77\\\\u4e0d\\\\u62d8\",\"custNo\":\"130000000119929\",\"custName\":\"\\\\u70cf\\\\u6258\\\\u90a6\\\\u570b\\\\u969b\\\\u6709\\\\u9650\\\\u516c\\\\u53f8\",\"salaryDesc\":\"\\\\u6642\\\\u85aa1,200~9,000\\\\u5143\",\"appearDateDesc\":\"12\\\\/14\",\"isSave\":\"0\",\"link\":{\"job\":\"\\\\/\\\\/www.104.com.tw\\\\/job\\\\/7eol1?jobsource=parttimesector\",\"cust\":\"\\\\/\\\\/www.104.com.tw\\\\/company\\\\/1a2x6bkjuh?jobsource=parttimesector\"},\"jobNameRaw\":\"\\\\u300cSanka \\\\u53c2\\\\u52a0\\\\u300d\\\\u804a\\\\u5929\\\\u9054\\\\u4eba\",\"custNameRaw\":\"\\\\u70cf\\\\u6258\\\\u90a6\\\\u570b\\\\u969b\\\\u6709\\\\u9650\\\\u516c\\\\u53f8\",\"lon\":\"121.5720055\",\"lat\":\"25.0409201\"},{\"jobNo\":\"12480642\",\"jobName\":\"\\\\u9577\\\\u77ed\\\\u671f\\\\u670d\\\\u52d9\\\\u517c\\\\u8077\\\\u4eba\\\\u54e1\\\\uff08\\\\u7cd6\\\\u671dFast Food\\\\u9ede\\\\u5fc3\\\\u5f62\\\\u8c61\\\\u5e97\\\\uff09\",\"description\":\"1.\\\\u4f9d\\\\u516c\\\\u53f8\\\\u898f\\\\u5b9aSOP\\\\u88fd\\\\u7a0b\\\\u88fd\\\\u4f5c 2.\\\\u57fa\\\\u790e\\\\u7d50\\\\u5e33\\\\u4f5c\\\\u696d 3.\\\\u9eef\\\\u57fa\\\\u790e\\\\u6599\\\\u7406\\\\u70f9\\\\u98ea 4.\\\\u71b1\\\\u60c5\\\\u7684...\",\"optionEdu\":\"\\\\u9ad8\\\\u4e2d\",\"periodDesc\":\"\\\\u7d93\\\\u6b77\\\\u4e0d\\\\u62d8\",\"custNo\":\"130000000063222\",\"custName\":\"W.E. KAFFE_\\\\u610f\\\\u8aa0\\\\u9910\\\\u98f2\\\\u6709\\\\u9650\\\\u516c\\\\u53f8\",\"salaryDesc\":\"\\\\u6642\\\\u85aa170~200\\\\u5143\",\"appearDateDesc\":\"12\\\\/21\",\"isSave\":\"0\",\"link\":{\"job\":\"\\\\/\\\\/www.104.com.tw\\\\/job\\\\/7fi4i?jobsource=parttimesector\",\"cust\":\"\\\\/\\\\/www.104.com.tw\\\\/company\\\\/1a2x6bjc3a?jobsource=parttimesector\"},\"jobNameRaw\":\"\\\\u9577\\\\u77ed\\\\u671f\\\\u670d\\\\u52d9\\\\u517c\\\\u8077\\\\u4eba\\\\u54e1\\\\uff08\\\\u7cd6\\\\u671dFast Food\\\\u9ede\\\\u5fc3\\\\u5f62\\\\u8c61\\\\u5e97\\\\uff09\",\"custNameRaw\":\"W.E. KAFFE_\\\\u610f\\\\u8aa0\\\\u9910\\\\u98f2\\\\u6709\\\\u9650\\\\u516c\\\\u53f8\",\"lon\":\"121.5508696\",\"lat\":\"25.0423567\"},{\"jobNo\":\"12356871\",\"jobName\":\"\\\\u7a0b\\\\u5f0f\\\\u8a2d\\\\u8a08\\\\u5e2b-\\\\u5b78\\\\u751f\\\\u5be6\\\\u7fd2\",\"description\":\"\\\\u3010\\\\u5de5\\\\u4f5c\\\\u5167\\\\u5bb9\\\\u3011 1.\\\\u6703SQL 2.\\\\u6709\\\\u5546\\\\u5b78\\\\u80cc\\\\u666f\\\\u4f73  \\\\u3010\\\\u9700\\\\u6c42\\\\u689d\\\\u4ef6\\\\u3011 1.\\\\u4e00\\\\u9031\\\\u53ef\\\\u4e0a\\\\u73ed3...\",\"optionEdu\":\"\\\\u5b78\\\\u6b77\\\\u4e0d\\\\u62d8\",\"periodDesc\":\"1\\\\u5e74\\\\u4ee5\\\\u4e0a\",\"custNo\":\"70556945000\",\"custName\":\"\\\\u6377\\\\u667a\\\\u5546\\\\u8a0a\\\\u79d1\\\\u6280\\\\u80a1\\\\u4efd\\\\u6709\\\\u9650\\\\u516c\\\\u53f8\",\"salaryDesc\":\"\\\\u6642\\\\u85aa160\\\\u5143\\\\u4ee5\\\\u4e0a\",\"appearDateDesc\":\"12\\\\/16\",\"isSave\":\"0\",\"link\":{\"job\":\"\\\\/\\\\/www.104.com.tw\\\\/job\\\\/7cumf?jobsource=parttimesector\",\"cust\":\"\\\\/\\\\/www.104.com.tw\\\\/company\\\\/wevs76w?jobsource=parttimesector\"},\"jobNameRaw\":\"\\\\u7a0b\\\\u5f0f\\\\u8a2d\\\\u8a08\\\\u5e2b-\\\\u5b78\\\\u751f\\\\u5be6\\\\u7fd2\",\"custNameRaw\":\"\\\\u6377\\\\u667a\\\\u5546\\\\u8a0a\\\\u79d1\\\\u6280\\\\u80a1\\\\u4efd\\\\u6709\\\\u9650\\\\u516c\\\\u53f8\",\"lon\":\"121.558027\",\"lat\":\"25.0480279\"},{\"jobNo\":\"11789441\",\"jobName\":\"\\\\u3010\\\\u53f0\\\\u5317\\\\u897f\\\\u9580\\\\u3011\\\\u4eca\\\\u65e5\\\\u79c0\\\\u6cf0\\\\u5f71\\\\u57ce-\\\\u9577\\\\u671f\\\\u8a08\\\\u6642\\\\u670d\\\\u52d9\\\\u4eba\\\\u54e1\",\"description\":\"1.\\\\u96fb\\\\u5f71\\\\u7968\\\\u5238\\\\u8ca9\\\\u552e\\\\u53ca\\\\u5957\\\\u9910\\\\u4fc3\\\\u92b7 2.\\\\u71b1\\\\u98df\\\\u53ca\\\\u98f2\\\\u54c1\\\\u88fd\\\\u4f5c\\\\u8207\\\\u8ca9\\\\u552e 3.\\\\u73fe\\\\u5834\\\\u52d5\\\\u7dda\\\\u6307\\\\u5f15\\\\u53ca\\\\u74b0\\\\u5883\\\\u7dad...\",\"optionEdu\":\"\\\\u9ad8\\\\u4e2d\",\"periodDesc\":\"\\\\u7d93\\\\u6b77\\\\u4e0d\\\\u62d8\",\"custNo\":\"70377703000\",\"custName\":\"\\\\u79c0\\\\u6cf0\\\\u96c6\\\\u5718_\\\\u6d3e\\\\u5e1d\\\\u5a1c\\\\u5be6\\\\u696d\\\\u80a1\\\\u4efd\\\\u6709\\\\u9650\\\\u516c\\\\u53f8\",\"salaryDesc\":\"\\\\u6642\\\\u85aa168\\\\u5143\",\"appearDateDesc\":\"12\\\\/15\",\"isSave\":\"0\",\"link\":{\"job\":\"\\\\/\\\\/www.104.com.tw\\\\/job\\\\/70osh?jobsource=parttimesector\",\"cust\":\"\\\\/\\\\/www.104.com.tw\\\\/company\\\\/wbx2f6g?jobsource=parttimesector\"},\"jobNameRaw\":\"\\\\u3010\\\\u53f0\\\\u5317\\\\u897f\\\\u9580\\\\u3011\\\\u4eca\\\\u65e5\\\\u79c0\\\\u6cf0\\\\u5f71\\\\u57ce-\\\\u9577\\\\u671f\\\\u8a08\\\\u6642\\\\u670d\\\\u52d9\\\\u4eba\\\\u54e1\",\"custNameRaw\":\"\\\\u79c0\\\\u6cf0\\\\u96c6\\\\u5718_\\\\u6d3e\\\\u5e1d\\\\u5a1c\\\\u5be6\\\\u696d\\\\u80a1\\\\u4efd\\\\u6709\\\\u9650\\\\u516c\\\\u53f8\",\"lon\":\"121.505412\",\"lat\":\"25.043798\"},{\"jobNo\":\"10834910\",\"jobName\":\"&lt;Students Only&gt;&lt;Internship Program&gt; Audi Digital Business and Network Quality Intern\",\"description\":\"\\\\u3010MAIN GOALS AND OBJECTIVES\\\\u3011 1. Data ana...\",\"optionEdu\":\"\\\\u5c08\\\\u79d1\",\"periodDesc\":\"\\\\u7d93\\\\u6b77\\\\u4e0d\\\\u62d8\",\"custNo\":\"29060646000\",\"custName\":\"\\\\u5967\\\\u8fea\\\\u798f\\\\u65af\\\\u6c7d\\\\u8eca\\\\u80a1\\\\u4efd\\\\u6709\\\\u9650\\\\u516c\\\\u53f8\",\"salaryDesc\":\"\\\\u6708\\\\u85aa25,000\\\\u5143\",\"appearDateDesc\":\"12\\\\/21\",\"isSave\":\"0\",\"link\":{\"job\":\"\\\\/\\\\/www.104.com.tw\\\\/job\\\\/6g89q?jobsource=parttimesector\",\"cust\":\"\\\\/\\\\/www.104.com.tw\\\\/company\\\\/dclyhyo?jobsource=parttimesector\"},\"jobNameRaw\":\"<Students Only><Internship Program> Audi Digital Business and Network Quality Intern\",\"custNameRaw\":\"\\\\u5967\\\\u8fea\\\\u798f\\\\u65af\\\\u6c7d\\\\u8eca\\\\u80a1\\\\u4efd\\\\u6709\\\\u9650\\\\u516c\\\\u53f8\",\"lon\":\"121.5642112\",\"lat\":\"25.0396333\"},{\"jobNo\":\"12499287\",\"jobName\":\"\\\\u5de5\\\\u8b80\\\\u751f (\\\\u4fe1\\\\u7fa9Brand Center), adidas\",\"description\":\"1. \\\\u5354\\\\u52a9\\\\u9580\\\\u5e02\\\\u696d\\\\u52d9\\\\u92b7\\\\u552e\\\\u3001\\\\u88dc\\\\u8ca8\\\\u7b49,\\\\u914d\\\\u5408\\\\u5c08\\\\u6ac3\\\\/\\\\u9580\\\\u5e02\\\\u5de5\\\\u4f5c\\\\u6642\\\\u9593 2. \\\\u53e3\\\\u9f52\\\\u6e05\\\\u6670, \\\\u53cd\\\\u61c9...\",\"optionEdu\":\"\\\\u9ad8\\\\u4e2d\",\"periodDesc\":\"\\\\u7d93\\\\u6b77\\\\u4e0d\\\\u62d8\",\"custNo\":\"97165344000\",\"custName\":\"\\\\u53f0\\\\u7063\\\\u963f\\\\u8fea\\\\u9054\\\\u65af\\\\u80a1\\\\u4efd\\\\u6709\\\\u9650\\\\u516c\\\\u53f8\",\"salaryDesc\":\"\\\\u6642\\\\u85aa160\\\\u5143\",\"appearDateDesc\":\"12\\\\/16\",\"isSave\":\"0\",\"link\":{\"job\":\"\\\\/\\\\/www.104.com.tw\\\\/job\\\\/7fwif?jobsource=parttimesector\",\"cust\":\"\\\\/\\\\/www.104.com.tw\\\\/company\\\\/18mxqj9c?jobsource=parttimesector\"},\"jobNameRaw\":\"\\\\u5de5\\\\u8b80\\\\u751f (\\\\u4fe1\\\\u7fa9Brand Center), adidas\",\"custNameRaw\":\"\\\\u53f0\\\\u7063\\\\u963f\\\\u8fea\\\\u9054\\\\u65af\\\\u80a1\\\\u4efd\\\\u6709\\\\u9650\\\\u516c\\\\u53f8\",\"lon\":\"121.5667018\",\"lat\":\"25.0353447\"},{\"jobNo\":\"12382485\",\"jobName\":\"\\\\u65c5\\\\u5c45\\\\u6587\\\\u65c5 \\\\u897f\\\\u9580\\\\u9a5b\\\\u7ad9_\\\\u5546\\\\u52d9\\\\u65c5\\\\u9928\\\\u517c\\\\u8077\\\\u665a\\\\u73ed\\\\u623f\\\\u52d9\\\\u4eba\\\\u54e1\",\"description\":\"\\\\u5728\\\\u5916\\\\u5954\\\\u6ce2\\\\u5f8c\\\\u56de\\\\u5230\\\\u65c5\\\\u9928\\\\u4f11\\\\u606f\\\\uff0c\\\\u6253\\\\u958b\\\\u623f\\\\u9580\\\\u770b\\\\u898b\\\\u4e7e\\\\u6de8\\\\u6574\\\\u6f54\\\\u7684\\\\u623f\\\\u9593\\\\uff0c\\\\u7dca\\\\u7e43\\\\u7684\\\\u5fc3\\\\u60c5\\\\u4ee5\\\\u53ca\\\\u75b2\\\\u5026\\\\u7684\\\\u8eab\\\\u8ec0\\\\u9813...\",\"optionEdu\":\"\\\\u5b78\\\\u6b77\\\\u4e0d\\\\u62d8\",\"periodDesc\":\"\\\\u7d93\\\\u6b77\\\\u4e0d\\\\u62d8\",\"custNo\":\"130000000138107\",\"custName\":\"\\\\u4e16\\\\u65b9\\\\u6587\\\\u65c5\\\\u80a1\\\\u4efd\\\\u6709\\\\u9650\\\\u516c\\\\u53f8\",\"salaryDesc\":\"\\\\u6642\\\\u85aa160\\\\u5143\",\"appearDateDesc\":\"12\\\\/20\",\"isSave\":\"0\",\"link\":{\"job\":\"\\\\/\\\\/www.104.com.tw\\\\/job\\\\/7dedx?jobsource=parttimesector\",\"cust\":\"\\\\/\\\\/www.104.com.tw\\\\/company\\\\/1a2x6bkxvf?jobsource=parttimesector\"},\"jobNameRaw\":\"\\\\u65c5\\\\u5c45\\\\u6587\\\\u65c5 \\\\u897f\\\\u9580\\\\u9a5b\\\\u7ad9_\\\\u5546\\\\u52d9\\\\u65c5\\\\u9928\\\\u517c\\\\u8077\\\\u665a\\\\u73ed\\\\u623f\\\\u52d9\\\\u4eba\\\\u54e1\",\"custNameRaw\":\"\\\\u4e16\\\\u65b9\\\\u6587\\\\u65c5\\\\u80a1\\\\u4efd\\\\u6709\\\\u9650\\\\u516c\\\\u53f8\",\"lon\":\"121.5070708\",\"lat\":\"25.0461467\"},{\"jobNo\":\"11544738\",\"jobName\":\"\\\\u3010\\\\u517c\\\\u8077\\\\u63a5\\\\u6848\\\\u3011\\\\u65e5\\\\u6587\\\\u6f2b\\\\u756b\\\\u7ffb\\\\u8b6f\",\"description\":\"1. \\\\u9019\\\\u662f\\\\u4e00\\\\u500b\\\\u53ef\\\\u4ee5\\\\u770b\\\\u6f2b\\\\u756b\\\\u9084\\\\u6709\\\\u9322\\\\u53ef\\\\u4ee5\\\\u9818\\\\u7684\\\\u5916\\\\u5305\\\\u517c\\\\u8077 2. \\\\u4e0d\\\\u7528\\\\u5916\\\\u51fa\\\\u53ea\\\\u8981\\\\u6709\\\\u7db2\\\\u8def\\\\u5c31\\\\u53ef\\\\u4ee5...\",\"optionEdu\":\"\\\\u5c08\\\\u79d1\",\"periodDesc\":\"\\\\u7d93\\\\u6b77\\\\u4e0d\\\\u62d8\",\"custNo\":\"130000000052446\",\"custName\":\"\\\\u5df4\\\\u6bd4\\\\u6a02\\\\u8996\\\\u7db2\\\\u8def\\\\u79d1\\\\u6280\\\\u80a1\\\\u4efd\\\\u6709\\\\u9650\\\\u516c\\\\u53f8\",\"salaryDesc\":\"\\\\u5f85\\\\u9047\\\\u9762\\\\u8b70\",\"appearDateDesc\":\"12\\\\/16\",\"isSave\":\"0\",\"link\":{\"job\":\"\\\\/\\\\/www.104.com.tw\\\\/job\\\\/6vfz6?jobsource=parttimesector\",\"cust\":\"\\\\/\\\\/www.104.com.tw\\\\/company\\\\/1a2x6bj3ry?jobsource=parttimesector\"},\"jobNameRaw\":\"\\\\u3010\\\\u517c\\\\u8077\\\\u63a5\\\\u6848\\\\u3011\\\\u65e5\\\\u6587\\\\u6f2b\\\\u756b\\\\u7ffb\\\\u8b6f\",\"custNameRaw\":\"\\\\u5df4\\\\u6bd4\\\\u6a02\\\\u8996\\\\u7db2\\\\u8def\\\\u79d1\\\\u6280\\\\u80a1\\\\u4efd\\\\u6709\\\\u9650\\\\u516c\\\\u53f8\",\"lon\":\"121.5439638\",\"lat\":\"25.0395041\"},{\"jobNo\":\"11401608\",\"jobName\":\"(Intern) Operation Assistant\",\"description\":\"The Operations Assistant will support t...\",\"optionEdu\":\"\\\\u9ad8\\\\u4e2d\",\"periodDesc\":\"\\\\u7d93\\\\u6b77\\\\u4e0d\\\\u62d8\",\"custNo\":\"130000000042746\",\"custName\":\"\\\\u6c9b\\\\u661f\\\\u4e92\\\\u52d5\\\\u79d1\\\\u6280\\\\u80a1\\\\u4efd\\\\u6709\\\\u9650\\\\u516c\\\\u53f8\",\"salaryDesc\":\"\\\\u6642\\\\u85aa160\\\\u5143\",\"appearDateDesc\":\"12\\\\/17\",\"isSave\":\"0\",\"link\":{\"job\":\"\\\\/\\\\/www.104.com.tw\\\\/job\\\\/6sdjc?jobsource=parttimesector\",\"cust\":\"\\\\/\\\\/www.104.com.tw\\\\/company\\\\/1a2x6biwai?jobsource=parttimesector\"},\"jobNameRaw\":\"(Intern) Operation Assistant\",\"custNameRaw\":\"\\\\u6c9b\\\\u661f\\\\u4e92\\\\u52d5\\\\u79d1\\\\u6280\\\\u80a1\\\\u4efd\\\\u6709\\\\u9650\\\\u516c\\\\u53f8\",\"lon\":\"121.5688695\",\"lat\":\"25.0346295\"},{\"jobNo\":\"11324827\",\"jobName\":\"\\\\u6c38\\\\u548c\\\\u5e97PT\\\\u651d\\\\u5f71\\\\u52a9\\\\u7406\",\"description\":\"\\\\u5de5\\\\u4f5c\\\\u5167\\\\u5bb9\\\\uff1a  1.\\\\u5354\\\\u52a9\\\\u651d\\\\u5f71\\\\u5e2b\\\\u62cd\\\\u651d\\\\u5100\\\\u5f0f\\\\u7d00\\\\u9304\\\\u3001\\\\u5beb\\\\u771f\\\\u3001\\\\u5168\\\\u5bb6\\\\u798f\\\\u3002 2.\\\\u63a5\\\\u5f85\\\\u5ba2\\\\u4eba 3.\\\\u5f71...\",\"optionEdu\":\"\\\\u5b78\\\\u6b77\\\\u4e0d\\\\u62d8\",\"periodDesc\":\"\\\\u7d93\\\\u6b77\\\\u4e0d\\\\u62d8\",\"custNo\":\"130000000102229\",\"custName\":\"\\\\u5c0f\\\\u6751\\\\u65e5\\\\u548c\\\\u6709\\\\u9650\\\\u516c\\\\u53f8\",\"salaryDesc\":\"\\\\u6642\\\\u85aa160~175\\\\u5143\",\"appearDateDesc\":\"12\\\\/08\",\"isSave\":\"0\",\"link\":{\"job\":\"\\\\/\\\\/www.104.com.tw\\\\/job\\\\/6qqaj?jobsource=parttimesector\",\"cust\":\"\\\\/\\\\/www.104.com.tw\\\\/company\\\\/1a2x6bk66t?jobsource=parttimesector\"},\"jobNameRaw\":\"\\\\u6c38\\\\u548c\\\\u5e97PT\\\\u651d\\\\u5f71\\\\u52a9\\\\u7406\",\"custNameRaw\":\"\\\\u5c0f\\\\u6751\\\\u65e5\\\\u548c\\\\u6709\\\\u9650\\\\u516c\\\\u53f8\",\"lon\":\"121.514644\",\"lat\":\"24.9985798\"},{\"jobNo\":\"12124300\",\"jobName\":\"\\\\u8cc7\\\\u6599\\\\u6a19\\\\u7c64\\\\u5de5\\\\u8b80\\\\u751f\",\"description\":\"\\\\u3010\\\\u5de5\\\\u4f5c\\\\u5167\\\\u5bb9\\\\u3011 1. \\\\u95b1\\\\u8b80\\\\u7167\\\\u7247\\\\u53ca\\\\u5f71\\\\u7247 2. \\\\u9a57\\\\u8b49\\\\u6307\\\\u5b9a\\\\u5167\\\\u5bb9  \\\\u3010\\\\u6392\\\\u73ed\\\\u65b9\\\\u5f0f\\\\u3011 \\\\u5468\\\\u4e00\\\\u5230...\",\"optionEdu\":\"\\\\u9ad8\\\\u4e2d\",\"periodDesc\":\"\\\\u7d93\\\\u6b77\\\\u4e0d\\\\u62d8\",\"custNo\":\"130000000136824\",\"custName\":\"\\\\u85a9\\\\u6469\\\\u4e9e\\\\u5546\\\\u52d5\\\\u898b\\\\u79d1\\\\u6280\\\\u6709\\\\u9650\\\\u516c\\\\u53f8\\\\u53f0\\\\u7063\\\\u5206\\\\u516c\\\\u53f8\",\"salaryDesc\":\"\\\\u6642\\\\u85aa160~200\\\\u5143\",\"appearDateDesc\":\"11\\\\/10\",\"isSave\":\"0\",\"link\":{\"job\":\"\\\\/\\\\/www.104.com.tw\\\\/job\\\\/77v64?jobsource=parttimesector\",\"cust\":\"\\\\/\\\\/www.104.com.tw\\\\/company\\\\/1a2x6bkwvs?jobsource=parttimesector\"},\"jobNameRaw\":\"\\\\u8cc7\\\\u6599\\\\u6a19\\\\u7c64\\\\u5de5\\\\u8b80\\\\u751f\",\"custNameRaw\":\"\\\\u85a9\\\\u6469\\\\u4e9e\\\\u5546\\\\u52d5\\\\u898b\\\\u79d1\\\\u6280\\\\u6709\\\\u9650\\\\u516c\\\\u53f8\\\\u53f0\\\\u7063\\\\u5206\\\\u516c\\\\u53f8\",\"lon\":\"121.562324\",\"lat\":\"25.0332591\"},{\"jobNo\":\"11983430\",\"jobName\":\"\\\\u5ee3\\\\u544a\\\\u5206\\\\u6790\\\\u5be6\\\\u7fd2\\\\u751f (\\\\u8868\\\\u73fe\\\\u512a\\\\u7570\\\\u8005\\\\uff0c\\\\u6709\\\\u6a5f\\\\u6703\\\\u8f49\\\\u6b63\\\\uff09\",\"description\":\"\\\\u6211\\\\u5011\\\\u662f\\\\u6f6e\\\\u7db2\\\\u79d1\\\\u6280\\\\uff0c\\\\u5c08\\\\u6ce8\\\\u65bc AI \\\\u4eba\\\\u5de5\\\\u667a\\\\u6167\\\\u53ca\\\\u5927\\\\u6578\\\\u64da\\\\u61c9\\\\u7528\\\\u7684\\\\u884c\\\\u92b7\\\\u6280\\\\u8853\\\\u5718\\\\u968a\\\\uff0c\\\\u6210\\\\u7acb\\\\u65bc201...\",\"optionEdu\":\"\\\\u5c08\\\\u79d1\",\"periodDesc\":\"\\\\u7d93\\\\u6b77\\\\u4e0d\\\\u62d8\",\"custNo\":\"25128095000\",\"custName\":\"\\\\u6f6e\\\\u7db2\\\\u79d1\\\\u6280\\\\u80a1\\\\u4efd\\\\u6709\\\\u9650\\\\u516c\\\\u53f8\",\"salaryDesc\":\"\\\\u6642\\\\u85aa160~168\\\\u5143\",\"appearDateDesc\":\"12\\\\/15\",\"isSave\":\"0\",\"link\":{\"job\":\"\\\\/\\\\/www.104.com.tw\\\\/job\\\\/74uh2?jobsource=parttimesector\",\"cust\":\"\\\\/\\\\/www.104.com.tw\\\\/company\\\\/bjkma6w?jobsource=parttimesector\"},\"jobNameRaw\":\"\\\\u5ee3\\\\u544a\\\\u5206\\\\u6790\\\\u5be6\\\\u7fd2\\\\u751f (\\\\u8868\\\\u73fe\\\\u512a\\\\u7570\\\\u8005\\\\uff0c\\\\u6709\\\\u6a5f\\\\u6703\\\\u8f49\\\\u6b63\\\\uff09\",\"custNameRaw\":\"\\\\u6f6e\\\\u7db2\\\\u79d1\\\\u6280\\\\u80a1\\\\u4efd\\\\u6709\\\\u9650\\\\u516c\\\\u53f8\",\"lon\":\"121.5075471\",\"lat\":\"25.0337902\"},{\"jobNo\":\"12517663\",\"jobName\":\"\\\\u6ac3\\\\u6aaf\\\\u517c\\\\u8077\",\"description\":\"1. \\\\u8ca0\\\\u8cac\\\\u4e00\\\\u822c\\\\u6587\\\\u66f8\\\\u8cc7\\\\u6599\\\\u8655\\\\u7406\\\\u5de5\\\\u4f5c\\\\u3002 2. \\\\u8a0a\\\\u606f\\\\u56de\\\\u8986 3. \\\\u73fe\\\\u5834\\\\u5354\\\\u52a9\\\\u670d\\\\u52d9 4. \\\\u74b0...\",\"optionEdu\":\"\\\\u5927\\\\u5b78\",\"periodDesc\":\"\\\\u7d93\\\\u6b77\\\\u4e0d\\\\u62d8\",\"custNo\":\"130000000177665\",\"custName\":\"\\\\u61f6\\\\u5973\\\\u4eba\\\\u7f8e\\\\u5bb9\\\\u5de5\\\\u4f5c\\\\u5ba4\",\"salaryDesc\":\"\\\\u6642\\\\u85aa160~168\\\\u5143\",\"appearDateDesc\":\"12\\\\/20\",\"isSave\":\"0\",\"link\":{\"job\":\"\\\\/\\\\/www.104.com.tw\\\\/job\\\\/7gaov?jobsource=parttimesector\",\"cust\":\"\\\\/\\\\/www.104.com.tw\\\\/company\\\\/1a2x6blse9?jobsource=parttimesector\"},\"jobNameRaw\":\"\\\\u6ac3\\\\u6aaf\\\\u517c\\\\u8077\",\"custNameRaw\":\"\\\\u61f6\\\\u5973\\\\u4eba\\\\u7f8e\\\\u5bb9\\\\u5de5\\\\u4f5c\\\\u5ba4\",\"lon\":\"121.5289848\",\"lat\":\"25.0410635\"},{\"jobNo\":\"11394522\",\"jobName\":\"cocoBrownies\\\\u53ef\\\\u53ef\\\\u5e03\\\\u6717\\\\u5c3c\\\\u751c\\\\u9ede\\\\u5c08\\\\u8ce3\\\\u5e97 \\\\u9580\\\\u5e02\\\\u517c\\\\u8077\\\\u4eba\\\\u54e1\",\"description\":\"\\\\u5de5\\\\u4f5c\\\\u7d93\\\\u9a57\\\\u81f3\\\\u5c11\\\\u9700\\\\u8981\\\\u6709\\\\u751c\\\\u9ede\\\\u88fd\\\\u4f5c\\\\u77e5\\\\u8b58\\\\u6216\\\\u9910\\\\u98f2\\\\u76f8\\\\u95dc\\\\u5de5\\\\u4f5c\\\\u7d93\\\\u9a57\\\\u8005  **\\\\u5de5\\\\u4f5c\\\\u5167\\\\u5bb9 1.\\\\u4ecb\\\\u7d39\\\\u53ca...\",\"optionEdu\":\"\\\\u5c08\\\\u79d1\",\"periodDesc\":\"1\\\\u5e74\\\\u4ee5\\\\u4e0a\",\"custNo\":\"130000000143233\",\"custName\":\"coco Brownies_\\\\u53ef\\\\u53ef\\\\u51f1\\\\u6d1b\\\\u6709\\\\u9650\\\\u516c\\\\u53f8\",\"salaryDesc\":\"\\\\u6642\\\\u85aa170\\\\u5143\",\"appearDateDesc\":\"12\\\\/17\",\"isSave\":\"0\",\"link\":{\"job\":\"\\\\/\\\\/www.104.com.tw\\\\/job\\\\/6s82i?jobsource=parttimesector\",\"cust\":\"\\\\/\\\\/www.104.com.tw\\\\/company\\\\/1a2x6bl1tt?jobsource=parttimesector\"},\"jobNameRaw\":\"cocoBrownies\\\\u53ef\\\\u53ef\\\\u5e03\\\\u6717\\\\u5c3c\\\\u751c\\\\u9ede\\\\u5c08\\\\u8ce3\\\\u5e97 \\\\u9580\\\\u5e02\\\\u517c\\\\u8077\\\\u4eba\\\\u54e1\",\"custNameRaw\":\"coco Brownies_\\\\u53ef\\\\u53ef\\\\u51f1\\\\u6d1b\\\\u6709\\\\u9650\\\\u516c\\\\u53f8\",\"lon\":\"121.5326843\",\"lat\":\"25.0179359\"},{\"jobNo\":\"10984313\",\"jobName\":\"\\\\u3010\\\\u53f0\\\\u5317\\\\u5e02 \\\\u6771\\\\u5357\\\\u4e9e\\\\u3011\\\\u79c0\\\\u6cf0\\\\u5f71\\\\u57ce \\\\u8a08\\\\u6642\\\\u670d\\\\u52d9\\\\u4eba\\\\u54e1\",\"description\":\"1.\\\\u96fb\\\\u5f71\\\\u7968\\\\u5238\\\\u8ca9\\\\u552e\\\\u53ca\\\\u5957\\\\u9910\\\\u4fc3\\\\u92b7 2.\\\\u71b1\\\\u98df\\\\u53ca\\\\u98f2\\\\u54c1\\\\u88fd\\\\u4f5c\\\\u8207\\\\u8ca9\\\\u552e 3.\\\\u73fe\\\\u5834\\\\u52d5\\\\u7dda\\\\u6307\\\\u5f15\\\\u53ca\\\\u74b0\\\\u5883\\\\u7dad...\",\"optionEdu\":\"\\\\u9ad8\\\\u4e2d\",\"periodDesc\":\"\\\\u7d93\\\\u6b77\\\\u4e0d\\\\u62d8\",\"custNo\":\"70377703000\",\"custName\":\"\\\\u79c0\\\\u6cf0\\\\u96c6\\\\u5718_\\\\u6d3e\\\\u5e1d\\\\u5a1c\\\\u5be6\\\\u696d\\\\u80a1\\\\u4efd\\\\u6709\\\\u9650\\\\u516c\\\\u53f8\",\"salaryDesc\":\"\\\\u6642\\\\u85aa168\\\\u5143\",\"appearDateDesc\":\"12\\\\/15\",\"isSave\":\"0\",\"link\":{\"job\":\"\\\\/\\\\/www.104.com.tw\\\\/job\\\\/6jfjt?jobsource=parttimesector\",\"cust\":\"\\\\/\\\\/www.104.com.tw\\\\/company\\\\/wbx2f6g?jobsource=parttimesector\"},\"jobNameRaw\":\"\\\\u3010\\\\u53f0\\\\u5317\\\\u5e02 \\\\u6771\\\\u5357\\\\u4e9e\\\\u3011\\\\u79c0\\\\u6cf0\\\\u5f71\\\\u57ce \\\\u8a08\\\\u6642\\\\u670d\\\\u52d9\\\\u4eba\\\\u54e1\",\"custNameRaw\":\"\\\\u79c0\\\\u6cf0\\\\u96c6\\\\u5718_\\\\u6d3e\\\\u5e1d\\\\u5a1c\\\\u5be6\\\\u696d\\\\u80a1\\\\u4efd\\\\u6709\\\\u9650\\\\u516c\\\\u53f8\",\"lon\":\"121.535457\",\"lat\":\"25.0127214\"},{\"jobNo\":\"11683527\",\"jobName\":\"\\\\u65e9\\\\u73ed\\\\u8a08\\\\u6642\\\\u4eba\\\\u54e1\\\\uff08\\\\u62c9\\\\u9eb5\\\\u5e97\\\\u5e97\\\\u54e1\\\\uff09\",\"description\":\"1.\\\\u8ca0\\\\u8cac\\\\u8dd1\\\\u55ae\\\\u3001\\\\u64fa\\\\u76e4\\\\u3001\\\\u9001\\\\u9910\\\\u53ca\\\\u806f\\\\u7e6b\\\\u5167\\\\u5916\\\\u5834\\\\u4e4b\\\\u5de5\\\\u4f5c\\\\u3002 2.\\\\u8ca0\\\\u8cac\\\\u5ba2\\\\u4eba\\\\u5e36\\\\u4f4d\\\\u3001\\\\u5012\\\\u6c34\\\\u3001\\\\u9ede\\\\u9910\\\\u7b49\\\\u5de5...\",\"optionEdu\":\"\\\\u5b78\\\\u6b77\\\\u4e0d\\\\u62d8\",\"periodDesc\":\"\\\\u7d93\\\\u6b77\\\\u4e0d\\\\u62d8\",\"custNo\":\"130000000151290\",\"custName\":\"\\\\u6edd\\\\u79be\\\\u88fd\\\\u9eb5\\\\u6240\\\\u6c38\\\\u548c\\\\u5b89\\\\u6a02\\\\u5e97_\\\\u58f9\\\\u96f6\\\\u8086\\\\u67d2\\\\u5546\\\\u884c\",\"salaryDesc\":\"\\\\u6642\\\\u85aa160~200\\\\u5143\",\"appearDateDesc\":\"12\\\\/16\",\"isSave\":\"0\",\"link\":{\"job\":\"\\\\/\\\\/www.104.com.tw\\\\/job\\\\/6yf2f?jobsource=parttimesector\",\"cust\":\"\\\\/\\\\/www.104.com.tw\\\\/company\\\\/1a2x6bl81m?jobsource=parttimesector\"},\"jobNameRaw\":\"\\\\u65e9\\\\u73ed\\\\u8a08\\\\u6642\\\\u4eba\\\\u54e1\\\\uff08\\\\u62c9\\\\u9eb5\\\\u5e97\\\\u5e97\\\\u54e1\\\\uff09\",\"custNameRaw\":\"\\\\u6edd\\\\u79be\\\\u88fd\\\\u9eb5\\\\u6240\\\\u6c38\\\\u548c\\\\u5b89\\\\u6a02\\\\u5e97_\\\\u58f9\\\\u96f6\\\\u8086\\\\u67d2\\\\u5546\\\\u884c\",\"lon\":\"121.5155274\",\"lat\":\"25.001177\"},{\"jobNo\":\"12034897\",\"jobName\":\"\\\\u77ed\\\\u671f\\\\u5ba2\\\\u670d\\\\u4eba\\\\u54e1(\\\\u5927\\\\u7d04\\\\u5f9e1\\\\/10~1\\\\/28\\\\u6b62)\",\"description\":\"\\\\u4e00\\\\u3001\\\\u4e3b\\\\u8981\\\\u5de5\\\\u4f5c\\\\u5167\\\\u5bb9\\\\uff1a 1\\\\u3001\\\\u5354\\\\u52a9\\\\u8655\\\\u7406\\\\u8a02\\\\u55ae\\\\u8ddf\\\\u5206\\\\u4ef6\\\\u4ee5\\\\u5168\\\\u7701\\\\u5927\\\\u5b97\\\\u4ef6\\\\u3001\\\\u554f\\\\u984c\\\\u4ef6\\\\u70ba\\\\u4e3b 2\\\\u3001\\\\u7522\\\\u751f\\\\u554f...\",\"optionEdu\":\"\\\\u9ad8\\\\u4e2d\",\"periodDesc\":\"\\\\u7d93\\\\u6b77\\\\u4e0d\\\\u62d8\",\"custNo\":\"130000000062554\",\"custName\":\"\\\\u5e6b\\\\u4f60\\\\u9001\\\\u80a1\\\\u4efd\\\\u6709\\\\u9650\\\\u516c\\\\u53f8\",\"salaryDesc\":\"\\\\u6642\\\\u85aa168\\\\u5143\",\"appearDateDesc\":\"12\\\\/16\",\"isSave\":\"0\",\"link\":{\"job\":\"\\\\/\\\\/www.104.com.tw\\\\/job\\\\/75y6p?jobsource=parttimesector\",\"cust\":\"\\\\/\\\\/www.104.com.tw\\\\/company\\\\/1a2x6bjbkq?jobsource=parttimesector\"},\"jobNameRaw\":\"\\\\u77ed\\\\u671f\\\\u5ba2\\\\u670d\\\\u4eba\\\\u54e1(\\\\u5927\\\\u7d04\\\\u5f9e1\\\\/10~1\\\\/28\\\\u6b62)\",\"custNameRaw\":\"\\\\u5e6b\\\\u4f60\\\\u9001\\\\u80a1\\\\u4efd\\\\u6709\\\\u9650\\\\u516c\\\\u53f8\",\"lon\":\"121.5406182\",\"lat\":\"25.049303\"},{\"jobNo\":\"12435231\",\"jobName\":\"\\\\u3010PREDIRE Paris \\\\u00b7\\\\u5fa9\\\\u8208SOGO \\\\u5546 \\\\u5708\\\\u3011Beauty Consultant \\\\u7f8e \\\\u5bb9 \\\\u9867 \\\\u554f\",\"description\":\"What You Need to Have? \\\\u4f60(\\\\u59b3) \\\\u9700 \\\\u8981 \\\\u5177 \\\\u5099 \\\\u4ec0 \\\\u9ebc...\",\"optionEdu\":\"\\\\u5b78\\\\u6b77\\\\u4e0d\\\\u62d8\",\"periodDesc\":\"\\\\u7d93\\\\u6b77\\\\u4e0d\\\\u62d8\",\"custNo\":\"130000000141238\",\"custName\":\"\\\\u5916\\\\u5546_\\\\u767e\\\\u512a\\\\u6a02\\\\u514b\\\\u65af\\\\u6709\\\\u9650\\\\u516c\\\\u53f8\",\"salaryDesc\":\"\\\\u6642\\\\u85aa200\\\\u5143\\\\u4ee5\\\\u4e0a\",\"appearDateDesc\":\"12\\\\/20\",\"isSave\":\"0\",\"link\":{\"job\":\"\\\\/\\\\/www.104.com.tw\\\\/job\\\\/7ej33?jobsource=parttimesector\",\"cust\":\"\\\\/\\\\/www.104.com.tw\\\\/company\\\\/1a2x6bl0ae?jobsource=parttimesector\"},\"jobNameRaw\":\"\\\\u3010PREDIRE Paris \\\\u00b7\\\\u5fa9\\\\u8208SOGO \\\\u5546 \\\\u5708\\\\u3011Beauty Consultant \\\\u7f8e \\\\u5bb9 \\\\u9867 \\\\u554f\",\"custNameRaw\":\"\\\\u5916\\\\u5546_\\\\u767e\\\\u512a\\\\u6a02\\\\u514b\\\\u65af\\\\u6709\\\\u9650\\\\u516c\\\\u53f8\",\"lon\":\"121.544594\",\"lat\":\"25.042178\"},{\"jobNo\":\"11856983\",\"jobName\":\"\\\\u65c5\\\\u9928\\\\u6ac3\\\\u53f0\\\\u517c\\\\u8077\",\"description\":\"\\\\u500b\\\\u6027\\\\u9700\\\\u6c42\\\\uff1a\\\\u7a4d\\\\u6975\\\\u4e3b\\\\u52d5\\\\uff0c\\\\u505a\\\\u4e8b\\\\u7d30\\\\u5fc3\\\\u6709\\\\u8cac\\\\u4efb\\\\u611f,\\\\u6d3b\\\\u6f51\\\\u5916\\\\u5411 1. \\\\u9808\\\\u914d\\\\u5408\\\\u6392\\\\u73ed 2. \\\\u65c5\\\\u9928\\\\u696d...\",\"optionEdu\":\"\\\\u5c08\\\\u79d1\",\"periodDesc\":\"\\\\u7d93\\\\u6b77\\\\u4e0d\\\\u62d8\",\"custNo\":\"130000000130238\",\"custName\":\"Fun Inn Taipei \\\\u760b\\\\u53f0\\\\u5317\\\\u9752\\\\u65c5_\\\\u65b9\\\\u610f\\\\u80a1\\\\u4efd\\\\u6709\\\\u9650\\\\u516c\\\\u53f8\",\"salaryDesc\":\"\\\\u6642\\\\u85aa160\\\\u5143\",\"appearDateDesc\":\"12\\\\/14\",\"isSave\":\"0\",\"link\":{\"job\":\"\\\\/\\\\/www.104.com.tw\\\\/job\\\\/724wn?jobsource=parttimesector\",\"cust\":\"\\\\/\\\\/www.104.com.tw\\\\/company\\\\/1a2x6bkrsu?jobsource=parttimesector\"},\"jobNameRaw\":\"\\\\u65c5\\\\u9928\\\\u6ac3\\\\u53f0\\\\u517c\\\\u8077\",\"custNameRaw\":\"Fun Inn Taipei \\\\u760b\\\\u53f0\\\\u5317\\\\u9752\\\\u65c5_\\\\u65b9\\\\u610f\\\\u80a1\\\\u4efd\\\\u6709\\\\u9650\\\\u516c\\\\u53f8\",\"lon\":\"121.510765\",\"lat\":\"25.045725\"},{\"jobNo\":\"12501503\",\"jobName\":\"\\\\u884c\\\\u92b7\\\\u90e8\\\\u9580\\\\u5be6\\\\u7fd2\\\\u751f \\\\/ Marketing Intern (SEO)\",\"description\":\"1. \\\\u90e8\\\\u843d\\\\u683c\\\\u6587\\\\u7ae0\\\\u3001\\\\u7ad9\\\\u4e0a\\\\u6d3b\\\\u52d5\\\\u6587\\\\u6848\\\\u64b0\\\\u5beb 2. \\\\u6210\\\\u6548\\\\u6578\\\\u64da\\\\u6574\\\\u7406\\\\u8207\\\\u5831\\\\u8868\\\\u7dad\\\\u8b77 3. \\\\u65b0\\\\u54c1\\\\u8cc7...\",\"optionEdu\":\"\\\\u5927\\\\u5b78\",\"periodDesc\":\"\\\\u7d93\\\\u6b77\\\\u4e0d\\\\u62d8\",\"custNo\":\"130000000157678\",\"custName\":\"\\\\u65b0\\\\u52a0\\\\u5761\\\\u5546\\\\u8766\\\\u76ae\\\\u5a1b\\\\u6a02\\\\u96fb\\\\u5546\\\\u6709\\\\u9650\\\\u516c\\\\u53f8\\\\u53f0\\\\u7063\\\\u5206\\\\u516c\\\\u53f8\",\"salaryDesc\":\"\\\\u6642\\\\u85aa170\\\\u5143\",\"appearDateDesc\":\"12\\\\/15\",\"isSave\":\"0\",\"link\":{\"job\":\"\\\\/\\\\/www.104.com.tw\\\\/job\\\\/7fy7z?jobsource=parttimesector\",\"cust\":\"\\\\/\\\\/www.104.com.tw\\\\/company\\\\/1a2x6blcz2?jobsource=parttimesector\"},\"jobNameRaw\":\"\\\\u884c\\\\u92b7\\\\u90e8\\\\u9580\\\\u5be6\\\\u7fd2\\\\u751f \\\\/ Marketing Intern (SEO)\",\"custNameRaw\":\"\\\\u65b0\\\\u52a0\\\\u5761\\\\u5546\\\\u8766\\\\u76ae\\\\u5a1b\\\\u6a02\\\\u96fb\\\\u5546\\\\u6709\\\\u9650\\\\u516c\\\\u53f8\\\\u53f0\\\\u7063\\\\u5206\\\\u516c\\\\u53f8\",\"lon\":\"121.5720055\",\"lat\":\"25.0409201\"},{\"jobNo\":\"12253545\",\"jobName\":\"Shopee APP - Paid Ads Team \\\\u8766\\\\u76ae\\\\u5ee3\\\\u544a\\\\u7522\\\\u54c1\\\\u7ba1\\\\u7406\\\\u5be6\\\\u7fd2\\\\u751f\",\"description\":\"1. \\\\u5354\\\\u52a9\\\\u8766\\\\u76ae\\\\u7ad9\\\\u5167\\\\u5ee3\\\\u544a\\\\u7522\\\\u54c1\\\\u63a8\\\\u5ee3 (\\\\u542b: \\\\u7522\\\\u54c1\\\\u4e0a\\\\u7dda\\\\u5ba3\\\\u50b3\\\\u3001\\\\u5ee3\\\\u544a\\\\u7522\\\\u54c1\\\\u7af6\\\\u54c1\\\\u7814\\\\u7a76\\\\u3001\\\\u5e02\\\\u5834\\\\u8abf...\",\"optionEdu\":\"\\\\u5927\\\\u5b78\",\"periodDesc\":\"\\\\u7d93\\\\u6b77\\\\u4e0d\\\\u62d8\",\"custNo\":\"130000000157678\",\"custName\":\"\\\\u65b0\\\\u52a0\\\\u5761\\\\u5546\\\\u8766\\\\u76ae\\\\u5a1b\\\\u6a02\\\\u96fb\\\\u5546\\\\u6709\\\\u9650\\\\u516c\\\\u53f8\\\\u53f0\\\\u7063\\\\u5206\\\\u516c\\\\u53f8\",\"salaryDesc\":\"\\\\u6642\\\\u85aa170\\\\u5143\",\"appearDateDesc\":\"12\\\\/16\",\"isSave\":\"0\",\"link\":{\"job\":\"\\\\/\\\\/www.104.com.tw\\\\/job\\\\/7amw9?jobsource=parttimesector\",\"cust\":\"\\\\/\\\\/www.104.com.tw\\\\/company\\\\/1a2x6blcz2?jobsource=parttimesector\"},\"jobNameRaw\":\"Shopee APP - Paid Ads Team \\\\u8766\\\\u76ae\\\\u5ee3\\\\u544a\\\\u7522\\\\u54c1\\\\u7ba1\\\\u7406\\\\u5be6\\\\u7fd2\\\\u751f\",\"custNameRaw\":\"\\\\u65b0\\\\u52a0\\\\u5761\\\\u5546\\\\u8766\\\\u76ae\\\\u5a1b\\\\u6a02\\\\u96fb\\\\u5546\\\\u6709\\\\u9650\\\\u516c\\\\u53f8\\\\u53f0\\\\u7063\\\\u5206\\\\u516c\\\\u53f8\",\"lon\":\"121.5614467\",\"lat\":\"25.0445662\"},{\"jobNo\":\"12485149\",\"jobName\":\"\\\\u300cSanka \\\\u53c2\\\\u52a0\\\\u300d\\\\u6642\\\\u5c1a\\\\u9054\\\\u4eba\",\"description\":\"Sanka\\\\u2014\\\\u53f0\\\\u7063\\\\u9996\\\\u5275\\\\u300c\\\\u805a\\\\u6703\\\\u540c\\\\u6a02\\\\u5a92\\\\u5408\\\\u300d\\\\u5e73\\\\u53f0 \\\\u5f37\\\\u529b\\\\u52df\\\\u96c6\\\\u540c\\\\u6a02\\\\u9054\\\\u4eba\\\\uff01  \\\\u611b\\\\u901b\\\\u8857- \\\\u5f9e\\\\u5730...\",\"optionEdu\":\"\\\\u5b78\\\\u6b77\\\\u4e0d\\\\u62d8\",\"periodDesc\":\"\\\\u7d93\\\\u6b77\\\\u4e0d\\\\u62d8\",\"custNo\":\"130000000119929\",\"custName\":\"\\\\u70cf\\\\u6258\\\\u90a6\\\\u570b\\\\u969b\\\\u6709\\\\u9650\\\\u516c\\\\u53f8\",\"salaryDesc\":\"\\\\u6642\\\\u85aa1,200~9,000\\\\u5143\",\"appearDateDesc\":\"12\\\\/14\",\"isSave\":\"0\",\"link\":{\"job\":\"\\\\/\\\\/www.104.com.tw\\\\/job\\\\/7fllp?jobsource=parttimesector\",\"cust\":\"\\\\/\\\\/www.104.com.tw\\\\/company\\\\/1a2x6bkjuh?jobsource=parttimesector\"},\"jobNameRaw\":\"\\\\u300cSanka \\\\u53c2\\\\u52a0\\\\u300d\\\\u6642\\\\u5c1a\\\\u9054\\\\u4eba\",\"custNameRaw\":\"\\\\u70cf\\\\u6258\\\\u90a6\\\\u570b\\\\u969b\\\\u6709\\\\u9650\\\\u516c\\\\u53f8\",\"lon\":\"121.5720055\",\"lat\":\"25.0409201\"},{\"jobNo\":\"10951360\",\"jobName\":\"\\\\u9577\\\\u671f\\\\u7814\\\\u7a76\\\\u52a9\\\\u7406(\\\\u5de5\\\\u8b80\\\\u751f)\",\"description\":\"1.\\\\u5354\\\\u52a9\\\\u5c08\\\\u6848\\\\u8a08\\\\u756b\\\\u7ba1\\\\u7406\\\\u670d\\\\u52d9\\\\u884c\\\\u653f\\\\u4f5c\\\\u696d\\\\/\\\\u6703\\\\u8b70\\\\u8fa6\\\\u7406\\\\/\\\\u806f\\\\u7d61\\\\/\\\\u90f5\\\\u5bc4\\\\u8cc7\\\\u6599\\\\/\\\\u9001\\\\u516c\\\\u6587 2\\\\u5de5\\\\u4f5c\\\\u7d30\\\\u5fc3...\",\"optionEdu\":\"\\\\u5c08\\\\u79d1\",\"periodDesc\":\"\\\\u7d93\\\\u6b77\\\\u4e0d\\\\u62d8\",\"custNo\":\"83912382000\",\"custName\":\"\\\\u4e2d\\\\u83ef\\\\u6c11\\\\u570b\\\\u7522\\\\u696d\\\\u79d1\\\\u6280\\\\u767c\\\\u5c55\\\\u5354\\\\u9032\\\\u6703\",\"salaryDesc\":\"\\\\u65e5\\\\u85aa1,300\\\\u5143\",\"appearDateDesc\":\"12\\\\/15\",\"isSave\":\"0\",\"link\":{\"job\":\"\\\\/\\\\/www.104.com.tw\\\\/job\\\\/6iq4g?jobsource=parttimesector\",\"cust\":\"\\\\/\\\\/www.104.com.tw\\\\/company\\\\/12jr9kc0?jobsource=parttimesector\"},\"jobNameRaw\":\"\\\\u9577\\\\u671f\\\\u7814\\\\u7a76\\\\u52a9\\\\u7406(\\\\u5de5\\\\u8b80\\\\u751f)\",\"custNameRaw\":\"\\\\u4e2d\\\\u83ef\\\\u6c11\\\\u570b\\\\u7522\\\\u696d\\\\u79d1\\\\u6280\\\\u767c\\\\u5c55\\\\u5354\\\\u9032\\\\u6703\",\"lon\":\"121.5420748\",\"lat\":\"25.0336707\"},{\"jobNo\":\"12536641\",\"jobName\":\"\\\\u6155\\\\u590f\\\\u7279\\\\u5c55\\\\u77ed\\\\u671f\\\\u5de5\\\\u8b80\",\"description\":\"\\\\u300c\\\\u6c38\\\\u6046\\\\u6155\\\\u590f\\\\u2014\\\\u7dda\\\\u689d\\\\u7684\\\\u9b54\\\\u8853\\\\u300d\\\\u7279\\\\u5c55\\\\u5de5\\\\u4f5c (\\\\u4e0a\\\\u73ed\\\\u65e5\\\\u671f: 2021\\\\/12\\\\/14 - 20...\",\"optionEdu\":\"\\\\u5c08\\\\u79d1\",\"periodDesc\":\"\\\\u7d93\\\\u6b77\\\\u4e0d\\\\u62d8\",\"custNo\":\"130000000162473\",\"custName\":\"\\\\u5149\\\\u9ede\\\\u5de5\\\\u574a\\\\u6709\\\\u9650\\\\u516c\\\\u53f8\",\"salaryDesc\":\"\\\\u6708\\\\u85aa26,000~30,000\\\\u5143\",\"appearDateDesc\":\"12\\\\/18\",\"isSave\":\"0\",\"link\":{\"job\":\"\\\\/\\\\/www.104.com.tw\\\\/job\\\\/7gpc1?jobsource=parttimesector\",\"cust\":\"\\\\/\\\\/www.104.com.tw\\\\/company\\\\/1a2x6blgo9?jobsource=parttimesector\"},\"jobNameRaw\":\"\\\\u6155\\\\u590f\\\\u7279\\\\u5c55\\\\u77ed\\\\u671f\\\\u5de5\\\\u8b80\",\"custNameRaw\":\"\\\\u5149\\\\u9ede\\\\u5de5\\\\u574a\\\\u6709\\\\u9650\\\\u516c\\\\u53f8\",\"lon\":\"121.5218293\",\"lat\":\"25.0346703\"},{\"jobNo\":\"11268951\",\"jobName\":\"\\\\u665a\\\\u73ed\\\\u6ac3\\\\u6aaf\\\\u63a5\\\\u5f85\\\\u3010\\\\u6566\\\\u5357\\\\u745c\\\\u73c8\\\\u9928\\\\/\\\\u517c\\\\u8077\\\\u3011\",\"description\":\"1. \\\\u6703\\\\u54e1\\\\u53ca\\\\u8cb4\\\\u8cd3\\\\u63a5\\\\u5f85 2. \\\\u96fb\\\\u8a71\\\\u63a5\\\\u807d 3. \\\\u6838\\\\u5c0d\\\\u96fb\\\\u8166\\\\u9810\\\\u7d04\\\\u8ab2\\\\u7a0b\\\\u53ca\\\\u6703\\\\u54e1\\\\u8cc7\\\\u6599\\\\u7cfb\\\\u7d71\\\\u64cd\\\\u4f5c...\",\"optionEdu\":\"\\\\u9ad8\\\\u4e2d\",\"periodDesc\":\"1\\\\u5e74\\\\u4ee5\\\\u4e0a\",\"custNo\":\"27763992000\",\"custName\":\"True Yoga_\\\\u5168\\\\u771f\\\\u6982\\\\u5ff5\\\\u5065\\\\u5eb7\\\\u4e8b\\\\u696d\\\\u80a1\\\\u4efd\\\\u6709\\\\u9650\\\\u516c\\\\u53f8\",\"salaryDesc\":\"\\\\u6642\\\\u85aa160\\\\u5143\",\"appearDateDesc\":\"12\\\\/15\",\"isSave\":\"0\",\"link\":{\"job\":\"\\\\/\\\\/www.104.com.tw\\\\/job\\\\/6pj6f?jobsource=parttimesector\",\"cust\":\"\\\\/\\\\/www.104.com.tw\\\\/company\\\\/cr5ypc0?jobsource=parttimesector\"},\"jobNameRaw\":\"\\\\u665a\\\\u73ed\\\\u6ac3\\\\u6aaf\\\\u63a5\\\\u5f85\\\\u3010\\\\u6566\\\\u5357\\\\u745c\\\\u73c8\\\\u9928\\\\/\\\\u517c\\\\u8077\\\\u3011\",\"custNameRaw\":\"True Yoga_\\\\u5168\\\\u771f\\\\u6982\\\\u5ff5\\\\u5065\\\\u5eb7\\\\u4e8b\\\\u696d\\\\u80a1\\\\u4efd\\\\u6709\\\\u9650\\\\u516c\\\\u53f8\",\"lon\":\"121.5497931\",\"lat\":\"25.0417021\"},{\"jobNo\":\"12314223\",\"jobName\":\"(Intern) Account Operations\",\"description\":\"About the role We are seeking for Inter...\",\"optionEdu\":\"\\\\u5927\\\\u5b78\",\"periodDesc\":\"\\\\u7d93\\\\u6b77\\\\u4e0d\\\\u62d8\",\"custNo\":\"130000000042746\",\"custName\":\"\\\\u6c9b\\\\u661f\\\\u4e92\\\\u52d5\\\\u79d1\\\\u6280\\\\u80a1\\\\u4efd\\\\u6709\\\\u9650\\\\u516c\\\\u53f8\",\"salaryDesc\":\"\\\\u6642\\\\u85aa160\\\\u5143\",\"appearDateDesc\":\"12\\\\/17\",\"isSave\":\"0\",\"link\":{\"job\":\"\\\\/\\\\/www.104.com.tw\\\\/job\\\\/7bxpr?jobsource=parttimesector\",\"cust\":\"\\\\/\\\\/www.104.com.tw\\\\/company\\\\/1a2x6biwai?jobsource=parttimesector\"},\"jobNameRaw\":\"(Intern) Account Operations\",\"custNameRaw\":\"\\\\u6c9b\\\\u661f\\\\u4e92\\\\u52d5\\\\u79d1\\\\u6280\\\\u80a1\\\\u4efd\\\\u6709\\\\u9650\\\\u516c\\\\u53f8\",\"lon\":\"121.5691988\",\"lat\":\"25.0342593\"},{\"jobNo\":\"12534388\",\"jobName\":\"\\\\u884c\\\\u653f\\\\u52a9\\\\u7406\",\"description\":\"1. \\\\u5354\\\\u52a9\\\\u4e00\\\\u822c\\\\u96fb\\\\u8166\\\\u6587\\\\u66f8\\\\u8cc7\\\\u6599\\\\u8655\\\\u7406\\\\u53ca\\\\u6b78\\\\u6a94\\\\u5de5\\\\u4f5c\\\\u3002 2. \\\\u5354\\\\u52a9\\\\u7db2\\\\u7ad9\\\\u5546\\\\u54c1\\\\u4e0a\\\\u67b6\\\\u3001\\\\u7de8\\\\u8f2f\\\\u7b49\\\\u5de5\\\\u4f5c...\",\"optionEdu\":\"\\\\u5b78\\\\u6b77\\\\u4e0d\\\\u62d8\",\"periodDesc\":\"\\\\u7d93\\\\u6b77\\\\u4e0d\\\\u62d8\",\"custNo\":\"130000000180269\",\"custName\":\"\\\\u738b\\\\u9078\\\\u570b\\\\u969b\\\\u6709\\\\u9650\\\\u516c\\\\u53f8\",\"salaryDesc\":\"\\\\u6642\\\\u85aa168\\\\u5143\\\\u4ee5\\\\u4e0a\",\"appearDateDesc\":\"12\\\\/16\",\"isSave\":\"0\",\"link\":{\"job\":\"\\\\/\\\\/www.104.com.tw\\\\/job\\\\/7gnlg?jobsource=parttimesector\",\"cust\":\"\\\\/\\\\/www.104.com.tw\\\\/company\\\\/1a2x6bluel?jobsource=parttimesector\"},\"jobNameRaw\":\"\\\\u884c\\\\u653f\\\\u52a9\\\\u7406\",\"custNameRaw\":\"\\\\u738b\\\\u9078\\\\u570b\\\\u969b\\\\u6709\\\\u9650\\\\u516c\\\\u53f8\",\"lon\":\"121.5248262\",\"lat\":\"25.0211586\"},{\"jobNo\":\"12065430\",\"jobName\":\"\\\\u91ab\\\\u7f8e\\\\u517c\\\\u8077\\\\u7f8e\\\\u5bb9\\\\u5e2b\",\"description\":\"\\\\u65e5\\\\u85aa1300\\\\u52301600\\\\uff0c\\\\u8996\\\\u7d93\\\\u9a57\\\\u800c\\\\u5b9a\\\\u3002\\\\u4e4b\\\\u5f8c\\\\u5408\\\\u4f5c\\\\u82e5\\\\u9806\\\\u5229\\\\uff0c\\\\u53ef\\\\u4ee5\\\\u9577\\\\u671f\\\\u914d\\\\u5408\\\\u3002\\\\u6216\\\\u662f\\\\u8f49\\\\u6b63\\\\u8077\\\\u3002...\",\"optionEdu\":\"\\\\u5b78\\\\u6b77\\\\u4e0d\\\\u62d8\",\"periodDesc\":\"1\\\\u5e74\\\\u4ee5\\\\u4e0a\",\"custNo\":\"130000000158144\",\"custName\":\"\\\\u5967\\\\u857e\\\\u8389\\\\u7f8e\\\\u5b78\\\\u8a3a\\\\u6240\",\"salaryDesc\":\"\\\\u6642\\\\u85aa160~200\\\\u5143\",\"appearDateDesc\":\"12\\\\/21\",\"isSave\":\"0\",\"link\":{\"job\":\"\\\\/\\\\/www.104.com.tw\\\\/job\\\\/76lqu?jobsource=parttimesector\",\"cust\":\"\\\\/\\\\/www.104.com.tw\\\\/company\\\\/1a2x6bldc0?jobsource=parttimesector\"},\"jobNameRaw\":\"\\\\u91ab\\\\u7f8e\\\\u517c\\\\u8077\\\\u7f8e\\\\u5bb9\\\\u5e2b\",\"custNameRaw\":\"\\\\u5967\\\\u857e\\\\u8389\\\\u7f8e\\\\u5b78\\\\u8a3a\\\\u6240\",\"lon\":\"121.5206531\",\"lat\":\"25.0076338\"},{\"jobNo\":\"9849460\",\"jobName\":\"\\\\u5916\\\\u5834\\\\u517c\\\\u8077\\\\u300e\\\\u4fe1\\\\u7fa9\\\\u672c\\\\u5e97\\\\u300f\",\"description\":\"\\\\u3010Gumgum Beer & Wings \\\\u525b\\\\u525b\\\\u96de\\\\u7fc5\\\\u5564\\\\u9152\\\\u5427  2021 \\\\u760b\\\\u72c2\\\\u62db\\\\u52df...\",\"optionEdu\":\"\\\\u5b78\\\\u6b77\\\\u4e0d\\\\u62d8\",\"periodDesc\":\"\\\\u7d93\\\\u6b77\\\\u4e0d\\\\u62d8\",\"custNo\":\"130000000096667\",\"custName\":\"GumGum Beer &amp; Wings_\\\\u525b\\\\u525b\\\\u80a1\\\\u4efd\\\\u6709\\\\u9650\\\\u516c\\\\u53f8\",\"salaryDesc\":\"\\\\u6642\\\\u85aa170~190\\\\u5143\",\"appearDateDesc\":\"12\\\\/15\",\"isSave\":\"0\",\"link\":{\"job\":\"\\\\/\\\\/www.104.com.tw\\\\/job\\\\/5v3w4?jobsource=parttimesector\",\"cust\":\"\\\\/\\\\/www.104.com.tw\\\\/company\\\\/1a2x6bk1wb?jobsource=parttimesector\"},\"jobNameRaw\":\"\\\\u5916\\\\u5834\\\\u517c\\\\u8077\\\\u300e\\\\u4fe1\\\\u7fa9\\\\u672c\\\\u5e97\\\\u300f\",\"custNameRaw\":\"GumGum Beer & Wings_\\\\u525b\\\\u525b\\\\u80a1\\\\u4efd\\\\u6709\\\\u9650\\\\u516c\\\\u53f8\",\"lon\":\"121.5591463\",\"lat\":\"25.0339498\"},{\"jobNo\":\"12481226\",\"jobName\":\"\\\\u65e9\\\\u5b89\\\\u7f8e\\\\u829d\\\\u57ce-\\\\u9580\\\\u5e02\\\\u517c\\\\u8077\\\\u4eba\\\\u54e1\",\"description\":\" \\\\u3010\\\\u5de5\\\\u4f5c\\\\u5167\\\\u5bb9\\\\u3011 1.\\\\u9748\\\\u6d3b\\\\u7684\\\\u61c9\\\\u8b8a\\\\u5927\\\\u5e2b\\\\uff1a\\\\u8dd1\\\\u55ae\\\\u3001\\\\u64fa\\\\u76e4\\\\u3001\\\\u806f\\\\u7e6b\\\\u5167\\\\u5916\\\\u5834\\\\u4e4b\\\\u5de5\\\\u4f5c\\\\u3002 2.\\\\u5c08\\\\u696d\\\\u7684...\",\"optionEdu\":\"\\\\u5b78\\\\u6b77\\\\u4e0d\\\\u62d8\",\"periodDesc\":\"\\\\u7d93\\\\u6b77\\\\u4e0d\\\\u62d8\",\"custNo\":\"130000000178258\",\"custName\":\"\\\\u65e9\\\\u5b89\\\\u7f8e\\\\u829d\\\\u57ce\\\\u5317\\\\u5e02\\\\u6c38\\\\u5409\\\\u6982\\\\u5ff5\\\\u5e97_\\\\u8fb0\\\\u5e0c\\\\u5546\\\\u884c\",\"salaryDesc\":\"\\\\u6642\\\\u85aa170~190\\\\u5143\",\"appearDateDesc\":\"12\\\\/20\",\"isSave\":\"0\",\"link\":{\"job\":\"\\\\/\\\\/www.104.com.tw\\\\/job\\\\/7fikq?jobsource=parttimesector\",\"cust\":\"\\\\/\\\\/www.104.com.tw\\\\/company\\\\/1a2x6blsuq?jobsource=parttimesector\"},\"jobNameRaw\":\"\\\\u65e9\\\\u5b89\\\\u7f8e\\\\u829d\\\\u57ce-\\\\u9580\\\\u5e02\\\\u517c\\\\u8077\\\\u4eba\\\\u54e1\",\"custNameRaw\":\"\\\\u65e9\\\\u5b89\\\\u7f8e\\\\u829d\\\\u57ce\\\\u5317\\\\u5e02\\\\u6c38\\\\u5409\\\\u6982\\\\u5ff5\\\\u5e97_\\\\u8fb0\\\\u5e0c\\\\u5546\\\\u884c\",\"lon\":\"121.5735517\",\"lat\":\"25.0455214\"},{\"jobNo\":\"12026857\",\"jobName\":\"\\\\u517c\\\\u8077\\\\u6ac3\\\\u53f0\",\"description\":\"1. \\\\u6703\\\\u54e1\\\\u63a5\\\\u5f85\\\\u3001\\\\u6d3d\\\\u8a62\\\\u670d\\\\u52d9 2. \\\\u9928\\\\u5167\\\\u9032\\\\u51fa\\\\u4eba\\\\u54e1\\\\u63a7\\\\u7ba1\\\\uff0c\\\\u7dad\\\\u8b77\\\\u670d\\\\u52d9\\\\u54c1\\\\u8cea 3. \\\\u7e3d\\\\u6a5f\\\\u670d\\\\u52d9...\",\"optionEdu\":\"\\\\u5b78\\\\u6b77\\\\u4e0d\\\\u62d8\",\"periodDesc\":\"\\\\u7d93\\\\u6b77\\\\u4e0d\\\\u62d8\",\"custNo\":\"130000000153263\",\"custName\":\"\\\\u5065\\\\u8eab\\\\u661f\\\\u7403_\\\\u661f\\\\u7403\\\\u5065\\\\u5eb7\\\\u4e8b\\\\u696d\\\\u80a1\\\\u4efd\\\\u6709\\\\u9650\\\\u516c\\\\u53f8\",\"salaryDesc\":\"\\\\u6708\\\\u85aa24,000~25,000\\\\u5143\",\"appearDateDesc\":\"12\\\\/15\",\"isSave\":\"0\",\"link\":{\"job\":\"\\\\/\\\\/www.104.com.tw\\\\/job\\\\/75rzd?jobsource=parttimesector\",\"cust\":\"\\\\/\\\\/www.104.com.tw\\\\/company\\\\/1a2x6bl9kf?jobsource=parttimesector\"},\"jobNameRaw\":\"\\\\u517c\\\\u8077\\\\u6ac3\\\\u53f0\",\"custNameRaw\":\"\\\\u5065\\\\u8eab\\\\u661f\\\\u7403_\\\\u661f\\\\u7403\\\\u5065\\\\u5eb7\\\\u4e8b\\\\u696d\\\\u80a1\\\\u4efd\\\\u6709\\\\u9650\\\\u516c\\\\u53f8\",\"lon\":\"121.5119428\",\"lat\":\"24.9907117\"},{\"jobNo\":\"12331895\",\"jobName\":\"\\\\u3010\\\\u517c\\\\u8077\\\\u3011\\\\u5321\\\\u8861\\\\u667a\\\\u5eab\\\\u6c11\\\\u610f\\\\u8abf\\\\u67e5\\\\u96fb\\\\u8a2a\\\\u4eba\\\\u54e1\\\\uff08\\\\u8fd1\\\\u53f0\\\\u5317\\\\u5fe0\\\\u5b5d\\\\u65b0\\\\u751f\\\\u6377\\\\u904b\\\\u7ad9\\\\uff09\",\"description\":\"\\\\u5321\\\\u8861\\\\u667a\\\\u5eab\\\\u4ee5\\\\u5b78\\\\u8853\\\\u7814\\\\u7a76\\\\u3001\\\\u653f\\\\u7b56\\\\u5206\\\\u6790\\\\u3001\\\\u6c11\\\\u610f\\\\u8abf\\\\u67e5\\\\uff0c\\\\u4ee5\\\\u53ca\\\\u548c\\\\u9078\\\\u8209\\\\u76f8\\\\u95dc\\\\u7684\\\\u96fb\\\\u8a71\\\\u8a2a\\\\u554f\\\\u70ba\\\\u4e3b\\\\u8981\\\\u696d\\\\u52d9\\\\u3002\\\\u6211...\",\"optionEdu\":\"\\\\u5b78\\\\u6b77\\\\u4e0d\\\\u62d8\",\"periodDesc\":\"\\\\u7d93\\\\u6b77\\\\u4e0d\\\\u62d8\",\"custNo\":\"130000000140393\",\"custName\":\"\\\\u5321\\\\u8861\\\\u6578\\\\u64da\\\\u79d1\\\\u6280\\\\u6709\\\\u9650\\\\u516c\\\\u53f8\",\"salaryDesc\":\"\\\\u6642\\\\u85aa173~208\\\\u5143\",\"appearDateDesc\":\"11\\\\/16\",\"isSave\":\"0\",\"link\":{\"job\":\"\\\\/\\\\/www.104.com.tw\\\\/job\\\\/7cbcn?jobsource=parttimesector\",\"cust\":\"\\\\/\\\\/www.104.com.tw\\\\/company\\\\/1a2x6bkzmx?jobsource=parttimesector\"},\"jobNameRaw\":\"\\\\u3010\\\\u517c\\\\u8077\\\\u3011\\\\u5321\\\\u8861\\\\u667a\\\\u5eab\\\\u6c11\\\\u610f\\\\u8abf\\\\u67e5\\\\u96fb\\\\u8a2a\\\\u4eba\\\\u54e1\\\\uff08\\\\u8fd1\\\\u53f0\\\\u5317\\\\u5fe0\\\\u5b5d\\\\u65b0\\\\u751f\\\\u6377\\\\u904b\\\\u7ad9\\\\uff09\",\"custNameRaw\":\"\\\\u5321\\\\u8861\\\\u6578\\\\u64da\\\\u79d1\\\\u6280\\\\u6709\\\\u9650\\\\u516c\\\\u53f8\",\"lon\":\"121.5325148\",\"lat\":\"25.0374432\"},{\"jobNo\":\"12409810\",\"jobName\":\"\\\\u3010\\\\u4e7e\\\\u676f\\\\u96c6\\\\u5718\\\\u3011\\\\u3010\\\\u65b0\\\\u958b\\\\u5e97\\\\u3011\\\\u71d2\\\\u8089\\\\u54c1\\\\u724c-\\\\u8001\\\\u4e7e\\\\u676f SOGO\\\\u5fa9\\\\u8208\\\\u5e97-\\\\u4e7e\\\\u676f\\\\u4e4b\\\\u661f\\\\u300e\\\\u6642\\\\u85aa200-240\\\\u5143(\\\\u542b10\\\\u5143\\\\u5168\\\\u52e4)\\\\u300f\",\"description\":\"\\\\u3010\\\\u54c1\\\\u724c\\\\u7c21\\\\u4ecb\\\\u3011 \\\\u8001\\\\u4e7e\\\\u676f\\\\u5275\\\\u7acb\\\\u65bc2005\\\\u5e74\\\\uff0c\\\\u4ee5\\\\u5168\\\\u65b0\\\\u8a2d\\\\u8a08\\\\u98a8\\\\u683c\\\\u5962\\\\u83ef\\\\u6469\\\\u767b\\\\u98a8\\\\u8b93\\\\u9867\\\\u5ba2\\\\u5728\\\\u512a\\\\u96c5\\\\u83ef\\\\u9e97...\",\"optionEdu\":\"\\\\u5b78\\\\u6b77\\\\u4e0d\\\\u62d8\",\"periodDesc\":\"\\\\u7d93\\\\u6b77\\\\u4e0d\\\\u62d8\",\"custNo\":\"70443909000\",\"custName\":\"\\\\u4e7e\\\\u676f\\\\u80a1\\\\u4efd\\\\u6709\\\\u9650\\\\u516c\\\\u53f8\",\"salaryDesc\":\"\\\\u6642\\\\u85aa190~240\\\\u5143\",\"appearDateDesc\":\"12\\\\/20\",\"isSave\":\"0\",\"link\":{\"job\":\"\\\\/\\\\/www.104.com.tw\\\\/job\\\\/7dzgy?jobsource=parttimesector\",\"cust\":\"\\\\/\\\\/www.104.com.tw\\\\/company\\\\/wd0hg20?jobsource=parttimesector\"},\"jobNameRaw\":\"\\\\u3010\\\\u4e7e\\\\u676f\\\\u96c6\\\\u5718\\\\u3011\\\\u3010\\\\u65b0\\\\u958b\\\\u5e97\\\\u3011\\\\u71d2\\\\u8089\\\\u54c1\\\\u724c-\\\\u8001\\\\u4e7e\\\\u676f SOGO\\\\u5fa9\\\\u8208\\\\u5e97-\\\\u4e7e\\\\u676f\\\\u4e4b\\\\u661f\\\\u300e\\\\u6642\\\\u85aa200-240\\\\u5143(\\\\u542b10\\\\u5143\\\\u5168\\\\u52e4)\\\\u300f\",\"custNameRaw\":\"\\\\u4e7e\\\\u676f\\\\u80a1\\\\u4efd\\\\u6709\\\\u9650\\\\u516c\\\\u53f8\",\"lon\":\"121.5433337\",\"lat\":\"25.0410133\"},{\"jobNo\":\"9275692\",\"jobName\":\"\\\\u8a2d\\\\u8a08\\\\u52a9\\\\u7406-\\\\u300c\\\\u9577\\\\u671f\\\\u300d\\\\u5de5\\\\u8b80\\\\u751f\",\"description\":\"\\\\u6b61\\\\u8fce\\\\u65b0\\\\u9bae\\\\u4eba\\\\u52a0\\\\u5165\\\\u9e97\\\\u6c34\\\\u5718\\\\u968a\\\\uff01  \\\\u9e97\\\\u6c34\\\\u96b1\\\\u8eab\\\\u5728\\\\u4f4f\\\\u5b85\\\\u5340\\\\u5167\\\\uff0c\\\\u5230\\\\u5927\\\\u5b89\\\\u68ee\\\\u6797\\\\u516c\\\\u5712\\\\u53ea\\\\u89812\\\\u5206\\\\u9418\\\\uff0c\\\\u64fa\\\\u812b...\",\"optionEdu\":\"\\\\u9ad8\\\\u4e2d\",\"periodDesc\":\"\\\\u7d93\\\\u6b77\\\\u4e0d\\\\u62d8\",\"custNo\":\"130000000030904\",\"custName\":\"\\\\u9e97\\\\u6c34\\\\u7b56\\\\u7565\\\\u6574\\\\u5408\\\\u884c\\\\u92b7\\\\u6709\\\\u9650\\\\u516c\\\\u53f8\",\"salaryDesc\":\"\\\\u6642\\\\u85aa180\\\\u5143\",\"appearDateDesc\":\"12\\\\/17\",\"isSave\":\"0\",\"link\":{\"job\":\"\\\\/\\\\/www.104.com.tw\\\\/job\\\\/5it64?jobsource=parttimesector\",\"cust\":\"\\\\/\\\\/www.104.com.tw\\\\/company\\\\/1a2x6bin5k?jobsource=parttimesector\"},\"jobNameRaw\":\"\\\\u8a2d\\\\u8a08\\\\u52a9\\\\u7406-\\\\u300c\\\\u9577\\\\u671f\\\\u300d\\\\u5de5\\\\u8b80\\\\u751f\",\"custNameRaw\":\"\\\\u9e97\\\\u6c34\\\\u7b56\\\\u7565\\\\u6574\\\\u5408\\\\u884c\\\\u92b7\\\\u6709\\\\u9650\\\\u516c\\\\u53f8\",\"lon\":\"121.5360651\",\"lat\":\"25.0348653\"},{\"jobNo\":\"5249357\",\"jobName\":\"\\\\u5047\\\\u65e5\\\\u8a08\\\\u6642\\\\u4eba\\\\u54e1(SOGO\\\\u5fe0\\\\u5b5d\\\\u9928)\",\"description\":\"\\\\uff0a\\\\u8207\\\\u5c0f\\\\u670b\\\\u53cb\\\\u4e92\\\\u52d5\\\\u6559\\\\u5b78\\\\uff0c\\\\u6559\\\\u5b78\\\\u54c1\\\\u9805\\\\u70ba\\\\u9ecf\\\\u571f\\\\u634f\\\\u5851\\\\u3001\\\\u58d3\\\\u514b\\\\u529b\\\\u756b\\\\u3002 \\\\uff0a\\\\u500b\\\\u6027\\\\u6d3b\\\\u6f51\\\\u5927\\\\u65b9\\\\u3001\\\\u7a4d\\\\u6975\\\\u4e3b\\\\u52d5\\\\u3001...\",\"optionEdu\":\"\\\\u9ad8\\\\u4e2d\",\"periodDesc\":\"\\\\u7d93\\\\u6b77\\\\u4e0d\\\\u62d8\",\"custNo\":\"80582555000\",\"custName\":\"\\\\u5f69\\\\u8679\\\\u68ee\\\\u6797\\\\u6709\\\\u9650\\\\u516c\\\\u53f8\",\"salaryDesc\":\"\\\\u6642\\\\u85aa160~190\\\\u5143\",\"appearDateDesc\":\"12\\\\/16\",\"isSave\":\"0\",\"link\":{\"job\":\"\\\\/\\\\/www.104.com.tw\\\\/job\\\\/34ifh?jobsource=parttimesector\",\"cust\":\"\\\\/\\\\/www.104.com.tw\\\\/company\\\\/110ortdk?jobsource=parttimesector\"},\"jobNameRaw\":\"\\\\u5047\\\\u65e5\\\\u8a08\\\\u6642\\\\u4eba\\\\u54e1(SOGO\\\\u5fe0\\\\u5b5d\\\\u9928)\",\"custNameRaw\":\"\\\\u5f69\\\\u8679\\\\u68ee\\\\u6797\\\\u6709\\\\u9650\\\\u516c\\\\u53f8\",\"lon\":\"121.5450062\",\"lat\":\"25.0418859\"},{\"jobNo\":\"11590446\",\"jobName\":\"\\\\u5fae\\\\u98a8\\\\u4fe1\\\\u7fa9\\\\u3000\\\\u65e9\\\\u73ed\\\\u9580\\\\u5e02\\\\u5de5\\\\u8b80\\\\u751f\",\"description\":\"1.\\\\u767c\\\\u9001DM\\\\uff0c\\\\u63d0\\\\u4f9b\\\\u9867\\\\u5ba2\\\\u4e4b\\\\u63a5\\\\u5f85\\\\u8207\\\\u670d\\\\u52d9\\\\u3002  2.\\\\u8ca0\\\\u8cac\\\\u5546\\\\u54c1\\\\u4e0a\\\\u67b6\\\\u9673\\\\u5217\\\\u3002  3.\\\\u7dad\\\\u6301\\\\u9580\\\\u5e02...\",\"optionEdu\":\"\\\\u9ad8\\\\u4e2d\",\"periodDesc\":\"\\\\u7d93\\\\u6b77\\\\u4e0d\\\\u62d8\",\"custNo\":\"130000000119436\",\"custName\":\"\\\\u53f0\\\\u7063\\\\u677e\\\\u672c\\\\u6e05\\\\u80a1\\\\u4efd\\\\u6709\\\\u9650\\\\u516c\\\\u53f8\",\"salaryDesc\":\"\\\\u6642\\\\u85aa165\\\\u5143\",\"appearDateDesc\":\"12\\\\/15\",\"isSave\":\"0\",\"link\":{\"job\":\"\\\\/\\\\/www.104.com.tw\\\\/job\\\\/6wf8u?jobsource=parttimesector\",\"cust\":\"\\\\/\\\\/www.104.com.tw\\\\/company\\\\/1a2x6bkjgs?jobsource=parttimesector\"},\"jobNameRaw\":\"\\\\u5fae\\\\u98a8\\\\u4fe1\\\\u7fa9\\\\u3000\\\\u65e9\\\\u73ed\\\\u9580\\\\u5e02\\\\u5de5\\\\u8b80\\\\u751f\",\"custNameRaw\":\"\\\\u53f0\\\\u7063\\\\u677e\\\\u672c\\\\u6e05\\\\u80a1\\\\u4efd\\\\u6709\\\\u9650\\\\u516c\\\\u53f8\",\"lon\":\"121.567154\",\"lat\":\"25.040512\"},{\"jobNo\":\"12448041\",\"jobName\":\"\\\\u3010\\\\u65e5\\\\u5546\\\\u3011\\\\u96fb\\\\u5546\\\\u7db2\\\\u9801\\\\u8a2d\\\\u8a08 \\\\u5de5\\\\u8b80\\\\u5be6\\\\u7fd2( \\\\u53ef\\\\u9060\\\\u7aef\\\\u3001\\\\u5728\\\\u5bb6\\\\u4e0a\\\\u73ed )\",\"description\":\"\\\\u6b61\\\\u8fce\\\\u6709\\\\u57fa\\\\u672c\\\\u8a2d\\\\u8a08\\\\u8edf\\\\u9ad4\\\\u4f7f\\\\u7528\\\\u7d93\\\\u9a57\\\\u3001\\\\u559c\\\\u611b\\\\u65e5\\\\u7cfb\\\\u7f8e\\\\u599d\\\\u7684\\\\u5927\\\\u4e09\\\\u5927\\\\u56db\\\\u5728\\\\u6821\\\\u751f\\\\u3002 \\\\u5f9e\\\\u5354\\\\u52a9\\\\u6b63\\\\u8077\\\\u8a2d\\\\u8a08\\\\u4eba\\\\u54e1...\",\"optionEdu\":\"\\\\u5c08\\\\u79d1\",\"periodDesc\":\"\\\\u7d93\\\\u6b77\\\\u4e0d\\\\u62d8\",\"custNo\":\"130000000044068\",\"custName\":\"\\\\u4e9e\\\\u661f\\\\u901a\\\\u80a1\\\\u4efd\\\\u6709\\\\u9650\\\\u516c\\\\u53f8\",\"salaryDesc\":\"\\\\u6642\\\\u85aa160~180\\\\u5143\",\"appearDateDesc\":\"12\\\\/17\",\"isSave\":\"0\",\"link\":{\"job\":\"\\\\/\\\\/www.104.com.tw\\\\/job\\\\/7esyx?jobsource=parttimesector\",\"cust\":\"\\\\/\\\\/www.104.com.tw\\\\/company\\\\/1a2x6bixb8?jobsource=parttimesector\"},\"jobNameRaw\":\"\\\\u3010\\\\u65e5\\\\u5546\\\\u3011\\\\u96fb\\\\u5546\\\\u7db2\\\\u9801\\\\u8a2d\\\\u8a08 \\\\u5de5\\\\u8b80\\\\u5be6\\\\u7fd2( \\\\u53ef\\\\u9060\\\\u7aef\\\\u3001\\\\u5728\\\\u5bb6\\\\u4e0a\\\\u73ed )\",\"custNameRaw\":\"\\\\u4e9e\\\\u661f\\\\u901a\\\\u80a1\\\\u4efd\\\\u6709\\\\u9650\\\\u516c\\\\u53f8\",\"lon\":\"121.5521328\",\"lat\":\"25.0480564\"},{\"jobNo\":\"5575360\",\"jobName\":\"\\\\u53f0\\\\u5317\\\\u4e2d\\\\u6b63\\\\u5340 \\\\u5167\\\\/\\\\u5916\\\\u5834 \\\\u65e9\\\\/\\\\u665a\\\\u73ed \\\\u9577\\\\u671f\\\\u5de5\\\\u8b80\\\\u751f\\\\uff08\\\\u548c\\\\u6c11 \\\\u7ad9\\\\u524d\\\\u5e97\\\\uff09(\\\\u6b61\\\\u8fce\\\\u5b78\\\\u751f\\\\u5be6\\\\u7fd2)\",\"description\":\"\\\\u25c6\\\\u6eff\\\\u534a\\\\u5e74\\\\u4ee5\\\\u4e0a\\\\u53e6\\\\u6709\\\\u7279\\\\u4f11\\\\u91d1\\\\uff0c\\\\u505a\\\\u8d8a\\\\u4e45\\\\u9818\\\\u8d8a\\\\u591a \\\\u25c6\\\\u6bcf\\\\u9031\\\\u81f3\\\\u5c11\\\\u914d\\\\u5408\\\\u56db~\\\\u4e94\\\\u5929\\\\u73ed(\\\\u542b\\\\u5047\\\\u65e5) \\\\u25c6\\\\u6bcf...\",\"optionEdu\":\"\\\\u5b78\\\\u6b77\\\\u4e0d\\\\u62d8\",\"periodDesc\":\"\\\\u7d93\\\\u6b77\\\\u4e0d\\\\u62d8\",\"custNo\":\"27725371000\",\"custName\":\"\\\\u53f0\\\\u7063\\\\u548c\\\\u6c11\\\\u9910\\\\u98f2\\\\u80a1\\\\u4efd\\\\u6709\\\\u9650\\\\u516c\\\\u53f8\",\"salaryDesc\":\"\\\\u6642\\\\u85aa165~200\\\\u5143\",\"appearDateDesc\":\"12\\\\/20\",\"isSave\":\"0\",\"link\":{\"job\":\"\\\\/\\\\/www.104.com.tw\\\\/job\\\\/3bhz4?jobsource=parttimesector\",\"cust\":\"\\\\/\\\\/www.104.com.tw\\\\/company\\\\/cqiyx6g?jobsource=parttimesector\"},\"jobNameRaw\":\"\\\\u53f0\\\\u5317\\\\u4e2d\\\\u6b63\\\\u5340 \\\\u5167\\\\/\\\\u5916\\\\u5834 \\\\u65e9\\\\/\\\\u665a\\\\u73ed \\\\u9577\\\\u671f\\\\u5de5\\\\u8b80\\\\u751f\\\\uff08\\\\u548c\\\\u6c11 \\\\u7ad9\\\\u524d\\\\u5e97\\\\uff09(\\\\u6b61\\\\u8fce\\\\u5b78\\\\u751f\\\\u5be6\\\\u7fd2)\",\"custNameRaw\":\"\\\\u53f0\\\\u7063\\\\u548c\\\\u6c11\\\\u9910\\\\u98f2\\\\u80a1\\\\u4efd\\\\u6709\\\\u9650\\\\u516c\\\\u53f8\",\"lon\":\"121.514881\",\"lat\":\"25.046145\"},{\"jobNo\":\"12420912\",\"jobName\":\"\\\\u3010\\\\u65e5\\\\u5546 \\\\u58fd\\\\u53f8\\\\u90ce\\\\u3011\\\\u8a2a\\\\u67e5\\\\u4eba\\\\u54e1\\\\uff08\\\\u795e\\\\u79d8\\\\u5ba2\\\\uff09\",\"description\":\"\\\\u2b55\\\\u5de5\\\\u4f5c\\\\u5167\\\\u5bb9 \\\\u25aa\\\\u81f3\\\\u5168\\\\u53f0\\\\u9580\\\\u5e02\\\\u7528\\\\u9910\\\\uff0c\\\\u91dd\\\\u5c0d\\\\u670d\\\\u52d9\\\\u6d41\\\\u7a0b\\\\u3001\\\\u6d88\\\\u8cbb\\\\u74b0\\\\u5883\\\\u3001\\\\u98df\\\\u6750\\\\u54c1\\\\u8cea\\\\u505a\\\\u51fa\\\\u5ba2\\\\u89c0\\\\u516c\\\\u6b63\\\\u7684\\\\u8a55...\",\"optionEdu\":\"\\\\u5927\\\\u5b78\",\"periodDesc\":\"\\\\u7d93\\\\u6b77\\\\u4e0d\\\\u62d8\",\"custNo\":\"130000000104300\",\"custName\":\"\\\\u53f0\\\\u7063\\\\u58fd\\\\u53f8\\\\u90ce\\\\u80a1\\\\u4efd\\\\u6709\\\\u9650\\\\u516c\\\\u53f8\",\"salaryDesc\":\"\\\\u8ad6\\\\u4ef6\\\\u8a08\\\\u916c500\\\\u5143\",\"appearDateDesc\":\"12\\\\/14\",\"isSave\":\"0\",\"link\":{\"job\":\"\\\\/\\\\/www.104.com.tw\\\\/job\\\\/7e81c?jobsource=parttimesector\",\"cust\":\"\\\\/\\\\/www.104.com.tw\\\\/company\\\\/1a2x6bk7sc?jobsource=parttimesector\"},\"jobNameRaw\":\"\\\\u3010\\\\u65e5\\\\u5546 \\\\u58fd\\\\u53f8\\\\u90ce\\\\u3011\\\\u8a2a\\\\u67e5\\\\u4eba\\\\u54e1\\\\uff08\\\\u795e\\\\u79d8\\\\u5ba2\\\\uff09\",\"custNameRaw\":\"\\\\u53f0\\\\u7063\\\\u58fd\\\\u53f8\\\\u90ce\\\\u80a1\\\\u4efd\\\\u6709\\\\u9650\\\\u516c\\\\u53f8\",\"lon\":\"121.5331631\",\"lat\":\"25.0487401\"},{\"jobNo\":\"11154466\",\"jobName\":\"\\\\u3010\\\\u4e7e\\\\u676f\\\\u96c6\\\\u5718\\\\u3011\\\\u934b\\\\u7269\\\\u54c1\\\\u724c-\\\\u9ed1\\\\u6bdb\\\\u5c4b \\\\u53f0\\\\u5317\\\\u8eca\\\\u7ad9\\\\u5e97-\\\\u4e7e\\\\u676f\\\\u4e4b\\\\u661f\\\\u300e\\\\u6642\\\\u85aa200-240\\\\u5143(\\\\u542b10\\\\u5143\\\\u5168\\\\u52e4)\\\\u300f\",\"description\":\"\\\\u2726\\\\u696d\\\\u754c\\\\u6700\\\\u9ad8\\\\u6642\\\\u85aa\\\\u2726PT\\\\u62db\\\\u52df -\\\\u6642\\\\u85aa\\\\u9ad8\\\\u3001\\\\u91cd\\\\u8996\\\\u54e1\\\\u5de5\\\\u6210\\\\u9577\\\\u3001\\\\u4e0a\\\\u73ed\\\\u6c23\\\\u6c1b\\\\u4f73-  ------...\",\"optionEdu\":\"\\\\u5b78\\\\u6b77\\\\u4e0d\\\\u62d8\",\"periodDesc\":\"\\\\u7d93\\\\u6b77\\\\u4e0d\\\\u62d8\",\"custNo\":\"70443909000\",\"custName\":\"\\\\u4e7e\\\\u676f\\\\u80a1\\\\u4efd\\\\u6709\\\\u9650\\\\u516c\\\\u53f8\",\"salaryDesc\":\"\\\\u6642\\\\u85aa190~240\\\\u5143\",\"appearDateDesc\":\"12\\\\/20\",\"isSave\":\"0\",\"link\":{\"job\":\"\\\\/\\\\/www.104.com.tw\\\\/job\\\\/6n2ua?jobsource=parttimesector\",\"cust\":\"\\\\/\\\\/www.104.com.tw\\\\/company\\\\/wd0hg20?jobsource=parttimesector\"},\"jobNameRaw\":\"\\\\u3010\\\\u4e7e\\\\u676f\\\\u96c6\\\\u5718\\\\u3011\\\\u934b\\\\u7269\\\\u54c1\\\\u724c-\\\\u9ed1\\\\u6bdb\\\\u5c4b \\\\u53f0\\\\u5317\\\\u8eca\\\\u7ad9\\\\u5e97-\\\\u4e7e\\\\u676f\\\\u4e4b\\\\u661f\\\\u300e\\\\u6642\\\\u85aa200-240\\\\u5143(\\\\u542b10\\\\u5143\\\\u5168\\\\u52e4)\\\\u300f\",\"custNameRaw\":\"\\\\u4e7e\\\\u676f\\\\u80a1\\\\u4efd\\\\u6709\\\\u9650\\\\u516c\\\\u53f8\",\"lon\":\"121.517044\",\"lat\":\"25.047749\"},{\"jobNo\":\"12202508\",\"jobName\":\"\\\\u3010\\\\u96f7\\\\u4e9e\\\\u6982\\\\u5ff5_\\\\u597d\\\\u96f7\\\\u5496\\\\u5561\\\\u3011\\\\u517c\\\\u8077\\\\u5925\\\\u4f34\",\"description\":\"\\\\u597d\\\\u96f7\\\\u5496\\\\u5561\\\\u662f\\\\u7d50\\\\u5408\\\\u96f7\\\\u4e9e\\\\u904a\\\\u6232\\\\u65d7\\\\u4e0b\\\\u4f5c\\\\u54c1\\\\u6240\\\\u6253\\\\u9020\\\\u7684\\\\u8907\\\\u5408\\\\u5f0f\\\\u9910\\\\u98f2\\\\u7a7a\\\\u9593\\\\uff0c \\\\u5728\\\\u6b64\\\\uff0c\\\\u6211\\\\u5011\\\\u63d0\\\\u4f9b\\\\u7cbe\\\\u7dfb\\\\u9910\\\\u98f2...\",\"optionEdu\":\"\\\\u9ad8\\\\u4e2d\",\"periodDesc\":\"\\\\u7d93\\\\u6b77\\\\u4e0d\\\\u62d8\",\"custNo\":\"130000000056276\",\"custName\":\"\\\\u96f7\\\\u4e9e\\\\u904a\\\\u6232\\\\u80a1\\\\u4efd\\\\u6709\\\\u9650\\\\u516c\\\\u53f8\",\"salaryDesc\":\"\\\\u6642\\\\u85aa160\\\\u5143\",\"appearDateDesc\":\"12\\\\/20\",\"isSave\":\"0\",\"link\":{\"job\":\"\\\\/\\\\/www.104.com.tw\\\\/job\\\\/79jik?jobsource=parttimesector\",\"cust\":\"\\\\/\\\\/www.104.com.tw\\\\/company\\\\/1a2x6bj6qc?jobsource=parttimesector\"},\"jobNameRaw\":\"\\\\u3010\\\\u96f7\\\\u4e9e\\\\u6982\\\\u5ff5_\\\\u597d\\\\u96f7\\\\u5496\\\\u5561\\\\u3011\\\\u517c\\\\u8077\\\\u5925\\\\u4f34\",\"custNameRaw\":\"\\\\u96f7\\\\u4e9e\\\\u904a\\\\u6232\\\\u80a1\\\\u4efd\\\\u6709\\\\u9650\\\\u516c\\\\u53f8\",\"lon\":\"121.5662748\",\"lat\":\"25.047846\"},{\"jobNo\":\"12186860\",\"jobName\":\"Shopee APP - \\\\u54c1\\\\u985e\\\\u5c08\\\\u6848\\\\u5be6\\\\u7fd2\\\\u751f\",\"description\":\"\\\\u3010\\\\u5de5\\\\u4f5c\\\\u5167\\\\u5bb9\\\\u3011   1. \\\\u7dda\\\\u4e0a\\\\u6d3b\\\\u52d5\\\\u524d\\\\u671f\\\\u898f\\\\u5283\\\\u3001\\\\u57f7\\\\u884c   2. \\\\u6210\\\\u6548\\\\u6578\\\\u64da\\\\u5206\\\\u6790   3...\",\"optionEdu\":\"\\\\u5927\\\\u5b78\",\"periodDesc\":\"\\\\u7d93\\\\u6b77\\\\u4e0d\\\\u62d8\",\"custNo\":\"130000000157678\",\"custName\":\"\\\\u65b0\\\\u52a0\\\\u5761\\\\u5546\\\\u8766\\\\u76ae\\\\u5a1b\\\\u6a02\\\\u96fb\\\\u5546\\\\u6709\\\\u9650\\\\u516c\\\\u53f8\\\\u53f0\\\\u7063\\\\u5206\\\\u516c\\\\u53f8\",\"salaryDesc\":\"\\\\u6642\\\\u85aa170\\\\u5143\",\"appearDateDesc\":\"12\\\\/15\",\"isSave\":\"0\",\"link\":{\"job\":\"\\\\/\\\\/www.104.com.tw\\\\/job\\\\/797fw?jobsource=parttimesector\",\"cust\":\"\\\\/\\\\/www.104.com.tw\\\\/company\\\\/1a2x6blcz2?jobsource=parttimesector\"},\"jobNameRaw\":\"Shopee APP - \\\\u54c1\\\\u985e\\\\u5c08\\\\u6848\\\\u5be6\\\\u7fd2\\\\u751f\",\"custNameRaw\":\"\\\\u65b0\\\\u52a0\\\\u5761\\\\u5546\\\\u8766\\\\u76ae\\\\u5a1b\\\\u6a02\\\\u96fb\\\\u5546\\\\u6709\\\\u9650\\\\u516c\\\\u53f8\\\\u53f0\\\\u7063\\\\u5206\\\\u516c\\\\u53f8\",\"lon\":\"121.5614467\",\"lat\":\"25.0445662\"},{\"jobNo\":\"12483660\",\"jobName\":\"\\\\u749e\\\\u5712\\\\u5efa\\\\u7bc9\\\\u5718\\\\u968a \\\\u5ee3\\\\u544a\\\\u4ee3\\\\u92b7-\\\\u5de5\\\\u8b80\\\\u751f\",\"description\":\"1.\\\\u8336\\\\u6c34\\\\u670d\\\\u52d9\\\\u3002 2.\\\\u74b0\\\\u5883\\\\u6574\\\\u7406\\\\u3002 3.\\\\u914d\\\\u5408\\\\u73fe\\\\u5834\\\\u9700\\\\u6c42\\\\u652f\\\\u63f4\\\\u3002\",\"optionEdu\":\"\\\\u9ad8\\\\u4e2d\",\"periodDesc\":\"\\\\u7d93\\\\u6b77\\\\u4e0d\\\\u62d8\",\"custNo\":\"130000000026172\",\"custName\":\"\\\\u749e\\\\u5712\\\\u5efa\\\\u7bc9\\\\u5718\\\\u968a_\\\\u749e\\\\u5168\\\\u5ee3\\\\u544a\\\\u80a1\\\\u4efd\\\\u6709\\\\u9650\\\\u516c\\\\u53f8\",\"salaryDesc\":\"\\\\u6642\\\\u85aa160\\\\u5143\",\"appearDateDesc\":\"12\\\\/17\",\"isSave\":\"0\",\"link\":{\"job\":\"\\\\/\\\\/www.104.com.tw\\\\/job\\\\/7fkgc?jobsource=parttimesector\",\"cust\":\"\\\\/\\\\/www.104.com.tw\\\\/company\\\\/1a2x6biji4?jobsource=parttimesector\"},\"jobNameRaw\":\"\\\\u749e\\\\u5712\\\\u5efa\\\\u7bc9\\\\u5718\\\\u968a \\\\u5ee3\\\\u544a\\\\u4ee3\\\\u92b7-\\\\u5de5\\\\u8b80\\\\u751f\",\"custNameRaw\":\"\\\\u749e\\\\u5712\\\\u5efa\\\\u7bc9\\\\u5718\\\\u968a_\\\\u749e\\\\u5168\\\\u5ee3\\\\u544a\\\\u80a1\\\\u4efd\\\\u6709\\\\u9650\\\\u516c\\\\u53f8\",\"lon\":\"121.5418003\",\"lat\":\"24.9927967\"},{\"jobNo\":\"11944507\",\"jobName\":\"\\\\u3010KOL Radar\\\\u3011\\\\u884c\\\\u92b7\\\\u5be6\\\\u7fd2\\\\u751f(\\\\u5167\\\\u5bb9) Marketing Intern, Content\",\"description\":\"\\\\u3010\\\\u5de5\\\\u4f5c\\\\u5167\\\\u5bb9\\\\u3011\\\\u3000 1. KOL Radar \\\\u5b98\\\\u65b9\\\\u90e8\\\\u843d\\\\u683c\\\\u6587\\\\u7ae0\\\\u64b0\\\\u5beb\\\\u3002 2. \\\\u5354\\\\u52a9\\\\u7d93\\\\u71df...\",\"optionEdu\":\"\\\\u5927\\\\u5b78\",\"periodDesc\":\"\\\\u7d93\\\\u6b77\\\\u4e0d\\\\u62d8\",\"custNo\":\"53342456000\",\"custName\":\"\\\\u611b\\\\u5361\\\\u62c9\\\\u4e92\\\\u52d5\\\\u5a92\\\\u9ad4\\\\u80a1\\\\u4efd\\\\u6709\\\\u9650\\\\u516c\\\\u53f8\",\"salaryDesc\":\"\\\\u6642\\\\u85aa160\\\\u5143\",\"appearDateDesc\":\"12\\\\/16\",\"isSave\":\"0\",\"link\":{\"job\":\"\\\\/\\\\/www.104.com.tw\\\\/job\\\\/740fv?jobsource=parttimesector\",\"cust\":\"\\\\/\\\\/www.104.com.tw\\\\/company\\\\/oi6pygw?jobsource=parttimesector\"},\"jobNameRaw\":\"\\\\u3010KOL Radar\\\\u3011\\\\u884c\\\\u92b7\\\\u5be6\\\\u7fd2\\\\u751f(\\\\u5167\\\\u5bb9) Marketing Intern, Content\",\"custNameRaw\":\"\\\\u611b\\\\u5361\\\\u62c9\\\\u4e92\\\\u52d5\\\\u5a92\\\\u9ad4\\\\u80a1\\\\u4efd\\\\u6709\\\\u9650\\\\u516c\\\\u53f8\",\"lon\":\"121.5666564\",\"lat\":\"25.0480733\"},{\"jobNo\":\"10856661\",\"jobName\":\"\\\\u3010\\\\u65e5\\\\u5546 \\\\u58fd\\\\u53f8\\\\u90ce\\\\u3011\\\\u53f0\\\\u5317\\\\u4e2d\\\\u83ef\\\\u8def\\\\u5e97-\\\\u517c\\\\u8077\\\\u4eba\\\\u54e1(\\\\u2605\\\\u6642\\\\u85aa\\\\u8abf\\\\u5347190\\\\u5143\\\\u8d77)!!\\\\u6b61\\\\u8fce\\\\u904e\\\\u5e74\\\\u671f\\\\u9593\\\\u77ed\\\\u671f\\\\u5de5\\\\u8b80!!\",\"description\":\"\\\\u2b55\\\\u62db\\\\u52df\\\\u689d\\\\u4ef6 \\\\u25aa\\\\u80fd\\\\u914d\\\\u5408\\\\u4e0b\\\\u8ff0\\\\u4efb\\\\u4e00\\\\u689d\\\\u4ef6\\\\u8005\\\\u512a\\\\u5148\\\\u9762\\\\u8a66\\\\uff1a \\\\u2460\\\\u665a\\\\u73ed 14:00~23:30 ...\",\"optionEdu\":\"\\\\u9ad8\\\\u4e2d\",\"periodDesc\":\"\\\\u7d93\\\\u6b77\\\\u4e0d\\\\u62d8\",\"custNo\":\"130000000104300\",\"custName\":\"\\\\u53f0\\\\u7063\\\\u58fd\\\\u53f8\\\\u90ce\\\\u80a1\\\\u4efd\\\\u6709\\\\u9650\\\\u516c\\\\u53f8\",\"salaryDesc\":\"\\\\u6642\\\\u85aa190~220\\\\u5143\",\"appearDateDesc\":\"12\\\\/14\",\"isSave\":\"0\",\"link\":{\"job\":\"\\\\/\\\\/www.104.com.tw\\\\/job\\\\/6gp1x?jobsource=parttimesector\",\"cust\":\"\\\\/\\\\/www.104.com.tw\\\\/company\\\\/1a2x6bk7sc?jobsource=parttimesector\"},\"jobNameRaw\":\"\\\\u3010\\\\u65e5\\\\u5546 \\\\u58fd\\\\u53f8\\\\u90ce\\\\u3011\\\\u53f0\\\\u5317\\\\u4e2d\\\\u83ef\\\\u8def\\\\u5e97-\\\\u517c\\\\u8077\\\\u4eba\\\\u54e1(\\\\u2605\\\\u6642\\\\u85aa\\\\u8abf\\\\u5347190\\\\u5143\\\\u8d77)!!\\\\u6b61\\\\u8fce\\\\u904e\\\\u5e74\\\\u671f\\\\u9593\\\\u77ed\\\\u671f\\\\u5de5\\\\u8b80!!\",\"custNameRaw\":\"\\\\u53f0\\\\u7063\\\\u58fd\\\\u53f8\\\\u90ce\\\\u80a1\\\\u4efd\\\\u6709\\\\u9650\\\\u516c\\\\u53f8\",\"lon\":\"121.508943\",\"lat\":\"25.045945\"},{\"jobNo\":\"12538430\",\"jobName\":\"\\\\u5fe0\\\\u5b5d\\\\u6566\\\\u5316\\\\u5e97-\\\\u9580\\\\u5e02\\\\u5de5\\\\u8b80\\\\u751f\\\\uff08\\\\u665a\\\\u73ed\\\\uff09\",\"description\":\"\\\\u6536\\\\u9280\\\\u5fae\\\\u7b11\\\\u8fce\\\\u5ba2\\\\u3001\\\\u5c08\\\\u696d\\\\u98f2\\\\u6599\\\\u8abf\\\\u88fd\\\\u3001\\\\u5f8c\\\\u5834\\\\u7d30\\\\u5fc3\\\\u5099\\\\u6599\\\\u3001\\\\u5e97\\\\u9762\\\\u885b\\\\u751f\\\\u6e05\\\\u6f54\\\\u7dad\\\\u8b77\\\\u3002  \\\\u4eba\\\\u54e1\\\\u57fa\\\\u672c\\\\u7d20\\\\u990a\\\\u9700...\",\"optionEdu\":\"\\\\u5b78\\\\u6b77\\\\u4e0d\\\\u62d8\",\"periodDesc\":\"\\\\u7d93\\\\u6b77\\\\u4e0d\\\\u62d8\",\"custNo\":\"130000000180489\",\"custName\":\"\\\\u5065\\\\u5eb7\\\\u6a58\\\\u5b50\\\\u5de5\\\\u574a\\\\u53f0\\\\u5317\\\\u5fe0\\\\u5b5d\\\\u6566\\\\u5316\\\\u5e97_\\\\u7dad\\\\u6eff\\\\u6709\\\\u9650\\\\u516c\\\\u53f8\",\"salaryDesc\":\"\\\\u6642\\\\u85aa170\\\\u5143\",\"appearDateDesc\":\"12\\\\/18\",\"isSave\":\"0\",\"link\":{\"job\":\"\\\\/\\\\/www.104.com.tw\\\\/job\\\\/7gqpq?jobsource=parttimesector\",\"cust\":\"\\\\/\\\\/www.104.com.tw\\\\/company\\\\/1a2x6blukp?jobsource=parttimesector\"},\"jobNameRaw\":\"\\\\u5fe0\\\\u5b5d\\\\u6566\\\\u5316\\\\u5e97-\\\\u9580\\\\u5e02\\\\u5de5\\\\u8b80\\\\u751f\\\\uff08\\\\u665a\\\\u73ed\\\\uff09\",\"custNameRaw\":\"\\\\u5065\\\\u5eb7\\\\u6a58\\\\u5b50\\\\u5de5\\\\u574a\\\\u53f0\\\\u5317\\\\u5fe0\\\\u5b5d\\\\u6566\\\\u5316\\\\u5e97_\\\\u7dad\\\\u6eff\\\\u6709\\\\u9650\\\\u516c\\\\u53f8\",\"lon\":\"121.5476427\",\"lat\":\"25.0417615\"},{\"jobNo\":\"12554877\",\"jobName\":\"MIS\\\\u8cc7\\\\u7ba1\\\\u4eba\\\\u54e1\\\\/\\\\u7a0b\\\\u5f0f\\\\u8a2d\\\\u8a08\\\\u5e2b\",\"description\":\"\\\\u9700\\\\u719f\\\\u9f0e\\\\u65b0CRM\\\\u548cEasy flow \",\"optionEdu\":\"\\\\u5c08\\\\u79d1\",\"periodDesc\":\"\\\\u7d93\\\\u6b77\\\\u4e0d\\\\u62d8\",\"custNo\":\"16349596000\",\"custName\":\"\\\\u5546\\\\u667a\\\\u5546\\\\u52d9\\\\u8aee\\\\u8a62\\\\u80a1\\\\u4efd\\\\u6709\\\\u9650\\\\u516c\\\\u53f8\",\"salaryDesc\":\"\\\\u6642\\\\u85aa2,500\\\\u5143\\\\u4ee5\\\\u4e0a\",\"appearDateDesc\":\"12\\\\/15\",\"isSave\":\"0\",\"link\":{\"job\":\"\\\\/\\\\/www.104.com.tw\\\\/job\\\\/7h3el?jobsource=parttimesector\",\"cust\":\"\\\\/\\\\/www.104.com.tw\\\\/company\\\\/7ie4l0g?jobsource=parttimesector\"},\"jobNameRaw\":\"MIS\\\\u8cc7\\\\u7ba1\\\\u4eba\\\\u54e1\\\\/\\\\u7a0b\\\\u5f0f\\\\u8a2d\\\\u8a08\\\\u5e2b\",\"custNameRaw\":\"\\\\u5546\\\\u667a\\\\u5546\\\\u52d9\\\\u8aee\\\\u8a62\\\\u80a1\\\\u4efd\\\\u6709\\\\u9650\\\\u516c\\\\u53f8\",\"lon\":\"121.5492288\",\"lat\":\"25.0305994\"},{\"jobNo\":\"12206829\",\"jobName\":\"\\\\u7f8e\\\\u80a1\\\\u5e02\\\\u5834\\\\u7814\\\\u7a76\\\\u5b78\\\\u751f\\\\u5be6\\\\u7fd2(Research Analyst Internship) -  (Please attach English CV, \\\\u8acb\\\\u9644\\\\u82f1\\\\u6587\\\\u5c65\\\\u6b77)\",\"description\":\"Job Description: - Gathering and assess...\",\"optionEdu\":\"\\\\u5927\\\\u5b78\",\"periodDesc\":\"\\\\u7d93\\\\u6b77\\\\u4e0d\\\\u62d8\",\"custNo\":\"130000000136987\",\"custName\":\"\\\\u9032\\\\u9060\\\\u6709\\\\u9650\\\\u516c\\\\u53f8\",\"salaryDesc\":\"\\\\u6642\\\\u85aa160\\\\u5143\\\\u4ee5\\\\u4e0a\",\"appearDateDesc\":\"12\\\\/15\",\"isSave\":\"0\",\"link\":{\"job\":\"\\\\/\\\\/www.104.com.tw\\\\/job\\\\/79mul?jobsource=parttimesector\",\"cust\":\"\\\\/\\\\/www.104.com.tw\\\\/company\\\\/1a2x6bkx0b?jobsource=parttimesector\"},\"jobNameRaw\":\"\\\\u7f8e\\\\u80a1\\\\u5e02\\\\u5834\\\\u7814\\\\u7a76\\\\u5b78\\\\u751f\\\\u5be6\\\\u7fd2(Research Analyst Internship) -  (Please attach English CV, \\\\u8acb\\\\u9644\\\\u82f1\\\\u6587\\\\u5c65\\\\u6b77)\",\"custNameRaw\":\"\\\\u9032\\\\u9060\\\\u6709\\\\u9650\\\\u516c\\\\u53f8\",\"lon\":\"121.5683451\",\"lat\":\"25.0318957\"},{\"jobNo\":\"10821341\",\"jobName\":\"\\\\u3010\\\\u9eb5\\\\u5c4b\\\\u4e00\\\\u71c8 Express-\\\\u8aa0\\\\u54c1\\\\u4fe1\\\\u7fa9\\\\u5e97\\\\u3011\\\\u517c\\\\u8077\\\\u4eba\\\\u54e1\",\"description\":\"1.\\\\u8ca0\\\\u8cac\\\\u4ecb\\\\u7d39\\\\u9910\\\\u9ede\\\\uff0c\\\\u64fa\\\\u76e4\\\\uff0c\\\\u7d50\\\\u5e33\\\\u3001\\\\u6536\\\\u9280\\\\u4e4b\\\\u5de5\\\\u4f5c\\\\u3002 2.\\\\u8ca0\\\\u8cac\\\\u5167\\\\u5834\\\\u51fa\\\\u9910\\\\u5099\\\\u6599\\\\uff0c\\\\u6e05\\\\u6f54\\\\u7b49\\\\u5de5\\\\u4f5c\\\\u3002\",\"optionEdu\":\"\\\\u9ad8\\\\u4e2d\\\\u4ee5\\\\u4e0b\",\"periodDesc\":\"\\\\u7d93\\\\u6b77\\\\u4e0d\\\\u62d8\",\"custNo\":\"130000000063162\",\"custName\":\"\\\\u9eb5\\\\u5c4b\\\\u4e00\\\\u71c8_\\\\u4fe1\\\\u6cf0\\\\u80a1\\\\u4efd\\\\u6709\\\\u9650\\\\u516c\\\\u53f8\",\"salaryDesc\":\"\\\\u6642\\\\u85aa175~185\\\\u5143\",\"appearDateDesc\":\"12\\\\/21\",\"isSave\":\"0\",\"link\":{\"job\":\"\\\\/\\\\/www.104.com.tw\\\\/job\\\\/6fxst?jobsource=parttimesector\",\"cust\":\"\\\\/\\\\/www.104.com.tw\\\\/company\\\\/1a2x6bjc1m?jobsource=parttimesector\"},\"jobNameRaw\":\"\\\\u3010\\\\u9eb5\\\\u5c4b\\\\u4e00\\\\u71c8 Express-\\\\u8aa0\\\\u54c1\\\\u4fe1\\\\u7fa9\\\\u5e97\\\\u3011\\\\u517c\\\\u8077\\\\u4eba\\\\u54e1\",\"custNameRaw\":\"\\\\u9eb5\\\\u5c4b\\\\u4e00\\\\u71c8_\\\\u4fe1\\\\u6cf0\\\\u80a1\\\\u4efd\\\\u6709\\\\u9650\\\\u516c\\\\u53f8\",\"lon\":\"121.5658739\",\"lat\":\"25.0397197\"},{\"jobNo\":\"12034996\",\"jobName\":\"Shopee APP - \\\\u54c1\\\\u985e\\\\u5c08\\\\u6848\\\\u5be6\\\\u7fd2\\\\u751f(\\\\u5927\\\\u578b\\\\u9023\\\\u9396\\\\u901a\\\\u8def\\\\u5546)\",\"description\":\"1.\\\\u5354\\\\u52a9SBS\\\\u5e97\\\\u5bb6\\\\u71df\\\\u904b\\\\u5f8c\\\\u7aef\\\\u4f5c\\\\u696d 2.\\\\u5354\\\\u52a9\\\\u54c1\\\\u724c\\\\u6d3b\\\\u52d5\\\\u8d08\\\\u54c1\\\\u5bc4\\\\u9001\\\\u76f8\\\\u95dc\\\\u4f5c\\\\u696d 3.\\\\u5354\\\\u52a9\\\\u54c1\\\\u724c...\",\"optionEdu\":\"\\\\u5927\\\\u5b78\",\"periodDesc\":\"\\\\u7d93\\\\u6b77\\\\u4e0d\\\\u62d8\",\"custNo\":\"130000000157678\",\"custName\":\"\\\\u65b0\\\\u52a0\\\\u5761\\\\u5546\\\\u8766\\\\u76ae\\\\u5a1b\\\\u6a02\\\\u96fb\\\\u5546\\\\u6709\\\\u9650\\\\u516c\\\\u53f8\\\\u53f0\\\\u7063\\\\u5206\\\\u516c\\\\u53f8\",\"salaryDesc\":\"\\\\u6642\\\\u85aa170\\\\u5143\",\"appearDateDesc\":\"12\\\\/16\",\"isSave\":\"0\",\"link\":{\"job\":\"\\\\/\\\\/www.104.com.tw\\\\/job\\\\/75y9g?jobsource=parttimesector\",\"cust\":\"\\\\/\\\\/www.104.com.tw\\\\/company\\\\/1a2x6blcz2?jobsource=parttimesector\"},\"jobNameRaw\":\"Shopee APP - \\\\u54c1\\\\u985e\\\\u5c08\\\\u6848\\\\u5be6\\\\u7fd2\\\\u751f(\\\\u5927\\\\u578b\\\\u9023\\\\u9396\\\\u901a\\\\u8def\\\\u5546)\",\"custNameRaw\":\"\\\\u65b0\\\\u52a0\\\\u5761\\\\u5546\\\\u8766\\\\u76ae\\\\u5a1b\\\\u6a02\\\\u96fb\\\\u5546\\\\u6709\\\\u9650\\\\u516c\\\\u53f8\\\\u53f0\\\\u7063\\\\u5206\\\\u516c\\\\u53f8\",\"lon\":\"121.5720055\",\"lat\":\"25.0409201\"},{\"jobNo\":\"9822291\",\"jobName\":\"\\\\u30102022\\\\u5e74\\\\u6642\\\\u85aa178\\\\u5143\\\\u8d77\\\\u3011\\\\u85a9\\\\u8389\\\\u4e9e \\\\u5e2b\\\\u7bc4\\\\u5927\\\\u5b78\\\\u5e97 \\\\u665a\\\\u73ed\\\\u5167\\\\u5916\\\\u5834\\\\u670d\\\\u52d9\\\\u54e1\",\"description\":\"\\\\u9910\\\\u5ef3\\\\u71df\\\\u696d\\\\u6642\\\\u9593\\\\u70ba11:00~23:00  \\\\u665a\\\\u73ed\\\\uff1a17:00\\\\uff5e23:00 (\\\\u4e0a\\\\u73ed\\\\u6642...\",\"optionEdu\":\"\\\\u9ad8\\\\u4e2d\",\"periodDesc\":\"\\\\u7d93\\\\u6b77\\\\u4e0d\\\\u62d8\",\"custNo\":\"28854801000\",\"custName\":\"\\\\u53f0\\\\u7063\\\\u85a9\\\\u8389\\\\u4e9e\\\\u9910\\\\u98f2\\\\u80a1\\\\u4efd\\\\u6709\\\\u9650\\\\u516c\\\\u53f8\",\"salaryDesc\":\"\\\\u6642\\\\u85aa170~197\\\\u5143\",\"appearDateDesc\":\"12\\\\/15\",\"isSave\":\"0\",\"link\":{\"job\":\"\\\\/\\\\/www.104.com.tw\\\\/job\\\\/5uixf?jobsource=parttimesector\",\"cust\":\"\\\\/\\\\/www.104.com.tw\\\\/company\\\\/d97eiy0?jobsource=parttimesector\"},\"jobNameRaw\":\"\\\\u30102022\\\\u5e74\\\\u6642\\\\u85aa178\\\\u5143\\\\u8d77\\\\u3011\\\\u85a9\\\\u8389\\\\u4e9e \\\\u5e2b\\\\u7bc4\\\\u5927\\\\u5b78\\\\u5e97 \\\\u665a\\\\u73ed\\\\u5167\\\\u5916\\\\u5834\\\\u670d\\\\u52d9\\\\u54e1\",\"custNameRaw\":\"\\\\u53f0\\\\u7063\\\\u85a9\\\\u8389\\\\u4e9e\\\\u9910\\\\u98f2\\\\u80a1\\\\u4efd\\\\u6709\\\\u9650\\\\u516c\\\\u53f8\",\"lon\":\"121.5294585\",\"lat\":\"25.026833\"},{\"jobNo\":\"11222160\",\"jobName\":\"\\\\u5047\\\\u65e5\\\\u5916\\\\u5834\\\\u4eba\\\\u54e1\\\\uff0c\\\\u517c\\\\u8077\\\\u5de5\\\\u8b80\\\\u53ef\",\"description\":\"\\\\u8ca0\\\\u8cac\\\\u5916\\\\u5834\\\\u9001\\\\u9910\\\\uff0c\\\\u74b0\\\\u5883\\\\u6e05\\\\u6f54\",\"optionEdu\":\"\\\\u5b78\\\\u6b77\\\\u4e0d\\\\u62d8\",\"periodDesc\":\"\\\\u7d93\\\\u6b77\\\\u4e0d\\\\u62d8\",\"custNo\":\"130000000136193\",\"custName\":\"\\\\u4e00\\\\u5403\\\\u4e0a\\\\u766e\\\\u7515\\\\u7f38\\\\u96de\",\"salaryDesc\":\"\\\\u6642\\\\u85aa200~220\\\\u5143\",\"appearDateDesc\":\"12\\\\/16\",\"isSave\":\"0\",\"link\":{\"job\":\"\\\\/\\\\/www.104.com.tw\\\\/job\\\\/6oj2o?jobsource=parttimesector\",\"cust\":\"\\\\/\\\\/www.104.com.tw\\\\/company\\\\/1a2x6bkwe9?jobsource=parttimesector\"},\"jobNameRaw\":\"\\\\u5047\\\\u65e5\\\\u5916\\\\u5834\\\\u4eba\\\\u54e1\\\\uff0c\\\\u517c\\\\u8077\\\\u5de5\\\\u8b80\\\\u53ef\",\"custNameRaw\":\"\\\\u4e00\\\\u5403\\\\u4e0a\\\\u766e\\\\u7515\\\\u7f38\\\\u96de\",\"lon\":\"121.5529309\",\"lat\":\"25.044723\"},{\"jobNo\":\"12260924\",\"jobName\":\"Shopee APP - Graphic Designer \\\\u7f8e\\\\u8853\\\\u8a2d\\\\u8a08\\\\u5be6\\\\u7fd2\\\\u751f \\\\/ Marketing \\\\u884c\\\\u92b7\\\\u90e8\",\"description\":\"1. \\\\u7522\\\\u54c1\\\\u5716\\\\u4fee\\\\u5716\\\\u3001\\\\u53bb\\\\u80cc\\\\u3001\\\\u7f8e\\\\u5316\\\\u3001\\\\u5957\\\\u54c1\\\\u7b49\\\\u3002  2. \\\\u6d3b\\\\u52d5\\\\u9801\\\\u3001Banner\\\\u3001\\\\u793e\\\\u7fa4\\\\u5716\\\\u6587...\",\"optionEdu\":\"\\\\u5c08\\\\u79d1\",\"periodDesc\":\"\\\\u7d93\\\\u6b77\\\\u4e0d\\\\u62d8\",\"custNo\":\"130000000157678\",\"custName\":\"\\\\u65b0\\\\u52a0\\\\u5761\\\\u5546\\\\u8766\\\\u76ae\\\\u5a1b\\\\u6a02\\\\u96fb\\\\u5546\\\\u6709\\\\u9650\\\\u516c\\\\u53f8\\\\u53f0\\\\u7063\\\\u5206\\\\u516c\\\\u53f8\",\"salaryDesc\":\"\\\\u6642\\\\u85aa170\\\\u5143\",\"appearDateDesc\":\"12\\\\/15\",\"isSave\":\"0\",\"link\":{\"job\":\"\\\\/\\\\/www.104.com.tw\\\\/job\\\\/7asl8?jobsource=parttimesector\",\"cust\":\"\\\\/\\\\/www.104.com.tw\\\\/company\\\\/1a2x6blcz2?jobsource=parttimesector\"},\"jobNameRaw\":\"Shopee APP - Graphic Designer \\\\u7f8e\\\\u8853\\\\u8a2d\\\\u8a08\\\\u5be6\\\\u7fd2\\\\u751f \\\\/ Marketing \\\\u884c\\\\u92b7\\\\u90e8\",\"custNameRaw\":\"\\\\u65b0\\\\u52a0\\\\u5761\\\\u5546\\\\u8766\\\\u76ae\\\\u5a1b\\\\u6a02\\\\u96fb\\\\u5546\\\\u6709\\\\u9650\\\\u516c\\\\u53f8\\\\u53f0\\\\u7063\\\\u5206\\\\u516c\\\\u53f8\",\"lon\":\"121.5720055\",\"lat\":\"25.0409201\"},{\"jobNo\":\"12119352\",\"jobName\":\"\\\\u8a08\\\\u756b\\\\u517c\\\\u4efb\\\\u52a9\\\\u7406\\\\/\\\\u9577\\\\u671f\\\\u5de5\\\\u8b80(\\\\u570b\\\\u5bb6\\\\u96d9\\\\u8a9e\\\\u8a08\\\\u756b)\",\"description\":\"\\\\u5468\\\\u4e00\\\\u81f3\\\\u5468\\\\u4e94\\\\u6392\\\\u73ed2\\\\u5929\\\\u62163\\\\u5929 \\\\u6bcf\\\\u65e5\\\\u5de5\\\\u4f5c\\\\u6642\\\\u9593\\\\uff1a08:00-10:00\\\\u81f317:00-1...\",\"optionEdu\":\"\\\\u5927\\\\u5b78\",\"periodDesc\":\"\\\\u7d93\\\\u6b77\\\\u4e0d\\\\u62d8\",\"custNo\":\"130000000148260\",\"custName\":\"\\\\u570b\\\\u7acb\\\\u81fa\\\\u7063\\\\u5e2b\\\\u7bc4\\\\u5927\\\\u5b78_\\\\u6559\\\\u80b2\\\\u653f\\\\u7b56\\\\u8207\\\\u884c\\\\u653f\\\\u7814\\\\u7a76\\\\u6240\",\"salaryDesc\":\"\\\\u6642\\\\u85aa160\\\\u5143\",\"appearDateDesc\":\"12\\\\/20\",\"isSave\":\"0\",\"link\":{\"job\":\"\\\\/\\\\/www.104.com.tw\\\\/job\\\\/77rco?jobsource=parttimesector\",\"cust\":\"\\\\/\\\\/www.104.com.tw\\\\/company\\\\/1a2x6bl5pg?jobsource=parttimesector\"},\"jobNameRaw\":\"\\\\u8a08\\\\u756b\\\\u517c\\\\u4efb\\\\u52a9\\\\u7406\\\\/\\\\u9577\\\\u671f\\\\u5de5\\\\u8b80(\\\\u570b\\\\u5bb6\\\\u96d9\\\\u8a9e\\\\u8a08\\\\u756b)\",\"custNameRaw\":\"\\\\u570b\\\\u7acb\\\\u81fa\\\\u7063\\\\u5e2b\\\\u7bc4\\\\u5927\\\\u5b78_\\\\u6559\\\\u80b2\\\\u653f\\\\u7b56\\\\u8207\\\\u884c\\\\u653f\\\\u7814\\\\u7a76\\\\u6240\",\"lon\":\"121.5431318\",\"lat\":\"25.0167212\"},{\"jobNo\":\"4999861\",\"jobName\":\"\\\\u88dc\\\\u7fd2\\\\u73ed\\\\u5de5\\\\u8b80\\\\u751f\",\"description\":\"1.\\\\u5de5\\\\u4f5c\\\\u5167\\\\u5bb9\\\\u70ba\\\\u9304\\\\u5f71\\\\u6216\\\\u5176\\\\u4ed6\\\\u884c\\\\u653f\\\\u5de5\\\\u4f5c 2.\\\\u9700\\\\u9577\\\\u671f\\\\u914d\\\\u5408\\\\uff0c\\\\u63a1\\\\u6392\\\\u73ed\\\\u5236\\\\u3002 3.\\\\u4e3b\\\\u8981\\\\u6392\\\\u73ed\\\\u6642\\\\u9593...\",\"optionEdu\":\"\\\\u5c08\\\\u79d1\",\"periodDesc\":\"\\\\u7d93\\\\u6b77\\\\u4e0d\\\\u62d8\",\"custNo\":\"33326632000\",\"custName\":\"\\\\u9f0e\\\\u6587\\\\u66f8\\\\u5c40\\\\u80a1\\\\u4efd\\\\u6709\\\\u9650\\\\u516c\\\\u53f8\",\"salaryDesc\":\"\\\\u6642\\\\u85aa160\\\\u5143\",\"appearDateDesc\":\"12\\\\/20\",\"isSave\":\"0\",\"link\":{\"job\":\"\\\\/\\\\/www.104.com.tw\\\\/job\\\\/2z5x1?jobsource=parttimesector\",\"cust\":\"\\\\/\\\\/www.104.com.tw\\\\/company\\\\/fb5tdts?jobsource=parttimesector\"},\"jobNameRaw\":\"\\\\u88dc\\\\u7fd2\\\\u73ed\\\\u5de5\\\\u8b80\\\\u751f\",\"custNameRaw\":\"\\\\u9f0e\\\\u6587\\\\u66f8\\\\u5c40\\\\u80a1\\\\u4efd\\\\u6709\\\\u9650\\\\u516c\\\\u53f8\",\"lon\":\"121.514875\",\"lat\":\"25.046416\"},{\"jobNo\":\"10602925\",\"jobName\":\"\\\\u3010PACKIE\\\\u5ddd\\\\u9152\\\\u83dc\\\\u9928\\\\u4fe1\\\\u7fa9\\\\u65b0\\\\u5149A9\\\\u5e97\\\\u3011\\\\u5916\\\\u5834\\\\u517c\\\\u8077\\\\u5925\\\\u4f34\\\\u62db\\\\u52df\\\\uff01\",\"description\":\"\\\\u3010\\\\u5de5\\\\u4f5c\\\\u5167\\\\u5bb9\\\\u3011\\\\u00a0 1.\\\\u57f7\\\\u884c\\\\u684c\\\\u908a\\\\u53ca\\\\u9910\\\\u98df\\\\u670d\\\\u52d9\\\\uff0c\\\\u5982\\\\u5012\\\\u6c34\\\\u3001\\\\u9ede\\\\u83dc\\\\u3001\\\\u9001\\\\u83dc\\\\u3001\\\\u63a7\\\\u83dc\\\\u3001\\\\u64a4\\\\u684c\\\\u7b49\\\\u5de5\\\\u4f5c\\\\u00a0...\",\"optionEdu\":\"\\\\u5b78\\\\u6b77\\\\u4e0d\\\\u62d8\",\"periodDesc\":\"\\\\u7d93\\\\u6b77\\\\u4e0d\\\\u62d8\",\"custNo\":\"12943650000\",\"custName\":\"IR\\\\u9910\\\\u98f2\\\\u4e8b\\\\u696d\\\\u96c6\\\\u5718_\\\\u9280\\\\u674f\\\\u9910\\\\u98f2\\\\u80a1\\\\u4efd\\\\u6709\\\\u9650\\\\u516c\\\\u53f8\",\"salaryDesc\":\"\\\\u6642\\\\u85aa170~185\\\\u5143\",\"appearDateDesc\":\"12\\\\/20\",\"isSave\":\"0\",\"link\":{\"job\":\"\\\\/\\\\/www.104.com.tw\\\\/job\\\\/6b99p?jobsource=parttimesector\",\"cust\":\"\\\\/\\\\/www.104.com.tw\\\\/company\\\\/5y2bc9c?jobsource=parttimesector\"},\"jobNameRaw\":\"\\\\u3010PACKIE\\\\u5ddd\\\\u9152\\\\u83dc\\\\u9928\\\\u4fe1\\\\u7fa9\\\\u65b0\\\\u5149A9\\\\u5e97\\\\u3011\\\\u5916\\\\u5834\\\\u517c\\\\u8077\\\\u5925\\\\u4f34\\\\u62db\\\\u52df\\\\uff01\",\"custNameRaw\":\"IR\\\\u9910\\\\u98f2\\\\u4e8b\\\\u696d\\\\u96c6\\\\u5718_\\\\u9280\\\\u674f\\\\u9910\\\\u98f2\\\\u80a1\\\\u4efd\\\\u6709\\\\u9650\\\\u516c\\\\u53f8\",\"lon\":\"121.5667018\",\"lat\":\"25.0366706\"},{\"jobNo\":\"8808510\",\"jobName\":\"New Balance\\\\u76f4\\\\u71df\\\\u5e97\\\\u517c\\\\u8077\\\\u5de5\\\\u8b80\\\\u751f(\\\\u897f\\\\u9580\\\\u753a\\\\u6982\\\\u5ff5\\\\u5e97)\",\"description\":\"1.\\\\u978b\\\\u6b3e\\\\u670d\\\\u98fe\\\\u4ecb\\\\u7d39\\\\u53ca\\\\u92b7\\\\u552e\\\\u3001\\\\u670d\\\\u52d9\\\\u9867\\\\u5ba2 2.\\\\u5546\\\\u54c1\\\\u9673\\\\u5217\\\\u3001\\\\u5eab\\\\u5b58\\\\u7ba1\\\\u7406 3.\\\\u5e97\\\\u52d9\\\\u6e05\\\\u6f54\\\\u3001\\\\u6574\\\\u7406 ...\",\"optionEdu\":\"\\\\u5c08\\\\u79d1\",\"periodDesc\":\"1\\\\u5e74\\\\u4ee5\\\\u4e0a\",\"custNo\":\"86805358000\",\"custName\":\"\\\\u53f0\\\\u7063\\\\u7d10\\\\u5df4\\\\u502b\\\\u80a1\\\\u4efd\\\\u6709\\\\u9650\\\\u516c\\\\u53f8_New Balance Taiwan,Inc.\",\"salaryDesc\":\"\\\\u6642\\\\u85aa160\\\\u5143\",\"appearDateDesc\":\"12\\\\/15\",\"isSave\":\"0\",\"link\":{\"job\":\"\\\\/\\\\/www.104.com.tw\\\\/job\\\\/58sou?jobsource=parttimesector\",\"cust\":\"\\\\/\\\\/www.104.com.tw\\\\/company\\\\/13vlo2wg?jobsource=parttimesector\"},\"jobNameRaw\":\"New Balance\\\\u76f4\\\\u71df\\\\u5e97\\\\u517c\\\\u8077\\\\u5de5\\\\u8b80\\\\u751f(\\\\u897f\\\\u9580\\\\u753a\\\\u6982\\\\u5ff5\\\\u5e97)\",\"custNameRaw\":\"\\\\u53f0\\\\u7063\\\\u7d10\\\\u5df4\\\\u502b\\\\u80a1\\\\u4efd\\\\u6709\\\\u9650\\\\u516c\\\\u53f8_New Balance Taiwan,Inc.\",\"lon\":\"121.5061045\",\"lat\":\"25.0428588\"},{\"jobNo\":\"12411796\",\"jobName\":\"\\\\u5167\\\\u5834\\\\u5de5\\\\u8b80\\\\u751f\",\"description\":\"1.\\\\u5354\\\\u52a9\\\\u6b63\\\\u8077\\\\u4eba\\\\u54e1\\\\u8655\\\\u7406\\\\u5de5\\\\u4f5c\\\\u4e0a\\\\u7684\\\\u4e8b\\\\u52d9   2.\\\\u5c07\\\\u98df\\\\u6750\\\\u4f9d\\\\u7167\\\\u5eda\\\\u5e2b\\\\u8981\\\\u6c42\\\\u9032\\\\u884c\\\\u5207\\\\u7247\\\\u3001\\\\u5207\\\\u584a\\\\u6216\\\\u5207...\",\"optionEdu\":\"\\\\u5b78\\\\u6b77\\\\u4e0d\\\\u62d8\",\"periodDesc\":\"\\\\u7d93\\\\u6b77\\\\u4e0d\\\\u62d8\",\"custNo\":\"130000000176023\",\"custName\":\"BT Burger_\\\\u6600\\\\u8018\\\\u6709\\\\u9650\\\\u516c\\\\u53f8\",\"salaryDesc\":\"\\\\u6642\\\\u85aa165~175\\\\u5143\",\"appearDateDesc\":\"12\\\\/15\",\"isSave\":\"0\",\"link\":{\"job\":\"\\\\/\\\\/www.104.com.tw\\\\/job\\\\/7e104?jobsource=parttimesector\",\"cust\":\"\\\\/\\\\/www.104.com.tw\\\\/company\\\\/1a2x6blr4n?jobsource=parttimesector\"},\"jobNameRaw\":\"\\\\u5167\\\\u5834\\\\u5de5\\\\u8b80\\\\u751f\",\"custNameRaw\":\"BT Burger_\\\\u6600\\\\u8018\\\\u6709\\\\u9650\\\\u516c\\\\u53f8\",\"lon\":\"121.5425268\",\"lat\":\"25.042596\"},{\"jobNo\":\"12459814\",\"jobName\":\"\\\\u3010\\\\u8d85\\\\u512a\\\\u5be6\\\\u7fd2\\\\uff5c \\\\u4eba\\\\u8cc7 \\\\u745e\\\\u661f\\\\u7375\\\\u624d\\\\u9867\\\\u554f \\\\u3011\\\\u62db\\\\u52df\\\\u5be6\\\\u7fd2\\\\u751f #\\\\u4eba\\\\u8cc7  #\\\\u9867\\\\u554f #\\\\u696d\\\\u52d9\",\"description\":\"\\\\u7c21\\\\u4ecb\\\\uff1a\\\\u90e8\\\\u9580\\\\u5718\\\\u968a\\\\u6d3b\\\\u7d61\\\\uff0c\\\\u6709\\\\u8d85\\\\u9ad8\\\\u7684\\\\u7a69\\\\u5b9a\\\\u5ea6\\\\u3001\\\\u767c\\\\u5c55\\\\u6027 \\\\u7368\\\\u5bb6\\\\u5408\\\\u4f5c\\\\u773e\\\\u591a\\\\u719f\\\\u77e5\\\\u5927\\\\u54c1\\\\u724c\\\\uff0c\\\\u8b93\\\\u4f60\\\\u4e00\\\\u9593\\\\u516c...\",\"optionEdu\":\"\\\\u5b78\\\\u6b77\\\\u4e0d\\\\u62d8\",\"periodDesc\":\"\\\\u7d93\\\\u6b77\\\\u4e0d\\\\u62d8\",\"custNo\":\"130000000049751\",\"custName\":\"\\\\u745e\\\\u661f\\\\u7ba1\\\\u7406\\\\u9867\\\\u554f\\\\u80a1\\\\u4efd\\\\u6709\\\\u9650\\\\u516c\\\\u53f8\",\"salaryDesc\":\"\\\\u6642\\\\u85aa170\\\\u5143\",\"appearDateDesc\":\"12\\\\/20\",\"isSave\":\"0\",\"link\":{\"job\":\"\\\\/\\\\/www.104.com.tw\\\\/job\\\\/7f21y?jobsource=parttimesector\",\"cust\":\"\\\\/\\\\/www.104.com.tw\\\\/company\\\\/1a2x6bj1p3?jobsource=parttimesector\"},\"jobNameRaw\":\"\\\\u3010\\\\u8d85\\\\u512a\\\\u5be6\\\\u7fd2\\\\uff5c \\\\u4eba\\\\u8cc7 \\\\u745e\\\\u661f\\\\u7375\\\\u624d\\\\u9867\\\\u554f \\\\u3011\\\\u62db\\\\u52df\\\\u5be6\\\\u7fd2\\\\u751f #\\\\u4eba\\\\u8cc7  #\\\\u9867\\\\u554f #\\\\u696d\\\\u52d9\",\"custNameRaw\":\"\\\\u745e\\\\u661f\\\\u7ba1\\\\u7406\\\\u9867\\\\u554f\\\\u80a1\\\\u4efd\\\\u6709\\\\u9650\\\\u516c\\\\u53f8\",\"lon\":\"121.5540532\",\"lat\":\"25.0416769\"},{\"jobNo\":\"12383515\",\"jobName\":\"\\\\u3010\\\\u517c\\\\u8077\\\\/\\\\u5be6\\\\u7fd2\\\\u3011\\\\u570b\\\\u5916\\\\u96f6\\\\u98df\\\\u958b\\\\u767c\\\\u63a1\\\\u8cfc\\\\u52a9\\\\u7406\",\"description\":\"\\\\u3010\\\\u5de5\\\\u4f5c\\\\u5167\\\\u5bb9\\\\u3011 1. \\\\u570b\\\\u5916\\\\u96f6\\\\u98df\\\\u958b\\\\u767c\\\\u8207\\\\u63a1\\\\u8cfc 2. \\\\u53c3\\\\u8207\\\\u5546\\\\u54c1\\\\u9032\\\\u53e3\\\\u7b49\\\\u8cbf\\\\u6613\\\\u6d41\\\\u7a0b 3. \\\\u5354...\",\"optionEdu\":\"\\\\u5b78\\\\u6b77\\\\u4e0d\\\\u62d8\",\"periodDesc\":\"\\\\u7d93\\\\u6b77\\\\u4e0d\\\\u62d8\",\"custNo\":\"130000000105068\",\"custName\":\"\\\\u6b6a\\\\u570b\\\\u96f6\\\\u98df\\\\u5634_\\\\u98df\\\\u5a1c\\\\u5ba2\\\\u570b\\\\u969b\\\\u958b\\\\u767c\\\\u80a1\\\\u4efd\\\\u6709\\\\u9650\\\\u516c\\\\u53f8\",\"salaryDesc\":\"\\\\u6642\\\\u85aa160\\\\u5143\\\\u4ee5\\\\u4e0a\",\"appearDateDesc\":\"11\\\\/25\",\"isSave\":\"0\",\"link\":{\"job\":\"\\\\/\\\\/www.104.com.tw\\\\/job\\\\/7df6j?jobsource=parttimesector\",\"cust\":\"\\\\/\\\\/www.104.com.tw\\\\/company\\\\/1a2x6bk8do?jobsource=parttimesector\"},\"jobNameRaw\":\"\\\\u3010\\\\u517c\\\\u8077\\\\/\\\\u5be6\\\\u7fd2\\\\u3011\\\\u570b\\\\u5916\\\\u96f6\\\\u98df\\\\u958b\\\\u767c\\\\u63a1\\\\u8cfc\\\\u52a9\\\\u7406\",\"custNameRaw\":\"\\\\u6b6a\\\\u570b\\\\u96f6\\\\u98df\\\\u5634_\\\\u98df\\\\u5a1c\\\\u5ba2\\\\u570b\\\\u969b\\\\u958b\\\\u767c\\\\u80a1\\\\u4efd\\\\u6709\\\\u9650\\\\u516c\\\\u53f8\",\"lon\":\"121.5597427\",\"lat\":\"24.9954644\"},{\"jobNo\":\"12228513\",\"jobName\":\"\\\\u665a\\\\u9593\\\\u9577\\\\u671f\\\\u96fb\\\\u8a2a\\\\u4eba\\\\u54e1(\\\\u7121\\\\u7d93\\\\u9a57\\\\u53ef\\\\uff0c\\\\u6295\\\\u905e\\\\u5c65\\\\u6b77\\\\u5f8c\\\\u53ef\\\\u76f4\\\\u63a5\\\\u96fb\\\\u6d3d)(\\\\u8abf\\\\u7814\\\\u90e8)\",\"description\":\"\\\\u60a8\\\\u9700\\\\u8981\\\\u4e00\\\\u4efd\\\\u589e\\\\u52a0\\\\u6536\\\\u5165\\\\u7684\\\\u517c\\\\u8077\\\\u5de5\\\\u4f5c\\\\u55ce? \\\\u6211\\\\u5011\\\\u7684\\\\u6392\\\\u73ed\\\\u5f48\\\\u6027\\\\uff0c\\\\u5de5\\\\u4f5c\\\\u74b0\\\\u5883\\\\u512a\\\\u7f8e\\\\uff0c \\\\u5de5\\\\u4f5c\\\\u578b\\\\u614b\\\\u4e0d\\\\u50cf...\",\"optionEdu\":\"\\\\u9ad8\\\\u4e2d\",\"periodDesc\":\"\\\\u7d93\\\\u6b77\\\\u4e0d\\\\u62d8\",\"custNo\":\"130000000169387\",\"custName\":\"\\\\u82f1\\\\u83f2\\\\u65af\\\\u7279\\\\u6578\\\\u4f4d\\\\u79d1\\\\u6280\\\\u80a1\\\\u4efd\\\\u6709\\\\u9650\\\\u516c\\\\u53f8\",\"salaryDesc\":\"\\\\u6642\\\\u85aa160~200\\\\u5143\",\"appearDateDesc\":\"12\\\\/17\",\"isSave\":\"0\",\"link\":{\"job\":\"\\\\/\\\\/www.104.com.tw\\\\/job\\\\/7a3kx?jobsource=parttimesector\",\"cust\":\"\\\\/\\\\/www.104.com.tw\\\\/company\\\\/1a2x6blm0b?jobsource=parttimesector\"},\"jobNameRaw\":\"\\\\u665a\\\\u9593\\\\u9577\\\\u671f\\\\u96fb\\\\u8a2a\\\\u4eba\\\\u54e1(\\\\u7121\\\\u7d93\\\\u9a57\\\\u53ef\\\\uff0c\\\\u6295\\\\u905e\\\\u5c65\\\\u6b77\\\\u5f8c\\\\u53ef\\\\u76f4\\\\u63a5\\\\u96fb\\\\u6d3d)(\\\\u8abf\\\\u7814\\\\u90e8)\",\"custNameRaw\":\"\\\\u82f1\\\\u83f2\\\\u65af\\\\u7279\\\\u6578\\\\u4f4d\\\\u79d1\\\\u6280\\\\u80a1\\\\u4efd\\\\u6709\\\\u9650\\\\u516c\\\\u53f8\",\"lon\":\"121.539971\",\"lat\":\"25.02752\"},{\"jobNo\":\"12474975\",\"jobName\":\"\\\\u54c1\\\\u724c\\\\u6982\\\\u5ff5\\\\u5e97 \\\\u2013 \\\\u6c7d\\\\u8eca\\\\u7522\\\\u54c1\\\\u5c08\\\\u5bb6 (\\\\u5b9a\\\\u671f\\\\u7d04\\\\u8058\\\\u4eba\\\\u54e1)\",\"description\":\"1.\\\\t\\\\u8ca0\\\\u8cac\\\\u54c1\\\\u724c\\\\u6982\\\\u5ff5\\\\u5e97\\\\u4e4b\\\\u71df\\\\u904b\\\\uff1a\\\\u6bcf\\\\u65e5\\\\u958b\\\\u3001\\\\u9589\\\\u5e97\\\\/ \\\\u975e\\\\u8eca\\\\u8f1b\\\\u4e4b\\\\u5546\\\\u54c1\\\\u92b7\\\\u552e\\\\/ \\\\u6574\\\\u6f54\\\\u7dad\\\\u8b77\\\\u2026\\\\u7b49 ...\",\"optionEdu\":\"\\\\u5927\\\\u5b78\",\"periodDesc\":\"1\\\\u5e74\\\\u4ee5\\\\u4e0a\",\"custNo\":\"13081618000\",\"custName\":\"\\\\u65e5\\\\u5546_\\\\u5149\\\\u6d0b\\\\u6ce2\\\\u65af\\\\u7279\\\\u570b\\\\u969b\\\\u5c55\\\\u89bd\\\\u80a1\\\\u4efd\\\\u6709\\\\u9650\\\\u516c\\\\u53f8\",\"salaryDesc\":\"\\\\u6708\\\\u85aa40,000~50,000\\\\u5143\",\"appearDateDesc\":\"12\\\\/17\",\"isSave\":\"0\",\"link\":{\"job\":\"\\\\/\\\\/www.104.com.tw\\\\/job\\\\/7fdr3?jobsource=parttimesector\",\"cust\":\"\\\\/\\\\/www.104.com.tw\\\\/company\\\\/60cgh1s?jobsource=parttimesector\"},\"jobNameRaw\":\"\\\\u54c1\\\\u724c\\\\u6982\\\\u5ff5\\\\u5e97 \\\\u2013 \\\\u6c7d\\\\u8eca\\\\u7522\\\\u54c1\\\\u5c08\\\\u5bb6 (\\\\u5b9a\\\\u671f\\\\u7d04\\\\u8058\\\\u4eba\\\\u54e1)\",\"custNameRaw\":\"\\\\u65e5\\\\u5546_\\\\u5149\\\\u6d0b\\\\u6ce2\\\\u65af\\\\u7279\\\\u570b\\\\u969b\\\\u5c55\\\\u89bd\\\\u80a1\\\\u4efd\\\\u6709\\\\u9650\\\\u516c\\\\u53f8\",\"lon\":\"121.5720055\",\"lat\":\"25.0409201\"},{\"jobNo\":\"12337602\",\"jobName\":\"\\\\u6703\\\\u8a08\\\\u5de5\\\\u8b80\",\"description\":\"1.\\\\u8f38\\\\u5165\\\\u5408\\\\u7d04\\\\u8cc7\\\\u6599\\\\u5165\\\\u7cfb\\\\u7d71\\\\uff0c\\\\u4e14\\\\u4e26\\\\u6574\\\\u7406\\\\u5927\\\\u91cf\\\\u5408\\\\u7d04\\\\u8cb7\\\\u53ca\\\\u8cbc\\\\u5370\\\\u82b1\\\\u7a05 2.\\\\u6536\\\\u96c6\\\\u4e26\\\\u6574\\\\u7406\\\\u4fdd\\\\u990a\\\\u55ae\\\\u4e26\\\\u6b78...\",\"optionEdu\":\"\\\\u5927\\\\u5b78\",\"periodDesc\":\"\\\\u7d93\\\\u6b77\\\\u4e0d\\\\u62d8\",\"custNo\":\"14070857001\",\"custName\":\"\\\\u53f0\\\\u7063\\\\u8482\\\\u5347\\\\u96fb\\\\u68af\\\\u80a1\\\\u4efd\\\\u6709\\\\u9650\\\\u516c\\\\u53f8\",\"salaryDesc\":\"\\\\u6642\\\\u85aa180\\\\u5143\",\"appearDateDesc\":\"12\\\\/15\",\"isSave\":\"0\",\"link\":{\"job\":\"\\\\/\\\\/www.104.com.tw\\\\/job\\\\/7cfr6?jobsource=parttimesector\",\"cust\":\"\\\\/\\\\/www.104.com.tw\\\\/company\\\\/6gpfaqx?jobsource=parttimesector\"},\"jobNameRaw\":\"\\\\u6703\\\\u8a08\\\\u5de5\\\\u8b80\",\"custNameRaw\":\"\\\\u53f0\\\\u7063\\\\u8482\\\\u5347\\\\u96fb\\\\u68af\\\\u80a1\\\\u4efd\\\\u6709\\\\u9650\\\\u516c\\\\u53f8\",\"lon\":\"121.5235295\",\"lat\":\"25.0491552\"},{\"jobNo\":\"11694000\",\"jobName\":\"\\\\u665a\\\\u73ed \\\\u517c\\\\u8077 \\\\u5de5\\\\u8b80\",\"description\":\"\\\\uff0e\\\\u98f2\\\\u54c1\\\\u88fd\\\\u4f5c\\\\u3001\\\\u5099\\\\u6599\\\\u53ca\\\\u716e\\\\u7c21\\\\u55ae\\\\u8336\\\\u98f2\\\\u548c\\\\u5546\\\\u54c1\\\\u92b7\\\\u552e\\\\u8aaa\\\\u660e \\\\uff0e\\\\u7d50\\\\u5e33\\\\u8207\\\\u6536\\\\u9280\\\\uff0c\\\\u5354\\\\u52a9\\\\u9867\\\\u5ba2\\\\u53d6\\\\u9910\\\\u53eb\\\\u865f \\\\uff0e...\",\"optionEdu\":\"\\\\u5b78\\\\u6b77\\\\u4e0d\\\\u62d8\",\"periodDesc\":\"\\\\u7d93\\\\u6b77\\\\u4e0d\\\\u62d8\",\"custNo\":\"130000000151369\",\"custName\":\"\\\\u8001\\\\u8cf4\\\\u8336\\\\u68e7\\\\u516c\\\\u9928\\\\u5e97_\\\\u5408\\\\u6f64\\\\u4f01\\\\u696d\\\\u793e\",\"salaryDesc\":\"\\\\u6642\\\\u85aa168\\\\u5143\\\\u4ee5\\\\u4e0a\",\"appearDateDesc\":\"12\\\\/20\",\"isSave\":\"0\",\"link\":{\"job\":\"\\\\/\\\\/www.104.com.tw\\\\/job\\\\/6yn5c?jobsource=parttimesector\",\"cust\":\"\\\\/\\\\/www.104.com.tw\\\\/company\\\\/1a2x6bl83t?jobsource=parttimesector\"},\"jobNameRaw\":\"\\\\u665a\\\\u73ed \\\\u517c\\\\u8077 \\\\u5de5\\\\u8b80\",\"custNameRaw\":\"\\\\u8001\\\\u8cf4\\\\u8336\\\\u68e7\\\\u516c\\\\u9928\\\\u5e97_\\\\u5408\\\\u6f64\\\\u4f01\\\\u696d\\\\u793e\",\"lon\":\"121.5061779\",\"lat\":\"25.0437272\"},{\"jobNo\":\"11595485\",\"jobName\":\"\\\\u8996\\\\u89ba\\\\u8a2d\\\\u8a08\\\\u5be6\\\\u7fd2\\\\u4eba\\\\u54e1\",\"description\":\"\\\\u7db2\\\\u8def\\\\u6642\\\\u4ee3\\\\uff0c\\\\u793e\\\\u7fa4\\\\u4e0d\\\\u6557\\\\uff01  \\\\u6293\\\\u4f4f\\\\u7db2\\\\u53cb\\\\u7684\\\\u95dc\\\\u9375\\\\u5c31\\\\u5728\\\\u5716\\\\u7247\\\\u8207\\\\u610f\\\\u8c61\\\\u7684\\\\u5448\\\\u73fe!  \\\\u6211\\\\u5011\\\\u5728\\\\u5c0b\\\\u627e\\\\u559c\\\\u6b61...\",\"optionEdu\":\"\\\\u5927\\\\u5b78\",\"periodDesc\":\"\\\\u7d93\\\\u6b77\\\\u4e0d\\\\u62d8\",\"custNo\":\"24470446000\",\"custName\":\"\\\\u5fb7\\\\u548c\\\\u6708\\\\u570b\\\\u969b\\\\u79d1\\\\u6280\\\\u80a1\\\\u4efd\\\\u6709\\\\u9650\\\\u516c\\\\u53f8\",\"salaryDesc\":\"\\\\u8ad6\\\\u4ef6\\\\u8a08\\\\u916c100~500\\\\u5143\",\"appearDateDesc\":\"12\\\\/03\",\"isSave\":\"0\",\"link\":{\"job\":\"\\\\/\\\\/www.104.com.tw\\\\/job\\\\/6wj4t?jobsource=parttimesector\",\"cust\":\"\\\\/\\\\/www.104.com.tw\\\\/company\\\\/b8p2kz4?jobsource=parttimesector\"},\"jobNameRaw\":\"\\\\u8996\\\\u89ba\\\\u8a2d\\\\u8a08\\\\u5be6\\\\u7fd2\\\\u4eba\\\\u54e1\",\"custNameRaw\":\"\\\\u5fb7\\\\u548c\\\\u6708\\\\u570b\\\\u969b\\\\u79d1\\\\u6280\\\\u80a1\\\\u4efd\\\\u6709\\\\u9650\\\\u516c\\\\u53f8\",\"lon\":\"121.5579077\",\"lat\":\"25.0333242\"},{\"jobNo\":\"11343715\",\"jobName\":\"\\\\u4fe1\\\\u7fa9\\\\u5e97($170\\\\u8d77\\\\u904e\\\\u8a66\\\\u7528$180)\\\\u3010MEAT LOVE \\\\u97d3\\\\u570b\\\\u70e4\\\\u8089\\\\u3011\\\\u5eda\\\\u52d9\\\\u52a9\\\\u624b\",\"description\":\"1.\\\\u6e05\\\\u6d17\\\\u98df\\\\u6750 2.\\\\u5c07\\\\u98df\\\\u6750\\\\u4f9d\\\\u7167\\\\u5eda\\\\u5e2b\\\\u8981\\\\u6c42\\\\u9032\\\\u884c\\\\u5207\\\\u7247\\\\u3001\\\\u5207\\\\u584a\\\\u6216\\\\u5207\\\\u672b\\\\u7b49\\\\u5099\\\\u6599\\\\u7684\\\\u5de5\\\\u4f5c 3.\\\\u7d44\\\\u5408...\",\"optionEdu\":\"\\\\u5b78\\\\u6b77\\\\u4e0d\\\\u62d8\",\"periodDesc\":\"\\\\u7d93\\\\u6b77\\\\u4e0d\\\\u62d8\",\"custNo\":\"130000000088997\",\"custName\":\"\\\\u5927\\\\u5708\\\\u97d3\\\\u98df\\\\u80a1\\\\u4efd\\\\u6709\\\\u9650\\\\u516c\\\\u53f8\",\"salaryDesc\":\"\\\\u6642\\\\u85aa170~210\\\\u5143\",\"appearDateDesc\":\"12\\\\/21\",\"isSave\":\"0\",\"link\":{\"job\":\"\\\\/\\\\/www.104.com.tw\\\\/job\\\\/6r4v7?jobsource=parttimesector\",\"cust\":\"\\\\/\\\\/www.104.com.tw\\\\/company\\\\/1a2x6bjvz9?jobsource=parttimesector\"},\"jobNameRaw\":\"\\\\u4fe1\\\\u7fa9\\\\u5e97($170\\\\u8d77\\\\u904e\\\\u8a66\\\\u7528$180)\\\\u3010MEAT LOVE \\\\u97d3\\\\u570b\\\\u70e4\\\\u8089\\\\u3011\\\\u5eda\\\\u52d9\\\\u52a9\\\\u624b\",\"custNameRaw\":\"\\\\u5927\\\\u5708\\\\u97d3\\\\u98df\\\\u80a1\\\\u4efd\\\\u6709\\\\u9650\\\\u516c\\\\u53f8\",\"lon\":\"121.5591628\",\"lat\":\"25.0328345\"},{\"jobNo\":\"9898944\",\"jobName\":\"\\\\u3010BigByte\\\\u6559\\\\u80b2\\\\u696d\\\\uff5c\\\\u5e36\\\\u85aa\\\\u5be6\\\\u7fd2\\\\u3011\\\\u8ab2\\\\u696d\\\\u966a\\\\u8b80\\\\u6559\\\\u7df4\\\\/Reading Coach\",\"description\":\"\\\\u300eBigByte\\\\u59cb\\\\u7d42\\\\u5728\\\\u70ba\\\\u672a\\\\u4f86\\\\u505a\\\\u6700\\\\u597d\\\\u7684\\\\u6e96\\\\u5099\\\\u300f \\\\u5f9e2020\\\\u958b\\\\u59cb\\\\u8d85\\\\u524d\\\\u90e8\\\\u7f72\\\\uff0c\\\\u5584\\\\u7528\\\\u7dda\\\\u4e0a\\\\u5b78...\",\"optionEdu\":\"\\\\u5c08\\\\u79d1\",\"periodDesc\":\"\\\\u7d93\\\\u6b77\\\\u4e0d\\\\u62d8\",\"custNo\":\"24453164000\",\"custName\":\"BigByte Education_\\\\u5927\\\\u6a39\\\\u570b\\\\u969b\\\\u6587\\\\u5316\\\\u4f01\\\\u696d\\\\u80a1\\\\u4efd\\\\u6709\\\\u9650\\\\u516c\\\\u53f8\",\"salaryDesc\":\"\\\\u6642\\\\u85aa160\\\\u5143\",\"appearDateDesc\":\"12\\\\/19\",\"isSave\":\"0\",\"link\":{\"job\":\"\\\\/\\\\/www.104.com.tw\\\\/job\\\\/5w62o?jobsource=parttimesector\",\"cust\":\"\\\\/\\\\/www.104.com.tw\\\\/company\\\\/b8es63k?jobsource=parttimesector\"},\"jobNameRaw\":\"\\\\u3010BigByte\\\\u6559\\\\u80b2\\\\u696d\\\\uff5c\\\\u5e36\\\\u85aa\\\\u5be6\\\\u7fd2\\\\u3011\\\\u8ab2\\\\u696d\\\\u966a\\\\u8b80\\\\u6559\\\\u7df4\\\\/Reading Coach\",\"custNameRaw\":\"BigByte Education_\\\\u5927\\\\u6a39\\\\u570b\\\\u969b\\\\u6587\\\\u5316\\\\u4f01\\\\u696d\\\\u80a1\\\\u4efd\\\\u6709\\\\u9650\\\\u516c\\\\u53f8\",\"lon\":\"121.534133\",\"lat\":\"25.028465\"},{\"jobNo\":\"7126896\",\"jobName\":\"H&amp;M \\\\u53f0\\\\u5317-\\\\u517c\\\\u8077\\\\u9580\\\\u5e02\\\\u92b7\\\\u552e\\\\u4eba\\\\u54e1\",\"description\":\"\\\\u5728\\\\u9019\\\\u88e1\\\\u6211\\\\u5011\\\\u6ce8\\\\u91cd\\\\u9867\\\\u5ba2\\\\u670d\\\\u52d9\\\\u3001\\\\u5145\\\\u6eff\\\\u71b1\\\\u60c5! \\\\u6e96\\\\u5099\\\\u597d\\\\u958b\\\\u59cb\\\\u9019\\\\u6a23\\\\u7684\\\\u8077\\\\u696d\\\\u751f\\\\u6daf\\\\u4e86\\\\u55ce!? \\\\u5728\\\\u9019\\\\u6a23\\\\u7684...\",\"optionEdu\":\"\\\\u9ad8\\\\u4e2d\",\"periodDesc\":\"\\\\u7d93\\\\u6b77\\\\u4e0d\\\\u62d8\",\"custNo\":\"130000000046219\",\"custName\":\"\\\\u8377\\\\u862d\\\\u5546\\\\u6d77\\\\u6069\\\\u65af\\\\u83ab\\\\u91cc\\\\u65af\\\\u6709\\\\u9650\\\\u516c\\\\u53f8\\\\u53f0\\\\u7063\\\\u5206\\\\u516c\\\\u53f8\",\"salaryDesc\":\"\\\\u6642\\\\u85aa160~170\\\\u5143\",\"appearDateDesc\":\"12\\\\/16\",\"isSave\":\"0\",\"link\":{\"job\":\"\\\\/\\\\/www.104.com.tw\\\\/job\\\\/48r5c?jobsource=parttimesector\",\"cust\":\"\\\\/\\\\/www.104.com.tw\\\\/company\\\\/1a2x6biyyz?jobsource=parttimesector\"},\"jobNameRaw\":\"H&M \\\\u53f0\\\\u5317-\\\\u517c\\\\u8077\\\\u9580\\\\u5e02\\\\u92b7\\\\u552e\\\\u4eba\\\\u54e1\",\"custNameRaw\":\"\\\\u8377\\\\u862d\\\\u5546\\\\u6d77\\\\u6069\\\\u65af\\\\u83ab\\\\u91cc\\\\u65af\\\\u6709\\\\u9650\\\\u516c\\\\u53f8\\\\u53f0\\\\u7063\\\\u5206\\\\u516c\\\\u53f8\",\"lon\":\"121.5720055\",\"lat\":\"25.0409201\"}],\"filterDesc\":{\"jobcat\":[],\"indcat\":[],\"area\":[],\"dep\":[],\"mrt\":[],\"excludeIndustryCat\":[],\"excludeCompanyByCustno\":[],\"recommendIndcat\":[{\"no\":\"1001000000\",\"des\":\"\\\\u96fb\\\\u5b50\\\\u8cc7\\\\u8a0a\\\\uff0f\\\\u8edf\\\\u9ad4\\\\uff0f\\\\u534a\\\\u5c0e\\\\u9ad4\\\\u76f8\\\\u95dc\\\\u696d\"},{\"no\":\"1002000000\",\"des\":\"\\\\u4e00\\\\u822c\\\\u88fd\\\\u9020\\\\u696d\"},{\"no\":\"1003000000\",\"des\":\"\\\\u6279\\\\u767c\\\\uff0f\\\\u96f6\\\\u552e\\\\uff0f\\\\u50b3\\\\u76f4\\\\u92b7\\\\u696d\"},{\"no\":\"1001001000\",\"des\":\"\\\\u8edf\\\\u9ad4\\\\u53ca\\\\u7db2\\\\u8def\\\\u76f8\\\\u95dc\\\\u696d\"},{\"no\":\"1007000000\",\"des\":\"\\\\u65c5\\\\u904a\\\\uff0f\\\\u4f11\\\\u9592\\\\uff0f\\\\u904b\\\\u52d5\\\\u696d\"}],\"indArea\":[],\"recommendMrt\":[{\"no\":\"99001001016\",\"des\":\"\\\\u897f\\\\u6e56\\\\u7ad9\"},{\"no\":\"99001005018\",\"des\":\"\\\\u5e02\\\\u653f\\\\u5e9c\\\\u7ad9\"},{\"no\":\"99001005019\",\"des\":\"\\\\u6c38\\\\u6625\\\\u7ad9\"},{\"no\":\"99001003017\",\"des\":\"\\\\u5357\\\\u4eac\\\\u5fa9\\\\u8208\\\\u7ad9\"},{\"no\":\"99001004008\",\"des\":\"\\\\u677e\\\\u6c5f\\\\u5357\\\\u4eac\\\\u7ad9\"},{\"no\":\"99001003019\",\"des\":\"\\\\u5357\\\\u4eac\\\\u4e09\\\\u6c11\\\\u7ad9\"}]}},\"statusMsg\":\"\\\\u6210\\\\u529f\",\"errorMsg\":\"\"}'"
      ]
     },
     "execution_count": 31,
     "metadata": {},
     "output_type": "execute_result"
    }
   ],
   "source": [
    "resp.text"
   ]
  },
  {
   "cell_type": "code",
   "execution_count": null,
   "metadata": {},
   "outputs": [],
   "source": [
    " "
   ]
  },
  {
   "cell_type": "code",
   "execution_count": 32,
   "metadata": {
    "ExecuteTime": {
     "end_time": "2021-12-21T08:22:44.154818Z",
     "start_time": "2021-12-21T08:22:44.140186Z"
    }
   },
   "outputs": [
    {
     "data": {
      "text/plain": [
       "250"
      ]
     },
     "execution_count": 32,
     "metadata": {},
     "output_type": "execute_result"
    }
   ],
   "source": [
    "import json\n",
    "data = json.loads(resp.text)\n",
    "len(data['data']['list'])"
   ]
  }
 ],
 "metadata": {
  "celltoolbar": "Slideshow",
  "kernelspec": {
   "display_name": "Python 3 (ipykernel)",
   "language": "python",
   "name": "python3"
  },
  "language_info": {
   "codemirror_mode": {
    "name": "ipython",
    "version": 3
   },
   "file_extension": ".py",
   "mimetype": "text/x-python",
   "name": "python",
   "nbconvert_exporter": "python",
   "pygments_lexer": "ipython3",
   "version": "3.10.6"
  },
  "toc": {
   "base_numbering": 1,
   "nav_menu": {},
   "number_sections": true,
   "sideBar": true,
   "skip_h1_title": false,
   "title_cell": "Table of Contents",
   "title_sidebar": "Contents",
   "toc_cell": false,
   "toc_position": {},
   "toc_section_display": true,
   "toc_window_display": false
  },
  "varInspector": {
   "cols": {
    "lenName": 16,
    "lenType": 16,
    "lenVar": 40
   },
   "kernels_config": {
    "python": {
     "delete_cmd_postfix": "",
     "delete_cmd_prefix": "del ",
     "library": "var_list.py",
     "varRefreshCmd": "print(var_dic_list())"
    },
    "r": {
     "delete_cmd_postfix": ") ",
     "delete_cmd_prefix": "rm(",
     "library": "var_list.r",
     "varRefreshCmd": "cat(var_dic_list()) "
    }
   },
   "types_to_exclude": [
    "module",
    "function",
    "builtin_function_or_method",
    "instance",
    "_Feature"
   ],
   "window_display": false
  }
 },
 "nbformat": 4,
 "nbformat_minor": 4
}
