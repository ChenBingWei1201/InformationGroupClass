<!DOCTYPE html>
<html>
  <head>
    <title>This is a title</title>
  </head>
  <body>
    <div>
      <p>Hello world!</p>
      <button>Button</button>
    </div>
    <div>
      <img src="https://www.python.org/static/img/python-logo@2x.png">
    </div>
  </body>
</html>
