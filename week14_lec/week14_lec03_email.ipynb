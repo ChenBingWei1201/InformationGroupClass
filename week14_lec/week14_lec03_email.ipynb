{
 "cells": [
  {
   "cell_type": "markdown",
   "metadata": {
    "slideshow": {
     "slide_type": "slide"
    }
   },
   "source": [
    "<p style=\"font-size: 3rem; font-weight: bold;\">NTUEE Computer Programming</p>\n",
    "\n",
    "# Week14 - Lec3. Dealing Email with python"
   ]
  },
  {
   "cell_type": "markdown",
   "metadata": {
    "slideshow": {
     "slide_type": "slide"
    }
   },
   "source": [
    "## Email Protocols\n",
    "\n",
    "- POP3: receive emails from one device. messages are downloaded locally and removed from the email server\n",
    "- IMAP: receive emails from many devices.\n",
    "- SMTP: send emails\n",
    "![](https://www.socketlabs.com/wp-content/uploads/2019/05/SMTP-IMAP-1.png)"
   ]
  },
  {
   "cell_type": "markdown",
   "metadata": {
    "slideshow": {
     "slide_type": "slide"
    }
   },
   "source": [
    "## POP3\n",
    "In computing, the Post Office Protocol (POP) is an application-layer Internet standard protocol used by e-mail clients to retrieve e-mail from a mail server.\n",
    "\n",
    "POP version 3 (POP3) is the version in common use.\n",
    "\n",
    "common port: 110, SSL: 995"
   ]
  },
  {
   "cell_type": "markdown",
   "metadata": {
    "slideshow": {
     "slide_type": "slide"
    }
   },
   "source": [
    "## IMAP\n",
    "IMAP was designed with the goal of permitting complete management of an email box by multiple email clients, therefore clients generally leave messages on the server until the user explicitly deletes them. An IMAP server typically listens on port number 143. IMAP over SSL (IMAPS) is assigned the port number 993.\n",
    "\n",
    "Virtually all modern e-mail clients and servers support IMAP, which along with the earlier POP3 (Post Office Protocol) are the two most prevalent standard protocols for email retrieval. Many webmail service providers such as Gmail, Outlook.com and Yahoo! Mail also provide support for both IMAP and POP3.\n",
    "\n",
    "common port: 143, SSL: 993"
   ]
  },
  {
   "cell_type": "markdown",
   "metadata": {
    "slideshow": {
     "slide_type": "slide"
    }
   },
   "source": [
    "## SMTP\n",
    "\n",
    "User-level email clients typically use SMTP only for sending messages to a mail server for relaying\n",
    "\n",
    "common port: 587 or 465\n",
    "\n",
    "```sh\n",
    "curl ipinfo.io/ip\n",
    "nc smtps.ntu.edu.tw 587\n",
    "EHLO <ip>\n",
    "```"
   ]
  },
  {
   "cell_type": "code",
   "execution_count": 1,
   "metadata": {
    "ExecuteTime": {
     "end_time": "2021-12-26T14:25:25.106402Z",
     "start_time": "2021-12-26T14:25:24.487796Z"
    },
    "slideshow": {
     "slide_type": "subslide"
    }
   },
   "outputs": [
    {
     "name": "stdout",
     "output_type": "stream",
     "text": [
      "zsh:1: permission denied: curl\n",
      "timeout: failed to run command ‘curl’: Permission denied\n"
     ]
    }
   ],
   "source": [
    "!IP=`curl -s ipinfo.io/ip`; timeout 0.3 curl 'gopher://smtps.ntu.edu.tw:587/_EHLO $IP'"
   ]
  },
  {
   "cell_type": "markdown",
   "metadata": {
    "slideshow": {
     "slide_type": "subslide"
    }
   },
   "source": [
    "https://docs.python.org/3/library/smtplib.html\n",
    "\n",
    "https://docs.python.org/3/library/email.examples.html\n",
    "\n",
    "NTU mail server: http://jsc.cc.ntu.edu.tw/ntucc/email/mailsoftwaresetup.html"
   ]
  },
  {
   "cell_type": "code",
   "execution_count": 8,
   "metadata": {
    "ExecuteTime": {
     "end_time": "2021-12-26T14:25:56.468426Z",
     "start_time": "2021-12-26T14:25:56.461896Z"
    }
   },
   "outputs": [],
   "source": [
    "import email, getpass\n",
    "from email.header import decode_header, make_header\n",
    "from email.message import EmailMessage\n",
    "from smtplib import SMTP\n",
    "NTU_SMTP = 'smtps.ntu.edu.tw'"
   ]
  },
  {
   "cell_type": "code",
   "execution_count": 9,
   "metadata": {
    "ExecuteTime": {
     "end_time": "2021-12-26T14:26:08.735343Z",
     "start_time": "2021-12-26T14:25:59.287935Z"
    },
    "slideshow": {
     "slide_type": "subslide"
    }
   },
   "outputs": [
    {
     "ename": "KeyboardInterrupt",
     "evalue": "",
     "output_type": "error",
     "traceback": [
      "\u001b[0;31m---------------------------------------------------------------------------\u001b[0m",
      "\u001b[0;31mKeyboardInterrupt\u001b[0m                         Traceback (most recent call last)",
      "\u001b[0;32m/tmp/ipykernel_11627/1343487232.py\u001b[0m in \u001b[0;36m<module>\u001b[0;34m\u001b[0m\n\u001b[0;32m----> 1\u001b[0;31m \u001b[0;32mwith\u001b[0m \u001b[0mSMTP\u001b[0m\u001b[0;34m(\u001b[0m\u001b[0mNTU_SMTP\u001b[0m\u001b[0;34m,\u001b[0m \u001b[0;36m587\u001b[0m\u001b[0;34m)\u001b[0m \u001b[0;32mas\u001b[0m \u001b[0msmtp\u001b[0m\u001b[0;34m:\u001b[0m\u001b[0;34m\u001b[0m\u001b[0;34m\u001b[0m\u001b[0m\n\u001b[0m\u001b[1;32m      2\u001b[0m     \u001b[0mehlo_resp\u001b[0m \u001b[0;34m=\u001b[0m \u001b[0msmtp\u001b[0m\u001b[0;34m.\u001b[0m\u001b[0mehlo\u001b[0m\u001b[0;34m(\u001b[0m\u001b[0;34m)\u001b[0m\u001b[0;34m\u001b[0m\u001b[0;34m\u001b[0m\u001b[0m\n\u001b[1;32m      3\u001b[0m     \u001b[0mprint\u001b[0m\u001b[0;34m(\u001b[0m\u001b[0mehlo_resp\u001b[0m\u001b[0;34m)\u001b[0m\u001b[0;34m\u001b[0m\u001b[0;34m\u001b[0m\u001b[0m\n\u001b[1;32m      4\u001b[0m     \u001b[0mprint\u001b[0m\u001b[0;34m(\u001b[0m\u001b[0mehlo_resp\u001b[0m\u001b[0;34m[\u001b[0m\u001b[0;36m1\u001b[0m\u001b[0;34m]\u001b[0m\u001b[0;34m.\u001b[0m\u001b[0mdecode\u001b[0m\u001b[0;34m(\u001b[0m\u001b[0;34m'ascii'\u001b[0m\u001b[0;34m)\u001b[0m\u001b[0;34m)\u001b[0m\u001b[0;34m\u001b[0m\u001b[0;34m\u001b[0m\u001b[0m\n",
      "\u001b[0;32m/usr/lib/python3.8/smtplib.py\u001b[0m in \u001b[0;36m__init__\u001b[0;34m(self, host, port, local_hostname, timeout, source_address)\u001b[0m\n\u001b[1;32m    253\u001b[0m \u001b[0;34m\u001b[0m\u001b[0m\n\u001b[1;32m    254\u001b[0m         \u001b[0;32mif\u001b[0m \u001b[0mhost\u001b[0m\u001b[0;34m:\u001b[0m\u001b[0;34m\u001b[0m\u001b[0;34m\u001b[0m\u001b[0m\n\u001b[0;32m--> 255\u001b[0;31m             \u001b[0;34m(\u001b[0m\u001b[0mcode\u001b[0m\u001b[0;34m,\u001b[0m \u001b[0mmsg\u001b[0m\u001b[0;34m)\u001b[0m \u001b[0;34m=\u001b[0m \u001b[0mself\u001b[0m\u001b[0;34m.\u001b[0m\u001b[0mconnect\u001b[0m\u001b[0;34m(\u001b[0m\u001b[0mhost\u001b[0m\u001b[0;34m,\u001b[0m \u001b[0mport\u001b[0m\u001b[0;34m)\u001b[0m\u001b[0;34m\u001b[0m\u001b[0;34m\u001b[0m\u001b[0m\n\u001b[0m\u001b[1;32m    256\u001b[0m             \u001b[0;32mif\u001b[0m \u001b[0mcode\u001b[0m \u001b[0;34m!=\u001b[0m \u001b[0;36m220\u001b[0m\u001b[0;34m:\u001b[0m\u001b[0;34m\u001b[0m\u001b[0;34m\u001b[0m\u001b[0m\n\u001b[1;32m    257\u001b[0m                 \u001b[0mself\u001b[0m\u001b[0;34m.\u001b[0m\u001b[0mclose\u001b[0m\u001b[0;34m(\u001b[0m\u001b[0;34m)\u001b[0m\u001b[0;34m\u001b[0m\u001b[0;34m\u001b[0m\u001b[0m\n",
      "\u001b[0;32m/usr/lib/python3.8/smtplib.py\u001b[0m in \u001b[0;36mconnect\u001b[0;34m(self, host, port, source_address)\u001b[0m\n\u001b[1;32m    337\u001b[0m             \u001b[0mport\u001b[0m \u001b[0;34m=\u001b[0m \u001b[0mself\u001b[0m\u001b[0;34m.\u001b[0m\u001b[0mdefault_port\u001b[0m\u001b[0;34m\u001b[0m\u001b[0;34m\u001b[0m\u001b[0m\n\u001b[1;32m    338\u001b[0m         \u001b[0msys\u001b[0m\u001b[0;34m.\u001b[0m\u001b[0maudit\u001b[0m\u001b[0;34m(\u001b[0m\u001b[0;34m\"smtplib.connect\"\u001b[0m\u001b[0;34m,\u001b[0m \u001b[0mself\u001b[0m\u001b[0;34m,\u001b[0m \u001b[0mhost\u001b[0m\u001b[0;34m,\u001b[0m \u001b[0mport\u001b[0m\u001b[0;34m)\u001b[0m\u001b[0;34m\u001b[0m\u001b[0;34m\u001b[0m\u001b[0m\n\u001b[0;32m--> 339\u001b[0;31m         \u001b[0mself\u001b[0m\u001b[0;34m.\u001b[0m\u001b[0msock\u001b[0m \u001b[0;34m=\u001b[0m \u001b[0mself\u001b[0m\u001b[0;34m.\u001b[0m\u001b[0m_get_socket\u001b[0m\u001b[0;34m(\u001b[0m\u001b[0mhost\u001b[0m\u001b[0;34m,\u001b[0m \u001b[0mport\u001b[0m\u001b[0;34m,\u001b[0m \u001b[0mself\u001b[0m\u001b[0;34m.\u001b[0m\u001b[0mtimeout\u001b[0m\u001b[0;34m)\u001b[0m\u001b[0;34m\u001b[0m\u001b[0;34m\u001b[0m\u001b[0m\n\u001b[0m\u001b[1;32m    340\u001b[0m         \u001b[0mself\u001b[0m\u001b[0;34m.\u001b[0m\u001b[0mfile\u001b[0m \u001b[0;34m=\u001b[0m \u001b[0;32mNone\u001b[0m\u001b[0;34m\u001b[0m\u001b[0;34m\u001b[0m\u001b[0m\n\u001b[1;32m    341\u001b[0m         \u001b[0;34m(\u001b[0m\u001b[0mcode\u001b[0m\u001b[0;34m,\u001b[0m \u001b[0mmsg\u001b[0m\u001b[0;34m)\u001b[0m \u001b[0;34m=\u001b[0m \u001b[0mself\u001b[0m\u001b[0;34m.\u001b[0m\u001b[0mgetreply\u001b[0m\u001b[0;34m(\u001b[0m\u001b[0;34m)\u001b[0m\u001b[0;34m\u001b[0m\u001b[0;34m\u001b[0m\u001b[0m\n",
      "\u001b[0;32m/usr/lib/python3.8/smtplib.py\u001b[0m in \u001b[0;36m_get_socket\u001b[0;34m(self, host, port, timeout)\u001b[0m\n\u001b[1;32m    308\u001b[0m         \u001b[0;32mif\u001b[0m \u001b[0mself\u001b[0m\u001b[0;34m.\u001b[0m\u001b[0mdebuglevel\u001b[0m \u001b[0;34m>\u001b[0m \u001b[0;36m0\u001b[0m\u001b[0;34m:\u001b[0m\u001b[0;34m\u001b[0m\u001b[0;34m\u001b[0m\u001b[0m\n\u001b[1;32m    309\u001b[0m             \u001b[0mself\u001b[0m\u001b[0;34m.\u001b[0m\u001b[0m_print_debug\u001b[0m\u001b[0;34m(\u001b[0m\u001b[0;34m'connect: to'\u001b[0m\u001b[0;34m,\u001b[0m \u001b[0;34m(\u001b[0m\u001b[0mhost\u001b[0m\u001b[0;34m,\u001b[0m \u001b[0mport\u001b[0m\u001b[0;34m)\u001b[0m\u001b[0;34m,\u001b[0m \u001b[0mself\u001b[0m\u001b[0;34m.\u001b[0m\u001b[0msource_address\u001b[0m\u001b[0;34m)\u001b[0m\u001b[0;34m\u001b[0m\u001b[0;34m\u001b[0m\u001b[0m\n\u001b[0;32m--> 310\u001b[0;31m         return socket.create_connection((host, port), timeout,\n\u001b[0m\u001b[1;32m    311\u001b[0m                                         self.source_address)\n\u001b[1;32m    312\u001b[0m \u001b[0;34m\u001b[0m\u001b[0m\n",
      "\u001b[0;32m/usr/lib/python3.8/socket.py\u001b[0m in \u001b[0;36mcreate_connection\u001b[0;34m(address, timeout, source_address)\u001b[0m\n\u001b[1;32m    794\u001b[0m             \u001b[0;32mif\u001b[0m \u001b[0msource_address\u001b[0m\u001b[0;34m:\u001b[0m\u001b[0;34m\u001b[0m\u001b[0;34m\u001b[0m\u001b[0m\n\u001b[1;32m    795\u001b[0m                 \u001b[0msock\u001b[0m\u001b[0;34m.\u001b[0m\u001b[0mbind\u001b[0m\u001b[0;34m(\u001b[0m\u001b[0msource_address\u001b[0m\u001b[0;34m)\u001b[0m\u001b[0;34m\u001b[0m\u001b[0;34m\u001b[0m\u001b[0m\n\u001b[0;32m--> 796\u001b[0;31m             \u001b[0msock\u001b[0m\u001b[0;34m.\u001b[0m\u001b[0mconnect\u001b[0m\u001b[0;34m(\u001b[0m\u001b[0msa\u001b[0m\u001b[0;34m)\u001b[0m\u001b[0;34m\u001b[0m\u001b[0;34m\u001b[0m\u001b[0m\n\u001b[0m\u001b[1;32m    797\u001b[0m             \u001b[0;31m# Break explicitly a reference cycle\u001b[0m\u001b[0;34m\u001b[0m\u001b[0;34m\u001b[0m\u001b[0;34m\u001b[0m\u001b[0m\n\u001b[1;32m    798\u001b[0m             \u001b[0merr\u001b[0m \u001b[0;34m=\u001b[0m \u001b[0;32mNone\u001b[0m\u001b[0;34m\u001b[0m\u001b[0;34m\u001b[0m\u001b[0m\n",
      "\u001b[0;31mKeyboardInterrupt\u001b[0m: "
     ]
    }
   ],
   "source": [
    "with SMTP(NTU_SMTP, 587) as smtp:\n",
    "    ehlo_resp = smtp.ehlo()\n",
    "    print(ehlo_resp)\n",
    "    print(ehlo_resp[1].decode('ascii'))"
   ]
  },
  {
   "cell_type": "code",
   "execution_count": null,
   "metadata": {
    "ExecuteTime": {
     "start_time": "2021-12-26T14:33:36.927Z"
    },
    "slideshow": {
     "slide_type": "subslide"
    }
   },
   "outputs": [],
   "source": [
    "with SMTP(NTU_SMTP) as smtp:\n",
    "    # a connection is required before login and sendemail.\n",
    "    # https://stackoverflow.com/questions/37224073/smtp-auth-extension-not-supported-by-server\n",
    "    smtp.connect(NTU_SMTP, 587)\n",
    "    smtp.ehlo()\n",
    "    resp = smtp.starttls()\n",
    "    print(resp)\n",
    "    if resp[0] == 220:\n",
    "        ntu_id = input('NTU Student ID: ')\n",
    "        ntu_id = ntu_id.rstrip('@ntu.edu.tw')\n",
    "        smtp.login(ntu_id, getpass.getpass('Password: '))\n",
    "        to_email = input('Send To: ')\n",
    "        subject = input('Subject: ')\n",
    "        content = input('Content: ')\n",
    "        msg = EmailMessage()\n",
    "        custom_from = input('自訂寄信者名稱? (y/N) ')[:1].lower() == 'y'\n",
    "        if custom_from:\n",
    "            msg['From'] = input('Name <user@mail>\\n')\n",
    "        else:\n",
    "            msg['From'] = ntu_id + '@ntu.edu.tw'\n",
    "        msg['To'] = to_email\n",
    "        msg['Subject'] = subject\n",
    "        msg.set_content(content)\n",
    "        smtp.send_message(msg)"
   ]
  },
  {
   "cell_type": "code",
   "execution_count": 10,
   "metadata": {
    "ExecuteTime": {
     "end_time": "2020-09-11T18:01:39.996391Z",
     "start_time": "2020-09-11T18:01:39.338629Z"
    },
    "slideshow": {
     "slide_type": "subslide"
    }
   },
   "outputs": [
    {
     "data": {
      "text/plain": [
       "[{'date': '9/12', 'high': 32, 'low': 26, 'rain': 59},\n",
       " {'date': '9/13', 'high': 33, 'low': 26, 'rain': 50},\n",
       " {'date': '9/14', 'high': 34, 'low': 26, 'rain': 61},\n",
       " {'date': '9/15', 'high': 34, 'low': 26, 'rain': 42},\n",
       " {'date': '9/16', 'high': 34, 'low': 27, 'rain': 25},\n",
       " {'date': '9/17', 'high': 35, 'low': 27, 'rain': 43},\n",
       " {'date': '9/18', 'high': 35, 'low': 26, 'rain': 63},\n",
       " {'date': '9/19', 'high': 33, 'low': 26, 'rain': 56},\n",
       " {'date': '9/20', 'high': 32, 'low': 26, 'rain': 40},\n",
       " {'date': '9/21', 'high': 32, 'low': 26, 'rain': 69},\n",
       " {'date': '9/22', 'high': 32, 'low': 26, 'rain': 64},\n",
       " {'date': '9/23', 'high': 31, 'low': 25, 'rain': 64}]"
      ]
     },
     "execution_count": 10,
     "metadata": {},
     "output_type": "execute_result"
    }
   ],
   "source": [
    "import myweatherlib\n",
    "daily = myweatherlib.get_daily()\n",
    "daily"
   ]
  },
  {
   "cell_type": "code",
   "execution_count": 11,
   "metadata": {
    "ExecuteTime": {
     "end_time": "2020-09-11T18:02:02.073562Z",
     "start_time": "2020-09-11T18:01:40.529293Z"
    },
    "slideshow": {
     "slide_type": "subslide"
    }
   },
   "outputs": [
    {
     "name": "stdout",
     "output_type": "stream",
     "text": [
      "(220, b'2.0.0 Ready to start TLS')\n",
      "NTU Student ID (without @ntu.edu.tw): b04501002@ntu.edu.tw\n",
      "Password: ········\n",
      "Send To: b04501002@ntu.edu.tw\n"
     ]
    }
   ],
   "source": [
    "with SMTP(NTU_SMTP) as smtp:\n",
    "    # a connection is required before login and sendemail.\n",
    "    # https://stackoverflow.com/questions/37224073/smtp-auth-extension-not-supported-by-server\n",
    "    smtp.connect(NTU_SMTP, 587)\n",
    "    smtp.ehlo()\n",
    "    resp = smtp.starttls()\n",
    "    print(resp)\n",
    "    if resp[0] == 220:\n",
    "        ntu_id = input('NTU Student ID: ')\n",
    "        ntu_id = ntu_id.rstrip('@ntu.edu.tw')\n",
    "        smtp.login(ntu_id, getpass.getpass('Password: '))\n",
    "        to_email = input('Send To: ')\n",
    "        # subject = input('Subject: ')\n",
    "        # content = input('Content: ')\n",
    "        subject = '明天天氣預報'\n",
    "        content = '下雨機率高於 50 %，記得帶傘~~' if daily[1]['rain'] >= 50 else '下雨機率小於 50 %，開勳~~'\n",
    "        msg = EmailMessage()\n",
    "        # custom_from = input('自訂寄信者名稱? (y/N) ')[:1].lower() == 'y'\n",
    "        custom_from = False\n",
    "        if custom_from:\n",
    "            msg['From'] = input('Name <user@mail>\\n')\n",
    "        else:\n",
    "            msg['From'] = ntu_id + '@ntu.edu.tw'\n",
    "        msg['To'] = to_email\n",
    "        msg['Subject'] = subject\n",
    "        msg.set_content(content)\n",
    "        smtp.send_message(msg)"
   ]
  },
  {
   "cell_type": "markdown",
   "metadata": {
    "slideshow": {
     "slide_type": "subslide"
    }
   },
   "source": [
    "### <span style=\"color:red\">Exercise1:</span> send yourself an email of weather report for next 5 days.\n",
    "when should you bring an umbrella? is it too cold or hot?\n"
   ]
  },
  {
   "cell_type": "code",
   "execution_count": null,
   "metadata": {},
   "outputs": [],
   "source": []
  }
 ],
 "metadata": {
  "celltoolbar": "Slideshow",
  "kernelspec": {
   "display_name": "Python 3 (ipykernel)",
   "language": "python",
   "name": "python3"
  },
  "language_info": {
   "codemirror_mode": {
    "name": "ipython",
    "version": 3
   },
   "file_extension": ".py",
   "mimetype": "text/x-python",
   "name": "python",
   "nbconvert_exporter": "python",
   "pygments_lexer": "ipython3",
   "version": "3.10.6"
  },
  "toc": {
   "base_numbering": 1,
   "nav_menu": {},
   "number_sections": true,
   "sideBar": true,
   "skip_h1_title": false,
   "title_cell": "Table of Contents",
   "title_sidebar": "Contents",
   "toc_cell": false,
   "toc_position": {},
   "toc_section_display": true,
   "toc_window_display": false
  },
  "varInspector": {
   "cols": {
    "lenName": 16,
    "lenType": 16,
    "lenVar": 40
   },
   "kernels_config": {
    "python": {
     "delete_cmd_postfix": "",
     "delete_cmd_prefix": "del ",
     "library": "var_list.py",
     "varRefreshCmd": "print(var_dic_list())"
    },
    "r": {
     "delete_cmd_postfix": ") ",
     "delete_cmd_prefix": "rm(",
     "library": "var_list.r",
     "varRefreshCmd": "cat(var_dic_list()) "
    }
   },
   "types_to_exclude": [
    "module",
    "function",
    "builtin_function_or_method",
    "instance",
    "_Feature"
   ],
   "window_display": false
  }
 },
 "nbformat": 4,
 "nbformat_minor": 4
}
